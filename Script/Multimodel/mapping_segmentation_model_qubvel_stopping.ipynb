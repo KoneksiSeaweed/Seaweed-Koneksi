{
 "cells": [
  {
   "cell_type": "code",
   "execution_count": null,
   "metadata": {},
   "outputs": [
    {
     "name": "stdout",
     "output_type": "stream",
     "text": [
      "[INFO] training using cuda ...\n"
     ]
    }
   ],
   "source": [
    "import torch\n",
    "import torch.nn as nn\n",
    "import torch.optim as optim\n",
    "import torchvision\n",
    "from torchvision import datasets, transforms\n",
    "from torch.nn.modules.loss import BCEWithLogitsLoss, BCELoss\n",
    "import rasterio\n",
    "import numpy as np\n",
    "import matplotlib\n",
    "import os\n",
    "import glob\n",
    "import matplotlib.pyplot as plt\n",
    "import cv2\n",
    "from IPython.core.pylabtools import figsize\n",
    "from Model.load_data import CustomGeoDataset\n",
    "from Model.unet import unet\n",
    "import segmentation_models_pytorch as smp\n",
    "\n",
    "DEVICE = 'cuda' if torch.cuda.is_available() else 'cpu'\n",
    "#DEVICE = 'cpu'\n",
    "print(\"[INFO] training using {} ...\".format(DEVICE))"
   ]
  },
  {
   "cell_type": "code",
   "execution_count": 3,
   "metadata": {},
   "outputs": [
    {
     "name": "stdout",
     "output_type": "stream",
     "text": [
      "2457\n",
      "2457\n"
     ]
    }
   ],
   "source": [
    "Image_Drive = \"./Data/train/images\"\n",
    "Label_Drive = \"./Data/train/labels\"\n",
    "\n",
    "#augmented data\n",
    "#Image_aug = \"./Data/Transformed_images\"\n",
    "#Label_aug = \"./Data/Transformed_labels\"\n",
    "\n",
    "image_path = glob.glob(os.path.join(Image_Drive, \"*.tif\"))\n",
    "label_path = glob.glob(os.path.join(Label_Drive, \"*.tif\"))\n",
    "\n",
    "\n",
    "image_size = len(image_path)\n",
    "label_size = len(label_path)\n",
    "\n",
    "print(image_size)\n",
    "print(label_size)"
   ]
  },
  {
   "cell_type": "markdown",
   "metadata": {},
   "source": [
    "aug_image_path = glob.glob(os.path.join(Image_aug, \"*.tif\"))\n",
    "aug_label_path = glob.glob(os.path.join(Label_aug, \"*.tif\"))\n",
    "\n",
    "image_path = image_path + aug_image_path\n",
    "label_path = label_path + aug_label_path\n",
    "\n",
    "image_size = len(image_path)\n",
    "label_size = len(label_path)\n",
    "\n",
    "print(image_size)\n",
    "print(label_size)"
   ]
  },
  {
   "cell_type": "code",
   "execution_count": 4,
   "metadata": {},
   "outputs": [
    {
     "name": "stdout",
     "output_type": "stream",
     "text": [
      "2457\n",
      "246\n",
      "62\n"
     ]
    }
   ],
   "source": [
    "# Instantiate the custom dataset with transformations\n",
    "train_data = CustomGeoDataset(image_path, label_path)\n",
    "print(len(train_data))\n",
    "\n",
    "split_size = 0.80\n",
    "train_size = int(split_size * len(train_data))\n",
    "test_size = len(train_data) - train_size\n",
    "train_data, test_data = torch.utils.data.random_split(train_data, [train_size, test_size])\n",
    "\n",
    "#dataloader\n",
    "trainloader = torch.utils.data.DataLoader(train_data, shuffle = True, batch_size=8)\n",
    "testloader = torch.utils.data.DataLoader(test_data, shuffle = True, batch_size=8)\n",
    "\n",
    "print(len(trainloader))\n",
    "print(len(testloader))"
   ]
  },
  {
   "cell_type": "code",
   "execution_count": 5,
   "metadata": {},
   "outputs": [],
   "source": [
    "def make_train_step(model, optimizer, loss_fn):\n",
    "    def train_step(x, y):\n",
    "        # Ensure x has the correct shape\n",
    "        if x.dim() == 3:\n",
    "            x = x.unsqueeze(1)  # Add channel dimension\n",
    "        \n",
    "        # Make prediction\n",
    "        yhat = model(x)\n",
    "        # Enter train mode\n",
    "        model.train()\n",
    "        # Compute loss\n",
    "        loss = loss_fn(yhat, y)\n",
    "\n",
    "        loss.backward()\n",
    "        optimizer.step()\n",
    "        optimizer.zero_grad()\n",
    "\n",
    "        return loss\n",
    "    return train_step"
   ]
  },
  {
   "cell_type": "code",
   "execution_count": null,
   "metadata": {},
   "outputs": [
    {
     "name": "stdout",
     "output_type": "stream",
     "text": [
      "UnetPlusPlus(\n",
      "  (encoder): EfficientNetEncoder(\n",
      "    (_conv_stem): Conv2dStaticSamePadding(\n",
      "      4, 48, kernel_size=(3, 3), stride=(2, 2), bias=False\n",
      "      (static_padding): ZeroPad2d((0, 1, 0, 1))\n",
      "    )\n",
      "    (_bn0): BatchNorm2d(48, eps=0.001, momentum=0.010000000000000009, affine=True, track_running_stats=True)\n",
      "    (_blocks): ModuleList(\n",
      "      (0): MBConvBlock(\n",
      "        (_depthwise_conv): Conv2dStaticSamePadding(\n",
      "          48, 48, kernel_size=(3, 3), stride=[1, 1], groups=48, bias=False\n",
      "          (static_padding): ZeroPad2d((1, 1, 1, 1))\n",
      "        )\n",
      "        (_bn1): BatchNorm2d(48, eps=0.001, momentum=0.010000000000000009, affine=True, track_running_stats=True)\n",
      "        (_se_reduce): Conv2dStaticSamePadding(\n",
      "          48, 12, kernel_size=(1, 1), stride=(1, 1)\n",
      "          (static_padding): Identity()\n",
      "        )\n",
      "        (_se_expand): Conv2dStaticSamePadding(\n",
      "          12, 48, kernel_size=(1, 1), stride=(1, 1)\n",
      "          (static_padding): Identity()\n",
      "        )\n",
      "        (_project_conv): Conv2dStaticSamePadding(\n",
      "          48, 24, kernel_size=(1, 1), stride=(1, 1), bias=False\n",
      "          (static_padding): Identity()\n",
      "        )\n",
      "        (_bn2): BatchNorm2d(24, eps=0.001, momentum=0.010000000000000009, affine=True, track_running_stats=True)\n",
      "        (_swish): MemoryEfficientSwish()\n",
      "      )\n",
      "      (1): MBConvBlock(\n",
      "        (_depthwise_conv): Conv2dStaticSamePadding(\n",
      "          24, 24, kernel_size=(3, 3), stride=(1, 1), groups=24, bias=False\n",
      "          (static_padding): ZeroPad2d((1, 1, 1, 1))\n",
      "        )\n",
      "        (_bn1): BatchNorm2d(24, eps=0.001, momentum=0.010000000000000009, affine=True, track_running_stats=True)\n",
      "        (_se_reduce): Conv2dStaticSamePadding(\n",
      "          24, 6, kernel_size=(1, 1), stride=(1, 1)\n",
      "          (static_padding): Identity()\n",
      "        )\n",
      "        (_se_expand): Conv2dStaticSamePadding(\n",
      "          6, 24, kernel_size=(1, 1), stride=(1, 1)\n",
      "          (static_padding): Identity()\n",
      "        )\n",
      "        (_project_conv): Conv2dStaticSamePadding(\n",
      "          24, 24, kernel_size=(1, 1), stride=(1, 1), bias=False\n",
      "          (static_padding): Identity()\n",
      "        )\n",
      "        (_bn2): BatchNorm2d(24, eps=0.001, momentum=0.010000000000000009, affine=True, track_running_stats=True)\n",
      "        (_swish): MemoryEfficientSwish()\n",
      "      )\n",
      "      (2): MBConvBlock(\n",
      "        (_expand_conv): Conv2dStaticSamePadding(\n",
      "          24, 144, kernel_size=(1, 1), stride=(1, 1), bias=False\n",
      "          (static_padding): Identity()\n",
      "        )\n",
      "        (_bn0): BatchNorm2d(144, eps=0.001, momentum=0.010000000000000009, affine=True, track_running_stats=True)\n",
      "        (_depthwise_conv): Conv2dStaticSamePadding(\n",
      "          144, 144, kernel_size=(3, 3), stride=[2, 2], groups=144, bias=False\n",
      "          (static_padding): ZeroPad2d((0, 1, 0, 1))\n",
      "        )\n",
      "        (_bn1): BatchNorm2d(144, eps=0.001, momentum=0.010000000000000009, affine=True, track_running_stats=True)\n",
      "        (_se_reduce): Conv2dStaticSamePadding(\n",
      "          144, 6, kernel_size=(1, 1), stride=(1, 1)\n",
      "          (static_padding): Identity()\n",
      "        )\n",
      "        (_se_expand): Conv2dStaticSamePadding(\n",
      "          6, 144, kernel_size=(1, 1), stride=(1, 1)\n",
      "          (static_padding): Identity()\n",
      "        )\n",
      "        (_project_conv): Conv2dStaticSamePadding(\n",
      "          144, 32, kernel_size=(1, 1), stride=(1, 1), bias=False\n",
      "          (static_padding): Identity()\n",
      "        )\n",
      "        (_bn2): BatchNorm2d(32, eps=0.001, momentum=0.010000000000000009, affine=True, track_running_stats=True)\n",
      "        (_swish): MemoryEfficientSwish()\n",
      "      )\n",
      "      (3-5): 3 x MBConvBlock(\n",
      "        (_expand_conv): Conv2dStaticSamePadding(\n",
      "          32, 192, kernel_size=(1, 1), stride=(1, 1), bias=False\n",
      "          (static_padding): Identity()\n",
      "        )\n",
      "        (_bn0): BatchNorm2d(192, eps=0.001, momentum=0.010000000000000009, affine=True, track_running_stats=True)\n",
      "        (_depthwise_conv): Conv2dStaticSamePadding(\n",
      "          192, 192, kernel_size=(3, 3), stride=(1, 1), groups=192, bias=False\n",
      "          (static_padding): ZeroPad2d((1, 1, 1, 1))\n",
      "        )\n",
      "        (_bn1): BatchNorm2d(192, eps=0.001, momentum=0.010000000000000009, affine=True, track_running_stats=True)\n",
      "        (_se_reduce): Conv2dStaticSamePadding(\n",
      "          192, 8, kernel_size=(1, 1), stride=(1, 1)\n",
      "          (static_padding): Identity()\n",
      "        )\n",
      "        (_se_expand): Conv2dStaticSamePadding(\n",
      "          8, 192, kernel_size=(1, 1), stride=(1, 1)\n",
      "          (static_padding): Identity()\n",
      "        )\n",
      "        (_project_conv): Conv2dStaticSamePadding(\n",
      "          192, 32, kernel_size=(1, 1), stride=(1, 1), bias=False\n",
      "          (static_padding): Identity()\n",
      "        )\n",
      "        (_bn2): BatchNorm2d(32, eps=0.001, momentum=0.010000000000000009, affine=True, track_running_stats=True)\n",
      "        (_swish): MemoryEfficientSwish()\n",
      "      )\n",
      "      (6): MBConvBlock(\n",
      "        (_expand_conv): Conv2dStaticSamePadding(\n",
      "          32, 192, kernel_size=(1, 1), stride=(1, 1), bias=False\n",
      "          (static_padding): Identity()\n",
      "        )\n",
      "        (_bn0): BatchNorm2d(192, eps=0.001, momentum=0.010000000000000009, affine=True, track_running_stats=True)\n",
      "        (_depthwise_conv): Conv2dStaticSamePadding(\n",
      "          192, 192, kernel_size=(5, 5), stride=[2, 2], groups=192, bias=False\n",
      "          (static_padding): ZeroPad2d((2, 2, 2, 2))\n",
      "        )\n",
      "        (_bn1): BatchNorm2d(192, eps=0.001, momentum=0.010000000000000009, affine=True, track_running_stats=True)\n",
      "        (_se_reduce): Conv2dStaticSamePadding(\n",
      "          192, 8, kernel_size=(1, 1), stride=(1, 1)\n",
      "          (static_padding): Identity()\n",
      "        )\n",
      "        (_se_expand): Conv2dStaticSamePadding(\n",
      "          8, 192, kernel_size=(1, 1), stride=(1, 1)\n",
      "          (static_padding): Identity()\n",
      "        )\n",
      "        (_project_conv): Conv2dStaticSamePadding(\n",
      "          192, 56, kernel_size=(1, 1), stride=(1, 1), bias=False\n",
      "          (static_padding): Identity()\n",
      "        )\n",
      "        (_bn2): BatchNorm2d(56, eps=0.001, momentum=0.010000000000000009, affine=True, track_running_stats=True)\n",
      "        (_swish): MemoryEfficientSwish()\n",
      "      )\n",
      "      (7-9): 3 x MBConvBlock(\n",
      "        (_expand_conv): Conv2dStaticSamePadding(\n",
      "          56, 336, kernel_size=(1, 1), stride=(1, 1), bias=False\n",
      "          (static_padding): Identity()\n",
      "        )\n",
      "        (_bn0): BatchNorm2d(336, eps=0.001, momentum=0.010000000000000009, affine=True, track_running_stats=True)\n",
      "        (_depthwise_conv): Conv2dStaticSamePadding(\n",
      "          336, 336, kernel_size=(5, 5), stride=(1, 1), groups=336, bias=False\n",
      "          (static_padding): ZeroPad2d((2, 2, 2, 2))\n",
      "        )\n",
      "        (_bn1): BatchNorm2d(336, eps=0.001, momentum=0.010000000000000009, affine=True, track_running_stats=True)\n",
      "        (_se_reduce): Conv2dStaticSamePadding(\n",
      "          336, 14, kernel_size=(1, 1), stride=(1, 1)\n",
      "          (static_padding): Identity()\n",
      "        )\n",
      "        (_se_expand): Conv2dStaticSamePadding(\n",
      "          14, 336, kernel_size=(1, 1), stride=(1, 1)\n",
      "          (static_padding): Identity()\n",
      "        )\n",
      "        (_project_conv): Conv2dStaticSamePadding(\n",
      "          336, 56, kernel_size=(1, 1), stride=(1, 1), bias=False\n",
      "          (static_padding): Identity()\n",
      "        )\n",
      "        (_bn2): BatchNorm2d(56, eps=0.001, momentum=0.010000000000000009, affine=True, track_running_stats=True)\n",
      "        (_swish): MemoryEfficientSwish()\n",
      "      )\n",
      "      (10): MBConvBlock(\n",
      "        (_expand_conv): Conv2dStaticSamePadding(\n",
      "          56, 336, kernel_size=(1, 1), stride=(1, 1), bias=False\n",
      "          (static_padding): Identity()\n",
      "        )\n",
      "        (_bn0): BatchNorm2d(336, eps=0.001, momentum=0.010000000000000009, affine=True, track_running_stats=True)\n",
      "        (_depthwise_conv): Conv2dStaticSamePadding(\n",
      "          336, 336, kernel_size=(3, 3), stride=[2, 2], groups=336, bias=False\n",
      "          (static_padding): ZeroPad2d((0, 1, 0, 1))\n",
      "        )\n",
      "        (_bn1): BatchNorm2d(336, eps=0.001, momentum=0.010000000000000009, affine=True, track_running_stats=True)\n",
      "        (_se_reduce): Conv2dStaticSamePadding(\n",
      "          336, 14, kernel_size=(1, 1), stride=(1, 1)\n",
      "          (static_padding): Identity()\n",
      "        )\n",
      "        (_se_expand): Conv2dStaticSamePadding(\n",
      "          14, 336, kernel_size=(1, 1), stride=(1, 1)\n",
      "          (static_padding): Identity()\n",
      "        )\n",
      "        (_project_conv): Conv2dStaticSamePadding(\n",
      "          336, 112, kernel_size=(1, 1), stride=(1, 1), bias=False\n",
      "          (static_padding): Identity()\n",
      "        )\n",
      "        (_bn2): BatchNorm2d(112, eps=0.001, momentum=0.010000000000000009, affine=True, track_running_stats=True)\n",
      "        (_swish): MemoryEfficientSwish()\n",
      "      )\n",
      "      (11-15): 5 x MBConvBlock(\n",
      "        (_expand_conv): Conv2dStaticSamePadding(\n",
      "          112, 672, kernel_size=(1, 1), stride=(1, 1), bias=False\n",
      "          (static_padding): Identity()\n",
      "        )\n",
      "        (_bn0): BatchNorm2d(672, eps=0.001, momentum=0.010000000000000009, affine=True, track_running_stats=True)\n",
      "        (_depthwise_conv): Conv2dStaticSamePadding(\n",
      "          672, 672, kernel_size=(3, 3), stride=(1, 1), groups=672, bias=False\n",
      "          (static_padding): ZeroPad2d((1, 1, 1, 1))\n",
      "        )\n",
      "        (_bn1): BatchNorm2d(672, eps=0.001, momentum=0.010000000000000009, affine=True, track_running_stats=True)\n",
      "        (_se_reduce): Conv2dStaticSamePadding(\n",
      "          672, 28, kernel_size=(1, 1), stride=(1, 1)\n",
      "          (static_padding): Identity()\n",
      "        )\n",
      "        (_se_expand): Conv2dStaticSamePadding(\n",
      "          28, 672, kernel_size=(1, 1), stride=(1, 1)\n",
      "          (static_padding): Identity()\n",
      "        )\n",
      "        (_project_conv): Conv2dStaticSamePadding(\n",
      "          672, 112, kernel_size=(1, 1), stride=(1, 1), bias=False\n",
      "          (static_padding): Identity()\n",
      "        )\n",
      "        (_bn2): BatchNorm2d(112, eps=0.001, momentum=0.010000000000000009, affine=True, track_running_stats=True)\n",
      "        (_swish): MemoryEfficientSwish()\n",
      "      )\n",
      "      (16): MBConvBlock(\n",
      "        (_expand_conv): Conv2dStaticSamePadding(\n",
      "          112, 672, kernel_size=(1, 1), stride=(1, 1), bias=False\n",
      "          (static_padding): Identity()\n",
      "        )\n",
      "        (_bn0): BatchNorm2d(672, eps=0.001, momentum=0.010000000000000009, affine=True, track_running_stats=True)\n",
      "        (_depthwise_conv): Conv2dStaticSamePadding(\n",
      "          672, 672, kernel_size=(5, 5), stride=[1, 1], groups=672, bias=False\n",
      "          (static_padding): ZeroPad2d((2, 2, 2, 2))\n",
      "        )\n",
      "        (_bn1): BatchNorm2d(672, eps=0.001, momentum=0.010000000000000009, affine=True, track_running_stats=True)\n",
      "        (_se_reduce): Conv2dStaticSamePadding(\n",
      "          672, 28, kernel_size=(1, 1), stride=(1, 1)\n",
      "          (static_padding): Identity()\n",
      "        )\n",
      "        (_se_expand): Conv2dStaticSamePadding(\n",
      "          28, 672, kernel_size=(1, 1), stride=(1, 1)\n",
      "          (static_padding): Identity()\n",
      "        )\n",
      "        (_project_conv): Conv2dStaticSamePadding(\n",
      "          672, 160, kernel_size=(1, 1), stride=(1, 1), bias=False\n",
      "          (static_padding): Identity()\n",
      "        )\n",
      "        (_bn2): BatchNorm2d(160, eps=0.001, momentum=0.010000000000000009, affine=True, track_running_stats=True)\n",
      "        (_swish): MemoryEfficientSwish()\n",
      "      )\n",
      "      (17-21): 5 x MBConvBlock(\n",
      "        (_expand_conv): Conv2dStaticSamePadding(\n",
      "          160, 960, kernel_size=(1, 1), stride=(1, 1), bias=False\n",
      "          (static_padding): Identity()\n",
      "        )\n",
      "        (_bn0): BatchNorm2d(960, eps=0.001, momentum=0.010000000000000009, affine=True, track_running_stats=True)\n",
      "        (_depthwise_conv): Conv2dStaticSamePadding(\n",
      "          960, 960, kernel_size=(5, 5), stride=(1, 1), groups=960, bias=False\n",
      "          (static_padding): ZeroPad2d((2, 2, 2, 2))\n",
      "        )\n",
      "        (_bn1): BatchNorm2d(960, eps=0.001, momentum=0.010000000000000009, affine=True, track_running_stats=True)\n",
      "        (_se_reduce): Conv2dStaticSamePadding(\n",
      "          960, 40, kernel_size=(1, 1), stride=(1, 1)\n",
      "          (static_padding): Identity()\n",
      "        )\n",
      "        (_se_expand): Conv2dStaticSamePadding(\n",
      "          40, 960, kernel_size=(1, 1), stride=(1, 1)\n",
      "          (static_padding): Identity()\n",
      "        )\n",
      "        (_project_conv): Conv2dStaticSamePadding(\n",
      "          960, 160, kernel_size=(1, 1), stride=(1, 1), bias=False\n",
      "          (static_padding): Identity()\n",
      "        )\n",
      "        (_bn2): BatchNorm2d(160, eps=0.001, momentum=0.010000000000000009, affine=True, track_running_stats=True)\n",
      "        (_swish): MemoryEfficientSwish()\n",
      "      )\n",
      "      (22): MBConvBlock(\n",
      "        (_expand_conv): Conv2dStaticSamePadding(\n",
      "          160, 960, kernel_size=(1, 1), stride=(1, 1), bias=False\n",
      "          (static_padding): Identity()\n",
      "        )\n",
      "        (_bn0): BatchNorm2d(960, eps=0.001, momentum=0.010000000000000009, affine=True, track_running_stats=True)\n",
      "        (_depthwise_conv): Conv2dStaticSamePadding(\n",
      "          960, 960, kernel_size=(5, 5), stride=[2, 2], groups=960, bias=False\n",
      "          (static_padding): ZeroPad2d((1, 2, 1, 2))\n",
      "        )\n",
      "        (_bn1): BatchNorm2d(960, eps=0.001, momentum=0.010000000000000009, affine=True, track_running_stats=True)\n",
      "        (_se_reduce): Conv2dStaticSamePadding(\n",
      "          960, 40, kernel_size=(1, 1), stride=(1, 1)\n",
      "          (static_padding): Identity()\n",
      "        )\n",
      "        (_se_expand): Conv2dStaticSamePadding(\n",
      "          40, 960, kernel_size=(1, 1), stride=(1, 1)\n",
      "          (static_padding): Identity()\n",
      "        )\n",
      "        (_project_conv): Conv2dStaticSamePadding(\n",
      "          960, 272, kernel_size=(1, 1), stride=(1, 1), bias=False\n",
      "          (static_padding): Identity()\n",
      "        )\n",
      "        (_bn2): BatchNorm2d(272, eps=0.001, momentum=0.010000000000000009, affine=True, track_running_stats=True)\n",
      "        (_swish): MemoryEfficientSwish()\n",
      "      )\n",
      "      (23-29): 7 x MBConvBlock(\n",
      "        (_expand_conv): Conv2dStaticSamePadding(\n",
      "          272, 1632, kernel_size=(1, 1), stride=(1, 1), bias=False\n",
      "          (static_padding): Identity()\n",
      "        )\n",
      "        (_bn0): BatchNorm2d(1632, eps=0.001, momentum=0.010000000000000009, affine=True, track_running_stats=True)\n",
      "        (_depthwise_conv): Conv2dStaticSamePadding(\n",
      "          1632, 1632, kernel_size=(5, 5), stride=(1, 1), groups=1632, bias=False\n",
      "          (static_padding): ZeroPad2d((2, 2, 2, 2))\n",
      "        )\n",
      "        (_bn1): BatchNorm2d(1632, eps=0.001, momentum=0.010000000000000009, affine=True, track_running_stats=True)\n",
      "        (_se_reduce): Conv2dStaticSamePadding(\n",
      "          1632, 68, kernel_size=(1, 1), stride=(1, 1)\n",
      "          (static_padding): Identity()\n",
      "        )\n",
      "        (_se_expand): Conv2dStaticSamePadding(\n",
      "          68, 1632, kernel_size=(1, 1), stride=(1, 1)\n",
      "          (static_padding): Identity()\n",
      "        )\n",
      "        (_project_conv): Conv2dStaticSamePadding(\n",
      "          1632, 272, kernel_size=(1, 1), stride=(1, 1), bias=False\n",
      "          (static_padding): Identity()\n",
      "        )\n",
      "        (_bn2): BatchNorm2d(272, eps=0.001, momentum=0.010000000000000009, affine=True, track_running_stats=True)\n",
      "        (_swish): MemoryEfficientSwish()\n",
      "      )\n",
      "      (30): MBConvBlock(\n",
      "        (_expand_conv): Conv2dStaticSamePadding(\n",
      "          272, 1632, kernel_size=(1, 1), stride=(1, 1), bias=False\n",
      "          (static_padding): Identity()\n",
      "        )\n",
      "        (_bn0): BatchNorm2d(1632, eps=0.001, momentum=0.010000000000000009, affine=True, track_running_stats=True)\n",
      "        (_depthwise_conv): Conv2dStaticSamePadding(\n",
      "          1632, 1632, kernel_size=(3, 3), stride=[1, 1], groups=1632, bias=False\n",
      "          (static_padding): ZeroPad2d((1, 1, 1, 1))\n",
      "        )\n",
      "        (_bn1): BatchNorm2d(1632, eps=0.001, momentum=0.010000000000000009, affine=True, track_running_stats=True)\n",
      "        (_se_reduce): Conv2dStaticSamePadding(\n",
      "          1632, 68, kernel_size=(1, 1), stride=(1, 1)\n",
      "          (static_padding): Identity()\n",
      "        )\n",
      "        (_se_expand): Conv2dStaticSamePadding(\n",
      "          68, 1632, kernel_size=(1, 1), stride=(1, 1)\n",
      "          (static_padding): Identity()\n",
      "        )\n",
      "        (_project_conv): Conv2dStaticSamePadding(\n",
      "          1632, 448, kernel_size=(1, 1), stride=(1, 1), bias=False\n",
      "          (static_padding): Identity()\n",
      "        )\n",
      "        (_bn2): BatchNorm2d(448, eps=0.001, momentum=0.010000000000000009, affine=True, track_running_stats=True)\n",
      "        (_swish): MemoryEfficientSwish()\n",
      "      )\n",
      "      (31): MBConvBlock(\n",
      "        (_expand_conv): Conv2dStaticSamePadding(\n",
      "          448, 2688, kernel_size=(1, 1), stride=(1, 1), bias=False\n",
      "          (static_padding): Identity()\n",
      "        )\n",
      "        (_bn0): BatchNorm2d(2688, eps=0.001, momentum=0.010000000000000009, affine=True, track_running_stats=True)\n",
      "        (_depthwise_conv): Conv2dStaticSamePadding(\n",
      "          2688, 2688, kernel_size=(3, 3), stride=(1, 1), groups=2688, bias=False\n",
      "          (static_padding): ZeroPad2d((1, 1, 1, 1))\n",
      "        )\n",
      "        (_bn1): BatchNorm2d(2688, eps=0.001, momentum=0.010000000000000009, affine=True, track_running_stats=True)\n",
      "        (_se_reduce): Conv2dStaticSamePadding(\n",
      "          2688, 112, kernel_size=(1, 1), stride=(1, 1)\n",
      "          (static_padding): Identity()\n",
      "        )\n",
      "        (_se_expand): Conv2dStaticSamePadding(\n",
      "          112, 2688, kernel_size=(1, 1), stride=(1, 1)\n",
      "          (static_padding): Identity()\n",
      "        )\n",
      "        (_project_conv): Conv2dStaticSamePadding(\n",
      "          2688, 448, kernel_size=(1, 1), stride=(1, 1), bias=False\n",
      "          (static_padding): Identity()\n",
      "        )\n",
      "        (_bn2): BatchNorm2d(448, eps=0.001, momentum=0.010000000000000009, affine=True, track_running_stats=True)\n",
      "        (_swish): MemoryEfficientSwish()\n",
      "      )\n",
      "    )\n",
      "    (_conv_head): Conv2dStaticSamePadding(\n",
      "      448, 1792, kernel_size=(1, 1), stride=(1, 1), bias=False\n",
      "      (static_padding): Identity()\n",
      "    )\n",
      "    (_bn1): BatchNorm2d(1792, eps=0.001, momentum=0.010000000000000009, affine=True, track_running_stats=True)\n",
      "    (_avg_pooling): AdaptiveAvgPool2d(output_size=1)\n",
      "    (_dropout): Dropout(p=0.4, inplace=False)\n",
      "    (_swish): MemoryEfficientSwish()\n",
      "  )\n",
      "  (decoder): UnetPlusPlusDecoder(\n",
      "    (center): Identity()\n",
      "    (blocks): ModuleDict(\n",
      "      (x_0_0): DecoderBlock(\n",
      "        (conv1): Conv2dReLU(\n",
      "          (0): Conv2d(608, 256, kernel_size=(3, 3), stride=(1, 1), padding=(1, 1), bias=False)\n",
      "          (1): BatchNorm2d(256, eps=1e-05, momentum=0.1, affine=True, track_running_stats=True)\n",
      "          (2): ReLU(inplace=True)\n",
      "        )\n",
      "        (attention1): Attention(\n",
      "          (attention): SCSEModule(\n",
      "            (cSE): Sequential(\n",
      "              (0): AdaptiveAvgPool2d(output_size=1)\n",
      "              (1): Conv2d(608, 38, kernel_size=(1, 1), stride=(1, 1))\n",
      "              (2): ReLU(inplace=True)\n",
      "              (3): Conv2d(38, 608, kernel_size=(1, 1), stride=(1, 1))\n",
      "              (4): Sigmoid()\n",
      "            )\n",
      "            (sSE): Sequential(\n",
      "              (0): Conv2d(608, 1, kernel_size=(1, 1), stride=(1, 1))\n",
      "              (1): Sigmoid()\n",
      "            )\n",
      "          )\n",
      "        )\n",
      "        (conv2): Conv2dReLU(\n",
      "          (0): Conv2d(256, 256, kernel_size=(3, 3), stride=(1, 1), padding=(1, 1), bias=False)\n",
      "          (1): BatchNorm2d(256, eps=1e-05, momentum=0.1, affine=True, track_running_stats=True)\n",
      "          (2): ReLU(inplace=True)\n",
      "        )\n",
      "        (attention2): Attention(\n",
      "          (attention): SCSEModule(\n",
      "            (cSE): Sequential(\n",
      "              (0): AdaptiveAvgPool2d(output_size=1)\n",
      "              (1): Conv2d(256, 16, kernel_size=(1, 1), stride=(1, 1))\n",
      "              (2): ReLU(inplace=True)\n",
      "              (3): Conv2d(16, 256, kernel_size=(1, 1), stride=(1, 1))\n",
      "              (4): Sigmoid()\n",
      "            )\n",
      "            (sSE): Sequential(\n",
      "              (0): Conv2d(256, 1, kernel_size=(1, 1), stride=(1, 1))\n",
      "              (1): Sigmoid()\n",
      "            )\n",
      "          )\n",
      "        )\n",
      "      )\n",
      "      (x_0_1): DecoderBlock(\n",
      "        (conv1): Conv2dReLU(\n",
      "          (0): Conv2d(368, 128, kernel_size=(3, 3), stride=(1, 1), padding=(1, 1), bias=False)\n",
      "          (1): BatchNorm2d(128, eps=1e-05, momentum=0.1, affine=True, track_running_stats=True)\n",
      "          (2): ReLU(inplace=True)\n",
      "        )\n",
      "        (attention1): Attention(\n",
      "          (attention): SCSEModule(\n",
      "            (cSE): Sequential(\n",
      "              (0): AdaptiveAvgPool2d(output_size=1)\n",
      "              (1): Conv2d(368, 23, kernel_size=(1, 1), stride=(1, 1))\n",
      "              (2): ReLU(inplace=True)\n",
      "              (3): Conv2d(23, 368, kernel_size=(1, 1), stride=(1, 1))\n",
      "              (4): Sigmoid()\n",
      "            )\n",
      "            (sSE): Sequential(\n",
      "              (0): Conv2d(368, 1, kernel_size=(1, 1), stride=(1, 1))\n",
      "              (1): Sigmoid()\n",
      "            )\n",
      "          )\n",
      "        )\n",
      "        (conv2): Conv2dReLU(\n",
      "          (0): Conv2d(128, 128, kernel_size=(3, 3), stride=(1, 1), padding=(1, 1), bias=False)\n",
      "          (1): BatchNorm2d(128, eps=1e-05, momentum=0.1, affine=True, track_running_stats=True)\n",
      "          (2): ReLU(inplace=True)\n",
      "        )\n",
      "        (attention2): Attention(\n",
      "          (attention): SCSEModule(\n",
      "            (cSE): Sequential(\n",
      "              (0): AdaptiveAvgPool2d(output_size=1)\n",
      "              (1): Conv2d(128, 8, kernel_size=(1, 1), stride=(1, 1))\n",
      "              (2): ReLU(inplace=True)\n",
      "              (3): Conv2d(8, 128, kernel_size=(1, 1), stride=(1, 1))\n",
      "              (4): Sigmoid()\n",
      "            )\n",
      "            (sSE): Sequential(\n",
      "              (0): Conv2d(128, 1, kernel_size=(1, 1), stride=(1, 1))\n",
      "              (1): Sigmoid()\n",
      "            )\n",
      "          )\n",
      "        )\n",
      "      )\n",
      "      (x_1_1): DecoderBlock(\n",
      "        (conv1): Conv2dReLU(\n",
      "          (0): Conv2d(216, 56, kernel_size=(3, 3), stride=(1, 1), padding=(1, 1), bias=False)\n",
      "          (1): BatchNorm2d(56, eps=1e-05, momentum=0.1, affine=True, track_running_stats=True)\n",
      "          (2): ReLU(inplace=True)\n",
      "        )\n",
      "        (attention1): Attention(\n",
      "          (attention): SCSEModule(\n",
      "            (cSE): Sequential(\n",
      "              (0): AdaptiveAvgPool2d(output_size=1)\n",
      "              (1): Conv2d(216, 13, kernel_size=(1, 1), stride=(1, 1))\n",
      "              (2): ReLU(inplace=True)\n",
      "              (3): Conv2d(13, 216, kernel_size=(1, 1), stride=(1, 1))\n",
      "              (4): Sigmoid()\n",
      "            )\n",
      "            (sSE): Sequential(\n",
      "              (0): Conv2d(216, 1, kernel_size=(1, 1), stride=(1, 1))\n",
      "              (1): Sigmoid()\n",
      "            )\n",
      "          )\n",
      "        )\n",
      "        (conv2): Conv2dReLU(\n",
      "          (0): Conv2d(56, 56, kernel_size=(3, 3), stride=(1, 1), padding=(1, 1), bias=False)\n",
      "          (1): BatchNorm2d(56, eps=1e-05, momentum=0.1, affine=True, track_running_stats=True)\n",
      "          (2): ReLU(inplace=True)\n",
      "        )\n",
      "        (attention2): Attention(\n",
      "          (attention): SCSEModule(\n",
      "            (cSE): Sequential(\n",
      "              (0): AdaptiveAvgPool2d(output_size=1)\n",
      "              (1): Conv2d(56, 3, kernel_size=(1, 1), stride=(1, 1))\n",
      "              (2): ReLU(inplace=True)\n",
      "              (3): Conv2d(3, 56, kernel_size=(1, 1), stride=(1, 1))\n",
      "              (4): Sigmoid()\n",
      "            )\n",
      "            (sSE): Sequential(\n",
      "              (0): Conv2d(56, 1, kernel_size=(1, 1), stride=(1, 1))\n",
      "              (1): Sigmoid()\n",
      "            )\n",
      "          )\n",
      "        )\n",
      "      )\n",
      "      (x_0_2): DecoderBlock(\n",
      "        (conv1): Conv2dReLU(\n",
      "          (0): Conv2d(224, 64, kernel_size=(3, 3), stride=(1, 1), padding=(1, 1), bias=False)\n",
      "          (1): BatchNorm2d(64, eps=1e-05, momentum=0.1, affine=True, track_running_stats=True)\n",
      "          (2): ReLU(inplace=True)\n",
      "        )\n",
      "        (attention1): Attention(\n",
      "          (attention): SCSEModule(\n",
      "            (cSE): Sequential(\n",
      "              (0): AdaptiveAvgPool2d(output_size=1)\n",
      "              (1): Conv2d(224, 14, kernel_size=(1, 1), stride=(1, 1))\n",
      "              (2): ReLU(inplace=True)\n",
      "              (3): Conv2d(14, 224, kernel_size=(1, 1), stride=(1, 1))\n",
      "              (4): Sigmoid()\n",
      "            )\n",
      "            (sSE): Sequential(\n",
      "              (0): Conv2d(224, 1, kernel_size=(1, 1), stride=(1, 1))\n",
      "              (1): Sigmoid()\n",
      "            )\n",
      "          )\n",
      "        )\n",
      "        (conv2): Conv2dReLU(\n",
      "          (0): Conv2d(64, 64, kernel_size=(3, 3), stride=(1, 1), padding=(1, 1), bias=False)\n",
      "          (1): BatchNorm2d(64, eps=1e-05, momentum=0.1, affine=True, track_running_stats=True)\n",
      "          (2): ReLU(inplace=True)\n",
      "        )\n",
      "        (attention2): Attention(\n",
      "          (attention): SCSEModule(\n",
      "            (cSE): Sequential(\n",
      "              (0): AdaptiveAvgPool2d(output_size=1)\n",
      "              (1): Conv2d(64, 4, kernel_size=(1, 1), stride=(1, 1))\n",
      "              (2): ReLU(inplace=True)\n",
      "              (3): Conv2d(4, 64, kernel_size=(1, 1), stride=(1, 1))\n",
      "              (4): Sigmoid()\n",
      "            )\n",
      "            (sSE): Sequential(\n",
      "              (0): Conv2d(64, 1, kernel_size=(1, 1), stride=(1, 1))\n",
      "              (1): Sigmoid()\n",
      "            )\n",
      "          )\n",
      "        )\n",
      "      )\n",
      "      (x_1_2): DecoderBlock(\n",
      "        (conv1): Conv2dReLU(\n",
      "          (0): Conv2d(120, 32, kernel_size=(3, 3), stride=(1, 1), padding=(1, 1), bias=False)\n",
      "          (1): BatchNorm2d(32, eps=1e-05, momentum=0.1, affine=True, track_running_stats=True)\n",
      "          (2): ReLU(inplace=True)\n",
      "        )\n",
      "        (attention1): Attention(\n",
      "          (attention): SCSEModule(\n",
      "            (cSE): Sequential(\n",
      "              (0): AdaptiveAvgPool2d(output_size=1)\n",
      "              (1): Conv2d(120, 7, kernel_size=(1, 1), stride=(1, 1))\n",
      "              (2): ReLU(inplace=True)\n",
      "              (3): Conv2d(7, 120, kernel_size=(1, 1), stride=(1, 1))\n",
      "              (4): Sigmoid()\n",
      "            )\n",
      "            (sSE): Sequential(\n",
      "              (0): Conv2d(120, 1, kernel_size=(1, 1), stride=(1, 1))\n",
      "              (1): Sigmoid()\n",
      "            )\n",
      "          )\n",
      "        )\n",
      "        (conv2): Conv2dReLU(\n",
      "          (0): Conv2d(32, 32, kernel_size=(3, 3), stride=(1, 1), padding=(1, 1), bias=False)\n",
      "          (1): BatchNorm2d(32, eps=1e-05, momentum=0.1, affine=True, track_running_stats=True)\n",
      "          (2): ReLU(inplace=True)\n",
      "        )\n",
      "        (attention2): Attention(\n",
      "          (attention): SCSEModule(\n",
      "            (cSE): Sequential(\n",
      "              (0): AdaptiveAvgPool2d(output_size=1)\n",
      "              (1): Conv2d(32, 2, kernel_size=(1, 1), stride=(1, 1))\n",
      "              (2): ReLU(inplace=True)\n",
      "              (3): Conv2d(2, 32, kernel_size=(1, 1), stride=(1, 1))\n",
      "              (4): Sigmoid()\n",
      "            )\n",
      "            (sSE): Sequential(\n",
      "              (0): Conv2d(32, 1, kernel_size=(1, 1), stride=(1, 1))\n",
      "              (1): Sigmoid()\n",
      "            )\n",
      "          )\n",
      "        )\n",
      "      )\n",
      "      (x_2_2): DecoderBlock(\n",
      "        (conv1): Conv2dReLU(\n",
      "          (0): Conv2d(88, 32, kernel_size=(3, 3), stride=(1, 1), padding=(1, 1), bias=False)\n",
      "          (1): BatchNorm2d(32, eps=1e-05, momentum=0.1, affine=True, track_running_stats=True)\n",
      "          (2): ReLU(inplace=True)\n",
      "        )\n",
      "        (attention1): Attention(\n",
      "          (attention): SCSEModule(\n",
      "            (cSE): Sequential(\n",
      "              (0): AdaptiveAvgPool2d(output_size=1)\n",
      "              (1): Conv2d(88, 5, kernel_size=(1, 1), stride=(1, 1))\n",
      "              (2): ReLU(inplace=True)\n",
      "              (3): Conv2d(5, 88, kernel_size=(1, 1), stride=(1, 1))\n",
      "              (4): Sigmoid()\n",
      "            )\n",
      "            (sSE): Sequential(\n",
      "              (0): Conv2d(88, 1, kernel_size=(1, 1), stride=(1, 1))\n",
      "              (1): Sigmoid()\n",
      "            )\n",
      "          )\n",
      "        )\n",
      "        (conv2): Conv2dReLU(\n",
      "          (0): Conv2d(32, 32, kernel_size=(3, 3), stride=(1, 1), padding=(1, 1), bias=False)\n",
      "          (1): BatchNorm2d(32, eps=1e-05, momentum=0.1, affine=True, track_running_stats=True)\n",
      "          (2): ReLU(inplace=True)\n",
      "        )\n",
      "        (attention2): Attention(\n",
      "          (attention): SCSEModule(\n",
      "            (cSE): Sequential(\n",
      "              (0): AdaptiveAvgPool2d(output_size=1)\n",
      "              (1): Conv2d(32, 2, kernel_size=(1, 1), stride=(1, 1))\n",
      "              (2): ReLU(inplace=True)\n",
      "              (3): Conv2d(2, 32, kernel_size=(1, 1), stride=(1, 1))\n",
      "              (4): Sigmoid()\n",
      "            )\n",
      "            (sSE): Sequential(\n",
      "              (0): Conv2d(32, 1, kernel_size=(1, 1), stride=(1, 1))\n",
      "              (1): Sigmoid()\n",
      "            )\n",
      "          )\n",
      "        )\n",
      "      )\n",
      "      (x_0_3): DecoderBlock(\n",
      "        (conv1): Conv2dReLU(\n",
      "          (0): Conv2d(256, 32, kernel_size=(3, 3), stride=(1, 1), padding=(1, 1), bias=False)\n",
      "          (1): BatchNorm2d(32, eps=1e-05, momentum=0.1, affine=True, track_running_stats=True)\n",
      "          (2): ReLU(inplace=True)\n",
      "        )\n",
      "        (attention1): Attention(\n",
      "          (attention): SCSEModule(\n",
      "            (cSE): Sequential(\n",
      "              (0): AdaptiveAvgPool2d(output_size=1)\n",
      "              (1): Conv2d(256, 16, kernel_size=(1, 1), stride=(1, 1))\n",
      "              (2): ReLU(inplace=True)\n",
      "              (3): Conv2d(16, 256, kernel_size=(1, 1), stride=(1, 1))\n",
      "              (4): Sigmoid()\n",
      "            )\n",
      "            (sSE): Sequential(\n",
      "              (0): Conv2d(256, 1, kernel_size=(1, 1), stride=(1, 1))\n",
      "              (1): Sigmoid()\n",
      "            )\n",
      "          )\n",
      "        )\n",
      "        (conv2): Conv2dReLU(\n",
      "          (0): Conv2d(32, 32, kernel_size=(3, 3), stride=(1, 1), padding=(1, 1), bias=False)\n",
      "          (1): BatchNorm2d(32, eps=1e-05, momentum=0.1, affine=True, track_running_stats=True)\n",
      "          (2): ReLU(inplace=True)\n",
      "        )\n",
      "        (attention2): Attention(\n",
      "          (attention): SCSEModule(\n",
      "            (cSE): Sequential(\n",
      "              (0): AdaptiveAvgPool2d(output_size=1)\n",
      "              (1): Conv2d(32, 2, kernel_size=(1, 1), stride=(1, 1))\n",
      "              (2): ReLU(inplace=True)\n",
      "              (3): Conv2d(2, 32, kernel_size=(1, 1), stride=(1, 1))\n",
      "              (4): Sigmoid()\n",
      "            )\n",
      "            (sSE): Sequential(\n",
      "              (0): Conv2d(32, 1, kernel_size=(1, 1), stride=(1, 1))\n",
      "              (1): Sigmoid()\n",
      "            )\n",
      "          )\n",
      "        )\n",
      "      )\n",
      "      (x_1_3): DecoderBlock(\n",
      "        (conv1): Conv2dReLU(\n",
      "          (0): Conv2d(176, 48, kernel_size=(3, 3), stride=(1, 1), padding=(1, 1), bias=False)\n",
      "          (1): BatchNorm2d(48, eps=1e-05, momentum=0.1, affine=True, track_running_stats=True)\n",
      "          (2): ReLU(inplace=True)\n",
      "        )\n",
      "        (attention1): Attention(\n",
      "          (attention): SCSEModule(\n",
      "            (cSE): Sequential(\n",
      "              (0): AdaptiveAvgPool2d(output_size=1)\n",
      "              (1): Conv2d(176, 11, kernel_size=(1, 1), stride=(1, 1))\n",
      "              (2): ReLU(inplace=True)\n",
      "              (3): Conv2d(11, 176, kernel_size=(1, 1), stride=(1, 1))\n",
      "              (4): Sigmoid()\n",
      "            )\n",
      "            (sSE): Sequential(\n",
      "              (0): Conv2d(176, 1, kernel_size=(1, 1), stride=(1, 1))\n",
      "              (1): Sigmoid()\n",
      "            )\n",
      "          )\n",
      "        )\n",
      "        (conv2): Conv2dReLU(\n",
      "          (0): Conv2d(48, 48, kernel_size=(3, 3), stride=(1, 1), padding=(1, 1), bias=False)\n",
      "          (1): BatchNorm2d(48, eps=1e-05, momentum=0.1, affine=True, track_running_stats=True)\n",
      "          (2): ReLU(inplace=True)\n",
      "        )\n",
      "        (attention2): Attention(\n",
      "          (attention): SCSEModule(\n",
      "            (cSE): Sequential(\n",
      "              (0): AdaptiveAvgPool2d(output_size=1)\n",
      "              (1): Conv2d(48, 3, kernel_size=(1, 1), stride=(1, 1))\n",
      "              (2): ReLU(inplace=True)\n",
      "              (3): Conv2d(3, 48, kernel_size=(1, 1), stride=(1, 1))\n",
      "              (4): Sigmoid()\n",
      "            )\n",
      "            (sSE): Sequential(\n",
      "              (0): Conv2d(48, 1, kernel_size=(1, 1), stride=(1, 1))\n",
      "              (1): Sigmoid()\n",
      "            )\n",
      "          )\n",
      "        )\n",
      "      )\n",
      "      (x_2_3): DecoderBlock(\n",
      "        (conv1): Conv2dReLU(\n",
      "          (0): Conv2d(128, 48, kernel_size=(3, 3), stride=(1, 1), padding=(1, 1), bias=False)\n",
      "          (1): BatchNorm2d(48, eps=1e-05, momentum=0.1, affine=True, track_running_stats=True)\n",
      "          (2): ReLU(inplace=True)\n",
      "        )\n",
      "        (attention1): Attention(\n",
      "          (attention): SCSEModule(\n",
      "            (cSE): Sequential(\n",
      "              (0): AdaptiveAvgPool2d(output_size=1)\n",
      "              (1): Conv2d(128, 8, kernel_size=(1, 1), stride=(1, 1))\n",
      "              (2): ReLU(inplace=True)\n",
      "              (3): Conv2d(8, 128, kernel_size=(1, 1), stride=(1, 1))\n",
      "              (4): Sigmoid()\n",
      "            )\n",
      "            (sSE): Sequential(\n",
      "              (0): Conv2d(128, 1, kernel_size=(1, 1), stride=(1, 1))\n",
      "              (1): Sigmoid()\n",
      "            )\n",
      "          )\n",
      "        )\n",
      "        (conv2): Conv2dReLU(\n",
      "          (0): Conv2d(48, 48, kernel_size=(3, 3), stride=(1, 1), padding=(1, 1), bias=False)\n",
      "          (1): BatchNorm2d(48, eps=1e-05, momentum=0.1, affine=True, track_running_stats=True)\n",
      "          (2): ReLU(inplace=True)\n",
      "        )\n",
      "        (attention2): Attention(\n",
      "          (attention): SCSEModule(\n",
      "            (cSE): Sequential(\n",
      "              (0): AdaptiveAvgPool2d(output_size=1)\n",
      "              (1): Conv2d(48, 3, kernel_size=(1, 1), stride=(1, 1))\n",
      "              (2): ReLU(inplace=True)\n",
      "              (3): Conv2d(3, 48, kernel_size=(1, 1), stride=(1, 1))\n",
      "              (4): Sigmoid()\n",
      "            )\n",
      "            (sSE): Sequential(\n",
      "              (0): Conv2d(48, 1, kernel_size=(1, 1), stride=(1, 1))\n",
      "              (1): Sigmoid()\n",
      "            )\n",
      "          )\n",
      "        )\n",
      "      )\n",
      "      (x_3_3): DecoderBlock(\n",
      "        (conv1): Conv2dReLU(\n",
      "          (0): Conv2d(80, 48, kernel_size=(3, 3), stride=(1, 1), padding=(1, 1), bias=False)\n",
      "          (1): BatchNorm2d(48, eps=1e-05, momentum=0.1, affine=True, track_running_stats=True)\n",
      "          (2): ReLU(inplace=True)\n",
      "        )\n",
      "        (attention1): Attention(\n",
      "          (attention): SCSEModule(\n",
      "            (cSE): Sequential(\n",
      "              (0): AdaptiveAvgPool2d(output_size=1)\n",
      "              (1): Conv2d(80, 5, kernel_size=(1, 1), stride=(1, 1))\n",
      "              (2): ReLU(inplace=True)\n",
      "              (3): Conv2d(5, 80, kernel_size=(1, 1), stride=(1, 1))\n",
      "              (4): Sigmoid()\n",
      "            )\n",
      "            (sSE): Sequential(\n",
      "              (0): Conv2d(80, 1, kernel_size=(1, 1), stride=(1, 1))\n",
      "              (1): Sigmoid()\n",
      "            )\n",
      "          )\n",
      "        )\n",
      "        (conv2): Conv2dReLU(\n",
      "          (0): Conv2d(48, 48, kernel_size=(3, 3), stride=(1, 1), padding=(1, 1), bias=False)\n",
      "          (1): BatchNorm2d(48, eps=1e-05, momentum=0.1, affine=True, track_running_stats=True)\n",
      "          (2): ReLU(inplace=True)\n",
      "        )\n",
      "        (attention2): Attention(\n",
      "          (attention): SCSEModule(\n",
      "            (cSE): Sequential(\n",
      "              (0): AdaptiveAvgPool2d(output_size=1)\n",
      "              (1): Conv2d(48, 3, kernel_size=(1, 1), stride=(1, 1))\n",
      "              (2): ReLU(inplace=True)\n",
      "              (3): Conv2d(3, 48, kernel_size=(1, 1), stride=(1, 1))\n",
      "              (4): Sigmoid()\n",
      "            )\n",
      "            (sSE): Sequential(\n",
      "              (0): Conv2d(48, 1, kernel_size=(1, 1), stride=(1, 1))\n",
      "              (1): Sigmoid()\n",
      "            )\n",
      "          )\n",
      "        )\n",
      "      )\n",
      "      (x_0_4): DecoderBlock(\n",
      "        (conv1): Conv2dReLU(\n",
      "          (0): Conv2d(32, 16, kernel_size=(3, 3), stride=(1, 1), padding=(1, 1), bias=False)\n",
      "          (1): BatchNorm2d(16, eps=1e-05, momentum=0.1, affine=True, track_running_stats=True)\n",
      "          (2): ReLU(inplace=True)\n",
      "        )\n",
      "        (attention1): Attention(\n",
      "          (attention): SCSEModule(\n",
      "            (cSE): Sequential(\n",
      "              (0): AdaptiveAvgPool2d(output_size=1)\n",
      "              (1): Conv2d(32, 2, kernel_size=(1, 1), stride=(1, 1))\n",
      "              (2): ReLU(inplace=True)\n",
      "              (3): Conv2d(2, 32, kernel_size=(1, 1), stride=(1, 1))\n",
      "              (4): Sigmoid()\n",
      "            )\n",
      "            (sSE): Sequential(\n",
      "              (0): Conv2d(32, 1, kernel_size=(1, 1), stride=(1, 1))\n",
      "              (1): Sigmoid()\n",
      "            )\n",
      "          )\n",
      "        )\n",
      "        (conv2): Conv2dReLU(\n",
      "          (0): Conv2d(16, 16, kernel_size=(3, 3), stride=(1, 1), padding=(1, 1), bias=False)\n",
      "          (1): BatchNorm2d(16, eps=1e-05, momentum=0.1, affine=True, track_running_stats=True)\n",
      "          (2): ReLU(inplace=True)\n",
      "        )\n",
      "        (attention2): Attention(\n",
      "          (attention): SCSEModule(\n",
      "            (cSE): Sequential(\n",
      "              (0): AdaptiveAvgPool2d(output_size=1)\n",
      "              (1): Conv2d(16, 1, kernel_size=(1, 1), stride=(1, 1))\n",
      "              (2): ReLU(inplace=True)\n",
      "              (3): Conv2d(1, 16, kernel_size=(1, 1), stride=(1, 1))\n",
      "              (4): Sigmoid()\n",
      "            )\n",
      "            (sSE): Sequential(\n",
      "              (0): Conv2d(16, 1, kernel_size=(1, 1), stride=(1, 1))\n",
      "              (1): Sigmoid()\n",
      "            )\n",
      "          )\n",
      "        )\n",
      "      )\n",
      "    )\n",
      "  )\n",
      "  (segmentation_head): SegmentationHead(\n",
      "    (0): Conv2d(16, 1, kernel_size=(3, 3), stride=(1, 1), padding=(1, 1))\n",
      "    (1): Identity()\n",
      "    (2): Activation(\n",
      "      (activation): Identity()\n",
      "    )\n",
      "  )\n",
      ")\n"
     ]
    }
   ],
   "source": [
    "# model unetransformer\n",
    "#modelunetplusplus = smp.UnetPlusPlus(in_channels=4, encoder_depth=5, classes=1,\n",
    "#    activation=None,\n",
    "#    encoder_weights=\"imagenet\",\n",
    "#    encoder_name=\"efficientnet-b4\",\n",
    "#    decoder_attention_type=\"scse\")\n",
    "\n",
    "modelunetplusplus = smp.UnetPlusPlus(in_channels=4, encoder_depth=5, classes=1, encoder_name=\"efficientnet-b4\", decoder_attention_type=\"scse\")\n",
    "\n",
    "\n",
    "# Define the U-Net model\n",
    "model_unet = smp.Unet(\n",
    "    encoder_name=\"efficientnet-b4\",     # Choose the encoder, e.g., efficientnet-b4\n",
    "    encoder_depth=5,                    # Choose depth for encoder\n",
    "    in_channels=4,                      # Model input channels (1 for grayscale, 3 for RGB, etc.)\n",
    "    classes=1,                          # Model output channels (number of classes)\n",
    "    decoder_attention_type=\"scse\"       # Optional, add SCSE attention module to decoder\n",
    ")\n",
    "\n",
    "# Define the DeepLabV3+ model\n",
    "model_deeplabv3plus = smp.DeepLabV3Plus(\n",
    "    encoder_name=\"efficientnet-b4\",     # Choose the encoder, e.g., efficientnet-b4\n",
    "    encoder_depth=5,                    # Choose depth for encoder\n",
    "    in_channels=4,                      # Model input channels (1 for grayscale, 3 for RGB, etc.)\n",
    "    classes=1                           # Model output channels (number of classes)\n",
    ")\n",
    "\n",
    "# Define the FPN model\n",
    "model_fpn = smp.FPN(\n",
    "    encoder_name=\"efficientnet-b4\",  # Choose the encoder, e.g., efficientnet-b4\n",
    "    encoder_depth=5,                 # Choose depth for encoder\n",
    "    in_channels=4,                   # Model input channels (1 for grayscale, 3 for RGB, etc.)\n",
    "    classes=1                        # Model output channels (number of classes)\n",
    ")\n",
    "\n",
    "# Define the PSPNet model\n",
    "model_pspnet = smp.PSPNet(\n",
    "    encoder_name=\"efficientnet-b4\",  # Choose the encoder, e.g., efficientnet-b4\n",
    "    encoder_depth=5,                 # Choose depth for encoder\n",
    "    in_channels=4,                   # Model input channels (1 for grayscale, 3 for RGB, etc.)\n",
    "    classes=1                        # Model output channels (number of classes)\n",
    ")\n",
    "\n",
    "# Define the PAN model\n",
    "model_pan = smp.PAN(\n",
    "    encoder_name=\"efficientnet-b4\",  # Choose the encoder, e.g., efficientnet-b4\n",
    "    in_channels=4,                   # Model input channels (1 for grayscale, 3 for RGB, etc.)\n",
    "    classes=1                       # Model output channels (number of classes)\n",
    ")\n",
    "\n",
    "# Define the PAN model\n",
    "model_manet = smp.MAnet(\n",
    "    encoder_name=\"efficientnet-b4\",  # Choose the encoder, e.g., efficientnet-b4\n",
    "    encoder_depth=5,                 # Choose depth for encoder\n",
    "    in_channels=4,                   # Model input channels (1 for grayscale, 3 for RGB, etc.)\n",
    "    classes=1                        # Model output channels (number of classes)\n",
    ")\n",
    "\n",
    "\n",
    "modelunetplusplus = modelunetplusplus.to(DEVICE)\n",
    "model_unet = model_unet.to(DEVICE)\n",
    "model_pan = model_pan.to(DEVICE)\n",
    "model_pspnet = model_pspnet.to(DEVICE)\n",
    "model_fpn = model_fpn.to(DEVICE)\n",
    "model_deeplabv3plus = model_deeplabv3plus.to(DEVICE)\n",
    "model_manet = model_manet.to(DEVICE)"
   ]
  },
  {
   "cell_type": "code",
   "execution_count": null,
   "metadata": {},
   "outputs": [
    {
     "name": "stdout",
     "output_type": "stream",
     "text": [
      "<function make_train_step.<locals>.train_step at 0x000002AB3AABB240>\n"
     ]
    }
   ],
   "source": [
    "from torch.optim import SGD\n",
    "\n",
    "# define training hyperparameters\n",
    "INIT_LR = 1e-4\n",
    "epochs = 250\n",
    "\n",
    "# initialize our optimizer and loss function\n",
    "optimizer = SGD(modelunetplusplus.parameters(), lr=INIT_LR)\n",
    "lossfn = BCEWithLogitsLoss()\n",
    "\n",
    "#train step\n",
    "train_step = make_train_step(modelunetplusplus, optimizer, lossfn)\n",
    "print(train_step)"
   ]
  },
  {
   "cell_type": "code",
   "execution_count": 11,
   "metadata": {},
   "outputs": [],
   "source": [
    "from tqdm import tqdm\n",
    "from torchmetrics import JaccardIndex\n",
    "\n",
    "def train(model, trainloader, optimizer, loss_fn, device):\n",
    "    model.train()\n",
    "    train_step = make_train_step(model, optimizer, loss_fn)\n",
    "    epoch_loss = 0.0\n",
    "    correct_predictions = 0\n",
    "    total_predictions = 0\n",
    "    jaccard = JaccardIndex(task='binary').to(DEVICE)\n",
    "\n",
    "    for i, data in tqdm(enumerate(trainloader), total=len(trainloader)):\n",
    "        x_batch, y_batch = data\n",
    "        x_batch = x_batch.float().to(device)  # Ensure correct type\n",
    "        y_batch = y_batch.float().to(device)\n",
    "\n",
    "        # Forward pass and loss calculation\n",
    "        loss = train_step(x_batch, y_batch)\n",
    "        epoch_loss += loss.item()\n",
    "\n",
    "        # Predictions\n",
    "        predictions = (model(x_batch) > 0.5).float()  # Binary thresholding at 0.5\n",
    "\n",
    "        # Accuracy calculation\n",
    "        correct_predictions += torch.sum(predictions == y_batch).item()\n",
    "        total_predictions += (y_batch.size(0) * y_batch.size(1) * y_batch.size(2) * y_batch.size(3))\n",
    "\n",
    "        # jaccard index (IoU) calculation\n",
    "        jaccard.update(predictions, y_batch)\n",
    "\n",
    "    accuracy = (correct_predictions/total_predictions) * 100  # Convert to percentage\n",
    "    average_loss = epoch_loss / len(trainloader)\n",
    "    iou = jaccard.compute()\n",
    "\n",
    "    return average_loss, accuracy, iou\n",
    "\n",
    "def evaluate(model, testloader, loss_fn, device):\n",
    "    model.eval()\n",
    "    epoch_loss = 0.0\n",
    "    correct_predictions = 0\n",
    "    total_predictions = 0\n",
    "    jaccard = JaccardIndex(task='binary').to(DEVICE)\n",
    "\n",
    "    with torch.no_grad():\n",
    "        for x_batch, y_batch in testloader:\n",
    "            x_batch = x_batch.float().to(device)\n",
    "            y_batch = y_batch.float().to(device)\n",
    "\n",
    "            # Forward pass and loss calculation\n",
    "            yhat = model(x_batch)\n",
    "            loss = loss_fn(yhat, y_batch)\n",
    "            epoch_loss += loss.item()\n",
    "\n",
    "            # Predictions\n",
    "            predicted_classes = (yhat > 0.5).float() # Round to get binary predictions\n",
    "            correct_predictions += torch.sum(predicted_classes == y_batch).item()\n",
    "            total_predictions += (y_batch.size(0) * y_batch.size(1) * y_batch.size(2) * y_batch.size(3))\n",
    "\n",
    "            #jaccard calculation\n",
    "            jaccard.update(predicted_classes, y_batch)\n",
    "\n",
    "    accuracy = (correct_predictions / total_predictions) * 100  # Convert to percentage\n",
    "    average_loss = epoch_loss / len(testloader)\n",
    "    iou = jaccard.compute()\n",
    "\n",
    "    return average_loss, accuracy, iou\n"
   ]
  },
  {
   "cell_type": "code",
   "execution_count": null,
   "metadata": {},
   "outputs": [],
   "source": [
    "class EarlyStopping:\n",
    "    def __init__(self, patience=10, delta=0):\n",
    "        \"\"\"\n",
    "        Args:\n",
    "            patience (int): Berapa banyak epoch untuk menunggu sebelum berhenti ketika tidak ada peningkatan.\n",
    "            delta (float): Minimum perubahan pada monitored metric untuk dianggap peningkatan.\n",
    "        \"\"\"\n",
    "        self.patience = patience\n",
    "        self.delta = delta\n",
    "        self.best_loss = None\n",
    "        self.counter = 0\n",
    "        self.best_model_wts = None\n",
    "        self.early_stop = False\n",
    "\n",
    "    def __call__(self, val_loss, model):\n",
    "        if self.best_loss is None or val_loss < self.best_loss - self.delta:\n",
    "            self.best_loss = val_loss\n",
    "            self.counter = 0\n",
    "            self.best_model_wts = model.state_dict()\n",
    "        else:\n",
    "            self.counter += 1\n",
    "            if self.counter >= self.patience:\n",
    "                self.early_stop = True"
   ]
  },
  {
   "cell_type": "code",
   "execution_count": null,
   "metadata": {},
   "outputs": [
    {
     "name": "stderr",
     "output_type": "stream",
     "text": [
      "100%|██████████| 246/246 [01:05<00:00,  3.74it/s]\n"
     ]
    },
    {
     "name": "stdout",
     "output_type": "stream",
     "text": [
      "Epoch 1/250: Train Loss: 0.5270, Train Accuracy: 70.8177, Train IOU: 0.4948, Test Loss: 0.5036, Test Accuracy: 72.4749, Test IOU: 0.5090\n"
     ]
    },
    {
     "name": "stderr",
     "output_type": "stream",
     "text": [
      "100%|██████████| 246/246 [01:04<00:00,  3.83it/s]\n"
     ]
    },
    {
     "name": "stdout",
     "output_type": "stream",
     "text": [
      "Epoch 2/250: Train Loss: 0.5255, Train Accuracy: 70.7849, Train IOU: 0.4920, Test Loss: 0.5054, Test Accuracy: 72.3521, Test IOU: 0.5064\n"
     ]
    },
    {
     "name": "stderr",
     "output_type": "stream",
     "text": [
      "100%|██████████| 246/246 [01:04<00:00,  3.80it/s]\n"
     ]
    },
    {
     "name": "stdout",
     "output_type": "stream",
     "text": [
      "Epoch 3/250: Train Loss: 0.5271, Train Accuracy: 70.7976, Train IOU: 0.4909, Test Loss: 0.4998, Test Accuracy: 72.5462, Test IOU: 0.5079\n"
     ]
    },
    {
     "name": "stderr",
     "output_type": "stream",
     "text": [
      "100%|██████████| 246/246 [01:04<00:00,  3.79it/s]\n"
     ]
    },
    {
     "name": "stdout",
     "output_type": "stream",
     "text": [
      "Epoch 4/250: Train Loss: 0.5252, Train Accuracy: 70.9884, Train IOU: 0.4952, Test Loss: 0.4979, Test Accuracy: 72.7328, Test IOU: 0.5122\n"
     ]
    },
    {
     "name": "stderr",
     "output_type": "stream",
     "text": [
      "100%|██████████| 246/246 [01:05<00:00,  3.76it/s]\n"
     ]
    },
    {
     "name": "stdout",
     "output_type": "stream",
     "text": [
      "Epoch 5/250: Train Loss: 0.5234, Train Accuracy: 70.7627, Train IOU: 0.4920, Test Loss: 0.4989, Test Accuracy: 72.7224, Test IOU: 0.5166\n"
     ]
    },
    {
     "name": "stderr",
     "output_type": "stream",
     "text": [
      "100%|██████████| 246/246 [01:05<00:00,  3.77it/s]\n"
     ]
    },
    {
     "name": "stdout",
     "output_type": "stream",
     "text": [
      "Epoch 6/250: Train Loss: 0.5211, Train Accuracy: 71.1416, Train IOU: 0.4978, Test Loss: 0.4987, Test Accuracy: 72.7578, Test IOU: 0.5108\n"
     ]
    },
    {
     "name": "stderr",
     "output_type": "stream",
     "text": [
      "100%|██████████| 246/246 [01:05<00:00,  3.76it/s]\n"
     ]
    },
    {
     "name": "stdout",
     "output_type": "stream",
     "text": [
      "Epoch 7/250: Train Loss: 0.5193, Train Accuracy: 71.2018, Train IOU: 0.4964, Test Loss: 0.4949, Test Accuracy: 72.9748, Test IOU: 0.5134\n"
     ]
    },
    {
     "name": "stderr",
     "output_type": "stream",
     "text": [
      "100%|██████████| 246/246 [01:05<00:00,  3.75it/s]\n"
     ]
    },
    {
     "name": "stdout",
     "output_type": "stream",
     "text": [
      "Epoch 8/250: Train Loss: 0.5203, Train Accuracy: 71.2666, Train IOU: 0.4982, Test Loss: 0.4953, Test Accuracy: 73.0720, Test IOU: 0.5178\n"
     ]
    },
    {
     "name": "stderr",
     "output_type": "stream",
     "text": [
      "100%|██████████| 246/246 [01:06<00:00,  3.69it/s]\n"
     ]
    },
    {
     "name": "stdout",
     "output_type": "stream",
     "text": [
      "Epoch 9/250: Train Loss: 0.5206, Train Accuracy: 71.0626, Train IOU: 0.4947, Test Loss: 0.4893, Test Accuracy: 73.3508, Test IOU: 0.5259\n"
     ]
    },
    {
     "name": "stderr",
     "output_type": "stream",
     "text": [
      "100%|██████████| 246/246 [01:06<00:00,  3.67it/s]\n"
     ]
    },
    {
     "name": "stdout",
     "output_type": "stream",
     "text": [
      "Epoch 10/250: Train Loss: 0.5182, Train Accuracy: 71.4941, Train IOU: 0.5013, Test Loss: 0.4871, Test Accuracy: 73.3643, Test IOU: 0.5224\n"
     ]
    },
    {
     "name": "stderr",
     "output_type": "stream",
     "text": [
      "100%|██████████| 246/246 [01:06<00:00,  3.70it/s]\n"
     ]
    },
    {
     "name": "stdout",
     "output_type": "stream",
     "text": [
      "Epoch 11/250: Train Loss: 0.5181, Train Accuracy: 71.3286, Train IOU: 0.4974, Test Loss: 0.4885, Test Accuracy: 73.3019, Test IOU: 0.5144\n"
     ]
    },
    {
     "name": "stderr",
     "output_type": "stream",
     "text": [
      "100%|██████████| 246/246 [01:06<00:00,  3.68it/s]\n"
     ]
    },
    {
     "name": "stdout",
     "output_type": "stream",
     "text": [
      "Epoch 12/250: Train Loss: 0.5152, Train Accuracy: 71.6993, Train IOU: 0.5038, Test Loss: 0.4857, Test Accuracy: 73.8184, Test IOU: 0.5293\n"
     ]
    },
    {
     "name": "stderr",
     "output_type": "stream",
     "text": [
      "100%|██████████| 246/246 [01:06<00:00,  3.69it/s]\n"
     ]
    },
    {
     "name": "stdout",
     "output_type": "stream",
     "text": [
      "Epoch 13/250: Train Loss: 0.5115, Train Accuracy: 71.7093, Train IOU: 0.5032, Test Loss: 0.4879, Test Accuracy: 73.5900, Test IOU: 0.5201\n"
     ]
    },
    {
     "name": "stderr",
     "output_type": "stream",
     "text": [
      "100%|██████████| 246/246 [01:06<00:00,  3.69it/s]\n"
     ]
    },
    {
     "name": "stdout",
     "output_type": "stream",
     "text": [
      "Epoch 14/250: Train Loss: 0.5115, Train Accuracy: 71.8450, Train IOU: 0.5056, Test Loss: 0.4836, Test Accuracy: 73.4750, Test IOU: 0.5217\n"
     ]
    },
    {
     "name": "stderr",
     "output_type": "stream",
     "text": [
      "100%|██████████| 246/246 [01:07<00:00,  3.65it/s]\n"
     ]
    },
    {
     "name": "stdout",
     "output_type": "stream",
     "text": [
      "Epoch 15/250: Train Loss: 0.5117, Train Accuracy: 71.6524, Train IOU: 0.5029, Test Loss: 0.4835, Test Accuracy: 73.6318, Test IOU: 0.5242\n"
     ]
    },
    {
     "name": "stderr",
     "output_type": "stream",
     "text": [
      "100%|██████████| 246/246 [01:06<00:00,  3.67it/s]\n"
     ]
    },
    {
     "name": "stdout",
     "output_type": "stream",
     "text": [
      "Epoch 16/250: Train Loss: 0.5109, Train Accuracy: 71.9463, Train IOU: 0.5071, Test Loss: 0.4823, Test Accuracy: 73.9373, Test IOU: 0.5299\n"
     ]
    },
    {
     "name": "stderr",
     "output_type": "stream",
     "text": [
      "100%|██████████| 246/246 [01:06<00:00,  3.68it/s]\n"
     ]
    },
    {
     "name": "stdout",
     "output_type": "stream",
     "text": [
      "Epoch 17/250: Train Loss: 0.5098, Train Accuracy: 71.7789, Train IOU: 0.5039, Test Loss: 0.4762, Test Accuracy: 74.2209, Test IOU: 0.5312\n"
     ]
    },
    {
     "name": "stderr",
     "output_type": "stream",
     "text": [
      "100%|██████████| 246/246 [01:07<00:00,  3.67it/s]\n"
     ]
    },
    {
     "name": "stdout",
     "output_type": "stream",
     "text": [
      "Epoch 18/250: Train Loss: 0.5104, Train Accuracy: 71.9291, Train IOU: 0.5059, Test Loss: 0.4770, Test Accuracy: 74.3890, Test IOU: 0.5408\n"
     ]
    },
    {
     "name": "stderr",
     "output_type": "stream",
     "text": [
      "100%|██████████| 246/246 [01:07<00:00,  3.67it/s]\n"
     ]
    },
    {
     "name": "stdout",
     "output_type": "stream",
     "text": [
      "Epoch 19/250: Train Loss: 0.5073, Train Accuracy: 72.0457, Train IOU: 0.5082, Test Loss: 0.4773, Test Accuracy: 73.9742, Test IOU: 0.5268\n"
     ]
    },
    {
     "name": "stderr",
     "output_type": "stream",
     "text": [
      "100%|██████████| 246/246 [01:07<00:00,  3.65it/s]\n"
     ]
    },
    {
     "name": "stdout",
     "output_type": "stream",
     "text": [
      "Epoch 20/250: Train Loss: 0.5070, Train Accuracy: 72.0547, Train IOU: 0.5086, Test Loss: 0.4744, Test Accuracy: 74.2506, Test IOU: 0.5315\n"
     ]
    },
    {
     "name": "stderr",
     "output_type": "stream",
     "text": [
      "100%|██████████| 246/246 [01:07<00:00,  3.64it/s]\n"
     ]
    },
    {
     "name": "stdout",
     "output_type": "stream",
     "text": [
      "Epoch 21/250: Train Loss: 0.5094, Train Accuracy: 71.8696, Train IOU: 0.5061, Test Loss: 0.4708, Test Accuracy: 74.3736, Test IOU: 0.5288\n"
     ]
    },
    {
     "name": "stderr",
     "output_type": "stream",
     "text": [
      "100%|██████████| 246/246 [01:06<00:00,  3.68it/s]\n"
     ]
    },
    {
     "name": "stdout",
     "output_type": "stream",
     "text": [
      "Epoch 22/250: Train Loss: 0.5065, Train Accuracy: 72.1156, Train IOU: 0.5102, Test Loss: 0.4719, Test Accuracy: 74.4489, Test IOU: 0.5338\n"
     ]
    },
    {
     "name": "stderr",
     "output_type": "stream",
     "text": [
      "100%|██████████| 246/246 [01:07<00:00,  3.67it/s]\n"
     ]
    },
    {
     "name": "stdout",
     "output_type": "stream",
     "text": [
      "Epoch 23/250: Train Loss: 0.5021, Train Accuracy: 72.5364, Train IOU: 0.5159, Test Loss: 0.4772, Test Accuracy: 74.6609, Test IOU: 0.5472\n"
     ]
    },
    {
     "name": "stderr",
     "output_type": "stream",
     "text": [
      "100%|██████████| 246/246 [01:07<00:00,  3.64it/s]\n"
     ]
    },
    {
     "name": "stdout",
     "output_type": "stream",
     "text": [
      "Epoch 24/250: Train Loss: 0.5072, Train Accuracy: 72.1508, Train IOU: 0.5108, Test Loss: 0.4694, Test Accuracy: 74.8228, Test IOU: 0.5456\n"
     ]
    },
    {
     "name": "stderr",
     "output_type": "stream",
     "text": [
      "100%|██████████| 246/246 [01:07<00:00,  3.66it/s]\n"
     ]
    },
    {
     "name": "stdout",
     "output_type": "stream",
     "text": [
      "Epoch 25/250: Train Loss: 0.4994, Train Accuracy: 72.6258, Train IOU: 0.5179, Test Loss: 0.4689, Test Accuracy: 75.0163, Test IOU: 0.5496\n"
     ]
    },
    {
     "name": "stderr",
     "output_type": "stream",
     "text": [
      "100%|██████████| 246/246 [01:07<00:00,  3.67it/s]\n"
     ]
    },
    {
     "name": "stdout",
     "output_type": "stream",
     "text": [
      "Epoch 26/250: Train Loss: 0.5013, Train Accuracy: 72.6414, Train IOU: 0.5185, Test Loss: 0.4731, Test Accuracy: 74.7408, Test IOU: 0.5442\n"
     ]
    },
    {
     "name": "stderr",
     "output_type": "stream",
     "text": [
      "100%|██████████| 246/246 [01:07<00:00,  3.66it/s]\n"
     ]
    },
    {
     "name": "stdout",
     "output_type": "stream",
     "text": [
      "Epoch 27/250: Train Loss: 0.5011, Train Accuracy: 72.5867, Train IOU: 0.5172, Test Loss: 0.4684, Test Accuracy: 74.9326, Test IOU: 0.5397\n"
     ]
    },
    {
     "name": "stderr",
     "output_type": "stream",
     "text": [
      "100%|██████████| 246/246 [05:27<00:00,  1.33s/it]\n"
     ]
    },
    {
     "name": "stdout",
     "output_type": "stream",
     "text": [
      "Epoch 28/250: Train Loss: 0.5001, Train Accuracy: 72.5846, Train IOU: 0.5169, Test Loss: 0.4695, Test Accuracy: 74.7139, Test IOU: 0.5366\n"
     ]
    },
    {
     "name": "stderr",
     "output_type": "stream",
     "text": [
      "100%|██████████| 246/246 [01:30<00:00,  2.72it/s]\n"
     ]
    },
    {
     "name": "stdout",
     "output_type": "stream",
     "text": [
      "Epoch 29/250: Train Loss: 0.4981, Train Accuracy: 72.7158, Train IOU: 0.5190, Test Loss: 0.4713, Test Accuracy: 75.4164, Test IOU: 0.5598\n"
     ]
    },
    {
     "name": "stderr",
     "output_type": "stream",
     "text": [
      "100%|██████████| 246/246 [01:31<00:00,  2.70it/s]\n"
     ]
    },
    {
     "name": "stdout",
     "output_type": "stream",
     "text": [
      "Epoch 30/250: Train Loss: 0.4969, Train Accuracy: 72.7263, Train IOU: 0.5199, Test Loss: 0.4667, Test Accuracy: 75.4749, Test IOU: 0.5517\n"
     ]
    },
    {
     "name": "stderr",
     "output_type": "stream",
     "text": [
      "100%|██████████| 246/246 [01:34<00:00,  2.61it/s]\n"
     ]
    },
    {
     "name": "stdout",
     "output_type": "stream",
     "text": [
      "Epoch 31/250: Train Loss: 0.4957, Train Accuracy: 73.0227, Train IOU: 0.5234, Test Loss: 0.4614, Test Accuracy: 75.9459, Test IOU: 0.5652\n"
     ]
    },
    {
     "name": "stderr",
     "output_type": "stream",
     "text": [
      "100%|██████████| 246/246 [01:04<00:00,  3.82it/s]\n"
     ]
    },
    {
     "name": "stdout",
     "output_type": "stream",
     "text": [
      "Epoch 32/250: Train Loss: 0.4982, Train Accuracy: 72.6242, Train IOU: 0.5177, Test Loss: 0.4629, Test Accuracy: 75.5806, Test IOU: 0.5545\n"
     ]
    },
    {
     "name": "stderr",
     "output_type": "stream",
     "text": [
      "100%|██████████| 246/246 [01:04<00:00,  3.80it/s]\n"
     ]
    },
    {
     "name": "stdout",
     "output_type": "stream",
     "text": [
      "Epoch 33/250: Train Loss: 0.4959, Train Accuracy: 73.2130, Train IOU: 0.5268, Test Loss: 0.4642, Test Accuracy: 75.4614, Test IOU: 0.5476\n"
     ]
    },
    {
     "name": "stderr",
     "output_type": "stream",
     "text": [
      "100%|██████████| 246/246 [01:05<00:00,  3.75it/s]\n"
     ]
    },
    {
     "name": "stdout",
     "output_type": "stream",
     "text": [
      "Epoch 34/250: Train Loss: 0.4928, Train Accuracy: 73.0738, Train IOU: 0.5238, Test Loss: 0.4650, Test Accuracy: 75.3240, Test IOU: 0.5431\n"
     ]
    },
    {
     "name": "stderr",
     "output_type": "stream",
     "text": [
      "100%|██████████| 246/246 [01:05<00:00,  3.74it/s]\n"
     ]
    },
    {
     "name": "stdout",
     "output_type": "stream",
     "text": [
      "Epoch 35/250: Train Loss: 0.4946, Train Accuracy: 73.2895, Train IOU: 0.5294, Test Loss: 0.4578, Test Accuracy: 75.7233, Test IOU: 0.5530\n"
     ]
    },
    {
     "name": "stderr",
     "output_type": "stream",
     "text": [
      "100%|██████████| 246/246 [01:06<00:00,  3.71it/s]\n"
     ]
    },
    {
     "name": "stdout",
     "output_type": "stream",
     "text": [
      "Epoch 36/250: Train Loss: 0.4931, Train Accuracy: 73.3712, Train IOU: 0.5290, Test Loss: 0.4578, Test Accuracy: 76.2893, Test IOU: 0.5675\n"
     ]
    },
    {
     "name": "stderr",
     "output_type": "stream",
     "text": [
      "100%|██████████| 246/246 [01:06<00:00,  3.71it/s]\n"
     ]
    },
    {
     "name": "stdout",
     "output_type": "stream",
     "text": [
      "Epoch 37/250: Train Loss: 0.4902, Train Accuracy: 73.6784, Train IOU: 0.5351, Test Loss: 0.4616, Test Accuracy: 76.4853, Test IOU: 0.5750\n"
     ]
    },
    {
     "name": "stderr",
     "output_type": "stream",
     "text": [
      "100%|██████████| 246/246 [01:06<00:00,  3.71it/s]\n"
     ]
    },
    {
     "name": "stdout",
     "output_type": "stream",
     "text": [
      "Epoch 38/250: Train Loss: 0.4883, Train Accuracy: 73.6583, Train IOU: 0.5338, Test Loss: 0.4535, Test Accuracy: 75.8745, Test IOU: 0.5498\n"
     ]
    },
    {
     "name": "stderr",
     "output_type": "stream",
     "text": [
      "100%|██████████| 246/246 [01:06<00:00,  3.68it/s]\n"
     ]
    },
    {
     "name": "stdout",
     "output_type": "stream",
     "text": [
      "Epoch 39/250: Train Loss: 0.4945, Train Accuracy: 73.4378, Train IOU: 0.5313, Test Loss: 0.4530, Test Accuracy: 76.6029, Test IOU: 0.5745\n"
     ]
    },
    {
     "name": "stderr",
     "output_type": "stream",
     "text": [
      "100%|██████████| 246/246 [01:06<00:00,  3.69it/s]\n"
     ]
    },
    {
     "name": "stdout",
     "output_type": "stream",
     "text": [
      "Epoch 40/250: Train Loss: 0.4886, Train Accuracy: 73.6420, Train IOU: 0.5350, Test Loss: 0.4504, Test Accuracy: 76.3025, Test IOU: 0.5658\n"
     ]
    },
    {
     "name": "stderr",
     "output_type": "stream",
     "text": [
      "100%|██████████| 246/246 [01:06<00:00,  3.70it/s]\n"
     ]
    },
    {
     "name": "stdout",
     "output_type": "stream",
     "text": [
      "Epoch 41/250: Train Loss: 0.4885, Train Accuracy: 73.8433, Train IOU: 0.5383, Test Loss: 0.4503, Test Accuracy: 76.5961, Test IOU: 0.5674\n"
     ]
    },
    {
     "name": "stderr",
     "output_type": "stream",
     "text": [
      "100%|██████████| 246/246 [01:06<00:00,  3.69it/s]\n"
     ]
    },
    {
     "name": "stdout",
     "output_type": "stream",
     "text": [
      "Epoch 42/250: Train Loss: 0.4874, Train Accuracy: 73.9532, Train IOU: 0.5395, Test Loss: 0.4476, Test Accuracy: 77.1187, Test IOU: 0.5820\n"
     ]
    },
    {
     "name": "stderr",
     "output_type": "stream",
     "text": [
      "100%|██████████| 246/246 [01:06<00:00,  3.70it/s]\n"
     ]
    },
    {
     "name": "stdout",
     "output_type": "stream",
     "text": [
      "Epoch 43/250: Train Loss: 0.4833, Train Accuracy: 74.1628, Train IOU: 0.5429, Test Loss: 0.4478, Test Accuracy: 76.8905, Test IOU: 0.5756\n"
     ]
    },
    {
     "name": "stderr",
     "output_type": "stream",
     "text": [
      "100%|██████████| 246/246 [01:06<00:00,  3.68it/s]\n"
     ]
    },
    {
     "name": "stdout",
     "output_type": "stream",
     "text": [
      "Epoch 44/250: Train Loss: 0.4893, Train Accuracy: 73.8444, Train IOU: 0.5396, Test Loss: 0.4551, Test Accuracy: 76.9028, Test IOU: 0.5825\n"
     ]
    },
    {
     "name": "stderr",
     "output_type": "stream",
     "text": [
      "100%|██████████| 246/246 [01:06<00:00,  3.69it/s]\n"
     ]
    },
    {
     "name": "stdout",
     "output_type": "stream",
     "text": [
      "Epoch 45/250: Train Loss: 0.4907, Train Accuracy: 73.7502, Train IOU: 0.5382, Test Loss: 0.4484, Test Accuracy: 77.2900, Test IOU: 0.5826\n"
     ]
    },
    {
     "name": "stderr",
     "output_type": "stream",
     "text": [
      "100%|██████████| 246/246 [01:06<00:00,  3.67it/s]\n"
     ]
    },
    {
     "name": "stdout",
     "output_type": "stream",
     "text": [
      "Epoch 46/250: Train Loss: 0.4836, Train Accuracy: 74.1621, Train IOU: 0.5439, Test Loss: 0.4469, Test Accuracy: 77.0983, Test IOU: 0.5787\n"
     ]
    },
    {
     "name": "stderr",
     "output_type": "stream",
     "text": [
      "100%|██████████| 246/246 [01:06<00:00,  3.68it/s]\n"
     ]
    },
    {
     "name": "stdout",
     "output_type": "stream",
     "text": [
      "Epoch 47/250: Train Loss: 0.4853, Train Accuracy: 74.2071, Train IOU: 0.5446, Test Loss: 0.4448, Test Accuracy: 77.0899, Test IOU: 0.5784\n"
     ]
    },
    {
     "name": "stderr",
     "output_type": "stream",
     "text": [
      "100%|██████████| 246/246 [01:06<00:00,  3.69it/s]\n"
     ]
    },
    {
     "name": "stdout",
     "output_type": "stream",
     "text": [
      "Epoch 48/250: Train Loss: 0.4836, Train Accuracy: 74.3732, Train IOU: 0.5486, Test Loss: 0.4432, Test Accuracy: 77.4847, Test IOU: 0.5854\n"
     ]
    },
    {
     "name": "stderr",
     "output_type": "stream",
     "text": [
      "100%|██████████| 246/246 [01:07<00:00,  3.66it/s]\n"
     ]
    },
    {
     "name": "stdout",
     "output_type": "stream",
     "text": [
      "Epoch 49/250: Train Loss: 0.4812, Train Accuracy: 74.6101, Train IOU: 0.5523, Test Loss: 0.4522, Test Accuracy: 77.7155, Test IOU: 0.5949\n"
     ]
    },
    {
     "name": "stderr",
     "output_type": "stream",
     "text": [
      "100%|██████████| 246/246 [01:07<00:00,  3.67it/s]\n"
     ]
    },
    {
     "name": "stdout",
     "output_type": "stream",
     "text": [
      "Epoch 50/250: Train Loss: 0.4820, Train Accuracy: 74.7017, Train IOU: 0.5536, Test Loss: 0.4461, Test Accuracy: 77.7276, Test IOU: 0.5919\n"
     ]
    },
    {
     "name": "stderr",
     "output_type": "stream",
     "text": [
      "100%|██████████| 246/246 [01:06<00:00,  3.67it/s]\n"
     ]
    },
    {
     "name": "stdout",
     "output_type": "stream",
     "text": [
      "Epoch 51/250: Train Loss: 0.4787, Train Accuracy: 74.7252, Train IOU: 0.5545, Test Loss: 0.4412, Test Accuracy: 78.2803, Test IOU: 0.6045\n"
     ]
    },
    {
     "name": "stderr",
     "output_type": "stream",
     "text": [
      "100%|██████████| 246/246 [01:07<00:00,  3.67it/s]\n"
     ]
    },
    {
     "name": "stdout",
     "output_type": "stream",
     "text": [
      "Epoch 52/250: Train Loss: 0.4767, Train Accuracy: 74.9760, Train IOU: 0.5585, Test Loss: 0.4410, Test Accuracy: 78.0282, Test IOU: 0.5978\n"
     ]
    },
    {
     "name": "stderr",
     "output_type": "stream",
     "text": [
      "100%|██████████| 246/246 [01:07<00:00,  3.65it/s]\n"
     ]
    },
    {
     "name": "stdout",
     "output_type": "stream",
     "text": [
      "Epoch 53/250: Train Loss: 0.4791, Train Accuracy: 74.9136, Train IOU: 0.5587, Test Loss: 0.4427, Test Accuracy: 78.1824, Test IOU: 0.5995\n"
     ]
    },
    {
     "name": "stderr",
     "output_type": "stream",
     "text": [
      "100%|██████████| 246/246 [04:32<00:00,  1.11s/it]\n"
     ]
    },
    {
     "name": "stdout",
     "output_type": "stream",
     "text": [
      "Epoch 54/250: Train Loss: 0.4778, Train Accuracy: 74.9916, Train IOU: 0.5599, Test Loss: 0.4421, Test Accuracy: 78.6414, Test IOU: 0.6124\n"
     ]
    },
    {
     "name": "stderr",
     "output_type": "stream",
     "text": [
      "100%|██████████| 246/246 [05:23<00:00,  1.31s/it]\n"
     ]
    },
    {
     "name": "stdout",
     "output_type": "stream",
     "text": [
      "Epoch 55/250: Train Loss: 0.4794, Train Accuracy: 75.2011, Train IOU: 0.5629, Test Loss: 0.4399, Test Accuracy: 78.5913, Test IOU: 0.6084\n"
     ]
    },
    {
     "name": "stderr",
     "output_type": "stream",
     "text": [
      "100%|██████████| 246/246 [01:29<00:00,  2.75it/s]\n"
     ]
    },
    {
     "name": "stdout",
     "output_type": "stream",
     "text": [
      "Epoch 56/250: Train Loss: 0.4735, Train Accuracy: 75.4743, Train IOU: 0.5666, Test Loss: 0.4456, Test Accuracy: 78.3551, Test IOU: 0.6083\n"
     ]
    },
    {
     "name": "stderr",
     "output_type": "stream",
     "text": [
      "100%|██████████| 246/246 [01:28<00:00,  2.77it/s]\n"
     ]
    },
    {
     "name": "stdout",
     "output_type": "stream",
     "text": [
      "Epoch 57/250: Train Loss: 0.4790, Train Accuracy: 75.1286, Train IOU: 0.5632, Test Loss: 0.4354, Test Accuracy: 78.8910, Test IOU: 0.6165\n"
     ]
    },
    {
     "name": "stderr",
     "output_type": "stream",
     "text": [
      "100%|██████████| 246/246 [05:34<00:00,  1.36s/it]\n"
     ]
    },
    {
     "name": "stdout",
     "output_type": "stream",
     "text": [
      "Epoch 58/250: Train Loss: 0.4738, Train Accuracy: 75.4633, Train IOU: 0.5675, Test Loss: 0.4368, Test Accuracy: 78.8206, Test IOU: 0.6135\n"
     ]
    },
    {
     "name": "stderr",
     "output_type": "stream",
     "text": [
      "100%|██████████| 246/246 [01:29<00:00,  2.76it/s]\n"
     ]
    },
    {
     "name": "stdout",
     "output_type": "stream",
     "text": [
      "Epoch 59/250: Train Loss: 0.4773, Train Accuracy: 75.2673, Train IOU: 0.5655, Test Loss: 0.4379, Test Accuracy: 78.7677, Test IOU: 0.6077\n"
     ]
    },
    {
     "name": "stderr",
     "output_type": "stream",
     "text": [
      "100%|██████████| 246/246 [05:33<00:00,  1.35s/it]\n"
     ]
    },
    {
     "name": "stdout",
     "output_type": "stream",
     "text": [
      "Epoch 60/250: Train Loss: 0.4701, Train Accuracy: 75.6879, Train IOU: 0.5718, Test Loss: 0.4314, Test Accuracy: 78.5573, Test IOU: 0.6018\n"
     ]
    },
    {
     "name": "stderr",
     "output_type": "stream",
     "text": [
      "100%|██████████| 246/246 [01:28<00:00,  2.77it/s]\n"
     ]
    },
    {
     "name": "stdout",
     "output_type": "stream",
     "text": [
      "Epoch 61/250: Train Loss: 0.4715, Train Accuracy: 75.8804, Train IOU: 0.5747, Test Loss: 0.4327, Test Accuracy: 79.0228, Test IOU: 0.6127\n"
     ]
    },
    {
     "name": "stderr",
     "output_type": "stream",
     "text": [
      "100%|██████████| 246/246 [01:28<00:00,  2.78it/s]\n"
     ]
    },
    {
     "name": "stdout",
     "output_type": "stream",
     "text": [
      "Epoch 62/250: Train Loss: 0.4703, Train Accuracy: 75.8956, Train IOU: 0.5762, Test Loss: 0.4420, Test Accuracy: 79.1433, Test IOU: 0.6214\n"
     ]
    },
    {
     "name": "stderr",
     "output_type": "stream",
     "text": [
      "100%|██████████| 246/246 [01:29<00:00,  2.75it/s]\n"
     ]
    },
    {
     "name": "stdout",
     "output_type": "stream",
     "text": [
      "Epoch 63/250: Train Loss: 0.4700, Train Accuracy: 75.8250, Train IOU: 0.5749, Test Loss: 0.4376, Test Accuracy: 79.3752, Test IOU: 0.6265\n"
     ]
    },
    {
     "name": "stderr",
     "output_type": "stream",
     "text": [
      "100%|██████████| 246/246 [01:28<00:00,  2.80it/s]\n"
     ]
    },
    {
     "name": "stdout",
     "output_type": "stream",
     "text": [
      "Epoch 64/250: Train Loss: 0.4703, Train Accuracy: 76.0601, Train IOU: 0.5781, Test Loss: 0.4302, Test Accuracy: 79.3383, Test IOU: 0.6191\n"
     ]
    },
    {
     "name": "stderr",
     "output_type": "stream",
     "text": [
      "100%|██████████| 246/246 [01:28<00:00,  2.79it/s]\n"
     ]
    },
    {
     "name": "stdout",
     "output_type": "stream",
     "text": [
      "Epoch 65/250: Train Loss: 0.4673, Train Accuracy: 76.4907, Train IOU: 0.5852, Test Loss: 0.4292, Test Accuracy: 79.7697, Test IOU: 0.6304\n"
     ]
    },
    {
     "name": "stderr",
     "output_type": "stream",
     "text": [
      "100%|██████████| 246/246 [01:28<00:00,  2.78it/s]\n"
     ]
    },
    {
     "name": "stdout",
     "output_type": "stream",
     "text": [
      "Epoch 66/250: Train Loss: 0.4686, Train Accuracy: 76.0781, Train IOU: 0.5790, Test Loss: 0.4278, Test Accuracy: 79.2483, Test IOU: 0.6165\n"
     ]
    },
    {
     "name": "stderr",
     "output_type": "stream",
     "text": [
      "100%|██████████| 246/246 [01:29<00:00,  2.75it/s]\n"
     ]
    },
    {
     "name": "stdout",
     "output_type": "stream",
     "text": [
      "Epoch 67/250: Train Loss: 0.4731, Train Accuracy: 75.9265, Train IOU: 0.5772, Test Loss: 0.4270, Test Accuracy: 79.9347, Test IOU: 0.6351\n"
     ]
    },
    {
     "name": "stderr",
     "output_type": "stream",
     "text": [
      "100%|██████████| 246/246 [01:34<00:00,  2.60it/s]\n"
     ]
    },
    {
     "name": "stdout",
     "output_type": "stream",
     "text": [
      "Epoch 68/250: Train Loss: 0.4659, Train Accuracy: 76.4441, Train IOU: 0.5851, Test Loss: 0.4269, Test Accuracy: 79.5515, Test IOU: 0.6239\n"
     ]
    },
    {
     "name": "stderr",
     "output_type": "stream",
     "text": [
      "100%|██████████| 246/246 [01:29<00:00,  2.74it/s]\n"
     ]
    },
    {
     "name": "stdout",
     "output_type": "stream",
     "text": [
      "Epoch 69/250: Train Loss: 0.4709, Train Accuracy: 76.2833, Train IOU: 0.5830, Test Loss: 0.4253, Test Accuracy: 79.8311, Test IOU: 0.6311\n"
     ]
    },
    {
     "name": "stderr",
     "output_type": "stream",
     "text": [
      "100%|██████████| 246/246 [01:28<00:00,  2.77it/s]\n"
     ]
    },
    {
     "name": "stdout",
     "output_type": "stream",
     "text": [
      "Epoch 70/250: Train Loss: 0.4610, Train Accuracy: 76.6747, Train IOU: 0.5890, Test Loss: 0.4219, Test Accuracy: 79.8976, Test IOU: 0.6295\n"
     ]
    },
    {
     "name": "stderr",
     "output_type": "stream",
     "text": [
      "100%|██████████| 246/246 [05:33<00:00,  1.36s/it]\n"
     ]
    },
    {
     "name": "stdout",
     "output_type": "stream",
     "text": [
      "Epoch 71/250: Train Loss: 0.4656, Train Accuracy: 76.4176, Train IOU: 0.5850, Test Loss: 0.4240, Test Accuracy: 79.9088, Test IOU: 0.6321\n"
     ]
    },
    {
     "name": "stderr",
     "output_type": "stream",
     "text": [
      "100%|██████████| 246/246 [01:28<00:00,  2.77it/s]\n"
     ]
    },
    {
     "name": "stdout",
     "output_type": "stream",
     "text": [
      "Epoch 72/250: Train Loss: 0.4657, Train Accuracy: 76.6093, Train IOU: 0.5888, Test Loss: 0.4229, Test Accuracy: 79.6889, Test IOU: 0.6235\n"
     ]
    },
    {
     "name": "stderr",
     "output_type": "stream",
     "text": [
      "100%|██████████| 246/246 [01:28<00:00,  2.79it/s]\n"
     ]
    },
    {
     "name": "stdout",
     "output_type": "stream",
     "text": [
      "Epoch 73/250: Train Loss: 0.4645, Train Accuracy: 76.5874, Train IOU: 0.5887, Test Loss: 0.4244, Test Accuracy: 80.2452, Test IOU: 0.6429\n"
     ]
    },
    {
     "name": "stderr",
     "output_type": "stream",
     "text": [
      "100%|██████████| 246/246 [01:30<00:00,  2.72it/s]\n"
     ]
    },
    {
     "name": "stdout",
     "output_type": "stream",
     "text": [
      "Epoch 74/250: Train Loss: 0.4644, Train Accuracy: 76.8080, Train IOU: 0.5931, Test Loss: 0.4243, Test Accuracy: 79.8258, Test IOU: 0.6298\n"
     ]
    },
    {
     "name": "stderr",
     "output_type": "stream",
     "text": [
      "100%|██████████| 246/246 [05:09<00:00,  1.26s/it]\n"
     ]
    },
    {
     "name": "stdout",
     "output_type": "stream",
     "text": [
      "Epoch 75/250: Train Loss: 0.4642, Train Accuracy: 76.7829, Train IOU: 0.5907, Test Loss: 0.4251, Test Accuracy: 80.6085, Test IOU: 0.6523\n"
     ]
    },
    {
     "name": "stderr",
     "output_type": "stream",
     "text": [
      "100%|██████████| 246/246 [01:04<00:00,  3.82it/s]\n"
     ]
    },
    {
     "name": "stdout",
     "output_type": "stream",
     "text": [
      "Epoch 76/250: Train Loss: 0.4614, Train Accuracy: 76.7856, Train IOU: 0.5913, Test Loss: 0.4193, Test Accuracy: 80.3622, Test IOU: 0.6386\n"
     ]
    },
    {
     "name": "stderr",
     "output_type": "stream",
     "text": [
      "100%|██████████| 246/246 [01:04<00:00,  3.79it/s]\n"
     ]
    },
    {
     "name": "stdout",
     "output_type": "stream",
     "text": [
      "Epoch 77/250: Train Loss: 0.4607, Train Accuracy: 77.0269, Train IOU: 0.5958, Test Loss: 0.4232, Test Accuracy: 80.4655, Test IOU: 0.6452\n"
     ]
    },
    {
     "name": "stderr",
     "output_type": "stream",
     "text": [
      "100%|██████████| 246/246 [01:05<00:00,  3.76it/s]\n"
     ]
    },
    {
     "name": "stdout",
     "output_type": "stream",
     "text": [
      "Epoch 78/250: Train Loss: 0.4560, Train Accuracy: 77.3641, Train IOU: 0.6009, Test Loss: 0.4235, Test Accuracy: 80.0710, Test IOU: 0.6349\n"
     ]
    },
    {
     "name": "stderr",
     "output_type": "stream",
     "text": [
      "100%|██████████| 246/246 [01:04<00:00,  3.80it/s]\n"
     ]
    },
    {
     "name": "stdout",
     "output_type": "stream",
     "text": [
      "Epoch 79/250: Train Loss: 0.4578, Train Accuracy: 77.1254, Train IOU: 0.5972, Test Loss: 0.4144, Test Accuracy: 80.5403, Test IOU: 0.6424\n"
     ]
    },
    {
     "name": "stderr",
     "output_type": "stream",
     "text": [
      "100%|██████████| 246/246 [01:02<00:00,  3.92it/s]\n"
     ]
    },
    {
     "name": "stdout",
     "output_type": "stream",
     "text": [
      "Epoch 80/250: Train Loss: 0.4604, Train Accuracy: 77.0887, Train IOU: 0.5952, Test Loss: 0.4191, Test Accuracy: 80.2141, Test IOU: 0.6345\n"
     ]
    },
    {
     "name": "stderr",
     "output_type": "stream",
     "text": [
      "100%|██████████| 246/246 [01:03<00:00,  3.90it/s]\n"
     ]
    },
    {
     "name": "stdout",
     "output_type": "stream",
     "text": [
      "Epoch 81/250: Train Loss: 0.4610, Train Accuracy: 77.2854, Train IOU: 0.5996, Test Loss: 0.4176, Test Accuracy: 80.6037, Test IOU: 0.6453\n"
     ]
    },
    {
     "name": "stderr",
     "output_type": "stream",
     "text": [
      "100%|██████████| 246/246 [01:03<00:00,  3.90it/s]\n"
     ]
    },
    {
     "name": "stdout",
     "output_type": "stream",
     "text": [
      "Epoch 82/250: Train Loss: 0.4607, Train Accuracy: 77.2244, Train IOU: 0.5996, Test Loss: 0.4167, Test Accuracy: 80.4420, Test IOU: 0.6395\n"
     ]
    },
    {
     "name": "stderr",
     "output_type": "stream",
     "text": [
      "100%|██████████| 246/246 [01:03<00:00,  3.89it/s]\n"
     ]
    },
    {
     "name": "stdout",
     "output_type": "stream",
     "text": [
      "Epoch 83/250: Train Loss: 0.4553, Train Accuracy: 77.3990, Train IOU: 0.6020, Test Loss: 0.4162, Test Accuracy: 80.9232, Test IOU: 0.6550\n"
     ]
    },
    {
     "name": "stderr",
     "output_type": "stream",
     "text": [
      "100%|██████████| 246/246 [01:02<00:00,  3.91it/s]\n"
     ]
    },
    {
     "name": "stdout",
     "output_type": "stream",
     "text": [
      "Epoch 84/250: Train Loss: 0.4644, Train Accuracy: 77.0067, Train IOU: 0.5956, Test Loss: 0.4125, Test Accuracy: 80.5785, Test IOU: 0.6393\n"
     ]
    },
    {
     "name": "stderr",
     "output_type": "stream",
     "text": [
      "100%|██████████| 246/246 [01:03<00:00,  3.88it/s]\n"
     ]
    },
    {
     "name": "stdout",
     "output_type": "stream",
     "text": [
      "Epoch 85/250: Train Loss: 0.4558, Train Accuracy: 77.3259, Train IOU: 0.6000, Test Loss: 0.4154, Test Accuracy: 80.6964, Test IOU: 0.6438\n"
     ]
    },
    {
     "name": "stderr",
     "output_type": "stream",
     "text": [
      "100%|██████████| 246/246 [01:03<00:00,  3.88it/s]\n"
     ]
    },
    {
     "name": "stdout",
     "output_type": "stream",
     "text": [
      "Epoch 86/250: Train Loss: 0.4505, Train Accuracy: 77.8527, Train IOU: 0.6078, Test Loss: 0.4147, Test Accuracy: 81.0318, Test IOU: 0.6552\n"
     ]
    },
    {
     "name": "stderr",
     "output_type": "stream",
     "text": [
      "100%|██████████| 246/246 [01:03<00:00,  3.88it/s]\n"
     ]
    },
    {
     "name": "stdout",
     "output_type": "stream",
     "text": [
      "Epoch 87/250: Train Loss: 0.4577, Train Accuracy: 77.5442, Train IOU: 0.6049, Test Loss: 0.4154, Test Accuracy: 80.9762, Test IOU: 0.6540\n"
     ]
    },
    {
     "name": "stderr",
     "output_type": "stream",
     "text": [
      "100%|██████████| 246/246 [01:03<00:00,  3.86it/s]\n"
     ]
    },
    {
     "name": "stdout",
     "output_type": "stream",
     "text": [
      "Epoch 88/250: Train Loss: 0.4503, Train Accuracy: 77.9218, Train IOU: 0.6101, Test Loss: 0.4114, Test Accuracy: 80.8570, Test IOU: 0.6457\n"
     ]
    },
    {
     "name": "stderr",
     "output_type": "stream",
     "text": [
      "100%|██████████| 246/246 [01:03<00:00,  3.88it/s]\n"
     ]
    },
    {
     "name": "stdout",
     "output_type": "stream",
     "text": [
      "Epoch 89/250: Train Loss: 0.4555, Train Accuracy: 77.4963, Train IOU: 0.6034, Test Loss: 0.4101, Test Accuracy: 81.0774, Test IOU: 0.6510\n"
     ]
    },
    {
     "name": "stderr",
     "output_type": "stream",
     "text": [
      "100%|██████████| 246/246 [01:03<00:00,  3.87it/s]\n"
     ]
    },
    {
     "name": "stdout",
     "output_type": "stream",
     "text": [
      "Epoch 90/250: Train Loss: 0.4494, Train Accuracy: 77.8356, Train IOU: 0.6084, Test Loss: 0.4114, Test Accuracy: 80.9789, Test IOU: 0.6479\n"
     ]
    },
    {
     "name": "stderr",
     "output_type": "stream",
     "text": [
      "100%|██████████| 246/246 [01:03<00:00,  3.88it/s]\n"
     ]
    },
    {
     "name": "stdout",
     "output_type": "stream",
     "text": [
      "Epoch 91/250: Train Loss: 0.4537, Train Accuracy: 77.6602, Train IOU: 0.6060, Test Loss: 0.4152, Test Accuracy: 81.1409, Test IOU: 0.6574\n"
     ]
    },
    {
     "name": "stderr",
     "output_type": "stream",
     "text": [
      "100%|██████████| 246/246 [01:03<00:00,  3.87it/s]\n"
     ]
    },
    {
     "name": "stdout",
     "output_type": "stream",
     "text": [
      "Epoch 92/250: Train Loss: 0.4523, Train Accuracy: 77.7628, Train IOU: 0.6076, Test Loss: 0.4085, Test Accuracy: 80.8932, Test IOU: 0.6442\n"
     ]
    },
    {
     "name": "stderr",
     "output_type": "stream",
     "text": [
      "100%|██████████| 246/246 [01:03<00:00,  3.85it/s]\n"
     ]
    },
    {
     "name": "stdout",
     "output_type": "stream",
     "text": [
      "Epoch 93/250: Train Loss: 0.4547, Train Accuracy: 77.6079, Train IOU: 0.6053, Test Loss: 0.4097, Test Accuracy: 81.1745, Test IOU: 0.6558\n"
     ]
    },
    {
     "name": "stderr",
     "output_type": "stream",
     "text": [
      "100%|██████████| 246/246 [01:03<00:00,  3.89it/s]\n"
     ]
    },
    {
     "name": "stdout",
     "output_type": "stream",
     "text": [
      "Epoch 94/250: Train Loss: 0.4560, Train Accuracy: 77.6907, Train IOU: 0.6067, Test Loss: 0.4030, Test Accuracy: 80.9144, Test IOU: 0.6415\n"
     ]
    },
    {
     "name": "stderr",
     "output_type": "stream",
     "text": [
      "100%|██████████| 246/246 [01:03<00:00,  3.87it/s]\n"
     ]
    },
    {
     "name": "stdout",
     "output_type": "stream",
     "text": [
      "Epoch 95/250: Train Loss: 0.4481, Train Accuracy: 78.2965, Train IOU: 0.6151, Test Loss: 0.4161, Test Accuracy: 81.2314, Test IOU: 0.6615\n"
     ]
    },
    {
     "name": "stderr",
     "output_type": "stream",
     "text": [
      "100%|██████████| 246/246 [03:52<00:00,  1.06it/s]\n"
     ]
    },
    {
     "name": "stdout",
     "output_type": "stream",
     "text": [
      "Epoch 96/250: Train Loss: 0.4449, Train Accuracy: 78.4648, Train IOU: 0.6190, Test Loss: 0.4053, Test Accuracy: 81.4360, Test IOU: 0.6584\n"
     ]
    },
    {
     "name": "stderr",
     "output_type": "stream",
     "text": [
      "100%|██████████| 246/246 [01:26<00:00,  2.84it/s]\n"
     ]
    },
    {
     "name": "stdout",
     "output_type": "stream",
     "text": [
      "Epoch 97/250: Train Loss: 0.4519, Train Accuracy: 77.9119, Train IOU: 0.6091, Test Loss: 0.4044, Test Accuracy: 81.5734, Test IOU: 0.6642\n"
     ]
    },
    {
     "name": "stderr",
     "output_type": "stream",
     "text": [
      "100%|██████████| 246/246 [01:27<00:00,  2.80it/s]\n"
     ]
    },
    {
     "name": "stdout",
     "output_type": "stream",
     "text": [
      "Epoch 98/250: Train Loss: 0.4447, Train Accuracy: 78.2366, Train IOU: 0.6150, Test Loss: 0.4063, Test Accuracy: 81.4173, Test IOU: 0.6585\n"
     ]
    },
    {
     "name": "stderr",
     "output_type": "stream",
     "text": [
      "100%|██████████| 246/246 [01:26<00:00,  2.85it/s]\n"
     ]
    },
    {
     "name": "stdout",
     "output_type": "stream",
     "text": [
      "Epoch 99/250: Train Loss: 0.4412, Train Accuracy: 78.4835, Train IOU: 0.6181, Test Loss: 0.4088, Test Accuracy: 81.5773, Test IOU: 0.6649\n"
     ]
    },
    {
     "name": "stderr",
     "output_type": "stream",
     "text": [
      "100%|██████████| 246/246 [01:26<00:00,  2.85it/s]\n"
     ]
    },
    {
     "name": "stdout",
     "output_type": "stream",
     "text": [
      "Epoch 100/250: Train Loss: 0.4461, Train Accuracy: 78.2753, Train IOU: 0.6152, Test Loss: 0.4073, Test Accuracy: 81.4584, Test IOU: 0.6592\n"
     ]
    },
    {
     "name": "stderr",
     "output_type": "stream",
     "text": [
      "100%|██████████| 246/246 [05:26<00:00,  1.33s/it]\n"
     ]
    },
    {
     "name": "stdout",
     "output_type": "stream",
     "text": [
      "Epoch 101/250: Train Loss: 0.4422, Train Accuracy: 78.5342, Train IOU: 0.6198, Test Loss: 0.4014, Test Accuracy: 81.2377, Test IOU: 0.6493\n"
     ]
    },
    {
     "name": "stderr",
     "output_type": "stream",
     "text": [
      "100%|██████████| 246/246 [01:26<00:00,  2.86it/s]\n"
     ]
    },
    {
     "name": "stdout",
     "output_type": "stream",
     "text": [
      "Epoch 102/250: Train Loss: 0.4433, Train Accuracy: 78.6329, Train IOU: 0.6206, Test Loss: 0.4016, Test Accuracy: 81.6515, Test IOU: 0.6624\n"
     ]
    },
    {
     "name": "stderr",
     "output_type": "stream",
     "text": [
      "100%|██████████| 246/246 [01:25<00:00,  2.88it/s]\n"
     ]
    },
    {
     "name": "stdout",
     "output_type": "stream",
     "text": [
      "Epoch 103/250: Train Loss: 0.4469, Train Accuracy: 78.1516, Train IOU: 0.6131, Test Loss: 0.3986, Test Accuracy: 81.6672, Test IOU: 0.6589\n"
     ]
    },
    {
     "name": "stderr",
     "output_type": "stream",
     "text": [
      "100%|██████████| 246/246 [01:26<00:00,  2.85it/s]\n"
     ]
    },
    {
     "name": "stdout",
     "output_type": "stream",
     "text": [
      "Epoch 104/250: Train Loss: 0.4387, Train Accuracy: 78.7391, Train IOU: 0.6219, Test Loss: 0.3991, Test Accuracy: 81.6785, Test IOU: 0.6621\n"
     ]
    },
    {
     "name": "stderr",
     "output_type": "stream",
     "text": [
      "100%|██████████| 246/246 [01:25<00:00,  2.86it/s]\n"
     ]
    },
    {
     "name": "stdout",
     "output_type": "stream",
     "text": [
      "Epoch 105/250: Train Loss: 0.4436, Train Accuracy: 78.3408, Train IOU: 0.6166, Test Loss: 0.3971, Test Accuracy: 81.3319, Test IOU: 0.6492\n"
     ]
    },
    {
     "name": "stderr",
     "output_type": "stream",
     "text": [
      "100%|██████████| 246/246 [01:25<00:00,  2.87it/s]\n"
     ]
    },
    {
     "name": "stdout",
     "output_type": "stream",
     "text": [
      "Epoch 106/250: Train Loss: 0.4449, Train Accuracy: 78.2673, Train IOU: 0.6141, Test Loss: 0.4078, Test Accuracy: 81.3696, Test IOU: 0.6556\n"
     ]
    },
    {
     "name": "stderr",
     "output_type": "stream",
     "text": [
      "100%|██████████| 246/246 [01:26<00:00,  2.85it/s]\n"
     ]
    },
    {
     "name": "stdout",
     "output_type": "stream",
     "text": [
      "Epoch 107/250: Train Loss: 0.4433, Train Accuracy: 78.5263, Train IOU: 0.6195, Test Loss: 0.4040, Test Accuracy: 81.7664, Test IOU: 0.6657\n"
     ]
    },
    {
     "name": "stderr",
     "output_type": "stream",
     "text": [
      "100%|██████████| 246/246 [01:26<00:00,  2.85it/s]\n"
     ]
    },
    {
     "name": "stdout",
     "output_type": "stream",
     "text": [
      "Epoch 108/250: Train Loss: 0.4436, Train Accuracy: 78.6609, Train IOU: 0.6215, Test Loss: 0.3964, Test Accuracy: 81.7316, Test IOU: 0.6595\n"
     ]
    },
    {
     "name": "stderr",
     "output_type": "stream",
     "text": [
      "100%|██████████| 246/246 [01:26<00:00,  2.86it/s]\n"
     ]
    },
    {
     "name": "stdout",
     "output_type": "stream",
     "text": [
      "Epoch 109/250: Train Loss: 0.4372, Train Accuracy: 78.9906, Train IOU: 0.6260, Test Loss: 0.3942, Test Accuracy: 81.9417, Test IOU: 0.6648\n"
     ]
    },
    {
     "name": "stderr",
     "output_type": "stream",
     "text": [
      "100%|██████████| 246/246 [01:26<00:00,  2.83it/s]\n"
     ]
    },
    {
     "name": "stdout",
     "output_type": "stream",
     "text": [
      "Epoch 110/250: Train Loss: 0.4354, Train Accuracy: 78.9784, Train IOU: 0.6264, Test Loss: 0.3928, Test Accuracy: 81.7721, Test IOU: 0.6580\n"
     ]
    },
    {
     "name": "stderr",
     "output_type": "stream",
     "text": [
      "100%|██████████| 246/246 [01:25<00:00,  2.87it/s]\n"
     ]
    },
    {
     "name": "stdout",
     "output_type": "stream",
     "text": [
      "Epoch 111/250: Train Loss: 0.4368, Train Accuracy: 79.0491, Train IOU: 0.6265, Test Loss: 0.3966, Test Accuracy: 82.1464, Test IOU: 0.6733\n"
     ]
    },
    {
     "name": "stderr",
     "output_type": "stream",
     "text": [
      "100%|██████████| 246/246 [01:25<00:00,  2.86it/s]\n"
     ]
    },
    {
     "name": "stdout",
     "output_type": "stream",
     "text": [
      "Epoch 112/250: Train Loss: 0.4337, Train Accuracy: 79.1350, Train IOU: 0.6291, Test Loss: 0.3999, Test Accuracy: 81.6480, Test IOU: 0.6575\n"
     ]
    },
    {
     "name": "stderr",
     "output_type": "stream",
     "text": [
      "100%|██████████| 246/246 [01:25<00:00,  2.86it/s]\n"
     ]
    },
    {
     "name": "stdout",
     "output_type": "stream",
     "text": [
      "Epoch 113/250: Train Loss: 0.4355, Train Accuracy: 79.0860, Train IOU: 0.6285, Test Loss: 0.3968, Test Accuracy: 82.0303, Test IOU: 0.6685\n"
     ]
    },
    {
     "name": "stderr",
     "output_type": "stream",
     "text": [
      "100%|██████████| 246/246 [01:26<00:00,  2.83it/s]\n"
     ]
    },
    {
     "name": "stdout",
     "output_type": "stream",
     "text": [
      "Epoch 114/250: Train Loss: 0.4389, Train Accuracy: 78.8599, Train IOU: 0.6250, Test Loss: 0.3934, Test Accuracy: 81.6191, Test IOU: 0.6521\n"
     ]
    },
    {
     "name": "stderr",
     "output_type": "stream",
     "text": [
      "100%|██████████| 246/246 [01:27<00:00,  2.82it/s]\n"
     ]
    },
    {
     "name": "stdout",
     "output_type": "stream",
     "text": [
      "Epoch 115/250: Train Loss: 0.4343, Train Accuracy: 79.3590, Train IOU: 0.6318, Test Loss: 0.3970, Test Accuracy: 81.6725, Test IOU: 0.6567\n"
     ]
    },
    {
     "name": "stderr",
     "output_type": "stream",
     "text": [
      "100%|██████████| 246/246 [01:25<00:00,  2.87it/s]\n"
     ]
    },
    {
     "name": "stdout",
     "output_type": "stream",
     "text": [
      "Epoch 116/250: Train Loss: 0.4287, Train Accuracy: 79.3680, Train IOU: 0.6323, Test Loss: 0.3896, Test Accuracy: 81.8684, Test IOU: 0.6586\n"
     ]
    },
    {
     "name": "stderr",
     "output_type": "stream",
     "text": [
      "100%|██████████| 246/246 [01:26<00:00,  2.86it/s]\n"
     ]
    },
    {
     "name": "stdout",
     "output_type": "stream",
     "text": [
      "Epoch 117/250: Train Loss: 0.4313, Train Accuracy: 79.5687, Train IOU: 0.6352, Test Loss: 0.3938, Test Accuracy: 82.0495, Test IOU: 0.6647\n"
     ]
    },
    {
     "name": "stderr",
     "output_type": "stream",
     "text": [
      "100%|██████████| 246/246 [01:25<00:00,  2.87it/s]\n"
     ]
    },
    {
     "name": "stdout",
     "output_type": "stream",
     "text": [
      "Epoch 118/250: Train Loss: 0.4297, Train Accuracy: 79.4645, Train IOU: 0.6339, Test Loss: 0.3903, Test Accuracy: 82.2097, Test IOU: 0.6680\n"
     ]
    },
    {
     "name": "stderr",
     "output_type": "stream",
     "text": [
      "100%|██████████| 246/246 [01:25<00:00,  2.87it/s]\n"
     ]
    },
    {
     "name": "stdout",
     "output_type": "stream",
     "text": [
      "Epoch 119/250: Train Loss: 0.4354, Train Accuracy: 78.9690, Train IOU: 0.6260, Test Loss: 0.3888, Test Accuracy: 82.1998, Test IOU: 0.6675\n"
     ]
    },
    {
     "name": "stderr",
     "output_type": "stream",
     "text": [
      "100%|██████████| 246/246 [01:25<00:00,  2.87it/s]\n"
     ]
    },
    {
     "name": "stdout",
     "output_type": "stream",
     "text": [
      "Epoch 120/250: Train Loss: 0.4305, Train Accuracy: 79.5398, Train IOU: 0.6343, Test Loss: 0.3922, Test Accuracy: 82.3354, Test IOU: 0.6734\n"
     ]
    },
    {
     "name": "stderr",
     "output_type": "stream",
     "text": [
      "100%|██████████| 246/246 [01:27<00:00,  2.80it/s]\n"
     ]
    },
    {
     "name": "stdout",
     "output_type": "stream",
     "text": [
      "Epoch 121/250: Train Loss: 0.4287, Train Accuracy: 79.5344, Train IOU: 0.6349, Test Loss: 0.3885, Test Accuracy: 82.2217, Test IOU: 0.6680\n"
     ]
    },
    {
     "name": "stderr",
     "output_type": "stream",
     "text": [
      "100%|██████████| 246/246 [01:25<00:00,  2.87it/s]\n"
     ]
    },
    {
     "name": "stdout",
     "output_type": "stream",
     "text": [
      "Epoch 122/250: Train Loss: 0.4317, Train Accuracy: 79.4127, Train IOU: 0.6330, Test Loss: 0.4003, Test Accuracy: 82.1681, Test IOU: 0.6782\n"
     ]
    },
    {
     "name": "stderr",
     "output_type": "stream",
     "text": [
      "100%|██████████| 246/246 [01:26<00:00,  2.83it/s]\n"
     ]
    },
    {
     "name": "stdout",
     "output_type": "stream",
     "text": [
      "Epoch 123/250: Train Loss: 0.4306, Train Accuracy: 79.5621, Train IOU: 0.6354, Test Loss: 0.3932, Test Accuracy: 82.2494, Test IOU: 0.6744\n"
     ]
    },
    {
     "name": "stderr",
     "output_type": "stream",
     "text": [
      "100%|██████████| 246/246 [01:25<00:00,  2.87it/s]\n"
     ]
    },
    {
     "name": "stdout",
     "output_type": "stream",
     "text": [
      "Epoch 124/250: Train Loss: 0.4330, Train Accuracy: 79.1309, Train IOU: 0.6284, Test Loss: 0.3961, Test Accuracy: 82.0262, Test IOU: 0.6640\n"
     ]
    },
    {
     "name": "stderr",
     "output_type": "stream",
     "text": [
      "100%|██████████| 246/246 [01:27<00:00,  2.82it/s]\n"
     ]
    },
    {
     "name": "stdout",
     "output_type": "stream",
     "text": [
      "Epoch 125/250: Train Loss: 0.4276, Train Accuracy: 79.6458, Train IOU: 0.6362, Test Loss: 0.3884, Test Accuracy: 82.0933, Test IOU: 0.6642\n"
     ]
    },
    {
     "name": "stderr",
     "output_type": "stream",
     "text": [
      "100%|██████████| 246/246 [01:25<00:00,  2.86it/s]\n"
     ]
    },
    {
     "name": "stdout",
     "output_type": "stream",
     "text": [
      "Epoch 126/250: Train Loss: 0.4272, Train Accuracy: 79.7396, Train IOU: 0.6377, Test Loss: 0.3819, Test Accuracy: 82.2609, Test IOU: 0.6639\n"
     ]
    },
    {
     "name": "stderr",
     "output_type": "stream",
     "text": [
      "100%|██████████| 246/246 [01:27<00:00,  2.83it/s]\n"
     ]
    },
    {
     "name": "stdout",
     "output_type": "stream",
     "text": [
      "Epoch 127/250: Train Loss: 0.4286, Train Accuracy: 79.5763, Train IOU: 0.6350, Test Loss: 0.3871, Test Accuracy: 82.2265, Test IOU: 0.6660\n"
     ]
    },
    {
     "name": "stderr",
     "output_type": "stream",
     "text": [
      "100%|██████████| 246/246 [01:26<00:00,  2.84it/s]\n"
     ]
    },
    {
     "name": "stdout",
     "output_type": "stream",
     "text": [
      "Epoch 128/250: Train Loss: 0.4318, Train Accuracy: 79.4438, Train IOU: 0.6336, Test Loss: 0.3848, Test Accuracy: 82.5842, Test IOU: 0.6766\n"
     ]
    },
    {
     "name": "stderr",
     "output_type": "stream",
     "text": [
      "100%|██████████| 246/246 [01:26<00:00,  2.84it/s]\n"
     ]
    },
    {
     "name": "stdout",
     "output_type": "stream",
     "text": [
      "Epoch 129/250: Train Loss: 0.4291, Train Accuracy: 79.3190, Train IOU: 0.6304, Test Loss: 0.3885, Test Accuracy: 82.4966, Test IOU: 0.6769\n"
     ]
    },
    {
     "name": "stderr",
     "output_type": "stream",
     "text": [
      "100%|██████████| 246/246 [01:26<00:00,  2.85it/s]\n"
     ]
    },
    {
     "name": "stdout",
     "output_type": "stream",
     "text": [
      "Epoch 130/250: Train Loss: 0.4233, Train Accuracy: 80.0865, Train IOU: 0.6431, Test Loss: 0.3789, Test Accuracy: 82.4970, Test IOU: 0.6690\n"
     ]
    },
    {
     "name": "stderr",
     "output_type": "stream",
     "text": [
      "100%|██████████| 246/246 [01:26<00:00,  2.83it/s]\n"
     ]
    },
    {
     "name": "stdout",
     "output_type": "stream",
     "text": [
      "Epoch 131/250: Train Loss: 0.4205, Train Accuracy: 80.1332, Train IOU: 0.6435, Test Loss: 0.3811, Test Accuracy: 82.0437, Test IOU: 0.6561\n"
     ]
    },
    {
     "name": "stderr",
     "output_type": "stream",
     "text": [
      "100%|██████████| 246/246 [01:25<00:00,  2.87it/s]\n"
     ]
    },
    {
     "name": "stdout",
     "output_type": "stream",
     "text": [
      "Epoch 132/250: Train Loss: 0.4176, Train Accuracy: 80.2487, Train IOU: 0.6449, Test Loss: 0.3879, Test Accuracy: 82.7284, Test IOU: 0.6823\n"
     ]
    },
    {
     "name": "stderr",
     "output_type": "stream",
     "text": [
      "100%|██████████| 246/246 [01:26<00:00,  2.83it/s]\n"
     ]
    },
    {
     "name": "stdout",
     "output_type": "stream",
     "text": [
      "Epoch 133/250: Train Loss: 0.4260, Train Accuracy: 79.8041, Train IOU: 0.6391, Test Loss: 0.3834, Test Accuracy: 82.6560, Test IOU: 0.6765\n"
     ]
    },
    {
     "name": "stderr",
     "output_type": "stream",
     "text": [
      "100%|██████████| 246/246 [01:25<00:00,  2.87it/s]\n"
     ]
    },
    {
     "name": "stdout",
     "output_type": "stream",
     "text": [
      "Epoch 134/250: Train Loss: 0.4228, Train Accuracy: 79.8876, Train IOU: 0.6404, Test Loss: 0.3812, Test Accuracy: 82.5063, Test IOU: 0.6701\n"
     ]
    },
    {
     "name": "stderr",
     "output_type": "stream",
     "text": [
      "100%|██████████| 246/246 [01:26<00:00,  2.85it/s]\n"
     ]
    },
    {
     "name": "stdout",
     "output_type": "stream",
     "text": [
      "Epoch 135/250: Train Loss: 0.4294, Train Accuracy: 79.6008, Train IOU: 0.6355, Test Loss: 0.3896, Test Accuracy: 82.5932, Test IOU: 0.6808\n"
     ]
    },
    {
     "name": "stderr",
     "output_type": "stream",
     "text": [
      "100%|██████████| 246/246 [01:25<00:00,  2.86it/s]\n"
     ]
    },
    {
     "name": "stdout",
     "output_type": "stream",
     "text": [
      "Epoch 136/250: Train Loss: 0.4238, Train Accuracy: 79.9036, Train IOU: 0.6405, Test Loss: 0.3774, Test Accuracy: 82.6473, Test IOU: 0.6705\n"
     ]
    },
    {
     "name": "stderr",
     "output_type": "stream",
     "text": [
      "100%|██████████| 246/246 [01:27<00:00,  2.83it/s]\n"
     ]
    },
    {
     "name": "stdout",
     "output_type": "stream",
     "text": [
      "Epoch 137/250: Train Loss: 0.4285, Train Accuracy: 79.6322, Train IOU: 0.6354, Test Loss: 0.3867, Test Accuracy: 82.5585, Test IOU: 0.6741\n"
     ]
    },
    {
     "name": "stderr",
     "output_type": "stream",
     "text": [
      "100%|██████████| 246/246 [01:26<00:00,  2.85it/s]\n"
     ]
    },
    {
     "name": "stdout",
     "output_type": "stream",
     "text": [
      "Epoch 138/250: Train Loss: 0.4219, Train Accuracy: 80.0923, Train IOU: 0.6423, Test Loss: 0.3814, Test Accuracy: 82.7684, Test IOU: 0.6802\n"
     ]
    },
    {
     "name": "stderr",
     "output_type": "stream",
     "text": [
      "100%|██████████| 246/246 [01:25<00:00,  2.87it/s]\n"
     ]
    },
    {
     "name": "stdout",
     "output_type": "stream",
     "text": [
      "Epoch 139/250: Train Loss: 0.4130, Train Accuracy: 80.5361, Train IOU: 0.6497, Test Loss: 0.3790, Test Accuracy: 82.5366, Test IOU: 0.6689\n"
     ]
    },
    {
     "name": "stderr",
     "output_type": "stream",
     "text": [
      "100%|██████████| 246/246 [01:25<00:00,  2.87it/s]\n"
     ]
    },
    {
     "name": "stdout",
     "output_type": "stream",
     "text": [
      "Epoch 140/250: Train Loss: 0.4194, Train Accuracy: 80.2296, Train IOU: 0.6445, Test Loss: 0.3790, Test Accuracy: 82.9513, Test IOU: 0.6806\n"
     ]
    },
    {
     "name": "stderr",
     "output_type": "stream",
     "text": [
      "100%|██████████| 246/246 [01:26<00:00,  2.86it/s]\n"
     ]
    },
    {
     "name": "stdout",
     "output_type": "stream",
     "text": [
      "Epoch 141/250: Train Loss: 0.4206, Train Accuracy: 80.1257, Train IOU: 0.6436, Test Loss: 0.3747, Test Accuracy: 82.5909, Test IOU: 0.6676\n"
     ]
    },
    {
     "name": "stderr",
     "output_type": "stream",
     "text": [
      "100%|██████████| 246/246 [01:25<00:00,  2.86it/s]\n"
     ]
    },
    {
     "name": "stdout",
     "output_type": "stream",
     "text": [
      "Epoch 142/250: Train Loss: 0.4203, Train Accuracy: 80.1380, Train IOU: 0.6429, Test Loss: 0.3808, Test Accuracy: 82.8307, Test IOU: 0.6803\n"
     ]
    },
    {
     "name": "stderr",
     "output_type": "stream",
     "text": [
      "100%|██████████| 246/246 [01:26<00:00,  2.84it/s]\n"
     ]
    },
    {
     "name": "stdout",
     "output_type": "stream",
     "text": [
      "Epoch 143/250: Train Loss: 0.4167, Train Accuracy: 80.3758, Train IOU: 0.6472, Test Loss: 0.3771, Test Accuracy: 82.8769, Test IOU: 0.6793\n"
     ]
    },
    {
     "name": "stderr",
     "output_type": "stream",
     "text": [
      "100%|██████████| 246/246 [01:25<00:00,  2.86it/s]\n"
     ]
    },
    {
     "name": "stdout",
     "output_type": "stream",
     "text": [
      "Epoch 144/250: Train Loss: 0.4148, Train Accuracy: 80.4914, Train IOU: 0.6482, Test Loss: 0.3790, Test Accuracy: 82.9340, Test IOU: 0.6800\n"
     ]
    },
    {
     "name": "stderr",
     "output_type": "stream",
     "text": [
      "100%|██████████| 246/246 [01:25<00:00,  2.87it/s]\n"
     ]
    },
    {
     "name": "stdout",
     "output_type": "stream",
     "text": [
      "Epoch 145/250: Train Loss: 0.4215, Train Accuracy: 80.0792, Train IOU: 0.6417, Test Loss: 0.3797, Test Accuracy: 82.9619, Test IOU: 0.6816\n"
     ]
    },
    {
     "name": "stderr",
     "output_type": "stream",
     "text": [
      "100%|██████████| 246/246 [01:26<00:00,  2.84it/s]\n"
     ]
    },
    {
     "name": "stdout",
     "output_type": "stream",
     "text": [
      "Epoch 146/250: Train Loss: 0.4177, Train Accuracy: 80.1644, Train IOU: 0.6435, Test Loss: 0.3815, Test Accuracy: 83.1219, Test IOU: 0.6889\n"
     ]
    },
    {
     "name": "stderr",
     "output_type": "stream",
     "text": [
      "100%|██████████| 246/246 [01:27<00:00,  2.83it/s]\n"
     ]
    },
    {
     "name": "stdout",
     "output_type": "stream",
     "text": [
      "Epoch 147/250: Train Loss: 0.4184, Train Accuracy: 80.5615, Train IOU: 0.6499, Test Loss: 0.3733, Test Accuracy: 82.4155, Test IOU: 0.6584\n"
     ]
    },
    {
     "name": "stderr",
     "output_type": "stream",
     "text": [
      "100%|██████████| 246/246 [01:26<00:00,  2.85it/s]\n"
     ]
    },
    {
     "name": "stdout",
     "output_type": "stream",
     "text": [
      "Epoch 148/250: Train Loss: 0.4164, Train Accuracy: 80.4943, Train IOU: 0.6491, Test Loss: 0.3781, Test Accuracy: 82.9415, Test IOU: 0.6798\n"
     ]
    },
    {
     "name": "stderr",
     "output_type": "stream",
     "text": [
      "100%|██████████| 246/246 [01:26<00:00,  2.85it/s]\n"
     ]
    },
    {
     "name": "stdout",
     "output_type": "stream",
     "text": [
      "Epoch 149/250: Train Loss: 0.4153, Train Accuracy: 80.5593, Train IOU: 0.6498, Test Loss: 0.3774, Test Accuracy: 82.7951, Test IOU: 0.6722\n"
     ]
    },
    {
     "name": "stderr",
     "output_type": "stream",
     "text": [
      "100%|██████████| 246/246 [01:26<00:00,  2.84it/s]\n"
     ]
    },
    {
     "name": "stdout",
     "output_type": "stream",
     "text": [
      "Epoch 150/250: Train Loss: 0.4127, Train Accuracy: 80.6725, Train IOU: 0.6514, Test Loss: 0.3708, Test Accuracy: 83.2709, Test IOU: 0.6837\n"
     ]
    },
    {
     "name": "stderr",
     "output_type": "stream",
     "text": [
      "100%|██████████| 246/246 [01:27<00:00,  2.83it/s]\n"
     ]
    },
    {
     "name": "stdout",
     "output_type": "stream",
     "text": [
      "Epoch 151/250: Train Loss: 0.4131, Train Accuracy: 80.5955, Train IOU: 0.6496, Test Loss: 0.3691, Test Accuracy: 82.9786, Test IOU: 0.6743\n"
     ]
    },
    {
     "name": "stderr",
     "output_type": "stream",
     "text": [
      "100%|██████████| 246/246 [01:25<00:00,  2.87it/s]\n"
     ]
    },
    {
     "name": "stdout",
     "output_type": "stream",
     "text": [
      "Epoch 152/250: Train Loss: 0.4192, Train Accuracy: 80.2828, Train IOU: 0.6455, Test Loss: 0.3729, Test Accuracy: 83.3115, Test IOU: 0.6870\n"
     ]
    },
    {
     "name": "stderr",
     "output_type": "stream",
     "text": [
      "100%|██████████| 246/246 [01:26<00:00,  2.85it/s]\n"
     ]
    },
    {
     "name": "stdout",
     "output_type": "stream",
     "text": [
      "Epoch 153/250: Train Loss: 0.4096, Train Accuracy: 80.7256, Train IOU: 0.6516, Test Loss: 0.3718, Test Accuracy: 83.3668, Test IOU: 0.6881\n"
     ]
    },
    {
     "name": "stderr",
     "output_type": "stream",
     "text": [
      "100%|██████████| 246/246 [01:25<00:00,  2.87it/s]\n"
     ]
    },
    {
     "name": "stdout",
     "output_type": "stream",
     "text": [
      "Epoch 154/250: Train Loss: 0.4121, Train Accuracy: 80.6962, Train IOU: 0.6510, Test Loss: 0.3657, Test Accuracy: 83.3727, Test IOU: 0.6832\n"
     ]
    },
    {
     "name": "stderr",
     "output_type": "stream",
     "text": [
      "100%|██████████| 246/246 [01:27<00:00,  2.81it/s]\n"
     ]
    },
    {
     "name": "stdout",
     "output_type": "stream",
     "text": [
      "Epoch 155/250: Train Loss: 0.4111, Train Accuracy: 80.7651, Train IOU: 0.6523, Test Loss: 0.3668, Test Accuracy: 83.0181, Test IOU: 0.6729\n"
     ]
    },
    {
     "name": "stderr",
     "output_type": "stream",
     "text": [
      "100%|██████████| 246/246 [01:25<00:00,  2.87it/s]\n"
     ]
    },
    {
     "name": "stdout",
     "output_type": "stream",
     "text": [
      "Epoch 156/250: Train Loss: 0.4078, Train Accuracy: 80.8945, Train IOU: 0.6535, Test Loss: 0.3688, Test Accuracy: 83.4150, Test IOU: 0.6849\n"
     ]
    },
    {
     "name": "stderr",
     "output_type": "stream",
     "text": [
      "100%|██████████| 246/246 [01:25<00:00,  2.87it/s]\n"
     ]
    },
    {
     "name": "stdout",
     "output_type": "stream",
     "text": [
      "Epoch 157/250: Train Loss: 0.4144, Train Accuracy: 80.4422, Train IOU: 0.6469, Test Loss: 0.3640, Test Accuracy: 83.2562, Test IOU: 0.6774\n"
     ]
    },
    {
     "name": "stderr",
     "output_type": "stream",
     "text": [
      "100%|██████████| 246/246 [01:26<00:00,  2.86it/s]\n"
     ]
    },
    {
     "name": "stdout",
     "output_type": "stream",
     "text": [
      "Epoch 158/250: Train Loss: 0.4100, Train Accuracy: 80.7130, Train IOU: 0.6513, Test Loss: 0.3686, Test Accuracy: 82.5717, Test IOU: 0.6585\n"
     ]
    },
    {
     "name": "stderr",
     "output_type": "stream",
     "text": [
      "100%|██████████| 246/246 [01:26<00:00,  2.84it/s]\n"
     ]
    },
    {
     "name": "stdout",
     "output_type": "stream",
     "text": [
      "Epoch 159/250: Train Loss: 0.4117, Train Accuracy: 80.6717, Train IOU: 0.6505, Test Loss: 0.3656, Test Accuracy: 83.5702, Test IOU: 0.6893\n"
     ]
    },
    {
     "name": "stderr",
     "output_type": "stream",
     "text": [
      "100%|██████████| 246/246 [01:27<00:00,  2.82it/s]\n"
     ]
    },
    {
     "name": "stdout",
     "output_type": "stream",
     "text": [
      "Epoch 160/250: Train Loss: 0.4123, Train Accuracy: 80.6750, Train IOU: 0.6504, Test Loss: 0.3727, Test Accuracy: 83.7265, Test IOU: 0.6997\n"
     ]
    },
    {
     "name": "stderr",
     "output_type": "stream",
     "text": [
      "100%|██████████| 246/246 [01:25<00:00,  2.87it/s]\n"
     ]
    },
    {
     "name": "stdout",
     "output_type": "stream",
     "text": [
      "Epoch 161/250: Train Loss: 0.4058, Train Accuracy: 81.0717, Train IOU: 0.6565, Test Loss: 0.3640, Test Accuracy: 83.4703, Test IOU: 0.6847\n"
     ]
    },
    {
     "name": "stderr",
     "output_type": "stream",
     "text": [
      "100%|██████████| 246/246 [01:25<00:00,  2.86it/s]\n"
     ]
    },
    {
     "name": "stdout",
     "output_type": "stream",
     "text": [
      "Epoch 162/250: Train Loss: 0.4064, Train Accuracy: 81.0065, Train IOU: 0.6556, Test Loss: 0.3615, Test Accuracy: 83.4337, Test IOU: 0.6809\n"
     ]
    },
    {
     "name": "stderr",
     "output_type": "stream",
     "text": [
      "100%|██████████| 246/246 [01:28<00:00,  2.78it/s]\n"
     ]
    },
    {
     "name": "stdout",
     "output_type": "stream",
     "text": [
      "Epoch 163/250: Train Loss: 0.4181, Train Accuracy: 80.4427, Train IOU: 0.6464, Test Loss: 0.3667, Test Accuracy: 83.4258, Test IOU: 0.6836\n"
     ]
    },
    {
     "name": "stderr",
     "output_type": "stream",
     "text": [
      "100%|██████████| 246/246 [01:26<00:00,  2.83it/s]\n"
     ]
    },
    {
     "name": "stdout",
     "output_type": "stream",
     "text": [
      "Epoch 164/250: Train Loss: 0.4055, Train Accuracy: 81.1857, Train IOU: 0.6576, Test Loss: 0.3598, Test Accuracy: 83.3147, Test IOU: 0.6757\n"
     ]
    },
    {
     "name": "stderr",
     "output_type": "stream",
     "text": [
      "100%|██████████| 246/246 [01:26<00:00,  2.85it/s]\n"
     ]
    },
    {
     "name": "stdout",
     "output_type": "stream",
     "text": [
      "Epoch 165/250: Train Loss: 0.4040, Train Accuracy: 81.1518, Train IOU: 0.6582, Test Loss: 0.3663, Test Accuracy: 83.7060, Test IOU: 0.6914\n"
     ]
    },
    {
     "name": "stderr",
     "output_type": "stream",
     "text": [
      "100%|██████████| 246/246 [01:26<00:00,  2.84it/s]\n"
     ]
    },
    {
     "name": "stdout",
     "output_type": "stream",
     "text": [
      "Epoch 166/250: Train Loss: 0.4060, Train Accuracy: 81.0738, Train IOU: 0.6577, Test Loss: 0.3649, Test Accuracy: 83.7838, Test IOU: 0.6935\n"
     ]
    },
    {
     "name": "stderr",
     "output_type": "stream",
     "text": [
      "100%|██████████| 246/246 [05:20<00:00,  1.30s/it]\n"
     ]
    },
    {
     "name": "stdout",
     "output_type": "stream",
     "text": [
      "Epoch 167/250: Train Loss: 0.4045, Train Accuracy: 81.0239, Train IOU: 0.6556, Test Loss: 0.3657, Test Accuracy: 83.3022, Test IOU: 0.6787\n"
     ]
    },
    {
     "name": "stderr",
     "output_type": "stream",
     "text": [
      "100%|██████████| 246/246 [01:27<00:00,  2.81it/s]\n"
     ]
    },
    {
     "name": "stdout",
     "output_type": "stream",
     "text": [
      "Epoch 168/250: Train Loss: 0.4085, Train Accuracy: 80.9076, Train IOU: 0.6542, Test Loss: 0.3659, Test Accuracy: 83.5709, Test IOU: 0.6884\n"
     ]
    },
    {
     "name": "stderr",
     "output_type": "stream",
     "text": [
      "100%|██████████| 246/246 [01:27<00:00,  2.81it/s]\n"
     ]
    },
    {
     "name": "stdout",
     "output_type": "stream",
     "text": [
      "Epoch 169/250: Train Loss: 0.3987, Train Accuracy: 81.6243, Train IOU: 0.6663, Test Loss: 0.3610, Test Accuracy: 83.5819, Test IOU: 0.6844\n"
     ]
    },
    {
     "name": "stderr",
     "output_type": "stream",
     "text": [
      "100%|██████████| 246/246 [01:26<00:00,  2.84it/s]\n"
     ]
    },
    {
     "name": "stdout",
     "output_type": "stream",
     "text": [
      "Epoch 170/250: Train Loss: 0.4126, Train Accuracy: 80.5091, Train IOU: 0.6476, Test Loss: 0.3595, Test Accuracy: 83.6392, Test IOU: 0.6831\n"
     ]
    },
    {
     "name": "stderr",
     "output_type": "stream",
     "text": [
      "100%|██████████| 246/246 [01:27<00:00,  2.82it/s]\n"
     ]
    },
    {
     "name": "stdout",
     "output_type": "stream",
     "text": [
      "Epoch 171/250: Train Loss: 0.4066, Train Accuracy: 80.6367, Train IOU: 0.6494, Test Loss: 0.3649, Test Accuracy: 83.3764, Test IOU: 0.6806\n"
     ]
    },
    {
     "name": "stderr",
     "output_type": "stream",
     "text": [
      "100%|██████████| 246/246 [01:25<00:00,  2.87it/s]\n"
     ]
    },
    {
     "name": "stdout",
     "output_type": "stream",
     "text": [
      "Epoch 172/250: Train Loss: 0.4054, Train Accuracy: 81.0567, Train IOU: 0.6572, Test Loss: 0.3710, Test Accuracy: 83.7935, Test IOU: 0.6991\n"
     ]
    },
    {
     "name": "stderr",
     "output_type": "stream",
     "text": [
      "100%|██████████| 246/246 [01:26<00:00,  2.84it/s]\n"
     ]
    },
    {
     "name": "stdout",
     "output_type": "stream",
     "text": [
      "Epoch 173/250: Train Loss: 0.3990, Train Accuracy: 81.5284, Train IOU: 0.6637, Test Loss: 0.3574, Test Accuracy: 83.7986, Test IOU: 0.6874\n"
     ]
    },
    {
     "name": "stderr",
     "output_type": "stream",
     "text": [
      "100%|██████████| 246/246 [01:26<00:00,  2.86it/s]\n"
     ]
    },
    {
     "name": "stdout",
     "output_type": "stream",
     "text": [
      "Epoch 174/250: Train Loss: 0.4055, Train Accuracy: 80.9569, Train IOU: 0.6535, Test Loss: 0.3618, Test Accuracy: 83.9289, Test IOU: 0.6956\n"
     ]
    },
    {
     "name": "stderr",
     "output_type": "stream",
     "text": [
      "100%|██████████| 246/246 [01:26<00:00,  2.86it/s]\n"
     ]
    },
    {
     "name": "stdout",
     "output_type": "stream",
     "text": [
      "Epoch 175/250: Train Loss: 0.4030, Train Accuracy: 81.1765, Train IOU: 0.6582, Test Loss: 0.3629, Test Accuracy: 83.9429, Test IOU: 0.6958\n"
     ]
    },
    {
     "name": "stderr",
     "output_type": "stream",
     "text": [
      "100%|██████████| 246/246 [01:25<00:00,  2.87it/s]\n"
     ]
    },
    {
     "name": "stdout",
     "output_type": "stream",
     "text": [
      "Epoch 176/250: Train Loss: 0.4061, Train Accuracy: 81.1339, Train IOU: 0.6576, Test Loss: 0.3595, Test Accuracy: 83.8547, Test IOU: 0.6900\n"
     ]
    },
    {
     "name": "stderr",
     "output_type": "stream",
     "text": [
      "100%|██████████| 246/246 [05:26<00:00,  1.33s/it]\n"
     ]
    },
    {
     "name": "stdout",
     "output_type": "stream",
     "text": [
      "Epoch 177/250: Train Loss: 0.4057, Train Accuracy: 81.0237, Train IOU: 0.6555, Test Loss: 0.3659, Test Accuracy: 83.9309, Test IOU: 0.6969\n"
     ]
    },
    {
     "name": "stderr",
     "output_type": "stream",
     "text": [
      "100%|██████████| 246/246 [01:25<00:00,  2.88it/s]\n"
     ]
    },
    {
     "name": "stdout",
     "output_type": "stream",
     "text": [
      "Epoch 178/250: Train Loss: 0.3942, Train Accuracy: 81.8017, Train IOU: 0.6680, Test Loss: 0.3541, Test Accuracy: 83.9917, Test IOU: 0.6923\n"
     ]
    },
    {
     "name": "stderr",
     "output_type": "stream",
     "text": [
      "100%|██████████| 246/246 [01:25<00:00,  2.88it/s]\n"
     ]
    },
    {
     "name": "stdout",
     "output_type": "stream",
     "text": [
      "Epoch 179/250: Train Loss: 0.3993, Train Accuracy: 81.3806, Train IOU: 0.6607, Test Loss: 0.3649, Test Accuracy: 82.9037, Test IOU: 0.6615\n"
     ]
    },
    {
     "name": "stderr",
     "output_type": "stream",
     "text": [
      "100%|██████████| 246/246 [05:20<00:00,  1.30s/it]\n"
     ]
    },
    {
     "name": "stdout",
     "output_type": "stream",
     "text": [
      "Epoch 180/250: Train Loss: 0.4025, Train Accuracy: 81.3460, Train IOU: 0.6610, Test Loss: 0.3549, Test Accuracy: 83.5966, Test IOU: 0.6786\n"
     ]
    },
    {
     "name": "stderr",
     "output_type": "stream",
     "text": [
      "100%|██████████| 246/246 [01:25<00:00,  2.87it/s]\n"
     ]
    },
    {
     "name": "stdout",
     "output_type": "stream",
     "text": [
      "Epoch 181/250: Train Loss: 0.4045, Train Accuracy: 81.3512, Train IOU: 0.6604, Test Loss: 0.3623, Test Accuracy: 84.1657, Test IOU: 0.7021\n"
     ]
    },
    {
     "name": "stderr",
     "output_type": "stream",
     "text": [
      "100%|██████████| 246/246 [01:27<00:00,  2.83it/s]\n"
     ]
    },
    {
     "name": "stdout",
     "output_type": "stream",
     "text": [
      "Epoch 182/250: Train Loss: 0.3917, Train Accuracy: 82.0336, Train IOU: 0.6713, Test Loss: 0.3621, Test Accuracy: 83.9328, Test IOU: 0.6907\n"
     ]
    },
    {
     "name": "stderr",
     "output_type": "stream",
     "text": [
      "100%|██████████| 246/246 [01:25<00:00,  2.88it/s]\n"
     ]
    },
    {
     "name": "stdout",
     "output_type": "stream",
     "text": [
      "Epoch 183/250: Train Loss: 0.4021, Train Accuracy: 81.4087, Train IOU: 0.6622, Test Loss: 0.3555, Test Accuracy: 84.3272, Test IOU: 0.7019\n"
     ]
    },
    {
     "name": "stderr",
     "output_type": "stream",
     "text": [
      "100%|██████████| 246/246 [01:27<00:00,  2.81it/s]\n"
     ]
    },
    {
     "name": "stdout",
     "output_type": "stream",
     "text": [
      "Epoch 184/250: Train Loss: 0.3937, Train Accuracy: 81.6446, Train IOU: 0.6650, Test Loss: 0.3568, Test Accuracy: 84.3706, Test IOU: 0.7039\n"
     ]
    },
    {
     "name": "stderr",
     "output_type": "stream",
     "text": [
      "100%|██████████| 246/246 [01:26<00:00,  2.84it/s]\n"
     ]
    },
    {
     "name": "stdout",
     "output_type": "stream",
     "text": [
      "Epoch 185/250: Train Loss: 0.4028, Train Accuracy: 81.1274, Train IOU: 0.6567, Test Loss: 0.3527, Test Accuracy: 83.9873, Test IOU: 0.6906\n"
     ]
    },
    {
     "name": "stderr",
     "output_type": "stream",
     "text": [
      "100%|██████████| 246/246 [01:25<00:00,  2.87it/s]\n"
     ]
    },
    {
     "name": "stdout",
     "output_type": "stream",
     "text": [
      "Epoch 186/250: Train Loss: 0.3991, Train Accuracy: 81.4221, Train IOU: 0.6628, Test Loss: 0.3658, Test Accuracy: 84.0494, Test IOU: 0.6982\n"
     ]
    },
    {
     "name": "stderr",
     "output_type": "stream",
     "text": [
      "100%|██████████| 246/246 [05:29<00:00,  1.34s/it]\n"
     ]
    },
    {
     "name": "stdout",
     "output_type": "stream",
     "text": [
      "Epoch 187/250: Train Loss: 0.3947, Train Accuracy: 81.7750, Train IOU: 0.6675, Test Loss: 0.3546, Test Accuracy: 84.3583, Test IOU: 0.7031\n"
     ]
    },
    {
     "name": "stderr",
     "output_type": "stream",
     "text": [
      "100%|██████████| 246/246 [01:25<00:00,  2.86it/s]\n"
     ]
    },
    {
     "name": "stdout",
     "output_type": "stream",
     "text": [
      "Epoch 188/250: Train Loss: 0.3950, Train Accuracy: 81.6803, Train IOU: 0.6656, Test Loss: 0.3502, Test Accuracy: 83.6038, Test IOU: 0.6772\n"
     ]
    },
    {
     "name": "stderr",
     "output_type": "stream",
     "text": [
      "100%|██████████| 246/246 [01:26<00:00,  2.85it/s]\n"
     ]
    },
    {
     "name": "stdout",
     "output_type": "stream",
     "text": [
      "Epoch 189/250: Train Loss: 0.3951, Train Accuracy: 81.5898, Train IOU: 0.6641, Test Loss: 0.3563, Test Accuracy: 84.2302, Test IOU: 0.6978\n"
     ]
    },
    {
     "name": "stderr",
     "output_type": "stream",
     "text": [
      "100%|██████████| 246/246 [01:25<00:00,  2.87it/s]\n"
     ]
    },
    {
     "name": "stdout",
     "output_type": "stream",
     "text": [
      "Epoch 190/250: Train Loss: 0.3949, Train Accuracy: 81.6753, Train IOU: 0.6667, Test Loss: 0.3484, Test Accuracy: 84.0782, Test IOU: 0.6890\n"
     ]
    },
    {
     "name": "stderr",
     "output_type": "stream",
     "text": [
      "100%|██████████| 246/246 [01:26<00:00,  2.83it/s]\n"
     ]
    },
    {
     "name": "stdout",
     "output_type": "stream",
     "text": [
      "Epoch 191/250: Train Loss: 0.3976, Train Accuracy: 81.5114, Train IOU: 0.6631, Test Loss: 0.3488, Test Accuracy: 84.3889, Test IOU: 0.6992\n"
     ]
    },
    {
     "name": "stderr",
     "output_type": "stream",
     "text": [
      "100%|██████████| 246/246 [05:27<00:00,  1.33s/it]\n"
     ]
    },
    {
     "name": "stdout",
     "output_type": "stream",
     "text": [
      "Epoch 192/250: Train Loss: 0.3973, Train Accuracy: 81.7112, Train IOU: 0.6664, Test Loss: 0.3493, Test Accuracy: 84.2799, Test IOU: 0.6963\n"
     ]
    },
    {
     "name": "stderr",
     "output_type": "stream",
     "text": [
      "100%|██████████| 246/246 [01:25<00:00,  2.88it/s]\n"
     ]
    },
    {
     "name": "stdout",
     "output_type": "stream",
     "text": [
      "Epoch 193/250: Train Loss: 0.3966, Train Accuracy: 81.4900, Train IOU: 0.6620, Test Loss: 0.3489, Test Accuracy: 84.2881, Test IOU: 0.6960\n"
     ]
    },
    {
     "name": "stderr",
     "output_type": "stream",
     "text": [
      "100%|██████████| 246/246 [05:32<00:00,  1.35s/it]\n"
     ]
    },
    {
     "name": "stdout",
     "output_type": "stream",
     "text": [
      "Epoch 194/250: Train Loss: 0.3906, Train Accuracy: 81.9463, Train IOU: 0.6690, Test Loss: 0.3489, Test Accuracy: 84.2630, Test IOU: 0.6951\n"
     ]
    },
    {
     "name": "stderr",
     "output_type": "stream",
     "text": [
      "100%|██████████| 246/246 [01:25<00:00,  2.88it/s]\n"
     ]
    },
    {
     "name": "stdout",
     "output_type": "stream",
     "text": [
      "Epoch 195/250: Train Loss: 0.3902, Train Accuracy: 82.0897, Train IOU: 0.6724, Test Loss: 0.3528, Test Accuracy: 84.2583, Test IOU: 0.6973\n"
     ]
    },
    {
     "name": "stderr",
     "output_type": "stream",
     "text": [
      "100%|██████████| 246/246 [01:25<00:00,  2.87it/s]\n"
     ]
    },
    {
     "name": "stdout",
     "output_type": "stream",
     "text": [
      "Epoch 196/250: Train Loss: 0.3912, Train Accuracy: 81.9927, Train IOU: 0.6705, Test Loss: 0.3486, Test Accuracy: 83.9107, Test IOU: 0.6838\n"
     ]
    },
    {
     "name": "stderr",
     "output_type": "stream",
     "text": [
      "100%|██████████| 246/246 [01:26<00:00,  2.86it/s]\n"
     ]
    },
    {
     "name": "stdout",
     "output_type": "stream",
     "text": [
      "Epoch 197/250: Train Loss: 0.3957, Train Accuracy: 81.7899, Train IOU: 0.6676, Test Loss: 0.3543, Test Accuracy: 84.3284, Test IOU: 0.6974\n"
     ]
    },
    {
     "name": "stderr",
     "output_type": "stream",
     "text": [
      "100%|██████████| 246/246 [01:25<00:00,  2.87it/s]\n"
     ]
    },
    {
     "name": "stdout",
     "output_type": "stream",
     "text": [
      "Epoch 198/250: Train Loss: 0.3913, Train Accuracy: 81.7006, Train IOU: 0.6652, Test Loss: 0.3483, Test Accuracy: 83.9056, Test IOU: 0.6820\n"
     ]
    },
    {
     "name": "stderr",
     "output_type": "stream",
     "text": [
      "100%|██████████| 246/246 [01:28<00:00,  2.77it/s]\n"
     ]
    },
    {
     "name": "stdout",
     "output_type": "stream",
     "text": [
      "Epoch 199/250: Train Loss: 0.3923, Train Accuracy: 81.8674, Train IOU: 0.6687, Test Loss: 0.3506, Test Accuracy: 84.4552, Test IOU: 0.7003\n"
     ]
    },
    {
     "name": "stderr",
     "output_type": "stream",
     "text": [
      "100%|██████████| 246/246 [01:26<00:00,  2.85it/s]\n"
     ]
    },
    {
     "name": "stdout",
     "output_type": "stream",
     "text": [
      "Epoch 200/250: Train Loss: 0.3916, Train Accuracy: 81.5801, Train IOU: 0.6627, Test Loss: 0.3529, Test Accuracy: 83.2146, Test IOU: 0.6654\n"
     ]
    },
    {
     "name": "stderr",
     "output_type": "stream",
     "text": [
      "100%|██████████| 246/246 [01:26<00:00,  2.84it/s]\n"
     ]
    },
    {
     "name": "stdout",
     "output_type": "stream",
     "text": [
      "Epoch 201/250: Train Loss: 0.3878, Train Accuracy: 81.9934, Train IOU: 0.6706, Test Loss: 0.3468, Test Accuracy: 83.7562, Test IOU: 0.6776\n"
     ]
    },
    {
     "name": "stderr",
     "output_type": "stream",
     "text": [
      "100%|██████████| 246/246 [01:25<00:00,  2.86it/s]\n"
     ]
    },
    {
     "name": "stdout",
     "output_type": "stream",
     "text": [
      "Epoch 202/250: Train Loss: 0.3953, Train Accuracy: 81.6771, Train IOU: 0.6652, Test Loss: 0.3464, Test Accuracy: 84.1525, Test IOU: 0.6879\n"
     ]
    },
    {
     "name": "stderr",
     "output_type": "stream",
     "text": [
      "100%|██████████| 246/246 [01:26<00:00,  2.84it/s]\n"
     ]
    },
    {
     "name": "stdout",
     "output_type": "stream",
     "text": [
      "Epoch 203/250: Train Loss: 0.3943, Train Accuracy: 81.8027, Train IOU: 0.6679, Test Loss: 0.3505, Test Accuracy: 84.3419, Test IOU: 0.6956\n"
     ]
    },
    {
     "name": "stderr",
     "output_type": "stream",
     "text": [
      "100%|██████████| 246/246 [01:26<00:00,  2.86it/s]\n"
     ]
    },
    {
     "name": "stdout",
     "output_type": "stream",
     "text": [
      "Epoch 204/250: Train Loss: 0.3830, Train Accuracy: 82.4192, Train IOU: 0.6771, Test Loss: 0.3452, Test Accuracy: 84.5487, Test IOU: 0.7006\n"
     ]
    },
    {
     "name": "stderr",
     "output_type": "stream",
     "text": [
      "100%|██████████| 246/246 [01:27<00:00,  2.82it/s]\n"
     ]
    },
    {
     "name": "stdout",
     "output_type": "stream",
     "text": [
      "Epoch 205/250: Train Loss: 0.3869, Train Accuracy: 82.2658, Train IOU: 0.6745, Test Loss: 0.3464, Test Accuracy: 84.5303, Test IOU: 0.7008\n"
     ]
    },
    {
     "name": "stderr",
     "output_type": "stream",
     "text": [
      "100%|██████████| 246/246 [01:26<00:00,  2.84it/s]\n"
     ]
    },
    {
     "name": "stdout",
     "output_type": "stream",
     "text": [
      "Epoch 206/250: Train Loss: 0.3880, Train Accuracy: 82.0786, Train IOU: 0.6719, Test Loss: 0.3527, Test Accuracy: 84.6791, Test IOU: 0.7090\n"
     ]
    },
    {
     "name": "stderr",
     "output_type": "stream",
     "text": [
      "100%|██████████| 246/246 [01:26<00:00,  2.85it/s]\n"
     ]
    },
    {
     "name": "stdout",
     "output_type": "stream",
     "text": [
      "Epoch 207/250: Train Loss: 0.3878, Train Accuracy: 82.2313, Train IOU: 0.6744, Test Loss: 0.3517, Test Accuracy: 84.7668, Test IOU: 0.7130\n"
     ]
    },
    {
     "name": "stderr",
     "output_type": "stream",
     "text": [
      "100%|██████████| 246/246 [01:26<00:00,  2.85it/s]\n"
     ]
    },
    {
     "name": "stdout",
     "output_type": "stream",
     "text": [
      "Epoch 208/250: Train Loss: 0.3870, Train Accuracy: 81.9841, Train IOU: 0.6699, Test Loss: 0.3486, Test Accuracy: 84.0797, Test IOU: 0.6876\n"
     ]
    },
    {
     "name": "stderr",
     "output_type": "stream",
     "text": [
      "100%|██████████| 246/246 [01:26<00:00,  2.83it/s]\n"
     ]
    },
    {
     "name": "stdout",
     "output_type": "stream",
     "text": [
      "Epoch 209/250: Train Loss: 0.3911, Train Accuracy: 82.0109, Train IOU: 0.6712, Test Loss: 0.3416, Test Accuracy: 84.1424, Test IOU: 0.6871\n"
     ]
    },
    {
     "name": "stderr",
     "output_type": "stream",
     "text": [
      "100%|██████████| 246/246 [01:26<00:00,  2.84it/s]\n"
     ]
    },
    {
     "name": "stdout",
     "output_type": "stream",
     "text": [
      "Epoch 210/250: Train Loss: 0.3846, Train Accuracy: 82.4134, Train IOU: 0.6770, Test Loss: 0.3468, Test Accuracy: 84.8051, Test IOU: 0.7102\n"
     ]
    },
    {
     "name": "stderr",
     "output_type": "stream",
     "text": [
      "100%|██████████| 246/246 [01:26<00:00,  2.85it/s]\n"
     ]
    },
    {
     "name": "stdout",
     "output_type": "stream",
     "text": [
      "Epoch 211/250: Train Loss: 0.3917, Train Accuracy: 82.1371, Train IOU: 0.6733, Test Loss: 0.3408, Test Accuracy: 84.8722, Test IOU: 0.7077\n"
     ]
    },
    {
     "name": "stderr",
     "output_type": "stream",
     "text": [
      "100%|██████████| 246/246 [01:27<00:00,  2.82it/s]\n"
     ]
    },
    {
     "name": "stdout",
     "output_type": "stream",
     "text": [
      "Epoch 212/250: Train Loss: 0.3909, Train Accuracy: 81.8874, Train IOU: 0.6690, Test Loss: 0.3446, Test Accuracy: 84.8283, Test IOU: 0.7074\n"
     ]
    },
    {
     "name": "stderr",
     "output_type": "stream",
     "text": [
      "100%|██████████| 246/246 [01:28<00:00,  2.78it/s]\n"
     ]
    },
    {
     "name": "stdout",
     "output_type": "stream",
     "text": [
      "Epoch 213/250: Train Loss: 0.3920, Train Accuracy: 81.8959, Train IOU: 0.6693, Test Loss: 0.3408, Test Accuracy: 84.4860, Test IOU: 0.6959\n"
     ]
    },
    {
     "name": "stderr",
     "output_type": "stream",
     "text": [
      "100%|██████████| 246/246 [01:26<00:00,  2.85it/s]\n"
     ]
    },
    {
     "name": "stdout",
     "output_type": "stream",
     "text": [
      "Epoch 214/250: Train Loss: 0.3855, Train Accuracy: 82.2842, Train IOU: 0.6744, Test Loss: 0.3447, Test Accuracy: 84.4049, Test IOU: 0.6938\n"
     ]
    },
    {
     "name": "stderr",
     "output_type": "stream",
     "text": [
      "100%|██████████| 246/246 [01:26<00:00,  2.85it/s]\n"
     ]
    },
    {
     "name": "stdout",
     "output_type": "stream",
     "text": [
      "Epoch 215/250: Train Loss: 0.3821, Train Accuracy: 82.5678, Train IOU: 0.6793, Test Loss: 0.3406, Test Accuracy: 83.9788, Test IOU: 0.6808\n"
     ]
    },
    {
     "name": "stderr",
     "output_type": "stream",
     "text": [
      "100%|██████████| 246/246 [05:22<00:00,  1.31s/it]\n"
     ]
    },
    {
     "name": "stdout",
     "output_type": "stream",
     "text": [
      "Epoch 216/250: Train Loss: 0.3915, Train Accuracy: 81.9876, Train IOU: 0.6697, Test Loss: 0.3392, Test Accuracy: 84.4108, Test IOU: 0.6928\n"
     ]
    },
    {
     "name": "stderr",
     "output_type": "stream",
     "text": [
      "100%|██████████| 246/246 [01:25<00:00,  2.86it/s]\n"
     ]
    },
    {
     "name": "stdout",
     "output_type": "stream",
     "text": [
      "Epoch 217/250: Train Loss: 0.3897, Train Accuracy: 81.9561, Train IOU: 0.6695, Test Loss: 0.3399, Test Accuracy: 84.9455, Test IOU: 0.7096\n"
     ]
    },
    {
     "name": "stderr",
     "output_type": "stream",
     "text": [
      "100%|██████████| 246/246 [01:25<00:00,  2.86it/s]\n"
     ]
    },
    {
     "name": "stdout",
     "output_type": "stream",
     "text": [
      "Epoch 218/250: Train Loss: 0.3837, Train Accuracy: 82.2835, Train IOU: 0.6745, Test Loss: 0.3430, Test Accuracy: 84.9962, Test IOU: 0.7118\n"
     ]
    },
    {
     "name": "stderr",
     "output_type": "stream",
     "text": [
      "100%|██████████| 246/246 [01:27<00:00,  2.82it/s]\n"
     ]
    },
    {
     "name": "stdout",
     "output_type": "stream",
     "text": [
      "Epoch 219/250: Train Loss: 0.3824, Train Accuracy: 82.3924, Train IOU: 0.6762, Test Loss: 0.3524, Test Accuracy: 85.1282, Test IOU: 0.7221\n"
     ]
    },
    {
     "name": "stderr",
     "output_type": "stream",
     "text": [
      "100%|██████████| 246/246 [01:26<00:00,  2.83it/s]\n"
     ]
    },
    {
     "name": "stdout",
     "output_type": "stream",
     "text": [
      "Epoch 220/250: Train Loss: 0.3852, Train Accuracy: 82.3261, Train IOU: 0.6752, Test Loss: 0.3424, Test Accuracy: 84.9317, Test IOU: 0.7095\n"
     ]
    },
    {
     "name": "stderr",
     "output_type": "stream",
     "text": [
      "100%|██████████| 246/246 [01:26<00:00,  2.84it/s]\n"
     ]
    },
    {
     "name": "stdout",
     "output_type": "stream",
     "text": [
      "Epoch 221/250: Train Loss: 0.3832, Train Accuracy: 82.5435, Train IOU: 0.6785, Test Loss: 0.3485, Test Accuracy: 85.0047, Test IOU: 0.7153\n"
     ]
    },
    {
     "name": "stderr",
     "output_type": "stream",
     "text": [
      "100%|██████████| 246/246 [01:26<00:00,  2.85it/s]\n"
     ]
    },
    {
     "name": "stdout",
     "output_type": "stream",
     "text": [
      "Epoch 222/250: Train Loss: 0.3882, Train Accuracy: 82.1384, Train IOU: 0.6726, Test Loss: 0.3483, Test Accuracy: 85.0103, Test IOU: 0.7164\n"
     ]
    },
    {
     "name": "stderr",
     "output_type": "stream",
     "text": [
      "100%|██████████| 246/246 [01:26<00:00,  2.84it/s]\n"
     ]
    },
    {
     "name": "stdout",
     "output_type": "stream",
     "text": [
      "Epoch 223/250: Train Loss: 0.3848, Train Accuracy: 82.3118, Train IOU: 0.6748, Test Loss: 0.3414, Test Accuracy: 85.1357, Test IOU: 0.7146\n"
     ]
    },
    {
     "name": "stderr",
     "output_type": "stream",
     "text": [
      "100%|██████████| 246/246 [01:26<00:00,  2.84it/s]\n"
     ]
    },
    {
     "name": "stdout",
     "output_type": "stream",
     "text": [
      "Epoch 224/250: Train Loss: 0.3864, Train Accuracy: 82.1383, Train IOU: 0.6716, Test Loss: 0.3430, Test Accuracy: 84.8490, Test IOU: 0.7066\n"
     ]
    },
    {
     "name": "stderr",
     "output_type": "stream",
     "text": [
      "100%|██████████| 246/246 [01:26<00:00,  2.84it/s]\n"
     ]
    },
    {
     "name": "stdout",
     "output_type": "stream",
     "text": [
      "Epoch 225/250: Train Loss: 0.3789, Train Accuracy: 82.4901, Train IOU: 0.6780, Test Loss: 0.3459, Test Accuracy: 85.0695, Test IOU: 0.7150\n"
     ]
    },
    {
     "name": "stderr",
     "output_type": "stream",
     "text": [
      "100%|██████████| 246/246 [05:29<00:00,  1.34s/it]\n"
     ]
    },
    {
     "name": "stdout",
     "output_type": "stream",
     "text": [
      "Epoch 226/250: Train Loss: 0.3866, Train Accuracy: 82.2107, Train IOU: 0.6733, Test Loss: 0.3422, Test Accuracy: 85.0178, Test IOU: 0.7114\n"
     ]
    },
    {
     "name": "stderr",
     "output_type": "stream",
     "text": [
      "100%|██████████| 246/246 [01:25<00:00,  2.87it/s]\n"
     ]
    },
    {
     "name": "stdout",
     "output_type": "stream",
     "text": [
      "Epoch 227/250: Train Loss: 0.3907, Train Accuracy: 82.1436, Train IOU: 0.6722, Test Loss: 0.3357, Test Accuracy: 84.7367, Test IOU: 0.6995\n"
     ]
    },
    {
     "name": "stderr",
     "output_type": "stream",
     "text": [
      "100%|██████████| 246/246 [05:32<00:00,  1.35s/it]\n"
     ]
    },
    {
     "name": "stdout",
     "output_type": "stream",
     "text": [
      "Epoch 228/250: Train Loss: 0.3887, Train Accuracy: 81.9098, Train IOU: 0.6677, Test Loss: 0.3391, Test Accuracy: 85.0310, Test IOU: 0.7091\n"
     ]
    },
    {
     "name": "stderr",
     "output_type": "stream",
     "text": [
      "100%|██████████| 246/246 [01:25<00:00,  2.87it/s]\n"
     ]
    },
    {
     "name": "stdout",
     "output_type": "stream",
     "text": [
      "Epoch 229/250: Train Loss: 0.3797, Train Accuracy: 82.4613, Train IOU: 0.6770, Test Loss: 0.3395, Test Accuracy: 84.9984, Test IOU: 0.7095\n"
     ]
    },
    {
     "name": "stderr",
     "output_type": "stream",
     "text": [
      "100%|██████████| 246/246 [01:26<00:00,  2.84it/s]\n"
     ]
    },
    {
     "name": "stdout",
     "output_type": "stream",
     "text": [
      "Epoch 230/250: Train Loss: 0.3866, Train Accuracy: 82.2122, Train IOU: 0.6736, Test Loss: 0.3526, Test Accuracy: 85.2103, Test IOU: 0.7243\n"
     ]
    },
    {
     "name": "stderr",
     "output_type": "stream",
     "text": [
      "100%|██████████| 246/246 [01:26<00:00,  2.84it/s]\n"
     ]
    },
    {
     "name": "stdout",
     "output_type": "stream",
     "text": [
      "Epoch 231/250: Train Loss: 0.3759, Train Accuracy: 82.6880, Train IOU: 0.6808, Test Loss: 0.3397, Test Accuracy: 84.9346, Test IOU: 0.7066\n"
     ]
    },
    {
     "name": "stderr",
     "output_type": "stream",
     "text": [
      "100%|██████████| 246/246 [01:28<00:00,  2.79it/s]\n"
     ]
    },
    {
     "name": "stdout",
     "output_type": "stream",
     "text": [
      "Epoch 232/250: Train Loss: 0.3801, Train Accuracy: 82.4272, Train IOU: 0.6755, Test Loss: 0.3412, Test Accuracy: 85.4178, Test IOU: 0.7218\n"
     ]
    },
    {
     "name": "stderr",
     "output_type": "stream",
     "text": [
      "100%|██████████| 246/246 [01:27<00:00,  2.83it/s]\n"
     ]
    },
    {
     "name": "stdout",
     "output_type": "stream",
     "text": [
      "Epoch 233/250: Train Loss: 0.3856, Train Accuracy: 82.0536, Train IOU: 0.6709, Test Loss: 0.3373, Test Accuracy: 85.1866, Test IOU: 0.7140\n"
     ]
    },
    {
     "name": "stderr",
     "output_type": "stream",
     "text": [
      "100%|██████████| 246/246 [01:27<00:00,  2.82it/s]\n"
     ]
    },
    {
     "name": "stdout",
     "output_type": "stream",
     "text": [
      "Epoch 234/250: Train Loss: 0.3815, Train Accuracy: 82.3820, Train IOU: 0.6761, Test Loss: 0.3332, Test Accuracy: 85.0862, Test IOU: 0.7099\n"
     ]
    },
    {
     "name": "stderr",
     "output_type": "stream",
     "text": [
      "100%|██████████| 246/246 [01:27<00:00,  2.80it/s]\n"
     ]
    },
    {
     "name": "stdout",
     "output_type": "stream",
     "text": [
      "Epoch 235/250: Train Loss: 0.3739, Train Accuracy: 82.8121, Train IOU: 0.6833, Test Loss: 0.3337, Test Accuracy: 84.7328, Test IOU: 0.6983\n"
     ]
    },
    {
     "name": "stderr",
     "output_type": "stream",
     "text": [
      "100%|██████████| 246/246 [01:27<00:00,  2.81it/s]\n"
     ]
    },
    {
     "name": "stdout",
     "output_type": "stream",
     "text": [
      "Epoch 236/250: Train Loss: 0.3781, Train Accuracy: 82.6157, Train IOU: 0.6793, Test Loss: 0.3350, Test Accuracy: 84.9095, Test IOU: 0.7039\n"
     ]
    },
    {
     "name": "stderr",
     "output_type": "stream",
     "text": [
      "100%|██████████| 246/246 [01:27<00:00,  2.80it/s]\n"
     ]
    },
    {
     "name": "stdout",
     "output_type": "stream",
     "text": [
      "Epoch 237/250: Train Loss: 0.3874, Train Accuracy: 82.0614, Train IOU: 0.6701, Test Loss: 0.3345, Test Accuracy: 85.2509, Test IOU: 0.7134\n"
     ]
    },
    {
     "name": "stderr",
     "output_type": "stream",
     "text": [
      "100%|██████████| 246/246 [01:28<00:00,  2.79it/s]\n"
     ]
    },
    {
     "name": "stdout",
     "output_type": "stream",
     "text": [
      "Epoch 238/250: Train Loss: 0.3837, Train Accuracy: 82.3719, Train IOU: 0.6758, Test Loss: 0.3333, Test Accuracy: 85.1536, Test IOU: 0.7096\n"
     ]
    },
    {
     "name": "stderr",
     "output_type": "stream",
     "text": [
      "100%|██████████| 246/246 [01:29<00:00,  2.73it/s]\n"
     ]
    },
    {
     "name": "stdout",
     "output_type": "stream",
     "text": [
      "Epoch 239/250: Train Loss: 0.3808, Train Accuracy: 82.5330, Train IOU: 0.6786, Test Loss: 0.3344, Test Accuracy: 85.2074, Test IOU: 0.7124\n"
     ]
    },
    {
     "name": "stderr",
     "output_type": "stream",
     "text": [
      "100%|██████████| 246/246 [01:29<00:00,  2.75it/s]\n"
     ]
    },
    {
     "name": "stdout",
     "output_type": "stream",
     "text": [
      "Epoch 240/250: Train Loss: 0.3809, Train Accuracy: 82.5195, Train IOU: 0.6779, Test Loss: 0.3352, Test Accuracy: 85.2052, Test IOU: 0.7127\n"
     ]
    },
    {
     "name": "stderr",
     "output_type": "stream",
     "text": [
      "100%|██████████| 246/246 [05:29<00:00,  1.34s/it]\n"
     ]
    },
    {
     "name": "stdout",
     "output_type": "stream",
     "text": [
      "Epoch 241/250: Train Loss: 0.3768, Train Accuracy: 82.6441, Train IOU: 0.6801, Test Loss: 0.3383, Test Accuracy: 84.9028, Test IOU: 0.7052\n"
     ]
    },
    {
     "name": "stderr",
     "output_type": "stream",
     "text": [
      "100%|██████████| 246/246 [01:27<00:00,  2.81it/s]\n"
     ]
    },
    {
     "name": "stdout",
     "output_type": "stream",
     "text": [
      "Epoch 242/250: Train Loss: 0.3810, Train Accuracy: 82.5619, Train IOU: 0.6792, Test Loss: 0.3346, Test Accuracy: 84.8614, Test IOU: 0.7019\n"
     ]
    },
    {
     "name": "stderr",
     "output_type": "stream",
     "text": [
      "100%|██████████| 246/246 [01:28<00:00,  2.79it/s]\n"
     ]
    },
    {
     "name": "stdout",
     "output_type": "stream",
     "text": [
      "Epoch 243/250: Train Loss: 0.3821, Train Accuracy: 82.5883, Train IOU: 0.6798, Test Loss: 0.3372, Test Accuracy: 85.1367, Test IOU: 0.7130\n"
     ]
    },
    {
     "name": "stderr",
     "output_type": "stream",
     "text": [
      "100%|██████████| 246/246 [01:27<00:00,  2.82it/s]\n"
     ]
    },
    {
     "name": "stdout",
     "output_type": "stream",
     "text": [
      "Epoch 244/250: Train Loss: 0.3797, Train Accuracy: 82.4924, Train IOU: 0.6772, Test Loss: 0.3349, Test Accuracy: 85.3192, Test IOU: 0.7151\n"
     ]
    },
    {
     "name": "stderr",
     "output_type": "stream",
     "text": [
      "100%|██████████| 246/246 [01:26<00:00,  2.83it/s]\n"
     ]
    },
    {
     "name": "stdout",
     "output_type": "stream",
     "text": [
      "Epoch 245/250: Train Loss: 0.3794, Train Accuracy: 82.4334, Train IOU: 0.6764, Test Loss: 0.3340, Test Accuracy: 85.2441, Test IOU: 0.7121\n"
     ]
    },
    {
     "name": "stderr",
     "output_type": "stream",
     "text": [
      "100%|██████████| 246/246 [01:27<00:00,  2.81it/s]\n"
     ]
    },
    {
     "name": "stdout",
     "output_type": "stream",
     "text": [
      "Epoch 246/250: Train Loss: 0.3777, Train Accuracy: 82.5761, Train IOU: 0.6784, Test Loss: 0.3371, Test Accuracy: 85.4972, Test IOU: 0.7233\n"
     ]
    },
    {
     "name": "stderr",
     "output_type": "stream",
     "text": [
      "100%|██████████| 246/246 [01:27<00:00,  2.82it/s]\n"
     ]
    },
    {
     "name": "stdout",
     "output_type": "stream",
     "text": [
      "Epoch 247/250: Train Loss: 0.3771, Train Accuracy: 82.6481, Train IOU: 0.6795, Test Loss: 0.3375, Test Accuracy: 85.2737, Test IOU: 0.7135\n"
     ]
    },
    {
     "name": "stderr",
     "output_type": "stream",
     "text": [
      "100%|██████████| 246/246 [01:27<00:00,  2.81it/s]\n"
     ]
    },
    {
     "name": "stdout",
     "output_type": "stream",
     "text": [
      "Epoch 248/250: Train Loss: 0.3746, Train Accuracy: 82.7942, Train IOU: 0.6819, Test Loss: 0.3345, Test Accuracy: 84.7279, Test IOU: 0.6967\n"
     ]
    },
    {
     "name": "stderr",
     "output_type": "stream",
     "text": [
      "100%|██████████| 246/246 [01:27<00:00,  2.81it/s]\n"
     ]
    },
    {
     "name": "stdout",
     "output_type": "stream",
     "text": [
      "Epoch 249/250: Train Loss: 0.3761, Train Accuracy: 82.6075, Train IOU: 0.6786, Test Loss: 0.3330, Test Accuracy: 85.4442, Test IOU: 0.7170\n"
     ]
    },
    {
     "name": "stderr",
     "output_type": "stream",
     "text": [
      "100%|██████████| 246/246 [01:27<00:00,  2.81it/s]\n"
     ]
    },
    {
     "name": "stdout",
     "output_type": "stream",
     "text": [
      "Epoch 250/250: Train Loss: 0.3798, Train Accuracy: 82.4836, Train IOU: 0.6767, Test Loss: 0.3366, Test Accuracy: 85.2841, Test IOU: 0.7150\n"
     ]
    },
    {
     "data": {
      "text/plain": [
       "<All keys matched successfully>"
      ]
     },
     "execution_count": 12,
     "metadata": {},
     "output_type": "execute_result"
    }
   ],
   "source": [
    "best_loss3 = float('inf')\n",
    "best_model_wts3 = None\n",
    "\n",
    "train_losses3 = []\n",
    "train_accuracies3 = []\n",
    "test_losses3 = []\n",
    "test_accuracies3 = []\n",
    "train_ious3 = []\n",
    "test_ious3 = []\n",
    "\n",
    "# Define patience\n",
    "PATIENCE = 10\n",
    "# Initialize early stopping\n",
    "early_stopping = EarlyStopping(patience=PATIENCE)\n",
    "\n",
    "for epoch in range(epochs):\n",
    "    train_loss, train_accuracy, train_iou = train(modelunetplusplus, trainloader, optimizer, lossfn, DEVICE)\n",
    "    test_loss, test_accuracy, test_iou = evaluate(modelunetplusplus, testloader, lossfn, DEVICE)\n",
    "\n",
    "    train_losses3.append(train_loss)\n",
    "    train_accuracies3.append(train_accuracy)\n",
    "    test_losses3.append(test_loss)\n",
    "    test_accuracies3.append(test_accuracy)\n",
    "    train_ious3.append(train_iou)\n",
    "    test_ious3.append(test_iou)\n",
    "\n",
    "    print(f'Epoch {epoch + 1}/{epochs}: Train Loss: {train_loss:.4f}, Train Accuracy: {train_accuracy:.4f}, Train IOU: {train_iou:.4f}, Test Loss: {test_loss:.4f}, Test Accuracy: {test_accuracy:.4f}, Test IOU: {test_iou:.4f}')\n",
    "\n",
    "    # Early stopping check\n",
    "    early_stopping(test_loss, modelunetplusplus)\n",
    "    if early_stopping.early_stop:\n",
    "        print(\"Early stopping triggered\")\n",
    "        break\n",
    "\n",
    "    # Save the best model\n",
    "    if test_loss < best_loss3:\n",
    "        best_loss3 = test_loss\n",
    "\n",
    "        best_model_wts3 = modelunetplusplus.state_dict()\n",
    "\n",
    "modelunetplusplus.load_state_dict(best_model_wts3)\n"
   ]
  },
  {
   "cell_type": "code",
   "execution_count": 13,
   "metadata": {},
   "outputs": [],
   "source": [
    "torch.save(modelunetplusplus, 'unetplusplus_efficientnet_v3_effb4.pth')\n",
    "#load model\n",
    "#modelunet = torch.load('modelunet.pth')"
   ]
  },
  {
   "cell_type": "code",
   "execution_count": 14,
   "metadata": {},
   "outputs": [
    {
     "name": "stdout",
     "output_type": "stream",
     "text": [
      "[0.5269540593149217, 0.5254906724865843, 0.527080292866482, 0.525242132263455, 0.523377465644503, 0.5210820550356454, 0.5192809751847896, 0.5202951014526491, 0.5205938080704309, 0.5181554483204354, 0.5181272539908324, 0.515219532256204, 0.5114972999667734, 0.5115081596422971, 0.511740880283883, 0.5109020511551601, 0.5097810112363924, 0.5104456606919203, 0.5072541514305564, 0.5070360141798733, 0.5094442378456999, 0.5064586667510552, 0.5020529654452471, 0.5072277436653773, 0.49940561484999774, 0.501272795040433, 0.5011446181593872, 0.5000932935049863, 0.49810845980314705, 0.4969224600287957, 0.495706641455976, 0.4981955615727882, 0.49592033670685154, 0.49275960815631276, 0.49464762041239235, 0.49306857343611676, 0.49023622771104175, 0.4883314017357865, 0.49452471660404673, 0.48859181551913905, 0.48848417219592305, 0.48743818809346456, 0.48331151939019923, 0.48930584778630637, 0.49072348550567785, 0.4836327534138672, 0.4853306644088854, 0.4835572180951514, 0.48119648854906966, 0.4819522281972373, 0.47871242512047774, 0.47674338434769853, 0.4790755954942083, 0.47779774823324467, 0.47944574906089443, 0.4735372048325655, 0.47904976838972513, 0.47375532827241634, 0.47725059213192483, 0.47013301420502546, 0.471496194237616, 0.4703121117460049, 0.4699664426043751, 0.470284555501085, 0.46728975368224507, 0.46861302985893033, 0.4731428118013754, 0.4659275885035352, 0.470879316693399, 0.4609507517359121, 0.4656428889772756, 0.4656604586577997, 0.46450845897197723, 0.46440969468132265, 0.46417164766206975, 0.46135933091485404, 0.46066637361437324, 0.4559747386511748, 0.45780670764000436, 0.4604402962254315, 0.46102773258841134, 0.46074928585591357, 0.45531344692396925, 0.4644421935081482, 0.4557604370563011, 0.4505061698638327, 0.4576543665271464, 0.4502543485988446, 0.4554748638131754, 0.4494353282015498, 0.4536969753784862, 0.45233371950746554, 0.4547290393734366, 0.4560285163361852, 0.4481344253309374, 0.44493599793290706, 0.4518501345461946, 0.4446955593378563, 0.4412156628157065, 0.4460666990134774, 0.4421792448293872, 0.44327706365081354, 0.4468792353461428, 0.4386972016919919, 0.44362748868581725, 0.4448738290769298, 0.4432976500290196, 0.44361312033199685, 0.43716424739942317, 0.43536272838832885, 0.4368241243973011, 0.4337350603768496, 0.4355143342560869, 0.4388530045990052, 0.43425811148755916, 0.4286810372903095, 0.43130361512909093, 0.4296511325652037, 0.43540720084333806, 0.4304565841831812, 0.4286869731618137, 0.4317071930906637, 0.4306330984927774, 0.43304947248803893, 0.4275558170506625, 0.4271639088789622, 0.4286097614018898, 0.43179612503788334, 0.4290649332408983, 0.42325343761017653, 0.42054112122310855, 0.41761694981799863, 0.4259725783656283, 0.4228348920984966, 0.42938496875084514, 0.4238482009831483, 0.42854182095062443, 0.42185803514912845, 0.41299685242214823, 0.4193677350999863, 0.4206236075095045, 0.42033549216462346, 0.4166615917915251, 0.414828101793925, 0.421498806374829, 0.4176788636581685, 0.41844219472107846, 0.4163928969604213, 0.41525735094295285, 0.41271642637931233, 0.4131402777341323, 0.41924002984674963, 0.40963641475371226, 0.4120652223142182, 0.4111247697496802, 0.40784574439370536, 0.4144090613940867, 0.4100081038668873, 0.4117409084143677, 0.4123449045710447, 0.4057803249092606, 0.406416218394671, 0.41810463938286635, 0.405477758406139, 0.40398226302813706, 0.4060277813454954, 0.4044961432615916, 0.4085405897197685, 0.39869736886121393, 0.4126406711776082, 0.4066202205613377, 0.405420811437979, 0.399023711317923, 0.40547409205417323, 0.40297010577306513, 0.40612135040081615, 0.4056554705631442, 0.39422997287133843, 0.3992931108043446, 0.40245315081220334, 0.40453024559873874, 0.39172598507588474, 0.402109762275122, 0.39374960547055654, 0.40275065643273716, 0.39913114335963396, 0.3947382654116406, 0.39501715602913523, 0.39513458771918847, 0.39493481942066333, 0.397590526599225, 0.39729041951458627, 0.39663909896602473, 0.3905768790623037, 0.3901978644534824, 0.3912122917126834, 0.3957473503622582, 0.39132713786954804, 0.39231403450655744, 0.3916119225020331, 0.3877536338882718, 0.39533628898907486, 0.39431733286719983, 0.38304832444442966, 0.386911570480684, 0.38799441006125474, 0.38780206974928944, 0.3869739374130722, 0.3911418819088277, 0.3846019573085676, 0.39174876259109837, 0.39090180966427657, 0.3919798678498927, 0.38551233630112514, 0.3821063600177687, 0.3914871167361252, 0.3897003136514648, 0.38374019177948554, 0.38241589142055044, 0.38516729573408764, 0.3832351926986764, 0.3882237649787732, 0.38479787850283026, 0.38635098334492707, 0.3788763227138093, 0.38664446952866344, 0.390715654606257, 0.38869260366612335, 0.379654451962409, 0.3865702599287033, 0.3759037610597727, 0.3800968051683612, 0.38562392073918167, 0.3814878154212866, 0.37394599913339305, 0.3780637774162176, 0.38735721139161566, 0.38367357171647914, 0.38082353340658714, 0.38086791057896807, 0.37682056766215377, 0.3810084822580097, 0.3820731613815315, 0.37974207696875906, 0.37941387422927997, 0.3777020093265588, 0.3770526956494262, 0.37462112307548523, 0.37609327105971857, 0.3797932908060105]\n",
      "[70.81770258702092, 70.78493074606394, 70.79757185686029, 70.9884006801149, 70.76270571798466, 71.1416121232904, 71.20184046621542, 71.26658820620626, 71.06256227760218, 71.49409325674897, 71.328565291776, 71.69927466006679, 71.70933070680265, 71.84501279098083, 71.65238552724435, 71.94632338506878, 71.77885798097566, 71.92911706201296, 72.0456709145893, 72.05469107203204, 71.86957361740618, 72.11562993872256, 72.5364494809061, 72.15077329834607, 72.62581318086036, 72.64137171000317, 72.58665050865736, 72.58458571882952, 72.71584081285782, 72.72627502907324, 73.02273505213304, 72.62420498991133, 73.21296439522702, 73.07377861352974, 73.28947809816316, 73.37124812390665, 73.67840172376948, 73.65829506599873, 73.43778110339137, 73.64202601309042, 73.84327818115855, 73.9532059142911, 74.16278868231154, 73.84436532134622, 73.75020810969306, 74.16205098004134, 74.20711915304946, 74.37319457075978, 74.61010649004055, 74.70172057018328, 74.7251577595718, 74.97601768746024, 74.91358167342558, 74.99162203179668, 75.20109375621223, 75.4742579181079, 75.12858849445372, 75.46330187460242, 75.26728739265268, 75.68786465788008, 75.88039330247098, 75.89558142742128, 75.8249957446227, 76.06014028456981, 76.49065867028467, 76.07813245467557, 75.92651134228888, 76.44412907025287, 76.28331696410822, 76.67474411826097, 76.41755315183684, 76.609327010526, 76.58742035921597, 76.80802595221056, 76.78294795766737, 76.78563474698831, 77.02692473511053, 77.36405544911935, 77.1253559607586, 77.08872399560671, 77.28536513622177, 77.2243633707061, 77.39895653178674, 77.00669150316078, 77.32590226423346, 77.85266284117566, 77.5441875894561, 77.9218391243738, 77.49627343874245, 77.83563123707856, 77.66024679324705, 77.76281846995269, 77.60788546263716, 77.69069293073116, 78.29645287899571, 78.46476004020555, 77.91185374175016, 78.23658795150486, 78.48349612481115, 78.27533518085042, 78.53420888497934, 78.6329243201336, 78.15158911940402, 78.73910530226225, 78.34082450575501, 78.26725772925613, 78.52634808489385, 78.66092905136769, 78.99058722964376, 78.97840815342715, 79.0491149747038, 79.13503011067708, 79.0859915463979, 78.8599494759363, 79.35898176586355, 79.36804773849993, 79.56865461121382, 79.4645096873509, 78.96897876535664, 79.53978638005924, 79.5344291085202, 79.41271755228212, 79.56211468645634, 79.13090984936586, 79.64580739727457, 79.7396066291945, 79.57626847517096, 79.44384548196962, 79.3190045150485, 80.08648976721533, 80.13315836588542, 80.24872758006322, 79.80405928827727, 79.88761377698592, 79.60083473729723, 79.90359551427322, 79.63220960311307, 80.09233935795365, 80.53606882653467, 80.22962264432252, 80.1257168913009, 80.13799148054827, 80.37579563131163, 80.49141997902751, 80.07915700664957, 80.16441985851026, 80.56153508543058, 80.49431021886927, 80.55925053797908, 80.67248861298306, 80.59552529992645, 80.28277991685552, 80.72556357347328, 80.696241073026, 80.7650826723521, 80.89453621978372, 80.44215000919411, 80.71296439522702, 80.67174159236839, 80.67500456598879, 81.07165154609972, 81.00647360920603, 80.44267804871382, 81.18574923838065, 81.15178309627466, 81.07379088268328, 81.02390279600031, 80.90764324780335, 81.62433653387404, 80.50908523054827, 80.6367372313832, 81.05672744090927, 81.52836612769362, 80.95686429632832, 81.1764604020058, 81.1338646963959, 81.02374283108699, 81.80170500854803, 81.38062067007594, 81.34599913774252, 81.35122672898775, 82.03361763602298, 81.40867975831941, 81.64459228515625, 81.1274327091285, 81.42214010690004, 81.77501494041229, 81.68034444328482, 81.58976004020555, 81.67529623017056, 81.51137257350311, 81.71116719719109, 81.4900234698036, 81.94634279828642, 82.08971174012008, 81.99265186416586, 81.78988779470816, 81.70061650166984, 81.86741875024849, 81.58014894441794, 81.99342761634264, 81.67711175428394, 81.80266868067152, 82.41922859017176, 82.26578807102814, 82.07857709501234, 82.23125118032362, 81.98411393104922, 82.01087466329714, 82.41337589331862, 82.13712037064647, 81.88738485632355, 81.8959072588661, 82.28421121456545, 82.5678344415951, 81.98758190824785, 81.95613249567629, 82.28351699790275, 82.39240029992645, 82.32612978714417, 82.54349492585082, 82.1384016430105, 82.31175934692072, 82.13834262682887, 82.4901489568424, 82.21071432565004, 82.14357798336115, 81.90978149724674, 82.46134517757038, 82.21215789251352, 82.68800536488152, 82.4272392602974, 82.05362256853331, 82.38195987148138, 82.81214900902512, 82.61574315660782, 82.0613847494732, 82.37191780226225, 82.53303586071684, 82.51954289793059, 82.644143140953, 82.56193204690481, 82.58826568836474, 82.49239856050214, 82.43336840136968, 82.57609360090649, 82.64808091801845, 82.79423604484732, 82.60753913083452, 82.48358806580988]\n",
      "[0.5035580185151869, 0.5053847749387065, 0.49982559392529147, 0.49787904033737795, 0.49894941093460204, 0.49873881330413206, 0.49494555063786044, 0.4953359206837992, 0.48927717343453436, 0.48711211066092214, 0.48851368167708, 0.48572247403283275, 0.48790690975804485, 0.4836411629953692, 0.48349606462063327, 0.48229453400258093, 0.47620398334918485, 0.4770036974260884, 0.4772517325416688, 0.4743967032240283, 0.4707622374257734, 0.4719118797971356, 0.477223266997645, 0.46935730403469456, 0.4689460363118879, 0.4731052181413097, 0.4683611407395332, 0.46953337807809153, 0.47133979105180307, 0.46674229829542097, 0.46141813887703803, 0.4628847505777113, 0.46423215298883375, 0.46497747590464933, 0.4578119626929683, 0.457809008417591, 0.46164418612757036, 0.4535197490645993, 0.45297259669150075, 0.4504310608871521, 0.4503271839311046, 0.4475967081323747, 0.4477910106220553, 0.455065266259255, 0.44840113914782004, 0.4468583305997233, 0.444818768770464, 0.4432244596462096, 0.4522183277914601, 0.44605239072153646, 0.4412410836065969, 0.44098621991372877, 0.44272270221864024, 0.4420662503088674, 0.439941240895179, 0.4456490989654295, 0.43538215323801965, 0.4368302177998327, 0.43785780091439525, 0.4313627721801881, 0.4326874334965983, 0.4419866415762132, 0.4376423296428496, 0.4301942913762985, 0.4292379406190688, 0.42775570288781195, 0.4270476444113639, 0.42692413253168904, 0.42525384503026165, 0.42186802337246554, 0.4239595171905333, 0.4228503704071045, 0.4243971965005321, 0.4242601774392589, 0.425082964281882, 0.4192708490356322, 0.4232091144207985, 0.42354167421017924, 0.41439140227533156, 0.41907042264938354, 0.41760865526814617, 0.4166935110284436, 0.41621025627659214, 0.4124927116978553, 0.4154105503712931, 0.41471572652939825, 0.4154280695703722, 0.411354900848481, 0.41010684976654666, 0.4114347797247671, 0.41522440410429434, 0.40846224465677816, 0.40971781049043904, 0.40297807320471735, 0.4160984177743235, 0.4053263034551374, 0.40441949809751204, 0.4062710707226107, 0.4088403443174978, 0.40729271932955713, 0.40139419321090947, 0.40162780472347814, 0.3986060631371314, 0.3991381766334657, 0.3970758244395256, 0.40781750097390146, 0.40399911182542003, 0.39637370119171755, 0.39415542300670375, 0.39280768892457407, 0.39656666257689077, 0.3999143574507006, 0.39678762949282126, 0.3934383714391339, 0.39700999375312557, 0.3896322687787394, 0.39381637448264706, 0.39028018737031567, 0.38881046012524634, 0.3921504926777655, 0.388531330612398, 0.4002569606227259, 0.3931964832928873, 0.39612531661987305, 0.3884356992859994, 0.38189191635577907, 0.3870828940022376, 0.38483265114407383, 0.38853635086167243, 0.3789044075435208, 0.3810504376888275, 0.38792909393387454, 0.383441646252909, 0.3812207146998375, 0.3895595741848792, 0.3773759605903779, 0.38674201215467147, 0.38142474668641246, 0.3789839117277053, 0.37896819268503495, 0.3747096484707248, 0.38075629117027404, 0.37711642105733195, 0.3790443443482922, 0.3797285660139976, 0.3814614931902578, 0.373307541012764, 0.3780832934764124, 0.37737725242491693, 0.370750944460592, 0.3690663254068744, 0.3728577480200798, 0.3718114026611851, 0.36571246673983915, 0.3667586753445287, 0.3688247511463781, 0.3640384414503651, 0.3685532308393909, 0.36556685571708986, 0.37265813182438573, 0.36395047268559855, 0.36148388395386355, 0.3666909659101117, 0.3597530869226302, 0.36625425373354265, 0.3649378505445296, 0.3656608810828578, 0.36586223783031585, 0.3610419039764712, 0.3595330905049078, 0.36494201253498754, 0.37098293511136887, 0.35738720576609334, 0.3618383277808466, 0.36291741868180616, 0.3595373611296377, 0.36592549061582935, 0.3540922499472095, 0.3648751099263468, 0.3549130732013333, 0.3623173292125425, 0.36210952963559856, 0.3555398124360269, 0.3568484941797872, 0.35274371216374056, 0.3657714061198696, 0.3546326749267117, 0.35019297945883965, 0.3563277913678077, 0.3483563099176653, 0.34877549520423334, 0.3493231111957181, 0.34894564723776234, 0.3488712745808786, 0.35276405873798555, 0.3485988496292022, 0.3543071746826172, 0.3483052116728598, 0.35056890595343804, 0.35291735731786295, 0.34681579062054235, 0.3464471070516494, 0.35051840736019996, 0.3451593662461927, 0.3463810357835985, 0.3526512881921184, 0.351745811200911, 0.3485942555050696, 0.34161279975406583, 0.3467790095075484, 0.3408357674075711, 0.3445900267651004, 0.3407991336238, 0.3446534756691225, 0.3406284465905159, 0.33922224804278345, 0.33993008684727455, 0.34303200076664647, 0.35242593048080323, 0.3424488269994336, 0.3484802073048007, 0.3483065063914945, 0.34139387525858417, 0.34301146432276697, 0.3459161361379008, 0.3422048375491173, 0.33565809745942393, 0.3391292945992562, 0.33945862804689714, 0.35264433007086476, 0.33972564579979064, 0.3411565766699852, 0.3372546196464569, 0.33319826568326644, 0.3337249731825244, 0.3349746121994911, 0.3345399366751794, 0.33330583572387695, 0.3344197811618928, 0.33520855730579746, 0.33826846941824884, 0.33461451410285886, 0.33724743079754615, 0.334942945549565, 0.33401797255200727, 0.3371340288750587, 0.3375350244102939, 0.33454909992794835, 0.3329553772364893, 0.33663890943411856]\n",
      "[72.47493712882685, 72.35211007963352, 72.5462192442359, 72.73278275156409, 72.72236521651105, 72.75777677210365, 72.97483614789762, 73.07200858263465, 73.35081333067359, 73.36431053595814, 73.30194488773502, 73.81838046438325, 73.5899886464685, 73.47498948011942, 73.63184176809419, 73.93733389009304, 74.22089925626429, 74.3890405670414, 73.97415347215606, 74.25057015767912, 74.37364221588383, 74.44888789479326, 74.66086410894627, 74.82275924062341, 75.0162977513259, 74.74079287149073, 74.93257600117505, 74.71394422577649, 75.41640677103182, 75.47493911370998, 75.94585263632177, 75.58063103900692, 75.46137057668794, 75.32397014338795, 75.7233348319201, 76.28932425646278, 76.48531595865884, 75.87452400021436, 76.60290787859661, 76.30251132375825, 76.59611895801575, 77.1187262806466, 76.89053915380462, 76.90280511127254, 77.2899596671748, 77.09825097060785, 77.08994547526041, 77.48466119533633, 77.71546588680609, 77.72762639735772, 78.28031710492887, 78.02822764326886, 78.18244065695662, 78.64142937388846, 78.59134208865282, 78.3550541575362, 78.89096950127826, 78.82059298879732, 78.76769585338064, 78.55734166091051, 79.02279985629445, 79.14334118850832, 79.37517243672193, 79.33827221878175, 79.76973929056307, 79.24830118815103, 79.93474820765053, 79.55148278213129, 79.83109078756193, 79.89759367655932, 79.90879586072472, 79.68885840439215, 80.2451963347148, 79.82581223898787, 80.6084950764974, 80.36215557315485, 80.46548424697504, 80.07102594143008, 80.54031744235898, 80.21408329165078, 80.6037313569852, 80.44195717912379, 80.92321380367123, 80.57848922605437, 80.69637267570185, 81.03178070812692, 80.97618847358518, 80.85697763334446, 81.07740510769976, 80.97890218098959, 81.14087174578411, 80.89322346012767, 81.17448450104008, 80.91439658064184, 81.23139482203537, 81.43603006998697, 81.57343050328697, 81.41727912716749, 81.57727001159172, 81.45838481623952, 81.23766581217447, 81.65153255307578, 81.66720692704364, 81.67854867330412, 81.33193535533377, 81.3695892085874, 81.76636424491076, 81.7316411956539, 81.94165733771595, 81.77211420322821, 82.14636081602515, 81.64796286482152, 82.0303071805132, 81.6190580042397, 81.67247617147802, 81.86836862951759, 82.04948921513751, 82.20967238511496, 82.19976347636401, 82.33542403554529, 82.22169333357152, 82.16810459043921, 82.24943517669429, 82.02616683835906, 82.09330861161395, 82.2609350933292, 82.2264942696424, 82.5841547027836, 82.49660584984755, 82.49697181267467, 82.04373305406027, 82.7283595635639, 82.65601367485232, 82.50633177718495, 82.59317041412602, 82.64725537804084, 82.55846907452839, 82.76839527657361, 82.53659194077902, 82.95127434459158, 82.59093742060467, 82.83070820133861, 82.87691566033092, 82.93401516549956, 82.96185935415873, 83.12190916480088, 82.41549236018483, 82.94149259241615, 82.79508575191342, 83.27094287407107, 82.9786347179878, 83.31153683546113, 83.36675380303608, 83.37268984414698, 83.01814319641609, 83.41501747689595, 83.25623302924924, 82.571708865282, 83.57021672938897, 83.72652317450299, 83.47031197896818, 83.43373430453664, 83.42578546787665, 83.31472195260893, 83.70603545894467, 83.78378705280583, 83.30218617509051, 83.57090523572472, 83.58194924951569, 83.6391542016006, 83.37638668897675, 83.79350677738346, 83.79863335834285, 83.92892542893324, 83.94292505776009, 83.85470630676765, 83.93094752862201, 83.99169425654217, 82.90371468396691, 83.59662187777883, 84.16569097255304, 83.93283626897549, 84.32715811380525, 84.37060534469481, 83.98733061503589, 84.04940163216939, 84.35833628584699, 83.60379536946616, 84.23022448531981, 84.07823205963383, 84.38888487777089, 84.27987447599085, 84.28810863960081, 84.26301847628461, 84.25831058161044, 83.9106645041365, 84.3284482878398, 83.90557203835588, 84.45516136603626, 83.21455978765721, 83.75621578557706, 84.15254422319613, 84.3419330876048, 84.54870208492123, 84.5303388145881, 84.67907789276867, 84.7667663077998, 84.07970521508193, 84.14236549439468, 84.80512727566851, 84.87221012270547, 84.82833800277089, 84.48598908215035, 84.40486318696804, 83.97882352999555, 84.41076201152026, 84.94548332400439, 84.99622810177686, 85.12819491750825, 84.93165427107152, 85.00472898405742, 85.01033317752001, 85.13574677754224, 84.84898078732374, 85.06947959341655, 85.01780440167683, 84.73672944355786, 85.03104729381033, 84.99842077735963, 85.21033186253494, 84.93462229162697, 85.41782037998603, 85.18662181327014, 85.086158814469, 84.73280929937596, 84.90954763521023, 85.25086379632717, 85.15362313123254, 85.20737004473926, 85.20515565949727, 84.90282694498697, 84.86138010412697, 85.13671440806814, 85.31915928290142, 85.24410588954522, 85.49721260380939, 85.27372716888179, 84.72787810534965, 85.4441541966384, 85.28407337219734]\n",
      "[array(0.49479428, dtype=float32), array(0.49200532, dtype=float32), array(0.4908686, dtype=float32), array(0.49515235, dtype=float32), array(0.4919733, dtype=float32), array(0.49783126, dtype=float32), array(0.49643326, dtype=float32), array(0.49816787, dtype=float32), array(0.49473324, dtype=float32), array(0.5012724, dtype=float32), array(0.49741971, dtype=float32), array(0.5038282, dtype=float32), array(0.50317, dtype=float32), array(0.50555617, dtype=float32), array(0.50293946, dtype=float32), array(0.50709236, dtype=float32), array(0.50386685, dtype=float32), array(0.50587994, dtype=float32), array(0.50817746, dtype=float32), array(0.5086457, dtype=float32), array(0.5060939, dtype=float32), array(0.51016974, dtype=float32), array(0.5159494, dtype=float32), array(0.5108235, dtype=float32), array(0.5178803, dtype=float32), array(0.5185123, dtype=float32), array(0.5171924, dtype=float32), array(0.51692146, dtype=float32), array(0.51904404, dtype=float32), array(0.5198862, dtype=float32), array(0.5234495, dtype=float32), array(0.5176532, dtype=float32), array(0.5267578, dtype=float32), array(0.5238413, dtype=float32), array(0.5294206, dtype=float32), array(0.5290258, dtype=float32), array(0.53505784, dtype=float32), array(0.53382856, dtype=float32), array(0.5313482, dtype=float32), array(0.535, dtype=float32), array(0.5382539, dtype=float32), array(0.53954583, dtype=float32), array(0.5428527, dtype=float32), array(0.53958774, dtype=float32), array(0.5381721, dtype=float32), array(0.54393196, dtype=float32), array(0.54463714, dtype=float32), array(0.5486422, dtype=float32), array(0.5522683, dtype=float32), array(0.55362964, dtype=float32), array(0.5545357, dtype=float32), array(0.5584863, dtype=float32), array(0.5587129, dtype=float32), array(0.5598693, dtype=float32), array(0.56294084, dtype=float32), array(0.56663185, dtype=float32), array(0.5632369, dtype=float32), array(0.5674696, dtype=float32), array(0.5655459, dtype=float32), array(0.5717986, dtype=float32), array(0.57467926, dtype=float32), array(0.5762276, dtype=float32), array(0.5749285, dtype=float32), array(0.57809454, dtype=float32), array(0.5851857, dtype=float32), array(0.5790494, dtype=float32), array(0.5771945, dtype=float32), array(0.58514196, dtype=float32), array(0.583044, dtype=float32), array(0.58902586, dtype=float32), array(0.58502084, dtype=float32), array(0.58879864, dtype=float32), array(0.5887348, dtype=float32), array(0.59314185, dtype=float32), array(0.590718, dtype=float32), array(0.5912596, dtype=float32), array(0.59575754, dtype=float32), array(0.6008551, dtype=float32), array(0.5972389, dtype=float32), array(0.5952054, dtype=float32), array(0.59963775, dtype=float32), array(0.59959406, dtype=float32), array(0.6020346, dtype=float32), array(0.59563255, dtype=float32), array(0.60004735, dtype=float32), array(0.6077627, dtype=float32), array(0.60493636, dtype=float32), array(0.6101341, dtype=float32), array(0.60337436, dtype=float32), array(0.60839576, dtype=float32), array(0.60599107, dtype=float32), array(0.60758543, dtype=float32), array(0.6052603, dtype=float32), array(0.6067243, dtype=float32), array(0.6151427, dtype=float32), array(0.6189609, dtype=float32), array(0.60907406, dtype=float32), array(0.61502653, dtype=float32), array(0.61808723, dtype=float32), array(0.61517024, dtype=float32), array(0.61984026, dtype=float32), array(0.6205677, dtype=float32), array(0.61312896, dtype=float32), array(0.62191415, dtype=float32), array(0.6165977, dtype=float32), array(0.61412865, dtype=float32), array(0.61945826, dtype=float32), array(0.621482, dtype=float32), array(0.62600255, dtype=float32), array(0.6264356, dtype=float32), array(0.626454, dtype=float32), array(0.62907547, dtype=float32), array(0.6284976, dtype=float32), array(0.6249524, dtype=float32), array(0.6318314, dtype=float32), array(0.632311, dtype=float32), array(0.6352294, dtype=float32), array(0.63387626, dtype=float32), array(0.62597823, dtype=float32), array(0.63431853, dtype=float32), array(0.63491344, dtype=float32), array(0.6329923, dtype=float32), array(0.6353985, dtype=float32), array(0.6284284, dtype=float32), array(0.6362431, dtype=float32), array(0.63769066, dtype=float32), array(0.6350259, dtype=float32), array(0.63362855, dtype=float32), array(0.63035554, dtype=float32), array(0.6431313, dtype=float32), array(0.64347374, dtype=float32), array(0.6448838, dtype=float32), array(0.63910556, dtype=float32), array(0.64041036, dtype=float32), array(0.63546175, dtype=float32), array(0.64049524, dtype=float32), array(0.63543886, dtype=float32), array(0.6422716, dtype=float32), array(0.6496805, dtype=float32), array(0.64450663, dtype=float32), array(0.6435604, dtype=float32), array(0.6429293, dtype=float32), array(0.6471894, dtype=float32), array(0.64822674, dtype=float32), array(0.64173424, dtype=float32), array(0.64350766, dtype=float32), array(0.64990914, dtype=float32), array(0.64914376, dtype=float32), array(0.64983386, dtype=float32), array(0.65141124, dtype=float32), array(0.649574, dtype=float32), array(0.64550817, dtype=float32), array(0.6516408, dtype=float32), array(0.65100044, dtype=float32), array(0.652277, dtype=float32), array(0.65348417, dtype=float32), array(0.646875, dtype=float32), array(0.6512663, dtype=float32), array(0.65047896, dtype=float32), array(0.6504241, dtype=float32), array(0.65646744, dtype=float32), array(0.65559924, dtype=float32), array(0.6463783, dtype=float32), array(0.657639, dtype=float32), array(0.6582219, dtype=float32), array(0.65766877, dtype=float32), array(0.6556351, dtype=float32), array(0.65415585, dtype=float32), array(0.6662581, dtype=float32), array(0.64755976, dtype=float32), array(0.64940435, dtype=float32), array(0.6572071, dtype=float32), array(0.66365117, dtype=float32), array(0.65353703, dtype=float32), array(0.6581861, dtype=float32), array(0.6576358, dtype=float32), array(0.65551156, dtype=float32), array(0.66800183, dtype=float32), array(0.6607048, dtype=float32), array(0.6609834, dtype=float32), array(0.6603987, dtype=float32), array(0.6713075, dtype=float32), array(0.66220295, dtype=float32), array(0.6650443, dtype=float32), array(0.65674067, dtype=float32), array(0.6627544, dtype=float32), array(0.6675387, dtype=float32), array(0.66561073, dtype=float32), array(0.6641097, dtype=float32), array(0.6667244, dtype=float32), array(0.6631445, dtype=float32), array(0.66640145, dtype=float32), array(0.66202676, dtype=float32), array(0.66895443, dtype=float32), array(0.67240095, dtype=float32), array(0.67051077, dtype=float32), array(0.6675866, dtype=float32), array(0.6651592, dtype=float32), array(0.6687153, dtype=float32), array(0.66269547, dtype=float32), array(0.67056656, dtype=float32), array(0.66515994, dtype=float32), array(0.6678979, dtype=float32), array(0.67707205, dtype=float32), array(0.67454785, dtype=float32), array(0.67193544, dtype=float32), array(0.6744013, dtype=float32), array(0.6699176, dtype=float32), array(0.6712004, dtype=float32), array(0.6770496, dtype=float32), array(0.6733176, dtype=float32), array(0.6690057, dtype=float32), array(0.669299, dtype=float32), array(0.6743664, dtype=float32), array(0.6793168, dtype=float32), array(0.66974324, dtype=float32), array(0.6695114, dtype=float32), array(0.6744974, dtype=float32), array(0.6762397, dtype=float32), array(0.67518914, dtype=float32), array(0.67848617, dtype=float32), array(0.672616, dtype=float32), array(0.6748116, dtype=float32), array(0.6715885, dtype=float32), array(0.67800933, dtype=float32), array(0.67334074, dtype=float32), array(0.6722233, dtype=float32), array(0.66770643, dtype=float32), array(0.67699504, dtype=float32), array(0.6736199, dtype=float32), array(0.680793, dtype=float32), array(0.67553097, dtype=float32), array(0.67088395, dtype=float32), array(0.6761401, dtype=float32), array(0.6832515, dtype=float32), array(0.6792761, dtype=float32), array(0.67009676, dtype=float32), array(0.6757652, dtype=float32), array(0.67858666, dtype=float32), array(0.6778977, dtype=float32), array(0.6800769, dtype=float32), array(0.6792115, dtype=float32), array(0.67981887, dtype=float32), array(0.677243, dtype=float32), array(0.6764062, dtype=float32), array(0.67837715, dtype=float32), array(0.6794676, dtype=float32), array(0.68192554, dtype=float32), array(0.67856705, dtype=float32), array(0.6767217, dtype=float32)]\n",
      "[array(0.5089999, dtype=float32), array(0.5064123, dtype=float32), array(0.50786614, dtype=float32), array(0.5122002, dtype=float32), array(0.51655734, dtype=float32), array(0.51082075, dtype=float32), array(0.5133746, dtype=float32), array(0.51783365, dtype=float32), array(0.52591616, dtype=float32), array(0.5223787, dtype=float32), array(0.5143942, dtype=float32), array(0.52925456, dtype=float32), array(0.5200873, dtype=float32), array(0.5216545, dtype=float32), array(0.5242229, dtype=float32), array(0.5298639, dtype=float32), array(0.53118694, dtype=float32), array(0.5407854, dtype=float32), array(0.52676725, dtype=float32), array(0.53146034, dtype=float32), array(0.52875507, dtype=float32), array(0.5337699, dtype=float32), array(0.54716253, dtype=float32), array(0.54555327, dtype=float32), array(0.5495517, dtype=float32), array(0.54418635, dtype=float32), array(0.53968143, dtype=float32), array(0.53661484, dtype=float32), array(0.5597926, dtype=float32), array(0.55167437, dtype=float32), array(0.5651655, dtype=float32), array(0.554492, dtype=float32), array(0.54763407, dtype=float32), array(0.54306185, dtype=float32), array(0.55298495, dtype=float32), array(0.5675016, dtype=float32), array(0.5750372, dtype=float32), array(0.5498387, dtype=float32), array(0.5744518, dtype=float32), array(0.5658473, dtype=float32), array(0.5674012, dtype=float32), array(0.5820333, dtype=float32), array(0.5755591, dtype=float32), array(0.58252555, dtype=float32), array(0.5825926, dtype=float32), array(0.5786804, dtype=float32), array(0.57843816, dtype=float32), array(0.5853569, dtype=float32), array(0.5948814, dtype=float32), array(0.591869, dtype=float32), array(0.60447603, dtype=float32), array(0.5977744, dtype=float32), array(0.59949017, dtype=float32), array(0.61243254, dtype=float32), array(0.6084259, dtype=float32), array(0.60830456, dtype=float32), array(0.6165096, dtype=float32), array(0.6135087, dtype=float32), array(0.6076699, dtype=float32), array(0.6017625, dtype=float32), array(0.61269236, dtype=float32), array(0.6213681, dtype=float32), array(0.62653315, dtype=float32), array(0.619075, dtype=float32), array(0.6304413, dtype=float32), array(0.616535, dtype=float32), array(0.63507503, dtype=float32), array(0.6238697, dtype=float32), array(0.63107073, dtype=float32), array(0.62949294, dtype=float32), array(0.6320651, dtype=float32), array(0.62350744, dtype=float32), array(0.64290017, dtype=float32), array(0.6298489, dtype=float32), array(0.65232754, dtype=float32), array(0.63857317, dtype=float32), array(0.64516693, dtype=float32), array(0.6348519, dtype=float32), array(0.64242285, dtype=float32), array(0.6345036, dtype=float32), array(0.6452765, dtype=float32), array(0.6395154, dtype=float32), array(0.6549864, dtype=float32), array(0.6393478, dtype=float32), array(0.6438094, dtype=float32), array(0.6552111, dtype=float32), array(0.65399796, dtype=float32), array(0.64573133, dtype=float32), array(0.6510179, dtype=float32), array(0.6479172, dtype=float32), array(0.6573521, dtype=float32), array(0.6441906, dtype=float32), array(0.6557909, dtype=float32), array(0.64149827, dtype=float32), array(0.66152304, dtype=float32), array(0.6584471, dtype=float32), array(0.6641562, dtype=float32), array(0.6585128, dtype=float32), array(0.6649452, dtype=float32), array(0.65924937, dtype=float32), array(0.6492557, dtype=float32), array(0.6623567, dtype=float32), array(0.6588933, dtype=float32), array(0.6620919, dtype=float32), array(0.64916456, dtype=float32), array(0.65556806, dtype=float32), array(0.66568065, dtype=float32), array(0.6595008, dtype=float32), array(0.6647733, dtype=float32), array(0.6579816, dtype=float32), array(0.67332375, dtype=float32), array(0.6574863, dtype=float32), array(0.66854715, dtype=float32), array(0.65205324, dtype=float32), array(0.6566966, dtype=float32), array(0.65859675, dtype=float32), array(0.66466194, dtype=float32), array(0.66802377, dtype=float32), array(0.6674907, dtype=float32), array(0.6733981, dtype=float32), array(0.6680382, dtype=float32), array(0.6782355, dtype=float32), array(0.6744361, dtype=float32), array(0.6640314, dtype=float32), array(0.66417116, dtype=float32), array(0.6639012, dtype=float32), array(0.665981, dtype=float32), array(0.6766444, dtype=float32), array(0.67694, dtype=float32), array(0.6689964, dtype=float32), array(0.65608656, dtype=float32), array(0.6823112, dtype=float32), array(0.6764832, dtype=float32), array(0.67005265, dtype=float32), array(0.6807706, dtype=float32), array(0.6705314, dtype=float32), array(0.67408943, dtype=float32), array(0.6801587, dtype=float32), array(0.66885406, dtype=float32), array(0.68059224, dtype=float32), array(0.6676092, dtype=float32), array(0.68033195, dtype=float32), array(0.6792866, dtype=float32), array(0.6800016, dtype=float32), array(0.68156517, dtype=float32), array(0.6888756, dtype=float32), array(0.6583599, dtype=float32), array(0.6797997, dtype=float32), array(0.6721814, dtype=float32), array(0.6837448, dtype=float32), array(0.6742601, dtype=float32), array(0.686986, dtype=float32), array(0.688116, dtype=float32), array(0.68324685, dtype=float32), array(0.6729067, dtype=float32), array(0.6849319, dtype=float32), array(0.6773869, dtype=float32), array(0.65852594, dtype=float32), array(0.68927366, dtype=float32), array(0.69973487, dtype=float32), array(0.6847179, dtype=float32), array(0.68085897, dtype=float32), array(0.6836486, dtype=float32), array(0.6757398, dtype=float32), array(0.6914357, dtype=float32), array(0.6934722, dtype=float32), array(0.6786948, dtype=float32), array(0.6884164, dtype=float32), array(0.684373, dtype=float32), array(0.6830701, dtype=float32), array(0.6806482, dtype=float32), array(0.69905066, dtype=float32), array(0.6873707, dtype=float32), array(0.69563496, dtype=float32), array(0.6958481, dtype=float32), array(0.6899729, dtype=float32), array(0.69694036, dtype=float32), array(0.6923026, dtype=float32), array(0.6615023, dtype=float32), array(0.67855465, dtype=float32), array(0.70207405, dtype=float32), array(0.6906816, dtype=float32), array(0.70186853, dtype=float32), array(0.70389134, dtype=float32), array(0.69064325, dtype=float32), array(0.69819504, dtype=float32), array(0.70306224, dtype=float32), array(0.677228, dtype=float32), array(0.69781053, dtype=float32), array(0.6889868, dtype=float32), array(0.69924754, dtype=float32), array(0.69632757, dtype=float32), array(0.69599104, dtype=float32), array(0.6950829, dtype=float32), array(0.69726896, dtype=float32), array(0.68380946, dtype=float32), array(0.697444, dtype=float32), array(0.68197674, dtype=float32), array(0.70026165, dtype=float32), array(0.66535544, dtype=float32), array(0.677592, dtype=float32), array(0.68785614, dtype=float32), array(0.6956065, dtype=float32), array(0.7005661, dtype=float32), array(0.70076644, dtype=float32), array(0.7090102, dtype=float32), array(0.7130031, dtype=float32), array(0.68759036, dtype=float32), array(0.68713987, dtype=float32), array(0.71021986, dtype=float32), array(0.70767003, dtype=float32), array(0.7074099, dtype=float32), array(0.69585174, dtype=float32), array(0.69381666, dtype=float32), array(0.6807742, dtype=float32), array(0.6928306, dtype=float32), array(0.7095528, dtype=float32), array(0.7118432, dtype=float32), array(0.7220506, dtype=float32), array(0.70951986, dtype=float32), array(0.715343, dtype=float32), array(0.7163658, dtype=float32), array(0.71455795, dtype=float32), array(0.7065889, dtype=float32), array(0.7150102, dtype=float32), array(0.71137685, dtype=float32), array(0.69952726, dtype=float32), array(0.70905447, dtype=float32), array(0.7095198, dtype=float32), array(0.7243496, dtype=float32), array(0.70664424, dtype=float32), array(0.7217911, dtype=float32), array(0.7139664, dtype=float32), array(0.70991147, dtype=float32), array(0.69829667, dtype=float32), array(0.7039222, dtype=float32), array(0.7134405, dtype=float32), array(0.7095986, dtype=float32), array(0.7123858, dtype=float32), array(0.71267134, dtype=float32), array(0.7052268, dtype=float32), array(0.70186573, dtype=float32), array(0.71300685, dtype=float32), array(0.71512914, dtype=float32), array(0.71214145, dtype=float32), array(0.72334594, dtype=float32), array(0.71352345, dtype=float32), array(0.696689, dtype=float32), array(0.7169901, dtype=float32), array(0.71499044, dtype=float32)]\n",
      "     train_losses  train_accuracies  test_losses  test_accuracies  train_ious  \\\n",
      "0        0.526954         70.817703     0.503558        72.474937  0.49479428   \n",
      "1        0.525491         70.784931     0.505385        72.352110  0.49200532   \n",
      "2        0.527080         70.797572     0.499826        72.546219   0.4908686   \n",
      "3        0.525242         70.988401     0.497879        72.732783  0.49515235   \n",
      "4        0.523377         70.762706     0.498949        72.722365   0.4919733   \n",
      "..            ...               ...          ...              ...         ...   \n",
      "245      0.377702         82.576094     0.337134        85.497213  0.67837715   \n",
      "246      0.377053         82.648081     0.337535        85.273727   0.6794676   \n",
      "247      0.374621         82.794236     0.334549        84.727878  0.68192554   \n",
      "248      0.376093         82.607539     0.332955        85.444154  0.67856705   \n",
      "249      0.379793         82.483588     0.336639        85.284073   0.6767217   \n",
      "\n",
      "      test_ious  \n",
      "0     0.5089999  \n",
      "1     0.5064123  \n",
      "2    0.50786614  \n",
      "3     0.5122002  \n",
      "4    0.51655734  \n",
      "..          ...  \n",
      "245  0.72334594  \n",
      "246  0.71352345  \n",
      "247    0.696689  \n",
      "248   0.7169901  \n",
      "249  0.71499044  \n",
      "\n",
      "[250 rows x 6 columns]\n"
     ]
    }
   ],
   "source": [
    "import pandas as pd\n",
    "\n",
    "trls = train_losses3\n",
    "print(trls)\n",
    "tracc = train_accuracies3\n",
    "print(tracc)\n",
    "tsls = test_losses3\n",
    "print(tsls)\n",
    "tsacc = test_accuracies3\n",
    "print(tsacc)\n",
    "triou = [t1.cpu().numpy() for t1 in train_ious3]\n",
    "print(triou)\n",
    "tsiou = [t2.cpu().numpy() for t2 in test_ious3]\n",
    "print(tsiou)\n",
    "\n",
    "# Create a dictionary to form the DataFrame\n",
    "data = {\n",
    "    'train_losses': trls,\n",
    "    'train_accuracies': tracc,\n",
    "    'test_losses': tsls,\n",
    "    'test_accuracies': tsacc,\n",
    "    'train_ious': triou,\n",
    "    'test_ious': tsiou\n",
    "}\n",
    "\n",
    "# Create the DataFrame\n",
    "df = pd.DataFrame(data)\n",
    "\n",
    "# Print the DataFrame\n",
    "print(df)\n",
    "\n",
    "# Save the DataFrame to a CSV file\n",
    "df.to_csv('performance_metrics_unetplusplus_efficientnet_v3_effb4.csv', index=False)"
   ]
  },
  {
   "cell_type": "code",
   "execution_count": 15,
   "metadata": {},
   "outputs": [],
   "source": [
    "model_list = {'unet': model_unet, 'deeplabv3+': model_deeplabv3plus, 'pan': model_pan, 'manet':model_manet}"
   ]
  },
  {
   "cell_type": "code",
   "execution_count": null,
   "metadata": {},
   "outputs": [],
   "source": [
    "# Define a function to train and evaluate a model\n",
    "def train_and_evaluate(model, trainloader, testloader, optimizer, lossfn, epochs, device, patience=10):\n",
    "    best_loss = float('inf')\n",
    "    best_model_wts = None\n",
    "\n",
    "    train_losses = []\n",
    "    train_accuracies = []\n",
    "    test_losses = []\n",
    "    test_accuracies = []\n",
    "    train_ious = []\n",
    "    test_ious = []\n",
    "\n",
    "    # Initialize EarlyStopping\n",
    "    early_stopping = EarlyStopping(patience=patience)\n",
    "\n",
    "    for epoch in range(epochs):\n",
    "        train_loss, train_accuracy, train_iou = train(model, trainloader, optimizer, lossfn, device)\n",
    "        test_loss, test_accuracy, test_iou = evaluate(model, testloader, lossfn, device)\n",
    "\n",
    "        train_losses.append(train_loss)\n",
    "        train_accuracies.append(train_accuracy)\n",
    "        test_losses.append(test_loss)\n",
    "        test_accuracies.append(test_accuracy)\n",
    "        train_ious.append(train_iou.cpu().numpy())\n",
    "        test_ious.append(test_iou.cpu().numpy())\n",
    "\n",
    "        print(f'Epoch {epoch + 1}/{epochs}: Train Loss: {train_loss:.4f}, Train Accuracy: {train_accuracy:.4f}, Train IOU: {train_iou:.4f}, Test Loss: {test_loss:.4f}, Test Accuracy: {test_accuracy:.4f}, Test IOU: {test_iou:.4f}')\n",
    "\n",
    "        # Check early stopping\n",
    "        early_stopping(test_loss, model)\n",
    "        if early_stopping.early_stop:\n",
    "            print(\"Early stopping triggered\")\n",
    "            break\n",
    "\n",
    "        # Save the best model\n",
    "        if test_loss < best_loss:\n",
    "            best_loss = test_loss\n",
    "            best_model_wts = model.state_dict()\n",
    "\n",
    "    model.load_state_dict(best_model_wts)\n",
    "\n",
    "    return model, {\n",
    "        'train_losses': train_losses,\n",
    "        'train_accuracies': train_accuracies,\n",
    "        'test_losses': test_losses,\n",
    "        'test_accuracies': test_accuracies,\n",
    "        'train_ious': train_ious,\n",
    "        'test_ious': test_ious\n",
    "    }"
   ]
  },
  {
   "cell_type": "code",
   "execution_count": null,
   "metadata": {},
   "outputs": [
    {
     "name": "stdout",
     "output_type": "stream",
     "text": [
      "Training unet\n"
     ]
    },
    {
     "name": "stderr",
     "output_type": "stream",
     "text": [
      "  0%|          | 0/246 [00:00<?, ?it/s]c:\\Users\\sanji\\anaconda3\\Lib\\site-packages\\rasterio\\__init__.py:317: NotGeoreferencedWarning: Dataset has no geotransform, gcps, or rpcs. The identity matrix will be returned.\n",
      "  dataset = DatasetReader(path, driver=driver, sharing=sharing, **kwargs)\n",
      "100%|██████████| 246/246 [00:59<00:00,  4.14it/s]\n"
     ]
    },
    {
     "name": "stdout",
     "output_type": "stream",
     "text": [
      "Epoch 1/250: Train Loss: 0.6598, Train Accuracy: 61.6032, Train IOU: 0.3727, Test Loss: 6.1253, Test Accuracy: 54.7143, Test IOU: 0.1333\n"
     ]
    },
    {
     "name": "stderr",
     "output_type": "stream",
     "text": [
      "100%|██████████| 246/246 [00:59<00:00,  4.16it/s]\n"
     ]
    },
    {
     "name": "stdout",
     "output_type": "stream",
     "text": [
      "Epoch 2/250: Train Loss: 0.5934, Train Accuracy: 65.8285, Train IOU: 0.4089, Test Loss: 0.5710, Test Accuracy: 68.7144, Test IOU: 0.4524\n"
     ]
    },
    {
     "name": "stderr",
     "output_type": "stream",
     "text": [
      "100%|██████████| 246/246 [00:59<00:00,  4.17it/s]\n"
     ]
    },
    {
     "name": "stdout",
     "output_type": "stream",
     "text": [
      "Epoch 3/250: Train Loss: 0.5800, Train Accuracy: 67.5198, Train IOU: 0.4398, Test Loss: 0.5634, Test Accuracy: 69.4933, Test IOU: 0.4630\n"
     ]
    },
    {
     "name": "stderr",
     "output_type": "stream",
     "text": [
      "100%|██████████| 246/246 [00:59<00:00,  4.17it/s]\n"
     ]
    },
    {
     "name": "stdout",
     "output_type": "stream",
     "text": [
      "Epoch 4/250: Train Loss: 0.5698, Train Accuracy: 68.0760, Train IOU: 0.4525, Test Loss: 0.5469, Test Accuracy: 70.3346, Test IOU: 0.4828\n"
     ]
    },
    {
     "name": "stderr",
     "output_type": "stream",
     "text": [
      "100%|██████████| 246/246 [01:04<00:00,  3.80it/s]\n"
     ]
    },
    {
     "name": "stdout",
     "output_type": "stream",
     "text": [
      "Epoch 5/250: Train Loss: 0.5563, Train Accuracy: 69.0505, Train IOU: 0.4669, Test Loss: 0.5388, Test Accuracy: 70.9067, Test IOU: 0.4898\n"
     ]
    },
    {
     "name": "stderr",
     "output_type": "stream",
     "text": [
      "100%|██████████| 246/246 [00:59<00:00,  4.15it/s]\n"
     ]
    },
    {
     "name": "stdout",
     "output_type": "stream",
     "text": [
      "Epoch 6/250: Train Loss: 0.5508, Train Accuracy: 69.4652, Train IOU: 0.4733, Test Loss: 0.5263, Test Accuracy: 71.4926, Test IOU: 0.4912\n"
     ]
    },
    {
     "name": "stderr",
     "output_type": "stream",
     "text": [
      "100%|██████████| 246/246 [00:59<00:00,  4.15it/s]\n"
     ]
    },
    {
     "name": "stdout",
     "output_type": "stream",
     "text": [
      "Epoch 7/250: Train Loss: 0.5385, Train Accuracy: 70.2800, Train IOU: 0.4810, Test Loss: 0.5192, Test Accuracy: 72.1120, Test IOU: 0.5007\n"
     ]
    },
    {
     "name": "stderr",
     "output_type": "stream",
     "text": [
      "100%|██████████| 246/246 [00:58<00:00,  4.17it/s]\n"
     ]
    },
    {
     "name": "stdout",
     "output_type": "stream",
     "text": [
      "Epoch 8/250: Train Loss: 0.5282, Train Accuracy: 71.1288, Train IOU: 0.4947, Test Loss: 0.5002, Test Accuracy: 73.3379, Test IOU: 0.5155\n"
     ]
    },
    {
     "name": "stderr",
     "output_type": "stream",
     "text": [
      "100%|██████████| 246/246 [00:59<00:00,  4.11it/s]\n"
     ]
    },
    {
     "name": "stdout",
     "output_type": "stream",
     "text": [
      "Epoch 9/250: Train Loss: 0.5177, Train Accuracy: 71.9768, Train IOU: 0.5054, Test Loss: 0.4917, Test Accuracy: 74.8537, Test IOU: 0.5489\n"
     ]
    },
    {
     "name": "stderr",
     "output_type": "stream",
     "text": [
      "100%|██████████| 246/246 [00:59<00:00,  4.15it/s]\n"
     ]
    },
    {
     "name": "stdout",
     "output_type": "stream",
     "text": [
      "Epoch 10/250: Train Loss: 0.5099, Train Accuracy: 72.8339, Train IOU: 0.5203, Test Loss: 0.4831, Test Accuracy: 75.9343, Test IOU: 0.5668\n"
     ]
    },
    {
     "name": "stderr",
     "output_type": "stream",
     "text": [
      "100%|██████████| 246/246 [00:59<00:00,  4.15it/s]\n"
     ]
    },
    {
     "name": "stdout",
     "output_type": "stream",
     "text": [
      "Epoch 11/250: Train Loss: 0.5049, Train Accuracy: 73.2604, Train IOU: 0.5289, Test Loss: 0.4692, Test Accuracy: 76.5439, Test IOU: 0.5741\n"
     ]
    },
    {
     "name": "stderr",
     "output_type": "stream",
     "text": [
      "100%|██████████| 246/246 [00:59<00:00,  4.15it/s]\n"
     ]
    },
    {
     "name": "stdout",
     "output_type": "stream",
     "text": [
      "Epoch 12/250: Train Loss: 0.4954, Train Accuracy: 74.0273, Train IOU: 0.5406, Test Loss: 0.4687, Test Accuracy: 76.6954, Test IOU: 0.5759\n"
     ]
    },
    {
     "name": "stderr",
     "output_type": "stream",
     "text": [
      "100%|██████████| 246/246 [00:59<00:00,  4.17it/s]\n"
     ]
    },
    {
     "name": "stdout",
     "output_type": "stream",
     "text": [
      "Epoch 13/250: Train Loss: 0.4852, Train Accuracy: 75.2097, Train IOU: 0.5637, Test Loss: 0.4598, Test Accuracy: 77.9359, Test IOU: 0.6035\n"
     ]
    },
    {
     "name": "stderr",
     "output_type": "stream",
     "text": [
      "100%|██████████| 246/246 [00:59<00:00,  4.16it/s]\n"
     ]
    },
    {
     "name": "stdout",
     "output_type": "stream",
     "text": [
      "Epoch 14/250: Train Loss: 0.4841, Train Accuracy: 75.6091, Train IOU: 0.5718, Test Loss: 0.4468, Test Accuracy: 78.8859, Test IOU: 0.6178\n"
     ]
    },
    {
     "name": "stderr",
     "output_type": "stream",
     "text": [
      "100%|██████████| 246/246 [00:59<00:00,  4.17it/s]\n"
     ]
    },
    {
     "name": "stdout",
     "output_type": "stream",
     "text": [
      "Epoch 15/250: Train Loss: 0.4767, Train Accuracy: 76.1369, Train IOU: 0.5808, Test Loss: 0.4435, Test Accuracy: 78.9708, Test IOU: 0.6169\n"
     ]
    },
    {
     "name": "stderr",
     "output_type": "stream",
     "text": [
      "100%|██████████| 246/246 [00:59<00:00,  4.14it/s]\n"
     ]
    },
    {
     "name": "stdout",
     "output_type": "stream",
     "text": [
      "Epoch 16/250: Train Loss: 0.4752, Train Accuracy: 76.5071, Train IOU: 0.5865, Test Loss: 0.4436, Test Accuracy: 79.6239, Test IOU: 0.6350\n"
     ]
    },
    {
     "name": "stderr",
     "output_type": "stream",
     "text": [
      "100%|██████████| 246/246 [00:59<00:00,  4.15it/s]\n"
     ]
    },
    {
     "name": "stdout",
     "output_type": "stream",
     "text": [
      "Epoch 17/250: Train Loss: 0.4686, Train Accuracy: 77.2359, Train IOU: 0.6001, Test Loss: 0.4367, Test Accuracy: 79.7809, Test IOU: 0.6319\n"
     ]
    },
    {
     "name": "stderr",
     "output_type": "stream",
     "text": [
      "100%|██████████| 246/246 [00:59<00:00,  4.16it/s]\n"
     ]
    },
    {
     "name": "stdout",
     "output_type": "stream",
     "text": [
      "Epoch 18/250: Train Loss: 0.4649, Train Accuracy: 77.3498, Train IOU: 0.6023, Test Loss: 0.4292, Test Accuracy: 80.5735, Test IOU: 0.6480\n"
     ]
    },
    {
     "name": "stderr",
     "output_type": "stream",
     "text": [
      "100%|██████████| 246/246 [03:11<00:00,  1.29it/s]\n"
     ]
    },
    {
     "name": "stdout",
     "output_type": "stream",
     "text": [
      "Epoch 19/250: Train Loss: 0.4564, Train Accuracy: 78.0968, Train IOU: 0.6149, Test Loss: 0.4259, Test Accuracy: 81.1158, Test IOU: 0.6613\n"
     ]
    },
    {
     "name": "stderr",
     "output_type": "stream",
     "text": [
      "100%|██████████| 246/246 [00:59<00:00,  4.16it/s]\n"
     ]
    },
    {
     "name": "stdout",
     "output_type": "stream",
     "text": [
      "Epoch 20/250: Train Loss: 0.4609, Train Accuracy: 77.9444, Train IOU: 0.6115, Test Loss: 0.4259, Test Accuracy: 81.1245, Test IOU: 0.6605\n"
     ]
    },
    {
     "name": "stderr",
     "output_type": "stream",
     "text": [
      "100%|██████████| 246/246 [00:59<00:00,  4.15it/s]\n"
     ]
    },
    {
     "name": "stdout",
     "output_type": "stream",
     "text": [
      "Epoch 21/250: Train Loss: 0.4528, Train Accuracy: 78.4323, Train IOU: 0.6190, Test Loss: 0.4141, Test Accuracy: 81.2687, Test IOU: 0.6516\n"
     ]
    },
    {
     "name": "stderr",
     "output_type": "stream",
     "text": [
      "100%|██████████| 246/246 [00:58<00:00,  4.18it/s]\n"
     ]
    },
    {
     "name": "stdout",
     "output_type": "stream",
     "text": [
      "Epoch 22/250: Train Loss: 0.4544, Train Accuracy: 78.4686, Train IOU: 0.6214, Test Loss: 0.4077, Test Accuracy: 81.6023, Test IOU: 0.6582\n"
     ]
    },
    {
     "name": "stderr",
     "output_type": "stream",
     "text": [
      "100%|██████████| 246/246 [00:59<00:00,  4.16it/s]\n"
     ]
    },
    {
     "name": "stdout",
     "output_type": "stream",
     "text": [
      "Epoch 23/250: Train Loss: 0.4508, Train Accuracy: 78.7881, Train IOU: 0.6252, Test Loss: 0.4087, Test Accuracy: 82.0817, Test IOU: 0.6741\n"
     ]
    },
    {
     "name": "stderr",
     "output_type": "stream",
     "text": [
      "100%|██████████| 246/246 [00:59<00:00,  4.17it/s]\n"
     ]
    },
    {
     "name": "stdout",
     "output_type": "stream",
     "text": [
      "Epoch 24/250: Train Loss: 0.4449, Train Accuracy: 79.1859, Train IOU: 0.6306, Test Loss: 0.4030, Test Accuracy: 82.2898, Test IOU: 0.6751\n"
     ]
    },
    {
     "name": "stderr",
     "output_type": "stream",
     "text": [
      "100%|██████████| 246/246 [03:11<00:00,  1.29it/s]\n"
     ]
    },
    {
     "name": "stdout",
     "output_type": "stream",
     "text": [
      "Epoch 25/250: Train Loss: 0.4383, Train Accuracy: 79.3827, Train IOU: 0.6327, Test Loss: 0.3972, Test Accuracy: 82.4564, Test IOU: 0.6738\n"
     ]
    },
    {
     "name": "stderr",
     "output_type": "stream",
     "text": [
      "100%|██████████| 246/246 [00:58<00:00,  4.18it/s]\n"
     ]
    },
    {
     "name": "stdout",
     "output_type": "stream",
     "text": [
      "Epoch 26/250: Train Loss: 0.4338, Train Accuracy: 79.9833, Train IOU: 0.6424, Test Loss: 0.3901, Test Accuracy: 82.7952, Test IOU: 0.6778\n"
     ]
    },
    {
     "name": "stderr",
     "output_type": "stream",
     "text": [
      "100%|██████████| 246/246 [00:59<00:00,  4.14it/s]\n"
     ]
    },
    {
     "name": "stdout",
     "output_type": "stream",
     "text": [
      "Epoch 27/250: Train Loss: 0.4375, Train Accuracy: 79.5715, Train IOU: 0.6368, Test Loss: 0.3920, Test Accuracy: 82.5616, Test IOU: 0.6733\n"
     ]
    },
    {
     "name": "stderr",
     "output_type": "stream",
     "text": [
      "100%|██████████| 246/246 [00:58<00:00,  4.18it/s]\n"
     ]
    },
    {
     "name": "stdout",
     "output_type": "stream",
     "text": [
      "Epoch 28/250: Train Loss: 0.4365, Train Accuracy: 79.7339, Train IOU: 0.6387, Test Loss: 0.3919, Test Accuracy: 82.9958, Test IOU: 0.6862\n"
     ]
    },
    {
     "name": "stderr",
     "output_type": "stream",
     "text": [
      "100%|██████████| 246/246 [00:59<00:00,  4.15it/s]\n"
     ]
    },
    {
     "name": "stdout",
     "output_type": "stream",
     "text": [
      "Epoch 29/250: Train Loss: 0.4224, Train Accuracy: 80.5493, Train IOU: 0.6515, Test Loss: 0.3865, Test Accuracy: 83.4193, Test IOU: 0.6919\n"
     ]
    },
    {
     "name": "stderr",
     "output_type": "stream",
     "text": [
      "100%|██████████| 246/246 [00:59<00:00,  4.13it/s]\n"
     ]
    },
    {
     "name": "stdout",
     "output_type": "stream",
     "text": [
      "Epoch 30/250: Train Loss: 0.4179, Train Accuracy: 80.8081, Train IOU: 0.6552, Test Loss: 0.3846, Test Accuracy: 83.5659, Test IOU: 0.7003\n"
     ]
    },
    {
     "name": "stderr",
     "output_type": "stream",
     "text": [
      "100%|██████████| 246/246 [01:44<00:00,  2.35it/s]\n"
     ]
    },
    {
     "name": "stdout",
     "output_type": "stream",
     "text": [
      "Epoch 31/250: Train Loss: 0.4172, Train Accuracy: 80.9682, Train IOU: 0.6581, Test Loss: 0.3859, Test Accuracy: 83.6664, Test IOU: 0.7007\n"
     ]
    },
    {
     "name": "stderr",
     "output_type": "stream",
     "text": [
      "100%|██████████| 246/246 [00:59<00:00,  4.17it/s]\n"
     ]
    },
    {
     "name": "stdout",
     "output_type": "stream",
     "text": [
      "Epoch 32/250: Train Loss: 0.4167, Train Accuracy: 80.9785, Train IOU: 0.6574, Test Loss: 0.3721, Test Accuracy: 83.7338, Test IOU: 0.6933\n"
     ]
    },
    {
     "name": "stderr",
     "output_type": "stream",
     "text": [
      "100%|██████████| 246/246 [03:07<00:00,  1.31it/s]\n"
     ]
    },
    {
     "name": "stdout",
     "output_type": "stream",
     "text": [
      "Epoch 33/250: Train Loss: 0.4151, Train Accuracy: 81.0908, Train IOU: 0.6588, Test Loss: 0.3737, Test Accuracy: 83.6587, Test IOU: 0.6935\n"
     ]
    },
    {
     "name": "stderr",
     "output_type": "stream",
     "text": [
      "100%|██████████| 246/246 [00:58<00:00,  4.18it/s]\n"
     ]
    },
    {
     "name": "stdout",
     "output_type": "stream",
     "text": [
      "Epoch 34/250: Train Loss: 0.4068, Train Accuracy: 81.5112, Train IOU: 0.6647, Test Loss: 0.3661, Test Accuracy: 84.0096, Test IOU: 0.6974\n"
     ]
    },
    {
     "name": "stderr",
     "output_type": "stream",
     "text": [
      "100%|██████████| 246/246 [00:59<00:00,  4.16it/s]\n"
     ]
    },
    {
     "name": "stdout",
     "output_type": "stream",
     "text": [
      "Epoch 35/250: Train Loss: 0.4079, Train Accuracy: 81.5862, Train IOU: 0.6668, Test Loss: 0.3642, Test Accuracy: 84.1130, Test IOU: 0.6969\n"
     ]
    },
    {
     "name": "stderr",
     "output_type": "stream",
     "text": [
      "100%|██████████| 246/246 [03:10<00:00,  1.29it/s]\n"
     ]
    },
    {
     "name": "stdout",
     "output_type": "stream",
     "text": [
      "Epoch 36/250: Train Loss: 0.3980, Train Accuracy: 82.1390, Train IOU: 0.6738, Test Loss: 0.3626, Test Accuracy: 84.0152, Test IOU: 0.6943\n"
     ]
    },
    {
     "name": "stderr",
     "output_type": "stream",
     "text": [
      "100%|██████████| 246/246 [00:59<00:00,  4.15it/s]\n"
     ]
    },
    {
     "name": "stdout",
     "output_type": "stream",
     "text": [
      "Epoch 37/250: Train Loss: 0.4037, Train Accuracy: 81.6150, Train IOU: 0.6648, Test Loss: 0.3623, Test Accuracy: 83.4733, Test IOU: 0.6766\n"
     ]
    },
    {
     "name": "stderr",
     "output_type": "stream",
     "text": [
      "100%|██████████| 246/246 [00:59<00:00,  4.16it/s]\n"
     ]
    },
    {
     "name": "stdout",
     "output_type": "stream",
     "text": [
      "Epoch 38/250: Train Loss: 0.4098, Train Accuracy: 81.3473, Train IOU: 0.6619, Test Loss: 0.3563, Test Accuracy: 84.4727, Test IOU: 0.7021\n"
     ]
    },
    {
     "name": "stderr",
     "output_type": "stream",
     "text": [
      "100%|██████████| 246/246 [00:59<00:00,  4.15it/s]\n"
     ]
    },
    {
     "name": "stdout",
     "output_type": "stream",
     "text": [
      "Epoch 39/250: Train Loss: 0.3972, Train Accuracy: 82.1111, Train IOU: 0.6736, Test Loss: 0.3594, Test Accuracy: 84.6618, Test IOU: 0.7085\n"
     ]
    },
    {
     "name": "stderr",
     "output_type": "stream",
     "text": [
      "100%|██████████| 246/246 [00:59<00:00,  4.15it/s]\n"
     ]
    },
    {
     "name": "stdout",
     "output_type": "stream",
     "text": [
      "Epoch 40/250: Train Loss: 0.3990, Train Accuracy: 81.8713, Train IOU: 0.6695, Test Loss: 0.3598, Test Accuracy: 84.6363, Test IOU: 0.7115\n"
     ]
    },
    {
     "name": "stderr",
     "output_type": "stream",
     "text": [
      "100%|██████████| 246/246 [00:59<00:00,  4.14it/s]\n"
     ]
    },
    {
     "name": "stdout",
     "output_type": "stream",
     "text": [
      "Epoch 41/250: Train Loss: 0.3920, Train Accuracy: 82.4423, Train IOU: 0.6783, Test Loss: 0.3482, Test Accuracy: 84.6154, Test IOU: 0.7021\n"
     ]
    },
    {
     "name": "stderr",
     "output_type": "stream",
     "text": [
      "100%|██████████| 246/246 [00:59<00:00,  4.15it/s]\n"
     ]
    },
    {
     "name": "stdout",
     "output_type": "stream",
     "text": [
      "Epoch 42/250: Train Loss: 0.3915, Train Accuracy: 82.4279, Train IOU: 0.6777, Test Loss: 0.3487, Test Accuracy: 85.0883, Test IOU: 0.7160\n"
     ]
    },
    {
     "name": "stderr",
     "output_type": "stream",
     "text": [
      "100%|██████████| 246/246 [03:11<00:00,  1.29it/s]\n"
     ]
    },
    {
     "name": "stdout",
     "output_type": "stream",
     "text": [
      "Epoch 43/250: Train Loss: 0.3963, Train Accuracy: 82.2781, Train IOU: 0.6770, Test Loss: 0.3490, Test Accuracy: 84.9329, Test IOU: 0.7114\n"
     ]
    },
    {
     "name": "stderr",
     "output_type": "stream",
     "text": [
      "100%|██████████| 246/246 [00:59<00:00,  4.16it/s]\n"
     ]
    },
    {
     "name": "stdout",
     "output_type": "stream",
     "text": [
      "Epoch 44/250: Train Loss: 0.3910, Train Accuracy: 82.3998, Train IOU: 0.6776, Test Loss: 0.3451, Test Accuracy: 85.0444, Test IOU: 0.7115\n"
     ]
    },
    {
     "name": "stderr",
     "output_type": "stream",
     "text": [
      "100%|██████████| 246/246 [00:59<00:00,  4.13it/s]\n"
     ]
    },
    {
     "name": "stdout",
     "output_type": "stream",
     "text": [
      "Epoch 45/250: Train Loss: 0.3903, Train Accuracy: 82.4868, Train IOU: 0.6787, Test Loss: 0.3484, Test Accuracy: 85.3371, Test IOU: 0.7219\n"
     ]
    },
    {
     "name": "stderr",
     "output_type": "stream",
     "text": [
      "100%|██████████| 246/246 [01:03<00:00,  3.90it/s]\n"
     ]
    },
    {
     "name": "stdout",
     "output_type": "stream",
     "text": [
      "Epoch 46/250: Train Loss: 0.3844, Train Accuracy: 82.6250, Train IOU: 0.6809, Test Loss: 0.3421, Test Accuracy: 85.1919, Test IOU: 0.7147\n"
     ]
    },
    {
     "name": "stderr",
     "output_type": "stream",
     "text": [
      "100%|██████████| 246/246 [00:59<00:00,  4.14it/s]\n"
     ]
    },
    {
     "name": "stdout",
     "output_type": "stream",
     "text": [
      "Epoch 47/250: Train Loss: 0.3867, Train Accuracy: 82.7157, Train IOU: 0.6830, Test Loss: 0.3385, Test Accuracy: 85.1516, Test IOU: 0.7116\n"
     ]
    },
    {
     "name": "stderr",
     "output_type": "stream",
     "text": [
      "100%|██████████| 246/246 [00:59<00:00,  4.15it/s]\n"
     ]
    },
    {
     "name": "stdout",
     "output_type": "stream",
     "text": [
      "Epoch 48/250: Train Loss: 0.3790, Train Accuracy: 82.9936, Train IOU: 0.6870, Test Loss: 0.3440, Test Accuracy: 84.9525, Test IOU: 0.7085\n"
     ]
    },
    {
     "name": "stderr",
     "output_type": "stream",
     "text": [
      "100%|██████████| 246/246 [00:59<00:00,  4.15it/s]\n"
     ]
    },
    {
     "name": "stdout",
     "output_type": "stream",
     "text": [
      "Epoch 49/250: Train Loss: 0.3916, Train Accuracy: 82.3049, Train IOU: 0.6751, Test Loss: 0.3389, Test Accuracy: 85.4377, Test IOU: 0.7199\n"
     ]
    },
    {
     "name": "stderr",
     "output_type": "stream",
     "text": [
      "100%|██████████| 246/246 [00:59<00:00,  4.15it/s]\n"
     ]
    },
    {
     "name": "stdout",
     "output_type": "stream",
     "text": [
      "Epoch 50/250: Train Loss: 0.3808, Train Accuracy: 83.0156, Train IOU: 0.6874, Test Loss: 0.3356, Test Accuracy: 85.3720, Test IOU: 0.7158\n"
     ]
    },
    {
     "name": "stderr",
     "output_type": "stream",
     "text": [
      "100%|██████████| 246/246 [00:59<00:00,  4.15it/s]\n"
     ]
    },
    {
     "name": "stdout",
     "output_type": "stream",
     "text": [
      "Epoch 51/250: Train Loss: 0.3787, Train Accuracy: 83.1324, Train IOU: 0.6885, Test Loss: 0.3381, Test Accuracy: 85.1469, Test IOU: 0.7118\n"
     ]
    },
    {
     "name": "stderr",
     "output_type": "stream",
     "text": [
      "100%|██████████| 246/246 [00:59<00:00,  4.14it/s]\n"
     ]
    },
    {
     "name": "stdout",
     "output_type": "stream",
     "text": [
      "Epoch 52/250: Train Loss: 0.3820, Train Accuracy: 82.8621, Train IOU: 0.6849, Test Loss: 0.3375, Test Accuracy: 84.7847, Test IOU: 0.6998\n"
     ]
    },
    {
     "name": "stderr",
     "output_type": "stream",
     "text": [
      "100%|██████████| 246/246 [00:59<00:00,  4.10it/s]\n"
     ]
    },
    {
     "name": "stdout",
     "output_type": "stream",
     "text": [
      "Epoch 53/250: Train Loss: 0.3847, Train Accuracy: 82.6971, Train IOU: 0.6812, Test Loss: 0.3320, Test Accuracy: 85.6121, Test IOU: 0.7214\n"
     ]
    },
    {
     "name": "stderr",
     "output_type": "stream",
     "text": [
      "100%|██████████| 246/246 [01:03<00:00,  3.89it/s]\n"
     ]
    },
    {
     "name": "stdout",
     "output_type": "stream",
     "text": [
      "Epoch 54/250: Train Loss: 0.3768, Train Accuracy: 83.0804, Train IOU: 0.6883, Test Loss: 0.3382, Test Accuracy: 85.8157, Test IOU: 0.7323\n"
     ]
    },
    {
     "name": "stderr",
     "output_type": "stream",
     "text": [
      "100%|██████████| 246/246 [03:11<00:00,  1.28it/s]\n"
     ]
    },
    {
     "name": "stdout",
     "output_type": "stream",
     "text": [
      "Epoch 55/250: Train Loss: 0.3746, Train Accuracy: 83.3784, Train IOU: 0.6925, Test Loss: 0.3294, Test Accuracy: 85.1106, Test IOU: 0.7063\n"
     ]
    },
    {
     "name": "stderr",
     "output_type": "stream",
     "text": [
      "100%|██████████| 246/246 [00:59<00:00,  4.17it/s]\n"
     ]
    },
    {
     "name": "stdout",
     "output_type": "stream",
     "text": [
      "Epoch 56/250: Train Loss: 0.3756, Train Accuracy: 83.2149, Train IOU: 0.6897, Test Loss: 0.3318, Test Accuracy: 85.6828, Test IOU: 0.7227\n"
     ]
    },
    {
     "name": "stderr",
     "output_type": "stream",
     "text": [
      "100%|██████████| 246/246 [00:59<00:00,  4.17it/s]\n"
     ]
    },
    {
     "name": "stdout",
     "output_type": "stream",
     "text": [
      "Epoch 57/250: Train Loss: 0.3774, Train Accuracy: 83.1694, Train IOU: 0.6893, Test Loss: 0.3332, Test Accuracy: 85.8821, Test IOU: 0.7300\n"
     ]
    },
    {
     "name": "stderr",
     "output_type": "stream",
     "text": [
      "100%|██████████| 246/246 [00:59<00:00,  4.15it/s]\n"
     ]
    },
    {
     "name": "stdout",
     "output_type": "stream",
     "text": [
      "Epoch 58/250: Train Loss: 0.3778, Train Accuracy: 83.2536, Train IOU: 0.6906, Test Loss: 0.3282, Test Accuracy: 85.7945, Test IOU: 0.7244\n"
     ]
    },
    {
     "name": "stderr",
     "output_type": "stream",
     "text": [
      "100%|██████████| 246/246 [01:15<00:00,  3.27it/s]\n"
     ]
    },
    {
     "name": "stdout",
     "output_type": "stream",
     "text": [
      "Epoch 59/250: Train Loss: 0.3803, Train Accuracy: 83.0827, Train IOU: 0.6878, Test Loss: 0.3322, Test Accuracy: 85.9818, Test IOU: 0.7328\n"
     ]
    },
    {
     "name": "stderr",
     "output_type": "stream",
     "text": [
      "100%|██████████| 246/246 [00:59<00:00,  4.15it/s]\n"
     ]
    },
    {
     "name": "stdout",
     "output_type": "stream",
     "text": [
      "Epoch 60/250: Train Loss: 0.3753, Train Accuracy: 83.1839, Train IOU: 0.6885, Test Loss: 0.3288, Test Accuracy: 85.6265, Test IOU: 0.7193\n"
     ]
    },
    {
     "name": "stderr",
     "output_type": "stream",
     "text": [
      "100%|██████████| 246/246 [00:59<00:00,  4.16it/s]\n"
     ]
    },
    {
     "name": "stdout",
     "output_type": "stream",
     "text": [
      "Epoch 61/250: Train Loss: 0.3744, Train Accuracy: 83.3614, Train IOU: 0.6927, Test Loss: 0.3290, Test Accuracy: 86.0940, Test IOU: 0.7345\n"
     ]
    },
    {
     "name": "stderr",
     "output_type": "stream",
     "text": [
      "100%|██████████| 246/246 [03:11<00:00,  1.28it/s]\n"
     ]
    },
    {
     "name": "stdout",
     "output_type": "stream",
     "text": [
      "Epoch 62/250: Train Loss: 0.3733, Train Accuracy: 83.2357, Train IOU: 0.6896, Test Loss: 0.3407, Test Accuracy: 85.9919, Test IOU: 0.7358\n"
     ]
    },
    {
     "name": "stderr",
     "output_type": "stream",
     "text": [
      "100%|██████████| 246/246 [00:59<00:00,  4.16it/s]\n"
     ]
    },
    {
     "name": "stdout",
     "output_type": "stream",
     "text": [
      "Epoch 63/250: Train Loss: 0.3679, Train Accuracy: 83.4597, Train IOU: 0.6924, Test Loss: 0.3239, Test Accuracy: 85.9183, Test IOU: 0.7265\n"
     ]
    },
    {
     "name": "stderr",
     "output_type": "stream",
     "text": [
      "100%|██████████| 246/246 [00:59<00:00,  4.15it/s]\n"
     ]
    },
    {
     "name": "stdout",
     "output_type": "stream",
     "text": [
      "Epoch 64/250: Train Loss: 0.3691, Train Accuracy: 83.4038, Train IOU: 0.6916, Test Loss: 0.3225, Test Accuracy: 85.9382, Test IOU: 0.7248\n"
     ]
    },
    {
     "name": "stderr",
     "output_type": "stream",
     "text": [
      "100%|██████████| 246/246 [00:59<00:00,  4.16it/s]\n"
     ]
    },
    {
     "name": "stdout",
     "output_type": "stream",
     "text": [
      "Epoch 65/250: Train Loss: 0.3657, Train Accuracy: 83.6735, Train IOU: 0.6964, Test Loss: 0.3251, Test Accuracy: 86.1544, Test IOU: 0.7338\n"
     ]
    },
    {
     "name": "stderr",
     "output_type": "stream",
     "text": [
      "100%|██████████| 246/246 [00:59<00:00,  4.15it/s]\n"
     ]
    },
    {
     "name": "stdout",
     "output_type": "stream",
     "text": [
      "Epoch 66/250: Train Loss: 0.3651, Train Accuracy: 83.8191, Train IOU: 0.6996, Test Loss: 0.3291, Test Accuracy: 86.1881, Test IOU: 0.7371\n"
     ]
    },
    {
     "name": "stderr",
     "output_type": "stream",
     "text": [
      "100%|██████████| 246/246 [03:11<00:00,  1.28it/s]\n"
     ]
    },
    {
     "name": "stdout",
     "output_type": "stream",
     "text": [
      "Epoch 67/250: Train Loss: 0.3661, Train Accuracy: 83.5300, Train IOU: 0.6939, Test Loss: 0.3211, Test Accuracy: 86.1606, Test IOU: 0.7304\n"
     ]
    },
    {
     "name": "stderr",
     "output_type": "stream",
     "text": [
      "100%|██████████| 246/246 [00:59<00:00,  4.15it/s]\n"
     ]
    },
    {
     "name": "stdout",
     "output_type": "stream",
     "text": [
      "Epoch 68/250: Train Loss: 0.3653, Train Accuracy: 83.6899, Train IOU: 0.6971, Test Loss: 0.3256, Test Accuracy: 86.2366, Test IOU: 0.7353\n"
     ]
    },
    {
     "name": "stderr",
     "output_type": "stream",
     "text": [
      "100%|██████████| 246/246 [00:59<00:00,  4.16it/s]\n"
     ]
    },
    {
     "name": "stdout",
     "output_type": "stream",
     "text": [
      "Epoch 69/250: Train Loss: 0.3662, Train Accuracy: 83.5500, Train IOU: 0.6945, Test Loss: 0.3195, Test Accuracy: 86.2301, Test IOU: 0.7328\n"
     ]
    },
    {
     "name": "stderr",
     "output_type": "stream",
     "text": [
      "100%|██████████| 246/246 [01:17<00:00,  3.18it/s]\n"
     ]
    },
    {
     "name": "stdout",
     "output_type": "stream",
     "text": [
      "Epoch 70/250: Train Loss: 0.3691, Train Accuracy: 83.6309, Train IOU: 0.6955, Test Loss: 0.3225, Test Accuracy: 85.9749, Test IOU: 0.7263\n"
     ]
    },
    {
     "name": "stderr",
     "output_type": "stream",
     "text": [
      "100%|██████████| 246/246 [00:59<00:00,  4.15it/s]\n"
     ]
    },
    {
     "name": "stdout",
     "output_type": "stream",
     "text": [
      "Epoch 71/250: Train Loss: 0.3590, Train Accuracy: 83.9462, Train IOU: 0.7015, Test Loss: 0.3175, Test Accuracy: 85.8666, Test IOU: 0.7224\n"
     ]
    },
    {
     "name": "stderr",
     "output_type": "stream",
     "text": [
      "100%|██████████| 246/246 [00:59<00:00,  4.12it/s]\n"
     ]
    },
    {
     "name": "stdout",
     "output_type": "stream",
     "text": [
      "Epoch 72/250: Train Loss: 0.3567, Train Accuracy: 84.0584, Train IOU: 0.7030, Test Loss: 0.3194, Test Accuracy: 86.2859, Test IOU: 0.7345\n"
     ]
    },
    {
     "name": "stderr",
     "output_type": "stream",
     "text": [
      "100%|██████████| 246/246 [00:59<00:00,  4.14it/s]\n"
     ]
    },
    {
     "name": "stdout",
     "output_type": "stream",
     "text": [
      "Epoch 73/250: Train Loss: 0.3545, Train Accuracy: 84.1363, Train IOU: 0.7032, Test Loss: 0.3163, Test Accuracy: 86.0002, Test IOU: 0.7248\n"
     ]
    },
    {
     "name": "stderr",
     "output_type": "stream",
     "text": [
      "100%|██████████| 246/246 [00:59<00:00,  4.15it/s]\n"
     ]
    },
    {
     "name": "stdout",
     "output_type": "stream",
     "text": [
      "Epoch 74/250: Train Loss: 0.3540, Train Accuracy: 84.2471, Train IOU: 0.7063, Test Loss: 0.3190, Test Accuracy: 86.4944, Test IOU: 0.7400\n"
     ]
    },
    {
     "name": "stderr",
     "output_type": "stream",
     "text": [
      "100%|██████████| 246/246 [00:59<00:00,  4.14it/s]\n"
     ]
    },
    {
     "name": "stdout",
     "output_type": "stream",
     "text": [
      "Epoch 75/250: Train Loss: 0.3570, Train Accuracy: 84.3730, Train IOU: 0.7093, Test Loss: 0.3220, Test Accuracy: 86.2239, Test IOU: 0.7342\n"
     ]
    },
    {
     "name": "stderr",
     "output_type": "stream",
     "text": [
      "100%|██████████| 246/246 [00:59<00:00,  4.14it/s]\n"
     ]
    },
    {
     "name": "stdout",
     "output_type": "stream",
     "text": [
      "Epoch 76/250: Train Loss: 0.3540, Train Accuracy: 84.2548, Train IOU: 0.7055, Test Loss: 0.3163, Test Accuracy: 85.9226, Test IOU: 0.7223\n"
     ]
    },
    {
     "name": "stderr",
     "output_type": "stream",
     "text": [
      "100%|██████████| 246/246 [00:59<00:00,  4.14it/s]\n"
     ]
    },
    {
     "name": "stdout",
     "output_type": "stream",
     "text": [
      "Epoch 77/250: Train Loss: 0.3555, Train Accuracy: 84.2338, Train IOU: 0.7064, Test Loss: 0.3215, Test Accuracy: 86.4043, Test IOU: 0.7386\n"
     ]
    },
    {
     "name": "stderr",
     "output_type": "stream",
     "text": [
      "100%|██████████| 246/246 [03:11<00:00,  1.28it/s]\n"
     ]
    },
    {
     "name": "stdout",
     "output_type": "stream",
     "text": [
      "Epoch 78/250: Train Loss: 0.3611, Train Accuracy: 83.9695, Train IOU: 0.7008, Test Loss: 0.3219, Test Accuracy: 86.2145, Test IOU: 0.7337\n"
     ]
    },
    {
     "name": "stderr",
     "output_type": "stream",
     "text": [
      "100%|██████████| 246/246 [00:59<00:00,  4.15it/s]\n"
     ]
    },
    {
     "name": "stdout",
     "output_type": "stream",
     "text": [
      "Epoch 79/250: Train Loss: 0.3494, Train Accuracy: 84.4518, Train IOU: 0.7092, Test Loss: 0.3137, Test Accuracy: 86.0358, Test IOU: 0.7245\n"
     ]
    },
    {
     "name": "stderr",
     "output_type": "stream",
     "text": [
      "100%|██████████| 246/246 [01:06<00:00,  3.73it/s]\n"
     ]
    },
    {
     "name": "stdout",
     "output_type": "stream",
     "text": [
      "Epoch 80/250: Train Loss: 0.3535, Train Accuracy: 84.2495, Train IOU: 0.7061, Test Loss: 0.3156, Test Accuracy: 85.1532, Test IOU: 0.7011\n"
     ]
    },
    {
     "name": "stderr",
     "output_type": "stream",
     "text": [
      "100%|██████████| 246/246 [00:59<00:00,  4.15it/s]\n"
     ]
    },
    {
     "name": "stdout",
     "output_type": "stream",
     "text": [
      "Epoch 81/250: Train Loss: 0.3491, Train Accuracy: 84.3522, Train IOU: 0.7069, Test Loss: 0.3100, Test Accuracy: 86.2448, Test IOU: 0.7281\n"
     ]
    },
    {
     "name": "stderr",
     "output_type": "stream",
     "text": [
      "100%|██████████| 246/246 [00:59<00:00,  4.14it/s]\n"
     ]
    },
    {
     "name": "stdout",
     "output_type": "stream",
     "text": [
      "Epoch 82/250: Train Loss: 0.3511, Train Accuracy: 84.3110, Train IOU: 0.7069, Test Loss: 0.3100, Test Accuracy: 86.0913, Test IOU: 0.7240\n"
     ]
    },
    {
     "name": "stderr",
     "output_type": "stream",
     "text": [
      "100%|██████████| 246/246 [00:59<00:00,  4.12it/s]\n"
     ]
    },
    {
     "name": "stdout",
     "output_type": "stream",
     "text": [
      "Epoch 83/250: Train Loss: 0.3496, Train Accuracy: 84.3713, Train IOU: 0.7076, Test Loss: 0.3106, Test Accuracy: 86.3421, Test IOU: 0.7306\n"
     ]
    },
    {
     "name": "stderr",
     "output_type": "stream",
     "text": [
      "100%|██████████| 246/246 [00:59<00:00,  4.12it/s]\n"
     ]
    },
    {
     "name": "stdout",
     "output_type": "stream",
     "text": [
      "Epoch 84/250: Train Loss: 0.3573, Train Accuracy: 84.2415, Train IOU: 0.7053, Test Loss: 0.3226, Test Accuracy: 86.5454, Test IOU: 0.7437\n"
     ]
    },
    {
     "name": "stderr",
     "output_type": "stream",
     "text": [
      "100%|██████████| 246/246 [02:08<00:00,  1.91it/s]\n"
     ]
    },
    {
     "name": "stdout",
     "output_type": "stream",
     "text": [
      "Epoch 85/250: Train Loss: 0.3502, Train Accuracy: 84.3758, Train IOU: 0.7078, Test Loss: 0.3180, Test Accuracy: 86.7989, Test IOU: 0.7480\n"
     ]
    },
    {
     "name": "stderr",
     "output_type": "stream",
     "text": [
      "100%|██████████| 246/246 [00:59<00:00,  4.15it/s]\n"
     ]
    },
    {
     "name": "stdout",
     "output_type": "stream",
     "text": [
      "Epoch 86/250: Train Loss: 0.3500, Train Accuracy: 84.3883, Train IOU: 0.7077, Test Loss: 0.3120, Test Accuracy: 86.5533, Test IOU: 0.7384\n"
     ]
    },
    {
     "name": "stderr",
     "output_type": "stream",
     "text": [
      "100%|██████████| 246/246 [03:11<00:00,  1.28it/s]\n"
     ]
    },
    {
     "name": "stdout",
     "output_type": "stream",
     "text": [
      "Epoch 87/250: Train Loss: 0.3457, Train Accuracy: 84.4918, Train IOU: 0.7085, Test Loss: 0.3115, Test Accuracy: 86.9754, Test IOU: 0.7486\n"
     ]
    },
    {
     "name": "stderr",
     "output_type": "stream",
     "text": [
      "100%|██████████| 246/246 [00:59<00:00,  4.15it/s]\n"
     ]
    },
    {
     "name": "stdout",
     "output_type": "stream",
     "text": [
      "Epoch 88/250: Train Loss: 0.3549, Train Accuracy: 84.2731, Train IOU: 0.7056, Test Loss: 0.3089, Test Accuracy: 86.4987, Test IOU: 0.7337\n"
     ]
    },
    {
     "name": "stderr",
     "output_type": "stream",
     "text": [
      "100%|██████████| 246/246 [00:59<00:00,  4.12it/s]\n"
     ]
    },
    {
     "name": "stdout",
     "output_type": "stream",
     "text": [
      "Epoch 89/250: Train Loss: 0.3484, Train Accuracy: 84.4928, Train IOU: 0.7099, Test Loss: 0.3066, Test Accuracy: 86.5924, Test IOU: 0.7359\n"
     ]
    },
    {
     "name": "stderr",
     "output_type": "stream",
     "text": [
      "100%|██████████| 246/246 [02:38<00:00,  1.55it/s]\n"
     ]
    },
    {
     "name": "stdout",
     "output_type": "stream",
     "text": [
      "Epoch 90/250: Train Loss: 0.3464, Train Accuracy: 84.5647, Train IOU: 0.7102, Test Loss: 0.3166, Test Accuracy: 86.8185, Test IOU: 0.7469\n"
     ]
    },
    {
     "name": "stderr",
     "output_type": "stream",
     "text": [
      "100%|██████████| 246/246 [00:59<00:00,  4.12it/s]\n"
     ]
    },
    {
     "name": "stdout",
     "output_type": "stream",
     "text": [
      "Epoch 91/250: Train Loss: 0.3511, Train Accuracy: 84.5543, Train IOU: 0.7105, Test Loss: 0.3226, Test Accuracy: 86.9034, Test IOU: 0.7512\n"
     ]
    },
    {
     "name": "stderr",
     "output_type": "stream",
     "text": [
      "100%|██████████| 246/246 [00:59<00:00,  4.15it/s]\n"
     ]
    },
    {
     "name": "stdout",
     "output_type": "stream",
     "text": [
      "Epoch 92/250: Train Loss: 0.3453, Train Accuracy: 84.6508, Train IOU: 0.7114, Test Loss: 0.3060, Test Accuracy: 86.6469, Test IOU: 0.7376\n"
     ]
    },
    {
     "name": "stderr",
     "output_type": "stream",
     "text": [
      "100%|██████████| 246/246 [00:59<00:00,  4.13it/s]\n"
     ]
    },
    {
     "name": "stdout",
     "output_type": "stream",
     "text": [
      "Epoch 93/250: Train Loss: 0.3472, Train Accuracy: 84.4467, Train IOU: 0.7077, Test Loss: 0.3053, Test Accuracy: 86.4884, Test IOU: 0.7327\n"
     ]
    },
    {
     "name": "stderr",
     "output_type": "stream",
     "text": [
      "100%|██████████| 246/246 [00:59<00:00,  4.13it/s]\n"
     ]
    },
    {
     "name": "stdout",
     "output_type": "stream",
     "text": [
      "Epoch 94/250: Train Loss: 0.3455, Train Accuracy: 84.5918, Train IOU: 0.7109, Test Loss: 0.3048, Test Accuracy: 86.7700, Test IOU: 0.7405\n"
     ]
    },
    {
     "name": "stderr",
     "output_type": "stream",
     "text": [
      "100%|██████████| 246/246 [00:59<00:00,  4.10it/s]\n"
     ]
    },
    {
     "name": "stdout",
     "output_type": "stream",
     "text": [
      "Epoch 95/250: Train Loss: 0.3454, Train Accuracy: 84.7832, Train IOU: 0.7143, Test Loss: 0.3126, Test Accuracy: 87.0064, Test IOU: 0.7507\n"
     ]
    },
    {
     "name": "stderr",
     "output_type": "stream",
     "text": [
      "100%|██████████| 246/246 [00:59<00:00,  4.12it/s]\n"
     ]
    },
    {
     "name": "stdout",
     "output_type": "stream",
     "text": [
      "Epoch 96/250: Train Loss: 0.3419, Train Accuracy: 84.8194, Train IOU: 0.7145, Test Loss: 0.3055, Test Accuracy: 86.8428, Test IOU: 0.7426\n"
     ]
    },
    {
     "name": "stderr",
     "output_type": "stream",
     "text": [
      "100%|██████████| 246/246 [03:11<00:00,  1.28it/s]\n"
     ]
    },
    {
     "name": "stdout",
     "output_type": "stream",
     "text": [
      "Epoch 97/250: Train Loss: 0.3483, Train Accuracy: 84.5451, Train IOU: 0.7099, Test Loss: 0.3020, Test Accuracy: 86.2774, Test IOU: 0.7258\n"
     ]
    },
    {
     "name": "stderr",
     "output_type": "stream",
     "text": [
      "100%|██████████| 246/246 [00:59<00:00,  4.15it/s]\n"
     ]
    },
    {
     "name": "stdout",
     "output_type": "stream",
     "text": [
      "Epoch 98/250: Train Loss: 0.3464, Train Accuracy: 84.6529, Train IOU: 0.7122, Test Loss: 0.3049, Test Accuracy: 86.8060, Test IOU: 0.7408\n"
     ]
    },
    {
     "name": "stderr",
     "output_type": "stream",
     "text": [
      "100%|██████████| 246/246 [03:11<00:00,  1.28it/s]\n"
     ]
    },
    {
     "name": "stdout",
     "output_type": "stream",
     "text": [
      "Epoch 99/250: Train Loss: 0.3453, Train Accuracy: 84.6546, Train IOU: 0.7116, Test Loss: 0.3031, Test Accuracy: 86.6501, Test IOU: 0.7374\n"
     ]
    },
    {
     "name": "stderr",
     "output_type": "stream",
     "text": [
      "100%|██████████| 246/246 [00:59<00:00,  4.15it/s]\n"
     ]
    },
    {
     "name": "stdout",
     "output_type": "stream",
     "text": [
      "Epoch 100/250: Train Loss: 0.3403, Train Accuracy: 84.8986, Train IOU: 0.7159, Test Loss: 0.3005, Test Accuracy: 87.0631, Test IOU: 0.7468\n"
     ]
    },
    {
     "name": "stderr",
     "output_type": "stream",
     "text": [
      "100%|██████████| 246/246 [00:59<00:00,  4.13it/s]\n"
     ]
    },
    {
     "name": "stdout",
     "output_type": "stream",
     "text": [
      "Epoch 101/250: Train Loss: 0.3403, Train Accuracy: 84.9600, Train IOU: 0.7172, Test Loss: 0.3085, Test Accuracy: 87.1768, Test IOU: 0.7541\n"
     ]
    },
    {
     "name": "stderr",
     "output_type": "stream",
     "text": [
      "100%|██████████| 246/246 [03:11<00:00,  1.28it/s]\n"
     ]
    },
    {
     "name": "stdout",
     "output_type": "stream",
     "text": [
      "Epoch 102/250: Train Loss: 0.3392, Train Accuracy: 84.9344, Train IOU: 0.7174, Test Loss: 0.3011, Test Accuracy: 87.1499, Test IOU: 0.7479\n"
     ]
    },
    {
     "name": "stderr",
     "output_type": "stream",
     "text": [
      "100%|██████████| 246/246 [01:00<00:00,  4.08it/s]\n"
     ]
    },
    {
     "name": "stdout",
     "output_type": "stream",
     "text": [
      "Epoch 103/250: Train Loss: 0.3353, Train Accuracy: 85.2631, Train IOU: 0.7219, Test Loss: 0.3074, Test Accuracy: 86.7676, Test IOU: 0.7412\n"
     ]
    },
    {
     "name": "stderr",
     "output_type": "stream",
     "text": [
      "100%|██████████| 246/246 [00:59<00:00,  4.15it/s]\n"
     ]
    },
    {
     "name": "stdout",
     "output_type": "stream",
     "text": [
      "Epoch 104/250: Train Loss: 0.3367, Train Accuracy: 85.1289, Train IOU: 0.7200, Test Loss: 0.3008, Test Accuracy: 87.2299, Test IOU: 0.7515\n"
     ]
    },
    {
     "name": "stderr",
     "output_type": "stream",
     "text": [
      "100%|██████████| 246/246 [00:59<00:00,  4.14it/s]\n"
     ]
    },
    {
     "name": "stdout",
     "output_type": "stream",
     "text": [
      "Epoch 105/250: Train Loss: 0.3340, Train Accuracy: 85.1745, Train IOU: 0.7202, Test Loss: 0.2967, Test Accuracy: 87.1049, Test IOU: 0.7454\n"
     ]
    },
    {
     "name": "stderr",
     "output_type": "stream",
     "text": [
      "100%|██████████| 246/246 [00:59<00:00,  4.14it/s]\n"
     ]
    },
    {
     "name": "stdout",
     "output_type": "stream",
     "text": [
      "Epoch 106/250: Train Loss: 0.3277, Train Accuracy: 85.4100, Train IOU: 0.7244, Test Loss: 0.2986, Test Accuracy: 86.6398, Test IOU: 0.7331\n"
     ]
    },
    {
     "name": "stderr",
     "output_type": "stream",
     "text": [
      "100%|██████████| 246/246 [00:59<00:00,  4.14it/s]\n"
     ]
    },
    {
     "name": "stdout",
     "output_type": "stream",
     "text": [
      "Epoch 107/250: Train Loss: 0.3366, Train Accuracy: 85.0644, Train IOU: 0.7191, Test Loss: 0.3136, Test Accuracy: 87.2365, Test IOU: 0.7582\n"
     ]
    },
    {
     "name": "stderr",
     "output_type": "stream",
     "text": [
      "100%|██████████| 246/246 [00:59<00:00,  4.11it/s]\n"
     ]
    },
    {
     "name": "stdout",
     "output_type": "stream",
     "text": [
      "Epoch 108/250: Train Loss: 0.3390, Train Accuracy: 85.0869, Train IOU: 0.7199, Test Loss: 0.2996, Test Accuracy: 86.9129, Test IOU: 0.7420\n"
     ]
    },
    {
     "name": "stderr",
     "output_type": "stream",
     "text": [
      "100%|██████████| 246/246 [00:59<00:00,  4.13it/s]\n"
     ]
    },
    {
     "name": "stdout",
     "output_type": "stream",
     "text": [
      "Epoch 109/250: Train Loss: 0.3294, Train Accuracy: 85.4026, Train IOU: 0.7243, Test Loss: 0.2963, Test Accuracy: 87.2191, Test IOU: 0.7476\n"
     ]
    },
    {
     "name": "stderr",
     "output_type": "stream",
     "text": [
      "100%|██████████| 246/246 [00:59<00:00,  4.13it/s]\n"
     ]
    },
    {
     "name": "stdout",
     "output_type": "stream",
     "text": [
      "Epoch 110/250: Train Loss: 0.3350, Train Accuracy: 85.1695, Train IOU: 0.7218, Test Loss: 0.2993, Test Accuracy: 86.9546, Test IOU: 0.7413\n"
     ]
    },
    {
     "name": "stderr",
     "output_type": "stream",
     "text": [
      "100%|██████████| 246/246 [00:59<00:00,  4.13it/s]\n"
     ]
    },
    {
     "name": "stdout",
     "output_type": "stream",
     "text": [
      "Epoch 111/250: Train Loss: 0.3378, Train Accuracy: 85.1320, Train IOU: 0.7205, Test Loss: 0.3001, Test Accuracy: 86.4277, Test IOU: 0.7281\n"
     ]
    },
    {
     "name": "stderr",
     "output_type": "stream",
     "text": [
      "100%|██████████| 246/246 [00:59<00:00,  4.13it/s]\n"
     ]
    },
    {
     "name": "stdout",
     "output_type": "stream",
     "text": [
      "Epoch 112/250: Train Loss: 0.3299, Train Accuracy: 85.2985, Train IOU: 0.7226, Test Loss: 0.2971, Test Accuracy: 86.9716, Test IOU: 0.7416\n"
     ]
    },
    {
     "name": "stderr",
     "output_type": "stream",
     "text": [
      "100%|██████████| 246/246 [00:59<00:00,  4.11it/s]\n"
     ]
    },
    {
     "name": "stdout",
     "output_type": "stream",
     "text": [
      "Epoch 113/250: Train Loss: 0.3294, Train Accuracy: 85.4758, Train IOU: 0.7252, Test Loss: 0.2957, Test Accuracy: 87.0866, Test IOU: 0.7447\n"
     ]
    },
    {
     "name": "stderr",
     "output_type": "stream",
     "text": [
      "100%|██████████| 246/246 [00:59<00:00,  4.13it/s]\n"
     ]
    },
    {
     "name": "stdout",
     "output_type": "stream",
     "text": [
      "Epoch 114/250: Train Loss: 0.3348, Train Accuracy: 85.2367, Train IOU: 0.7221, Test Loss: 0.3008, Test Accuracy: 85.6844, Test IOU: 0.7089\n"
     ]
    },
    {
     "name": "stderr",
     "output_type": "stream",
     "text": [
      "100%|██████████| 246/246 [00:59<00:00,  4.13it/s]\n"
     ]
    },
    {
     "name": "stdout",
     "output_type": "stream",
     "text": [
      "Epoch 115/250: Train Loss: 0.3349, Train Accuracy: 85.1596, Train IOU: 0.7205, Test Loss: 0.2930, Test Accuracy: 87.0809, Test IOU: 0.7432\n"
     ]
    },
    {
     "name": "stderr",
     "output_type": "stream",
     "text": [
      "100%|██████████| 246/246 [01:00<00:00,  4.09it/s]\n"
     ]
    },
    {
     "name": "stdout",
     "output_type": "stream",
     "text": [
      "Epoch 116/250: Train Loss: 0.3293, Train Accuracy: 85.4366, Train IOU: 0.7249, Test Loss: 0.2972, Test Accuracy: 86.6851, Test IOU: 0.7357\n"
     ]
    },
    {
     "name": "stderr",
     "output_type": "stream",
     "text": [
      "100%|██████████| 246/246 [00:59<00:00,  4.12it/s]\n"
     ]
    },
    {
     "name": "stdout",
     "output_type": "stream",
     "text": [
      "Epoch 117/250: Train Loss: 0.3322, Train Accuracy: 85.2985, Train IOU: 0.7228, Test Loss: 0.2947, Test Accuracy: 87.2414, Test IOU: 0.7477\n"
     ]
    },
    {
     "name": "stderr",
     "output_type": "stream",
     "text": [
      "100%|██████████| 246/246 [00:59<00:00,  4.13it/s]\n"
     ]
    },
    {
     "name": "stdout",
     "output_type": "stream",
     "text": [
      "Epoch 118/250: Train Loss: 0.3309, Train Accuracy: 85.3410, Train IOU: 0.7231, Test Loss: 0.2948, Test Accuracy: 87.2512, Test IOU: 0.7480\n"
     ]
    },
    {
     "name": "stderr",
     "output_type": "stream",
     "text": [
      "100%|██████████| 246/246 [00:59<00:00,  4.11it/s]\n"
     ]
    },
    {
     "name": "stdout",
     "output_type": "stream",
     "text": [
      "Epoch 119/250: Train Loss: 0.3315, Train Accuracy: 85.4397, Train IOU: 0.7255, Test Loss: 0.3108, Test Accuracy: 87.4007, Test IOU: 0.7617\n"
     ]
    },
    {
     "name": "stderr",
     "output_type": "stream",
     "text": [
      "100%|██████████| 246/246 [01:17<00:00,  3.16it/s]\n"
     ]
    },
    {
     "name": "stdout",
     "output_type": "stream",
     "text": [
      "Epoch 120/250: Train Loss: 0.3323, Train Accuracy: 85.2227, Train IOU: 0.7209, Test Loss: 0.2953, Test Accuracy: 87.3866, Test IOU: 0.7525\n"
     ]
    },
    {
     "name": "stderr",
     "output_type": "stream",
     "text": [
      "100%|██████████| 246/246 [02:20<00:00,  1.75it/s]\n"
     ]
    },
    {
     "name": "stdout",
     "output_type": "stream",
     "text": [
      "Epoch 121/250: Train Loss: 0.3262, Train Accuracy: 85.5821, Train IOU: 0.7277, Test Loss: 0.2947, Test Accuracy: 87.5340, Test IOU: 0.7569\n"
     ]
    },
    {
     "name": "stderr",
     "output_type": "stream",
     "text": [
      "100%|██████████| 246/246 [02:11<00:00,  1.87it/s]\n"
     ]
    },
    {
     "name": "stdout",
     "output_type": "stream",
     "text": [
      "Epoch 122/250: Train Loss: 0.3244, Train Accuracy: 85.6390, Train IOU: 0.7280, Test Loss: 0.2982, Test Accuracy: 87.6686, Test IOU: 0.7619\n"
     ]
    },
    {
     "name": "stderr",
     "output_type": "stream",
     "text": [
      "100%|██████████| 246/246 [00:58<00:00,  4.17it/s]\n"
     ]
    },
    {
     "name": "stdout",
     "output_type": "stream",
     "text": [
      "Epoch 123/250: Train Loss: 0.3284, Train Accuracy: 85.4374, Train IOU: 0.7246, Test Loss: 0.2928, Test Accuracy: 87.5313, Test IOU: 0.7560\n"
     ]
    },
    {
     "name": "stderr",
     "output_type": "stream",
     "text": [
      "100%|██████████| 246/246 [00:59<00:00,  4.15it/s]\n"
     ]
    },
    {
     "name": "stdout",
     "output_type": "stream",
     "text": [
      "Epoch 124/250: Train Loss: 0.3288, Train Accuracy: 85.3459, Train IOU: 0.7231, Test Loss: 0.2981, Test Accuracy: 87.7012, Test IOU: 0.7630\n"
     ]
    },
    {
     "name": "stderr",
     "output_type": "stream",
     "text": [
      "100%|██████████| 246/246 [03:11<00:00,  1.28it/s]\n"
     ]
    },
    {
     "name": "stdout",
     "output_type": "stream",
     "text": [
      "Epoch 125/250: Train Loss: 0.3234, Train Accuracy: 85.8167, Train IOU: 0.7325, Test Loss: 0.2974, Test Accuracy: 87.5296, Test IOU: 0.7577\n"
     ]
    },
    {
     "name": "stderr",
     "output_type": "stream",
     "text": [
      "100%|██████████| 246/246 [01:42<00:00,  2.39it/s]\n"
     ]
    },
    {
     "name": "stdout",
     "output_type": "stream",
     "text": [
      "Epoch 126/250: Train Loss: 0.3247, Train Accuracy: 85.8037, Train IOU: 0.7310, Test Loss: 0.3017, Test Accuracy: 87.6861, Test IOU: 0.7650\n"
     ]
    },
    {
     "name": "stderr",
     "output_type": "stream",
     "text": [
      "100%|██████████| 246/246 [00:58<00:00,  4.18it/s]\n"
     ]
    },
    {
     "name": "stdout",
     "output_type": "stream",
     "text": [
      "Epoch 127/250: Train Loss: 0.3309, Train Accuracy: 85.3723, Train IOU: 0.7243, Test Loss: 0.2904, Test Accuracy: 87.3113, Test IOU: 0.7480\n"
     ]
    },
    {
     "name": "stderr",
     "output_type": "stream",
     "text": [
      "100%|██████████| 246/246 [03:11<00:00,  1.28it/s]\n"
     ]
    },
    {
     "name": "stdout",
     "output_type": "stream",
     "text": [
      "Epoch 128/250: Train Loss: 0.3256, Train Accuracy: 85.6146, Train IOU: 0.7282, Test Loss: 0.2903, Test Accuracy: 87.4334, Test IOU: 0.7513\n"
     ]
    },
    {
     "name": "stderr",
     "output_type": "stream",
     "text": [
      "100%|██████████| 246/246 [00:59<00:00,  4.11it/s]\n"
     ]
    },
    {
     "name": "stdout",
     "output_type": "stream",
     "text": [
      "Epoch 129/250: Train Loss: 0.3274, Train Accuracy: 85.5107, Train IOU: 0.7256, Test Loss: 0.2957, Test Accuracy: 87.5731, Test IOU: 0.7580\n"
     ]
    },
    {
     "name": "stderr",
     "output_type": "stream",
     "text": [
      "100%|██████████| 246/246 [00:59<00:00,  4.16it/s]\n"
     ]
    },
    {
     "name": "stdout",
     "output_type": "stream",
     "text": [
      "Epoch 130/250: Train Loss: 0.3298, Train Accuracy: 85.5367, Train IOU: 0.7274, Test Loss: 0.2928, Test Accuracy: 87.0553, Test IOU: 0.7422\n"
     ]
    },
    {
     "name": "stderr",
     "output_type": "stream",
     "text": [
      "100%|██████████| 246/246 [02:05<00:00,  1.96it/s]\n"
     ]
    },
    {
     "name": "stdout",
     "output_type": "stream",
     "text": [
      "Epoch 131/250: Train Loss: 0.3267, Train Accuracy: 85.8175, Train IOU: 0.7320, Test Loss: 0.2967, Test Accuracy: 87.5768, Test IOU: 0.7586\n"
     ]
    },
    {
     "name": "stderr",
     "output_type": "stream",
     "text": [
      "100%|██████████| 246/246 [00:58<00:00,  4.18it/s]\n"
     ]
    },
    {
     "name": "stdout",
     "output_type": "stream",
     "text": [
      "Epoch 132/250: Train Loss: 0.3241, Train Accuracy: 85.8323, Train IOU: 0.7314, Test Loss: 0.2904, Test Accuracy: 87.5655, Test IOU: 0.7545\n"
     ]
    },
    {
     "name": "stderr",
     "output_type": "stream",
     "text": [
      "100%|██████████| 246/246 [00:59<00:00,  4.15it/s]\n"
     ]
    },
    {
     "name": "stdout",
     "output_type": "stream",
     "text": [
      "Epoch 133/250: Train Loss: 0.3248, Train Accuracy: 85.6978, Train IOU: 0.7296, Test Loss: 0.2897, Test Accuracy: 86.8779, Test IOU: 0.7362\n"
     ]
    },
    {
     "name": "stderr",
     "output_type": "stream",
     "text": [
      "100%|██████████| 246/246 [00:58<00:00,  4.17it/s]\n"
     ]
    },
    {
     "name": "stdout",
     "output_type": "stream",
     "text": [
      "Epoch 134/250: Train Loss: 0.3220, Train Accuracy: 85.9322, Train IOU: 0.7333, Test Loss: 0.2936, Test Accuracy: 87.4283, Test IOU: 0.7513\n"
     ]
    },
    {
     "name": "stderr",
     "output_type": "stream",
     "text": [
      "100%|██████████| 246/246 [01:52<00:00,  2.19it/s]\n"
     ]
    },
    {
     "name": "stdout",
     "output_type": "stream",
     "text": [
      "Epoch 135/250: Train Loss: 0.3250, Train Accuracy: 85.7674, Train IOU: 0.7311, Test Loss: 0.2950, Test Accuracy: 87.6144, Test IOU: 0.7583\n"
     ]
    },
    {
     "name": "stderr",
     "output_type": "stream",
     "text": [
      "100%|██████████| 246/246 [00:58<00:00,  4.17it/s]\n"
     ]
    },
    {
     "name": "stdout",
     "output_type": "stream",
     "text": [
      "Epoch 136/250: Train Loss: 0.3176, Train Accuracy: 86.0073, Train IOU: 0.7352, Test Loss: 0.2902, Test Accuracy: 86.6977, Test IOU: 0.7314\n"
     ]
    },
    {
     "name": "stderr",
     "output_type": "stream",
     "text": [
      "100%|██████████| 246/246 [03:11<00:00,  1.28it/s]\n"
     ]
    },
    {
     "name": "stdout",
     "output_type": "stream",
     "text": [
      "Epoch 137/250: Train Loss: 0.3187, Train Accuracy: 86.0606, Train IOU: 0.7365, Test Loss: 0.2874, Test Accuracy: 87.3883, Test IOU: 0.7490\n"
     ]
    },
    {
     "name": "stderr",
     "output_type": "stream",
     "text": [
      "100%|██████████| 246/246 [00:58<00:00,  4.19it/s]\n"
     ]
    },
    {
     "name": "stdout",
     "output_type": "stream",
     "text": [
      "Epoch 138/250: Train Loss: 0.3148, Train Accuracy: 86.1317, Train IOU: 0.7366, Test Loss: 0.2866, Test Accuracy: 87.1752, Test IOU: 0.7435\n"
     ]
    },
    {
     "name": "stderr",
     "output_type": "stream",
     "text": [
      "100%|██████████| 246/246 [00:59<00:00,  4.15it/s]\n"
     ]
    },
    {
     "name": "stdout",
     "output_type": "stream",
     "text": [
      "Epoch 139/250: Train Loss: 0.3130, Train Accuracy: 86.3149, Train IOU: 0.7401, Test Loss: 0.2875, Test Accuracy: 87.5626, Test IOU: 0.7539\n"
     ]
    },
    {
     "name": "stderr",
     "output_type": "stream",
     "text": [
      "100%|██████████| 246/246 [00:58<00:00,  4.18it/s]\n"
     ]
    },
    {
     "name": "stdout",
     "output_type": "stream",
     "text": [
      "Epoch 140/250: Train Loss: 0.3205, Train Accuracy: 85.9020, Train IOU: 0.7330, Test Loss: 0.2885, Test Accuracy: 87.6951, Test IOU: 0.7576\n"
     ]
    },
    {
     "name": "stderr",
     "output_type": "stream",
     "text": [
      "100%|██████████| 246/246 [00:58<00:00,  4.19it/s]\n"
     ]
    },
    {
     "name": "stdout",
     "output_type": "stream",
     "text": [
      "Epoch 141/250: Train Loss: 0.3148, Train Accuracy: 86.2040, Train IOU: 0.7389, Test Loss: 0.2894, Test Accuracy: 87.9034, Test IOU: 0.7636\n"
     ]
    },
    {
     "name": "stderr",
     "output_type": "stream",
     "text": [
      "100%|██████████| 246/246 [00:59<00:00,  4.15it/s]\n"
     ]
    },
    {
     "name": "stdout",
     "output_type": "stream",
     "text": [
      "Epoch 142/250: Train Loss: 0.3170, Train Accuracy: 85.9336, Train IOU: 0.7332, Test Loss: 0.2866, Test Accuracy: 87.8891, Test IOU: 0.7620\n"
     ]
    },
    {
     "name": "stderr",
     "output_type": "stream",
     "text": [
      "100%|██████████| 246/246 [00:58<00:00,  4.18it/s]\n"
     ]
    },
    {
     "name": "stdout",
     "output_type": "stream",
     "text": [
      "Epoch 143/250: Train Loss: 0.3141, Train Accuracy: 86.4070, Train IOU: 0.7421, Test Loss: 0.2836, Test Accuracy: 87.9232, Test IOU: 0.7628\n"
     ]
    },
    {
     "name": "stderr",
     "output_type": "stream",
     "text": [
      "100%|██████████| 246/246 [02:12<00:00,  1.85it/s]\n"
     ]
    },
    {
     "name": "stdout",
     "output_type": "stream",
     "text": [
      "Epoch 144/250: Train Loss: 0.3168, Train Accuracy: 86.1262, Train IOU: 0.7367, Test Loss: 0.2864, Test Accuracy: 87.1193, Test IOU: 0.7416\n"
     ]
    },
    {
     "name": "stderr",
     "output_type": "stream",
     "text": [
      "100%|██████████| 246/246 [00:58<00:00,  4.19it/s]\n"
     ]
    },
    {
     "name": "stdout",
     "output_type": "stream",
     "text": [
      "Epoch 145/250: Train Loss: 0.3180, Train Accuracy: 86.0265, Train IOU: 0.7353, Test Loss: 0.2881, Test Accuracy: 87.2965, Test IOU: 0.7469\n"
     ]
    },
    {
     "name": "stderr",
     "output_type": "stream",
     "text": [
      "100%|██████████| 246/246 [00:59<00:00,  4.10it/s]\n"
     ]
    },
    {
     "name": "stdout",
     "output_type": "stream",
     "text": [
      "Epoch 146/250: Train Loss: 0.3233, Train Accuracy: 85.8004, Train IOU: 0.7308, Test Loss: 0.2824, Test Accuracy: 87.8431, Test IOU: 0.7585\n"
     ]
    },
    {
     "name": "stderr",
     "output_type": "stream",
     "text": [
      "100%|██████████| 246/246 [02:12<00:00,  1.86it/s]\n"
     ]
    },
    {
     "name": "stdout",
     "output_type": "stream",
     "text": [
      "Epoch 147/250: Train Loss: 0.3139, Train Accuracy: 86.3693, Train IOU: 0.7408, Test Loss: 0.2898, Test Accuracy: 87.9420, Test IOU: 0.7640\n"
     ]
    },
    {
     "name": "stderr",
     "output_type": "stream",
     "text": [
      "100%|██████████| 246/246 [00:59<00:00,  4.13it/s]\n"
     ]
    },
    {
     "name": "stdout",
     "output_type": "stream",
     "text": [
      "Epoch 148/250: Train Loss: 0.3139, Train Accuracy: 86.2676, Train IOU: 0.7389, Test Loss: 0.2835, Test Accuracy: 87.2390, Test IOU: 0.7423\n"
     ]
    },
    {
     "name": "stderr",
     "output_type": "stream",
     "text": [
      "100%|██████████| 246/246 [00:59<00:00,  4.15it/s]\n"
     ]
    },
    {
     "name": "stdout",
     "output_type": "stream",
     "text": [
      "Epoch 149/250: Train Loss: 0.3099, Train Accuracy: 86.5147, Train IOU: 0.7440, Test Loss: 0.2856, Test Accuracy: 86.9734, Test IOU: 0.7375\n"
     ]
    },
    {
     "name": "stderr",
     "output_type": "stream",
     "text": [
      "100%|██████████| 246/246 [00:59<00:00,  4.17it/s]\n"
     ]
    },
    {
     "name": "stdout",
     "output_type": "stream",
     "text": [
      "Epoch 150/250: Train Loss: 0.3180, Train Accuracy: 86.2442, Train IOU: 0.7396, Test Loss: 0.2868, Test Accuracy: 88.1111, Test IOU: 0.7685\n"
     ]
    },
    {
     "name": "stderr",
     "output_type": "stream",
     "text": [
      "100%|██████████| 246/246 [00:59<00:00,  4.15it/s]\n"
     ]
    },
    {
     "name": "stdout",
     "output_type": "stream",
     "text": [
      "Epoch 151/250: Train Loss: 0.3127, Train Accuracy: 86.3200, Train IOU: 0.7408, Test Loss: 0.2817, Test Accuracy: 87.9993, Test IOU: 0.7628\n"
     ]
    },
    {
     "name": "stderr",
     "output_type": "stream",
     "text": [
      "100%|██████████| 246/246 [00:58<00:00,  4.17it/s]\n"
     ]
    },
    {
     "name": "stdout",
     "output_type": "stream",
     "text": [
      "Epoch 152/250: Train Loss: 0.3117, Train Accuracy: 86.5058, Train IOU: 0.7436, Test Loss: 0.2801, Test Accuracy: 87.8614, Test IOU: 0.7592\n"
     ]
    },
    {
     "name": "stderr",
     "output_type": "stream",
     "text": [
      "100%|██████████| 246/246 [00:58<00:00,  4.18it/s]\n"
     ]
    },
    {
     "name": "stdout",
     "output_type": "stream",
     "text": [
      "Epoch 153/250: Train Loss: 0.3134, Train Accuracy: 86.2658, Train IOU: 0.7389, Test Loss: 0.2893, Test Accuracy: 88.1087, Test IOU: 0.7685\n"
     ]
    },
    {
     "name": "stderr",
     "output_type": "stream",
     "text": [
      "100%|██████████| 246/246 [00:58<00:00,  4.18it/s]\n"
     ]
    },
    {
     "name": "stdout",
     "output_type": "stream",
     "text": [
      "Epoch 154/250: Train Loss: 0.3114, Train Accuracy: 86.4717, Train IOU: 0.7434, Test Loss: 0.2809, Test Accuracy: 87.8095, Test IOU: 0.7571\n"
     ]
    },
    {
     "name": "stderr",
     "output_type": "stream",
     "text": [
      "100%|██████████| 246/246 [00:59<00:00,  4.15it/s]\n"
     ]
    },
    {
     "name": "stdout",
     "output_type": "stream",
     "text": [
      "Epoch 155/250: Train Loss: 0.3122, Train Accuracy: 86.4686, Train IOU: 0.7433, Test Loss: 0.2857, Test Accuracy: 87.9736, Test IOU: 0.7628\n"
     ]
    },
    {
     "name": "stderr",
     "output_type": "stream",
     "text": [
      "100%|██████████| 246/246 [00:59<00:00,  4.11it/s]\n"
     ]
    },
    {
     "name": "stdout",
     "output_type": "stream",
     "text": [
      "Epoch 156/250: Train Loss: 0.3120, Train Accuracy: 86.3227, Train IOU: 0.7402, Test Loss: 0.2807, Test Accuracy: 87.5752, Test IOU: 0.7509\n"
     ]
    },
    {
     "name": "stderr",
     "output_type": "stream",
     "text": [
      "100%|██████████| 246/246 [00:58<00:00,  4.17it/s]\n"
     ]
    },
    {
     "name": "stdout",
     "output_type": "stream",
     "text": [
      "Epoch 157/250: Train Loss: 0.3144, Train Accuracy: 86.2782, Train IOU: 0.7397, Test Loss: 0.2798, Test Accuracy: 87.5431, Test IOU: 0.7491\n"
     ]
    },
    {
     "name": "stderr",
     "output_type": "stream",
     "text": [
      "100%|██████████| 246/246 [00:59<00:00,  4.13it/s]\n"
     ]
    },
    {
     "name": "stdout",
     "output_type": "stream",
     "text": [
      "Epoch 158/250: Train Loss: 0.3131, Train Accuracy: 86.3468, Train IOU: 0.7405, Test Loss: 0.2827, Test Accuracy: 87.9641, Test IOU: 0.7636\n"
     ]
    },
    {
     "name": "stderr",
     "output_type": "stream",
     "text": [
      "100%|██████████| 246/246 [00:58<00:00,  4.17it/s]\n"
     ]
    },
    {
     "name": "stdout",
     "output_type": "stream",
     "text": [
      "Epoch 159/250: Train Loss: 0.3109, Train Accuracy: 86.4678, Train IOU: 0.7425, Test Loss: 0.2817, Test Accuracy: 88.0421, Test IOU: 0.7636\n"
     ]
    },
    {
     "name": "stderr",
     "output_type": "stream",
     "text": [
      "100%|██████████| 246/246 [00:58<00:00,  4.18it/s]\n"
     ]
    },
    {
     "name": "stdout",
     "output_type": "stream",
     "text": [
      "Epoch 160/250: Train Loss: 0.3045, Train Accuracy: 86.6531, Train IOU: 0.7460, Test Loss: 0.2839, Test Accuracy: 88.1934, Test IOU: 0.7704\n"
     ]
    },
    {
     "name": "stderr",
     "output_type": "stream",
     "text": [
      "100%|██████████| 246/246 [00:58<00:00,  4.17it/s]\n"
     ]
    },
    {
     "name": "stdout",
     "output_type": "stream",
     "text": [
      "Epoch 161/250: Train Loss: 0.3064, Train Accuracy: 86.6463, Train IOU: 0.7464, Test Loss: 0.2838, Test Accuracy: 88.2198, Test IOU: 0.7710\n"
     ]
    },
    {
     "name": "stderr",
     "output_type": "stream",
     "text": [
      "100%|██████████| 246/246 [01:13<00:00,  3.33it/s]\n"
     ]
    },
    {
     "name": "stdout",
     "output_type": "stream",
     "text": [
      "Epoch 162/250: Train Loss: 0.3120, Train Accuracy: 86.4620, Train IOU: 0.7426, Test Loss: 0.2779, Test Accuracy: 87.9263, Test IOU: 0.7597\n"
     ]
    },
    {
     "name": "stderr",
     "output_type": "stream",
     "text": [
      "100%|██████████| 246/246 [00:59<00:00,  4.17it/s]\n"
     ]
    },
    {
     "name": "stdout",
     "output_type": "stream",
     "text": [
      "Epoch 163/250: Train Loss: 0.3137, Train Accuracy: 86.3293, Train IOU: 0.7403, Test Loss: 0.2822, Test Accuracy: 86.8642, Test IOU: 0.7327\n"
     ]
    },
    {
     "name": "stderr",
     "output_type": "stream",
     "text": [
      "100%|██████████| 246/246 [00:59<00:00,  4.14it/s]\n"
     ]
    },
    {
     "name": "stdout",
     "output_type": "stream",
     "text": [
      "Epoch 164/250: Train Loss: 0.3166, Train Accuracy: 86.2047, Train IOU: 0.7390, Test Loss: 0.2791, Test Accuracy: 88.0448, Test IOU: 0.7634\n"
     ]
    },
    {
     "name": "stderr",
     "output_type": "stream",
     "text": [
      "100%|██████████| 246/246 [03:11<00:00,  1.28it/s]\n"
     ]
    },
    {
     "name": "stdout",
     "output_type": "stream",
     "text": [
      "Epoch 165/250: Train Loss: 0.3052, Train Accuracy: 86.8315, Train IOU: 0.7490, Test Loss: 0.2920, Test Accuracy: 87.9711, Test IOU: 0.7682\n"
     ]
    },
    {
     "name": "stderr",
     "output_type": "stream",
     "text": [
      "100%|██████████| 246/246 [01:11<00:00,  3.43it/s]\n"
     ]
    },
    {
     "name": "stdout",
     "output_type": "stream",
     "text": [
      "Epoch 166/250: Train Loss: 0.3064, Train Accuracy: 86.7219, Train IOU: 0.7480, Test Loss: 0.2832, Test Accuracy: 87.1849, Test IOU: 0.7405\n"
     ]
    },
    {
     "name": "stderr",
     "output_type": "stream",
     "text": [
      "100%|██████████| 246/246 [00:53<00:00,  4.61it/s]\n"
     ]
    },
    {
     "name": "stdout",
     "output_type": "stream",
     "text": [
      "Epoch 167/250: Train Loss: 0.3037, Train Accuracy: 86.8646, Train IOU: 0.7497, Test Loss: 0.2769, Test Accuracy: 87.6580, Test IOU: 0.7513\n"
     ]
    },
    {
     "name": "stderr",
     "output_type": "stream",
     "text": [
      "100%|██████████| 246/246 [00:53<00:00,  4.56it/s]\n"
     ]
    },
    {
     "name": "stdout",
     "output_type": "stream",
     "text": [
      "Epoch 168/250: Train Loss: 0.3036, Train Accuracy: 86.8420, Train IOU: 0.7494, Test Loss: 0.2765, Test Accuracy: 88.0162, Test IOU: 0.7620\n"
     ]
    },
    {
     "name": "stderr",
     "output_type": "stream",
     "text": [
      "100%|██████████| 246/246 [00:54<00:00,  4.53it/s]\n"
     ]
    },
    {
     "name": "stdout",
     "output_type": "stream",
     "text": [
      "Epoch 169/250: Train Loss: 0.3055, Train Accuracy: 86.8674, Train IOU: 0.7501, Test Loss: 0.2767, Test Accuracy: 87.9605, Test IOU: 0.7590\n"
     ]
    },
    {
     "name": "stderr",
     "output_type": "stream",
     "text": [
      "100%|██████████| 246/246 [00:54<00:00,  4.50it/s]\n"
     ]
    },
    {
     "name": "stdout",
     "output_type": "stream",
     "text": [
      "Epoch 170/250: Train Loss: 0.3066, Train Accuracy: 86.7442, Train IOU: 0.7484, Test Loss: 0.2795, Test Accuracy: 88.3855, Test IOU: 0.7727\n"
     ]
    },
    {
     "name": "stderr",
     "output_type": "stream",
     "text": [
      "100%|██████████| 246/246 [00:56<00:00,  4.32it/s]\n"
     ]
    },
    {
     "name": "stdout",
     "output_type": "stream",
     "text": [
      "Epoch 171/250: Train Loss: 0.3087, Train Accuracy: 86.5979, Train IOU: 0.7455, Test Loss: 0.2797, Test Accuracy: 88.3266, Test IOU: 0.7714\n"
     ]
    },
    {
     "name": "stderr",
     "output_type": "stream",
     "text": [
      "100%|██████████| 246/246 [00:57<00:00,  4.26it/s]\n"
     ]
    },
    {
     "name": "stdout",
     "output_type": "stream",
     "text": [
      "Epoch 172/250: Train Loss: 0.3034, Train Accuracy: 86.8267, Train IOU: 0.7491, Test Loss: 0.2794, Test Accuracy: 87.2661, Test IOU: 0.7413\n"
     ]
    },
    {
     "name": "stderr",
     "output_type": "stream",
     "text": [
      "100%|██████████| 246/246 [00:56<00:00,  4.39it/s]\n"
     ]
    },
    {
     "name": "stdout",
     "output_type": "stream",
     "text": [
      "Epoch 173/250: Train Loss: 0.3010, Train Accuracy: 87.0455, Train IOU: 0.7538, Test Loss: 0.2732, Test Accuracy: 88.1663, Test IOU: 0.7643\n"
     ]
    },
    {
     "name": "stderr",
     "output_type": "stream",
     "text": [
      "100%|██████████| 246/246 [00:55<00:00,  4.45it/s]\n"
     ]
    },
    {
     "name": "stdout",
     "output_type": "stream",
     "text": [
      "Epoch 174/250: Train Loss: 0.3028, Train Accuracy: 86.8308, Train IOU: 0.7492, Test Loss: 0.2799, Test Accuracy: 88.2067, Test IOU: 0.7683\n"
     ]
    },
    {
     "name": "stderr",
     "output_type": "stream",
     "text": [
      "100%|██████████| 246/246 [00:55<00:00,  4.43it/s]\n"
     ]
    },
    {
     "name": "stdout",
     "output_type": "stream",
     "text": [
      "Epoch 175/250: Train Loss: 0.3050, Train Accuracy: 86.7344, Train IOU: 0.7474, Test Loss: 0.2749, Test Accuracy: 88.0213, Test IOU: 0.7612\n"
     ]
    },
    {
     "name": "stderr",
     "output_type": "stream",
     "text": [
      "100%|██████████| 246/246 [00:56<00:00,  4.37it/s]\n"
     ]
    },
    {
     "name": "stdout",
     "output_type": "stream",
     "text": [
      "Epoch 176/250: Train Loss: 0.3039, Train Accuracy: 86.8162, Train IOU: 0.7497, Test Loss: 0.2758, Test Accuracy: 88.0842, Test IOU: 0.7623\n"
     ]
    },
    {
     "name": "stderr",
     "output_type": "stream",
     "text": [
      "100%|██████████| 246/246 [00:55<00:00,  4.47it/s]\n"
     ]
    },
    {
     "name": "stdout",
     "output_type": "stream",
     "text": [
      "Epoch 177/250: Train Loss: 0.3081, Train Accuracy: 86.6928, Train IOU: 0.7468, Test Loss: 0.2757, Test Accuracy: 88.3925, Test IOU: 0.7714\n"
     ]
    },
    {
     "name": "stderr",
     "output_type": "stream",
     "text": [
      "100%|██████████| 246/246 [00:54<00:00,  4.49it/s]\n"
     ]
    },
    {
     "name": "stdout",
     "output_type": "stream",
     "text": [
      "Epoch 178/250: Train Loss: 0.3044, Train Accuracy: 86.8854, Train IOU: 0.7505, Test Loss: 0.2801, Test Accuracy: 88.2304, Test IOU: 0.7690\n"
     ]
    },
    {
     "name": "stderr",
     "output_type": "stream",
     "text": [
      "100%|██████████| 246/246 [00:54<00:00,  4.50it/s]\n"
     ]
    },
    {
     "name": "stdout",
     "output_type": "stream",
     "text": [
      "Epoch 179/250: Train Loss: 0.3066, Train Accuracy: 86.6156, Train IOU: 0.7446, Test Loss: 0.2803, Test Accuracy: 88.1571, Test IOU: 0.7675\n"
     ]
    },
    {
     "name": "stderr",
     "output_type": "stream",
     "text": [
      "100%|██████████| 246/246 [00:55<00:00,  4.46it/s]\n"
     ]
    },
    {
     "name": "stdout",
     "output_type": "stream",
     "text": [
      "Epoch 180/250: Train Loss: 0.3045, Train Accuracy: 86.9416, Train IOU: 0.7512, Test Loss: 0.2720, Test Accuracy: 88.0371, Test IOU: 0.7594\n"
     ]
    },
    {
     "name": "stderr",
     "output_type": "stream",
     "text": [
      "100%|██████████| 246/246 [00:55<00:00,  4.44it/s]\n"
     ]
    },
    {
     "name": "stdout",
     "output_type": "stream",
     "text": [
      "Epoch 181/250: Train Loss: 0.3046, Train Accuracy: 86.8624, Train IOU: 0.7500, Test Loss: 0.2814, Test Accuracy: 88.5891, Test IOU: 0.7788\n"
     ]
    },
    {
     "name": "stderr",
     "output_type": "stream",
     "text": [
      "100%|██████████| 246/246 [00:55<00:00,  4.45it/s]\n"
     ]
    },
    {
     "name": "stdout",
     "output_type": "stream",
     "text": [
      "Epoch 182/250: Train Loss: 0.2991, Train Accuracy: 87.1604, Train IOU: 0.7544, Test Loss: 0.2774, Test Accuracy: 87.7782, Test IOU: 0.7540\n"
     ]
    },
    {
     "name": "stderr",
     "output_type": "stream",
     "text": [
      "100%|██████████| 246/246 [00:55<00:00,  4.47it/s]\n"
     ]
    },
    {
     "name": "stdout",
     "output_type": "stream",
     "text": [
      "Epoch 183/250: Train Loss: 0.3041, Train Accuracy: 86.7465, Train IOU: 0.7478, Test Loss: 0.2757, Test Accuracy: 88.4568, Test IOU: 0.7735\n"
     ]
    },
    {
     "name": "stderr",
     "output_type": "stream",
     "text": [
      "100%|██████████| 246/246 [00:55<00:00,  4.47it/s]\n"
     ]
    },
    {
     "name": "stdout",
     "output_type": "stream",
     "text": [
      "Epoch 184/250: Train Loss: 0.2974, Train Accuracy: 87.0529, Train IOU: 0.7526, Test Loss: 0.2727, Test Accuracy: 88.1135, Test IOU: 0.7622\n"
     ]
    },
    {
     "name": "stderr",
     "output_type": "stream",
     "text": [
      "100%|██████████| 246/246 [01:03<00:00,  3.87it/s]\n"
     ]
    },
    {
     "name": "stdout",
     "output_type": "stream",
     "text": [
      "Epoch 185/250: Train Loss: 0.3020, Train Accuracy: 86.9977, Train IOU: 0.7531, Test Loss: 0.2720, Test Accuracy: 88.3546, Test IOU: 0.7693\n"
     ]
    },
    {
     "name": "stderr",
     "output_type": "stream",
     "text": [
      "100%|██████████| 246/246 [01:03<00:00,  3.87it/s]\n"
     ]
    },
    {
     "name": "stdout",
     "output_type": "stream",
     "text": [
      "Epoch 186/250: Train Loss: 0.3034, Train Accuracy: 86.7994, Train IOU: 0.7479, Test Loss: 0.2702, Test Accuracy: 88.1240, Test IOU: 0.7612\n"
     ]
    },
    {
     "name": "stderr",
     "output_type": "stream",
     "text": [
      "100%|██████████| 246/246 [03:14<00:00,  1.27it/s]\n"
     ]
    },
    {
     "name": "stdout",
     "output_type": "stream",
     "text": [
      "Epoch 187/250: Train Loss: 0.2992, Train Accuracy: 87.1516, Train IOU: 0.7553, Test Loss: 0.2721, Test Accuracy: 88.5914, Test IOU: 0.7752\n"
     ]
    },
    {
     "name": "stderr",
     "output_type": "stream",
     "text": [
      "100%|██████████| 246/246 [00:51<00:00,  4.74it/s]\n"
     ]
    },
    {
     "name": "stdout",
     "output_type": "stream",
     "text": [
      "Epoch 188/250: Train Loss: 0.2922, Train Accuracy: 87.3018, Train IOU: 0.7574, Test Loss: 0.2736, Test Accuracy: 88.6282, Test IOU: 0.7774\n"
     ]
    },
    {
     "name": "stderr",
     "output_type": "stream",
     "text": [
      "100%|██████████| 246/246 [00:52<00:00,  4.70it/s]\n"
     ]
    },
    {
     "name": "stdout",
     "output_type": "stream",
     "text": [
      "Epoch 189/250: Train Loss: 0.2996, Train Accuracy: 87.1026, Train IOU: 0.7539, Test Loss: 0.2750, Test Accuracy: 87.9698, Test IOU: 0.7600\n"
     ]
    },
    {
     "name": "stderr",
     "output_type": "stream",
     "text": [
      "100%|██████████| 246/246 [00:52<00:00,  4.69it/s]\n"
     ]
    },
    {
     "name": "stdout",
     "output_type": "stream",
     "text": [
      "Epoch 190/250: Train Loss: 0.3014, Train Accuracy: 87.1162, Train IOU: 0.7549, Test Loss: 0.2703, Test Accuracy: 88.5092, Test IOU: 0.7720\n"
     ]
    },
    {
     "name": "stderr",
     "output_type": "stream",
     "text": [
      "100%|██████████| 246/246 [00:52<00:00,  4.69it/s]\n"
     ]
    },
    {
     "name": "stdout",
     "output_type": "stream",
     "text": [
      "Epoch 191/250: Train Loss: 0.2971, Train Accuracy: 87.1285, Train IOU: 0.7537, Test Loss: 0.2726, Test Accuracy: 88.2533, Test IOU: 0.7663\n"
     ]
    },
    {
     "name": "stderr",
     "output_type": "stream",
     "text": [
      "100%|██████████| 246/246 [00:52<00:00,  4.68it/s]\n"
     ]
    },
    {
     "name": "stdout",
     "output_type": "stream",
     "text": [
      "Epoch 192/250: Train Loss: 0.3006, Train Accuracy: 87.0752, Train IOU: 0.7536, Test Loss: 0.2773, Test Accuracy: 88.5924, Test IOU: 0.7781\n"
     ]
    },
    {
     "name": "stderr",
     "output_type": "stream",
     "text": [
      "100%|██████████| 246/246 [00:52<00:00,  4.66it/s]\n"
     ]
    },
    {
     "name": "stdout",
     "output_type": "stream",
     "text": [
      "Epoch 193/250: Train Loss: 0.3009, Train Accuracy: 86.9899, Train IOU: 0.7518, Test Loss: 0.2729, Test Accuracy: 88.6396, Test IOU: 0.7770\n"
     ]
    },
    {
     "name": "stderr",
     "output_type": "stream",
     "text": [
      "100%|██████████| 246/246 [00:52<00:00,  4.66it/s]\n"
     ]
    },
    {
     "name": "stdout",
     "output_type": "stream",
     "text": [
      "Epoch 194/250: Train Loss: 0.3002, Train Accuracy: 87.0396, Train IOU: 0.7528, Test Loss: 0.2704, Test Accuracy: 88.4231, Test IOU: 0.7703\n"
     ]
    },
    {
     "name": "stderr",
     "output_type": "stream",
     "text": [
      "100%|██████████| 246/246 [00:53<00:00,  4.62it/s]\n"
     ]
    },
    {
     "name": "stdout",
     "output_type": "stream",
     "text": [
      "Epoch 195/250: Train Loss: 0.3015, Train Accuracy: 87.0082, Train IOU: 0.7527, Test Loss: 0.2845, Test Accuracy: 88.4728, Test IOU: 0.7774\n"
     ]
    },
    {
     "name": "stderr",
     "output_type": "stream",
     "text": [
      "100%|██████████| 246/246 [00:52<00:00,  4.65it/s]\n"
     ]
    },
    {
     "name": "stdout",
     "output_type": "stream",
     "text": [
      "Epoch 196/250: Train Loss: 0.2932, Train Accuracy: 87.4106, Train IOU: 0.7591, Test Loss: 0.2705, Test Accuracy: 88.5479, Test IOU: 0.7728\n"
     ]
    },
    {
     "name": "stderr",
     "output_type": "stream",
     "text": [
      "100%|██████████| 246/246 [00:52<00:00,  4.67it/s]\n"
     ]
    },
    {
     "name": "stdout",
     "output_type": "stream",
     "text": [
      "Epoch 197/250: Train Loss: 0.2977, Train Accuracy: 87.1675, Train IOU: 0.7555, Test Loss: 0.2776, Test Accuracy: 88.6262, Test IOU: 0.7789\n"
     ]
    },
    {
     "name": "stderr",
     "output_type": "stream",
     "text": [
      "100%|██████████| 246/246 [00:52<00:00,  4.65it/s]\n"
     ]
    },
    {
     "name": "stdout",
     "output_type": "stream",
     "text": [
      "Epoch 198/250: Train Loss: 0.2981, Train Accuracy: 87.3080, Train IOU: 0.7582, Test Loss: 0.2734, Test Accuracy: 88.6948, Test IOU: 0.7783\n"
     ]
    },
    {
     "name": "stderr",
     "output_type": "stream",
     "text": [
      "100%|██████████| 246/246 [00:53<00:00,  4.62it/s]\n"
     ]
    },
    {
     "name": "stdout",
     "output_type": "stream",
     "text": [
      "Epoch 199/250: Train Loss: 0.2985, Train Accuracy: 87.1398, Train IOU: 0.7539, Test Loss: 0.2688, Test Accuracy: 88.6079, Test IOU: 0.7744\n"
     ]
    },
    {
     "name": "stderr",
     "output_type": "stream",
     "text": [
      "100%|██████████| 246/246 [00:53<00:00,  4.62it/s]\n"
     ]
    },
    {
     "name": "stdout",
     "output_type": "stream",
     "text": [
      "Epoch 200/250: Train Loss: 0.2886, Train Accuracy: 87.5638, Train IOU: 0.7626, Test Loss: 0.2727, Test Accuracy: 88.1101, Test IOU: 0.7612\n"
     ]
    },
    {
     "name": "stderr",
     "output_type": "stream",
     "text": [
      "100%|██████████| 246/246 [00:53<00:00,  4.63it/s]\n"
     ]
    },
    {
     "name": "stdout",
     "output_type": "stream",
     "text": [
      "Epoch 201/250: Train Loss: 0.2946, Train Accuracy: 87.4108, Train IOU: 0.7594, Test Loss: 0.2803, Test Accuracy: 88.6022, Test IOU: 0.7789\n"
     ]
    },
    {
     "name": "stderr",
     "output_type": "stream",
     "text": [
      "100%|██████████| 246/246 [00:53<00:00,  4.63it/s]\n"
     ]
    },
    {
     "name": "stdout",
     "output_type": "stream",
     "text": [
      "Epoch 202/250: Train Loss: 0.2913, Train Accuracy: 87.5042, Train IOU: 0.7613, Test Loss: 0.2680, Test Accuracy: 88.2612, Test IOU: 0.7641\n"
     ]
    },
    {
     "name": "stderr",
     "output_type": "stream",
     "text": [
      "100%|██████████| 246/246 [00:52<00:00,  4.65it/s]\n"
     ]
    },
    {
     "name": "stdout",
     "output_type": "stream",
     "text": [
      "Epoch 203/250: Train Loss: 0.2950, Train Accuracy: 87.3238, Train IOU: 0.7580, Test Loss: 0.2703, Test Accuracy: 88.6494, Test IOU: 0.7752\n"
     ]
    },
    {
     "name": "stderr",
     "output_type": "stream",
     "text": [
      "100%|██████████| 246/246 [00:53<00:00,  4.64it/s]\n"
     ]
    },
    {
     "name": "stdout",
     "output_type": "stream",
     "text": [
      "Epoch 204/250: Train Loss: 0.2969, Train Accuracy: 87.4094, Train IOU: 0.7605, Test Loss: 0.2672, Test Accuracy: 88.1742, Test IOU: 0.7620\n"
     ]
    },
    {
     "name": "stderr",
     "output_type": "stream",
     "text": [
      "100%|██████████| 246/246 [00:53<00:00,  4.62it/s]\n"
     ]
    },
    {
     "name": "stdout",
     "output_type": "stream",
     "text": [
      "Epoch 205/250: Train Loss: 0.2914, Train Accuracy: 87.5386, Train IOU: 0.7619, Test Loss: 0.2710, Test Accuracy: 88.7577, Test IOU: 0.7799\n"
     ]
    },
    {
     "name": "stderr",
     "output_type": "stream",
     "text": [
      "100%|██████████| 246/246 [00:53<00:00,  4.62it/s]\n"
     ]
    },
    {
     "name": "stdout",
     "output_type": "stream",
     "text": [
      "Epoch 206/250: Train Loss: 0.2982, Train Accuracy: 87.2574, Train IOU: 0.7569, Test Loss: 0.2685, Test Accuracy: 88.6731, Test IOU: 0.7763\n"
     ]
    },
    {
     "name": "stderr",
     "output_type": "stream",
     "text": [
      "100%|██████████| 246/246 [00:53<00:00,  4.59it/s]\n"
     ]
    },
    {
     "name": "stdout",
     "output_type": "stream",
     "text": [
      "Epoch 207/250: Train Loss: 0.2902, Train Accuracy: 87.5855, Train IOU: 0.7631, Test Loss: 0.2711, Test Accuracy: 88.6868, Test IOU: 0.7776\n"
     ]
    },
    {
     "name": "stderr",
     "output_type": "stream",
     "text": [
      "100%|██████████| 246/246 [00:53<00:00,  4.61it/s]\n"
     ]
    },
    {
     "name": "stdout",
     "output_type": "stream",
     "text": [
      "Epoch 208/250: Train Loss: 0.2907, Train Accuracy: 87.5769, Train IOU: 0.7625, Test Loss: 0.2817, Test Accuracy: 88.3660, Test IOU: 0.7744\n"
     ]
    },
    {
     "name": "stderr",
     "output_type": "stream",
     "text": [
      "100%|██████████| 246/246 [00:53<00:00,  4.62it/s]\n"
     ]
    },
    {
     "name": "stdout",
     "output_type": "stream",
     "text": [
      "Epoch 209/250: Train Loss: 0.2925, Train Accuracy: 87.4400, Train IOU: 0.7596, Test Loss: 0.2690, Test Accuracy: 88.3748, Test IOU: 0.7677\n"
     ]
    },
    {
     "name": "stderr",
     "output_type": "stream",
     "text": [
      "100%|██████████| 246/246 [00:53<00:00,  4.62it/s]\n"
     ]
    },
    {
     "name": "stdout",
     "output_type": "stream",
     "text": [
      "Epoch 210/250: Train Loss: 0.2908, Train Accuracy: 87.5846, Train IOU: 0.7627, Test Loss: 0.2646, Test Accuracy: 88.5075, Test IOU: 0.7702\n"
     ]
    },
    {
     "name": "stderr",
     "output_type": "stream",
     "text": [
      "100%|██████████| 246/246 [00:53<00:00,  4.62it/s]\n"
     ]
    },
    {
     "name": "stdout",
     "output_type": "stream",
     "text": [
      "Epoch 211/250: Train Loss: 0.2946, Train Accuracy: 87.3989, Train IOU: 0.7594, Test Loss: 0.2660, Test Accuracy: 88.4248, Test IOU: 0.7672\n"
     ]
    },
    {
     "name": "stderr",
     "output_type": "stream",
     "text": [
      "100%|██████████| 246/246 [00:53<00:00,  4.60it/s]\n"
     ]
    },
    {
     "name": "stdout",
     "output_type": "stream",
     "text": [
      "Epoch 212/250: Train Loss: 0.2882, Train Accuracy: 87.6613, Train IOU: 0.7640, Test Loss: 0.2647, Test Accuracy: 88.4274, Test IOU: 0.7678\n"
     ]
    },
    {
     "name": "stderr",
     "output_type": "stream",
     "text": [
      "100%|██████████| 246/246 [00:53<00:00,  4.61it/s]\n"
     ]
    },
    {
     "name": "stdout",
     "output_type": "stream",
     "text": [
      "Epoch 213/250: Train Loss: 0.2937, Train Accuracy: 87.3887, Train IOU: 0.7587, Test Loss: 0.2705, Test Accuracy: 87.7581, Test IOU: 0.7507\n"
     ]
    },
    {
     "name": "stderr",
     "output_type": "stream",
     "text": [
      "100%|██████████| 246/246 [01:03<00:00,  3.88it/s]\n"
     ]
    },
    {
     "name": "stdout",
     "output_type": "stream",
     "text": [
      "Epoch 214/250: Train Loss: 0.2883, Train Accuracy: 87.6345, Train IOU: 0.7637, Test Loss: 0.2720, Test Accuracy: 88.0911, Test IOU: 0.7613\n"
     ]
    },
    {
     "name": "stderr",
     "output_type": "stream",
     "text": [
      "100%|██████████| 246/246 [02:17<00:00,  1.79it/s]\n"
     ]
    },
    {
     "name": "stdout",
     "output_type": "stream",
     "text": [
      "Epoch 215/250: Train Loss: 0.2845, Train Accuracy: 87.6361, Train IOU: 0.7626, Test Loss: 0.2803, Test Accuracy: 88.7954, Test IOU: 0.7847\n"
     ]
    },
    {
     "name": "stderr",
     "output_type": "stream",
     "text": [
      "100%|██████████| 246/246 [00:53<00:00,  4.62it/s]\n"
     ]
    },
    {
     "name": "stdout",
     "output_type": "stream",
     "text": [
      "Epoch 216/250: Train Loss: 0.2918, Train Accuracy: 87.4898, Train IOU: 0.7609, Test Loss: 0.2674, Test Accuracy: 88.6932, Test IOU: 0.7753\n"
     ]
    },
    {
     "name": "stderr",
     "output_type": "stream",
     "text": [
      "100%|██████████| 246/246 [00:54<00:00,  4.49it/s]\n"
     ]
    },
    {
     "name": "stdout",
     "output_type": "stream",
     "text": [
      "Epoch 217/250: Train Loss: 0.2897, Train Accuracy: 87.5749, Train IOU: 0.7629, Test Loss: 0.2663, Test Accuracy: 88.8863, Test IOU: 0.7807\n"
     ]
    },
    {
     "name": "stderr",
     "output_type": "stream",
     "text": [
      "100%|██████████| 246/246 [00:53<00:00,  4.59it/s]\n"
     ]
    },
    {
     "name": "stdout",
     "output_type": "stream",
     "text": [
      "Epoch 218/250: Train Loss: 0.2876, Train Accuracy: 87.6233, Train IOU: 0.7633, Test Loss: 0.2644, Test Accuracy: 88.7359, Test IOU: 0.7762\n"
     ]
    },
    {
     "name": "stderr",
     "output_type": "stream",
     "text": [
      "100%|██████████| 246/246 [00:53<00:00,  4.58it/s]\n"
     ]
    },
    {
     "name": "stdout",
     "output_type": "stream",
     "text": [
      "Epoch 219/250: Train Loss: 0.2905, Train Accuracy: 87.6490, Train IOU: 0.7637, Test Loss: 0.2662, Test Accuracy: 88.6138, Test IOU: 0.7742\n"
     ]
    },
    {
     "name": "stderr",
     "output_type": "stream",
     "text": [
      "100%|██████████| 246/246 [00:52<00:00,  4.65it/s]\n"
     ]
    },
    {
     "name": "stdout",
     "output_type": "stream",
     "text": [
      "Epoch 220/250: Train Loss: 0.2888, Train Accuracy: 87.6841, Train IOU: 0.7637, Test Loss: 0.2672, Test Accuracy: 88.9319, Test IOU: 0.7814\n"
     ]
    },
    {
     "name": "stderr",
     "output_type": "stream",
     "text": [
      "100%|██████████| 246/246 [00:53<00:00,  4.63it/s]\n"
     ]
    },
    {
     "name": "stdout",
     "output_type": "stream",
     "text": [
      "Epoch 221/250: Train Loss: 0.2927, Train Accuracy: 87.4733, Train IOU: 0.7607, Test Loss: 0.2648, Test Accuracy: 88.3967, Test IOU: 0.7658\n"
     ]
    },
    {
     "name": "stderr",
     "output_type": "stream",
     "text": [
      "100%|██████████| 246/246 [00:53<00:00,  4.62it/s]\n"
     ]
    },
    {
     "name": "stdout",
     "output_type": "stream",
     "text": [
      "Epoch 222/250: Train Loss: 0.2856, Train Accuracy: 87.8308, Train IOU: 0.7674, Test Loss: 0.2643, Test Accuracy: 88.6366, Test IOU: 0.7739\n"
     ]
    },
    {
     "name": "stderr",
     "output_type": "stream",
     "text": [
      "100%|██████████| 246/246 [00:53<00:00,  4.63it/s]\n"
     ]
    },
    {
     "name": "stdout",
     "output_type": "stream",
     "text": [
      "Epoch 223/250: Train Loss: 0.2837, Train Accuracy: 87.7401, Train IOU: 0.7652, Test Loss: 0.2633, Test Accuracy: 88.9004, Test IOU: 0.7804\n"
     ]
    },
    {
     "name": "stderr",
     "output_type": "stream",
     "text": [
      "100%|██████████| 246/246 [00:53<00:00,  4.60it/s]\n"
     ]
    },
    {
     "name": "stdout",
     "output_type": "stream",
     "text": [
      "Epoch 224/250: Train Loss: 0.2878, Train Accuracy: 87.6724, Train IOU: 0.7639, Test Loss: 0.2662, Test Accuracy: 88.7343, Test IOU: 0.7768\n"
     ]
    },
    {
     "name": "stderr",
     "output_type": "stream",
     "text": [
      "100%|██████████| 246/246 [00:53<00:00,  4.61it/s]\n"
     ]
    },
    {
     "name": "stdout",
     "output_type": "stream",
     "text": [
      "Epoch 225/250: Train Loss: 0.2916, Train Accuracy: 87.6461, Train IOU: 0.7643, Test Loss: 0.2642, Test Accuracy: 88.8432, Test IOU: 0.7791\n"
     ]
    },
    {
     "name": "stderr",
     "output_type": "stream",
     "text": [
      "100%|██████████| 246/246 [00:53<00:00,  4.60it/s]\n"
     ]
    },
    {
     "name": "stdout",
     "output_type": "stream",
     "text": [
      "Epoch 226/250: Train Loss: 0.2810, Train Accuracy: 88.1098, Train IOU: 0.7721, Test Loss: 0.2722, Test Accuracy: 88.9512, Test IOU: 0.7850\n"
     ]
    },
    {
     "name": "stderr",
     "output_type": "stream",
     "text": [
      "100%|██████████| 246/246 [00:53<00:00,  4.58it/s]\n"
     ]
    },
    {
     "name": "stdout",
     "output_type": "stream",
     "text": [
      "Epoch 227/250: Train Loss: 0.2818, Train Accuracy: 88.0564, Train IOU: 0.7710, Test Loss: 0.2695, Test Accuracy: 88.9795, Test IOU: 0.7846\n"
     ]
    },
    {
     "name": "stderr",
     "output_type": "stream",
     "text": [
      "100%|██████████| 246/246 [00:53<00:00,  4.60it/s]\n"
     ]
    },
    {
     "name": "stdout",
     "output_type": "stream",
     "text": [
      "Epoch 228/250: Train Loss: 0.2869, Train Accuracy: 87.8832, Train IOU: 0.7686, Test Loss: 0.2644, Test Accuracy: 88.7037, Test IOU: 0.7749\n"
     ]
    },
    {
     "name": "stderr",
     "output_type": "stream",
     "text": [
      "100%|██████████| 246/246 [00:53<00:00,  4.61it/s]\n"
     ]
    },
    {
     "name": "stdout",
     "output_type": "stream",
     "text": [
      "Epoch 229/250: Train Loss: 0.2841, Train Accuracy: 87.7688, Train IOU: 0.7655, Test Loss: 0.2606, Test Accuracy: 88.7601, Test IOU: 0.7746\n"
     ]
    },
    {
     "name": "stderr",
     "output_type": "stream",
     "text": [
      "100%|██████████| 246/246 [00:53<00:00,  4.58it/s]\n"
     ]
    },
    {
     "name": "stdout",
     "output_type": "stream",
     "text": [
      "Epoch 230/250: Train Loss: 0.2829, Train Accuracy: 87.9026, Train IOU: 0.7683, Test Loss: 0.2679, Test Accuracy: 88.8730, Test IOU: 0.7826\n"
     ]
    },
    {
     "name": "stderr",
     "output_type": "stream",
     "text": [
      "100%|██████████| 246/246 [00:53<00:00,  4.59it/s]\n"
     ]
    },
    {
     "name": "stdout",
     "output_type": "stream",
     "text": [
      "Epoch 231/250: Train Loss: 0.2827, Train Accuracy: 87.8995, Train IOU: 0.7685, Test Loss: 0.2620, Test Accuracy: 88.3310, Test IOU: 0.7633\n"
     ]
    },
    {
     "name": "stderr",
     "output_type": "stream",
     "text": [
      "100%|██████████| 246/246 [00:53<00:00,  4.59it/s]\n"
     ]
    },
    {
     "name": "stdout",
     "output_type": "stream",
     "text": [
      "Epoch 232/250: Train Loss: 0.2823, Train Accuracy: 87.9437, Train IOU: 0.7690, Test Loss: 0.2645, Test Accuracy: 88.9781, Test IOU: 0.7826\n"
     ]
    },
    {
     "name": "stderr",
     "output_type": "stream",
     "text": [
      "100%|██████████| 246/246 [00:53<00:00,  4.58it/s]\n"
     ]
    },
    {
     "name": "stdout",
     "output_type": "stream",
     "text": [
      "Epoch 233/250: Train Loss: 0.2857, Train Accuracy: 87.9371, Train IOU: 0.7693, Test Loss: 0.2614, Test Accuracy: 88.8090, Test IOU: 0.7766\n"
     ]
    },
    {
     "name": "stderr",
     "output_type": "stream",
     "text": [
      "100%|██████████| 246/246 [00:53<00:00,  4.59it/s]\n"
     ]
    },
    {
     "name": "stdout",
     "output_type": "stream",
     "text": [
      "Epoch 234/250: Train Loss: 0.2846, Train Accuracy: 87.9101, Train IOU: 0.7685, Test Loss: 0.2618, Test Accuracy: 89.0058, Test IOU: 0.7822\n"
     ]
    },
    {
     "name": "stderr",
     "output_type": "stream",
     "text": [
      "100%|██████████| 246/246 [00:53<00:00,  4.57it/s]\n"
     ]
    },
    {
     "name": "stdout",
     "output_type": "stream",
     "text": [
      "Epoch 235/250: Train Loss: 0.2831, Train Accuracy: 88.0507, Train IOU: 0.7715, Test Loss: 0.2647, Test Accuracy: 88.1519, Test IOU: 0.7594\n"
     ]
    },
    {
     "name": "stderr",
     "output_type": "stream",
     "text": [
      "100%|██████████| 246/246 [00:53<00:00,  4.59it/s]\n"
     ]
    },
    {
     "name": "stdout",
     "output_type": "stream",
     "text": [
      "Epoch 236/250: Train Loss: 0.2812, Train Accuracy: 87.9662, Train IOU: 0.7694, Test Loss: 0.2604, Test Accuracy: 88.6305, Test IOU: 0.7717\n"
     ]
    },
    {
     "name": "stderr",
     "output_type": "stream",
     "text": [
      "100%|██████████| 246/246 [00:53<00:00,  4.57it/s]\n"
     ]
    },
    {
     "name": "stdout",
     "output_type": "stream",
     "text": [
      "Epoch 237/250: Train Loss: 0.2761, Train Accuracy: 88.1912, Train IOU: 0.7732, Test Loss: 0.2596, Test Accuracy: 88.7628, Test IOU: 0.7744\n"
     ]
    },
    {
     "name": "stderr",
     "output_type": "stream",
     "text": [
      "100%|██████████| 246/246 [01:46<00:00,  2.30it/s]\n"
     ]
    },
    {
     "name": "stdout",
     "output_type": "stream",
     "text": [
      "Epoch 238/250: Train Loss: 0.2834, Train Accuracy: 87.8943, Train IOU: 0.7682, Test Loss: 0.2694, Test Accuracy: 88.2276, Test IOU: 0.7646\n"
     ]
    },
    {
     "name": "stderr",
     "output_type": "stream",
     "text": [
      "100%|██████████| 246/246 [02:19<00:00,  1.76it/s]\n"
     ]
    },
    {
     "name": "stdout",
     "output_type": "stream",
     "text": [
      "Epoch 239/250: Train Loss: 0.2829, Train Accuracy: 88.0276, Train IOU: 0.7705, Test Loss: 0.2740, Test Accuracy: 88.8392, Test IOU: 0.7841\n"
     ]
    },
    {
     "name": "stderr",
     "output_type": "stream",
     "text": [
      "100%|██████████| 246/246 [01:03<00:00,  3.89it/s]\n"
     ]
    },
    {
     "name": "stdout",
     "output_type": "stream",
     "text": [
      "Epoch 240/250: Train Loss: 0.2789, Train Accuracy: 88.1410, Train IOU: 0.7727, Test Loss: 0.2643, Test Accuracy: 89.1492, Test IOU: 0.7878\n"
     ]
    },
    {
     "name": "stderr",
     "output_type": "stream",
     "text": [
      "100%|██████████| 246/246 [01:14<00:00,  3.31it/s]\n"
     ]
    },
    {
     "name": "stdout",
     "output_type": "stream",
     "text": [
      "Epoch 241/250: Train Loss: 0.2798, Train Accuracy: 88.0462, Train IOU: 0.7704, Test Loss: 0.2604, Test Accuracy: 88.4430, Test IOU: 0.7660\n"
     ]
    },
    {
     "name": "stderr",
     "output_type": "stream",
     "text": [
      "100%|██████████| 246/246 [03:14<00:00,  1.26it/s]\n"
     ]
    },
    {
     "name": "stdout",
     "output_type": "stream",
     "text": [
      "Epoch 242/250: Train Loss: 0.2824, Train Accuracy: 88.0245, Train IOU: 0.7705, Test Loss: 0.2693, Test Accuracy: 89.0611, Test IOU: 0.7875\n"
     ]
    },
    {
     "name": "stderr",
     "output_type": "stream",
     "text": [
      "100%|██████████| 246/246 [03:14<00:00,  1.26it/s]\n"
     ]
    },
    {
     "name": "stdout",
     "output_type": "stream",
     "text": [
      "Epoch 243/250: Train Loss: 0.2802, Train Accuracy: 88.0876, Train IOU: 0.7712, Test Loss: 0.2649, Test Accuracy: 89.0645, Test IOU: 0.7851\n"
     ]
    },
    {
     "name": "stderr",
     "output_type": "stream",
     "text": [
      "100%|██████████| 246/246 [01:13<00:00,  3.34it/s]\n"
     ]
    },
    {
     "name": "stdout",
     "output_type": "stream",
     "text": [
      "Epoch 244/250: Train Loss: 0.2831, Train Accuracy: 88.0146, Train IOU: 0.7710, Test Loss: 0.2605, Test Accuracy: 88.9813, Test IOU: 0.7813\n"
     ]
    },
    {
     "name": "stderr",
     "output_type": "stream",
     "text": [
      "100%|██████████| 246/246 [03:14<00:00,  1.26it/s]\n"
     ]
    },
    {
     "name": "stdout",
     "output_type": "stream",
     "text": [
      "Epoch 245/250: Train Loss: 0.2774, Train Accuracy: 88.1376, Train IOU: 0.7720, Test Loss: 0.2755, Test Accuracy: 89.0084, Test IOU: 0.7895\n"
     ]
    },
    {
     "name": "stderr",
     "output_type": "stream",
     "text": [
      "100%|██████████| 246/246 [01:12<00:00,  3.41it/s]\n"
     ]
    },
    {
     "name": "stdout",
     "output_type": "stream",
     "text": [
      "Epoch 246/250: Train Loss: 0.2807, Train Accuracy: 87.8980, Train IOU: 0.7678, Test Loss: 0.2607, Test Accuracy: 88.8095, Test IOU: 0.7760\n"
     ]
    },
    {
     "name": "stderr",
     "output_type": "stream",
     "text": [
      "100%|██████████| 246/246 [03:14<00:00,  1.26it/s]\n"
     ]
    },
    {
     "name": "stdout",
     "output_type": "stream",
     "text": [
      "Epoch 247/250: Train Loss: 0.2703, Train Accuracy: 88.4708, Train IOU: 0.7785, Test Loss: 0.2589, Test Accuracy: 88.8395, Test IOU: 0.7764\n"
     ]
    },
    {
     "name": "stderr",
     "output_type": "stream",
     "text": [
      "100%|██████████| 246/246 [01:17<00:00,  3.16it/s]\n"
     ]
    },
    {
     "name": "stdout",
     "output_type": "stream",
     "text": [
      "Epoch 248/250: Train Loss: 0.2797, Train Accuracy: 87.9924, Train IOU: 0.7702, Test Loss: 0.2587, Test Accuracy: 88.9020, Test IOU: 0.7778\n"
     ]
    },
    {
     "name": "stderr",
     "output_type": "stream",
     "text": [
      "100%|██████████| 246/246 [01:15<00:00,  3.24it/s]\n"
     ]
    },
    {
     "name": "stdout",
     "output_type": "stream",
     "text": [
      "Epoch 249/250: Train Loss: 0.2769, Train Accuracy: 88.2182, Train IOU: 0.7743, Test Loss: 0.2580, Test Accuracy: 88.7707, Test IOU: 0.7740\n"
     ]
    },
    {
     "name": "stderr",
     "output_type": "stream",
     "text": [
      "100%|██████████| 246/246 [01:18<00:00,  3.12it/s]\n"
     ]
    },
    {
     "name": "stdout",
     "output_type": "stream",
     "text": [
      "Epoch 250/250: Train Loss: 0.2743, Train Accuracy: 88.3546, Train IOU: 0.7766, Test Loss: 0.2603, Test Accuracy: 89.0760, Test IOU: 0.7837\n",
      "Training deeplabv3+\n"
     ]
    },
    {
     "name": "stderr",
     "output_type": "stream",
     "text": [
      "100%|██████████| 246/246 [01:00<00:00,  4.07it/s]\n"
     ]
    },
    {
     "name": "stdout",
     "output_type": "stream",
     "text": [
      "Epoch 1/250: Train Loss: 0.6951, Train Accuracy: 51.6704, Train IOU: 0.0300, Test Loss: 0.7930, Test Accuracy: 53.2291, Test IOU: 0.0038\n"
     ]
    },
    {
     "name": "stderr",
     "output_type": "stream",
     "text": [
      "100%|██████████| 246/246 [01:00<00:00,  4.10it/s]\n"
     ]
    },
    {
     "name": "stdout",
     "output_type": "stream",
     "text": [
      "Epoch 2/250: Train Loss: 0.6670, Train Accuracy: 53.4396, Train IOU: 0.0684, Test Loss: 0.6467, Test Accuracy: 61.2022, Test IOU: 0.2254\n"
     ]
    },
    {
     "name": "stderr",
     "output_type": "stream",
     "text": [
      "100%|██████████| 246/246 [01:00<00:00,  4.09it/s]\n"
     ]
    },
    {
     "name": "stdout",
     "output_type": "stream",
     "text": [
      "Epoch 3/250: Train Loss: 0.6423, Train Accuracy: 56.5499, Train IOU: 0.1394, Test Loss: 0.6180, Test Accuracy: 66.3322, Test IOU: 0.3495\n"
     ]
    },
    {
     "name": "stderr",
     "output_type": "stream",
     "text": [
      "100%|██████████| 246/246 [01:04<00:00,  3.84it/s]\n"
     ]
    },
    {
     "name": "stdout",
     "output_type": "stream",
     "text": [
      "Epoch 4/250: Train Loss: 0.6176, Train Accuracy: 60.5558, Train IOU: 0.2354, Test Loss: 0.5939, Test Accuracy: 69.6090, Test IOU: 0.4340\n"
     ]
    },
    {
     "name": "stderr",
     "output_type": "stream",
     "text": [
      "100%|██████████| 246/246 [00:59<00:00,  4.11it/s]\n"
     ]
    },
    {
     "name": "stdout",
     "output_type": "stream",
     "text": [
      "Epoch 5/250: Train Loss: 0.5949, Train Accuracy: 64.2049, Train IOU: 0.3184, Test Loss: 0.5675, Test Accuracy: 71.9459, Test IOU: 0.4890\n"
     ]
    },
    {
     "name": "stderr",
     "output_type": "stream",
     "text": [
      "100%|██████████| 246/246 [01:00<00:00,  4.09it/s]\n"
     ]
    },
    {
     "name": "stdout",
     "output_type": "stream",
     "text": [
      "Epoch 6/250: Train Loss: 0.5713, Train Accuracy: 67.5197, Train IOU: 0.3960, Test Loss: 0.5465, Test Accuracy: 73.7699, Test IOU: 0.5292\n"
     ]
    },
    {
     "name": "stderr",
     "output_type": "stream",
     "text": [
      "100%|██████████| 246/246 [00:59<00:00,  4.10it/s]\n"
     ]
    },
    {
     "name": "stdout",
     "output_type": "stream",
     "text": [
      "Epoch 7/250: Train Loss: 0.5548, Train Accuracy: 69.5741, Train IOU: 0.4386, Test Loss: 0.5245, Test Accuracy: 75.0723, Test IOU: 0.5506\n"
     ]
    },
    {
     "name": "stderr",
     "output_type": "stream",
     "text": [
      "100%|██████████| 246/246 [01:00<00:00,  4.08it/s]\n"
     ]
    },
    {
     "name": "stdout",
     "output_type": "stream",
     "text": [
      "Epoch 8/250: Train Loss: 0.5422, Train Accuracy: 70.9997, Train IOU: 0.4677, Test Loss: 0.5108, Test Accuracy: 76.1915, Test IOU: 0.5717\n"
     ]
    },
    {
     "name": "stderr",
     "output_type": "stream",
     "text": [
      "100%|██████████| 246/246 [01:00<00:00,  4.10it/s]\n"
     ]
    },
    {
     "name": "stdout",
     "output_type": "stream",
     "text": [
      "Epoch 9/250: Train Loss: 0.5287, Train Accuracy: 72.1136, Train IOU: 0.4893, Test Loss: 0.4953, Test Accuracy: 76.7328, Test IOU: 0.5755\n"
     ]
    },
    {
     "name": "stderr",
     "output_type": "stream",
     "text": [
      "100%|██████████| 246/246 [01:00<00:00,  4.09it/s]\n"
     ]
    },
    {
     "name": "stdout",
     "output_type": "stream",
     "text": [
      "Epoch 10/250: Train Loss: 0.5140, Train Accuracy: 73.6255, Train IOU: 0.5184, Test Loss: 0.4822, Test Accuracy: 77.6066, Test IOU: 0.5913\n"
     ]
    },
    {
     "name": "stderr",
     "output_type": "stream",
     "text": [
      "100%|██████████| 246/246 [01:13<00:00,  3.36it/s]\n"
     ]
    },
    {
     "name": "stdout",
     "output_type": "stream",
     "text": [
      "Epoch 11/250: Train Loss: 0.5008, Train Accuracy: 74.3227, Train IOU: 0.5305, Test Loss: 0.4762, Test Accuracy: 78.3631, Test IOU: 0.6078\n"
     ]
    },
    {
     "name": "stderr",
     "output_type": "stream",
     "text": [
      "100%|██████████| 246/246 [01:40<00:00,  2.45it/s]\n"
     ]
    },
    {
     "name": "stdout",
     "output_type": "stream",
     "text": [
      "Epoch 12/250: Train Loss: 0.4957, Train Accuracy: 74.9778, Train IOU: 0.5428, Test Loss: 0.4656, Test Accuracy: 78.6912, Test IOU: 0.6122\n"
     ]
    },
    {
     "name": "stderr",
     "output_type": "stream",
     "text": [
      "100%|██████████| 246/246 [01:00<00:00,  4.10it/s]\n"
     ]
    },
    {
     "name": "stdout",
     "output_type": "stream",
     "text": [
      "Epoch 13/250: Train Loss: 0.4842, Train Accuracy: 75.7151, Train IOU: 0.5554, Test Loss: 0.4546, Test Accuracy: 79.2706, Test IOU: 0.6168\n"
     ]
    },
    {
     "name": "stderr",
     "output_type": "stream",
     "text": [
      "100%|██████████| 246/246 [00:59<00:00,  4.11it/s]\n"
     ]
    },
    {
     "name": "stdout",
     "output_type": "stream",
     "text": [
      "Epoch 14/250: Train Loss: 0.4766, Train Accuracy: 76.3273, Train IOU: 0.5658, Test Loss: 0.4443, Test Accuracy: 79.7445, Test IOU: 0.6228\n"
     ]
    },
    {
     "name": "stderr",
     "output_type": "stream",
     "text": [
      "100%|██████████| 246/246 [01:12<00:00,  3.39it/s]\n"
     ]
    },
    {
     "name": "stdout",
     "output_type": "stream",
     "text": [
      "Epoch 15/250: Train Loss: 0.4697, Train Accuracy: 76.9129, Train IOU: 0.5782, Test Loss: 0.4390, Test Accuracy: 80.2021, Test IOU: 0.6331\n"
     ]
    },
    {
     "name": "stderr",
     "output_type": "stream",
     "text": [
      "100%|██████████| 246/246 [01:15<00:00,  3.27it/s]\n"
     ]
    },
    {
     "name": "stdout",
     "output_type": "stream",
     "text": [
      "Epoch 16/250: Train Loss: 0.4682, Train Accuracy: 76.8511, Train IOU: 0.5755, Test Loss: 0.4361, Test Accuracy: 80.7137, Test IOU: 0.6441\n"
     ]
    },
    {
     "name": "stderr",
     "output_type": "stream",
     "text": [
      "100%|██████████| 246/246 [01:13<00:00,  3.35it/s]\n"
     ]
    },
    {
     "name": "stdout",
     "output_type": "stream",
     "text": [
      "Epoch 17/250: Train Loss: 0.4579, Train Accuracy: 77.6432, Train IOU: 0.5895, Test Loss: 0.4277, Test Accuracy: 81.0982, Test IOU: 0.6501\n"
     ]
    },
    {
     "name": "stderr",
     "output_type": "stream",
     "text": [
      "100%|██████████| 246/246 [01:13<00:00,  3.35it/s]\n"
     ]
    },
    {
     "name": "stdout",
     "output_type": "stream",
     "text": [
      "Epoch 18/250: Train Loss: 0.4534, Train Accuracy: 77.7947, Train IOU: 0.5919, Test Loss: 0.4187, Test Accuracy: 81.3794, Test IOU: 0.6510\n"
     ]
    },
    {
     "name": "stderr",
     "output_type": "stream",
     "text": [
      "100%|██████████| 246/246 [01:00<00:00,  4.10it/s]\n"
     ]
    },
    {
     "name": "stdout",
     "output_type": "stream",
     "text": [
      "Epoch 19/250: Train Loss: 0.4503, Train Accuracy: 78.1015, Train IOU: 0.5973, Test Loss: 0.4132, Test Accuracy: 81.6840, Test IOU: 0.6564\n"
     ]
    },
    {
     "name": "stderr",
     "output_type": "stream",
     "text": [
      "100%|██████████| 246/246 [01:00<00:00,  4.06it/s]\n"
     ]
    },
    {
     "name": "stdout",
     "output_type": "stream",
     "text": [
      "Epoch 20/250: Train Loss: 0.4446, Train Accuracy: 78.2493, Train IOU: 0.5986, Test Loss: 0.4065, Test Accuracy: 81.7500, Test IOU: 0.6504\n"
     ]
    },
    {
     "name": "stderr",
     "output_type": "stream",
     "text": [
      "100%|██████████| 246/246 [01:13<00:00,  3.37it/s]\n"
     ]
    },
    {
     "name": "stdout",
     "output_type": "stream",
     "text": [
      "Epoch 21/250: Train Loss: 0.4449, Train Accuracy: 78.6874, Train IOU: 0.6090, Test Loss: 0.4047, Test Accuracy: 82.2155, Test IOU: 0.6671\n"
     ]
    },
    {
     "name": "stderr",
     "output_type": "stream",
     "text": [
      "100%|██████████| 246/246 [01:00<00:00,  4.09it/s]\n"
     ]
    },
    {
     "name": "stdout",
     "output_type": "stream",
     "text": [
      "Epoch 22/250: Train Loss: 0.4347, Train Accuracy: 79.1521, Train IOU: 0.6142, Test Loss: 0.3964, Test Accuracy: 82.4468, Test IOU: 0.6646\n"
     ]
    },
    {
     "name": "stderr",
     "output_type": "stream",
     "text": [
      "100%|██████████| 246/246 [00:59<00:00,  4.10it/s]\n"
     ]
    },
    {
     "name": "stdout",
     "output_type": "stream",
     "text": [
      "Epoch 23/250: Train Loss: 0.4344, Train Accuracy: 79.4334, Train IOU: 0.6216, Test Loss: 0.3971, Test Accuracy: 82.8629, Test IOU: 0.6769\n"
     ]
    },
    {
     "name": "stderr",
     "output_type": "stream",
     "text": [
      "100%|██████████| 246/246 [01:00<00:00,  4.09it/s]\n"
     ]
    },
    {
     "name": "stdout",
     "output_type": "stream",
     "text": [
      "Epoch 24/250: Train Loss: 0.4239, Train Accuracy: 79.8696, Train IOU: 0.6280, Test Loss: 0.3959, Test Accuracy: 82.9437, Test IOU: 0.6816\n"
     ]
    },
    {
     "name": "stderr",
     "output_type": "stream",
     "text": [
      "100%|██████████| 246/246 [01:00<00:00,  4.09it/s]\n"
     ]
    },
    {
     "name": "stdout",
     "output_type": "stream",
     "text": [
      "Epoch 25/250: Train Loss: 0.4254, Train Accuracy: 79.5842, Train IOU: 0.6228, Test Loss: 0.3869, Test Accuracy: 83.1536, Test IOU: 0.6799\n"
     ]
    },
    {
     "name": "stderr",
     "output_type": "stream",
     "text": [
      "100%|██████████| 246/246 [01:00<00:00,  4.08it/s]\n"
     ]
    },
    {
     "name": "stdout",
     "output_type": "stream",
     "text": [
      "Epoch 26/250: Train Loss: 0.4154, Train Accuracy: 80.2998, Train IOU: 0.6338, Test Loss: 0.3851, Test Accuracy: 83.4987, Test IOU: 0.6873\n"
     ]
    },
    {
     "name": "stderr",
     "output_type": "stream",
     "text": [
      "100%|██████████| 246/246 [00:59<00:00,  4.10it/s]\n"
     ]
    },
    {
     "name": "stdout",
     "output_type": "stream",
     "text": [
      "Epoch 27/250: Train Loss: 0.4173, Train Accuracy: 80.1293, Train IOU: 0.6312, Test Loss: 0.3828, Test Accuracy: 83.6568, Test IOU: 0.6917\n"
     ]
    },
    {
     "name": "stderr",
     "output_type": "stream",
     "text": [
      "100%|██████████| 246/246 [01:00<00:00,  4.10it/s]\n"
     ]
    },
    {
     "name": "stdout",
     "output_type": "stream",
     "text": [
      "Epoch 28/250: Train Loss: 0.4094, Train Accuracy: 80.7436, Train IOU: 0.6421, Test Loss: 0.3783, Test Accuracy: 83.6339, Test IOU: 0.6841\n"
     ]
    },
    {
     "name": "stderr",
     "output_type": "stream",
     "text": [
      "100%|██████████| 246/246 [01:00<00:00,  4.10it/s]\n"
     ]
    },
    {
     "name": "stdout",
     "output_type": "stream",
     "text": [
      "Epoch 29/250: Train Loss: 0.4110, Train Accuracy: 80.8513, Train IOU: 0.6445, Test Loss: 0.3716, Test Accuracy: 83.7815, Test IOU: 0.6860\n"
     ]
    },
    {
     "name": "stderr",
     "output_type": "stream",
     "text": [
      "100%|██████████| 246/246 [01:13<00:00,  3.35it/s]\n"
     ]
    },
    {
     "name": "stdout",
     "output_type": "stream",
     "text": [
      "Epoch 30/250: Train Loss: 0.4032, Train Accuracy: 80.9606, Train IOU: 0.6462, Test Loss: 0.3694, Test Accuracy: 84.1255, Test IOU: 0.6957\n"
     ]
    },
    {
     "name": "stderr",
     "output_type": "stream",
     "text": [
      "100%|██████████| 246/246 [01:00<00:00,  4.08it/s]\n"
     ]
    },
    {
     "name": "stdout",
     "output_type": "stream",
     "text": [
      "Epoch 31/250: Train Loss: 0.4026, Train Accuracy: 81.1010, Train IOU: 0.6489, Test Loss: 0.3678, Test Accuracy: 84.2232, Test IOU: 0.6966\n"
     ]
    },
    {
     "name": "stderr",
     "output_type": "stream",
     "text": [
      "100%|██████████| 246/246 [01:00<00:00,  4.10it/s]\n"
     ]
    },
    {
     "name": "stdout",
     "output_type": "stream",
     "text": [
      "Epoch 32/250: Train Loss: 0.3979, Train Accuracy: 81.3738, Train IOU: 0.6537, Test Loss: 0.3680, Test Accuracy: 84.3853, Test IOU: 0.6972\n"
     ]
    },
    {
     "name": "stderr",
     "output_type": "stream",
     "text": [
      "100%|██████████| 246/246 [00:59<00:00,  4.11it/s]\n"
     ]
    },
    {
     "name": "stdout",
     "output_type": "stream",
     "text": [
      "Epoch 33/250: Train Loss: 0.3984, Train Accuracy: 81.4516, Train IOU: 0.6551, Test Loss: 0.3586, Test Accuracy: 84.3505, Test IOU: 0.6956\n"
     ]
    },
    {
     "name": "stderr",
     "output_type": "stream",
     "text": [
      "100%|██████████| 246/246 [00:59<00:00,  4.11it/s]\n"
     ]
    },
    {
     "name": "stdout",
     "output_type": "stream",
     "text": [
      "Epoch 34/250: Train Loss: 0.3972, Train Accuracy: 81.3027, Train IOU: 0.6519, Test Loss: 0.3646, Test Accuracy: 84.7092, Test IOU: 0.7073\n"
     ]
    },
    {
     "name": "stderr",
     "output_type": "stream",
     "text": [
      "100%|██████████| 246/246 [01:02<00:00,  3.95it/s]\n"
     ]
    },
    {
     "name": "stdout",
     "output_type": "stream",
     "text": [
      "Epoch 35/250: Train Loss: 0.3977, Train Accuracy: 81.4785, Train IOU: 0.6554, Test Loss: 0.3597, Test Accuracy: 84.9107, Test IOU: 0.7109\n"
     ]
    },
    {
     "name": "stderr",
     "output_type": "stream",
     "text": [
      "100%|██████████| 246/246 [00:48<00:00,  5.10it/s]\n"
     ]
    },
    {
     "name": "stdout",
     "output_type": "stream",
     "text": [
      "Epoch 36/250: Train Loss: 0.3980, Train Accuracy: 81.3328, Train IOU: 0.6534, Test Loss: 0.3536, Test Accuracy: 84.5124, Test IOU: 0.6942\n"
     ]
    },
    {
     "name": "stderr",
     "output_type": "stream",
     "text": [
      "100%|██████████| 246/246 [00:49<00:00,  4.98it/s]\n"
     ]
    },
    {
     "name": "stdout",
     "output_type": "stream",
     "text": [
      "Epoch 37/250: Train Loss: 0.3929, Train Accuracy: 81.8939, Train IOU: 0.6624, Test Loss: 0.3543, Test Accuracy: 84.8836, Test IOU: 0.7069\n"
     ]
    },
    {
     "name": "stderr",
     "output_type": "stream",
     "text": [
      "100%|██████████| 246/246 [00:49<00:00,  4.94it/s]\n"
     ]
    },
    {
     "name": "stdout",
     "output_type": "stream",
     "text": [
      "Epoch 38/250: Train Loss: 0.3897, Train Accuracy: 81.7888, Train IOU: 0.6612, Test Loss: 0.3498, Test Accuracy: 85.2287, Test IOU: 0.7136\n"
     ]
    },
    {
     "name": "stderr",
     "output_type": "stream",
     "text": [
      "100%|██████████| 246/246 [00:49<00:00,  4.93it/s]\n"
     ]
    },
    {
     "name": "stdout",
     "output_type": "stream",
     "text": [
      "Epoch 39/250: Train Loss: 0.3902, Train Accuracy: 81.9457, Train IOU: 0.6635, Test Loss: 0.3516, Test Accuracy: 85.2712, Test IOU: 0.7177\n"
     ]
    },
    {
     "name": "stderr",
     "output_type": "stream",
     "text": [
      "100%|██████████| 246/246 [00:50<00:00,  4.88it/s]\n"
     ]
    },
    {
     "name": "stdout",
     "output_type": "stream",
     "text": [
      "Epoch 40/250: Train Loss: 0.3817, Train Accuracy: 82.2894, Train IOU: 0.6693, Test Loss: 0.3469, Test Accuracy: 85.4272, Test IOU: 0.7187\n"
     ]
    },
    {
     "name": "stderr",
     "output_type": "stream",
     "text": [
      "100%|██████████| 246/246 [00:50<00:00,  4.86it/s]\n"
     ]
    },
    {
     "name": "stdout",
     "output_type": "stream",
     "text": [
      "Epoch 41/250: Train Loss: 0.3840, Train Accuracy: 82.1386, Train IOU: 0.6667, Test Loss: 0.3453, Test Accuracy: 85.2201, Test IOU: 0.7085\n"
     ]
    },
    {
     "name": "stderr",
     "output_type": "stream",
     "text": [
      "100%|██████████| 246/246 [00:49<00:00,  4.95it/s]\n"
     ]
    },
    {
     "name": "stdout",
     "output_type": "stream",
     "text": [
      "Epoch 42/250: Train Loss: 0.3933, Train Accuracy: 81.6226, Train IOU: 0.6600, Test Loss: 0.3421, Test Accuracy: 85.5071, Test IOU: 0.7184\n"
     ]
    },
    {
     "name": "stderr",
     "output_type": "stream",
     "text": [
      "100%|██████████| 246/246 [00:50<00:00,  4.92it/s]\n"
     ]
    },
    {
     "name": "stdout",
     "output_type": "stream",
     "text": [
      "Epoch 43/250: Train Loss: 0.3846, Train Accuracy: 82.2892, Train IOU: 0.6691, Test Loss: 0.3422, Test Accuracy: 85.5635, Test IOU: 0.7186\n"
     ]
    },
    {
     "name": "stderr",
     "output_type": "stream",
     "text": [
      "100%|██████████| 246/246 [00:49<00:00,  4.94it/s]\n"
     ]
    },
    {
     "name": "stdout",
     "output_type": "stream",
     "text": [
      "Epoch 44/250: Train Loss: 0.3829, Train Accuracy: 82.4750, Train IOU: 0.6739, Test Loss: 0.3429, Test Accuracy: 85.6959, Test IOU: 0.7246\n"
     ]
    },
    {
     "name": "stderr",
     "output_type": "stream",
     "text": [
      "100%|██████████| 246/246 [00:50<00:00,  4.90it/s]\n"
     ]
    },
    {
     "name": "stdout",
     "output_type": "stream",
     "text": [
      "Epoch 45/250: Train Loss: 0.3838, Train Accuracy: 82.2704, Train IOU: 0.6691, Test Loss: 0.3414, Test Accuracy: 85.6928, Test IOU: 0.7235\n"
     ]
    },
    {
     "name": "stderr",
     "output_type": "stream",
     "text": [
      "100%|██████████| 246/246 [00:50<00:00,  4.90it/s]\n"
     ]
    },
    {
     "name": "stdout",
     "output_type": "stream",
     "text": [
      "Epoch 46/250: Train Loss: 0.3754, Train Accuracy: 82.6173, Train IOU: 0.6751, Test Loss: 0.3388, Test Accuracy: 85.7748, Test IOU: 0.7245\n"
     ]
    },
    {
     "name": "stderr",
     "output_type": "stream",
     "text": [
      "100%|██████████| 246/246 [00:49<00:00,  4.93it/s]\n"
     ]
    },
    {
     "name": "stdout",
     "output_type": "stream",
     "text": [
      "Epoch 47/250: Train Loss: 0.3763, Train Accuracy: 82.7807, Train IOU: 0.6780, Test Loss: 0.3359, Test Accuracy: 85.9185, Test IOU: 0.7270\n"
     ]
    },
    {
     "name": "stderr",
     "output_type": "stream",
     "text": [
      "100%|██████████| 246/246 [00:49<00:00,  4.95it/s]\n"
     ]
    },
    {
     "name": "stdout",
     "output_type": "stream",
     "text": [
      "Epoch 48/250: Train Loss: 0.3829, Train Accuracy: 82.2663, Train IOU: 0.6708, Test Loss: 0.3334, Test Accuracy: 85.9169, Test IOU: 0.7240\n"
     ]
    },
    {
     "name": "stderr",
     "output_type": "stream",
     "text": [
      "100%|██████████| 246/246 [00:49<00:00,  4.93it/s]\n"
     ]
    },
    {
     "name": "stdout",
     "output_type": "stream",
     "text": [
      "Epoch 49/250: Train Loss: 0.3725, Train Accuracy: 82.7693, Train IOU: 0.6774, Test Loss: 0.3332, Test Accuracy: 86.0071, Test IOU: 0.7267\n"
     ]
    },
    {
     "name": "stderr",
     "output_type": "stream",
     "text": [
      "100%|██████████| 246/246 [00:50<00:00,  4.92it/s]\n"
     ]
    },
    {
     "name": "stdout",
     "output_type": "stream",
     "text": [
      "Epoch 50/250: Train Loss: 0.3758, Train Accuracy: 82.6702, Train IOU: 0.6760, Test Loss: 0.3377, Test Accuracy: 86.0519, Test IOU: 0.7298\n"
     ]
    },
    {
     "name": "stderr",
     "output_type": "stream",
     "text": [
      "100%|██████████| 246/246 [00:50<00:00,  4.91it/s]\n"
     ]
    },
    {
     "name": "stdout",
     "output_type": "stream",
     "text": [
      "Epoch 51/250: Train Loss: 0.3717, Train Accuracy: 82.9328, Train IOU: 0.6806, Test Loss: 0.3338, Test Accuracy: 86.2846, Test IOU: 0.7361\n"
     ]
    },
    {
     "name": "stderr",
     "output_type": "stream",
     "text": [
      "100%|██████████| 246/246 [00:49<00:00,  4.93it/s]\n"
     ]
    },
    {
     "name": "stdout",
     "output_type": "stream",
     "text": [
      "Epoch 52/250: Train Loss: 0.3691, Train Accuracy: 83.0974, Train IOU: 0.6837, Test Loss: 0.3326, Test Accuracy: 86.1887, Test IOU: 0.7320\n"
     ]
    },
    {
     "name": "stderr",
     "output_type": "stream",
     "text": [
      "100%|██████████| 246/246 [00:50<00:00,  4.90it/s]\n"
     ]
    },
    {
     "name": "stdout",
     "output_type": "stream",
     "text": [
      "Epoch 53/250: Train Loss: 0.3711, Train Accuracy: 82.9508, Train IOU: 0.6806, Test Loss: 0.3279, Test Accuracy: 86.1892, Test IOU: 0.7287\n"
     ]
    },
    {
     "name": "stderr",
     "output_type": "stream",
     "text": [
      "100%|██████████| 246/246 [00:49<00:00,  4.95it/s]\n"
     ]
    },
    {
     "name": "stdout",
     "output_type": "stream",
     "text": [
      "Epoch 54/250: Train Loss: 0.3703, Train Accuracy: 83.0966, Train IOU: 0.6842, Test Loss: 0.3286, Test Accuracy: 86.4079, Test IOU: 0.7355\n"
     ]
    },
    {
     "name": "stderr",
     "output_type": "stream",
     "text": [
      "100%|██████████| 246/246 [00:50<00:00,  4.92it/s]\n"
     ]
    },
    {
     "name": "stdout",
     "output_type": "stream",
     "text": [
      "Epoch 55/250: Train Loss: 0.3688, Train Accuracy: 83.0042, Train IOU: 0.6816, Test Loss: 0.3282, Test Accuracy: 86.4084, Test IOU: 0.7360\n"
     ]
    },
    {
     "name": "stderr",
     "output_type": "stream",
     "text": [
      "100%|██████████| 246/246 [00:49<00:00,  4.93it/s]\n"
     ]
    },
    {
     "name": "stdout",
     "output_type": "stream",
     "text": [
      "Epoch 56/250: Train Loss: 0.3635, Train Accuracy: 83.2677, Train IOU: 0.6865, Test Loss: 0.3263, Test Accuracy: 86.5107, Test IOU: 0.7380\n"
     ]
    },
    {
     "name": "stderr",
     "output_type": "stream",
     "text": [
      "100%|██████████| 246/246 [00:50<00:00,  4.88it/s]\n"
     ]
    },
    {
     "name": "stdout",
     "output_type": "stream",
     "text": [
      "Epoch 57/250: Train Loss: 0.3639, Train Accuracy: 83.1655, Train IOU: 0.6839, Test Loss: 0.3246, Test Accuracy: 86.3865, Test IOU: 0.7326\n"
     ]
    },
    {
     "name": "stderr",
     "output_type": "stream",
     "text": [
      "100%|██████████| 246/246 [00:49<00:00,  4.92it/s]\n"
     ]
    },
    {
     "name": "stdout",
     "output_type": "stream",
     "text": [
      "Epoch 58/250: Train Loss: 0.3596, Train Accuracy: 83.6744, Train IOU: 0.6932, Test Loss: 0.3228, Test Accuracy: 86.3641, Test IOU: 0.7313\n"
     ]
    },
    {
     "name": "stderr",
     "output_type": "stream",
     "text": [
      "100%|██████████| 246/246 [00:50<00:00,  4.91it/s]\n"
     ]
    },
    {
     "name": "stdout",
     "output_type": "stream",
     "text": [
      "Epoch 59/250: Train Loss: 0.3611, Train Accuracy: 83.5551, Train IOU: 0.6922, Test Loss: 0.3232, Test Accuracy: 86.6098, Test IOU: 0.7383\n"
     ]
    },
    {
     "name": "stderr",
     "output_type": "stream",
     "text": [
      "100%|██████████| 246/246 [00:50<00:00,  4.90it/s]\n"
     ]
    },
    {
     "name": "stdout",
     "output_type": "stream",
     "text": [
      "Epoch 60/250: Train Loss: 0.3624, Train Accuracy: 83.5087, Train IOU: 0.6905, Test Loss: 0.3236, Test Accuracy: 86.5871, Test IOU: 0.7389\n"
     ]
    },
    {
     "name": "stderr",
     "output_type": "stream",
     "text": [
      "100%|██████████| 246/246 [00:49<00:00,  4.93it/s]\n"
     ]
    },
    {
     "name": "stdout",
     "output_type": "stream",
     "text": [
      "Epoch 61/250: Train Loss: 0.3672, Train Accuracy: 83.1738, Train IOU: 0.6850, Test Loss: 0.3221, Test Accuracy: 86.7333, Test IOU: 0.7429\n"
     ]
    },
    {
     "name": "stderr",
     "output_type": "stream",
     "text": [
      "100%|██████████| 246/246 [00:49<00:00,  4.92it/s]\n"
     ]
    },
    {
     "name": "stdout",
     "output_type": "stream",
     "text": [
      "Epoch 62/250: Train Loss: 0.3569, Train Accuracy: 83.8707, Train IOU: 0.6972, Test Loss: 0.3219, Test Accuracy: 86.5319, Test IOU: 0.7354\n"
     ]
    },
    {
     "name": "stderr",
     "output_type": "stream",
     "text": [
      "100%|██████████| 246/246 [00:50<00:00,  4.89it/s]\n"
     ]
    },
    {
     "name": "stdout",
     "output_type": "stream",
     "text": [
      "Epoch 63/250: Train Loss: 0.3609, Train Accuracy: 83.5928, Train IOU: 0.6917, Test Loss: 0.3196, Test Accuracy: 86.6336, Test IOU: 0.7379\n"
     ]
    },
    {
     "name": "stderr",
     "output_type": "stream",
     "text": [
      "100%|██████████| 246/246 [00:50<00:00,  4.90it/s]\n"
     ]
    },
    {
     "name": "stdout",
     "output_type": "stream",
     "text": [
      "Epoch 64/250: Train Loss: 0.3594, Train Accuracy: 83.6360, Train IOU: 0.6928, Test Loss: 0.3177, Test Accuracy: 86.7852, Test IOU: 0.7415\n"
     ]
    },
    {
     "name": "stderr",
     "output_type": "stream",
     "text": [
      "100%|██████████| 246/246 [00:50<00:00,  4.90it/s]\n"
     ]
    },
    {
     "name": "stdout",
     "output_type": "stream",
     "text": [
      "Epoch 65/250: Train Loss: 0.3564, Train Accuracy: 83.7847, Train IOU: 0.6959, Test Loss: 0.3179, Test Accuracy: 86.5752, Test IOU: 0.7349\n"
     ]
    },
    {
     "name": "stderr",
     "output_type": "stream",
     "text": [
      "100%|██████████| 246/246 [00:50<00:00,  4.90it/s]\n"
     ]
    },
    {
     "name": "stdout",
     "output_type": "stream",
     "text": [
      "Epoch 66/250: Train Loss: 0.3632, Train Accuracy: 83.5001, Train IOU: 0.6915, Test Loss: 0.3177, Test Accuracy: 86.7847, Test IOU: 0.7416\n"
     ]
    },
    {
     "name": "stderr",
     "output_type": "stream",
     "text": [
      "100%|██████████| 246/246 [00:49<00:00,  4.94it/s]\n"
     ]
    },
    {
     "name": "stdout",
     "output_type": "stream",
     "text": [
      "Epoch 67/250: Train Loss: 0.3585, Train Accuracy: 83.7423, Train IOU: 0.6948, Test Loss: 0.3207, Test Accuracy: 86.9345, Test IOU: 0.7470\n"
     ]
    },
    {
     "name": "stderr",
     "output_type": "stream",
     "text": [
      "100%|██████████| 246/246 [00:49<00:00,  4.93it/s]\n"
     ]
    },
    {
     "name": "stdout",
     "output_type": "stream",
     "text": [
      "Epoch 68/250: Train Loss: 0.3512, Train Accuracy: 84.0632, Train IOU: 0.7004, Test Loss: 0.3192, Test Accuracy: 86.9530, Test IOU: 0.7473\n"
     ]
    },
    {
     "name": "stderr",
     "output_type": "stream",
     "text": [
      "100%|██████████| 246/246 [00:50<00:00,  4.89it/s]\n"
     ]
    },
    {
     "name": "stdout",
     "output_type": "stream",
     "text": [
      "Epoch 69/250: Train Loss: 0.3535, Train Accuracy: 84.0759, Train IOU: 0.7012, Test Loss: 0.3175, Test Accuracy: 86.8295, Test IOU: 0.7420\n"
     ]
    },
    {
     "name": "stderr",
     "output_type": "stream",
     "text": [
      "100%|██████████| 246/246 [00:50<00:00,  4.86it/s]\n"
     ]
    },
    {
     "name": "stdout",
     "output_type": "stream",
     "text": [
      "Epoch 70/250: Train Loss: 0.3490, Train Accuracy: 84.1392, Train IOU: 0.7011, Test Loss: 0.3210, Test Accuracy: 86.9956, Test IOU: 0.7493\n"
     ]
    },
    {
     "name": "stderr",
     "output_type": "stream",
     "text": [
      "100%|██████████| 246/246 [00:50<00:00,  4.88it/s]\n"
     ]
    },
    {
     "name": "stdout",
     "output_type": "stream",
     "text": [
      "Epoch 71/250: Train Loss: 0.3560, Train Accuracy: 83.7644, Train IOU: 0.6948, Test Loss: 0.3133, Test Accuracy: 86.7845, Test IOU: 0.7391\n"
     ]
    },
    {
     "name": "stderr",
     "output_type": "stream",
     "text": [
      "100%|██████████| 246/246 [00:50<00:00,  4.84it/s]\n"
     ]
    },
    {
     "name": "stdout",
     "output_type": "stream",
     "text": [
      "Epoch 72/250: Train Loss: 0.3500, Train Accuracy: 83.9388, Train IOU: 0.6975, Test Loss: 0.3166, Test Accuracy: 87.1148, Test IOU: 0.7511\n"
     ]
    },
    {
     "name": "stderr",
     "output_type": "stream",
     "text": [
      "100%|██████████| 246/246 [00:49<00:00,  4.92it/s]\n"
     ]
    },
    {
     "name": "stdout",
     "output_type": "stream",
     "text": [
      "Epoch 73/250: Train Loss: 0.3529, Train Accuracy: 84.0800, Train IOU: 0.7007, Test Loss: 0.3117, Test Accuracy: 87.0699, Test IOU: 0.7462\n"
     ]
    },
    {
     "name": "stderr",
     "output_type": "stream",
     "text": [
      "100%|██████████| 246/246 [00:49<00:00,  4.92it/s]\n"
     ]
    },
    {
     "name": "stdout",
     "output_type": "stream",
     "text": [
      "Epoch 74/250: Train Loss: 0.3504, Train Accuracy: 83.9286, Train IOU: 0.6974, Test Loss: 0.3135, Test Accuracy: 87.1364, Test IOU: 0.7498\n"
     ]
    },
    {
     "name": "stderr",
     "output_type": "stream",
     "text": [
      "100%|██████████| 246/246 [00:54<00:00,  4.50it/s]\n"
     ]
    },
    {
     "name": "stdout",
     "output_type": "stream",
     "text": [
      "Epoch 75/250: Train Loss: 0.3551, Train Accuracy: 83.7664, Train IOU: 0.6956, Test Loss: 0.3113, Test Accuracy: 87.0917, Test IOU: 0.7459\n"
     ]
    },
    {
     "name": "stderr",
     "output_type": "stream",
     "text": [
      "100%|██████████| 246/246 [00:49<00:00,  4.98it/s]\n"
     ]
    },
    {
     "name": "stdout",
     "output_type": "stream",
     "text": [
      "Epoch 76/250: Train Loss: 0.3521, Train Accuracy: 83.9928, Train IOU: 0.6991, Test Loss: 0.3129, Test Accuracy: 87.0087, Test IOU: 0.7448\n"
     ]
    },
    {
     "name": "stderr",
     "output_type": "stream",
     "text": [
      "100%|██████████| 246/246 [00:49<00:00,  4.96it/s]\n"
     ]
    },
    {
     "name": "stdout",
     "output_type": "stream",
     "text": [
      "Epoch 77/250: Train Loss: 0.3472, Train Accuracy: 84.1705, Train IOU: 0.7015, Test Loss: 0.3157, Test Accuracy: 87.1662, Test IOU: 0.7518\n"
     ]
    },
    {
     "name": "stderr",
     "output_type": "stream",
     "text": [
      "100%|██████████| 246/246 [00:49<00:00,  4.93it/s]\n"
     ]
    },
    {
     "name": "stdout",
     "output_type": "stream",
     "text": [
      "Epoch 78/250: Train Loss: 0.3499, Train Accuracy: 84.0398, Train IOU: 0.6998, Test Loss: 0.3145, Test Accuracy: 87.1563, Test IOU: 0.7496\n"
     ]
    },
    {
     "name": "stderr",
     "output_type": "stream",
     "text": [
      "100%|██████████| 246/246 [00:49<00:00,  4.95it/s]\n"
     ]
    },
    {
     "name": "stdout",
     "output_type": "stream",
     "text": [
      "Epoch 79/250: Train Loss: 0.3463, Train Accuracy: 84.4420, Train IOU: 0.7076, Test Loss: 0.3084, Test Accuracy: 87.1218, Test IOU: 0.7466\n"
     ]
    },
    {
     "name": "stderr",
     "output_type": "stream",
     "text": [
      "100%|██████████| 246/246 [00:49<00:00,  4.95it/s]\n"
     ]
    },
    {
     "name": "stdout",
     "output_type": "stream",
     "text": [
      "Epoch 80/250: Train Loss: 0.3497, Train Accuracy: 84.1001, Train IOU: 0.7015, Test Loss: 0.3191, Test Accuracy: 87.1670, Test IOU: 0.7528\n"
     ]
    },
    {
     "name": "stderr",
     "output_type": "stream",
     "text": [
      "100%|██████████| 246/246 [00:49<00:00,  4.97it/s]\n"
     ]
    },
    {
     "name": "stdout",
     "output_type": "stream",
     "text": [
      "Epoch 81/250: Train Loss: 0.3508, Train Accuracy: 84.1564, Train IOU: 0.7018, Test Loss: 0.3086, Test Accuracy: 87.2282, Test IOU: 0.7495\n"
     ]
    },
    {
     "name": "stderr",
     "output_type": "stream",
     "text": [
      "100%|██████████| 246/246 [00:49<00:00,  4.92it/s]\n"
     ]
    },
    {
     "name": "stdout",
     "output_type": "stream",
     "text": [
      "Epoch 82/250: Train Loss: 0.3421, Train Accuracy: 84.5409, Train IOU: 0.7083, Test Loss: 0.3111, Test Accuracy: 87.2612, Test IOU: 0.7524\n"
     ]
    },
    {
     "name": "stderr",
     "output_type": "stream",
     "text": [
      "100%|██████████| 246/246 [00:49<00:00,  4.93it/s]\n"
     ]
    },
    {
     "name": "stdout",
     "output_type": "stream",
     "text": [
      "Epoch 83/250: Train Loss: 0.3453, Train Accuracy: 84.3428, Train IOU: 0.7043, Test Loss: 0.3077, Test Accuracy: 87.2791, Test IOU: 0.7500\n"
     ]
    },
    {
     "name": "stderr",
     "output_type": "stream",
     "text": [
      "100%|██████████| 246/246 [00:49<00:00,  4.95it/s]\n"
     ]
    },
    {
     "name": "stdout",
     "output_type": "stream",
     "text": [
      "Epoch 84/250: Train Loss: 0.3451, Train Accuracy: 84.4624, Train IOU: 0.7081, Test Loss: 0.3060, Test Accuracy: 87.2886, Test IOU: 0.7504\n"
     ]
    },
    {
     "name": "stderr",
     "output_type": "stream",
     "text": [
      "100%|██████████| 246/246 [00:49<00:00,  4.96it/s]\n"
     ]
    },
    {
     "name": "stdout",
     "output_type": "stream",
     "text": [
      "Epoch 85/250: Train Loss: 0.3492, Train Accuracy: 84.0921, Train IOU: 0.7007, Test Loss: 0.3035, Test Accuracy: 87.3168, Test IOU: 0.7505\n"
     ]
    },
    {
     "name": "stderr",
     "output_type": "stream",
     "text": [
      "100%|██████████| 246/246 [00:49<00:00,  4.95it/s]\n"
     ]
    },
    {
     "name": "stdout",
     "output_type": "stream",
     "text": [
      "Epoch 86/250: Train Loss: 0.3456, Train Accuracy: 84.3900, Train IOU: 0.7068, Test Loss: 0.3082, Test Accuracy: 87.4240, Test IOU: 0.7553\n"
     ]
    },
    {
     "name": "stderr",
     "output_type": "stream",
     "text": [
      "100%|██████████| 246/246 [00:49<00:00,  4.95it/s]\n"
     ]
    },
    {
     "name": "stdout",
     "output_type": "stream",
     "text": [
      "Epoch 87/250: Train Loss: 0.3405, Train Accuracy: 84.6511, Train IOU: 0.7101, Test Loss: 0.3088, Test Accuracy: 87.3977, Test IOU: 0.7549\n"
     ]
    },
    {
     "name": "stderr",
     "output_type": "stream",
     "text": [
      "100%|██████████| 246/246 [00:49<00:00,  4.94it/s]\n"
     ]
    },
    {
     "name": "stdout",
     "output_type": "stream",
     "text": [
      "Epoch 88/250: Train Loss: 0.3450, Train Accuracy: 84.3254, Train IOU: 0.7040, Test Loss: 0.3059, Test Accuracy: 87.3183, Test IOU: 0.7490\n"
     ]
    },
    {
     "name": "stderr",
     "output_type": "stream",
     "text": [
      "100%|██████████| 246/246 [00:49<00:00,  4.96it/s]\n"
     ]
    },
    {
     "name": "stdout",
     "output_type": "stream",
     "text": [
      "Epoch 89/250: Train Loss: 0.3407, Train Accuracy: 84.5292, Train IOU: 0.7091, Test Loss: 0.3077, Test Accuracy: 87.4831, Test IOU: 0.7573\n"
     ]
    },
    {
     "name": "stderr",
     "output_type": "stream",
     "text": [
      "100%|██████████| 246/246 [00:49<00:00,  4.95it/s]\n"
     ]
    },
    {
     "name": "stdout",
     "output_type": "stream",
     "text": [
      "Epoch 90/250: Train Loss: 0.3394, Train Accuracy: 84.7184, Train IOU: 0.7120, Test Loss: 0.3052, Test Accuracy: 87.5219, Test IOU: 0.7566\n"
     ]
    },
    {
     "name": "stderr",
     "output_type": "stream",
     "text": [
      "100%|██████████| 246/246 [00:49<00:00,  4.99it/s]\n"
     ]
    },
    {
     "name": "stdout",
     "output_type": "stream",
     "text": [
      "Epoch 91/250: Train Loss: 0.3428, Train Accuracy: 84.4584, Train IOU: 0.7071, Test Loss: 0.3021, Test Accuracy: 87.4571, Test IOU: 0.7537\n"
     ]
    },
    {
     "name": "stderr",
     "output_type": "stream",
     "text": [
      "100%|██████████| 246/246 [00:49<00:00,  4.95it/s]\n"
     ]
    },
    {
     "name": "stdout",
     "output_type": "stream",
     "text": [
      "Epoch 92/250: Train Loss: 0.3350, Train Accuracy: 85.0003, Train IOU: 0.7163, Test Loss: 0.3165, Test Accuracy: 87.4406, Test IOU: 0.7583\n"
     ]
    },
    {
     "name": "stderr",
     "output_type": "stream",
     "text": [
      "100%|██████████| 246/246 [00:49<00:00,  4.93it/s]\n"
     ]
    },
    {
     "name": "stdout",
     "output_type": "stream",
     "text": [
      "Epoch 93/250: Train Loss: 0.3473, Train Accuracy: 84.2643, Train IOU: 0.7045, Test Loss: 0.3019, Test Accuracy: 87.4116, Test IOU: 0.7515\n"
     ]
    },
    {
     "name": "stderr",
     "output_type": "stream",
     "text": [
      "100%|██████████| 246/246 [00:50<00:00,  4.92it/s]\n"
     ]
    },
    {
     "name": "stdout",
     "output_type": "stream",
     "text": [
      "Epoch 94/250: Train Loss: 0.3386, Train Accuracy: 84.7404, Train IOU: 0.7115, Test Loss: 0.3045, Test Accuracy: 87.4982, Test IOU: 0.7551\n"
     ]
    },
    {
     "name": "stderr",
     "output_type": "stream",
     "text": [
      "100%|██████████| 246/246 [00:49<00:00,  4.93it/s]\n"
     ]
    },
    {
     "name": "stdout",
     "output_type": "stream",
     "text": [
      "Epoch 95/250: Train Loss: 0.3415, Train Accuracy: 84.6908, Train IOU: 0.7120, Test Loss: 0.3113, Test Accuracy: 87.5303, Test IOU: 0.7594\n"
     ]
    },
    {
     "name": "stderr",
     "output_type": "stream",
     "text": [
      "100%|██████████| 246/246 [00:49<00:00,  4.93it/s]\n"
     ]
    },
    {
     "name": "stdout",
     "output_type": "stream",
     "text": [
      "Epoch 96/250: Train Loss: 0.3352, Train Accuracy: 84.7452, Train IOU: 0.7113, Test Loss: 0.3045, Test Accuracy: 87.5851, Test IOU: 0.7578\n"
     ]
    },
    {
     "name": "stderr",
     "output_type": "stream",
     "text": [
      "100%|██████████| 246/246 [00:50<00:00,  4.91it/s]\n"
     ]
    },
    {
     "name": "stdout",
     "output_type": "stream",
     "text": [
      "Epoch 97/250: Train Loss: 0.3393, Train Accuracy: 84.7091, Train IOU: 0.7123, Test Loss: 0.3038, Test Accuracy: 87.5072, Test IOU: 0.7557\n"
     ]
    },
    {
     "name": "stderr",
     "output_type": "stream",
     "text": [
      "100%|██████████| 246/246 [00:52<00:00,  4.67it/s]\n"
     ]
    },
    {
     "name": "stdout",
     "output_type": "stream",
     "text": [
      "Epoch 98/250: Train Loss: 0.3342, Train Accuracy: 84.8821, Train IOU: 0.7149, Test Loss: 0.3004, Test Accuracy: 87.6288, Test IOU: 0.7579\n"
     ]
    },
    {
     "name": "stderr",
     "output_type": "stream",
     "text": [
      "100%|██████████| 246/246 [00:52<00:00,  4.68it/s]\n"
     ]
    },
    {
     "name": "stdout",
     "output_type": "stream",
     "text": [
      "Epoch 99/250: Train Loss: 0.3444, Train Accuracy: 84.5207, Train IOU: 0.7094, Test Loss: 0.3048, Test Accuracy: 87.5136, Test IOU: 0.7565\n"
     ]
    },
    {
     "name": "stderr",
     "output_type": "stream",
     "text": [
      "100%|██████████| 246/246 [00:52<00:00,  4.68it/s]\n"
     ]
    },
    {
     "name": "stdout",
     "output_type": "stream",
     "text": [
      "Epoch 100/250: Train Loss: 0.3441, Train Accuracy: 84.3312, Train IOU: 0.7053, Test Loss: 0.3020, Test Accuracy: 87.5608, Test IOU: 0.7563\n"
     ]
    },
    {
     "name": "stderr",
     "output_type": "stream",
     "text": [
      "100%|██████████| 246/246 [00:52<00:00,  4.67it/s]\n"
     ]
    },
    {
     "name": "stdout",
     "output_type": "stream",
     "text": [
      "Epoch 101/250: Train Loss: 0.3410, Train Accuracy: 84.6317, Train IOU: 0.7104, Test Loss: 0.3043, Test Accuracy: 87.6916, Test IOU: 0.7608\n"
     ]
    },
    {
     "name": "stderr",
     "output_type": "stream",
     "text": [
      "100%|██████████| 246/246 [00:52<00:00,  4.68it/s]\n"
     ]
    },
    {
     "name": "stdout",
     "output_type": "stream",
     "text": [
      "Epoch 102/250: Train Loss: 0.3314, Train Accuracy: 85.0595, Train IOU: 0.7177, Test Loss: 0.3067, Test Accuracy: 87.6058, Test IOU: 0.7589\n"
     ]
    },
    {
     "name": "stderr",
     "output_type": "stream",
     "text": [
      "100%|██████████| 246/246 [00:52<00:00,  4.68it/s]\n"
     ]
    },
    {
     "name": "stdout",
     "output_type": "stream",
     "text": [
      "Epoch 103/250: Train Loss: 0.3346, Train Accuracy: 84.9511, Train IOU: 0.7161, Test Loss: 0.2991, Test Accuracy: 87.6288, Test IOU: 0.7566\n"
     ]
    },
    {
     "name": "stderr",
     "output_type": "stream",
     "text": [
      "100%|██████████| 246/246 [00:52<00:00,  4.70it/s]\n"
     ]
    },
    {
     "name": "stdout",
     "output_type": "stream",
     "text": [
      "Epoch 104/250: Train Loss: 0.3386, Train Accuracy: 84.7793, Train IOU: 0.7129, Test Loss: 0.2986, Test Accuracy: 87.6061, Test IOU: 0.7551\n"
     ]
    },
    {
     "name": "stderr",
     "output_type": "stream",
     "text": [
      "100%|██████████| 246/246 [00:52<00:00,  4.68it/s]\n"
     ]
    },
    {
     "name": "stdout",
     "output_type": "stream",
     "text": [
      "Epoch 105/250: Train Loss: 0.3332, Train Accuracy: 84.9366, Train IOU: 0.7147, Test Loss: 0.3004, Test Accuracy: 87.6389, Test IOU: 0.7573\n"
     ]
    },
    {
     "name": "stderr",
     "output_type": "stream",
     "text": [
      "100%|██████████| 246/246 [00:52<00:00,  4.68it/s]\n"
     ]
    },
    {
     "name": "stdout",
     "output_type": "stream",
     "text": [
      "Epoch 106/250: Train Loss: 0.3355, Train Accuracy: 84.8224, Train IOU: 0.7135, Test Loss: 0.2982, Test Accuracy: 87.6561, Test IOU: 0.7561\n"
     ]
    },
    {
     "name": "stderr",
     "output_type": "stream",
     "text": [
      "100%|██████████| 246/246 [00:53<00:00,  4.64it/s]\n"
     ]
    },
    {
     "name": "stdout",
     "output_type": "stream",
     "text": [
      "Epoch 107/250: Train Loss: 0.3340, Train Accuracy: 85.0669, Train IOU: 0.7186, Test Loss: 0.3014, Test Accuracy: 87.7595, Test IOU: 0.7611\n"
     ]
    },
    {
     "name": "stderr",
     "output_type": "stream",
     "text": [
      "100%|██████████| 246/246 [00:52<00:00,  4.68it/s]\n"
     ]
    },
    {
     "name": "stdout",
     "output_type": "stream",
     "text": [
      "Epoch 108/250: Train Loss: 0.3346, Train Accuracy: 84.8499, Train IOU: 0.7131, Test Loss: 0.2992, Test Accuracy: 87.6233, Test IOU: 0.7551\n"
     ]
    },
    {
     "name": "stderr",
     "output_type": "stream",
     "text": [
      "100%|██████████| 246/246 [00:52<00:00,  4.67it/s]\n"
     ]
    },
    {
     "name": "stdout",
     "output_type": "stream",
     "text": [
      "Epoch 109/250: Train Loss: 0.3350, Train Accuracy: 85.0422, Train IOU: 0.7174, Test Loss: 0.3012, Test Accuracy: 87.8289, Test IOU: 0.7637\n"
     ]
    },
    {
     "name": "stderr",
     "output_type": "stream",
     "text": [
      "100%|██████████| 246/246 [00:52<00:00,  4.68it/s]\n"
     ]
    },
    {
     "name": "stdout",
     "output_type": "stream",
     "text": [
      "Epoch 110/250: Train Loss: 0.3331, Train Accuracy: 85.1420, Train IOU: 0.7191, Test Loss: 0.2978, Test Accuracy: 87.8069, Test IOU: 0.7614\n"
     ]
    },
    {
     "name": "stderr",
     "output_type": "stream",
     "text": [
      "100%|██████████| 246/246 [00:52<00:00,  4.66it/s]\n"
     ]
    },
    {
     "name": "stdout",
     "output_type": "stream",
     "text": [
      "Epoch 111/250: Train Loss: 0.3328, Train Accuracy: 85.0725, Train IOU: 0.7172, Test Loss: 0.2990, Test Accuracy: 87.6722, Test IOU: 0.7572\n"
     ]
    },
    {
     "name": "stderr",
     "output_type": "stream",
     "text": [
      "100%|██████████| 246/246 [00:52<00:00,  4.67it/s]\n"
     ]
    },
    {
     "name": "stdout",
     "output_type": "stream",
     "text": [
      "Epoch 112/250: Train Loss: 0.3348, Train Accuracy: 85.1309, Train IOU: 0.7193, Test Loss: 0.2954, Test Accuracy: 87.7034, Test IOU: 0.7567\n"
     ]
    },
    {
     "name": "stderr",
     "output_type": "stream",
     "text": [
      "100%|██████████| 246/246 [00:52<00:00,  4.67it/s]\n"
     ]
    },
    {
     "name": "stdout",
     "output_type": "stream",
     "text": [
      "Epoch 113/250: Train Loss: 0.3327, Train Accuracy: 85.2136, Train IOU: 0.7201, Test Loss: 0.2960, Test Accuracy: 87.9198, Test IOU: 0.7634\n"
     ]
    },
    {
     "name": "stderr",
     "output_type": "stream",
     "text": [
      "100%|██████████| 246/246 [00:52<00:00,  4.67it/s]\n"
     ]
    },
    {
     "name": "stdout",
     "output_type": "stream",
     "text": [
      "Epoch 114/250: Train Loss: 0.3255, Train Accuracy: 85.3491, Train IOU: 0.7220, Test Loss: 0.2954, Test Accuracy: 87.7649, Test IOU: 0.7586\n"
     ]
    },
    {
     "name": "stderr",
     "output_type": "stream",
     "text": [
      "100%|██████████| 246/246 [00:52<00:00,  4.67it/s]\n"
     ]
    },
    {
     "name": "stdout",
     "output_type": "stream",
     "text": [
      "Epoch 115/250: Train Loss: 0.3291, Train Accuracy: 85.2343, Train IOU: 0.7207, Test Loss: 0.2968, Test Accuracy: 87.8106, Test IOU: 0.7605\n"
     ]
    },
    {
     "name": "stderr",
     "output_type": "stream",
     "text": [
      "100%|██████████| 246/246 [00:52<00:00,  4.66it/s]\n"
     ]
    },
    {
     "name": "stdout",
     "output_type": "stream",
     "text": [
      "Epoch 116/250: Train Loss: 0.3331, Train Accuracy: 85.0681, Train IOU: 0.7188, Test Loss: 0.3027, Test Accuracy: 87.5629, Test IOU: 0.7552\n"
     ]
    },
    {
     "name": "stderr",
     "output_type": "stream",
     "text": [
      "100%|██████████| 246/246 [01:04<00:00,  3.82it/s]\n"
     ]
    },
    {
     "name": "stdout",
     "output_type": "stream",
     "text": [
      "Epoch 117/250: Train Loss: 0.3278, Train Accuracy: 85.2872, Train IOU: 0.7213, Test Loss: 0.2932, Test Accuracy: 87.7482, Test IOU: 0.7568\n"
     ]
    },
    {
     "name": "stderr",
     "output_type": "stream",
     "text": [
      "100%|██████████| 246/246 [01:01<00:00,  4.00it/s]\n"
     ]
    },
    {
     "name": "stdout",
     "output_type": "stream",
     "text": [
      "Epoch 118/250: Train Loss: 0.3297, Train Accuracy: 85.3323, Train IOU: 0.7234, Test Loss: 0.2993, Test Accuracy: 87.9520, Test IOU: 0.7665\n"
     ]
    },
    {
     "name": "stderr",
     "output_type": "stream",
     "text": [
      "100%|██████████| 246/246 [01:01<00:00,  4.02it/s]\n"
     ]
    },
    {
     "name": "stdout",
     "output_type": "stream",
     "text": [
      "Epoch 119/250: Train Loss: 0.3239, Train Accuracy: 85.4913, Train IOU: 0.7248, Test Loss: 0.2931, Test Accuracy: 87.8594, Test IOU: 0.7607\n"
     ]
    },
    {
     "name": "stderr",
     "output_type": "stream",
     "text": [
      "100%|██████████| 246/246 [01:00<00:00,  4.04it/s]\n"
     ]
    },
    {
     "name": "stdout",
     "output_type": "stream",
     "text": [
      "Epoch 120/250: Train Loss: 0.3279, Train Accuracy: 85.3220, Train IOU: 0.7218, Test Loss: 0.2941, Test Accuracy: 87.7256, Test IOU: 0.7574\n"
     ]
    },
    {
     "name": "stderr",
     "output_type": "stream",
     "text": [
      "100%|██████████| 246/246 [01:00<00:00,  4.04it/s]\n"
     ]
    },
    {
     "name": "stdout",
     "output_type": "stream",
     "text": [
      "Epoch 121/250: Train Loss: 0.3327, Train Accuracy: 85.1025, Train IOU: 0.7192, Test Loss: 0.2927, Test Accuracy: 87.9494, Test IOU: 0.7635\n"
     ]
    },
    {
     "name": "stderr",
     "output_type": "stream",
     "text": [
      "100%|██████████| 246/246 [01:13<00:00,  3.35it/s]\n"
     ]
    },
    {
     "name": "stdout",
     "output_type": "stream",
     "text": [
      "Epoch 122/250: Train Loss: 0.3275, Train Accuracy: 85.3133, Train IOU: 0.7217, Test Loss: 0.2964, Test Accuracy: 87.9190, Test IOU: 0.7631\n"
     ]
    },
    {
     "name": "stderr",
     "output_type": "stream",
     "text": [
      "100%|██████████| 246/246 [01:08<00:00,  3.58it/s]\n"
     ]
    },
    {
     "name": "stdout",
     "output_type": "stream",
     "text": [
      "Epoch 123/250: Train Loss: 0.3267, Train Accuracy: 85.2403, Train IOU: 0.7204, Test Loss: 0.2937, Test Accuracy: 87.8521, Test IOU: 0.7605\n"
     ]
    },
    {
     "name": "stderr",
     "output_type": "stream",
     "text": [
      "100%|██████████| 246/246 [01:00<00:00,  4.06it/s]\n"
     ]
    },
    {
     "name": "stdout",
     "output_type": "stream",
     "text": [
      "Epoch 124/250: Train Loss: 0.3265, Train Accuracy: 85.2940, Train IOU: 0.7217, Test Loss: 0.2910, Test Accuracy: 87.9264, Test IOU: 0.7620\n"
     ]
    },
    {
     "name": "stderr",
     "output_type": "stream",
     "text": [
      "100%|██████████| 246/246 [01:02<00:00,  3.93it/s]\n"
     ]
    },
    {
     "name": "stdout",
     "output_type": "stream",
     "text": [
      "Epoch 125/250: Train Loss: 0.3270, Train Accuracy: 85.2870, Train IOU: 0.7217, Test Loss: 0.2929, Test Accuracy: 87.9890, Test IOU: 0.7647\n"
     ]
    },
    {
     "name": "stderr",
     "output_type": "stream",
     "text": [
      "100%|██████████| 246/246 [01:00<00:00,  4.06it/s]\n"
     ]
    },
    {
     "name": "stdout",
     "output_type": "stream",
     "text": [
      "Epoch 126/250: Train Loss: 0.3260, Train Accuracy: 85.4918, Train IOU: 0.7248, Test Loss: 0.2975, Test Accuracy: 88.0353, Test IOU: 0.7679\n"
     ]
    },
    {
     "name": "stderr",
     "output_type": "stream",
     "text": [
      "100%|██████████| 246/246 [01:00<00:00,  4.07it/s]\n"
     ]
    },
    {
     "name": "stdout",
     "output_type": "stream",
     "text": [
      "Epoch 127/250: Train Loss: 0.3202, Train Accuracy: 85.7504, Train IOU: 0.7300, Test Loss: 0.2908, Test Accuracy: 87.9689, Test IOU: 0.7629\n"
     ]
    },
    {
     "name": "stderr",
     "output_type": "stream",
     "text": [
      "100%|██████████| 246/246 [01:13<00:00,  3.35it/s]\n"
     ]
    },
    {
     "name": "stdout",
     "output_type": "stream",
     "text": [
      "Epoch 128/250: Train Loss: 0.3280, Train Accuracy: 85.3309, Train IOU: 0.7231, Test Loss: 0.2917, Test Accuracy: 88.0080, Test IOU: 0.7636\n"
     ]
    },
    {
     "name": "stderr",
     "output_type": "stream",
     "text": [
      "100%|██████████| 246/246 [01:05<00:00,  3.78it/s]\n"
     ]
    },
    {
     "name": "stdout",
     "output_type": "stream",
     "text": [
      "Epoch 129/250: Train Loss: 0.3237, Train Accuracy: 85.5387, Train IOU: 0.7260, Test Loss: 0.2942, Test Accuracy: 87.9430, Test IOU: 0.7631\n"
     ]
    },
    {
     "name": "stderr",
     "output_type": "stream",
     "text": [
      "100%|██████████| 246/246 [01:00<00:00,  4.06it/s]\n"
     ]
    },
    {
     "name": "stdout",
     "output_type": "stream",
     "text": [
      "Epoch 130/250: Train Loss: 0.3300, Train Accuracy: 85.2562, Train IOU: 0.7216, Test Loss: 0.2916, Test Accuracy: 88.0275, Test IOU: 0.7649\n"
     ]
    },
    {
     "name": "stderr",
     "output_type": "stream",
     "text": [
      "100%|██████████| 246/246 [01:00<00:00,  4.08it/s]\n"
     ]
    },
    {
     "name": "stdout",
     "output_type": "stream",
     "text": [
      "Epoch 131/250: Train Loss: 0.3263, Train Accuracy: 85.3579, Train IOU: 0.7226, Test Loss: 0.2926, Test Accuracy: 87.9283, Test IOU: 0.7615\n"
     ]
    },
    {
     "name": "stderr",
     "output_type": "stream",
     "text": [
      "100%|██████████| 246/246 [01:00<00:00,  4.07it/s]\n"
     ]
    },
    {
     "name": "stdout",
     "output_type": "stream",
     "text": [
      "Epoch 132/250: Train Loss: 0.3248, Train Accuracy: 85.4977, Train IOU: 0.7256, Test Loss: 0.2960, Test Accuracy: 88.0385, Test IOU: 0.7661\n"
     ]
    },
    {
     "name": "stderr",
     "output_type": "stream",
     "text": [
      "100%|██████████| 246/246 [01:00<00:00,  4.09it/s]\n"
     ]
    },
    {
     "name": "stdout",
     "output_type": "stream",
     "text": [
      "Epoch 133/250: Train Loss: 0.3221, Train Accuracy: 85.6763, Train IOU: 0.7278, Test Loss: 0.2916, Test Accuracy: 87.9065, Test IOU: 0.7607\n"
     ]
    },
    {
     "name": "stderr",
     "output_type": "stream",
     "text": [
      "100%|██████████| 246/246 [01:13<00:00,  3.36it/s]\n"
     ]
    },
    {
     "name": "stdout",
     "output_type": "stream",
     "text": [
      "Epoch 134/250: Train Loss: 0.3207, Train Accuracy: 85.7858, Train IOU: 0.7306, Test Loss: 0.2983, Test Accuracy: 88.0046, Test IOU: 0.7656\n"
     ]
    },
    {
     "name": "stderr",
     "output_type": "stream",
     "text": [
      "100%|██████████| 246/246 [01:00<00:00,  4.07it/s]\n"
     ]
    },
    {
     "name": "stdout",
     "output_type": "stream",
     "text": [
      "Epoch 135/250: Train Loss: 0.3253, Train Accuracy: 85.3709, Train IOU: 0.7221, Test Loss: 0.2880, Test Accuracy: 87.9755, Test IOU: 0.7611\n"
     ]
    },
    {
     "name": "stderr",
     "output_type": "stream",
     "text": [
      "100%|██████████| 246/246 [01:00<00:00,  4.07it/s]\n"
     ]
    },
    {
     "name": "stdout",
     "output_type": "stream",
     "text": [
      "Epoch 136/250: Train Loss: 0.3266, Train Accuracy: 85.2662, Train IOU: 0.7217, Test Loss: 0.2881, Test Accuracy: 88.0685, Test IOU: 0.7644\n"
     ]
    },
    {
     "name": "stderr",
     "output_type": "stream",
     "text": [
      "100%|██████████| 246/246 [01:00<00:00,  4.08it/s]\n"
     ]
    },
    {
     "name": "stdout",
     "output_type": "stream",
     "text": [
      "Epoch 137/250: Train Loss: 0.3304, Train Accuracy: 85.3214, Train IOU: 0.7226, Test Loss: 0.2897, Test Accuracy: 87.9876, Test IOU: 0.7621\n"
     ]
    },
    {
     "name": "stderr",
     "output_type": "stream",
     "text": [
      "100%|██████████| 246/246 [01:00<00:00,  4.08it/s]\n"
     ]
    },
    {
     "name": "stdout",
     "output_type": "stream",
     "text": [
      "Epoch 138/250: Train Loss: 0.3200, Train Accuracy: 85.6613, Train IOU: 0.7275, Test Loss: 0.2892, Test Accuracy: 88.0731, Test IOU: 0.7653\n"
     ]
    },
    {
     "name": "stderr",
     "output_type": "stream",
     "text": [
      "100%|██████████| 246/246 [01:00<00:00,  4.09it/s]\n"
     ]
    },
    {
     "name": "stdout",
     "output_type": "stream",
     "text": [
      "Epoch 139/250: Train Loss: 0.3192, Train Accuracy: 85.7161, Train IOU: 0.7292, Test Loss: 0.2972, Test Accuracy: 88.0839, Test IOU: 0.7683\n"
     ]
    },
    {
     "name": "stderr",
     "output_type": "stream",
     "text": [
      "100%|██████████| 246/246 [01:00<00:00,  4.08it/s]\n"
     ]
    },
    {
     "name": "stdout",
     "output_type": "stream",
     "text": [
      "Epoch 140/250: Train Loss: 0.3166, Train Accuracy: 85.9093, Train IOU: 0.7324, Test Loss: 0.2908, Test Accuracy: 88.1704, Test IOU: 0.7689\n"
     ]
    },
    {
     "name": "stderr",
     "output_type": "stream",
     "text": [
      "100%|██████████| 246/246 [01:23<00:00,  2.95it/s]\n"
     ]
    },
    {
     "name": "stdout",
     "output_type": "stream",
     "text": [
      "Epoch 141/250: Train Loss: 0.3154, Train Accuracy: 85.9692, Train IOU: 0.7338, Test Loss: 0.2900, Test Accuracy: 88.1227, Test IOU: 0.7673\n"
     ]
    },
    {
     "name": "stderr",
     "output_type": "stream",
     "text": [
      "100%|██████████| 246/246 [01:00<00:00,  4.09it/s]\n"
     ]
    },
    {
     "name": "stdout",
     "output_type": "stream",
     "text": [
      "Epoch 142/250: Train Loss: 0.3156, Train Accuracy: 85.9256, Train IOU: 0.7323, Test Loss: 0.2903, Test Accuracy: 88.0450, Test IOU: 0.7640\n"
     ]
    },
    {
     "name": "stderr",
     "output_type": "stream",
     "text": [
      "100%|██████████| 246/246 [01:00<00:00,  4.09it/s]\n"
     ]
    },
    {
     "name": "stdout",
     "output_type": "stream",
     "text": [
      "Epoch 143/250: Train Loss: 0.3215, Train Accuracy: 85.6408, Train IOU: 0.7274, Test Loss: 0.2858, Test Accuracy: 88.1251, Test IOU: 0.7650\n"
     ]
    },
    {
     "name": "stderr",
     "output_type": "stream",
     "text": [
      "100%|██████████| 246/246 [01:00<00:00,  4.08it/s]\n"
     ]
    },
    {
     "name": "stdout",
     "output_type": "stream",
     "text": [
      "Epoch 144/250: Train Loss: 0.3227, Train Accuracy: 85.5886, Train IOU: 0.7271, Test Loss: 0.2884, Test Accuracy: 88.0620, Test IOU: 0.7643\n"
     ]
    },
    {
     "name": "stderr",
     "output_type": "stream",
     "text": [
      "100%|██████████| 246/246 [01:00<00:00,  4.08it/s]\n"
     ]
    },
    {
     "name": "stdout",
     "output_type": "stream",
     "text": [
      "Epoch 145/250: Train Loss: 0.3175, Train Accuracy: 85.8391, Train IOU: 0.7309, Test Loss: 0.2904, Test Accuracy: 88.2450, Test IOU: 0.7702\n"
     ]
    },
    {
     "name": "stderr",
     "output_type": "stream",
     "text": [
      "100%|██████████| 246/246 [01:00<00:00,  4.08it/s]\n"
     ]
    },
    {
     "name": "stdout",
     "output_type": "stream",
     "text": [
      "Epoch 146/250: Train Loss: 0.3237, Train Accuracy: 85.7042, Train IOU: 0.7300, Test Loss: 0.2966, Test Accuracy: 88.1697, Test IOU: 0.7701\n"
     ]
    },
    {
     "name": "stderr",
     "output_type": "stream",
     "text": [
      "100%|██████████| 246/246 [01:15<00:00,  3.25it/s]\n"
     ]
    },
    {
     "name": "stdout",
     "output_type": "stream",
     "text": [
      "Epoch 147/250: Train Loss: 0.3237, Train Accuracy: 85.6506, Train IOU: 0.7283, Test Loss: 0.2923, Test Accuracy: 87.9207, Test IOU: 0.7615\n"
     ]
    },
    {
     "name": "stderr",
     "output_type": "stream",
     "text": [
      "100%|██████████| 246/246 [01:09<00:00,  3.53it/s]\n"
     ]
    },
    {
     "name": "stdout",
     "output_type": "stream",
     "text": [
      "Epoch 148/250: Train Loss: 0.3143, Train Accuracy: 85.9777, Train IOU: 0.7329, Test Loss: 0.2923, Test Accuracy: 88.2008, Test IOU: 0.7695\n"
     ]
    },
    {
     "name": "stderr",
     "output_type": "stream",
     "text": [
      "100%|██████████| 246/246 [01:00<00:00,  4.09it/s]\n"
     ]
    },
    {
     "name": "stdout",
     "output_type": "stream",
     "text": [
      "Epoch 149/250: Train Loss: 0.3213, Train Accuracy: 85.8104, Train IOU: 0.7306, Test Loss: 0.2894, Test Accuracy: 87.9891, Test IOU: 0.7625\n"
     ]
    },
    {
     "name": "stderr",
     "output_type": "stream",
     "text": [
      "100%|██████████| 246/246 [01:00<00:00,  4.08it/s]\n"
     ]
    },
    {
     "name": "stdout",
     "output_type": "stream",
     "text": [
      "Epoch 150/250: Train Loss: 0.3204, Train Accuracy: 85.8100, Train IOU: 0.7312, Test Loss: 0.2854, Test Accuracy: 88.2263, Test IOU: 0.7685\n"
     ]
    },
    {
     "name": "stderr",
     "output_type": "stream",
     "text": [
      "100%|██████████| 246/246 [01:00<00:00,  4.08it/s]\n"
     ]
    },
    {
     "name": "stdout",
     "output_type": "stream",
     "text": [
      "Epoch 151/250: Train Loss: 0.3191, Train Accuracy: 85.8547, Train IOU: 0.7324, Test Loss: 0.2882, Test Accuracy: 88.2419, Test IOU: 0.7701\n"
     ]
    },
    {
     "name": "stderr",
     "output_type": "stream",
     "text": [
      "100%|██████████| 246/246 [01:00<00:00,  4.10it/s]\n"
     ]
    },
    {
     "name": "stdout",
     "output_type": "stream",
     "text": [
      "Epoch 152/250: Train Loss: 0.3153, Train Accuracy: 85.8534, Train IOU: 0.7308, Test Loss: 0.2824, Test Accuracy: 88.1599, Test IOU: 0.7649\n"
     ]
    },
    {
     "name": "stderr",
     "output_type": "stream",
     "text": [
      "100%|██████████| 246/246 [01:00<00:00,  4.09it/s]\n"
     ]
    },
    {
     "name": "stdout",
     "output_type": "stream",
     "text": [
      "Epoch 153/250: Train Loss: 0.3115, Train Accuracy: 86.2277, Train IOU: 0.7370, Test Loss: 0.2857, Test Accuracy: 88.0190, Test IOU: 0.7619\n"
     ]
    },
    {
     "name": "stderr",
     "output_type": "stream",
     "text": [
      "100%|██████████| 246/246 [01:00<00:00,  4.08it/s]\n"
     ]
    },
    {
     "name": "stdout",
     "output_type": "stream",
     "text": [
      "Epoch 154/250: Train Loss: 0.3174, Train Accuracy: 85.9461, Train IOU: 0.7331, Test Loss: 0.2848, Test Accuracy: 88.2029, Test IOU: 0.7668\n"
     ]
    },
    {
     "name": "stderr",
     "output_type": "stream",
     "text": [
      "100%|██████████| 246/246 [01:01<00:00,  3.98it/s]\n"
     ]
    },
    {
     "name": "stdout",
     "output_type": "stream",
     "text": [
      "Epoch 155/250: Train Loss: 0.3183, Train Accuracy: 85.8801, Train IOU: 0.7322, Test Loss: 0.2872, Test Accuracy: 88.2109, Test IOU: 0.7682\n"
     ]
    },
    {
     "name": "stderr",
     "output_type": "stream",
     "text": [
      "100%|██████████| 246/246 [00:52<00:00,  4.72it/s]\n"
     ]
    },
    {
     "name": "stdout",
     "output_type": "stream",
     "text": [
      "Epoch 156/250: Train Loss: 0.3190, Train Accuracy: 85.8159, Train IOU: 0.7315, Test Loss: 0.2859, Test Accuracy: 88.3165, Test IOU: 0.7705\n"
     ]
    },
    {
     "name": "stderr",
     "output_type": "stream",
     "text": [
      "100%|██████████| 246/246 [00:52<00:00,  4.68it/s]\n"
     ]
    },
    {
     "name": "stdout",
     "output_type": "stream",
     "text": [
      "Epoch 157/250: Train Loss: 0.3180, Train Accuracy: 85.8706, Train IOU: 0.7319, Test Loss: 0.2889, Test Accuracy: 87.8415, Test IOU: 0.7579\n"
     ]
    },
    {
     "name": "stderr",
     "output_type": "stream",
     "text": [
      "100%|██████████| 246/246 [00:52<00:00,  4.67it/s]\n"
     ]
    },
    {
     "name": "stdout",
     "output_type": "stream",
     "text": [
      "Epoch 158/250: Train Loss: 0.3216, Train Accuracy: 85.7026, Train IOU: 0.7291, Test Loss: 0.2853, Test Accuracy: 88.1213, Test IOU: 0.7643\n"
     ]
    },
    {
     "name": "stderr",
     "output_type": "stream",
     "text": [
      "100%|██████████| 246/246 [00:52<00:00,  4.67it/s]\n"
     ]
    },
    {
     "name": "stdout",
     "output_type": "stream",
     "text": [
      "Epoch 159/250: Train Loss: 0.3188, Train Accuracy: 85.7233, Train IOU: 0.7285, Test Loss: 0.2870, Test Accuracy: 88.0937, Test IOU: 0.7641\n"
     ]
    },
    {
     "name": "stderr",
     "output_type": "stream",
     "text": [
      "100%|██████████| 246/246 [00:52<00:00,  4.66it/s]\n"
     ]
    },
    {
     "name": "stdout",
     "output_type": "stream",
     "text": [
      "Epoch 160/250: Train Loss: 0.3150, Train Accuracy: 86.0101, Train IOU: 0.7350, Test Loss: 0.2810, Test Accuracy: 88.3391, Test IOU: 0.7698\n"
     ]
    },
    {
     "name": "stderr",
     "output_type": "stream",
     "text": [
      "100%|██████████| 246/246 [00:52<00:00,  4.68it/s]\n"
     ]
    },
    {
     "name": "stdout",
     "output_type": "stream",
     "text": [
      "Epoch 161/250: Train Loss: 0.3158, Train Accuracy: 85.9309, Train IOU: 0.7326, Test Loss: 0.2840, Test Accuracy: 88.3404, Test IOU: 0.7707\n"
     ]
    },
    {
     "name": "stderr",
     "output_type": "stream",
     "text": [
      "100%|██████████| 246/246 [00:52<00:00,  4.66it/s]\n"
     ]
    },
    {
     "name": "stdout",
     "output_type": "stream",
     "text": [
      "Epoch 162/250: Train Loss: 0.3139, Train Accuracy: 86.0591, Train IOU: 0.7349, Test Loss: 0.2835, Test Accuracy: 88.3641, Test IOU: 0.7707\n"
     ]
    },
    {
     "name": "stderr",
     "output_type": "stream",
     "text": [
      "100%|██████████| 246/246 [00:52<00:00,  4.66it/s]\n"
     ]
    },
    {
     "name": "stdout",
     "output_type": "stream",
     "text": [
      "Epoch 163/250: Train Loss: 0.3254, Train Accuracy: 85.6225, Train IOU: 0.7287, Test Loss: 0.2819, Test Accuracy: 88.4186, Test IOU: 0.7714\n"
     ]
    },
    {
     "name": "stderr",
     "output_type": "stream",
     "text": [
      "100%|██████████| 246/246 [00:52<00:00,  4.65it/s]\n"
     ]
    },
    {
     "name": "stdout",
     "output_type": "stream",
     "text": [
      "Epoch 164/250: Train Loss: 0.3160, Train Accuracy: 85.9230, Train IOU: 0.7320, Test Loss: 0.2828, Test Accuracy: 88.1109, Test IOU: 0.7634\n"
     ]
    },
    {
     "name": "stderr",
     "output_type": "stream",
     "text": [
      "100%|██████████| 246/246 [00:52<00:00,  4.66it/s]\n"
     ]
    },
    {
     "name": "stdout",
     "output_type": "stream",
     "text": [
      "Epoch 165/250: Train Loss: 0.3087, Train Accuracy: 86.2374, Train IOU: 0.7373, Test Loss: 0.2870, Test Accuracy: 88.2498, Test IOU: 0.7687\n"
     ]
    },
    {
     "name": "stderr",
     "output_type": "stream",
     "text": [
      "100%|██████████| 246/246 [00:52<00:00,  4.65it/s]\n"
     ]
    },
    {
     "name": "stdout",
     "output_type": "stream",
     "text": [
      "Epoch 166/250: Train Loss: 0.3180, Train Accuracy: 85.8258, Train IOU: 0.7313, Test Loss: 0.2830, Test Accuracy: 88.3335, Test IOU: 0.7705\n"
     ]
    },
    {
     "name": "stderr",
     "output_type": "stream",
     "text": [
      "100%|██████████| 246/246 [00:52<00:00,  4.66it/s]\n"
     ]
    },
    {
     "name": "stdout",
     "output_type": "stream",
     "text": [
      "Epoch 167/250: Train Loss: 0.3118, Train Accuracy: 86.1612, Train IOU: 0.7369, Test Loss: 0.2847, Test Accuracy: 88.2846, Test IOU: 0.7692\n"
     ]
    },
    {
     "name": "stderr",
     "output_type": "stream",
     "text": [
      "100%|██████████| 246/246 [00:52<00:00,  4.65it/s]\n"
     ]
    },
    {
     "name": "stdout",
     "output_type": "stream",
     "text": [
      "Epoch 168/250: Train Loss: 0.3102, Train Accuracy: 86.2467, Train IOU: 0.7387, Test Loss: 0.2813, Test Accuracy: 88.4562, Test IOU: 0.7729\n"
     ]
    },
    {
     "name": "stderr",
     "output_type": "stream",
     "text": [
      "100%|██████████| 246/246 [00:52<00:00,  4.68it/s]\n"
     ]
    },
    {
     "name": "stdout",
     "output_type": "stream",
     "text": [
      "Epoch 169/250: Train Loss: 0.3092, Train Accuracy: 86.2067, Train IOU: 0.7372, Test Loss: 0.2825, Test Accuracy: 88.2961, Test IOU: 0.7688\n"
     ]
    },
    {
     "name": "stderr",
     "output_type": "stream",
     "text": [
      "100%|██████████| 246/246 [00:52<00:00,  4.65it/s]\n"
     ]
    },
    {
     "name": "stdout",
     "output_type": "stream",
     "text": [
      "Epoch 170/250: Train Loss: 0.3186, Train Accuracy: 85.7518, Train IOU: 0.7301, Test Loss: 0.2897, Test Accuracy: 88.4417, Test IOU: 0.7753\n"
     ]
    },
    {
     "name": "stderr",
     "output_type": "stream",
     "text": [
      "100%|██████████| 246/246 [00:52<00:00,  4.67it/s]\n"
     ]
    },
    {
     "name": "stdout",
     "output_type": "stream",
     "text": [
      "Epoch 171/250: Train Loss: 0.3143, Train Accuracy: 85.8675, Train IOU: 0.7313, Test Loss: 0.2816, Test Accuracy: 88.3194, Test IOU: 0.7681\n"
     ]
    },
    {
     "name": "stderr",
     "output_type": "stream",
     "text": [
      "100%|██████████| 246/246 [00:53<00:00,  4.64it/s]\n"
     ]
    },
    {
     "name": "stdout",
     "output_type": "stream",
     "text": [
      "Epoch 172/250: Train Loss: 0.3119, Train Accuracy: 86.1339, Train IOU: 0.7364, Test Loss: 0.2883, Test Accuracy: 88.3396, Test IOU: 0.7713\n"
     ]
    },
    {
     "name": "stderr",
     "output_type": "stream",
     "text": [
      "100%|██████████| 246/246 [00:52<00:00,  4.66it/s]\n"
     ]
    },
    {
     "name": "stdout",
     "output_type": "stream",
     "text": [
      "Epoch 173/250: Train Loss: 0.3089, Train Accuracy: 86.2619, Train IOU: 0.7383, Test Loss: 0.2838, Test Accuracy: 88.3372, Test IOU: 0.7702\n"
     ]
    },
    {
     "name": "stderr",
     "output_type": "stream",
     "text": [
      "100%|██████████| 246/246 [00:52<00:00,  4.66it/s]\n"
     ]
    },
    {
     "name": "stdout",
     "output_type": "stream",
     "text": [
      "Epoch 174/250: Train Loss: 0.3218, Train Accuracy: 85.5737, Train IOU: 0.7268, Test Loss: 0.2822, Test Accuracy: 88.3746, Test IOU: 0.7707\n"
     ]
    },
    {
     "name": "stderr",
     "output_type": "stream",
     "text": [
      "100%|██████████| 246/246 [01:08<00:00,  3.60it/s]\n"
     ]
    },
    {
     "name": "stdout",
     "output_type": "stream",
     "text": [
      "Epoch 175/250: Train Loss: 0.3121, Train Accuracy: 86.1102, Train IOU: 0.7356, Test Loss: 0.2803, Test Accuracy: 88.3782, Test IOU: 0.7703\n"
     ]
    },
    {
     "name": "stderr",
     "output_type": "stream",
     "text": [
      "100%|██████████| 246/246 [01:01<00:00,  4.02it/s]\n"
     ]
    },
    {
     "name": "stdout",
     "output_type": "stream",
     "text": [
      "Epoch 176/250: Train Loss: 0.3094, Train Accuracy: 86.2706, Train IOU: 0.7385, Test Loss: 0.2781, Test Accuracy: 88.4499, Test IOU: 0.7710\n"
     ]
    },
    {
     "name": "stderr",
     "output_type": "stream",
     "text": [
      "100%|██████████| 246/246 [01:01<00:00,  4.02it/s]\n"
     ]
    },
    {
     "name": "stdout",
     "output_type": "stream",
     "text": [
      "Epoch 177/250: Train Loss: 0.3020, Train Accuracy: 86.5846, Train IOU: 0.7439, Test Loss: 0.2813, Test Accuracy: 88.2932, Test IOU: 0.7674\n"
     ]
    },
    {
     "name": "stderr",
     "output_type": "stream",
     "text": [
      "100%|██████████| 246/246 [01:08<00:00,  3.59it/s]\n"
     ]
    },
    {
     "name": "stdout",
     "output_type": "stream",
     "text": [
      "Epoch 178/250: Train Loss: 0.3160, Train Accuracy: 86.0064, Train IOU: 0.7344, Test Loss: 0.2808, Test Accuracy: 88.3895, Test IOU: 0.7704\n"
     ]
    },
    {
     "name": "stderr",
     "output_type": "stream",
     "text": [
      "100%|██████████| 246/246 [01:00<00:00,  4.05it/s]\n"
     ]
    },
    {
     "name": "stdout",
     "output_type": "stream",
     "text": [
      "Epoch 179/250: Train Loss: 0.3073, Train Accuracy: 86.4965, Train IOU: 0.7429, Test Loss: 0.2817, Test Accuracy: 88.2958, Test IOU: 0.7682\n"
     ]
    },
    {
     "name": "stderr",
     "output_type": "stream",
     "text": [
      "100%|██████████| 246/246 [01:00<00:00,  4.07it/s]\n"
     ]
    },
    {
     "name": "stdout",
     "output_type": "stream",
     "text": [
      "Epoch 180/250: Train Loss: 0.3177, Train Accuracy: 85.8943, Train IOU: 0.7327, Test Loss: 0.2830, Test Accuracy: 88.3724, Test IOU: 0.7710\n"
     ]
    },
    {
     "name": "stderr",
     "output_type": "stream",
     "text": [
      "100%|██████████| 246/246 [00:50<00:00,  4.85it/s]\n"
     ]
    },
    {
     "name": "stdout",
     "output_type": "stream",
     "text": [
      "Epoch 181/250: Train Loss: 0.3114, Train Accuracy: 86.2243, Train IOU: 0.7379, Test Loss: 0.2850, Test Accuracy: 88.0885, Test IOU: 0.7632\n"
     ]
    },
    {
     "name": "stderr",
     "output_type": "stream",
     "text": [
      "100%|██████████| 246/246 [00:51<00:00,  4.76it/s]\n"
     ]
    },
    {
     "name": "stdout",
     "output_type": "stream",
     "text": [
      "Epoch 182/250: Train Loss: 0.3082, Train Accuracy: 86.3587, Train IOU: 0.7403, Test Loss: 0.2822, Test Accuracy: 88.3029, Test IOU: 0.7675\n"
     ]
    },
    {
     "name": "stderr",
     "output_type": "stream",
     "text": [
      "100%|██████████| 246/246 [00:52<00:00,  4.68it/s]\n"
     ]
    },
    {
     "name": "stdout",
     "output_type": "stream",
     "text": [
      "Epoch 183/250: Train Loss: 0.3140, Train Accuracy: 86.0504, Train IOU: 0.7351, Test Loss: 0.2766, Test Accuracy: 88.3633, Test IOU: 0.7687\n"
     ]
    },
    {
     "name": "stderr",
     "output_type": "stream",
     "text": [
      "100%|██████████| 246/246 [00:52<00:00,  4.70it/s]\n"
     ]
    },
    {
     "name": "stdout",
     "output_type": "stream",
     "text": [
      "Epoch 184/250: Train Loss: 0.3108, Train Accuracy: 86.2069, Train IOU: 0.7376, Test Loss: 0.2796, Test Accuracy: 88.4320, Test IOU: 0.7710\n"
     ]
    },
    {
     "name": "stderr",
     "output_type": "stream",
     "text": [
      "100%|██████████| 246/246 [00:51<00:00,  4.74it/s]\n"
     ]
    },
    {
     "name": "stdout",
     "output_type": "stream",
     "text": [
      "Epoch 185/250: Train Loss: 0.3147, Train Accuracy: 86.1095, Train IOU: 0.7356, Test Loss: 0.2817, Test Accuracy: 88.3505, Test IOU: 0.7696\n"
     ]
    },
    {
     "name": "stderr",
     "output_type": "stream",
     "text": [
      "100%|██████████| 246/246 [00:52<00:00,  4.70it/s]\n"
     ]
    },
    {
     "name": "stdout",
     "output_type": "stream",
     "text": [
      "Epoch 186/250: Train Loss: 0.3094, Train Accuracy: 86.2907, Train IOU: 0.7396, Test Loss: 0.2774, Test Accuracy: 88.4409, Test IOU: 0.7708\n"
     ]
    },
    {
     "name": "stderr",
     "output_type": "stream",
     "text": [
      "100%|██████████| 246/246 [00:52<00:00,  4.67it/s]\n"
     ]
    },
    {
     "name": "stdout",
     "output_type": "stream",
     "text": [
      "Epoch 187/250: Train Loss: 0.3111, Train Accuracy: 86.1958, Train IOU: 0.7371, Test Loss: 0.2811, Test Accuracy: 88.2913, Test IOU: 0.7678\n"
     ]
    },
    {
     "name": "stderr",
     "output_type": "stream",
     "text": [
      "100%|██████████| 246/246 [00:52<00:00,  4.64it/s]\n"
     ]
    },
    {
     "name": "stdout",
     "output_type": "stream",
     "text": [
      "Epoch 188/250: Train Loss: 0.3088, Train Accuracy: 86.3738, Train IOU: 0.7410, Test Loss: 0.2814, Test Accuracy: 88.5593, Test IOU: 0.7752\n"
     ]
    },
    {
     "name": "stderr",
     "output_type": "stream",
     "text": [
      "100%|██████████| 246/246 [01:14<00:00,  3.30it/s]\n"
     ]
    },
    {
     "name": "stdout",
     "output_type": "stream",
     "text": [
      "Epoch 189/250: Train Loss: 0.3077, Train Accuracy: 86.3321, Train IOU: 0.7399, Test Loss: 0.2786, Test Accuracy: 88.4527, Test IOU: 0.7714\n"
     ]
    },
    {
     "name": "stderr",
     "output_type": "stream",
     "text": [
      "100%|██████████| 246/246 [01:01<00:00,  4.01it/s]\n"
     ]
    },
    {
     "name": "stdout",
     "output_type": "stream",
     "text": [
      "Epoch 190/250: Train Loss: 0.3069, Train Accuracy: 86.4105, Train IOU: 0.7410, Test Loss: 0.2847, Test Accuracy: 88.6104, Test IOU: 0.7776\n"
     ]
    },
    {
     "name": "stderr",
     "output_type": "stream",
     "text": [
      "100%|██████████| 246/246 [01:01<00:00,  4.00it/s]\n"
     ]
    },
    {
     "name": "stdout",
     "output_type": "stream",
     "text": [
      "Epoch 191/250: Train Loss: 0.3064, Train Accuracy: 86.3040, Train IOU: 0.7391, Test Loss: 0.2766, Test Accuracy: 88.5078, Test IOU: 0.7726\n"
     ]
    },
    {
     "name": "stderr",
     "output_type": "stream",
     "text": [
      "100%|██████████| 246/246 [01:01<00:00,  4.00it/s]\n"
     ]
    },
    {
     "name": "stdout",
     "output_type": "stream",
     "text": [
      "Epoch 192/250: Train Loss: 0.3088, Train Accuracy: 86.2538, Train IOU: 0.7383, Test Loss: 0.2779, Test Accuracy: 88.5002, Test IOU: 0.7720\n"
     ]
    },
    {
     "name": "stderr",
     "output_type": "stream",
     "text": [
      "100%|██████████| 246/246 [01:08<00:00,  3.59it/s]\n"
     ]
    },
    {
     "name": "stdout",
     "output_type": "stream",
     "text": [
      "Epoch 193/250: Train Loss: 0.3106, Train Accuracy: 86.1208, Train IOU: 0.7360, Test Loss: 0.2780, Test Accuracy: 88.5319, Test IOU: 0.7738\n"
     ]
    },
    {
     "name": "stderr",
     "output_type": "stream",
     "text": [
      "100%|██████████| 246/246 [01:05<00:00,  3.78it/s]\n"
     ]
    },
    {
     "name": "stdout",
     "output_type": "stream",
     "text": [
      "Epoch 194/250: Train Loss: 0.3061, Train Accuracy: 86.4142, Train IOU: 0.7415, Test Loss: 0.2802, Test Accuracy: 88.5892, Test IOU: 0.7760\n"
     ]
    },
    {
     "name": "stderr",
     "output_type": "stream",
     "text": [
      "100%|██████████| 246/246 [01:00<00:00,  4.04it/s]\n"
     ]
    },
    {
     "name": "stdout",
     "output_type": "stream",
     "text": [
      "Epoch 195/250: Train Loss: 0.3058, Train Accuracy: 86.4906, Train IOU: 0.7428, Test Loss: 0.2752, Test Accuracy: 88.5634, Test IOU: 0.7734\n"
     ]
    },
    {
     "name": "stderr",
     "output_type": "stream",
     "text": [
      "100%|██████████| 246/246 [01:03<00:00,  3.87it/s]\n"
     ]
    },
    {
     "name": "stdout",
     "output_type": "stream",
     "text": [
      "Epoch 196/250: Train Loss: 0.3109, Train Accuracy: 86.2523, Train IOU: 0.7385, Test Loss: 0.2794, Test Accuracy: 88.4953, Test IOU: 0.7726\n"
     ]
    },
    {
     "name": "stderr",
     "output_type": "stream",
     "text": [
      "100%|██████████| 246/246 [01:13<00:00,  3.34it/s]\n"
     ]
    },
    {
     "name": "stdout",
     "output_type": "stream",
     "text": [
      "Epoch 197/250: Train Loss: 0.3045, Train Accuracy: 86.5588, Train IOU: 0.7435, Test Loss: 0.2770, Test Accuracy: 88.4850, Test IOU: 0.7715\n"
     ]
    },
    {
     "name": "stderr",
     "output_type": "stream",
     "text": [
      "100%|██████████| 246/246 [01:13<00:00,  3.36it/s]\n"
     ]
    },
    {
     "name": "stdout",
     "output_type": "stream",
     "text": [
      "Epoch 198/250: Train Loss: 0.3019, Train Accuracy: 86.6035, Train IOU: 0.7446, Test Loss: 0.2778, Test Accuracy: 88.6020, Test IOU: 0.7754\n"
     ]
    },
    {
     "name": "stderr",
     "output_type": "stream",
     "text": [
      "100%|██████████| 246/246 [01:13<00:00,  3.34it/s]\n"
     ]
    },
    {
     "name": "stdout",
     "output_type": "stream",
     "text": [
      "Epoch 199/250: Train Loss: 0.3075, Train Accuracy: 86.4663, Train IOU: 0.7418, Test Loss: 0.2796, Test Accuracy: 88.3211, Test IOU: 0.7670\n"
     ]
    },
    {
     "name": "stderr",
     "output_type": "stream",
     "text": [
      "100%|██████████| 246/246 [01:13<00:00,  3.35it/s]\n"
     ]
    },
    {
     "name": "stdout",
     "output_type": "stream",
     "text": [
      "Epoch 200/250: Train Loss: 0.3025, Train Accuracy: 86.5336, Train IOU: 0.7435, Test Loss: 0.2803, Test Accuracy: 88.5555, Test IOU: 0.7744\n"
     ]
    },
    {
     "name": "stderr",
     "output_type": "stream",
     "text": [
      "100%|██████████| 246/246 [01:04<00:00,  3.80it/s]\n"
     ]
    },
    {
     "name": "stdout",
     "output_type": "stream",
     "text": [
      "Epoch 201/250: Train Loss: 0.3049, Train Accuracy: 86.4559, Train IOU: 0.7422, Test Loss: 0.2798, Test Accuracy: 88.5258, Test IOU: 0.7730\n"
     ]
    },
    {
     "name": "stderr",
     "output_type": "stream",
     "text": [
      "100%|██████████| 246/246 [01:11<00:00,  3.44it/s]\n"
     ]
    },
    {
     "name": "stdout",
     "output_type": "stream",
     "text": [
      "Epoch 202/250: Train Loss: 0.3070, Train Accuracy: 86.4812, Train IOU: 0.7427, Test Loss: 0.2762, Test Accuracy: 88.5509, Test IOU: 0.7732\n"
     ]
    },
    {
     "name": "stderr",
     "output_type": "stream",
     "text": [
      "100%|██████████| 246/246 [01:20<00:00,  3.05it/s]\n"
     ]
    },
    {
     "name": "stdout",
     "output_type": "stream",
     "text": [
      "Epoch 203/250: Train Loss: 0.3085, Train Accuracy: 86.4103, Train IOU: 0.7416, Test Loss: 0.2840, Test Accuracy: 88.6300, Test IOU: 0.7780\n"
     ]
    },
    {
     "name": "stderr",
     "output_type": "stream",
     "text": [
      "100%|██████████| 246/246 [01:00<00:00,  4.04it/s]\n"
     ]
    },
    {
     "name": "stdout",
     "output_type": "stream",
     "text": [
      "Epoch 204/250: Train Loss: 0.3034, Train Accuracy: 86.6576, Train IOU: 0.7460, Test Loss: 0.2787, Test Accuracy: 88.6458, Test IOU: 0.7768\n"
     ]
    },
    {
     "name": "stderr",
     "output_type": "stream",
     "text": [
      "100%|██████████| 246/246 [01:00<00:00,  4.04it/s]\n"
     ]
    },
    {
     "name": "stdout",
     "output_type": "stream",
     "text": [
      "Epoch 205/250: Train Loss: 0.3043, Train Accuracy: 86.4933, Train IOU: 0.7423, Test Loss: 0.2832, Test Accuracy: 88.3857, Test IOU: 0.7709\n"
     ]
    },
    {
     "name": "stderr",
     "output_type": "stream",
     "text": [
      "100%|██████████| 246/246 [01:00<00:00,  4.04it/s]\n"
     ]
    },
    {
     "name": "stdout",
     "output_type": "stream",
     "text": [
      "Epoch 206/250: Train Loss: 0.3101, Train Accuracy: 86.2300, Train IOU: 0.7375, Test Loss: 0.2747, Test Accuracy: 88.4894, Test IOU: 0.7710\n"
     ]
    },
    {
     "name": "stderr",
     "output_type": "stream",
     "text": [
      "100%|██████████| 246/246 [01:39<00:00,  2.46it/s]\n"
     ]
    },
    {
     "name": "stdout",
     "output_type": "stream",
     "text": [
      "Epoch 207/250: Train Loss: 0.3030, Train Accuracy: 86.6574, Train IOU: 0.7460, Test Loss: 0.2792, Test Accuracy: 88.7327, Test IOU: 0.7787\n"
     ]
    },
    {
     "name": "stderr",
     "output_type": "stream",
     "text": [
      "100%|██████████| 246/246 [01:00<00:00,  4.04it/s]\n"
     ]
    },
    {
     "name": "stdout",
     "output_type": "stream",
     "text": [
      "Epoch 208/250: Train Loss: 0.3052, Train Accuracy: 86.4704, Train IOU: 0.7424, Test Loss: 0.2797, Test Accuracy: 88.7175, Test IOU: 0.7792\n"
     ]
    },
    {
     "name": "stderr",
     "output_type": "stream",
     "text": [
      "100%|██████████| 246/246 [01:00<00:00,  4.05it/s]\n"
     ]
    },
    {
     "name": "stdout",
     "output_type": "stream",
     "text": [
      "Epoch 209/250: Train Loss: 0.3049, Train Accuracy: 86.4980, Train IOU: 0.7423, Test Loss: 0.2774, Test Accuracy: 88.3978, Test IOU: 0.7690\n"
     ]
    },
    {
     "name": "stderr",
     "output_type": "stream",
     "text": [
      "100%|██████████| 246/246 [01:16<00:00,  3.22it/s]\n"
     ]
    },
    {
     "name": "stdout",
     "output_type": "stream",
     "text": [
      "Epoch 210/250: Train Loss: 0.3090, Train Accuracy: 86.3204, Train IOU: 0.7401, Test Loss: 0.2764, Test Accuracy: 88.7236, Test IOU: 0.7778\n"
     ]
    },
    {
     "name": "stderr",
     "output_type": "stream",
     "text": [
      "100%|██████████| 246/246 [01:00<00:00,  4.04it/s]\n"
     ]
    },
    {
     "name": "stdout",
     "output_type": "stream",
     "text": [
      "Epoch 211/250: Train Loss: 0.3070, Train Accuracy: 86.3626, Train IOU: 0.7400, Test Loss: 0.2747, Test Accuracy: 88.4497, Test IOU: 0.7696\n"
     ]
    },
    {
     "name": "stderr",
     "output_type": "stream",
     "text": [
      "100%|██████████| 246/246 [01:00<00:00,  4.04it/s]\n"
     ]
    },
    {
     "name": "stdout",
     "output_type": "stream",
     "text": [
      "Epoch 212/250: Train Loss: 0.3115, Train Accuracy: 86.1961, Train IOU: 0.7374, Test Loss: 0.2754, Test Accuracy: 88.6110, Test IOU: 0.7750\n"
     ]
    },
    {
     "name": "stderr",
     "output_type": "stream",
     "text": [
      "100%|██████████| 246/246 [01:01<00:00,  4.03it/s]\n"
     ]
    },
    {
     "name": "stdout",
     "output_type": "stream",
     "text": [
      "Epoch 213/250: Train Loss: 0.3074, Train Accuracy: 86.3520, Train IOU: 0.7404, Test Loss: 0.2735, Test Accuracy: 88.5578, Test IOU: 0.7725\n"
     ]
    },
    {
     "name": "stderr",
     "output_type": "stream",
     "text": [
      "100%|██████████| 246/246 [01:00<00:00,  4.03it/s]\n"
     ]
    },
    {
     "name": "stdout",
     "output_type": "stream",
     "text": [
      "Epoch 214/250: Train Loss: 0.3008, Train Accuracy: 86.6802, Train IOU: 0.7457, Test Loss: 0.2748, Test Accuracy: 88.5923, Test IOU: 0.7736\n"
     ]
    },
    {
     "name": "stderr",
     "output_type": "stream",
     "text": [
      "100%|██████████| 246/246 [01:04<00:00,  3.79it/s]\n"
     ]
    },
    {
     "name": "stdout",
     "output_type": "stream",
     "text": [
      "Epoch 215/250: Train Loss: 0.3009, Train Accuracy: 86.7888, Train IOU: 0.7477, Test Loss: 0.2753, Test Accuracy: 88.7321, Test IOU: 0.7784\n"
     ]
    },
    {
     "name": "stderr",
     "output_type": "stream",
     "text": [
      "100%|██████████| 246/246 [01:00<00:00,  4.04it/s]\n"
     ]
    },
    {
     "name": "stdout",
     "output_type": "stream",
     "text": [
      "Epoch 216/250: Train Loss: 0.3041, Train Accuracy: 86.5012, Train IOU: 0.7421, Test Loss: 0.2737, Test Accuracy: 88.4563, Test IOU: 0.7692\n"
     ]
    },
    {
     "name": "stderr",
     "output_type": "stream",
     "text": [
      "100%|██████████| 246/246 [01:00<00:00,  4.04it/s]\n"
     ]
    },
    {
     "name": "stdout",
     "output_type": "stream",
     "text": [
      "Epoch 217/250: Train Loss: 0.2973, Train Accuracy: 86.9002, Train IOU: 0.7500, Test Loss: 0.2762, Test Accuracy: 88.5706, Test IOU: 0.7743\n"
     ]
    },
    {
     "name": "stderr",
     "output_type": "stream",
     "text": [
      "100%|██████████| 246/246 [01:13<00:00,  3.33it/s]\n"
     ]
    },
    {
     "name": "stdout",
     "output_type": "stream",
     "text": [
      "Epoch 218/250: Train Loss: 0.3021, Train Accuracy: 86.7644, Train IOU: 0.7470, Test Loss: 0.2768, Test Accuracy: 88.6223, Test IOU: 0.7758\n"
     ]
    },
    {
     "name": "stderr",
     "output_type": "stream",
     "text": [
      "100%|██████████| 246/246 [01:01<00:00,  4.02it/s]\n"
     ]
    },
    {
     "name": "stdout",
     "output_type": "stream",
     "text": [
      "Epoch 219/250: Train Loss: 0.3069, Train Accuracy: 86.4741, Train IOU: 0.7423, Test Loss: 0.2792, Test Accuracy: 88.8197, Test IOU: 0.7817\n"
     ]
    },
    {
     "name": "stderr",
     "output_type": "stream",
     "text": [
      "100%|██████████| 246/246 [01:00<00:00,  4.04it/s]\n"
     ]
    },
    {
     "name": "stdout",
     "output_type": "stream",
     "text": [
      "Epoch 220/250: Train Loss: 0.3087, Train Accuracy: 86.2881, Train IOU: 0.7390, Test Loss: 0.2729, Test Accuracy: 88.6216, Test IOU: 0.7739\n"
     ]
    },
    {
     "name": "stderr",
     "output_type": "stream",
     "text": [
      "100%|██████████| 246/246 [01:01<00:00,  4.02it/s]\n"
     ]
    },
    {
     "name": "stdout",
     "output_type": "stream",
     "text": [
      "Epoch 221/250: Train Loss: 0.3096, Train Accuracy: 86.3477, Train IOU: 0.7405, Test Loss: 0.2775, Test Accuracy: 88.5508, Test IOU: 0.7739\n"
     ]
    },
    {
     "name": "stderr",
     "output_type": "stream",
     "text": [
      "100%|██████████| 246/246 [01:01<00:00,  4.03it/s]\n"
     ]
    },
    {
     "name": "stdout",
     "output_type": "stream",
     "text": [
      "Epoch 222/250: Train Loss: 0.3056, Train Accuracy: 86.4250, Train IOU: 0.7413, Test Loss: 0.2750, Test Accuracy: 88.4711, Test IOU: 0.7698\n"
     ]
    },
    {
     "name": "stderr",
     "output_type": "stream",
     "text": [
      "100%|██████████| 246/246 [01:13<00:00,  3.35it/s]\n"
     ]
    },
    {
     "name": "stdout",
     "output_type": "stream",
     "text": [
      "Epoch 223/250: Train Loss: 0.3059, Train Accuracy: 86.4272, Train IOU: 0.7410, Test Loss: 0.2741, Test Accuracy: 88.4452, Test IOU: 0.7697\n"
     ]
    },
    {
     "name": "stderr",
     "output_type": "stream",
     "text": [
      "100%|██████████| 246/246 [01:00<00:00,  4.04it/s]\n"
     ]
    },
    {
     "name": "stdout",
     "output_type": "stream",
     "text": [
      "Epoch 224/250: Train Loss: 0.3047, Train Accuracy: 86.5521, Train IOU: 0.7437, Test Loss: 0.2739, Test Accuracy: 88.5910, Test IOU: 0.7732\n"
     ]
    },
    {
     "name": "stderr",
     "output_type": "stream",
     "text": [
      "100%|██████████| 246/246 [01:01<00:00,  3.97it/s]\n"
     ]
    },
    {
     "name": "stdout",
     "output_type": "stream",
     "text": [
      "Epoch 225/250: Train Loss: 0.2962, Train Accuracy: 86.9837, Train IOU: 0.7510, Test Loss: 0.2748, Test Accuracy: 88.6454, Test IOU: 0.7749\n"
     ]
    },
    {
     "name": "stderr",
     "output_type": "stream",
     "text": [
      "100%|██████████| 246/246 [01:13<00:00,  3.34it/s]\n"
     ]
    },
    {
     "name": "stdout",
     "output_type": "stream",
     "text": [
      "Epoch 226/250: Train Loss: 0.3004, Train Accuracy: 86.7061, Train IOU: 0.7465, Test Loss: 0.2800, Test Accuracy: 88.8241, Test IOU: 0.7822\n"
     ]
    },
    {
     "name": "stderr",
     "output_type": "stream",
     "text": [
      "100%|██████████| 246/246 [01:00<00:00,  4.03it/s]\n"
     ]
    },
    {
     "name": "stdout",
     "output_type": "stream",
     "text": [
      "Epoch 227/250: Train Loss: 0.3029, Train Accuracy: 86.5893, Train IOU: 0.7438, Test Loss: 0.2771, Test Accuracy: 88.6805, Test IOU: 0.7772\n"
     ]
    },
    {
     "name": "stderr",
     "output_type": "stream",
     "text": [
      "100%|██████████| 246/246 [01:13<00:00,  3.36it/s]\n"
     ]
    },
    {
     "name": "stdout",
     "output_type": "stream",
     "text": [
      "Epoch 228/250: Train Loss: 0.3041, Train Accuracy: 86.5724, Train IOU: 0.7442, Test Loss: 0.2722, Test Accuracy: 88.8177, Test IOU: 0.7795\n"
     ]
    },
    {
     "name": "stderr",
     "output_type": "stream",
     "text": [
      "100%|██████████| 246/246 [01:01<00:00,  4.03it/s]\n"
     ]
    },
    {
     "name": "stdout",
     "output_type": "stream",
     "text": [
      "Epoch 229/250: Train Loss: 0.3011, Train Accuracy: 86.7074, Train IOU: 0.7464, Test Loss: 0.2775, Test Accuracy: 88.8607, Test IOU: 0.7821\n"
     ]
    },
    {
     "name": "stderr",
     "output_type": "stream",
     "text": [
      "100%|██████████| 246/246 [01:01<00:00,  4.03it/s]\n"
     ]
    },
    {
     "name": "stdout",
     "output_type": "stream",
     "text": [
      "Epoch 230/250: Train Loss: 0.3037, Train Accuracy: 86.5089, Train IOU: 0.7431, Test Loss: 0.2736, Test Accuracy: 88.6923, Test IOU: 0.7764\n"
     ]
    },
    {
     "name": "stderr",
     "output_type": "stream",
     "text": [
      "100%|██████████| 246/246 [01:13<00:00,  3.34it/s]\n"
     ]
    },
    {
     "name": "stdout",
     "output_type": "stream",
     "text": [
      "Epoch 231/250: Train Loss: 0.3031, Train Accuracy: 86.5724, Train IOU: 0.7441, Test Loss: 0.2757, Test Accuracy: 88.7946, Test IOU: 0.7802\n"
     ]
    },
    {
     "name": "stderr",
     "output_type": "stream",
     "text": [
      "100%|██████████| 246/246 [01:49<00:00,  2.25it/s]\n"
     ]
    },
    {
     "name": "stdout",
     "output_type": "stream",
     "text": [
      "Epoch 232/250: Train Loss: 0.3008, Train Accuracy: 86.6691, Train IOU: 0.7460, Test Loss: 0.2746, Test Accuracy: 88.6313, Test IOU: 0.7751\n"
     ]
    },
    {
     "name": "stderr",
     "output_type": "stream",
     "text": [
      "100%|██████████| 246/246 [01:00<00:00,  4.04it/s]\n"
     ]
    },
    {
     "name": "stdout",
     "output_type": "stream",
     "text": [
      "Epoch 233/250: Train Loss: 0.3017, Train Accuracy: 86.6934, Train IOU: 0.7462, Test Loss: 0.2714, Test Accuracy: 88.7100, Test IOU: 0.7758\n"
     ]
    },
    {
     "name": "stderr",
     "output_type": "stream",
     "text": [
      "100%|██████████| 246/246 [01:31<00:00,  2.68it/s]\n"
     ]
    },
    {
     "name": "stdout",
     "output_type": "stream",
     "text": [
      "Epoch 234/250: Train Loss: 0.3009, Train Accuracy: 86.7503, Train IOU: 0.7473, Test Loss: 0.2732, Test Accuracy: 88.8428, Test IOU: 0.7805\n"
     ]
    },
    {
     "name": "stderr",
     "output_type": "stream",
     "text": [
      "100%|██████████| 246/246 [01:01<00:00,  4.01it/s]\n"
     ]
    },
    {
     "name": "stdout",
     "output_type": "stream",
     "text": [
      "Epoch 235/250: Train Loss: 0.2967, Train Accuracy: 86.8806, Train IOU: 0.7491, Test Loss: 0.2736, Test Accuracy: 88.7686, Test IOU: 0.7787\n"
     ]
    },
    {
     "name": "stderr",
     "output_type": "stream",
     "text": [
      "100%|██████████| 246/246 [01:11<00:00,  3.45it/s]\n"
     ]
    },
    {
     "name": "stdout",
     "output_type": "stream",
     "text": [
      "Epoch 236/250: Train Loss: 0.3002, Train Accuracy: 86.7844, Train IOU: 0.7478, Test Loss: 0.2713, Test Accuracy: 88.8150, Test IOU: 0.7788\n"
     ]
    },
    {
     "name": "stderr",
     "output_type": "stream",
     "text": [
      "100%|██████████| 246/246 [01:00<00:00,  4.04it/s]\n"
     ]
    },
    {
     "name": "stdout",
     "output_type": "stream",
     "text": [
      "Epoch 237/250: Train Loss: 0.3045, Train Accuracy: 86.4834, Train IOU: 0.7426, Test Loss: 0.2766, Test Accuracy: 88.8520, Test IOU: 0.7819\n"
     ]
    },
    {
     "name": "stderr",
     "output_type": "stream",
     "text": [
      "100%|██████████| 246/246 [01:01<00:00,  4.03it/s]\n"
     ]
    },
    {
     "name": "stdout",
     "output_type": "stream",
     "text": [
      "Epoch 238/250: Train Loss: 0.2991, Train Accuracy: 86.8294, Train IOU: 0.7485, Test Loss: 0.2720, Test Accuracy: 88.8309, Test IOU: 0.7798\n"
     ]
    },
    {
     "name": "stderr",
     "output_type": "stream",
     "text": [
      "100%|██████████| 246/246 [01:01<00:00,  4.03it/s]\n"
     ]
    },
    {
     "name": "stdout",
     "output_type": "stream",
     "text": [
      "Epoch 239/250: Train Loss: 0.3027, Train Accuracy: 86.6622, Train IOU: 0.7457, Test Loss: 0.2752, Test Accuracy: 88.8783, Test IOU: 0.7815\n"
     ]
    },
    {
     "name": "stderr",
     "output_type": "stream",
     "text": [
      "100%|██████████| 246/246 [01:13<00:00,  3.34it/s]\n"
     ]
    },
    {
     "name": "stdout",
     "output_type": "stream",
     "text": [
      "Epoch 240/250: Train Loss: 0.2986, Train Accuracy: 86.7893, Train IOU: 0.7476, Test Loss: 0.2718, Test Accuracy: 88.7381, Test IOU: 0.7770\n"
     ]
    },
    {
     "name": "stderr",
     "output_type": "stream",
     "text": [
      "100%|██████████| 246/246 [01:01<00:00,  4.02it/s]\n"
     ]
    },
    {
     "name": "stdout",
     "output_type": "stream",
     "text": [
      "Epoch 241/250: Train Loss: 0.2989, Train Accuracy: 86.8917, Train IOU: 0.7505, Test Loss: 0.2734, Test Accuracy: 88.9193, Test IOU: 0.7824\n"
     ]
    },
    {
     "name": "stderr",
     "output_type": "stream",
     "text": [
      "100%|██████████| 246/246 [01:01<00:00,  4.02it/s]\n"
     ]
    },
    {
     "name": "stdout",
     "output_type": "stream",
     "text": [
      "Epoch 242/250: Train Loss: 0.3023, Train Accuracy: 86.5919, Train IOU: 0.7441, Test Loss: 0.2710, Test Accuracy: 88.7263, Test IOU: 0.7762\n"
     ]
    },
    {
     "name": "stderr",
     "output_type": "stream",
     "text": [
      "100%|██████████| 246/246 [01:01<00:00,  4.02it/s]\n"
     ]
    },
    {
     "name": "stdout",
     "output_type": "stream",
     "text": [
      "Epoch 243/250: Train Loss: 0.2987, Train Accuracy: 86.7904, Train IOU: 0.7476, Test Loss: 0.2712, Test Accuracy: 88.6305, Test IOU: 0.7736\n"
     ]
    },
    {
     "name": "stderr",
     "output_type": "stream",
     "text": [
      "100%|██████████| 246/246 [01:00<00:00,  4.03it/s]\n"
     ]
    },
    {
     "name": "stdout",
     "output_type": "stream",
     "text": [
      "Epoch 244/250: Train Loss: 0.3032, Train Accuracy: 86.5434, Train IOU: 0.7436, Test Loss: 0.2728, Test Accuracy: 88.7457, Test IOU: 0.7773\n"
     ]
    },
    {
     "name": "stderr",
     "output_type": "stream",
     "text": [
      "100%|██████████| 246/246 [01:01<00:00,  4.02it/s]\n"
     ]
    },
    {
     "name": "stdout",
     "output_type": "stream",
     "text": [
      "Epoch 245/250: Train Loss: 0.2933, Train Accuracy: 87.0572, Train IOU: 0.7521, Test Loss: 0.2709, Test Accuracy: 88.7578, Test IOU: 0.7770\n"
     ]
    },
    {
     "name": "stderr",
     "output_type": "stream",
     "text": [
      "100%|██████████| 246/246 [01:01<00:00,  4.02it/s]\n"
     ]
    },
    {
     "name": "stdout",
     "output_type": "stream",
     "text": [
      "Epoch 246/250: Train Loss: 0.2958, Train Accuracy: 87.0250, Train IOU: 0.7527, Test Loss: 0.2747, Test Accuracy: 88.8695, Test IOU: 0.7812\n"
     ]
    },
    {
     "name": "stderr",
     "output_type": "stream",
     "text": [
      "100%|██████████| 246/246 [01:01<00:00,  4.02it/s]\n"
     ]
    },
    {
     "name": "stdout",
     "output_type": "stream",
     "text": [
      "Epoch 247/250: Train Loss: 0.2961, Train Accuracy: 86.9016, Train IOU: 0.7500, Test Loss: 0.2700, Test Accuracy: 88.6521, Test IOU: 0.7740\n"
     ]
    },
    {
     "name": "stderr",
     "output_type": "stream",
     "text": [
      "100%|██████████| 246/246 [01:08<00:00,  3.58it/s]\n"
     ]
    },
    {
     "name": "stdout",
     "output_type": "stream",
     "text": [
      "Epoch 248/250: Train Loss: 0.2934, Train Accuracy: 87.0257, Train IOU: 0.7513, Test Loss: 0.2687, Test Accuracy: 88.7853, Test IOU: 0.7768\n"
     ]
    },
    {
     "name": "stderr",
     "output_type": "stream",
     "text": [
      "100%|██████████| 246/246 [01:00<00:00,  4.04it/s]\n"
     ]
    },
    {
     "name": "stdout",
     "output_type": "stream",
     "text": [
      "Epoch 249/250: Train Loss: 0.3006, Train Accuracy: 86.6716, Train IOU: 0.7459, Test Loss: 0.2711, Test Accuracy: 88.6916, Test IOU: 0.7749\n"
     ]
    },
    {
     "name": "stderr",
     "output_type": "stream",
     "text": [
      "100%|██████████| 246/246 [01:01<00:00,  4.02it/s]\n"
     ]
    },
    {
     "name": "stdout",
     "output_type": "stream",
     "text": [
      "Epoch 250/250: Train Loss: 0.2946, Train Accuracy: 86.9638, Train IOU: 0.7512, Test Loss: 0.2729, Test Accuracy: 88.6121, Test IOU: 0.7735\n",
      "Training pan\n"
     ]
    },
    {
     "name": "stderr",
     "output_type": "stream",
     "text": [
      "100%|██████████| 246/246 [01:11<00:00,  3.46it/s]\n"
     ]
    },
    {
     "name": "stdout",
     "output_type": "stream",
     "text": [
      "Epoch 1/250: Train Loss: 0.7561, Train Accuracy: 59.9119, Train IOU: 0.3295, Test Loss: 1.1320, Test Accuracy: 51.7569, Test IOU: 0.0589\n"
     ]
    },
    {
     "name": "stderr",
     "output_type": "stream",
     "text": [
      "100%|██████████| 246/246 [00:54<00:00,  4.53it/s]\n"
     ]
    },
    {
     "name": "stdout",
     "output_type": "stream",
     "text": [
      "Epoch 2/250: Train Loss: 0.6539, Train Accuracy: 65.6459, Train IOU: 0.4110, Test Loss: 0.6199, Test Accuracy: 67.2899, Test IOU: 0.4133\n"
     ]
    },
    {
     "name": "stderr",
     "output_type": "stream",
     "text": [
      "100%|██████████| 246/246 [00:54<00:00,  4.55it/s]\n"
     ]
    },
    {
     "name": "stdout",
     "output_type": "stream",
     "text": [
      "Epoch 3/250: Train Loss: 0.6131, Train Accuracy: 67.9282, Train IOU: 0.4399, Test Loss: 0.5877, Test Accuracy: 69.8198, Test IOU: 0.4630\n"
     ]
    },
    {
     "name": "stderr",
     "output_type": "stream",
     "text": [
      "100%|██████████| 246/246 [00:54<00:00,  4.54it/s]\n"
     ]
    },
    {
     "name": "stdout",
     "output_type": "stream",
     "text": [
      "Epoch 4/250: Train Loss: 0.5837, Train Accuracy: 69.9155, Train IOU: 0.4664, Test Loss: 0.5662, Test Accuracy: 71.5258, Test IOU: 0.4927\n"
     ]
    },
    {
     "name": "stderr",
     "output_type": "stream",
     "text": [
      "100%|██████████| 246/246 [00:54<00:00,  4.55it/s]\n"
     ]
    },
    {
     "name": "stdout",
     "output_type": "stream",
     "text": [
      "Epoch 5/250: Train Loss: 0.5643, Train Accuracy: 71.3728, Train IOU: 0.4899, Test Loss: 0.5530, Test Accuracy: 72.0917, Test IOU: 0.4906\n"
     ]
    },
    {
     "name": "stderr",
     "output_type": "stream",
     "text": [
      "100%|██████████| 246/246 [00:56<00:00,  4.37it/s]\n"
     ]
    },
    {
     "name": "stdout",
     "output_type": "stream",
     "text": [
      "Epoch 6/250: Train Loss: 0.5497, Train Accuracy: 72.2411, Train IOU: 0.5032, Test Loss: 0.5409, Test Accuracy: 72.5821, Test IOU: 0.4941\n"
     ]
    },
    {
     "name": "stderr",
     "output_type": "stream",
     "text": [
      "100%|██████████| 246/246 [00:53<00:00,  4.56it/s]\n"
     ]
    },
    {
     "name": "stdout",
     "output_type": "stream",
     "text": [
      "Epoch 7/250: Train Loss: 0.5424, Train Accuracy: 72.8694, Train IOU: 0.5133, Test Loss: 0.5288, Test Accuracy: 73.4139, Test IOU: 0.5128\n"
     ]
    },
    {
     "name": "stderr",
     "output_type": "stream",
     "text": [
      "100%|██████████| 246/246 [00:53<00:00,  4.56it/s]\n"
     ]
    },
    {
     "name": "stdout",
     "output_type": "stream",
     "text": [
      "Epoch 8/250: Train Loss: 0.5275, Train Accuracy: 73.6636, Train IOU: 0.5261, Test Loss: 0.5246, Test Accuracy: 74.0920, Test IOU: 0.5212\n"
     ]
    },
    {
     "name": "stderr",
     "output_type": "stream",
     "text": [
      "100%|██████████| 246/246 [00:53<00:00,  4.57it/s]\n"
     ]
    },
    {
     "name": "stdout",
     "output_type": "stream",
     "text": [
      "Epoch 9/250: Train Loss: 0.5229, Train Accuracy: 74.2880, Train IOU: 0.5359, Test Loss: 0.5110, Test Accuracy: 74.4150, Test IOU: 0.5181\n"
     ]
    },
    {
     "name": "stderr",
     "output_type": "stream",
     "text": [
      "100%|██████████| 246/246 [00:53<00:00,  4.57it/s]\n"
     ]
    },
    {
     "name": "stdout",
     "output_type": "stream",
     "text": [
      "Epoch 10/250: Train Loss: 0.5152, Train Accuracy: 74.6279, Train IOU: 0.5403, Test Loss: 0.5056, Test Accuracy: 75.2807, Test IOU: 0.5365\n"
     ]
    },
    {
     "name": "stderr",
     "output_type": "stream",
     "text": [
      "100%|██████████| 246/246 [00:54<00:00,  4.55it/s]\n"
     ]
    },
    {
     "name": "stdout",
     "output_type": "stream",
     "text": [
      "Epoch 11/250: Train Loss: 0.5120, Train Accuracy: 74.9302, Train IOU: 0.5463, Test Loss: 0.5008, Test Accuracy: 75.4620, Test IOU: 0.5394\n"
     ]
    },
    {
     "name": "stderr",
     "output_type": "stream",
     "text": [
      "100%|██████████| 246/246 [00:54<00:00,  4.54it/s]\n"
     ]
    },
    {
     "name": "stdout",
     "output_type": "stream",
     "text": [
      "Epoch 12/250: Train Loss: 0.5103, Train Accuracy: 74.7983, Train IOU: 0.5454, Test Loss: 0.4951, Test Accuracy: 75.7674, Test IOU: 0.5386\n"
     ]
    },
    {
     "name": "stderr",
     "output_type": "stream",
     "text": [
      "100%|██████████| 246/246 [00:53<00:00,  4.57it/s]\n"
     ]
    },
    {
     "name": "stdout",
     "output_type": "stream",
     "text": [
      "Epoch 13/250: Train Loss: 0.4977, Train Accuracy: 75.6405, Train IOU: 0.5572, Test Loss: 0.4862, Test Accuracy: 76.6095, Test IOU: 0.5606\n"
     ]
    },
    {
     "name": "stderr",
     "output_type": "stream",
     "text": [
      "100%|██████████| 246/246 [00:53<00:00,  4.56it/s]\n"
     ]
    },
    {
     "name": "stdout",
     "output_type": "stream",
     "text": [
      "Epoch 14/250: Train Loss: 0.4974, Train Accuracy: 76.0754, Train IOU: 0.5658, Test Loss: 0.4863, Test Accuracy: 76.0726, Test IOU: 0.5376\n"
     ]
    },
    {
     "name": "stderr",
     "output_type": "stream",
     "text": [
      "100%|██████████| 246/246 [00:54<00:00,  4.55it/s]\n"
     ]
    },
    {
     "name": "stdout",
     "output_type": "stream",
     "text": [
      "Epoch 15/250: Train Loss: 0.4951, Train Accuracy: 76.0381, Train IOU: 0.5640, Test Loss: 0.4765, Test Accuracy: 77.1690, Test IOU: 0.5675\n"
     ]
    },
    {
     "name": "stderr",
     "output_type": "stream",
     "text": [
      "100%|██████████| 246/246 [00:54<00:00,  4.52it/s]\n"
     ]
    },
    {
     "name": "stdout",
     "output_type": "stream",
     "text": [
      "Epoch 16/250: Train Loss: 0.4854, Train Accuracy: 76.8346, Train IOU: 0.5787, Test Loss: 0.4722, Test Accuracy: 77.5693, Test IOU: 0.5751\n"
     ]
    },
    {
     "name": "stderr",
     "output_type": "stream",
     "text": [
      "100%|██████████| 246/246 [00:54<00:00,  4.54it/s]\n"
     ]
    },
    {
     "name": "stdout",
     "output_type": "stream",
     "text": [
      "Epoch 17/250: Train Loss: 0.4801, Train Accuracy: 76.7718, Train IOU: 0.5760, Test Loss: 0.4694, Test Accuracy: 78.0204, Test IOU: 0.5885\n"
     ]
    },
    {
     "name": "stderr",
     "output_type": "stream",
     "text": [
      "100%|██████████| 246/246 [00:54<00:00,  4.55it/s]\n"
     ]
    },
    {
     "name": "stdout",
     "output_type": "stream",
     "text": [
      "Epoch 18/250: Train Loss: 0.4797, Train Accuracy: 76.5167, Train IOU: 0.5713, Test Loss: 0.4644, Test Accuracy: 78.3756, Test IOU: 0.5943\n"
     ]
    },
    {
     "name": "stderr",
     "output_type": "stream",
     "text": [
      "100%|██████████| 246/246 [00:54<00:00,  4.54it/s]\n"
     ]
    },
    {
     "name": "stdout",
     "output_type": "stream",
     "text": [
      "Epoch 19/250: Train Loss: 0.4759, Train Accuracy: 77.2032, Train IOU: 0.5847, Test Loss: 0.4562, Test Accuracy: 78.4171, Test IOU: 0.5865\n"
     ]
    },
    {
     "name": "stderr",
     "output_type": "stream",
     "text": [
      "100%|██████████| 246/246 [00:53<00:00,  4.56it/s]\n"
     ]
    },
    {
     "name": "stdout",
     "output_type": "stream",
     "text": [
      "Epoch 20/250: Train Loss: 0.4675, Train Accuracy: 77.7891, Train IOU: 0.5933, Test Loss: 0.4552, Test Accuracy: 78.7173, Test IOU: 0.5948\n"
     ]
    },
    {
     "name": "stderr",
     "output_type": "stream",
     "text": [
      "100%|██████████| 246/246 [01:01<00:00,  4.03it/s]\n"
     ]
    },
    {
     "name": "stdout",
     "output_type": "stream",
     "text": [
      "Epoch 21/250: Train Loss: 0.4590, Train Accuracy: 78.3427, Train IOU: 0.6019, Test Loss: 0.4492, Test Accuracy: 78.9364, Test IOU: 0.5968\n"
     ]
    },
    {
     "name": "stderr",
     "output_type": "stream",
     "text": [
      "100%|██████████| 246/246 [01:00<00:00,  4.09it/s]\n"
     ]
    },
    {
     "name": "stdout",
     "output_type": "stream",
     "text": [
      "Epoch 22/250: Train Loss: 0.4585, Train Accuracy: 78.1837, Train IOU: 0.5984, Test Loss: 0.4454, Test Accuracy: 79.3538, Test IOU: 0.6084\n"
     ]
    },
    {
     "name": "stderr",
     "output_type": "stream",
     "text": [
      "100%|██████████| 246/246 [01:10<00:00,  3.48it/s]\n"
     ]
    },
    {
     "name": "stdout",
     "output_type": "stream",
     "text": [
      "Epoch 23/250: Train Loss: 0.4618, Train Accuracy: 78.1198, Train IOU: 0.5990, Test Loss: 0.4459, Test Accuracy: 79.4362, Test IOU: 0.6066\n"
     ]
    },
    {
     "name": "stderr",
     "output_type": "stream",
     "text": [
      "100%|██████████| 246/246 [00:59<00:00,  4.11it/s]\n"
     ]
    },
    {
     "name": "stdout",
     "output_type": "stream",
     "text": [
      "Epoch 24/250: Train Loss: 0.4591, Train Accuracy: 78.1985, Train IOU: 0.6009, Test Loss: 0.4389, Test Accuracy: 79.7345, Test IOU: 0.6138\n"
     ]
    },
    {
     "name": "stderr",
     "output_type": "stream",
     "text": [
      "100%|██████████| 246/246 [00:59<00:00,  4.13it/s]\n"
     ]
    },
    {
     "name": "stdout",
     "output_type": "stream",
     "text": [
      "Epoch 25/250: Train Loss: 0.4563, Train Accuracy: 78.1151, Train IOU: 0.5982, Test Loss: 0.4399, Test Accuracy: 79.7849, Test IOU: 0.6143\n"
     ]
    },
    {
     "name": "stderr",
     "output_type": "stream",
     "text": [
      "100%|██████████| 246/246 [01:12<00:00,  3.39it/s]\n"
     ]
    },
    {
     "name": "stdout",
     "output_type": "stream",
     "text": [
      "Epoch 26/250: Train Loss: 0.4537, Train Accuracy: 78.8348, Train IOU: 0.6111, Test Loss: 0.4360, Test Accuracy: 79.7273, Test IOU: 0.6090\n"
     ]
    },
    {
     "name": "stderr",
     "output_type": "stream",
     "text": [
      "100%|██████████| 246/246 [01:03<00:00,  3.89it/s]\n"
     ]
    },
    {
     "name": "stdout",
     "output_type": "stream",
     "text": [
      "Epoch 27/250: Train Loss: 0.4460, Train Accuracy: 78.9586, Train IOU: 0.6115, Test Loss: 0.4312, Test Accuracy: 80.1892, Test IOU: 0.6213\n"
     ]
    },
    {
     "name": "stderr",
     "output_type": "stream",
     "text": [
      "100%|██████████| 246/246 [01:12<00:00,  3.38it/s]\n"
     ]
    },
    {
     "name": "stdout",
     "output_type": "stream",
     "text": [
      "Epoch 28/250: Train Loss: 0.4443, Train Accuracy: 79.1943, Train IOU: 0.6163, Test Loss: 0.4298, Test Accuracy: 80.7501, Test IOU: 0.6379\n"
     ]
    },
    {
     "name": "stderr",
     "output_type": "stream",
     "text": [
      "100%|██████████| 246/246 [01:01<00:00,  4.00it/s]\n"
     ]
    },
    {
     "name": "stdout",
     "output_type": "stream",
     "text": [
      "Epoch 29/250: Train Loss: 0.4374, Train Accuracy: 79.6586, Train IOU: 0.6244, Test Loss: 0.4224, Test Accuracy: 80.7305, Test IOU: 0.6302\n"
     ]
    },
    {
     "name": "stderr",
     "output_type": "stream",
     "text": [
      "100%|██████████| 246/246 [01:12<00:00,  3.38it/s]\n"
     ]
    },
    {
     "name": "stdout",
     "output_type": "stream",
     "text": [
      "Epoch 30/250: Train Loss: 0.4415, Train Accuracy: 79.4043, Train IOU: 0.6195, Test Loss: 0.4240, Test Accuracy: 80.8970, Test IOU: 0.6378\n"
     ]
    },
    {
     "name": "stderr",
     "output_type": "stream",
     "text": [
      "100%|██████████| 246/246 [00:59<00:00,  4.14it/s]\n"
     ]
    },
    {
     "name": "stdout",
     "output_type": "stream",
     "text": [
      "Epoch 31/250: Train Loss: 0.4414, Train Accuracy: 79.6650, Train IOU: 0.6247, Test Loss: 0.4228, Test Accuracy: 81.2947, Test IOU: 0.6493\n"
     ]
    },
    {
     "name": "stderr",
     "output_type": "stream",
     "text": [
      "100%|██████████| 246/246 [01:36<00:00,  2.56it/s]\n"
     ]
    },
    {
     "name": "stdout",
     "output_type": "stream",
     "text": [
      "Epoch 32/250: Train Loss: 0.4350, Train Accuracy: 79.9104, Train IOU: 0.6287, Test Loss: 0.4174, Test Accuracy: 81.1478, Test IOU: 0.6400\n"
     ]
    },
    {
     "name": "stderr",
     "output_type": "stream",
     "text": [
      "100%|██████████| 246/246 [01:12<00:00,  3.37it/s]\n"
     ]
    },
    {
     "name": "stdout",
     "output_type": "stream",
     "text": [
      "Epoch 33/250: Train Loss: 0.4310, Train Accuracy: 80.3466, Train IOU: 0.6354, Test Loss: 0.4194, Test Accuracy: 81.5516, Test IOU: 0.6535\n"
     ]
    },
    {
     "name": "stderr",
     "output_type": "stream",
     "text": [
      "100%|██████████| 246/246 [00:59<00:00,  4.15it/s]\n"
     ]
    },
    {
     "name": "stdout",
     "output_type": "stream",
     "text": [
      "Epoch 34/250: Train Loss: 0.4360, Train Accuracy: 79.8828, Train IOU: 0.6283, Test Loss: 0.4128, Test Accuracy: 81.4871, Test IOU: 0.6458\n"
     ]
    },
    {
     "name": "stderr",
     "output_type": "stream",
     "text": [
      "100%|██████████| 246/246 [01:13<00:00,  3.36it/s]\n"
     ]
    },
    {
     "name": "stdout",
     "output_type": "stream",
     "text": [
      "Epoch 35/250: Train Loss: 0.4257, Train Accuracy: 80.2313, Train IOU: 0.6337, Test Loss: 0.4095, Test Accuracy: 81.4258, Test IOU: 0.6421\n"
     ]
    },
    {
     "name": "stderr",
     "output_type": "stream",
     "text": [
      "100%|██████████| 246/246 [01:12<00:00,  3.38it/s]\n"
     ]
    },
    {
     "name": "stdout",
     "output_type": "stream",
     "text": [
      "Epoch 36/250: Train Loss: 0.4316, Train Accuracy: 79.9158, Train IOU: 0.6284, Test Loss: 0.4110, Test Accuracy: 81.8471, Test IOU: 0.6560\n"
     ]
    },
    {
     "name": "stderr",
     "output_type": "stream",
     "text": [
      "100%|██████████| 246/246 [01:03<00:00,  3.86it/s]\n"
     ]
    },
    {
     "name": "stdout",
     "output_type": "stream",
     "text": [
      "Epoch 37/250: Train Loss: 0.4242, Train Accuracy: 80.4168, Train IOU: 0.6375, Test Loss: 0.4049, Test Accuracy: 81.5727, Test IOU: 0.6433\n"
     ]
    },
    {
     "name": "stderr",
     "output_type": "stream",
     "text": [
      "100%|██████████| 246/246 [01:12<00:00,  3.38it/s]\n"
     ]
    },
    {
     "name": "stdout",
     "output_type": "stream",
     "text": [
      "Epoch 38/250: Train Loss: 0.4185, Train Accuracy: 80.6426, Train IOU: 0.6412, Test Loss: 0.4051, Test Accuracy: 81.9481, Test IOU: 0.6558\n"
     ]
    },
    {
     "name": "stderr",
     "output_type": "stream",
     "text": [
      "100%|██████████| 246/246 [00:59<00:00,  4.14it/s]\n"
     ]
    },
    {
     "name": "stdout",
     "output_type": "stream",
     "text": [
      "Epoch 39/250: Train Loss: 0.4216, Train Accuracy: 80.6525, Train IOU: 0.6423, Test Loss: 0.4017, Test Accuracy: 81.8379, Test IOU: 0.6495\n"
     ]
    },
    {
     "name": "stderr",
     "output_type": "stream",
     "text": [
      "100%|██████████| 246/246 [00:59<00:00,  4.16it/s]\n"
     ]
    },
    {
     "name": "stdout",
     "output_type": "stream",
     "text": [
      "Epoch 40/250: Train Loss: 0.4253, Train Accuracy: 80.4507, Train IOU: 0.6386, Test Loss: 0.4016, Test Accuracy: 81.9803, Test IOU: 0.6532\n"
     ]
    },
    {
     "name": "stderr",
     "output_type": "stream",
     "text": [
      "100%|██████████| 246/246 [00:59<00:00,  4.15it/s]\n"
     ]
    },
    {
     "name": "stdout",
     "output_type": "stream",
     "text": [
      "Epoch 41/250: Train Loss: 0.4189, Train Accuracy: 80.5817, Train IOU: 0.6399, Test Loss: 0.3945, Test Accuracy: 82.1720, Test IOU: 0.6554\n"
     ]
    },
    {
     "name": "stderr",
     "output_type": "stream",
     "text": [
      "100%|██████████| 246/246 [01:00<00:00,  4.07it/s]\n"
     ]
    },
    {
     "name": "stdout",
     "output_type": "stream",
     "text": [
      "Epoch 42/250: Train Loss: 0.4149, Train Accuracy: 80.6668, Train IOU: 0.6416, Test Loss: 0.3997, Test Accuracy: 82.6693, Test IOU: 0.6715\n"
     ]
    },
    {
     "name": "stderr",
     "output_type": "stream",
     "text": [
      "100%|██████████| 246/246 [00:59<00:00,  4.15it/s]\n"
     ]
    },
    {
     "name": "stdout",
     "output_type": "stream",
     "text": [
      "Epoch 43/250: Train Loss: 0.4129, Train Accuracy: 81.0181, Train IOU: 0.6482, Test Loss: 0.3984, Test Accuracy: 82.6862, Test IOU: 0.6713\n"
     ]
    },
    {
     "name": "stderr",
     "output_type": "stream",
     "text": [
      "100%|██████████| 246/246 [01:10<00:00,  3.47it/s]\n"
     ]
    },
    {
     "name": "stdout",
     "output_type": "stream",
     "text": [
      "Epoch 44/250: Train Loss: 0.4172, Train Accuracy: 81.0035, Train IOU: 0.6488, Test Loss: 0.3944, Test Accuracy: 82.5222, Test IOU: 0.6649\n"
     ]
    },
    {
     "name": "stderr",
     "output_type": "stream",
     "text": [
      "100%|██████████| 246/246 [01:02<00:00,  3.92it/s]\n"
     ]
    },
    {
     "name": "stdout",
     "output_type": "stream",
     "text": [
      "Epoch 45/250: Train Loss: 0.4072, Train Accuracy: 81.4418, Train IOU: 0.6546, Test Loss: 0.3957, Test Accuracy: 82.9462, Test IOU: 0.6760\n"
     ]
    },
    {
     "name": "stderr",
     "output_type": "stream",
     "text": [
      "100%|██████████| 246/246 [01:19<00:00,  3.08it/s]\n"
     ]
    },
    {
     "name": "stdout",
     "output_type": "stream",
     "text": [
      "Epoch 46/250: Train Loss: 0.4120, Train Accuracy: 81.3368, Train IOU: 0.6548, Test Loss: 0.3914, Test Accuracy: 82.7748, Test IOU: 0.6701\n"
     ]
    },
    {
     "name": "stderr",
     "output_type": "stream",
     "text": [
      "100%|██████████| 246/246 [01:05<00:00,  3.75it/s]\n"
     ]
    },
    {
     "name": "stdout",
     "output_type": "stream",
     "text": [
      "Epoch 47/250: Train Loss: 0.4066, Train Accuracy: 81.3570, Train IOU: 0.6527, Test Loss: 0.3912, Test Accuracy: 83.0908, Test IOU: 0.6785\n"
     ]
    },
    {
     "name": "stderr",
     "output_type": "stream",
     "text": [
      "100%|██████████| 246/246 [01:12<00:00,  3.40it/s]\n"
     ]
    },
    {
     "name": "stdout",
     "output_type": "stream",
     "text": [
      "Epoch 48/250: Train Loss: 0.4050, Train Accuracy: 81.7333, Train IOU: 0.6613, Test Loss: 0.3863, Test Accuracy: 82.7254, Test IOU: 0.6650\n"
     ]
    },
    {
     "name": "stderr",
     "output_type": "stream",
     "text": [
      "100%|██████████| 246/246 [00:59<00:00,  4.16it/s]\n"
     ]
    },
    {
     "name": "stdout",
     "output_type": "stream",
     "text": [
      "Epoch 49/250: Train Loss: 0.4028, Train Accuracy: 81.3927, Train IOU: 0.6540, Test Loss: 0.3832, Test Accuracy: 82.8581, Test IOU: 0.6675\n"
     ]
    },
    {
     "name": "stderr",
     "output_type": "stream",
     "text": [
      "100%|██████████| 246/246 [00:59<00:00,  4.16it/s]\n"
     ]
    },
    {
     "name": "stdout",
     "output_type": "stream",
     "text": [
      "Epoch 50/250: Train Loss: 0.4019, Train Accuracy: 81.4778, Train IOU: 0.6546, Test Loss: 0.3849, Test Accuracy: 83.2874, Test IOU: 0.6800\n"
     ]
    },
    {
     "name": "stderr",
     "output_type": "stream",
     "text": [
      "100%|██████████| 246/246 [00:59<00:00,  4.14it/s]\n"
     ]
    },
    {
     "name": "stdout",
     "output_type": "stream",
     "text": [
      "Epoch 51/250: Train Loss: 0.4013, Train Accuracy: 81.7989, Train IOU: 0.6623, Test Loss: 0.3829, Test Accuracy: 82.8647, Test IOU: 0.6689\n"
     ]
    },
    {
     "name": "stderr",
     "output_type": "stream",
     "text": [
      "100%|██████████| 246/246 [00:59<00:00,  4.15it/s]\n"
     ]
    },
    {
     "name": "stdout",
     "output_type": "stream",
     "text": [
      "Epoch 52/250: Train Loss: 0.4038, Train Accuracy: 81.7270, Train IOU: 0.6601, Test Loss: 0.3819, Test Accuracy: 83.0594, Test IOU: 0.6726\n"
     ]
    },
    {
     "name": "stderr",
     "output_type": "stream",
     "text": [
      "100%|██████████| 246/246 [00:59<00:00,  4.15it/s]\n"
     ]
    },
    {
     "name": "stdout",
     "output_type": "stream",
     "text": [
      "Epoch 53/250: Train Loss: 0.4017, Train Accuracy: 81.9076, Train IOU: 0.6632, Test Loss: 0.3806, Test Accuracy: 83.1903, Test IOU: 0.6762\n"
     ]
    },
    {
     "name": "stderr",
     "output_type": "stream",
     "text": [
      "100%|██████████| 246/246 [00:59<00:00,  4.15it/s]\n"
     ]
    },
    {
     "name": "stdout",
     "output_type": "stream",
     "text": [
      "Epoch 54/250: Train Loss: 0.4023, Train Accuracy: 81.6347, Train IOU: 0.6588, Test Loss: 0.3811, Test Accuracy: 83.0576, Test IOU: 0.6716\n"
     ]
    },
    {
     "name": "stderr",
     "output_type": "stream",
     "text": [
      "100%|██████████| 246/246 [00:59<00:00,  4.15it/s]\n"
     ]
    },
    {
     "name": "stdout",
     "output_type": "stream",
     "text": [
      "Epoch 55/250: Train Loss: 0.4010, Train Accuracy: 81.7405, Train IOU: 0.6591, Test Loss: 0.3780, Test Accuracy: 83.3869, Test IOU: 0.6783\n"
     ]
    },
    {
     "name": "stderr",
     "output_type": "stream",
     "text": [
      "100%|██████████| 246/246 [01:03<00:00,  3.85it/s]\n"
     ]
    },
    {
     "name": "stdout",
     "output_type": "stream",
     "text": [
      "Epoch 56/250: Train Loss: 0.3943, Train Accuracy: 81.9967, Train IOU: 0.6649, Test Loss: 0.3747, Test Accuracy: 83.3006, Test IOU: 0.6753\n"
     ]
    },
    {
     "name": "stderr",
     "output_type": "stream",
     "text": [
      "100%|██████████| 246/246 [00:59<00:00,  4.15it/s]\n"
     ]
    },
    {
     "name": "stdout",
     "output_type": "stream",
     "text": [
      "Epoch 57/250: Train Loss: 0.3943, Train Accuracy: 81.7996, Train IOU: 0.6614, Test Loss: 0.3742, Test Accuracy: 83.3359, Test IOU: 0.6749\n"
     ]
    },
    {
     "name": "stderr",
     "output_type": "stream",
     "text": [
      "100%|██████████| 246/246 [00:59<00:00,  4.14it/s]\n"
     ]
    },
    {
     "name": "stdout",
     "output_type": "stream",
     "text": [
      "Epoch 58/250: Train Loss: 0.3935, Train Accuracy: 82.2596, Train IOU: 0.6689, Test Loss: 0.3738, Test Accuracy: 83.6675, Test IOU: 0.6862\n"
     ]
    },
    {
     "name": "stderr",
     "output_type": "stream",
     "text": [
      "100%|██████████| 246/246 [00:59<00:00,  4.16it/s]\n"
     ]
    },
    {
     "name": "stdout",
     "output_type": "stream",
     "text": [
      "Epoch 59/250: Train Loss: 0.3941, Train Accuracy: 82.2085, Train IOU: 0.6685, Test Loss: 0.3721, Test Accuracy: 83.5271, Test IOU: 0.6792\n"
     ]
    },
    {
     "name": "stderr",
     "output_type": "stream",
     "text": [
      "100%|██████████| 246/246 [00:59<00:00,  4.15it/s]\n"
     ]
    },
    {
     "name": "stdout",
     "output_type": "stream",
     "text": [
      "Epoch 60/250: Train Loss: 0.3845, Train Accuracy: 82.4985, Train IOU: 0.6722, Test Loss: 0.3739, Test Accuracy: 83.7466, Test IOU: 0.6868\n"
     ]
    },
    {
     "name": "stderr",
     "output_type": "stream",
     "text": [
      "100%|██████████| 246/246 [00:59<00:00,  4.16it/s]\n"
     ]
    },
    {
     "name": "stdout",
     "output_type": "stream",
     "text": [
      "Epoch 61/250: Train Loss: 0.3900, Train Accuracy: 82.4071, Train IOU: 0.6720, Test Loss: 0.3729, Test Accuracy: 83.8391, Test IOU: 0.6889\n"
     ]
    },
    {
     "name": "stderr",
     "output_type": "stream",
     "text": [
      "100%|██████████| 246/246 [01:09<00:00,  3.53it/s]\n"
     ]
    },
    {
     "name": "stdout",
     "output_type": "stream",
     "text": [
      "Epoch 62/250: Train Loss: 0.3863, Train Accuracy: 82.4150, Train IOU: 0.6707, Test Loss: 0.3732, Test Accuracy: 83.9550, Test IOU: 0.6928\n"
     ]
    },
    {
     "name": "stderr",
     "output_type": "stream",
     "text": [
      "100%|██████████| 246/246 [01:12<00:00,  3.41it/s]\n"
     ]
    },
    {
     "name": "stdout",
     "output_type": "stream",
     "text": [
      "Epoch 63/250: Train Loss: 0.3864, Train Accuracy: 82.5457, Train IOU: 0.6741, Test Loss: 0.3702, Test Accuracy: 83.9646, Test IOU: 0.6918\n"
     ]
    },
    {
     "name": "stderr",
     "output_type": "stream",
     "text": [
      "100%|██████████| 246/246 [00:59<00:00,  4.15it/s]\n"
     ]
    },
    {
     "name": "stdout",
     "output_type": "stream",
     "text": [
      "Epoch 64/250: Train Loss: 0.3912, Train Accuracy: 82.5046, Train IOU: 0.6734, Test Loss: 0.3687, Test Accuracy: 83.9499, Test IOU: 0.6890\n"
     ]
    },
    {
     "name": "stderr",
     "output_type": "stream",
     "text": [
      "100%|██████████| 246/246 [00:59<00:00,  4.13it/s]\n"
     ]
    },
    {
     "name": "stdout",
     "output_type": "stream",
     "text": [
      "Epoch 65/250: Train Loss: 0.3836, Train Accuracy: 82.8005, Train IOU: 0.6777, Test Loss: 0.3690, Test Accuracy: 83.9496, Test IOU: 0.6910\n"
     ]
    },
    {
     "name": "stderr",
     "output_type": "stream",
     "text": [
      "100%|██████████| 246/246 [01:12<00:00,  3.40it/s]\n"
     ]
    },
    {
     "name": "stdout",
     "output_type": "stream",
     "text": [
      "Epoch 66/250: Train Loss: 0.3878, Train Accuracy: 82.7013, Train IOU: 0.6768, Test Loss: 0.3631, Test Accuracy: 83.8685, Test IOU: 0.6849\n"
     ]
    },
    {
     "name": "stderr",
     "output_type": "stream",
     "text": [
      "100%|██████████| 246/246 [00:59<00:00,  4.14it/s]\n"
     ]
    },
    {
     "name": "stdout",
     "output_type": "stream",
     "text": [
      "Epoch 67/250: Train Loss: 0.3849, Train Accuracy: 82.7560, Train IOU: 0.6773, Test Loss: 0.3688, Test Accuracy: 83.3808, Test IOU: 0.6722\n"
     ]
    },
    {
     "name": "stderr",
     "output_type": "stream",
     "text": [
      "100%|██████████| 246/246 [00:59<00:00,  4.15it/s]\n"
     ]
    },
    {
     "name": "stdout",
     "output_type": "stream",
     "text": [
      "Epoch 68/250: Train Loss: 0.3860, Train Accuracy: 82.5752, Train IOU: 0.6753, Test Loss: 0.3649, Test Accuracy: 83.7301, Test IOU: 0.6802\n"
     ]
    },
    {
     "name": "stderr",
     "output_type": "stream",
     "text": [
      "100%|██████████| 246/246 [01:04<00:00,  3.84it/s]\n"
     ]
    },
    {
     "name": "stdout",
     "output_type": "stream",
     "text": [
      "Epoch 69/250: Train Loss: 0.3821, Train Accuracy: 82.7257, Train IOU: 0.6766, Test Loss: 0.3665, Test Accuracy: 84.2094, Test IOU: 0.6960\n"
     ]
    },
    {
     "name": "stderr",
     "output_type": "stream",
     "text": [
      "100%|██████████| 246/246 [01:11<00:00,  3.44it/s]\n"
     ]
    },
    {
     "name": "stdout",
     "output_type": "stream",
     "text": [
      "Epoch 70/250: Train Loss: 0.3816, Train Accuracy: 82.7623, Train IOU: 0.6780, Test Loss: 0.3657, Test Accuracy: 84.4732, Test IOU: 0.7036\n"
     ]
    },
    {
     "name": "stderr",
     "output_type": "stream",
     "text": [
      "100%|██████████| 246/246 [01:12<00:00,  3.41it/s]\n"
     ]
    },
    {
     "name": "stdout",
     "output_type": "stream",
     "text": [
      "Epoch 71/250: Train Loss: 0.3761, Train Accuracy: 82.9361, Train IOU: 0.6805, Test Loss: 0.3598, Test Accuracy: 84.3105, Test IOU: 0.6954\n"
     ]
    },
    {
     "name": "stderr",
     "output_type": "stream",
     "text": [
      "100%|██████████| 246/246 [01:11<00:00,  3.44it/s]\n"
     ]
    },
    {
     "name": "stdout",
     "output_type": "stream",
     "text": [
      "Epoch 72/250: Train Loss: 0.3793, Train Accuracy: 83.0216, Train IOU: 0.6829, Test Loss: 0.3600, Test Accuracy: 84.3041, Test IOU: 0.6954\n"
     ]
    },
    {
     "name": "stderr",
     "output_type": "stream",
     "text": [
      "100%|██████████| 246/246 [00:59<00:00,  4.13it/s]\n"
     ]
    },
    {
     "name": "stdout",
     "output_type": "stream",
     "text": [
      "Epoch 73/250: Train Loss: 0.3836, Train Accuracy: 82.7504, Train IOU: 0.6777, Test Loss: 0.3620, Test Accuracy: 84.3560, Test IOU: 0.6970\n"
     ]
    },
    {
     "name": "stderr",
     "output_type": "stream",
     "text": [
      "100%|██████████| 246/246 [01:12<00:00,  3.38it/s]\n"
     ]
    },
    {
     "name": "stdout",
     "output_type": "stream",
     "text": [
      "Epoch 74/250: Train Loss: 0.3762, Train Accuracy: 82.9999, Train IOU: 0.6819, Test Loss: 0.3613, Test Accuracy: 84.2981, Test IOU: 0.6954\n"
     ]
    },
    {
     "name": "stderr",
     "output_type": "stream",
     "text": [
      "100%|██████████| 246/246 [00:59<00:00,  4.15it/s]\n"
     ]
    },
    {
     "name": "stdout",
     "output_type": "stream",
     "text": [
      "Epoch 75/250: Train Loss: 0.3745, Train Accuracy: 83.0401, Train IOU: 0.6818, Test Loss: 0.3580, Test Accuracy: 84.5712, Test IOU: 0.7018\n"
     ]
    },
    {
     "name": "stderr",
     "output_type": "stream",
     "text": [
      "100%|██████████| 246/246 [00:59<00:00,  4.14it/s]\n"
     ]
    },
    {
     "name": "stdout",
     "output_type": "stream",
     "text": [
      "Epoch 76/250: Train Loss: 0.3726, Train Accuracy: 83.2529, Train IOU: 0.6860, Test Loss: 0.3588, Test Accuracy: 84.5753, Test IOU: 0.7027\n"
     ]
    },
    {
     "name": "stderr",
     "output_type": "stream",
     "text": [
      "100%|██████████| 246/246 [00:59<00:00,  4.13it/s]\n"
     ]
    },
    {
     "name": "stdout",
     "output_type": "stream",
     "text": [
      "Epoch 77/250: Train Loss: 0.3746, Train Accuracy: 83.0742, Train IOU: 0.6833, Test Loss: 0.3569, Test Accuracy: 84.6521, Test IOU: 0.7029\n"
     ]
    },
    {
     "name": "stderr",
     "output_type": "stream",
     "text": [
      "100%|██████████| 246/246 [01:02<00:00,  3.94it/s]\n"
     ]
    },
    {
     "name": "stdout",
     "output_type": "stream",
     "text": [
      "Epoch 78/250: Train Loss: 0.3694, Train Accuracy: 83.5150, Train IOU: 0.6909, Test Loss: 0.3575, Test Accuracy: 84.5039, Test IOU: 0.6991\n"
     ]
    },
    {
     "name": "stderr",
     "output_type": "stream",
     "text": [
      "100%|██████████| 246/246 [01:12<00:00,  3.38it/s]\n"
     ]
    },
    {
     "name": "stdout",
     "output_type": "stream",
     "text": [
      "Epoch 79/250: Train Loss: 0.3768, Train Accuracy: 83.1943, Train IOU: 0.6853, Test Loss: 0.3540, Test Accuracy: 84.6795, Test IOU: 0.7028\n"
     ]
    },
    {
     "name": "stderr",
     "output_type": "stream",
     "text": [
      "100%|██████████| 246/246 [01:12<00:00,  3.38it/s]\n"
     ]
    },
    {
     "name": "stdout",
     "output_type": "stream",
     "text": [
      "Epoch 80/250: Train Loss: 0.3718, Train Accuracy: 83.3004, Train IOU: 0.6873, Test Loss: 0.3531, Test Accuracy: 84.4467, Test IOU: 0.6957\n"
     ]
    },
    {
     "name": "stderr",
     "output_type": "stream",
     "text": [
      "100%|██████████| 246/246 [00:59<00:00,  4.13it/s]\n"
     ]
    },
    {
     "name": "stdout",
     "output_type": "stream",
     "text": [
      "Epoch 81/250: Train Loss: 0.3790, Train Accuracy: 82.7748, Train IOU: 0.6765, Test Loss: 0.3566, Test Accuracy: 84.6694, Test IOU: 0.7040\n"
     ]
    },
    {
     "name": "stderr",
     "output_type": "stream",
     "text": [
      "100%|██████████| 246/246 [01:12<00:00,  3.38it/s]\n"
     ]
    },
    {
     "name": "stdout",
     "output_type": "stream",
     "text": [
      "Epoch 82/250: Train Loss: 0.3683, Train Accuracy: 83.4838, Train IOU: 0.6903, Test Loss: 0.3522, Test Accuracy: 84.6569, Test IOU: 0.7018\n"
     ]
    },
    {
     "name": "stderr",
     "output_type": "stream",
     "text": [
      "100%|██████████| 246/246 [01:32<00:00,  2.65it/s]\n"
     ]
    },
    {
     "name": "stdout",
     "output_type": "stream",
     "text": [
      "Epoch 83/250: Train Loss: 0.3698, Train Accuracy: 83.3217, Train IOU: 0.6878, Test Loss: 0.3511, Test Accuracy: 84.4949, Test IOU: 0.6953\n"
     ]
    },
    {
     "name": "stderr",
     "output_type": "stream",
     "text": [
      "100%|██████████| 246/246 [00:59<00:00,  4.14it/s]\n"
     ]
    },
    {
     "name": "stdout",
     "output_type": "stream",
     "text": [
      "Epoch 84/250: Train Loss: 0.3674, Train Accuracy: 83.6637, Train IOU: 0.6937, Test Loss: 0.3503, Test Accuracy: 84.4707, Test IOU: 0.6948\n"
     ]
    },
    {
     "name": "stderr",
     "output_type": "stream",
     "text": [
      "100%|██████████| 246/246 [00:59<00:00,  4.13it/s]\n"
     ]
    },
    {
     "name": "stdout",
     "output_type": "stream",
     "text": [
      "Epoch 85/250: Train Loss: 0.3663, Train Accuracy: 83.5465, Train IOU: 0.6912, Test Loss: 0.3490, Test Accuracy: 84.8745, Test IOU: 0.7056\n"
     ]
    },
    {
     "name": "stderr",
     "output_type": "stream",
     "text": [
      "100%|██████████| 246/246 [01:08<00:00,  3.59it/s]\n"
     ]
    },
    {
     "name": "stdout",
     "output_type": "stream",
     "text": [
      "Epoch 86/250: Train Loss: 0.3633, Train Accuracy: 83.6782, Train IOU: 0.6929, Test Loss: 0.3497, Test Accuracy: 84.9002, Test IOU: 0.7077\n"
     ]
    },
    {
     "name": "stderr",
     "output_type": "stream",
     "text": [
      "100%|██████████| 246/246 [00:59<00:00,  4.14it/s]\n"
     ]
    },
    {
     "name": "stdout",
     "output_type": "stream",
     "text": [
      "Epoch 87/250: Train Loss: 0.3650, Train Accuracy: 83.6692, Train IOU: 0.6934, Test Loss: 0.3477, Test Accuracy: 84.9268, Test IOU: 0.7068\n"
     ]
    },
    {
     "name": "stderr",
     "output_type": "stream",
     "text": [
      "100%|██████████| 246/246 [00:59<00:00,  4.16it/s]\n"
     ]
    },
    {
     "name": "stdout",
     "output_type": "stream",
     "text": [
      "Epoch 88/250: Train Loss: 0.3695, Train Accuracy: 83.4779, Train IOU: 0.6904, Test Loss: 0.3504, Test Accuracy: 84.8430, Test IOU: 0.7046\n"
     ]
    },
    {
     "name": "stderr",
     "output_type": "stream",
     "text": [
      "100%|██████████| 246/246 [01:12<00:00,  3.37it/s]\n"
     ]
    },
    {
     "name": "stdout",
     "output_type": "stream",
     "text": [
      "Epoch 89/250: Train Loss: 0.3677, Train Accuracy: 83.5428, Train IOU: 0.6910, Test Loss: 0.3505, Test Accuracy: 85.0772, Test IOU: 0.7120\n"
     ]
    },
    {
     "name": "stderr",
     "output_type": "stream",
     "text": [
      "100%|██████████| 246/246 [01:12<00:00,  3.39it/s]\n"
     ]
    },
    {
     "name": "stdout",
     "output_type": "stream",
     "text": [
      "Epoch 90/250: Train Loss: 0.3680, Train Accuracy: 83.6586, Train IOU: 0.6936, Test Loss: 0.3436, Test Accuracy: 85.0949, Test IOU: 0.7099\n"
     ]
    },
    {
     "name": "stderr",
     "output_type": "stream",
     "text": [
      "100%|██████████| 246/246 [00:59<00:00,  4.14it/s]\n"
     ]
    },
    {
     "name": "stdout",
     "output_type": "stream",
     "text": [
      "Epoch 91/250: Train Loss: 0.3687, Train Accuracy: 83.4843, Train IOU: 0.6903, Test Loss: 0.3449, Test Accuracy: 85.0015, Test IOU: 0.7070\n"
     ]
    },
    {
     "name": "stderr",
     "output_type": "stream",
     "text": [
      "100%|██████████| 246/246 [01:12<00:00,  3.41it/s]\n"
     ]
    },
    {
     "name": "stdout",
     "output_type": "stream",
     "text": [
      "Epoch 92/250: Train Loss: 0.3622, Train Accuracy: 83.8442, Train IOU: 0.6969, Test Loss: 0.3487, Test Accuracy: 84.9758, Test IOU: 0.7070\n"
     ]
    },
    {
     "name": "stderr",
     "output_type": "stream",
     "text": [
      "100%|██████████| 246/246 [01:12<00:00,  3.39it/s]\n"
     ]
    },
    {
     "name": "stdout",
     "output_type": "stream",
     "text": [
      "Epoch 93/250: Train Loss: 0.3601, Train Accuracy: 83.7195, Train IOU: 0.6934, Test Loss: 0.3449, Test Accuracy: 85.1960, Test IOU: 0.7124\n"
     ]
    },
    {
     "name": "stderr",
     "output_type": "stream",
     "text": [
      "100%|██████████| 246/246 [00:59<00:00,  4.15it/s]\n"
     ]
    },
    {
     "name": "stdout",
     "output_type": "stream",
     "text": [
      "Epoch 94/250: Train Loss: 0.3607, Train Accuracy: 83.8794, Train IOU: 0.6968, Test Loss: 0.3449, Test Accuracy: 85.0924, Test IOU: 0.7093\n"
     ]
    },
    {
     "name": "stderr",
     "output_type": "stream",
     "text": [
      "100%|██████████| 246/246 [01:12<00:00,  3.39it/s]\n"
     ]
    },
    {
     "name": "stdout",
     "output_type": "stream",
     "text": [
      "Epoch 95/250: Train Loss: 0.3636, Train Accuracy: 83.6480, Train IOU: 0.6931, Test Loss: 0.3428, Test Accuracy: 85.3283, Test IOU: 0.7161\n"
     ]
    },
    {
     "name": "stderr",
     "output_type": "stream",
     "text": [
      "100%|██████████| 246/246 [01:12<00:00,  3.41it/s]\n"
     ]
    },
    {
     "name": "stdout",
     "output_type": "stream",
     "text": [
      "Epoch 96/250: Train Loss: 0.3639, Train Accuracy: 83.7349, Train IOU: 0.6951, Test Loss: 0.3421, Test Accuracy: 85.1796, Test IOU: 0.7104\n"
     ]
    },
    {
     "name": "stderr",
     "output_type": "stream",
     "text": [
      "100%|██████████| 246/246 [01:17<00:00,  3.16it/s]\n"
     ]
    },
    {
     "name": "stdout",
     "output_type": "stream",
     "text": [
      "Epoch 97/250: Train Loss: 0.3649, Train Accuracy: 83.7406, Train IOU: 0.6946, Test Loss: 0.3429, Test Accuracy: 85.4161, Test IOU: 0.7182\n"
     ]
    },
    {
     "name": "stderr",
     "output_type": "stream",
     "text": [
      "100%|██████████| 246/246 [01:09<00:00,  3.54it/s]\n"
     ]
    },
    {
     "name": "stdout",
     "output_type": "stream",
     "text": [
      "Epoch 98/250: Train Loss: 0.3575, Train Accuracy: 84.0333, Train IOU: 0.7000, Test Loss: 0.3442, Test Accuracy: 85.3975, Test IOU: 0.7176\n"
     ]
    },
    {
     "name": "stderr",
     "output_type": "stream",
     "text": [
      "100%|██████████| 246/246 [01:12<00:00,  3.40it/s]\n"
     ]
    },
    {
     "name": "stdout",
     "output_type": "stream",
     "text": [
      "Epoch 99/250: Train Loss: 0.3623, Train Accuracy: 83.7460, Train IOU: 0.6949, Test Loss: 0.3420, Test Accuracy: 85.2723, Test IOU: 0.7134\n"
     ]
    },
    {
     "name": "stderr",
     "output_type": "stream",
     "text": [
      "100%|██████████| 246/246 [00:59<00:00,  4.13it/s]\n"
     ]
    },
    {
     "name": "stdout",
     "output_type": "stream",
     "text": [
      "Epoch 100/250: Train Loss: 0.3632, Train Accuracy: 83.7752, Train IOU: 0.6961, Test Loss: 0.3401, Test Accuracy: 85.3517, Test IOU: 0.7140\n"
     ]
    },
    {
     "name": "stderr",
     "output_type": "stream",
     "text": [
      "100%|██████████| 246/246 [01:12<00:00,  3.40it/s]\n"
     ]
    },
    {
     "name": "stdout",
     "output_type": "stream",
     "text": [
      "Epoch 101/250: Train Loss: 0.3542, Train Accuracy: 84.1069, Train IOU: 0.7007, Test Loss: 0.3406, Test Accuracy: 85.5327, Test IOU: 0.7206\n"
     ]
    },
    {
     "name": "stderr",
     "output_type": "stream",
     "text": [
      "100%|██████████| 246/246 [00:59<00:00,  4.14it/s]\n"
     ]
    },
    {
     "name": "stdout",
     "output_type": "stream",
     "text": [
      "Epoch 102/250: Train Loss: 0.3629, Train Accuracy: 83.6622, Train IOU: 0.6942, Test Loss: 0.3400, Test Accuracy: 85.4696, Test IOU: 0.7174\n"
     ]
    },
    {
     "name": "stderr",
     "output_type": "stream",
     "text": [
      "100%|██████████| 246/246 [01:06<00:00,  3.70it/s]\n"
     ]
    },
    {
     "name": "stdout",
     "output_type": "stream",
     "text": [
      "Epoch 103/250: Train Loss: 0.3517, Train Accuracy: 84.2967, Train IOU: 0.7042, Test Loss: 0.3383, Test Accuracy: 85.3825, Test IOU: 0.7143\n"
     ]
    },
    {
     "name": "stderr",
     "output_type": "stream",
     "text": [
      "100%|██████████| 246/246 [00:59<00:00,  4.13it/s]\n"
     ]
    },
    {
     "name": "stdout",
     "output_type": "stream",
     "text": [
      "Epoch 104/250: Train Loss: 0.3548, Train Accuracy: 84.2448, Train IOU: 0.7044, Test Loss: 0.3361, Test Accuracy: 85.5027, Test IOU: 0.7171\n"
     ]
    },
    {
     "name": "stderr",
     "output_type": "stream",
     "text": [
      "100%|██████████| 246/246 [01:00<00:00,  4.05it/s]\n"
     ]
    },
    {
     "name": "stdout",
     "output_type": "stream",
     "text": [
      "Epoch 105/250: Train Loss: 0.3580, Train Accuracy: 83.9064, Train IOU: 0.6978, Test Loss: 0.3338, Test Accuracy: 85.4502, Test IOU: 0.7149\n"
     ]
    },
    {
     "name": "stderr",
     "output_type": "stream",
     "text": [
      "100%|██████████| 246/246 [00:59<00:00,  4.14it/s]\n"
     ]
    },
    {
     "name": "stdout",
     "output_type": "stream",
     "text": [
      "Epoch 106/250: Train Loss: 0.3572, Train Accuracy: 84.1780, Train IOU: 0.7023, Test Loss: 0.3404, Test Accuracy: 85.4540, Test IOU: 0.7157\n"
     ]
    },
    {
     "name": "stderr",
     "output_type": "stream",
     "text": [
      "100%|██████████| 246/246 [01:11<00:00,  3.42it/s]\n"
     ]
    },
    {
     "name": "stdout",
     "output_type": "stream",
     "text": [
      "Epoch 107/250: Train Loss: 0.3606, Train Accuracy: 83.9323, Train IOU: 0.6983, Test Loss: 0.3376, Test Accuracy: 85.4531, Test IOU: 0.7151\n"
     ]
    },
    {
     "name": "stderr",
     "output_type": "stream",
     "text": [
      "100%|██████████| 246/246 [00:59<00:00,  4.14it/s]\n"
     ]
    },
    {
     "name": "stdout",
     "output_type": "stream",
     "text": [
      "Epoch 108/250: Train Loss: 0.3597, Train Accuracy: 83.9832, Train IOU: 0.6993, Test Loss: 0.3372, Test Accuracy: 85.6434, Test IOU: 0.7217\n"
     ]
    },
    {
     "name": "stderr",
     "output_type": "stream",
     "text": [
      "100%|██████████| 246/246 [01:12<00:00,  3.38it/s]\n"
     ]
    },
    {
     "name": "stdout",
     "output_type": "stream",
     "text": [
      "Epoch 109/250: Train Loss: 0.3578, Train Accuracy: 83.8614, Train IOU: 0.6966, Test Loss: 0.3382, Test Accuracy: 85.8111, Test IOU: 0.7269\n"
     ]
    },
    {
     "name": "stderr",
     "output_type": "stream",
     "text": [
      "100%|██████████| 246/246 [00:59<00:00,  4.13it/s]\n"
     ]
    },
    {
     "name": "stdout",
     "output_type": "stream",
     "text": [
      "Epoch 110/250: Train Loss: 0.3530, Train Accuracy: 84.4969, Train IOU: 0.7081, Test Loss: 0.3335, Test Accuracy: 85.5811, Test IOU: 0.7175\n"
     ]
    },
    {
     "name": "stderr",
     "output_type": "stream",
     "text": [
      "100%|██████████| 246/246 [01:05<00:00,  3.77it/s]\n"
     ]
    },
    {
     "name": "stdout",
     "output_type": "stream",
     "text": [
      "Epoch 111/250: Train Loss: 0.3545, Train Accuracy: 84.3538, Train IOU: 0.7054, Test Loss: 0.3369, Test Accuracy: 85.7253, Test IOU: 0.7234\n"
     ]
    },
    {
     "name": "stderr",
     "output_type": "stream",
     "text": [
      "100%|██████████| 246/246 [01:03<00:00,  3.85it/s]\n"
     ]
    },
    {
     "name": "stdout",
     "output_type": "stream",
     "text": [
      "Epoch 112/250: Train Loss: 0.3532, Train Accuracy: 84.1728, Train IOU: 0.7024, Test Loss: 0.3326, Test Accuracy: 85.7112, Test IOU: 0.7209\n"
     ]
    },
    {
     "name": "stderr",
     "output_type": "stream",
     "text": [
      "100%|██████████| 246/246 [01:11<00:00,  3.43it/s]\n"
     ]
    },
    {
     "name": "stdout",
     "output_type": "stream",
     "text": [
      "Epoch 113/250: Train Loss: 0.3560, Train Accuracy: 84.0614, Train IOU: 0.6998, Test Loss: 0.3337, Test Accuracy: 85.9250, Test IOU: 0.7280\n"
     ]
    },
    {
     "name": "stderr",
     "output_type": "stream",
     "text": [
      "100%|██████████| 246/246 [00:59<00:00,  4.15it/s]\n"
     ]
    },
    {
     "name": "stdout",
     "output_type": "stream",
     "text": [
      "Epoch 114/250: Train Loss: 0.3499, Train Accuracy: 84.4752, Train IOU: 0.7074, Test Loss: 0.3306, Test Accuracy: 85.7284, Test IOU: 0.7200\n"
     ]
    },
    {
     "name": "stderr",
     "output_type": "stream",
     "text": [
      "100%|██████████| 246/246 [01:07<00:00,  3.63it/s]\n"
     ]
    },
    {
     "name": "stdout",
     "output_type": "stream",
     "text": [
      "Epoch 115/250: Train Loss: 0.3543, Train Accuracy: 84.3270, Train IOU: 0.7050, Test Loss: 0.3332, Test Accuracy: 85.8373, Test IOU: 0.7254\n"
     ]
    },
    {
     "name": "stderr",
     "output_type": "stream",
     "text": [
      "100%|██████████| 246/246 [01:12<00:00,  3.37it/s]\n"
     ]
    },
    {
     "name": "stdout",
     "output_type": "stream",
     "text": [
      "Epoch 116/250: Train Loss: 0.3559, Train Accuracy: 84.0667, Train IOU: 0.6997, Test Loss: 0.3334, Test Accuracy: 85.9658, Test IOU: 0.7286\n"
     ]
    },
    {
     "name": "stderr",
     "output_type": "stream",
     "text": [
      "100%|██████████| 246/246 [01:04<00:00,  3.84it/s]\n"
     ]
    },
    {
     "name": "stdout",
     "output_type": "stream",
     "text": [
      "Epoch 117/250: Train Loss: 0.3540, Train Accuracy: 84.3649, Train IOU: 0.7066, Test Loss: 0.3323, Test Accuracy: 85.8990, Test IOU: 0.7259\n"
     ]
    },
    {
     "name": "stderr",
     "output_type": "stream",
     "text": [
      "100%|██████████| 246/246 [01:11<00:00,  3.46it/s]\n"
     ]
    },
    {
     "name": "stdout",
     "output_type": "stream",
     "text": [
      "Epoch 118/250: Train Loss: 0.3504, Train Accuracy: 84.2203, Train IOU: 0.7024, Test Loss: 0.3288, Test Accuracy: 86.0408, Test IOU: 0.7297\n"
     ]
    },
    {
     "name": "stderr",
     "output_type": "stream",
     "text": [
      "100%|██████████| 246/246 [01:10<00:00,  3.50it/s]\n"
     ]
    },
    {
     "name": "stdout",
     "output_type": "stream",
     "text": [
      "Epoch 119/250: Train Loss: 0.3466, Train Accuracy: 84.5361, Train IOU: 0.7088, Test Loss: 0.3314, Test Accuracy: 85.8679, Test IOU: 0.7241\n"
     ]
    },
    {
     "name": "stderr",
     "output_type": "stream",
     "text": [
      "100%|██████████| 246/246 [01:06<00:00,  3.68it/s]\n"
     ]
    },
    {
     "name": "stdout",
     "output_type": "stream",
     "text": [
      "Epoch 120/250: Train Loss: 0.3433, Train Accuracy: 84.7568, Train IOU: 0.7124, Test Loss: 0.3301, Test Accuracy: 85.9517, Test IOU: 0.7264\n"
     ]
    },
    {
     "name": "stderr",
     "output_type": "stream",
     "text": [
      "100%|██████████| 246/246 [00:59<00:00,  4.14it/s]\n"
     ]
    },
    {
     "name": "stdout",
     "output_type": "stream",
     "text": [
      "Epoch 121/250: Train Loss: 0.3462, Train Accuracy: 84.7654, Train IOU: 0.7126, Test Loss: 0.3312, Test Accuracy: 85.8758, Test IOU: 0.7239\n"
     ]
    },
    {
     "name": "stderr",
     "output_type": "stream",
     "text": [
      "100%|██████████| 246/246 [00:59<00:00,  4.14it/s]\n"
     ]
    },
    {
     "name": "stdout",
     "output_type": "stream",
     "text": [
      "Epoch 122/250: Train Loss: 0.3488, Train Accuracy: 84.5237, Train IOU: 0.7086, Test Loss: 0.3296, Test Accuracy: 85.8220, Test IOU: 0.7221\n"
     ]
    },
    {
     "name": "stderr",
     "output_type": "stream",
     "text": [
      "100%|██████████| 246/246 [01:06<00:00,  3.71it/s]\n"
     ]
    },
    {
     "name": "stdout",
     "output_type": "stream",
     "text": [
      "Epoch 123/250: Train Loss: 0.3498, Train Accuracy: 84.4582, Train IOU: 0.7067, Test Loss: 0.3271, Test Accuracy: 86.0001, Test IOU: 0.7270\n"
     ]
    },
    {
     "name": "stderr",
     "output_type": "stream",
     "text": [
      "100%|██████████| 246/246 [00:59<00:00,  4.12it/s]\n"
     ]
    },
    {
     "name": "stdout",
     "output_type": "stream",
     "text": [
      "Epoch 124/250: Train Loss: 0.3467, Train Accuracy: 84.5507, Train IOU: 0.7090, Test Loss: 0.3284, Test Accuracy: 85.9555, Test IOU: 0.7254\n"
     ]
    },
    {
     "name": "stderr",
     "output_type": "stream",
     "text": [
      "100%|██████████| 246/246 [00:59<00:00,  4.13it/s]\n"
     ]
    },
    {
     "name": "stdout",
     "output_type": "stream",
     "text": [
      "Epoch 125/250: Train Loss: 0.3420, Train Accuracy: 84.8395, Train IOU: 0.7142, Test Loss: 0.3286, Test Accuracy: 86.0356, Test IOU: 0.7285\n"
     ]
    },
    {
     "name": "stderr",
     "output_type": "stream",
     "text": [
      "100%|██████████| 246/246 [00:59<00:00,  4.14it/s]\n"
     ]
    },
    {
     "name": "stdout",
     "output_type": "stream",
     "text": [
      "Epoch 126/250: Train Loss: 0.3494, Train Accuracy: 84.2132, Train IOU: 0.7031, Test Loss: 0.3253, Test Accuracy: 86.0700, Test IOU: 0.7272\n"
     ]
    },
    {
     "name": "stderr",
     "output_type": "stream",
     "text": [
      "100%|██████████| 246/246 [00:59<00:00,  4.14it/s]\n"
     ]
    },
    {
     "name": "stdout",
     "output_type": "stream",
     "text": [
      "Epoch 127/250: Train Loss: 0.3492, Train Accuracy: 84.5722, Train IOU: 0.7096, Test Loss: 0.3277, Test Accuracy: 86.1636, Test IOU: 0.7314\n"
     ]
    },
    {
     "name": "stderr",
     "output_type": "stream",
     "text": [
      "100%|██████████| 246/246 [00:59<00:00,  4.14it/s]\n"
     ]
    },
    {
     "name": "stdout",
     "output_type": "stream",
     "text": [
      "Epoch 128/250: Train Loss: 0.3418, Train Accuracy: 84.8584, Train IOU: 0.7137, Test Loss: 0.3266, Test Accuracy: 86.0532, Test IOU: 0.7277\n"
     ]
    },
    {
     "name": "stderr",
     "output_type": "stream",
     "text": [
      "100%|██████████| 246/246 [00:59<00:00,  4.14it/s]\n"
     ]
    },
    {
     "name": "stdout",
     "output_type": "stream",
     "text": [
      "Epoch 129/250: Train Loss: 0.3472, Train Accuracy: 84.5303, Train IOU: 0.7083, Test Loss: 0.3226, Test Accuracy: 85.9691, Test IOU: 0.7237\n"
     ]
    },
    {
     "name": "stderr",
     "output_type": "stream",
     "text": [
      "100%|██████████| 246/246 [01:12<00:00,  3.38it/s]\n"
     ]
    },
    {
     "name": "stdout",
     "output_type": "stream",
     "text": [
      "Epoch 130/250: Train Loss: 0.3449, Train Accuracy: 84.7983, Train IOU: 0.7130, Test Loss: 0.3249, Test Accuracy: 86.0701, Test IOU: 0.7274\n"
     ]
    },
    {
     "name": "stderr",
     "output_type": "stream",
     "text": [
      "100%|██████████| 246/246 [01:12<00:00,  3.39it/s]\n"
     ]
    },
    {
     "name": "stdout",
     "output_type": "stream",
     "text": [
      "Epoch 131/250: Train Loss: 0.3445, Train Accuracy: 84.8021, Train IOU: 0.7136, Test Loss: 0.3231, Test Accuracy: 86.1045, Test IOU: 0.7275\n"
     ]
    },
    {
     "name": "stderr",
     "output_type": "stream",
     "text": [
      "100%|██████████| 246/246 [00:59<00:00,  4.14it/s]\n"
     ]
    },
    {
     "name": "stdout",
     "output_type": "stream",
     "text": [
      "Epoch 132/250: Train Loss: 0.3387, Train Accuracy: 85.0014, Train IOU: 0.7169, Test Loss: 0.3239, Test Accuracy: 86.1448, Test IOU: 0.7300\n"
     ]
    },
    {
     "name": "stderr",
     "output_type": "stream",
     "text": [
      "100%|██████████| 246/246 [01:06<00:00,  3.68it/s]\n"
     ]
    },
    {
     "name": "stdout",
     "output_type": "stream",
     "text": [
      "Epoch 133/250: Train Loss: 0.3424, Train Accuracy: 84.8537, Train IOU: 0.7139, Test Loss: 0.3241, Test Accuracy: 86.2031, Test IOU: 0.7305\n"
     ]
    },
    {
     "name": "stderr",
     "output_type": "stream",
     "text": [
      "100%|██████████| 246/246 [01:56<00:00,  2.12it/s]\n"
     ]
    },
    {
     "name": "stdout",
     "output_type": "stream",
     "text": [
      "Epoch 134/250: Train Loss: 0.3373, Train Accuracy: 85.0686, Train IOU: 0.7182, Test Loss: 0.3224, Test Accuracy: 86.2469, Test IOU: 0.7315\n"
     ]
    },
    {
     "name": "stderr",
     "output_type": "stream",
     "text": [
      "100%|██████████| 246/246 [01:11<00:00,  3.42it/s]\n"
     ]
    },
    {
     "name": "stdout",
     "output_type": "stream",
     "text": [
      "Epoch 135/250: Train Loss: 0.3482, Train Accuracy: 84.4861, Train IOU: 0.7080, Test Loss: 0.3254, Test Accuracy: 86.1910, Test IOU: 0.7306\n"
     ]
    },
    {
     "name": "stderr",
     "output_type": "stream",
     "text": [
      "100%|██████████| 246/246 [00:59<00:00,  4.14it/s]\n"
     ]
    },
    {
     "name": "stdout",
     "output_type": "stream",
     "text": [
      "Epoch 136/250: Train Loss: 0.3502, Train Accuracy: 84.4166, Train IOU: 0.7060, Test Loss: 0.3213, Test Accuracy: 86.3605, Test IOU: 0.7335\n"
     ]
    },
    {
     "name": "stderr",
     "output_type": "stream",
     "text": [
      "100%|██████████| 246/246 [00:59<00:00,  4.15it/s]\n"
     ]
    },
    {
     "name": "stdout",
     "output_type": "stream",
     "text": [
      "Epoch 137/250: Train Loss: 0.3472, Train Accuracy: 84.4345, Train IOU: 0.7074, Test Loss: 0.3218, Test Accuracy: 86.3474, Test IOU: 0.7341\n"
     ]
    },
    {
     "name": "stderr",
     "output_type": "stream",
     "text": [
      "100%|██████████| 246/246 [01:03<00:00,  3.85it/s]\n"
     ]
    },
    {
     "name": "stdout",
     "output_type": "stream",
     "text": [
      "Epoch 138/250: Train Loss: 0.3470, Train Accuracy: 84.6361, Train IOU: 0.7104, Test Loss: 0.3212, Test Accuracy: 86.2581, Test IOU: 0.7308\n"
     ]
    },
    {
     "name": "stderr",
     "output_type": "stream",
     "text": [
      "100%|██████████| 246/246 [01:25<00:00,  2.89it/s]\n"
     ]
    },
    {
     "name": "stdout",
     "output_type": "stream",
     "text": [
      "Epoch 139/250: Train Loss: 0.3421, Train Accuracy: 84.7714, Train IOU: 0.7132, Test Loss: 0.3213, Test Accuracy: 86.3869, Test IOU: 0.7351\n"
     ]
    },
    {
     "name": "stderr",
     "output_type": "stream",
     "text": [
      "100%|██████████| 246/246 [00:59<00:00,  4.13it/s]\n"
     ]
    },
    {
     "name": "stdout",
     "output_type": "stream",
     "text": [
      "Epoch 140/250: Train Loss: 0.3391, Train Accuracy: 84.8034, Train IOU: 0.7136, Test Loss: 0.3215, Test Accuracy: 86.3905, Test IOU: 0.7343\n"
     ]
    },
    {
     "name": "stderr",
     "output_type": "stream",
     "text": [
      "100%|██████████| 246/246 [01:04<00:00,  3.82it/s]\n"
     ]
    },
    {
     "name": "stdout",
     "output_type": "stream",
     "text": [
      "Epoch 141/250: Train Loss: 0.3385, Train Accuracy: 85.0776, Train IOU: 0.7186, Test Loss: 0.3212, Test Accuracy: 86.3950, Test IOU: 0.7342\n"
     ]
    },
    {
     "name": "stderr",
     "output_type": "stream",
     "text": [
      "100%|██████████| 246/246 [01:12<00:00,  3.40it/s]\n"
     ]
    },
    {
     "name": "stdout",
     "output_type": "stream",
     "text": [
      "Epoch 142/250: Train Loss: 0.3455, Train Accuracy: 84.7494, Train IOU: 0.7126, Test Loss: 0.3197, Test Accuracy: 86.3792, Test IOU: 0.7336\n"
     ]
    },
    {
     "name": "stderr",
     "output_type": "stream",
     "text": [
      "100%|██████████| 246/246 [01:04<00:00,  3.81it/s]\n"
     ]
    },
    {
     "name": "stdout",
     "output_type": "stream",
     "text": [
      "Epoch 143/250: Train Loss: 0.3434, Train Accuracy: 84.7936, Train IOU: 0.7130, Test Loss: 0.3184, Test Accuracy: 86.4966, Test IOU: 0.7363\n"
     ]
    },
    {
     "name": "stderr",
     "output_type": "stream",
     "text": [
      "100%|██████████| 246/246 [01:11<00:00,  3.42it/s]\n"
     ]
    },
    {
     "name": "stdout",
     "output_type": "stream",
     "text": [
      "Epoch 144/250: Train Loss: 0.3371, Train Accuracy: 85.1010, Train IOU: 0.7187, Test Loss: 0.3191, Test Accuracy: 86.2464, Test IOU: 0.7296\n"
     ]
    },
    {
     "name": "stderr",
     "output_type": "stream",
     "text": [
      "100%|██████████| 246/246 [01:36<00:00,  2.56it/s]\n"
     ]
    },
    {
     "name": "stdout",
     "output_type": "stream",
     "text": [
      "Epoch 145/250: Train Loss: 0.3368, Train Accuracy: 85.1807, Train IOU: 0.7197, Test Loss: 0.3182, Test Accuracy: 86.3074, Test IOU: 0.7301\n"
     ]
    },
    {
     "name": "stderr",
     "output_type": "stream",
     "text": [
      "100%|██████████| 246/246 [01:38<00:00,  2.51it/s]\n"
     ]
    },
    {
     "name": "stdout",
     "output_type": "stream",
     "text": [
      "Epoch 146/250: Train Loss: 0.3424, Train Accuracy: 84.9092, Train IOU: 0.7148, Test Loss: 0.3193, Test Accuracy: 86.3826, Test IOU: 0.7325\n"
     ]
    },
    {
     "name": "stderr",
     "output_type": "stream",
     "text": [
      "100%|██████████| 246/246 [01:03<00:00,  3.87it/s]\n"
     ]
    },
    {
     "name": "stdout",
     "output_type": "stream",
     "text": [
      "Epoch 147/250: Train Loss: 0.3403, Train Accuracy: 84.9935, Train IOU: 0.7166, Test Loss: 0.3160, Test Accuracy: 86.5357, Test IOU: 0.7363\n"
     ]
    },
    {
     "name": "stderr",
     "output_type": "stream",
     "text": [
      "100%|██████████| 246/246 [00:59<00:00,  4.13it/s]\n"
     ]
    },
    {
     "name": "stdout",
     "output_type": "stream",
     "text": [
      "Epoch 148/250: Train Loss: 0.3382, Train Accuracy: 84.8734, Train IOU: 0.7149, Test Loss: 0.3180, Test Accuracy: 86.3968, Test IOU: 0.7326\n"
     ]
    },
    {
     "name": "stderr",
     "output_type": "stream",
     "text": [
      "100%|██████████| 246/246 [01:12<00:00,  3.41it/s]\n"
     ]
    },
    {
     "name": "stdout",
     "output_type": "stream",
     "text": [
      "Epoch 149/250: Train Loss: 0.3392, Train Accuracy: 84.9967, Train IOU: 0.7169, Test Loss: 0.3177, Test Accuracy: 86.5142, Test IOU: 0.7364\n"
     ]
    },
    {
     "name": "stderr",
     "output_type": "stream",
     "text": [
      "100%|██████████| 246/246 [00:59<00:00,  4.14it/s]\n"
     ]
    },
    {
     "name": "stdout",
     "output_type": "stream",
     "text": [
      "Epoch 150/250: Train Loss: 0.3344, Train Accuracy: 85.3538, Train IOU: 0.7228, Test Loss: 0.3165, Test Accuracy: 86.2809, Test IOU: 0.7285\n"
     ]
    },
    {
     "name": "stderr",
     "output_type": "stream",
     "text": [
      "100%|██████████| 246/246 [00:59<00:00,  4.13it/s]\n"
     ]
    },
    {
     "name": "stdout",
     "output_type": "stream",
     "text": [
      "Epoch 151/250: Train Loss: 0.3404, Train Accuracy: 84.8309, Train IOU: 0.7136, Test Loss: 0.3166, Test Accuracy: 86.5146, Test IOU: 0.7360\n"
     ]
    },
    {
     "name": "stderr",
     "output_type": "stream",
     "text": [
      "100%|██████████| 246/246 [01:12<00:00,  3.41it/s]\n"
     ]
    },
    {
     "name": "stdout",
     "output_type": "stream",
     "text": [
      "Epoch 152/250: Train Loss: 0.3325, Train Accuracy: 85.3429, Train IOU: 0.7229, Test Loss: 0.3146, Test Accuracy: 86.4207, Test IOU: 0.7323\n"
     ]
    },
    {
     "name": "stderr",
     "output_type": "stream",
     "text": [
      "100%|██████████| 246/246 [01:06<00:00,  3.70it/s]\n"
     ]
    },
    {
     "name": "stdout",
     "output_type": "stream",
     "text": [
      "Epoch 153/250: Train Loss: 0.3459, Train Accuracy: 84.6968, Train IOU: 0.7115, Test Loss: 0.3141, Test Accuracy: 86.5436, Test IOU: 0.7361\n"
     ]
    },
    {
     "name": "stderr",
     "output_type": "stream",
     "text": [
      "100%|██████████| 246/246 [00:59<00:00,  4.12it/s]\n"
     ]
    },
    {
     "name": "stdout",
     "output_type": "stream",
     "text": [
      "Epoch 154/250: Train Loss: 0.3353, Train Accuracy: 85.2107, Train IOU: 0.7199, Test Loss: 0.3152, Test Accuracy: 86.5847, Test IOU: 0.7365\n"
     ]
    },
    {
     "name": "stderr",
     "output_type": "stream",
     "text": [
      "100%|██████████| 246/246 [00:59<00:00,  4.13it/s]\n"
     ]
    },
    {
     "name": "stdout",
     "output_type": "stream",
     "text": [
      "Epoch 155/250: Train Loss: 0.3424, Train Accuracy: 84.8972, Train IOU: 0.7156, Test Loss: 0.3120, Test Accuracy: 86.6305, Test IOU: 0.7374\n"
     ]
    },
    {
     "name": "stderr",
     "output_type": "stream",
     "text": [
      "100%|██████████| 246/246 [00:59<00:00,  4.13it/s]\n"
     ]
    },
    {
     "name": "stdout",
     "output_type": "stream",
     "text": [
      "Epoch 156/250: Train Loss: 0.3368, Train Accuracy: 85.1456, Train IOU: 0.7192, Test Loss: 0.3155, Test Accuracy: 86.5343, Test IOU: 0.7357\n"
     ]
    },
    {
     "name": "stderr",
     "output_type": "stream",
     "text": [
      "100%|██████████| 246/246 [01:08<00:00,  3.58it/s]\n"
     ]
    },
    {
     "name": "stdout",
     "output_type": "stream",
     "text": [
      "Epoch 157/250: Train Loss: 0.3381, Train Accuracy: 85.0472, Train IOU: 0.7182, Test Loss: 0.3124, Test Accuracy: 86.3509, Test IOU: 0.7294\n"
     ]
    },
    {
     "name": "stderr",
     "output_type": "stream",
     "text": [
      "100%|██████████| 246/246 [01:08<00:00,  3.60it/s]\n"
     ]
    },
    {
     "name": "stdout",
     "output_type": "stream",
     "text": [
      "Epoch 158/250: Train Loss: 0.3361, Train Accuracy: 85.0966, Train IOU: 0.7182, Test Loss: 0.3115, Test Accuracy: 86.4894, Test IOU: 0.7331\n"
     ]
    },
    {
     "name": "stderr",
     "output_type": "stream",
     "text": [
      "100%|██████████| 246/246 [01:01<00:00,  4.01it/s]\n"
     ]
    },
    {
     "name": "stdout",
     "output_type": "stream",
     "text": [
      "Epoch 159/250: Train Loss: 0.3363, Train Accuracy: 85.1163, Train IOU: 0.7193, Test Loss: 0.3159, Test Accuracy: 86.6550, Test IOU: 0.7392\n"
     ]
    },
    {
     "name": "stderr",
     "output_type": "stream",
     "text": [
      "100%|██████████| 246/246 [00:59<00:00,  4.14it/s]\n"
     ]
    },
    {
     "name": "stdout",
     "output_type": "stream",
     "text": [
      "Epoch 160/250: Train Loss: 0.3312, Train Accuracy: 85.3181, Train IOU: 0.7222, Test Loss: 0.3114, Test Accuracy: 86.5725, Test IOU: 0.7364\n"
     ]
    },
    {
     "name": "stderr",
     "output_type": "stream",
     "text": [
      "100%|██████████| 246/246 [01:12<00:00,  3.39it/s]\n"
     ]
    },
    {
     "name": "stdout",
     "output_type": "stream",
     "text": [
      "Epoch 161/250: Train Loss: 0.3338, Train Accuracy: 85.1751, Train IOU: 0.7192, Test Loss: 0.3105, Test Accuracy: 86.7924, Test IOU: 0.7412\n"
     ]
    },
    {
     "name": "stderr",
     "output_type": "stream",
     "text": [
      "100%|██████████| 246/246 [01:06<00:00,  3.72it/s]\n"
     ]
    },
    {
     "name": "stdout",
     "output_type": "stream",
     "text": [
      "Epoch 162/250: Train Loss: 0.3334, Train Accuracy: 85.2978, Train IOU: 0.7226, Test Loss: 0.3152, Test Accuracy: 86.6008, Test IOU: 0.7371\n"
     ]
    },
    {
     "name": "stderr",
     "output_type": "stream",
     "text": [
      "100%|██████████| 246/246 [01:06<00:00,  3.71it/s]\n"
     ]
    },
    {
     "name": "stdout",
     "output_type": "stream",
     "text": [
      "Epoch 163/250: Train Loss: 0.3298, Train Accuracy: 85.4342, Train IOU: 0.7246, Test Loss: 0.3084, Test Accuracy: 86.5643, Test IOU: 0.7344\n"
     ]
    },
    {
     "name": "stderr",
     "output_type": "stream",
     "text": [
      "100%|██████████| 246/246 [01:12<00:00,  3.38it/s]\n"
     ]
    },
    {
     "name": "stdout",
     "output_type": "stream",
     "text": [
      "Epoch 164/250: Train Loss: 0.3295, Train Accuracy: 85.4543, Train IOU: 0.7250, Test Loss: 0.3109, Test Accuracy: 86.5664, Test IOU: 0.7342\n"
     ]
    },
    {
     "name": "stderr",
     "output_type": "stream",
     "text": [
      "100%|██████████| 246/246 [00:59<00:00,  4.13it/s]\n"
     ]
    },
    {
     "name": "stdout",
     "output_type": "stream",
     "text": [
      "Epoch 165/250: Train Loss: 0.3339, Train Accuracy: 85.0694, Train IOU: 0.7176, Test Loss: 0.3148, Test Accuracy: 86.6725, Test IOU: 0.7388\n"
     ]
    },
    {
     "name": "stderr",
     "output_type": "stream",
     "text": [
      "100%|██████████| 246/246 [01:12<00:00,  3.40it/s]\n"
     ]
    },
    {
     "name": "stdout",
     "output_type": "stream",
     "text": [
      "Epoch 166/250: Train Loss: 0.3358, Train Accuracy: 85.1509, Train IOU: 0.7195, Test Loss: 0.3108, Test Accuracy: 86.7178, Test IOU: 0.7386\n"
     ]
    },
    {
     "name": "stderr",
     "output_type": "stream",
     "text": [
      "100%|██████████| 246/246 [01:02<00:00,  3.93it/s]\n"
     ]
    },
    {
     "name": "stdout",
     "output_type": "stream",
     "text": [
      "Epoch 167/250: Train Loss: 0.3372, Train Accuracy: 85.0660, Train IOU: 0.7178, Test Loss: 0.3117, Test Accuracy: 86.7176, Test IOU: 0.7392\n"
     ]
    },
    {
     "name": "stderr",
     "output_type": "stream",
     "text": [
      "100%|██████████| 246/246 [01:01<00:00,  3.98it/s]\n"
     ]
    },
    {
     "name": "stdout",
     "output_type": "stream",
     "text": [
      "Epoch 168/250: Train Loss: 0.3285, Train Accuracy: 85.4559, Train IOU: 0.7243, Test Loss: 0.3127, Test Accuracy: 86.7640, Test IOU: 0.7407\n"
     ]
    },
    {
     "name": "stderr",
     "output_type": "stream",
     "text": [
      "100%|██████████| 246/246 [00:59<00:00,  4.13it/s]\n"
     ]
    },
    {
     "name": "stdout",
     "output_type": "stream",
     "text": [
      "Epoch 169/250: Train Loss: 0.3290, Train Accuracy: 85.4832, Train IOU: 0.7251, Test Loss: 0.3109, Test Accuracy: 86.9707, Test IOU: 0.7458\n"
     ]
    },
    {
     "name": "stderr",
     "output_type": "stream",
     "text": [
      "100%|██████████| 246/246 [01:12<00:00,  3.40it/s]\n"
     ]
    },
    {
     "name": "stdout",
     "output_type": "stream",
     "text": [
      "Epoch 170/250: Train Loss: 0.3323, Train Accuracy: 85.3286, Train IOU: 0.7229, Test Loss: 0.3119, Test Accuracy: 86.9340, Test IOU: 0.7456\n"
     ]
    },
    {
     "name": "stderr",
     "output_type": "stream",
     "text": [
      "100%|██████████| 246/246 [01:09<00:00,  3.55it/s]\n"
     ]
    },
    {
     "name": "stdout",
     "output_type": "stream",
     "text": [
      "Epoch 171/250: Train Loss: 0.3296, Train Accuracy: 85.3272, Train IOU: 0.7226, Test Loss: 0.3076, Test Accuracy: 86.6797, Test IOU: 0.7358\n"
     ]
    },
    {
     "name": "stderr",
     "output_type": "stream",
     "text": [
      "100%|██████████| 246/246 [01:12<00:00,  3.39it/s]\n"
     ]
    },
    {
     "name": "stdout",
     "output_type": "stream",
     "text": [
      "Epoch 172/250: Train Loss: 0.3255, Train Accuracy: 85.5906, Train IOU: 0.7262, Test Loss: 0.3086, Test Accuracy: 86.9621, Test IOU: 0.7449\n"
     ]
    },
    {
     "name": "stderr",
     "output_type": "stream",
     "text": [
      "100%|██████████| 246/246 [01:09<00:00,  3.56it/s]\n"
     ]
    },
    {
     "name": "stdout",
     "output_type": "stream",
     "text": [
      "Epoch 173/250: Train Loss: 0.3290, Train Accuracy: 85.4177, Train IOU: 0.7239, Test Loss: 0.3116, Test Accuracy: 86.9770, Test IOU: 0.7466\n"
     ]
    },
    {
     "name": "stderr",
     "output_type": "stream",
     "text": [
      "100%|██████████| 246/246 [00:59<00:00,  4.14it/s]\n"
     ]
    },
    {
     "name": "stdout",
     "output_type": "stream",
     "text": [
      "Epoch 174/250: Train Loss: 0.3361, Train Accuracy: 85.2000, Train IOU: 0.7212, Test Loss: 0.3118, Test Accuracy: 86.9934, Test IOU: 0.7470\n"
     ]
    },
    {
     "name": "stderr",
     "output_type": "stream",
     "text": [
      "100%|██████████| 246/246 [01:05<00:00,  3.78it/s]\n"
     ]
    },
    {
     "name": "stdout",
     "output_type": "stream",
     "text": [
      "Epoch 175/250: Train Loss: 0.3268, Train Accuracy: 85.5220, Train IOU: 0.7266, Test Loss: 0.3089, Test Accuracy: 86.7875, Test IOU: 0.7400\n"
     ]
    },
    {
     "name": "stderr",
     "output_type": "stream",
     "text": [
      "100%|██████████| 246/246 [00:59<00:00,  4.12it/s]\n"
     ]
    },
    {
     "name": "stdout",
     "output_type": "stream",
     "text": [
      "Epoch 176/250: Train Loss: 0.3306, Train Accuracy: 85.3959, Train IOU: 0.7237, Test Loss: 0.3117, Test Accuracy: 87.0114, Test IOU: 0.7471\n"
     ]
    },
    {
     "name": "stderr",
     "output_type": "stream",
     "text": [
      "100%|██████████| 246/246 [01:11<00:00,  3.42it/s]\n"
     ]
    },
    {
     "name": "stdout",
     "output_type": "stream",
     "text": [
      "Epoch 177/250: Train Loss: 0.3224, Train Accuracy: 85.7095, Train IOU: 0.7293, Test Loss: 0.3069, Test Accuracy: 86.9690, Test IOU: 0.7446\n"
     ]
    },
    {
     "name": "stderr",
     "output_type": "stream",
     "text": [
      "100%|██████████| 246/246 [01:12<00:00,  3.38it/s]\n"
     ]
    },
    {
     "name": "stdout",
     "output_type": "stream",
     "text": [
      "Epoch 178/250: Train Loss: 0.3252, Train Accuracy: 85.7655, Train IOU: 0.7300, Test Loss: 0.3061, Test Accuracy: 86.8976, Test IOU: 0.7414\n"
     ]
    },
    {
     "name": "stderr",
     "output_type": "stream",
     "text": [
      "100%|██████████| 246/246 [00:59<00:00,  4.12it/s]\n"
     ]
    },
    {
     "name": "stdout",
     "output_type": "stream",
     "text": [
      "Epoch 179/250: Train Loss: 0.3316, Train Accuracy: 85.3812, Train IOU: 0.7237, Test Loss: 0.3073, Test Accuracy: 87.0036, Test IOU: 0.7452\n"
     ]
    },
    {
     "name": "stderr",
     "output_type": "stream",
     "text": [
      "100%|██████████| 246/246 [00:59<00:00,  4.12it/s]\n"
     ]
    },
    {
     "name": "stdout",
     "output_type": "stream",
     "text": [
      "Epoch 180/250: Train Loss: 0.3339, Train Accuracy: 85.3370, Train IOU: 0.7231, Test Loss: 0.3049, Test Accuracy: 86.9461, Test IOU: 0.7426\n"
     ]
    },
    {
     "name": "stderr",
     "output_type": "stream",
     "text": [
      "100%|██████████| 246/246 [01:05<00:00,  3.74it/s]\n"
     ]
    },
    {
     "name": "stdout",
     "output_type": "stream",
     "text": [
      "Epoch 181/250: Train Loss: 0.3205, Train Accuracy: 85.9390, Train IOU: 0.7331, Test Loss: 0.3063, Test Accuracy: 86.9936, Test IOU: 0.7437\n"
     ]
    },
    {
     "name": "stderr",
     "output_type": "stream",
     "text": [
      "100%|██████████| 246/246 [01:04<00:00,  3.83it/s]\n"
     ]
    },
    {
     "name": "stdout",
     "output_type": "stream",
     "text": [
      "Epoch 182/250: Train Loss: 0.3266, Train Accuracy: 85.6034, Train IOU: 0.7276, Test Loss: 0.3047, Test Accuracy: 87.1299, Test IOU: 0.7484\n"
     ]
    },
    {
     "name": "stderr",
     "output_type": "stream",
     "text": [
      "100%|██████████| 246/246 [01:00<00:00,  4.09it/s]\n"
     ]
    },
    {
     "name": "stdout",
     "output_type": "stream",
     "text": [
      "Epoch 183/250: Train Loss: 0.3230, Train Accuracy: 85.6247, Train IOU: 0.7276, Test Loss: 0.3050, Test Accuracy: 86.9157, Test IOU: 0.7413\n"
     ]
    },
    {
     "name": "stderr",
     "output_type": "stream",
     "text": [
      "100%|██████████| 246/246 [01:02<00:00,  3.96it/s]\n"
     ]
    },
    {
     "name": "stdout",
     "output_type": "stream",
     "text": [
      "Epoch 184/250: Train Loss: 0.3247, Train Accuracy: 85.7779, Train IOU: 0.7308, Test Loss: 0.3064, Test Accuracy: 87.0852, Test IOU: 0.7467\n"
     ]
    },
    {
     "name": "stderr",
     "output_type": "stream",
     "text": [
      "100%|██████████| 246/246 [01:12<00:00,  3.40it/s]\n"
     ]
    },
    {
     "name": "stdout",
     "output_type": "stream",
     "text": [
      "Epoch 185/250: Train Loss: 0.3235, Train Accuracy: 85.8039, Train IOU: 0.7316, Test Loss: 0.3058, Test Accuracy: 87.0281, Test IOU: 0.7448\n"
     ]
    },
    {
     "name": "stderr",
     "output_type": "stream",
     "text": [
      "100%|██████████| 246/246 [01:00<00:00,  4.10it/s]\n"
     ]
    },
    {
     "name": "stdout",
     "output_type": "stream",
     "text": [
      "Epoch 186/250: Train Loss: 0.3282, Train Accuracy: 85.4927, Train IOU: 0.7253, Test Loss: 0.3044, Test Accuracy: 86.9879, Test IOU: 0.7437\n"
     ]
    },
    {
     "name": "stderr",
     "output_type": "stream",
     "text": [
      "100%|██████████| 246/246 [01:11<00:00,  3.45it/s]\n"
     ]
    },
    {
     "name": "stdout",
     "output_type": "stream",
     "text": [
      "Epoch 187/250: Train Loss: 0.3264, Train Accuracy: 85.6087, Train IOU: 0.7272, Test Loss: 0.3050, Test Accuracy: 87.0933, Test IOU: 0.7469\n"
     ]
    },
    {
     "name": "stderr",
     "output_type": "stream",
     "text": [
      "100%|██████████| 246/246 [01:47<00:00,  2.30it/s]\n"
     ]
    },
    {
     "name": "stdout",
     "output_type": "stream",
     "text": [
      "Epoch 188/250: Train Loss: 0.3303, Train Accuracy: 85.4188, Train IOU: 0.7245, Test Loss: 0.3062, Test Accuracy: 86.9995, Test IOU: 0.7437\n"
     ]
    },
    {
     "name": "stderr",
     "output_type": "stream",
     "text": [
      "100%|██████████| 246/246 [00:59<00:00,  4.12it/s]\n"
     ]
    },
    {
     "name": "stdout",
     "output_type": "stream",
     "text": [
      "Epoch 189/250: Train Loss: 0.3282, Train Accuracy: 85.5296, Train IOU: 0.7255, Test Loss: 0.3051, Test Accuracy: 86.9999, Test IOU: 0.7444\n"
     ]
    },
    {
     "name": "stderr",
     "output_type": "stream",
     "text": [
      "100%|██████████| 246/246 [01:09<00:00,  3.55it/s]\n"
     ]
    },
    {
     "name": "stdout",
     "output_type": "stream",
     "text": [
      "Epoch 190/250: Train Loss: 0.3288, Train Accuracy: 85.3913, Train IOU: 0.7235, Test Loss: 0.3023, Test Accuracy: 87.2288, Test IOU: 0.7494\n"
     ]
    },
    {
     "name": "stderr",
     "output_type": "stream",
     "text": [
      "100%|██████████| 246/246 [01:09<00:00,  3.55it/s]\n"
     ]
    },
    {
     "name": "stdout",
     "output_type": "stream",
     "text": [
      "Epoch 191/250: Train Loss: 0.3223, Train Accuracy: 85.7916, Train IOU: 0.7307, Test Loss: 0.3041, Test Accuracy: 87.1578, Test IOU: 0.7483\n"
     ]
    },
    {
     "name": "stderr",
     "output_type": "stream",
     "text": [
      "100%|██████████| 246/246 [01:01<00:00,  3.97it/s]\n"
     ]
    },
    {
     "name": "stdout",
     "output_type": "stream",
     "text": [
      "Epoch 192/250: Train Loss: 0.3262, Train Accuracy: 85.5985, Train IOU: 0.7275, Test Loss: 0.3037, Test Accuracy: 87.2089, Test IOU: 0.7494\n"
     ]
    },
    {
     "name": "stderr",
     "output_type": "stream",
     "text": [
      "100%|██████████| 246/246 [00:59<00:00,  4.11it/s]\n"
     ]
    },
    {
     "name": "stdout",
     "output_type": "stream",
     "text": [
      "Epoch 193/250: Train Loss: 0.3204, Train Accuracy: 85.9174, Train IOU: 0.7324, Test Loss: 0.3044, Test Accuracy: 87.2122, Test IOU: 0.7494\n"
     ]
    },
    {
     "name": "stderr",
     "output_type": "stream",
     "text": [
      "100%|██████████| 246/246 [01:09<00:00,  3.52it/s]\n"
     ]
    },
    {
     "name": "stdout",
     "output_type": "stream",
     "text": [
      "Epoch 194/250: Train Loss: 0.3223, Train Accuracy: 85.7982, Train IOU: 0.7309, Test Loss: 0.3050, Test Accuracy: 87.0202, Test IOU: 0.7440\n"
     ]
    },
    {
     "name": "stderr",
     "output_type": "stream",
     "text": [
      "100%|██████████| 246/246 [01:05<00:00,  3.77it/s]\n"
     ]
    },
    {
     "name": "stdout",
     "output_type": "stream",
     "text": [
      "Epoch 195/250: Train Loss: 0.3226, Train Accuracy: 85.7018, Train IOU: 0.7290, Test Loss: 0.3045, Test Accuracy: 87.2448, Test IOU: 0.7505\n"
     ]
    },
    {
     "name": "stderr",
     "output_type": "stream",
     "text": [
      "100%|██████████| 246/246 [00:51<00:00,  4.78it/s]\n"
     ]
    },
    {
     "name": "stdout",
     "output_type": "stream",
     "text": [
      "Epoch 196/250: Train Loss: 0.3257, Train Accuracy: 85.6862, Train IOU: 0.7297, Test Loss: 0.3018, Test Accuracy: 86.9555, Test IOU: 0.7414\n"
     ]
    },
    {
     "name": "stderr",
     "output_type": "stream",
     "text": [
      "100%|██████████| 246/246 [00:51<00:00,  4.74it/s]\n"
     ]
    },
    {
     "name": "stdout",
     "output_type": "stream",
     "text": [
      "Epoch 197/250: Train Loss: 0.3191, Train Accuracy: 86.0244, Train IOU: 0.7341, Test Loss: 0.3004, Test Accuracy: 87.3158, Test IOU: 0.7511\n"
     ]
    },
    {
     "name": "stderr",
     "output_type": "stream",
     "text": [
      "100%|██████████| 246/246 [00:51<00:00,  4.74it/s]\n"
     ]
    },
    {
     "name": "stdout",
     "output_type": "stream",
     "text": [
      "Epoch 198/250: Train Loss: 0.3280, Train Accuracy: 85.6367, Train IOU: 0.7283, Test Loss: 0.3021, Test Accuracy: 87.1509, Test IOU: 0.7462\n"
     ]
    },
    {
     "name": "stderr",
     "output_type": "stream",
     "text": [
      "100%|██████████| 246/246 [00:51<00:00,  4.75it/s]\n"
     ]
    },
    {
     "name": "stdout",
     "output_type": "stream",
     "text": [
      "Epoch 199/250: Train Loss: 0.3217, Train Accuracy: 85.8419, Train IOU: 0.7310, Test Loss: 0.3042, Test Accuracy: 87.0428, Test IOU: 0.7440\n"
     ]
    },
    {
     "name": "stderr",
     "output_type": "stream",
     "text": [
      "100%|██████████| 246/246 [00:51<00:00,  4.75it/s]\n"
     ]
    },
    {
     "name": "stdout",
     "output_type": "stream",
     "text": [
      "Epoch 200/250: Train Loss: 0.3256, Train Accuracy: 85.6355, Train IOU: 0.7279, Test Loss: 0.3039, Test Accuracy: 87.2546, Test IOU: 0.7500\n"
     ]
    },
    {
     "name": "stderr",
     "output_type": "stream",
     "text": [
      "100%|██████████| 246/246 [00:51<00:00,  4.75it/s]\n"
     ]
    },
    {
     "name": "stdout",
     "output_type": "stream",
     "text": [
      "Epoch 201/250: Train Loss: 0.3236, Train Accuracy: 85.6839, Train IOU: 0.7292, Test Loss: 0.3020, Test Accuracy: 87.3025, Test IOU: 0.7511\n"
     ]
    },
    {
     "name": "stderr",
     "output_type": "stream",
     "text": [
      "100%|██████████| 246/246 [00:51<00:00,  4.75it/s]\n"
     ]
    },
    {
     "name": "stdout",
     "output_type": "stream",
     "text": [
      "Epoch 202/250: Train Loss: 0.3216, Train Accuracy: 85.8667, Train IOU: 0.7319, Test Loss: 0.2997, Test Accuracy: 87.3222, Test IOU: 0.7510\n"
     ]
    },
    {
     "name": "stderr",
     "output_type": "stream",
     "text": [
      "100%|██████████| 246/246 [00:51<00:00,  4.76it/s]\n"
     ]
    },
    {
     "name": "stdout",
     "output_type": "stream",
     "text": [
      "Epoch 203/250: Train Loss: 0.3203, Train Accuracy: 85.8642, Train IOU: 0.7317, Test Loss: 0.3013, Test Accuracy: 87.1203, Test IOU: 0.7451\n"
     ]
    },
    {
     "name": "stderr",
     "output_type": "stream",
     "text": [
      "100%|██████████| 246/246 [00:51<00:00,  4.75it/s]\n"
     ]
    },
    {
     "name": "stdout",
     "output_type": "stream",
     "text": [
      "Epoch 204/250: Train Loss: 0.3181, Train Accuracy: 86.0686, Train IOU: 0.7352, Test Loss: 0.3009, Test Accuracy: 87.1942, Test IOU: 0.7476\n"
     ]
    },
    {
     "name": "stderr",
     "output_type": "stream",
     "text": [
      "100%|██████████| 246/246 [00:52<00:00,  4.73it/s]\n"
     ]
    },
    {
     "name": "stdout",
     "output_type": "stream",
     "text": [
      "Epoch 205/250: Train Loss: 0.3201, Train Accuracy: 85.9987, Train IOU: 0.7341, Test Loss: 0.3006, Test Accuracy: 87.2537, Test IOU: 0.7484\n"
     ]
    },
    {
     "name": "stderr",
     "output_type": "stream",
     "text": [
      "100%|██████████| 246/246 [00:51<00:00,  4.75it/s]\n"
     ]
    },
    {
     "name": "stdout",
     "output_type": "stream",
     "text": [
      "Epoch 206/250: Train Loss: 0.3210, Train Accuracy: 85.8927, Train IOU: 0.7324, Test Loss: 0.3001, Test Accuracy: 87.2576, Test IOU: 0.7490\n"
     ]
    },
    {
     "name": "stderr",
     "output_type": "stream",
     "text": [
      "100%|██████████| 246/246 [00:51<00:00,  4.73it/s]\n"
     ]
    },
    {
     "name": "stdout",
     "output_type": "stream",
     "text": [
      "Epoch 207/250: Train Loss: 0.3237, Train Accuracy: 85.7979, Train IOU: 0.7310, Test Loss: 0.2993, Test Accuracy: 87.4181, Test IOU: 0.7533\n"
     ]
    },
    {
     "name": "stderr",
     "output_type": "stream",
     "text": [
      "100%|██████████| 246/246 [00:51<00:00,  4.76it/s]\n"
     ]
    },
    {
     "name": "stdout",
     "output_type": "stream",
     "text": [
      "Epoch 208/250: Train Loss: 0.3253, Train Accuracy: 85.7095, Train IOU: 0.7296, Test Loss: 0.3006, Test Accuracy: 87.1900, Test IOU: 0.7462\n"
     ]
    },
    {
     "name": "stderr",
     "output_type": "stream",
     "text": [
      "100%|██████████| 246/246 [00:51<00:00,  4.74it/s]\n"
     ]
    },
    {
     "name": "stdout",
     "output_type": "stream",
     "text": [
      "Epoch 209/250: Train Loss: 0.3144, Train Accuracy: 86.1755, Train IOU: 0.7373, Test Loss: 0.3021, Test Accuracy: 87.3521, Test IOU: 0.7521\n"
     ]
    },
    {
     "name": "stderr",
     "output_type": "stream",
     "text": [
      "100%|██████████| 246/246 [00:52<00:00,  4.70it/s]\n"
     ]
    },
    {
     "name": "stdout",
     "output_type": "stream",
     "text": [
      "Epoch 210/250: Train Loss: 0.3187, Train Accuracy: 85.8438, Train IOU: 0.7310, Test Loss: 0.3012, Test Accuracy: 87.3683, Test IOU: 0.7527\n"
     ]
    },
    {
     "name": "stderr",
     "output_type": "stream",
     "text": [
      "100%|██████████| 246/246 [00:51<00:00,  4.75it/s]\n"
     ]
    },
    {
     "name": "stdout",
     "output_type": "stream",
     "text": [
      "Epoch 211/250: Train Loss: 0.3207, Train Accuracy: 86.0548, Train IOU: 0.7363, Test Loss: 0.2965, Test Accuracy: 87.4726, Test IOU: 0.7533\n"
     ]
    },
    {
     "name": "stderr",
     "output_type": "stream",
     "text": [
      "100%|██████████| 246/246 [00:51<00:00,  4.75it/s]\n"
     ]
    },
    {
     "name": "stdout",
     "output_type": "stream",
     "text": [
      "Epoch 212/250: Train Loss: 0.3202, Train Accuracy: 85.7848, Train IOU: 0.7301, Test Loss: 0.2991, Test Accuracy: 87.3437, Test IOU: 0.7516\n"
     ]
    },
    {
     "name": "stderr",
     "output_type": "stream",
     "text": [
      "100%|██████████| 246/246 [00:52<00:00,  4.73it/s]\n"
     ]
    },
    {
     "name": "stdout",
     "output_type": "stream",
     "text": [
      "Epoch 213/250: Train Loss: 0.3158, Train Accuracy: 85.9761, Train IOU: 0.7333, Test Loss: 0.2978, Test Accuracy: 87.4072, Test IOU: 0.7515\n"
     ]
    },
    {
     "name": "stderr",
     "output_type": "stream",
     "text": [
      "100%|██████████| 246/246 [00:52<00:00,  4.66it/s]\n"
     ]
    },
    {
     "name": "stdout",
     "output_type": "stream",
     "text": [
      "Epoch 214/250: Train Loss: 0.3162, Train Accuracy: 86.2883, Train IOU: 0.7396, Test Loss: 0.2962, Test Accuracy: 87.4622, Test IOU: 0.7533\n"
     ]
    },
    {
     "name": "stderr",
     "output_type": "stream",
     "text": [
      "100%|██████████| 246/246 [00:51<00:00,  4.73it/s]\n"
     ]
    },
    {
     "name": "stdout",
     "output_type": "stream",
     "text": [
      "Epoch 215/250: Train Loss: 0.3226, Train Accuracy: 85.7513, Train IOU: 0.7302, Test Loss: 0.2986, Test Accuracy: 87.4330, Test IOU: 0.7530\n"
     ]
    },
    {
     "name": "stderr",
     "output_type": "stream",
     "text": [
      "100%|██████████| 246/246 [00:52<00:00,  4.70it/s]\n"
     ]
    },
    {
     "name": "stdout",
     "output_type": "stream",
     "text": [
      "Epoch 216/250: Train Loss: 0.3201, Train Accuracy: 85.8622, Train IOU: 0.7318, Test Loss: 0.2968, Test Accuracy: 87.4633, Test IOU: 0.7532\n"
     ]
    },
    {
     "name": "stderr",
     "output_type": "stream",
     "text": [
      "100%|██████████| 246/246 [00:52<00:00,  4.72it/s]\n"
     ]
    },
    {
     "name": "stdout",
     "output_type": "stream",
     "text": [
      "Epoch 217/250: Train Loss: 0.3183, Train Accuracy: 86.0029, Train IOU: 0.7338, Test Loss: 0.2976, Test Accuracy: 87.5362, Test IOU: 0.7551\n"
     ]
    },
    {
     "name": "stderr",
     "output_type": "stream",
     "text": [
      "100%|██████████| 246/246 [00:52<00:00,  4.72it/s]\n"
     ]
    },
    {
     "name": "stdout",
     "output_type": "stream",
     "text": [
      "Epoch 218/250: Train Loss: 0.3132, Train Accuracy: 86.3631, Train IOU: 0.7410, Test Loss: 0.3013, Test Accuracy: 87.4934, Test IOU: 0.7544\n"
     ]
    },
    {
     "name": "stderr",
     "output_type": "stream",
     "text": [
      "100%|██████████| 246/246 [00:52<00:00,  4.73it/s]\n"
     ]
    },
    {
     "name": "stdout",
     "output_type": "stream",
     "text": [
      "Epoch 219/250: Train Loss: 0.3180, Train Accuracy: 86.0424, Train IOU: 0.7350, Test Loss: 0.2975, Test Accuracy: 87.3525, Test IOU: 0.7498\n"
     ]
    },
    {
     "name": "stderr",
     "output_type": "stream",
     "text": [
      "100%|██████████| 246/246 [00:51<00:00,  4.74it/s]\n"
     ]
    },
    {
     "name": "stdout",
     "output_type": "stream",
     "text": [
      "Epoch 220/250: Train Loss: 0.3210, Train Accuracy: 85.9294, Train IOU: 0.7336, Test Loss: 0.2954, Test Accuracy: 87.5315, Test IOU: 0.7552\n"
     ]
    },
    {
     "name": "stderr",
     "output_type": "stream",
     "text": [
      "100%|██████████| 246/246 [00:52<00:00,  4.72it/s]\n"
     ]
    },
    {
     "name": "stdout",
     "output_type": "stream",
     "text": [
      "Epoch 221/250: Train Loss: 0.3169, Train Accuracy: 86.0823, Train IOU: 0.7361, Test Loss: 0.2961, Test Accuracy: 87.4873, Test IOU: 0.7539\n"
     ]
    },
    {
     "name": "stderr",
     "output_type": "stream",
     "text": [
      "100%|██████████| 246/246 [00:52<00:00,  4.70it/s]\n"
     ]
    },
    {
     "name": "stdout",
     "output_type": "stream",
     "text": [
      "Epoch 222/250: Train Loss: 0.3154, Train Accuracy: 85.9473, Train IOU: 0.7329, Test Loss: 0.2981, Test Accuracy: 87.5916, Test IOU: 0.7569\n"
     ]
    },
    {
     "name": "stderr",
     "output_type": "stream",
     "text": [
      "100%|██████████| 246/246 [00:52<00:00,  4.71it/s]\n"
     ]
    },
    {
     "name": "stdout",
     "output_type": "stream",
     "text": [
      "Epoch 223/250: Train Loss: 0.3136, Train Accuracy: 86.3053, Train IOU: 0.7400, Test Loss: 0.2965, Test Accuracy: 87.5049, Test IOU: 0.7541\n"
     ]
    },
    {
     "name": "stderr",
     "output_type": "stream",
     "text": [
      "100%|██████████| 246/246 [00:52<00:00,  4.73it/s]\n"
     ]
    },
    {
     "name": "stdout",
     "output_type": "stream",
     "text": [
      "Epoch 224/250: Train Loss: 0.3081, Train Accuracy: 86.4926, Train IOU: 0.7433, Test Loss: 0.2954, Test Accuracy: 87.5283, Test IOU: 0.7544\n"
     ]
    },
    {
     "name": "stderr",
     "output_type": "stream",
     "text": [
      "100%|██████████| 246/246 [00:51<00:00,  4.74it/s]\n"
     ]
    },
    {
     "name": "stdout",
     "output_type": "stream",
     "text": [
      "Epoch 225/250: Train Loss: 0.3134, Train Accuracy: 86.2104, Train IOU: 0.7385, Test Loss: 0.2962, Test Accuracy: 87.4598, Test IOU: 0.7522\n"
     ]
    },
    {
     "name": "stderr",
     "output_type": "stream",
     "text": [
      "100%|██████████| 246/246 [00:51<00:00,  4.74it/s]\n"
     ]
    },
    {
     "name": "stdout",
     "output_type": "stream",
     "text": [
      "Epoch 226/250: Train Loss: 0.3090, Train Accuracy: 86.3980, Train IOU: 0.7406, Test Loss: 0.2952, Test Accuracy: 87.5342, Test IOU: 0.7541\n"
     ]
    },
    {
     "name": "stderr",
     "output_type": "stream",
     "text": [
      "100%|██████████| 246/246 [00:52<00:00,  4.69it/s]\n"
     ]
    },
    {
     "name": "stdout",
     "output_type": "stream",
     "text": [
      "Epoch 227/250: Train Loss: 0.3149, Train Accuracy: 86.1255, Train IOU: 0.7366, Test Loss: 0.2932, Test Accuracy: 87.6504, Test IOU: 0.7575\n"
     ]
    },
    {
     "name": "stderr",
     "output_type": "stream",
     "text": [
      "100%|██████████| 246/246 [00:51<00:00,  4.73it/s]\n"
     ]
    },
    {
     "name": "stdout",
     "output_type": "stream",
     "text": [
      "Epoch 228/250: Train Loss: 0.3130, Train Accuracy: 86.2073, Train IOU: 0.7383, Test Loss: 0.2951, Test Accuracy: 87.5766, Test IOU: 0.7555\n"
     ]
    },
    {
     "name": "stderr",
     "output_type": "stream",
     "text": [
      "100%|██████████| 246/246 [00:52<00:00,  4.71it/s]\n"
     ]
    },
    {
     "name": "stdout",
     "output_type": "stream",
     "text": [
      "Epoch 229/250: Train Loss: 0.3105, Train Accuracy: 86.4424, Train IOU: 0.7425, Test Loss: 0.2936, Test Accuracy: 87.4450, Test IOU: 0.7517\n"
     ]
    },
    {
     "name": "stderr",
     "output_type": "stream",
     "text": [
      "100%|██████████| 246/246 [00:52<00:00,  4.71it/s]\n"
     ]
    },
    {
     "name": "stdout",
     "output_type": "stream",
     "text": [
      "Epoch 230/250: Train Loss: 0.3148, Train Accuracy: 85.9970, Train IOU: 0.7341, Test Loss: 0.2952, Test Accuracy: 87.5228, Test IOU: 0.7546\n"
     ]
    },
    {
     "name": "stderr",
     "output_type": "stream",
     "text": [
      "100%|██████████| 246/246 [00:51<00:00,  4.74it/s]\n"
     ]
    },
    {
     "name": "stdout",
     "output_type": "stream",
     "text": [
      "Epoch 231/250: Train Loss: 0.3113, Train Accuracy: 86.3981, Train IOU: 0.7414, Test Loss: 0.2961, Test Accuracy: 87.3473, Test IOU: 0.7487\n"
     ]
    },
    {
     "name": "stderr",
     "output_type": "stream",
     "text": [
      "100%|██████████| 246/246 [00:51<00:00,  4.74it/s]\n"
     ]
    },
    {
     "name": "stdout",
     "output_type": "stream",
     "text": [
      "Epoch 232/250: Train Loss: 0.3092, Train Accuracy: 86.4418, Train IOU: 0.7416, Test Loss: 0.2935, Test Accuracy: 87.5594, Test IOU: 0.7542\n"
     ]
    },
    {
     "name": "stderr",
     "output_type": "stream",
     "text": [
      "100%|██████████| 246/246 [00:51<00:00,  4.73it/s]\n"
     ]
    },
    {
     "name": "stdout",
     "output_type": "stream",
     "text": [
      "Epoch 233/250: Train Loss: 0.3105, Train Accuracy: 86.4587, Train IOU: 0.7428, Test Loss: 0.2952, Test Accuracy: 87.5361, Test IOU: 0.7543\n"
     ]
    },
    {
     "name": "stderr",
     "output_type": "stream",
     "text": [
      "100%|██████████| 246/246 [00:58<00:00,  4.17it/s]\n"
     ]
    },
    {
     "name": "stdout",
     "output_type": "stream",
     "text": [
      "Epoch 234/250: Train Loss: 0.3149, Train Accuracy: 86.3221, Train IOU: 0.7404, Test Loss: 0.2921, Test Accuracy: 87.6007, Test IOU: 0.7552\n"
     ]
    },
    {
     "name": "stderr",
     "output_type": "stream",
     "text": [
      "100%|██████████| 246/246 [01:01<00:00,  4.01it/s]\n"
     ]
    },
    {
     "name": "stdout",
     "output_type": "stream",
     "text": [
      "Epoch 235/250: Train Loss: 0.3137, Train Accuracy: 86.0863, Train IOU: 0.7357, Test Loss: 0.2953, Test Accuracy: 87.6427, Test IOU: 0.7573\n"
     ]
    },
    {
     "name": "stderr",
     "output_type": "stream",
     "text": [
      "100%|██████████| 246/246 [01:13<00:00,  3.33it/s]\n"
     ]
    },
    {
     "name": "stdout",
     "output_type": "stream",
     "text": [
      "Epoch 236/250: Train Loss: 0.3127, Train Accuracy: 86.2124, Train IOU: 0.7382, Test Loss: 0.2933, Test Accuracy: 87.6308, Test IOU: 0.7567\n"
     ]
    },
    {
     "name": "stderr",
     "output_type": "stream",
     "text": [
      "100%|██████████| 246/246 [01:00<00:00,  4.04it/s]\n"
     ]
    },
    {
     "name": "stdout",
     "output_type": "stream",
     "text": [
      "Epoch 237/250: Train Loss: 0.3136, Train Accuracy: 86.2022, Train IOU: 0.7373, Test Loss: 0.2923, Test Accuracy: 87.6530, Test IOU: 0.7568\n"
     ]
    },
    {
     "name": "stderr",
     "output_type": "stream",
     "text": [
      "100%|██████████| 246/246 [01:01<00:00,  4.02it/s]\n"
     ]
    },
    {
     "name": "stdout",
     "output_type": "stream",
     "text": [
      "Epoch 238/250: Train Loss: 0.3133, Train Accuracy: 86.4390, Train IOU: 0.7429, Test Loss: 0.2922, Test Accuracy: 87.6690, Test IOU: 0.7567\n"
     ]
    },
    {
     "name": "stderr",
     "output_type": "stream",
     "text": [
      "100%|██████████| 246/246 [01:13<00:00,  3.35it/s]\n"
     ]
    },
    {
     "name": "stdout",
     "output_type": "stream",
     "text": [
      "Epoch 239/250: Train Loss: 0.3101, Train Accuracy: 86.3039, Train IOU: 0.7396, Test Loss: 0.2946, Test Accuracy: 87.7062, Test IOU: 0.7590\n"
     ]
    },
    {
     "name": "stderr",
     "output_type": "stream",
     "text": [
      "100%|██████████| 246/246 [01:07<00:00,  3.62it/s]\n"
     ]
    },
    {
     "name": "stdout",
     "output_type": "stream",
     "text": [
      "Epoch 240/250: Train Loss: 0.3135, Train Accuracy: 86.2118, Train IOU: 0.7382, Test Loss: 0.2920, Test Accuracy: 87.6637, Test IOU: 0.7567\n"
     ]
    },
    {
     "name": "stderr",
     "output_type": "stream",
     "text": [
      "100%|██████████| 246/246 [01:11<00:00,  3.45it/s]\n"
     ]
    },
    {
     "name": "stdout",
     "output_type": "stream",
     "text": [
      "Epoch 241/250: Train Loss: 0.3058, Train Accuracy: 86.4544, Train IOU: 0.7425, Test Loss: 0.2918, Test Accuracy: 87.6350, Test IOU: 0.7559\n"
     ]
    },
    {
     "name": "stderr",
     "output_type": "stream",
     "text": [
      "100%|██████████| 246/246 [01:01<00:00,  3.99it/s]\n"
     ]
    },
    {
     "name": "stdout",
     "output_type": "stream",
     "text": [
      "Epoch 242/250: Train Loss: 0.3159, Train Accuracy: 86.1612, Train IOU: 0.7379, Test Loss: 0.2914, Test Accuracy: 87.6020, Test IOU: 0.7549\n"
     ]
    },
    {
     "name": "stderr",
     "output_type": "stream",
     "text": [
      "100%|██████████| 246/246 [01:00<00:00,  4.08it/s]\n"
     ]
    },
    {
     "name": "stdout",
     "output_type": "stream",
     "text": [
      "Epoch 243/250: Train Loss: 0.3136, Train Accuracy: 86.1825, Train IOU: 0.7377, Test Loss: 0.2915, Test Accuracy: 87.6058, Test IOU: 0.7553\n"
     ]
    },
    {
     "name": "stderr",
     "output_type": "stream",
     "text": [
      "100%|██████████| 246/246 [01:15<00:00,  3.27it/s]\n"
     ]
    },
    {
     "name": "stdout",
     "output_type": "stream",
     "text": [
      "Epoch 244/250: Train Loss: 0.3143, Train Accuracy: 86.0729, Train IOU: 0.7352, Test Loss: 0.2916, Test Accuracy: 87.7373, Test IOU: 0.7586\n"
     ]
    },
    {
     "name": "stderr",
     "output_type": "stream",
     "text": [
      "100%|██████████| 246/246 [01:11<00:00,  3.45it/s]\n"
     ]
    },
    {
     "name": "stdout",
     "output_type": "stream",
     "text": [
      "Epoch 245/250: Train Loss: 0.3109, Train Accuracy: 86.3380, Train IOU: 0.7403, Test Loss: 0.2907, Test Accuracy: 87.6039, Test IOU: 0.7542\n"
     ]
    },
    {
     "name": "stderr",
     "output_type": "stream",
     "text": [
      "100%|██████████| 246/246 [01:04<00:00,  3.79it/s]\n"
     ]
    },
    {
     "name": "stdout",
     "output_type": "stream",
     "text": [
      "Epoch 246/250: Train Loss: 0.3175, Train Accuracy: 86.0843, Train IOU: 0.7362, Test Loss: 0.2926, Test Accuracy: 87.5529, Test IOU: 0.7532\n"
     ]
    },
    {
     "name": "stderr",
     "output_type": "stream",
     "text": [
      "100%|██████████| 246/246 [01:00<00:00,  4.08it/s]\n"
     ]
    },
    {
     "name": "stdout",
     "output_type": "stream",
     "text": [
      "Epoch 247/250: Train Loss: 0.3131, Train Accuracy: 86.1215, Train IOU: 0.7362, Test Loss: 0.2903, Test Accuracy: 87.6621, Test IOU: 0.7559\n"
     ]
    },
    {
     "name": "stderr",
     "output_type": "stream",
     "text": [
      "100%|██████████| 246/246 [01:12<00:00,  3.38it/s]\n"
     ]
    },
    {
     "name": "stdout",
     "output_type": "stream",
     "text": [
      "Epoch 248/250: Train Loss: 0.3103, Train Accuracy: 86.3767, Train IOU: 0.7413, Test Loss: 0.2921, Test Accuracy: 87.7682, Test IOU: 0.7598\n"
     ]
    },
    {
     "name": "stderr",
     "output_type": "stream",
     "text": [
      "100%|██████████| 246/246 [01:04<00:00,  3.80it/s]\n"
     ]
    },
    {
     "name": "stdout",
     "output_type": "stream",
     "text": [
      "Epoch 249/250: Train Loss: 0.3177, Train Accuracy: 85.9863, Train IOU: 0.7338, Test Loss: 0.2921, Test Accuracy: 87.8194, Test IOU: 0.7608\n"
     ]
    },
    {
     "name": "stderr",
     "output_type": "stream",
     "text": [
      "100%|██████████| 246/246 [01:10<00:00,  3.48it/s]\n"
     ]
    },
    {
     "name": "stdout",
     "output_type": "stream",
     "text": [
      "Epoch 250/250: Train Loss: 0.3142, Train Accuracy: 86.3090, Train IOU: 0.7404, Test Loss: 0.2895, Test Accuracy: 87.7930, Test IOU: 0.7590\n",
      "Training manet\n"
     ]
    },
    {
     "name": "stderr",
     "output_type": "stream",
     "text": [
      "100%|██████████| 246/246 [01:04<00:00,  3.79it/s]\n"
     ]
    },
    {
     "name": "stdout",
     "output_type": "stream",
     "text": [
      "Epoch 1/250: Train Loss: 0.6584, Train Accuracy: 56.2745, Train IOU: 0.1647, Test Loss: 2.1338, Test Accuracy: 52.9503, Test IOU: 0.0731\n"
     ]
    },
    {
     "name": "stderr",
     "output_type": "stream",
     "text": [
      "100%|██████████| 246/246 [01:05<00:00,  3.74it/s]\n"
     ]
    },
    {
     "name": "stdout",
     "output_type": "stream",
     "text": [
      "Epoch 2/250: Train Loss: 0.5908, Train Accuracy: 63.6351, Train IOU: 0.3496, Test Loss: 0.5668, Test Accuracy: 67.3292, Test IOU: 0.4131\n"
     ]
    },
    {
     "name": "stderr",
     "output_type": "stream",
     "text": [
      "100%|██████████| 246/246 [01:15<00:00,  3.25it/s]\n"
     ]
    },
    {
     "name": "stdout",
     "output_type": "stream",
     "text": [
      "Epoch 3/250: Train Loss: 0.5726, Train Accuracy: 66.7480, Train IOU: 0.4216, Test Loss: 0.5504, Test Accuracy: 69.6564, Test IOU: 0.4648\n"
     ]
    },
    {
     "name": "stderr",
     "output_type": "stream",
     "text": [
      "100%|██████████| 246/246 [01:00<00:00,  4.09it/s]\n"
     ]
    },
    {
     "name": "stdout",
     "output_type": "stream",
     "text": [
      "Epoch 4/250: Train Loss: 0.5620, Train Accuracy: 68.0009, Train IOU: 0.4496, Test Loss: 0.5411, Test Accuracy: 70.1519, Test IOU: 0.4726\n"
     ]
    },
    {
     "name": "stderr",
     "output_type": "stream",
     "text": [
      "100%|██████████| 246/246 [01:09<00:00,  3.53it/s]\n"
     ]
    },
    {
     "name": "stdout",
     "output_type": "stream",
     "text": [
      "Epoch 5/250: Train Loss: 0.5579, Train Accuracy: 68.6900, Train IOU: 0.4599, Test Loss: 0.5333, Test Accuracy: 70.7411, Test IOU: 0.4860\n"
     ]
    },
    {
     "name": "stderr",
     "output_type": "stream",
     "text": [
      "100%|██████████| 246/246 [01:10<00:00,  3.49it/s]\n"
     ]
    },
    {
     "name": "stdout",
     "output_type": "stream",
     "text": [
      "Epoch 6/250: Train Loss: 0.5510, Train Accuracy: 69.2371, Train IOU: 0.4709, Test Loss: 0.5281, Test Accuracy: 70.9266, Test IOU: 0.4822\n"
     ]
    },
    {
     "name": "stderr",
     "output_type": "stream",
     "text": [
      "100%|██████████| 246/246 [01:02<00:00,  3.92it/s]\n"
     ]
    },
    {
     "name": "stdout",
     "output_type": "stream",
     "text": [
      "Epoch 7/250: Train Loss: 0.5436, Train Accuracy: 69.6468, Train IOU: 0.4759, Test Loss: 0.5210, Test Accuracy: 71.6303, Test IOU: 0.4996\n"
     ]
    },
    {
     "name": "stderr",
     "output_type": "stream",
     "text": [
      "100%|██████████| 246/246 [01:06<00:00,  3.68it/s]\n"
     ]
    },
    {
     "name": "stdout",
     "output_type": "stream",
     "text": [
      "Epoch 8/250: Train Loss: 0.5418, Train Accuracy: 69.9685, Train IOU: 0.4793, Test Loss: 0.5148, Test Accuracy: 71.6532, Test IOU: 0.4887\n"
     ]
    },
    {
     "name": "stderr",
     "output_type": "stream",
     "text": [
      "100%|██████████| 246/246 [00:55<00:00,  4.42it/s]\n"
     ]
    },
    {
     "name": "stdout",
     "output_type": "stream",
     "text": [
      "Epoch 9/250: Train Loss: 0.5333, Train Accuracy: 70.3664, Train IOU: 0.4831, Test Loss: 0.5099, Test Accuracy: 72.2076, Test IOU: 0.5002\n"
     ]
    },
    {
     "name": "stderr",
     "output_type": "stream",
     "text": [
      "100%|██████████| 246/246 [00:53<00:00,  4.63it/s]\n"
     ]
    },
    {
     "name": "stdout",
     "output_type": "stream",
     "text": [
      "Epoch 10/250: Train Loss: 0.5254, Train Accuracy: 70.9002, Train IOU: 0.4905, Test Loss: 0.5014, Test Accuracy: 72.7423, Test IOU: 0.5057\n"
     ]
    },
    {
     "name": "stderr",
     "output_type": "stream",
     "text": [
      "100%|██████████| 246/246 [00:53<00:00,  4.61it/s]\n"
     ]
    },
    {
     "name": "stdout",
     "output_type": "stream",
     "text": [
      "Epoch 11/250: Train Loss: 0.5252, Train Accuracy: 70.9384, Train IOU: 0.4888, Test Loss: 0.4988, Test Accuracy: 73.1035, Test IOU: 0.5108\n"
     ]
    },
    {
     "name": "stderr",
     "output_type": "stream",
     "text": [
      "100%|██████████| 246/246 [00:52<00:00,  4.66it/s]\n"
     ]
    },
    {
     "name": "stdout",
     "output_type": "stream",
     "text": [
      "Epoch 12/250: Train Loss: 0.5185, Train Accuracy: 71.4718, Train IOU: 0.4975, Test Loss: 0.4931, Test Accuracy: 73.8783, Test IOU: 0.5315\n"
     ]
    },
    {
     "name": "stderr",
     "output_type": "stream",
     "text": [
      "100%|██████████| 246/246 [00:53<00:00,  4.64it/s]\n"
     ]
    },
    {
     "name": "stdout",
     "output_type": "stream",
     "text": [
      "Epoch 13/250: Train Loss: 0.5201, Train Accuracy: 71.5887, Train IOU: 0.4987, Test Loss: 0.4871, Test Accuracy: 74.2677, Test IOU: 0.5272\n"
     ]
    },
    {
     "name": "stderr",
     "output_type": "stream",
     "text": [
      "100%|██████████| 246/246 [00:52<00:00,  4.65it/s]\n"
     ]
    },
    {
     "name": "stdout",
     "output_type": "stream",
     "text": [
      "Epoch 14/250: Train Loss: 0.5120, Train Accuracy: 72.0264, Train IOU: 0.5021, Test Loss: 0.4795, Test Accuracy: 74.8438, Test IOU: 0.5397\n"
     ]
    },
    {
     "name": "stderr",
     "output_type": "stream",
     "text": [
      "100%|██████████| 246/246 [00:53<00:00,  4.63it/s]\n"
     ]
    },
    {
     "name": "stdout",
     "output_type": "stream",
     "text": [
      "Epoch 15/250: Train Loss: 0.5121, Train Accuracy: 72.2965, Train IOU: 0.5089, Test Loss: 0.4765, Test Accuracy: 75.1988, Test IOU: 0.5447\n"
     ]
    },
    {
     "name": "stderr",
     "output_type": "stream",
     "text": [
      "100%|██████████| 246/246 [00:53<00:00,  4.64it/s]\n"
     ]
    },
    {
     "name": "stdout",
     "output_type": "stream",
     "text": [
      "Epoch 16/250: Train Loss: 0.5034, Train Accuracy: 72.9499, Train IOU: 0.5175, Test Loss: 0.4731, Test Accuracy: 75.3028, Test IOU: 0.5455\n"
     ]
    },
    {
     "name": "stderr",
     "output_type": "stream",
     "text": [
      "100%|██████████| 246/246 [00:53<00:00,  4.63it/s]\n"
     ]
    },
    {
     "name": "stdout",
     "output_type": "stream",
     "text": [
      "Epoch 17/250: Train Loss: 0.5049, Train Accuracy: 73.0008, Train IOU: 0.5188, Test Loss: 0.4750, Test Accuracy: 75.4188, Test IOU: 0.5386\n"
     ]
    },
    {
     "name": "stderr",
     "output_type": "stream",
     "text": [
      "100%|██████████| 246/246 [00:53<00:00,  4.58it/s]\n"
     ]
    },
    {
     "name": "stdout",
     "output_type": "stream",
     "text": [
      "Epoch 18/250: Train Loss: 0.5016, Train Accuracy: 73.2771, Train IOU: 0.5252, Test Loss: 0.4699, Test Accuracy: 75.9918, Test IOU: 0.5574\n"
     ]
    },
    {
     "name": "stderr",
     "output_type": "stream",
     "text": [
      "100%|██████████| 246/246 [00:53<00:00,  4.61it/s]\n"
     ]
    },
    {
     "name": "stdout",
     "output_type": "stream",
     "text": [
      "Epoch 19/250: Train Loss: 0.4976, Train Accuracy: 73.5583, Train IOU: 0.5275, Test Loss: 0.4681, Test Accuracy: 76.6694, Test IOU: 0.5763\n"
     ]
    },
    {
     "name": "stderr",
     "output_type": "stream",
     "text": [
      "100%|██████████| 246/246 [00:53<00:00,  4.60it/s]\n"
     ]
    },
    {
     "name": "stdout",
     "output_type": "stream",
     "text": [
      "Epoch 20/250: Train Loss: 0.4978, Train Accuracy: 73.6723, Train IOU: 0.5311, Test Loss: 0.4637, Test Accuracy: 76.4315, Test IOU: 0.5636\n"
     ]
    },
    {
     "name": "stderr",
     "output_type": "stream",
     "text": [
      "100%|██████████| 246/246 [00:53<00:00,  4.62it/s]\n"
     ]
    },
    {
     "name": "stdout",
     "output_type": "stream",
     "text": [
      "Epoch 21/250: Train Loss: 0.4883, Train Accuracy: 74.5545, Train IOU: 0.5417, Test Loss: 0.4607, Test Accuracy: 76.8659, Test IOU: 0.5741\n"
     ]
    },
    {
     "name": "stderr",
     "output_type": "stream",
     "text": [
      "100%|██████████| 246/246 [00:53<00:00,  4.62it/s]\n"
     ]
    },
    {
     "name": "stdout",
     "output_type": "stream",
     "text": [
      "Epoch 22/250: Train Loss: 0.4950, Train Accuracy: 73.9809, Train IOU: 0.5350, Test Loss: 0.4537, Test Accuracy: 76.7864, Test IOU: 0.5624\n"
     ]
    },
    {
     "name": "stderr",
     "output_type": "stream",
     "text": [
      "100%|██████████| 246/246 [00:53<00:00,  4.62it/s]\n"
     ]
    },
    {
     "name": "stdout",
     "output_type": "stream",
     "text": [
      "Epoch 23/250: Train Loss: 0.4885, Train Accuracy: 74.5188, Train IOU: 0.5444, Test Loss: 0.4536, Test Accuracy: 77.3828, Test IOU: 0.5819\n"
     ]
    },
    {
     "name": "stderr",
     "output_type": "stream",
     "text": [
      "100%|██████████| 246/246 [00:53<00:00,  4.58it/s]\n"
     ]
    },
    {
     "name": "stdout",
     "output_type": "stream",
     "text": [
      "Epoch 24/250: Train Loss: 0.4834, Train Accuracy: 74.8277, Train IOU: 0.5482, Test Loss: 0.4515, Test Accuracy: 77.2868, Test IOU: 0.5748\n"
     ]
    },
    {
     "name": "stderr",
     "output_type": "stream",
     "text": [
      "100%|██████████| 246/246 [00:53<00:00,  4.61it/s]\n"
     ]
    },
    {
     "name": "stdout",
     "output_type": "stream",
     "text": [
      "Epoch 25/250: Train Loss: 0.4816, Train Accuracy: 75.0893, Train IOU: 0.5540, Test Loss: 0.4484, Test Accuracy: 77.6535, Test IOU: 0.5820\n"
     ]
    },
    {
     "name": "stderr",
     "output_type": "stream",
     "text": [
      "100%|██████████| 246/246 [00:53<00:00,  4.63it/s]\n"
     ]
    },
    {
     "name": "stdout",
     "output_type": "stream",
     "text": [
      "Epoch 26/250: Train Loss: 0.4787, Train Accuracy: 75.1218, Train IOU: 0.5552, Test Loss: 0.4468, Test Accuracy: 77.7852, Test IOU: 0.5861\n"
     ]
    },
    {
     "name": "stderr",
     "output_type": "stream",
     "text": [
      "100%|██████████| 246/246 [00:53<00:00,  4.61it/s]\n"
     ]
    },
    {
     "name": "stdout",
     "output_type": "stream",
     "text": [
      "Epoch 27/250: Train Loss: 0.4781, Train Accuracy: 75.3591, Train IOU: 0.5566, Test Loss: 0.4424, Test Accuracy: 78.0281, Test IOU: 0.5886\n"
     ]
    },
    {
     "name": "stderr",
     "output_type": "stream",
     "text": [
      "100%|██████████| 246/246 [00:53<00:00,  4.64it/s]\n"
     ]
    },
    {
     "name": "stdout",
     "output_type": "stream",
     "text": [
      "Epoch 28/250: Train Loss: 0.4748, Train Accuracy: 75.6187, Train IOU: 0.5621, Test Loss: 0.4488, Test Accuracy: 78.3713, Test IOU: 0.6068\n"
     ]
    },
    {
     "name": "stderr",
     "output_type": "stream",
     "text": [
      "100%|██████████| 246/246 [01:03<00:00,  3.87it/s]\n"
     ]
    },
    {
     "name": "stdout",
     "output_type": "stream",
     "text": [
      "Epoch 29/250: Train Loss: 0.4744, Train Accuracy: 75.6160, Train IOU: 0.5635, Test Loss: 0.4439, Test Accuracy: 78.3365, Test IOU: 0.5976\n"
     ]
    },
    {
     "name": "stderr",
     "output_type": "stream",
     "text": [
      "100%|██████████| 246/246 [01:06<00:00,  3.69it/s]\n"
     ]
    },
    {
     "name": "stdout",
     "output_type": "stream",
     "text": [
      "Epoch 30/250: Train Loss: 0.4718, Train Accuracy: 75.7844, Train IOU: 0.5655, Test Loss: 0.4340, Test Accuracy: 78.6434, Test IOU: 0.6009\n"
     ]
    },
    {
     "name": "stderr",
     "output_type": "stream",
     "text": [
      "100%|██████████| 246/246 [01:19<00:00,  3.11it/s]\n"
     ]
    },
    {
     "name": "stdout",
     "output_type": "stream",
     "text": [
      "Epoch 31/250: Train Loss: 0.4790, Train Accuracy: 75.4474, Train IOU: 0.5608, Test Loss: 0.4351, Test Accuracy: 78.8157, Test IOU: 0.6055\n"
     ]
    },
    {
     "name": "stderr",
     "output_type": "stream",
     "text": [
      "100%|██████████| 246/246 [01:02<00:00,  3.92it/s]\n"
     ]
    },
    {
     "name": "stdout",
     "output_type": "stream",
     "text": [
      "Epoch 32/250: Train Loss: 0.4708, Train Accuracy: 76.0293, Train IOU: 0.5711, Test Loss: 0.4341, Test Accuracy: 79.0939, Test IOU: 0.6152\n"
     ]
    },
    {
     "name": "stderr",
     "output_type": "stream",
     "text": [
      "100%|██████████| 246/246 [01:18<00:00,  3.12it/s]\n"
     ]
    },
    {
     "name": "stdout",
     "output_type": "stream",
     "text": [
      "Epoch 33/250: Train Loss: 0.4700, Train Accuracy: 76.0403, Train IOU: 0.5707, Test Loss: 0.4332, Test Accuracy: 79.0828, Test IOU: 0.6126\n"
     ]
    },
    {
     "name": "stderr",
     "output_type": "stream",
     "text": [
      "100%|██████████| 246/246 [01:03<00:00,  3.84it/s]\n"
     ]
    },
    {
     "name": "stdout",
     "output_type": "stream",
     "text": [
      "Epoch 34/250: Train Loss: 0.4627, Train Accuracy: 76.6186, Train IOU: 0.5789, Test Loss: 0.4283, Test Accuracy: 79.5087, Test IOU: 0.6213\n"
     ]
    },
    {
     "name": "stderr",
     "output_type": "stream",
     "text": [
      "100%|██████████| 246/246 [01:08<00:00,  3.60it/s]\n"
     ]
    },
    {
     "name": "stdout",
     "output_type": "stream",
     "text": [
      "Epoch 35/250: Train Loss: 0.4667, Train Accuracy: 76.3249, Train IOU: 0.5755, Test Loss: 0.4297, Test Accuracy: 79.5106, Test IOU: 0.6225\n"
     ]
    },
    {
     "name": "stderr",
     "output_type": "stream",
     "text": [
      "100%|██████████| 246/246 [01:11<00:00,  3.43it/s]\n"
     ]
    },
    {
     "name": "stdout",
     "output_type": "stream",
     "text": [
      "Epoch 36/250: Train Loss: 0.4664, Train Accuracy: 76.5159, Train IOU: 0.5793, Test Loss: 0.4260, Test Accuracy: 79.6074, Test IOU: 0.6230\n"
     ]
    },
    {
     "name": "stderr",
     "output_type": "stream",
     "text": [
      "100%|██████████| 246/246 [01:06<00:00,  3.71it/s]\n"
     ]
    },
    {
     "name": "stdout",
     "output_type": "stream",
     "text": [
      "Epoch 37/250: Train Loss: 0.4606, Train Accuracy: 76.8614, Train IOU: 0.5838, Test Loss: 0.4242, Test Accuracy: 79.7578, Test IOU: 0.6261\n"
     ]
    },
    {
     "name": "stderr",
     "output_type": "stream",
     "text": [
      "100%|██████████| 246/246 [01:29<00:00,  2.76it/s]\n"
     ]
    },
    {
     "name": "stdout",
     "output_type": "stream",
     "text": [
      "Epoch 38/250: Train Loss: 0.4593, Train Accuracy: 76.9342, Train IOU: 0.5858, Test Loss: 0.4222, Test Accuracy: 79.4724, Test IOU: 0.6152\n"
     ]
    },
    {
     "name": "stderr",
     "output_type": "stream",
     "text": [
      "100%|██████████| 246/246 [01:05<00:00,  3.77it/s]\n"
     ]
    },
    {
     "name": "stdout",
     "output_type": "stream",
     "text": [
      "Epoch 39/250: Train Loss: 0.4596, Train Accuracy: 76.8645, Train IOU: 0.5830, Test Loss: 0.4175, Test Accuracy: 79.6958, Test IOU: 0.6178\n"
     ]
    },
    {
     "name": "stderr",
     "output_type": "stream",
     "text": [
      "100%|██████████| 246/246 [01:13<00:00,  3.33it/s]\n"
     ]
    },
    {
     "name": "stdout",
     "output_type": "stream",
     "text": [
      "Epoch 40/250: Train Loss: 0.4646, Train Accuracy: 76.5325, Train IOU: 0.5790, Test Loss: 0.4169, Test Accuracy: 79.8663, Test IOU: 0.6212\n"
     ]
    },
    {
     "name": "stderr",
     "output_type": "stream",
     "text": [
      "100%|██████████| 246/246 [00:59<00:00,  4.16it/s]\n"
     ]
    },
    {
     "name": "stdout",
     "output_type": "stream",
     "text": [
      "Epoch 41/250: Train Loss: 0.4598, Train Accuracy: 77.0926, Train IOU: 0.5883, Test Loss: 0.4203, Test Accuracy: 79.5964, Test IOU: 0.6171\n"
     ]
    },
    {
     "name": "stderr",
     "output_type": "stream",
     "text": [
      "100%|██████████| 246/246 [01:00<00:00,  4.09it/s]\n"
     ]
    },
    {
     "name": "stdout",
     "output_type": "stream",
     "text": [
      "Epoch 42/250: Train Loss: 0.4483, Train Accuracy: 77.7873, Train IOU: 0.5989, Test Loss: 0.4205, Test Accuracy: 80.3447, Test IOU: 0.6389\n"
     ]
    },
    {
     "name": "stderr",
     "output_type": "stream",
     "text": [
      "100%|██████████| 246/246 [01:07<00:00,  3.64it/s]\n"
     ]
    },
    {
     "name": "stdout",
     "output_type": "stream",
     "text": [
      "Epoch 43/250: Train Loss: 0.4531, Train Accuracy: 77.3666, Train IOU: 0.5922, Test Loss: 0.4121, Test Accuracy: 79.9641, Test IOU: 0.6193\n"
     ]
    },
    {
     "name": "stderr",
     "output_type": "stream",
     "text": [
      "100%|██████████| 246/246 [01:17<00:00,  3.18it/s]\n"
     ]
    },
    {
     "name": "stdout",
     "output_type": "stream",
     "text": [
      "Epoch 44/250: Train Loss: 0.4539, Train Accuracy: 77.6310, Train IOU: 0.5971, Test Loss: 0.4123, Test Accuracy: 80.5479, Test IOU: 0.6389\n"
     ]
    },
    {
     "name": "stderr",
     "output_type": "stream",
     "text": [
      "100%|██████████| 246/246 [00:58<00:00,  4.18it/s]\n"
     ]
    },
    {
     "name": "stdout",
     "output_type": "stream",
     "text": [
      "Epoch 45/250: Train Loss: 0.4515, Train Accuracy: 77.5565, Train IOU: 0.5946, Test Loss: 0.4099, Test Accuracy: 80.2298, Test IOU: 0.6275\n"
     ]
    },
    {
     "name": "stderr",
     "output_type": "stream",
     "text": [
      "100%|██████████| 246/246 [01:14<00:00,  3.28it/s]\n"
     ]
    },
    {
     "name": "stdout",
     "output_type": "stream",
     "text": [
      "Epoch 46/250: Train Loss: 0.4480, Train Accuracy: 77.6825, Train IOU: 0.5968, Test Loss: 0.4068, Test Accuracy: 80.4063, Test IOU: 0.6273\n"
     ]
    },
    {
     "name": "stderr",
     "output_type": "stream",
     "text": [
      "100%|██████████| 246/246 [01:17<00:00,  3.18it/s]\n"
     ]
    },
    {
     "name": "stdout",
     "output_type": "stream",
     "text": [
      "Epoch 47/250: Train Loss: 0.4452, Train Accuracy: 77.8737, Train IOU: 0.6016, Test Loss: 0.4024, Test Accuracy: 80.7102, Test IOU: 0.6366\n"
     ]
    },
    {
     "name": "stderr",
     "output_type": "stream",
     "text": [
      "100%|██████████| 246/246 [01:09<00:00,  3.56it/s]\n"
     ]
    },
    {
     "name": "stdout",
     "output_type": "stream",
     "text": [
      "Epoch 48/250: Train Loss: 0.4468, Train Accuracy: 77.8252, Train IOU: 0.5991, Test Loss: 0.4029, Test Accuracy: 80.7829, Test IOU: 0.6357\n"
     ]
    },
    {
     "name": "stderr",
     "output_type": "stream",
     "text": [
      "100%|██████████| 246/246 [01:07<00:00,  3.63it/s]\n"
     ]
    },
    {
     "name": "stdout",
     "output_type": "stream",
     "text": [
      "Epoch 49/250: Train Loss: 0.4494, Train Accuracy: 77.7643, Train IOU: 0.5993, Test Loss: 0.4057, Test Accuracy: 81.0849, Test IOU: 0.6485\n"
     ]
    },
    {
     "name": "stderr",
     "output_type": "stream",
     "text": [
      "100%|██████████| 246/246 [01:13<00:00,  3.33it/s]\n"
     ]
    },
    {
     "name": "stdout",
     "output_type": "stream",
     "text": [
      "Epoch 50/250: Train Loss: 0.4444, Train Accuracy: 78.1201, Train IOU: 0.6057, Test Loss: 0.4002, Test Accuracy: 81.1480, Test IOU: 0.6453\n"
     ]
    },
    {
     "name": "stderr",
     "output_type": "stream",
     "text": [
      "100%|██████████| 246/246 [01:08<00:00,  3.58it/s]\n"
     ]
    },
    {
     "name": "stdout",
     "output_type": "stream",
     "text": [
      "Epoch 51/250: Train Loss: 0.4342, Train Accuracy: 78.5785, Train IOU: 0.6107, Test Loss: 0.3976, Test Accuracy: 80.9459, Test IOU: 0.6351\n"
     ]
    },
    {
     "name": "stderr",
     "output_type": "stream",
     "text": [
      "100%|██████████| 246/246 [00:58<00:00,  4.17it/s]\n"
     ]
    },
    {
     "name": "stdout",
     "output_type": "stream",
     "text": [
      "Epoch 52/250: Train Loss: 0.4431, Train Accuracy: 78.1924, Train IOU: 0.6059, Test Loss: 0.4007, Test Accuracy: 81.3704, Test IOU: 0.6515\n"
     ]
    },
    {
     "name": "stderr",
     "output_type": "stream",
     "text": [
      "100%|██████████| 246/246 [01:08<00:00,  3.58it/s]\n"
     ]
    },
    {
     "name": "stdout",
     "output_type": "stream",
     "text": [
      "Epoch 53/250: Train Loss: 0.4339, Train Accuracy: 78.7043, Train IOU: 0.6129, Test Loss: 0.3974, Test Accuracy: 81.1627, Test IOU: 0.6429\n"
     ]
    },
    {
     "name": "stderr",
     "output_type": "stream",
     "text": [
      "100%|██████████| 246/246 [01:03<00:00,  3.88it/s]\n"
     ]
    },
    {
     "name": "stdout",
     "output_type": "stream",
     "text": [
      "Epoch 54/250: Train Loss: 0.4411, Train Accuracy: 78.3536, Train IOU: 0.6096, Test Loss: 0.3973, Test Accuracy: 81.4436, Test IOU: 0.6528\n"
     ]
    },
    {
     "name": "stderr",
     "output_type": "stream",
     "text": [
      "100%|██████████| 246/246 [01:06<00:00,  3.70it/s]\n"
     ]
    },
    {
     "name": "stdout",
     "output_type": "stream",
     "text": [
      "Epoch 55/250: Train Loss: 0.4387, Train Accuracy: 78.5658, Train IOU: 0.6110, Test Loss: 0.3922, Test Accuracy: 81.6377, Test IOU: 0.6546\n"
     ]
    },
    {
     "name": "stderr",
     "output_type": "stream",
     "text": [
      "100%|██████████| 246/246 [01:08<00:00,  3.61it/s]\n"
     ]
    },
    {
     "name": "stdout",
     "output_type": "stream",
     "text": [
      "Epoch 56/250: Train Loss: 0.4341, Train Accuracy: 78.7661, Train IOU: 0.6157, Test Loss: 0.3906, Test Accuracy: 81.2505, Test IOU: 0.6397\n"
     ]
    },
    {
     "name": "stderr",
     "output_type": "stream",
     "text": [
      "100%|██████████| 246/246 [01:02<00:00,  3.96it/s]\n"
     ]
    },
    {
     "name": "stdout",
     "output_type": "stream",
     "text": [
      "Epoch 57/250: Train Loss: 0.4338, Train Accuracy: 78.8825, Train IOU: 0.6179, Test Loss: 0.3920, Test Accuracy: 81.7427, Test IOU: 0.6550\n"
     ]
    },
    {
     "name": "stderr",
     "output_type": "stream",
     "text": [
      "100%|██████████| 246/246 [01:17<00:00,  3.17it/s]\n"
     ]
    },
    {
     "name": "stdout",
     "output_type": "stream",
     "text": [
      "Epoch 58/250: Train Loss: 0.4378, Train Accuracy: 78.6494, Train IOU: 0.6139, Test Loss: 0.3875, Test Accuracy: 81.8375, Test IOU: 0.6555\n"
     ]
    },
    {
     "name": "stderr",
     "output_type": "stream",
     "text": [
      "100%|██████████| 246/246 [01:09<00:00,  3.55it/s]\n"
     ]
    },
    {
     "name": "stdout",
     "output_type": "stream",
     "text": [
      "Epoch 59/250: Train Loss: 0.4273, Train Accuracy: 79.1971, Train IOU: 0.6216, Test Loss: 0.3923, Test Accuracy: 81.8369, Test IOU: 0.6580\n"
     ]
    },
    {
     "name": "stderr",
     "output_type": "stream",
     "text": [
      "100%|██████████| 246/246 [00:58<00:00,  4.17it/s]\n"
     ]
    },
    {
     "name": "stdout",
     "output_type": "stream",
     "text": [
      "Epoch 60/250: Train Loss: 0.4311, Train Accuracy: 79.0861, Train IOU: 0.6199, Test Loss: 0.3863, Test Accuracy: 81.4623, Test IOU: 0.6425\n"
     ]
    },
    {
     "name": "stderr",
     "output_type": "stream",
     "text": [
      "100%|██████████| 246/246 [01:09<00:00,  3.55it/s]\n"
     ]
    },
    {
     "name": "stdout",
     "output_type": "stream",
     "text": [
      "Epoch 61/250: Train Loss: 0.4333, Train Accuracy: 78.8455, Train IOU: 0.6155, Test Loss: 0.3841, Test Accuracy: 82.2418, Test IOU: 0.6676\n"
     ]
    },
    {
     "name": "stderr",
     "output_type": "stream",
     "text": [
      "100%|██████████| 246/246 [01:06<00:00,  3.72it/s]\n"
     ]
    },
    {
     "name": "stdout",
     "output_type": "stream",
     "text": [
      "Epoch 62/250: Train Loss: 0.4326, Train Accuracy: 78.9728, Train IOU: 0.6186, Test Loss: 0.3839, Test Accuracy: 82.2918, Test IOU: 0.6687\n"
     ]
    },
    {
     "name": "stderr",
     "output_type": "stream",
     "text": [
      "100%|██████████| 246/246 [01:10<00:00,  3.50it/s]\n"
     ]
    },
    {
     "name": "stdout",
     "output_type": "stream",
     "text": [
      "Epoch 63/250: Train Loss: 0.4297, Train Accuracy: 79.0854, Train IOU: 0.6197, Test Loss: 0.3882, Test Accuracy: 82.4428, Test IOU: 0.6751\n"
     ]
    },
    {
     "name": "stderr",
     "output_type": "stream",
     "text": [
      "100%|██████████| 246/246 [01:17<00:00,  3.16it/s]\n"
     ]
    },
    {
     "name": "stdout",
     "output_type": "stream",
     "text": [
      "Epoch 64/250: Train Loss: 0.4217, Train Accuracy: 79.5172, Train IOU: 0.6263, Test Loss: 0.3804, Test Accuracy: 82.3712, Test IOU: 0.6671\n"
     ]
    },
    {
     "name": "stderr",
     "output_type": "stream",
     "text": [
      "100%|██████████| 246/246 [01:03<00:00,  3.90it/s]\n"
     ]
    },
    {
     "name": "stdout",
     "output_type": "stream",
     "text": [
      "Epoch 65/250: Train Loss: 0.4237, Train Accuracy: 79.5434, Train IOU: 0.6271, Test Loss: 0.3788, Test Accuracy: 81.9190, Test IOU: 0.6505\n"
     ]
    },
    {
     "name": "stderr",
     "output_type": "stream",
     "text": [
      "100%|██████████| 246/246 [01:07<00:00,  3.66it/s]\n"
     ]
    },
    {
     "name": "stdout",
     "output_type": "stream",
     "text": [
      "Epoch 66/250: Train Loss: 0.4200, Train Accuracy: 79.8117, Train IOU: 0.6321, Test Loss: 0.3801, Test Accuracy: 82.4320, Test IOU: 0.6674\n"
     ]
    },
    {
     "name": "stderr",
     "output_type": "stream",
     "text": [
      "100%|██████████| 246/246 [01:09<00:00,  3.52it/s]\n"
     ]
    },
    {
     "name": "stdout",
     "output_type": "stream",
     "text": [
      "Epoch 67/250: Train Loss: 0.4223, Train Accuracy: 79.5977, Train IOU: 0.6286, Test Loss: 0.3743, Test Accuracy: 82.3361, Test IOU: 0.6606\n"
     ]
    },
    {
     "name": "stderr",
     "output_type": "stream",
     "text": [
      "100%|██████████| 246/246 [01:08<00:00,  3.61it/s]\n"
     ]
    },
    {
     "name": "stdout",
     "output_type": "stream",
     "text": [
      "Epoch 68/250: Train Loss: 0.4167, Train Accuracy: 79.8723, Train IOU: 0.6329, Test Loss: 0.3769, Test Accuracy: 82.5843, Test IOU: 0.6675\n"
     ]
    },
    {
     "name": "stderr",
     "output_type": "stream",
     "text": [
      "100%|██████████| 246/246 [01:34<00:00,  2.61it/s]\n"
     ]
    },
    {
     "name": "stdout",
     "output_type": "stream",
     "text": [
      "Epoch 69/250: Train Loss: 0.4172, Train Accuracy: 79.9321, Train IOU: 0.6334, Test Loss: 0.3746, Test Accuracy: 82.7923, Test IOU: 0.6749\n"
     ]
    },
    {
     "name": "stderr",
     "output_type": "stream",
     "text": [
      "100%|██████████| 246/246 [01:09<00:00,  3.55it/s]\n"
     ]
    },
    {
     "name": "stdout",
     "output_type": "stream",
     "text": [
      "Epoch 70/250: Train Loss: 0.4253, Train Accuracy: 79.6500, Train IOU: 0.6295, Test Loss: 0.3728, Test Accuracy: 82.5547, Test IOU: 0.6659\n"
     ]
    },
    {
     "name": "stderr",
     "output_type": "stream",
     "text": [
      "100%|██████████| 246/246 [01:04<00:00,  3.81it/s]\n"
     ]
    },
    {
     "name": "stdout",
     "output_type": "stream",
     "text": [
      "Epoch 71/250: Train Loss: 0.4191, Train Accuracy: 79.7913, Train IOU: 0.6307, Test Loss: 0.3735, Test Accuracy: 82.6979, Test IOU: 0.6695\n"
     ]
    },
    {
     "name": "stderr",
     "output_type": "stream",
     "text": [
      "100%|██████████| 246/246 [01:36<00:00,  2.56it/s]\n"
     ]
    },
    {
     "name": "stdout",
     "output_type": "stream",
     "text": [
      "Epoch 72/250: Train Loss: 0.4119, Train Accuracy: 80.4100, Train IOU: 0.6413, Test Loss: 0.3673, Test Accuracy: 82.5579, Test IOU: 0.6619\n"
     ]
    },
    {
     "name": "stderr",
     "output_type": "stream",
     "text": [
      "100%|██████████| 246/246 [01:13<00:00,  3.34it/s]\n"
     ]
    },
    {
     "name": "stdout",
     "output_type": "stream",
     "text": [
      "Epoch 73/250: Train Loss: 0.4167, Train Accuracy: 80.1227, Train IOU: 0.6369, Test Loss: 0.3679, Test Accuracy: 83.0064, Test IOU: 0.6742\n"
     ]
    },
    {
     "name": "stderr",
     "output_type": "stream",
     "text": [
      "100%|██████████| 246/246 [01:20<00:00,  3.07it/s]\n"
     ]
    },
    {
     "name": "stdout",
     "output_type": "stream",
     "text": [
      "Epoch 74/250: Train Loss: 0.4125, Train Accuracy: 80.3804, Train IOU: 0.6411, Test Loss: 0.3629, Test Accuracy: 82.9082, Test IOU: 0.6690\n"
     ]
    },
    {
     "name": "stderr",
     "output_type": "stream",
     "text": [
      "100%|██████████| 246/246 [01:08<00:00,  3.62it/s]\n"
     ]
    },
    {
     "name": "stdout",
     "output_type": "stream",
     "text": [
      "Epoch 75/250: Train Loss: 0.4116, Train Accuracy: 80.2588, Train IOU: 0.6381, Test Loss: 0.3660, Test Accuracy: 83.2627, Test IOU: 0.6818\n"
     ]
    },
    {
     "name": "stderr",
     "output_type": "stream",
     "text": [
      "100%|██████████| 246/246 [01:09<00:00,  3.54it/s]\n"
     ]
    },
    {
     "name": "stdout",
     "output_type": "stream",
     "text": [
      "Epoch 76/250: Train Loss: 0.4086, Train Accuracy: 80.5689, Train IOU: 0.6450, Test Loss: 0.3636, Test Accuracy: 83.2197, Test IOU: 0.6790\n"
     ]
    },
    {
     "name": "stderr",
     "output_type": "stream",
     "text": [
      "100%|██████████| 246/246 [01:06<00:00,  3.71it/s]\n"
     ]
    },
    {
     "name": "stdout",
     "output_type": "stream",
     "text": [
      "Epoch 77/250: Train Loss: 0.4120, Train Accuracy: 80.3960, Train IOU: 0.6418, Test Loss: 0.3619, Test Accuracy: 82.7174, Test IOU: 0.6628\n"
     ]
    },
    {
     "name": "stderr",
     "output_type": "stream",
     "text": [
      "100%|██████████| 246/246 [01:58<00:00,  2.07it/s]\n"
     ]
    },
    {
     "name": "stdout",
     "output_type": "stream",
     "text": [
      "Epoch 78/250: Train Loss: 0.4097, Train Accuracy: 80.5056, Train IOU: 0.6431, Test Loss: 0.3639, Test Accuracy: 83.4387, Test IOU: 0.6851\n"
     ]
    },
    {
     "name": "stderr",
     "output_type": "stream",
     "text": [
      "100%|██████████| 246/246 [01:06<00:00,  3.68it/s]\n"
     ]
    },
    {
     "name": "stdout",
     "output_type": "stream",
     "text": [
      "Epoch 79/250: Train Loss: 0.4071, Train Accuracy: 80.5709, Train IOU: 0.6436, Test Loss: 0.3656, Test Accuracy: 83.2944, Test IOU: 0.6791\n"
     ]
    },
    {
     "name": "stderr",
     "output_type": "stream",
     "text": [
      "100%|██████████| 246/246 [01:09<00:00,  3.53it/s]\n"
     ]
    },
    {
     "name": "stdout",
     "output_type": "stream",
     "text": [
      "Epoch 80/250: Train Loss: 0.4074, Train Accuracy: 80.7041, Train IOU: 0.6459, Test Loss: 0.3585, Test Accuracy: 83.4456, Test IOU: 0.6830\n"
     ]
    },
    {
     "name": "stderr",
     "output_type": "stream",
     "text": [
      "100%|██████████| 246/246 [01:09<00:00,  3.56it/s]\n"
     ]
    },
    {
     "name": "stdout",
     "output_type": "stream",
     "text": [
      "Epoch 81/250: Train Loss: 0.4038, Train Accuracy: 80.7535, Train IOU: 0.6467, Test Loss: 0.3610, Test Accuracy: 83.6715, Test IOU: 0.6913\n"
     ]
    },
    {
     "name": "stderr",
     "output_type": "stream",
     "text": [
      "100%|██████████| 246/246 [00:58<00:00,  4.18it/s]\n"
     ]
    },
    {
     "name": "stdout",
     "output_type": "stream",
     "text": [
      "Epoch 82/250: Train Loss: 0.4046, Train Accuracy: 80.8171, Train IOU: 0.6475, Test Loss: 0.3567, Test Accuracy: 83.3806, Test IOU: 0.6774\n"
     ]
    },
    {
     "name": "stderr",
     "output_type": "stream",
     "text": [
      "100%|██████████| 246/246 [01:07<00:00,  3.63it/s]\n"
     ]
    },
    {
     "name": "stdout",
     "output_type": "stream",
     "text": [
      "Epoch 83/250: Train Loss: 0.4020, Train Accuracy: 80.9989, Train IOU: 0.6510, Test Loss: 0.3562, Test Accuracy: 83.6622, Test IOU: 0.6868\n"
     ]
    },
    {
     "name": "stderr",
     "output_type": "stream",
     "text": [
      "100%|██████████| 246/246 [01:09<00:00,  3.53it/s]\n"
     ]
    },
    {
     "name": "stdout",
     "output_type": "stream",
     "text": [
      "Epoch 84/250: Train Loss: 0.4011, Train Accuracy: 81.0876, Train IOU: 0.6521, Test Loss: 0.3545, Test Accuracy: 83.4631, Test IOU: 0.6783\n"
     ]
    },
    {
     "name": "stderr",
     "output_type": "stream",
     "text": [
      "100%|██████████| 246/246 [01:07<00:00,  3.66it/s]\n"
     ]
    },
    {
     "name": "stdout",
     "output_type": "stream",
     "text": [
      "Epoch 85/250: Train Loss: 0.4020, Train Accuracy: 81.0321, Train IOU: 0.6509, Test Loss: 0.3557, Test Accuracy: 83.7205, Test IOU: 0.6869\n"
     ]
    },
    {
     "name": "stderr",
     "output_type": "stream",
     "text": [
      "100%|██████████| 246/246 [01:18<00:00,  3.12it/s]\n"
     ]
    },
    {
     "name": "stdout",
     "output_type": "stream",
     "text": [
      "Epoch 86/250: Train Loss: 0.4015, Train Accuracy: 80.8714, Train IOU: 0.6477, Test Loss: 0.3527, Test Accuracy: 83.6275, Test IOU: 0.6822\n"
     ]
    },
    {
     "name": "stderr",
     "output_type": "stream",
     "text": [
      "100%|██████████| 246/246 [01:06<00:00,  3.71it/s]\n"
     ]
    },
    {
     "name": "stdout",
     "output_type": "stream",
     "text": [
      "Epoch 87/250: Train Loss: 0.3945, Train Accuracy: 81.5074, Train IOU: 0.6591, Test Loss: 0.3515, Test Accuracy: 83.4879, Test IOU: 0.6774\n"
     ]
    },
    {
     "name": "stderr",
     "output_type": "stream",
     "text": [
      "100%|██████████| 246/246 [01:23<00:00,  2.95it/s]\n"
     ]
    },
    {
     "name": "stdout",
     "output_type": "stream",
     "text": [
      "Epoch 88/250: Train Loss: 0.3953, Train Accuracy: 81.1776, Train IOU: 0.6519, Test Loss: 0.3491, Test Accuracy: 83.8630, Test IOU: 0.6871\n"
     ]
    },
    {
     "name": "stderr",
     "output_type": "stream",
     "text": [
      "100%|██████████| 246/246 [01:04<00:00,  3.83it/s]\n"
     ]
    },
    {
     "name": "stdout",
     "output_type": "stream",
     "text": [
      "Epoch 89/250: Train Loss: 0.3938, Train Accuracy: 81.5046, Train IOU: 0.6588, Test Loss: 0.3496, Test Accuracy: 83.9002, Test IOU: 0.6877\n"
     ]
    },
    {
     "name": "stderr",
     "output_type": "stream",
     "text": [
      "100%|██████████| 246/246 [01:27<00:00,  2.81it/s]\n"
     ]
    },
    {
     "name": "stdout",
     "output_type": "stream",
     "text": [
      "Epoch 90/250: Train Loss: 0.4013, Train Accuracy: 81.1742, Train IOU: 0.6556, Test Loss: 0.3483, Test Accuracy: 83.9001, Test IOU: 0.6884\n"
     ]
    },
    {
     "name": "stderr",
     "output_type": "stream",
     "text": [
      "100%|██████████| 246/246 [01:07<00:00,  3.63it/s]\n"
     ]
    },
    {
     "name": "stdout",
     "output_type": "stream",
     "text": [
      "Epoch 91/250: Train Loss: 0.3941, Train Accuracy: 81.4662, Train IOU: 0.6579, Test Loss: 0.3495, Test Accuracy: 83.9382, Test IOU: 0.6892\n"
     ]
    },
    {
     "name": "stderr",
     "output_type": "stream",
     "text": [
      "100%|██████████| 246/246 [01:04<00:00,  3.82it/s]\n"
     ]
    },
    {
     "name": "stdout",
     "output_type": "stream",
     "text": [
      "Epoch 92/250: Train Loss: 0.3920, Train Accuracy: 81.5965, Train IOU: 0.6612, Test Loss: 0.3483, Test Accuracy: 84.1896, Test IOU: 0.6966\n"
     ]
    },
    {
     "name": "stderr",
     "output_type": "stream",
     "text": [
      "100%|██████████| 246/246 [01:07<00:00,  3.62it/s]\n"
     ]
    },
    {
     "name": "stdout",
     "output_type": "stream",
     "text": [
      "Epoch 93/250: Train Loss: 0.3942, Train Accuracy: 81.5346, Train IOU: 0.6601, Test Loss: 0.3471, Test Accuracy: 84.0650, Test IOU: 0.6922\n"
     ]
    },
    {
     "name": "stderr",
     "output_type": "stream",
     "text": [
      "100%|██████████| 246/246 [01:03<00:00,  3.86it/s]\n"
     ]
    },
    {
     "name": "stdout",
     "output_type": "stream",
     "text": [
      "Epoch 94/250: Train Loss: 0.3919, Train Accuracy: 81.3992, Train IOU: 0.6565, Test Loss: 0.3447, Test Accuracy: 84.0043, Test IOU: 0.6879\n"
     ]
    },
    {
     "name": "stderr",
     "output_type": "stream",
     "text": [
      "100%|██████████| 246/246 [01:08<00:00,  3.60it/s]\n"
     ]
    },
    {
     "name": "stdout",
     "output_type": "stream",
     "text": [
      "Epoch 95/250: Train Loss: 0.3927, Train Accuracy: 81.7198, Train IOU: 0.6632, Test Loss: 0.3445, Test Accuracy: 84.1938, Test IOU: 0.6935\n"
     ]
    },
    {
     "name": "stderr",
     "output_type": "stream",
     "text": [
      "100%|██████████| 246/246 [01:10<00:00,  3.51it/s]\n"
     ]
    },
    {
     "name": "stdout",
     "output_type": "stream",
     "text": [
      "Epoch 96/250: Train Loss: 0.3876, Train Accuracy: 81.7671, Train IOU: 0.6626, Test Loss: 0.3426, Test Accuracy: 84.1554, Test IOU: 0.6913\n"
     ]
    },
    {
     "name": "stderr",
     "output_type": "stream",
     "text": [
      "100%|██████████| 246/246 [01:45<00:00,  2.33it/s]\n"
     ]
    },
    {
     "name": "stdout",
     "output_type": "stream",
     "text": [
      "Epoch 97/250: Train Loss: 0.3836, Train Accuracy: 82.0501, Train IOU: 0.6687, Test Loss: 0.3413, Test Accuracy: 84.5618, Test IOU: 0.7032\n"
     ]
    },
    {
     "name": "stderr",
     "output_type": "stream",
     "text": [
      "100%|██████████| 246/246 [01:08<00:00,  3.60it/s]\n"
     ]
    },
    {
     "name": "stdout",
     "output_type": "stream",
     "text": [
      "Epoch 98/250: Train Loss: 0.3890, Train Accuracy: 81.9159, Train IOU: 0.6661, Test Loss: 0.3407, Test Accuracy: 84.4569, Test IOU: 0.6979\n"
     ]
    },
    {
     "name": "stderr",
     "output_type": "stream",
     "text": [
      "100%|██████████| 246/246 [01:06<00:00,  3.68it/s]\n"
     ]
    },
    {
     "name": "stdout",
     "output_type": "stream",
     "text": [
      "Epoch 99/250: Train Loss: 0.3907, Train Accuracy: 81.6904, Train IOU: 0.6622, Test Loss: 0.3472, Test Accuracy: 84.5254, Test IOU: 0.7027\n"
     ]
    },
    {
     "name": "stderr",
     "output_type": "stream",
     "text": [
      "100%|██████████| 246/246 [01:05<00:00,  3.78it/s]\n"
     ]
    },
    {
     "name": "stdout",
     "output_type": "stream",
     "text": [
      "Epoch 100/250: Train Loss: 0.3845, Train Accuracy: 81.9408, Train IOU: 0.6654, Test Loss: 0.3406, Test Accuracy: 84.3014, Test IOU: 0.6924\n"
     ]
    },
    {
     "name": "stderr",
     "output_type": "stream",
     "text": [
      "100%|██████████| 246/246 [01:04<00:00,  3.82it/s]\n"
     ]
    },
    {
     "name": "stdout",
     "output_type": "stream",
     "text": [
      "Epoch 101/250: Train Loss: 0.3810, Train Accuracy: 82.3311, Train IOU: 0.6721, Test Loss: 0.3396, Test Accuracy: 84.6919, Test IOU: 0.7052\n"
     ]
    },
    {
     "name": "stderr",
     "output_type": "stream",
     "text": [
      "100%|██████████| 246/246 [01:02<00:00,  3.91it/s]\n"
     ]
    },
    {
     "name": "stdout",
     "output_type": "stream",
     "text": [
      "Epoch 102/250: Train Loss: 0.3853, Train Accuracy: 81.9834, Train IOU: 0.6675, Test Loss: 0.3379, Test Accuracy: 84.7347, Test IOU: 0.7044\n"
     ]
    },
    {
     "name": "stderr",
     "output_type": "stream",
     "text": [
      "100%|██████████| 246/246 [01:05<00:00,  3.75it/s]\n"
     ]
    },
    {
     "name": "stdout",
     "output_type": "stream",
     "text": [
      "Epoch 103/250: Train Loss: 0.3836, Train Accuracy: 82.0972, Train IOU: 0.6691, Test Loss: 0.3388, Test Accuracy: 84.9478, Test IOU: 0.7099\n"
     ]
    },
    {
     "name": "stderr",
     "output_type": "stream",
     "text": [
      "100%|██████████| 246/246 [01:09<00:00,  3.53it/s]\n"
     ]
    },
    {
     "name": "stdout",
     "output_type": "stream",
     "text": [
      "Epoch 104/250: Train Loss: 0.3822, Train Accuracy: 82.1170, Train IOU: 0.6693, Test Loss: 0.3358, Test Accuracy: 84.2719, Test IOU: 0.6888\n"
     ]
    },
    {
     "name": "stderr",
     "output_type": "stream",
     "text": [
      "100%|██████████| 246/246 [01:16<00:00,  3.20it/s]\n"
     ]
    },
    {
     "name": "stdout",
     "output_type": "stream",
     "text": [
      "Epoch 105/250: Train Loss: 0.3845, Train Accuracy: 81.9022, Train IOU: 0.6643, Test Loss: 0.3377, Test Accuracy: 84.0006, Test IOU: 0.6821\n"
     ]
    },
    {
     "name": "stderr",
     "output_type": "stream",
     "text": [
      "100%|██████████| 246/246 [01:05<00:00,  3.74it/s]\n"
     ]
    },
    {
     "name": "stdout",
     "output_type": "stream",
     "text": [
      "Epoch 106/250: Train Loss: 0.3829, Train Accuracy: 82.0787, Train IOU: 0.6678, Test Loss: 0.3348, Test Accuracy: 84.6209, Test IOU: 0.6983\n"
     ]
    },
    {
     "name": "stderr",
     "output_type": "stream",
     "text": [
      "100%|██████████| 246/246 [01:09<00:00,  3.52it/s]\n"
     ]
    },
    {
     "name": "stdout",
     "output_type": "stream",
     "text": [
      "Epoch 107/250: Train Loss: 0.3743, Train Accuracy: 82.4379, Train IOU: 0.6741, Test Loss: 0.3357, Test Accuracy: 84.8263, Test IOU: 0.7044\n"
     ]
    },
    {
     "name": "stderr",
     "output_type": "stream",
     "text": [
      "100%|██████████| 246/246 [01:07<00:00,  3.63it/s]\n"
     ]
    },
    {
     "name": "stdout",
     "output_type": "stream",
     "text": [
      "Epoch 108/250: Train Loss: 0.3804, Train Accuracy: 82.1912, Train IOU: 0.6700, Test Loss: 0.3340, Test Accuracy: 85.0181, Test IOU: 0.7106\n"
     ]
    },
    {
     "name": "stderr",
     "output_type": "stream",
     "text": [
      "100%|██████████| 246/246 [01:09<00:00,  3.54it/s]\n"
     ]
    },
    {
     "name": "stdout",
     "output_type": "stream",
     "text": [
      "Epoch 109/250: Train Loss: 0.3737, Train Accuracy: 82.6191, Train IOU: 0.6777, Test Loss: 0.3342, Test Accuracy: 84.9622, Test IOU: 0.7088\n"
     ]
    },
    {
     "name": "stderr",
     "output_type": "stream",
     "text": [
      "100%|██████████| 246/246 [01:12<00:00,  3.40it/s]\n"
     ]
    },
    {
     "name": "stdout",
     "output_type": "stream",
     "text": [
      "Epoch 110/250: Train Loss: 0.3818, Train Accuracy: 82.1592, Train IOU: 0.6697, Test Loss: 0.3323, Test Accuracy: 85.0980, Test IOU: 0.7111\n"
     ]
    },
    {
     "name": "stderr",
     "output_type": "stream",
     "text": [
      "100%|██████████| 246/246 [01:10<00:00,  3.49it/s]\n"
     ]
    },
    {
     "name": "stdout",
     "output_type": "stream",
     "text": [
      "Epoch 111/250: Train Loss: 0.3738, Train Accuracy: 82.6253, Train IOU: 0.6774, Test Loss: 0.3334, Test Accuracy: 85.1807, Test IOU: 0.7148\n"
     ]
    },
    {
     "name": "stderr",
     "output_type": "stream",
     "text": [
      "100%|██████████| 246/246 [01:01<00:00,  3.99it/s]\n"
     ]
    },
    {
     "name": "stdout",
     "output_type": "stream",
     "text": [
      "Epoch 112/250: Train Loss: 0.3749, Train Accuracy: 82.5387, Train IOU: 0.6754, Test Loss: 0.3321, Test Accuracy: 85.1846, Test IOU: 0.7141\n"
     ]
    },
    {
     "name": "stderr",
     "output_type": "stream",
     "text": [
      "100%|██████████| 246/246 [01:10<00:00,  3.51it/s]\n"
     ]
    },
    {
     "name": "stdout",
     "output_type": "stream",
     "text": [
      "Epoch 113/250: Train Loss: 0.3806, Train Accuracy: 82.4475, Train IOU: 0.6748, Test Loss: 0.3336, Test Accuracy: 85.1825, Test IOU: 0.7148\n"
     ]
    },
    {
     "name": "stderr",
     "output_type": "stream",
     "text": [
      "100%|██████████| 246/246 [01:08<00:00,  3.60it/s]\n"
     ]
    },
    {
     "name": "stdout",
     "output_type": "stream",
     "text": [
      "Epoch 114/250: Train Loss: 0.3820, Train Accuracy: 82.3137, Train IOU: 0.6719, Test Loss: 0.3317, Test Accuracy: 84.3608, Test IOU: 0.6879\n"
     ]
    },
    {
     "name": "stderr",
     "output_type": "stream",
     "text": [
      "100%|██████████| 246/246 [01:13<00:00,  3.37it/s]\n"
     ]
    },
    {
     "name": "stdout",
     "output_type": "stream",
     "text": [
      "Epoch 115/250: Train Loss: 0.3727, Train Accuracy: 82.8242, Train IOU: 0.6810, Test Loss: 0.3267, Test Accuracy: 85.0280, Test IOU: 0.7057\n"
     ]
    },
    {
     "name": "stderr",
     "output_type": "stream",
     "text": [
      "100%|██████████| 246/246 [01:08<00:00,  3.60it/s]\n"
     ]
    },
    {
     "name": "stdout",
     "output_type": "stream",
     "text": [
      "Epoch 116/250: Train Loss: 0.3685, Train Accuracy: 82.8489, Train IOU: 0.6811, Test Loss: 0.3288, Test Accuracy: 85.4294, Test IOU: 0.7184\n"
     ]
    },
    {
     "name": "stderr",
     "output_type": "stream",
     "text": [
      "100%|██████████| 246/246 [01:10<00:00,  3.49it/s]\n"
     ]
    },
    {
     "name": "stdout",
     "output_type": "stream",
     "text": [
      "Epoch 117/250: Train Loss: 0.3740, Train Accuracy: 82.7166, Train IOU: 0.6786, Test Loss: 0.3270, Test Accuracy: 85.3401, Test IOU: 0.7156\n"
     ]
    },
    {
     "name": "stderr",
     "output_type": "stream",
     "text": [
      "100%|██████████| 246/246 [00:59<00:00,  4.12it/s]\n"
     ]
    },
    {
     "name": "stdout",
     "output_type": "stream",
     "text": [
      "Epoch 118/250: Train Loss: 0.3752, Train Accuracy: 82.6015, Train IOU: 0.6763, Test Loss: 0.3239, Test Accuracy: 85.4680, Test IOU: 0.7167\n"
     ]
    },
    {
     "name": "stderr",
     "output_type": "stream",
     "text": [
      "100%|██████████| 246/246 [01:09<00:00,  3.54it/s]\n"
     ]
    },
    {
     "name": "stdout",
     "output_type": "stream",
     "text": [
      "Epoch 119/250: Train Loss: 0.3697, Train Accuracy: 82.8477, Train IOU: 0.6817, Test Loss: 0.3237, Test Accuracy: 84.9203, Test IOU: 0.7005\n"
     ]
    },
    {
     "name": "stderr",
     "output_type": "stream",
     "text": [
      "100%|██████████| 246/246 [01:08<00:00,  3.57it/s]\n"
     ]
    },
    {
     "name": "stdout",
     "output_type": "stream",
     "text": [
      "Epoch 120/250: Train Loss: 0.3694, Train Accuracy: 82.9964, Train IOU: 0.6826, Test Loss: 0.3267, Test Accuracy: 85.6599, Test IOU: 0.7243\n"
     ]
    },
    {
     "name": "stderr",
     "output_type": "stream",
     "text": [
      "100%|██████████| 246/246 [01:15<00:00,  3.26it/s]\n"
     ]
    },
    {
     "name": "stdout",
     "output_type": "stream",
     "text": [
      "Epoch 121/250: Train Loss: 0.3649, Train Accuracy: 83.1745, Train IOU: 0.6861, Test Loss: 0.3269, Test Accuracy: 85.5718, Test IOU: 0.7210\n"
     ]
    },
    {
     "name": "stderr",
     "output_type": "stream",
     "text": [
      "100%|██████████| 246/246 [01:00<00:00,  4.06it/s]\n"
     ]
    },
    {
     "name": "stdout",
     "output_type": "stream",
     "text": [
      "Epoch 122/250: Train Loss: 0.3614, Train Accuracy: 83.4539, Train IOU: 0.6911, Test Loss: 0.3249, Test Accuracy: 85.4310, Test IOU: 0.7142\n"
     ]
    },
    {
     "name": "stderr",
     "output_type": "stream",
     "text": [
      "100%|██████████| 246/246 [01:03<00:00,  3.85it/s]\n"
     ]
    },
    {
     "name": "stdout",
     "output_type": "stream",
     "text": [
      "Epoch 123/250: Train Loss: 0.3704, Train Accuracy: 82.8388, Train IOU: 0.6815, Test Loss: 0.3221, Test Accuracy: 85.3256, Test IOU: 0.7116\n"
     ]
    },
    {
     "name": "stderr",
     "output_type": "stream",
     "text": [
      "100%|██████████| 246/246 [01:37<00:00,  2.52it/s]\n"
     ]
    },
    {
     "name": "stdout",
     "output_type": "stream",
     "text": [
      "Epoch 124/250: Train Loss: 0.3662, Train Accuracy: 82.9752, Train IOU: 0.6822, Test Loss: 0.3239, Test Accuracy: 85.5389, Test IOU: 0.7184\n"
     ]
    },
    {
     "name": "stderr",
     "output_type": "stream",
     "text": [
      "100%|██████████| 246/246 [01:28<00:00,  2.78it/s]\n"
     ]
    },
    {
     "name": "stdout",
     "output_type": "stream",
     "text": [
      "Epoch 125/250: Train Loss: 0.3677, Train Accuracy: 83.1657, Train IOU: 0.6861, Test Loss: 0.3213, Test Accuracy: 85.3632, Test IOU: 0.7122\n"
     ]
    },
    {
     "name": "stderr",
     "output_type": "stream",
     "text": [
      "100%|██████████| 246/246 [01:09<00:00,  3.56it/s]\n"
     ]
    },
    {
     "name": "stdout",
     "output_type": "stream",
     "text": [
      "Epoch 126/250: Train Loss: 0.3683, Train Accuracy: 82.9476, Train IOU: 0.6828, Test Loss: 0.3221, Test Accuracy: 85.7149, Test IOU: 0.7216\n"
     ]
    },
    {
     "name": "stderr",
     "output_type": "stream",
     "text": [
      "100%|██████████| 246/246 [01:03<00:00,  3.90it/s]\n"
     ]
    },
    {
     "name": "stdout",
     "output_type": "stream",
     "text": [
      "Epoch 127/250: Train Loss: 0.3701, Train Accuracy: 83.0894, Train IOU: 0.6851, Test Loss: 0.3180, Test Accuracy: 85.2981, Test IOU: 0.7089\n"
     ]
    },
    {
     "name": "stderr",
     "output_type": "stream",
     "text": [
      "100%|██████████| 246/246 [01:05<00:00,  3.78it/s]\n"
     ]
    },
    {
     "name": "stdout",
     "output_type": "stream",
     "text": [
      "Epoch 128/250: Train Loss: 0.3648, Train Accuracy: 83.2005, Train IOU: 0.6861, Test Loss: 0.3171, Test Accuracy: 85.6353, Test IOU: 0.7180\n"
     ]
    },
    {
     "name": "stderr",
     "output_type": "stream",
     "text": [
      "100%|██████████| 246/246 [01:08<00:00,  3.62it/s]\n"
     ]
    },
    {
     "name": "stdout",
     "output_type": "stream",
     "text": [
      "Epoch 129/250: Train Loss: 0.3625, Train Accuracy: 83.2271, Train IOU: 0.6866, Test Loss: 0.3178, Test Accuracy: 85.5429, Test IOU: 0.7143\n"
     ]
    },
    {
     "name": "stderr",
     "output_type": "stream",
     "text": [
      "100%|██████████| 246/246 [01:18<00:00,  3.13it/s]\n"
     ]
    },
    {
     "name": "stdout",
     "output_type": "stream",
     "text": [
      "Epoch 130/250: Train Loss: 0.3700, Train Accuracy: 83.0372, Train IOU: 0.6849, Test Loss: 0.3178, Test Accuracy: 85.7131, Test IOU: 0.7196\n"
     ]
    },
    {
     "name": "stderr",
     "output_type": "stream",
     "text": [
      "100%|██████████| 246/246 [01:10<00:00,  3.49it/s]\n"
     ]
    },
    {
     "name": "stdout",
     "output_type": "stream",
     "text": [
      "Epoch 131/250: Train Loss: 0.3612, Train Accuracy: 83.2210, Train IOU: 0.6866, Test Loss: 0.3160, Test Accuracy: 85.8228, Test IOU: 0.7229\n"
     ]
    },
    {
     "name": "stderr",
     "output_type": "stream",
     "text": [
      "100%|██████████| 246/246 [01:06<00:00,  3.68it/s]\n"
     ]
    },
    {
     "name": "stdout",
     "output_type": "stream",
     "text": [
      "Epoch 132/250: Train Loss: 0.3624, Train Accuracy: 83.3468, Train IOU: 0.6890, Test Loss: 0.3171, Test Accuracy: 85.9633, Test IOU: 0.7267\n"
     ]
    },
    {
     "name": "stderr",
     "output_type": "stream",
     "text": [
      "100%|██████████| 246/246 [01:01<00:00,  4.03it/s]\n"
     ]
    },
    {
     "name": "stdout",
     "output_type": "stream",
     "text": [
      "Epoch 133/250: Train Loss: 0.3593, Train Accuracy: 83.4932, Train IOU: 0.6920, Test Loss: 0.3201, Test Accuracy: 86.0661, Test IOU: 0.7305\n"
     ]
    },
    {
     "name": "stderr",
     "output_type": "stream",
     "text": [
      "100%|██████████| 246/246 [01:09<00:00,  3.52it/s]\n"
     ]
    },
    {
     "name": "stdout",
     "output_type": "stream",
     "text": [
      "Epoch 134/250: Train Loss: 0.3622, Train Accuracy: 83.3209, Train IOU: 0.6886, Test Loss: 0.3149, Test Accuracy: 85.8096, Test IOU: 0.7214\n"
     ]
    },
    {
     "name": "stderr",
     "output_type": "stream",
     "text": [
      "100%|██████████| 246/246 [01:07<00:00,  3.67it/s]\n"
     ]
    },
    {
     "name": "stdout",
     "output_type": "stream",
     "text": [
      "Epoch 135/250: Train Loss: 0.3604, Train Accuracy: 83.5287, Train IOU: 0.6924, Test Loss: 0.3173, Test Accuracy: 85.8255, Test IOU: 0.7216\n"
     ]
    },
    {
     "name": "stderr",
     "output_type": "stream",
     "text": [
      "100%|██████████| 246/246 [01:07<00:00,  3.62it/s]\n"
     ]
    },
    {
     "name": "stdout",
     "output_type": "stream",
     "text": [
      "Epoch 136/250: Train Loss: 0.3591, Train Accuracy: 83.4552, Train IOU: 0.6906, Test Loss: 0.3147, Test Accuracy: 85.6099, Test IOU: 0.7145\n"
     ]
    },
    {
     "name": "stderr",
     "output_type": "stream",
     "text": [
      "100%|██████████| 246/246 [01:04<00:00,  3.79it/s]\n"
     ]
    },
    {
     "name": "stdout",
     "output_type": "stream",
     "text": [
      "Epoch 137/250: Train Loss: 0.3634, Train Accuracy: 83.5887, Train IOU: 0.6934, Test Loss: 0.3127, Test Accuracy: 85.6933, Test IOU: 0.7172\n"
     ]
    },
    {
     "name": "stderr",
     "output_type": "stream",
     "text": [
      "100%|██████████| 246/246 [01:10<00:00,  3.47it/s]\n"
     ]
    },
    {
     "name": "stdout",
     "output_type": "stream",
     "text": [
      "Epoch 138/250: Train Loss: 0.3561, Train Accuracy: 83.7176, Train IOU: 0.6954, Test Loss: 0.3150, Test Accuracy: 85.7635, Test IOU: 0.7191\n"
     ]
    },
    {
     "name": "stderr",
     "output_type": "stream",
     "text": [
      "100%|██████████| 246/246 [01:22<00:00,  2.96it/s]\n"
     ]
    },
    {
     "name": "stdout",
     "output_type": "stream",
     "text": [
      "Epoch 139/250: Train Loss: 0.3569, Train Accuracy: 83.6126, Train IOU: 0.6934, Test Loss: 0.3124, Test Accuracy: 86.2320, Test IOU: 0.7316\n"
     ]
    },
    {
     "name": "stderr",
     "output_type": "stream",
     "text": [
      "100%|██████████| 246/246 [01:27<00:00,  2.80it/s]\n"
     ]
    },
    {
     "name": "stdout",
     "output_type": "stream",
     "text": [
      "Epoch 140/250: Train Loss: 0.3606, Train Accuracy: 83.5350, Train IOU: 0.6922, Test Loss: 0.3104, Test Accuracy: 85.7870, Test IOU: 0.7180\n"
     ]
    },
    {
     "name": "stderr",
     "output_type": "stream",
     "text": [
      "100%|██████████| 246/246 [01:07<00:00,  3.65it/s]\n"
     ]
    },
    {
     "name": "stdout",
     "output_type": "stream",
     "text": [
      "Epoch 141/250: Train Loss: 0.3533, Train Accuracy: 83.7625, Train IOU: 0.6962, Test Loss: 0.3109, Test Accuracy: 86.0909, Test IOU: 0.7274\n"
     ]
    },
    {
     "name": "stderr",
     "output_type": "stream",
     "text": [
      "100%|██████████| 246/246 [01:07<00:00,  3.64it/s]\n"
     ]
    },
    {
     "name": "stdout",
     "output_type": "stream",
     "text": [
      "Epoch 142/250: Train Loss: 0.3507, Train Accuracy: 83.9229, Train IOU: 0.6986, Test Loss: 0.3123, Test Accuracy: 85.5428, Test IOU: 0.7109\n"
     ]
    },
    {
     "name": "stderr",
     "output_type": "stream",
     "text": [
      "100%|██████████| 246/246 [01:10<00:00,  3.49it/s]\n"
     ]
    },
    {
     "name": "stdout",
     "output_type": "stream",
     "text": [
      "Epoch 143/250: Train Loss: 0.3582, Train Accuracy: 83.6923, Train IOU: 0.6960, Test Loss: 0.3106, Test Accuracy: 86.0020, Test IOU: 0.7238\n"
     ]
    },
    {
     "name": "stderr",
     "output_type": "stream",
     "text": [
      "100%|██████████| 246/246 [01:06<00:00,  3.71it/s]\n"
     ]
    },
    {
     "name": "stdout",
     "output_type": "stream",
     "text": [
      "Epoch 144/250: Train Loss: 0.3602, Train Accuracy: 83.5248, Train IOU: 0.6926, Test Loss: 0.3128, Test Accuracy: 86.3829, Test IOU: 0.7370\n"
     ]
    },
    {
     "name": "stderr",
     "output_type": "stream",
     "text": [
      "100%|██████████| 246/246 [01:15<00:00,  3.27it/s]\n"
     ]
    },
    {
     "name": "stdout",
     "output_type": "stream",
     "text": [
      "Epoch 145/250: Train Loss: 0.3517, Train Accuracy: 83.9172, Train IOU: 0.6981, Test Loss: 0.3111, Test Accuracy: 86.0713, Test IOU: 0.7263\n"
     ]
    },
    {
     "name": "stderr",
     "output_type": "stream",
     "text": [
      "100%|██████████| 246/246 [00:53<00:00,  4.62it/s]\n"
     ]
    },
    {
     "name": "stdout",
     "output_type": "stream",
     "text": [
      "Epoch 146/250: Train Loss: 0.3538, Train Accuracy: 83.7682, Train IOU: 0.6963, Test Loss: 0.3064, Test Accuracy: 86.1743, Test IOU: 0.7277\n"
     ]
    },
    {
     "name": "stderr",
     "output_type": "stream",
     "text": [
      "100%|██████████| 246/246 [00:54<00:00,  4.55it/s]\n"
     ]
    },
    {
     "name": "stdout",
     "output_type": "stream",
     "text": [
      "Epoch 147/250: Train Loss: 0.3584, Train Accuracy: 83.6049, Train IOU: 0.6938, Test Loss: 0.3096, Test Accuracy: 86.3293, Test IOU: 0.7329\n"
     ]
    },
    {
     "name": "stderr",
     "output_type": "stream",
     "text": [
      "100%|██████████| 246/246 [00:54<00:00,  4.54it/s]\n"
     ]
    },
    {
     "name": "stdout",
     "output_type": "stream",
     "text": [
      "Epoch 148/250: Train Loss: 0.3532, Train Accuracy: 83.8251, Train IOU: 0.6965, Test Loss: 0.3085, Test Accuracy: 86.4804, Test IOU: 0.7361\n"
     ]
    },
    {
     "name": "stderr",
     "output_type": "stream",
     "text": [
      "100%|██████████| 246/246 [00:53<00:00,  4.57it/s]\n"
     ]
    },
    {
     "name": "stdout",
     "output_type": "stream",
     "text": [
      "Epoch 149/250: Train Loss: 0.3574, Train Accuracy: 83.5829, Train IOU: 0.6933, Test Loss: 0.3091, Test Accuracy: 86.3109, Test IOU: 0.7301\n"
     ]
    },
    {
     "name": "stderr",
     "output_type": "stream",
     "text": [
      "100%|██████████| 246/246 [00:53<00:00,  4.57it/s]\n"
     ]
    },
    {
     "name": "stdout",
     "output_type": "stream",
     "text": [
      "Epoch 150/250: Train Loss: 0.3525, Train Accuracy: 83.8601, Train IOU: 0.6967, Test Loss: 0.3069, Test Accuracy: 85.9187, Test IOU: 0.7190\n"
     ]
    },
    {
     "name": "stderr",
     "output_type": "stream",
     "text": [
      "100%|██████████| 246/246 [00:54<00:00,  4.54it/s]\n"
     ]
    },
    {
     "name": "stdout",
     "output_type": "stream",
     "text": [
      "Epoch 151/250: Train Loss: 0.3554, Train Accuracy: 83.8083, Train IOU: 0.6971, Test Loss: 0.3037, Test Accuracy: 86.2037, Test IOU: 0.7270\n"
     ]
    },
    {
     "name": "stderr",
     "output_type": "stream",
     "text": [
      "100%|██████████| 246/246 [00:54<00:00,  4.53it/s]\n"
     ]
    },
    {
     "name": "stdout",
     "output_type": "stream",
     "text": [
      "Epoch 152/250: Train Loss: 0.3581, Train Accuracy: 83.5626, Train IOU: 0.6927, Test Loss: 0.3054, Test Accuracy: 85.7164, Test IOU: 0.7135\n"
     ]
    },
    {
     "name": "stderr",
     "output_type": "stream",
     "text": [
      "100%|██████████| 246/246 [00:54<00:00,  4.54it/s]\n"
     ]
    },
    {
     "name": "stdout",
     "output_type": "stream",
     "text": [
      "Epoch 153/250: Train Loss: 0.3527, Train Accuracy: 83.8790, Train IOU: 0.6984, Test Loss: 0.3060, Test Accuracy: 86.5344, Test IOU: 0.7368\n"
     ]
    },
    {
     "name": "stderr",
     "output_type": "stream",
     "text": [
      "100%|██████████| 246/246 [00:53<00:00,  4.56it/s]\n"
     ]
    },
    {
     "name": "stdout",
     "output_type": "stream",
     "text": [
      "Epoch 154/250: Train Loss: 0.3471, Train Accuracy: 84.1169, Train IOU: 0.7021, Test Loss: 0.3031, Test Accuracy: 86.2044, Test IOU: 0.7261\n"
     ]
    },
    {
     "name": "stderr",
     "output_type": "stream",
     "text": [
      "100%|██████████| 246/246 [00:54<00:00,  4.53it/s]\n"
     ]
    },
    {
     "name": "stdout",
     "output_type": "stream",
     "text": [
      "Epoch 155/250: Train Loss: 0.3503, Train Accuracy: 84.0320, Train IOU: 0.6998, Test Loss: 0.3049, Test Accuracy: 85.8585, Test IOU: 0.7167\n"
     ]
    },
    {
     "name": "stderr",
     "output_type": "stream",
     "text": [
      "100%|██████████| 246/246 [00:53<00:00,  4.57it/s]\n"
     ]
    },
    {
     "name": "stdout",
     "output_type": "stream",
     "text": [
      "Epoch 156/250: Train Loss: 0.3506, Train Accuracy: 83.9506, Train IOU: 0.6986, Test Loss: 0.3034, Test Accuracy: 86.5229, Test IOU: 0.7354\n"
     ]
    },
    {
     "name": "stderr",
     "output_type": "stream",
     "text": [
      "100%|██████████| 246/246 [00:53<00:00,  4.56it/s]\n"
     ]
    },
    {
     "name": "stdout",
     "output_type": "stream",
     "text": [
      "Epoch 157/250: Train Loss: 0.3482, Train Accuracy: 84.2754, Train IOU: 0.7047, Test Loss: 0.3047, Test Accuracy: 86.6060, Test IOU: 0.7383\n"
     ]
    },
    {
     "name": "stderr",
     "output_type": "stream",
     "text": [
      "100%|██████████| 246/246 [00:54<00:00,  4.53it/s]\n"
     ]
    },
    {
     "name": "stdout",
     "output_type": "stream",
     "text": [
      "Epoch 158/250: Train Loss: 0.3555, Train Accuracy: 83.9338, Train IOU: 0.7000, Test Loss: 0.3029, Test Accuracy: 86.4156, Test IOU: 0.7306\n"
     ]
    },
    {
     "name": "stderr",
     "output_type": "stream",
     "text": [
      "100%|██████████| 246/246 [00:54<00:00,  4.49it/s]\n"
     ]
    },
    {
     "name": "stdout",
     "output_type": "stream",
     "text": [
      "Epoch 159/250: Train Loss: 0.3552, Train Accuracy: 83.7752, Train IOU: 0.6956, Test Loss: 0.3013, Test Accuracy: 86.6135, Test IOU: 0.7363\n"
     ]
    },
    {
     "name": "stderr",
     "output_type": "stream",
     "text": [
      "100%|██████████| 246/246 [00:54<00:00,  4.53it/s]\n"
     ]
    },
    {
     "name": "stdout",
     "output_type": "stream",
     "text": [
      "Epoch 160/250: Train Loss: 0.3529, Train Accuracy: 83.9636, Train IOU: 0.6991, Test Loss: 0.3020, Test Accuracy: 86.4921, Test IOU: 0.7323\n"
     ]
    },
    {
     "name": "stderr",
     "output_type": "stream",
     "text": [
      "100%|██████████| 246/246 [00:54<00:00,  4.53it/s]\n"
     ]
    },
    {
     "name": "stdout",
     "output_type": "stream",
     "text": [
      "Epoch 161/250: Train Loss: 0.3522, Train Accuracy: 83.9576, Train IOU: 0.6993, Test Loss: 0.3037, Test Accuracy: 85.9186, Test IOU: 0.7172\n"
     ]
    },
    {
     "name": "stderr",
     "output_type": "stream",
     "text": [
      "100%|██████████| 246/246 [00:54<00:00,  4.53it/s]\n"
     ]
    },
    {
     "name": "stdout",
     "output_type": "stream",
     "text": [
      "Epoch 162/250: Train Loss: 0.3493, Train Accuracy: 84.3099, Train IOU: 0.7069, Test Loss: 0.3025, Test Accuracy: 86.6480, Test IOU: 0.7375\n"
     ]
    },
    {
     "name": "stderr",
     "output_type": "stream",
     "text": [
      "100%|██████████| 246/246 [00:54<00:00,  4.54it/s]\n"
     ]
    },
    {
     "name": "stdout",
     "output_type": "stream",
     "text": [
      "Epoch 163/250: Train Loss: 0.3494, Train Accuracy: 84.0741, Train IOU: 0.7005, Test Loss: 0.3027, Test Accuracy: 86.4346, Test IOU: 0.7305\n"
     ]
    },
    {
     "name": "stderr",
     "output_type": "stream",
     "text": [
      "100%|██████████| 246/246 [01:01<00:00,  4.01it/s]\n"
     ]
    },
    {
     "name": "stdout",
     "output_type": "stream",
     "text": [
      "Epoch 164/250: Train Loss: 0.3477, Train Accuracy: 84.2215, Train IOU: 0.7034, Test Loss: 0.2992, Test Accuracy: 86.6265, Test IOU: 0.7361\n"
     ]
    },
    {
     "name": "stderr",
     "output_type": "stream",
     "text": [
      "100%|██████████| 246/246 [01:07<00:00,  3.62it/s]\n"
     ]
    },
    {
     "name": "stdout",
     "output_type": "stream",
     "text": [
      "Epoch 165/250: Train Loss: 0.3458, Train Accuracy: 84.3180, Train IOU: 0.7049, Test Loss: 0.3020, Test Accuracy: 86.6444, Test IOU: 0.7362\n"
     ]
    },
    {
     "name": "stderr",
     "output_type": "stream",
     "text": [
      "100%|██████████| 246/246 [01:10<00:00,  3.48it/s]\n"
     ]
    },
    {
     "name": "stdout",
     "output_type": "stream",
     "text": [
      "Epoch 166/250: Train Loss: 0.3413, Train Accuracy: 84.5443, Train IOU: 0.7092, Test Loss: 0.2964, Test Accuracy: 86.4491, Test IOU: 0.7302\n"
     ]
    },
    {
     "name": "stderr",
     "output_type": "stream",
     "text": [
      "100%|██████████| 246/246 [01:11<00:00,  3.46it/s]\n"
     ]
    },
    {
     "name": "stdout",
     "output_type": "stream",
     "text": [
      "Epoch 167/250: Train Loss: 0.3501, Train Accuracy: 84.0617, Train IOU: 0.7007, Test Loss: 0.2983, Test Accuracy: 86.6749, Test IOU: 0.7363\n"
     ]
    },
    {
     "name": "stderr",
     "output_type": "stream",
     "text": [
      "100%|██████████| 246/246 [01:10<00:00,  3.51it/s]\n"
     ]
    },
    {
     "name": "stdout",
     "output_type": "stream",
     "text": [
      "Epoch 168/250: Train Loss: 0.3454, Train Accuracy: 84.3305, Train IOU: 0.7053, Test Loss: 0.2974, Test Accuracy: 86.4938, Test IOU: 0.7309\n"
     ]
    },
    {
     "name": "stderr",
     "output_type": "stream",
     "text": [
      "100%|██████████| 246/246 [01:14<00:00,  3.31it/s]\n"
     ]
    },
    {
     "name": "stdout",
     "output_type": "stream",
     "text": [
      "Epoch 169/250: Train Loss: 0.3491, Train Accuracy: 83.9869, Train IOU: 0.6998, Test Loss: 0.3029, Test Accuracy: 87.0106, Test IOU: 0.7480\n"
     ]
    },
    {
     "name": "stderr",
     "output_type": "stream",
     "text": [
      "100%|██████████| 246/246 [01:05<00:00,  3.75it/s]\n"
     ]
    },
    {
     "name": "stdout",
     "output_type": "stream",
     "text": [
      "Epoch 170/250: Train Loss: 0.3465, Train Accuracy: 84.3988, Train IOU: 0.7071, Test Loss: 0.2972, Test Accuracy: 86.6975, Test IOU: 0.7362\n"
     ]
    },
    {
     "name": "stderr",
     "output_type": "stream",
     "text": [
      "100%|██████████| 246/246 [01:08<00:00,  3.57it/s]\n"
     ]
    },
    {
     "name": "stdout",
     "output_type": "stream",
     "text": [
      "Epoch 171/250: Train Loss: 0.3403, Train Accuracy: 84.3806, Train IOU: 0.7061, Test Loss: 0.2951, Test Accuracy: 86.7519, Test IOU: 0.7375\n"
     ]
    },
    {
     "name": "stderr",
     "output_type": "stream",
     "text": [
      "100%|██████████| 246/246 [01:09<00:00,  3.52it/s]\n"
     ]
    },
    {
     "name": "stdout",
     "output_type": "stream",
     "text": [
      "Epoch 172/250: Train Loss: 0.3406, Train Accuracy: 84.5370, Train IOU: 0.7098, Test Loss: 0.2974, Test Accuracy: 86.6968, Test IOU: 0.7365\n"
     ]
    },
    {
     "name": "stderr",
     "output_type": "stream",
     "text": [
      "100%|██████████| 246/246 [01:16<00:00,  3.22it/s]\n"
     ]
    },
    {
     "name": "stdout",
     "output_type": "stream",
     "text": [
      "Epoch 173/250: Train Loss: 0.3407, Train Accuracy: 84.4886, Train IOU: 0.7082, Test Loss: 0.2966, Test Accuracy: 86.9032, Test IOU: 0.7421\n"
     ]
    },
    {
     "name": "stderr",
     "output_type": "stream",
     "text": [
      "100%|██████████| 246/246 [01:09<00:00,  3.53it/s]\n"
     ]
    },
    {
     "name": "stdout",
     "output_type": "stream",
     "text": [
      "Epoch 174/250: Train Loss: 0.3472, Train Accuracy: 84.1882, Train IOU: 0.7023, Test Loss: 0.2984, Test Accuracy: 86.8562, Test IOU: 0.7403\n"
     ]
    },
    {
     "name": "stderr",
     "output_type": "stream",
     "text": [
      "100%|██████████| 246/246 [01:11<00:00,  3.45it/s]\n"
     ]
    },
    {
     "name": "stdout",
     "output_type": "stream",
     "text": [
      "Epoch 175/250: Train Loss: 0.3449, Train Accuracy: 84.2970, Train IOU: 0.7043, Test Loss: 0.2956, Test Accuracy: 86.6284, Test IOU: 0.7333\n"
     ]
    },
    {
     "name": "stderr",
     "output_type": "stream",
     "text": [
      "100%|██████████| 246/246 [01:09<00:00,  3.54it/s]\n"
     ]
    },
    {
     "name": "stdout",
     "output_type": "stream",
     "text": [
      "Epoch 176/250: Train Loss: 0.3418, Train Accuracy: 84.5172, Train IOU: 0.7091, Test Loss: 0.2957, Test Accuracy: 86.8120, Test IOU: 0.7390\n"
     ]
    },
    {
     "name": "stderr",
     "output_type": "stream",
     "text": [
      "100%|██████████| 246/246 [01:09<00:00,  3.52it/s]\n"
     ]
    },
    {
     "name": "stdout",
     "output_type": "stream",
     "text": [
      "Epoch 177/250: Train Loss: 0.3417, Train Accuracy: 84.5742, Train IOU: 0.7087, Test Loss: 0.2943, Test Accuracy: 86.8063, Test IOU: 0.7376\n"
     ]
    },
    {
     "name": "stderr",
     "output_type": "stream",
     "text": [
      "100%|██████████| 246/246 [01:07<00:00,  3.64it/s]\n"
     ]
    },
    {
     "name": "stdout",
     "output_type": "stream",
     "text": [
      "Epoch 178/250: Train Loss: 0.3402, Train Accuracy: 84.6051, Train IOU: 0.7101, Test Loss: 0.2965, Test Accuracy: 86.7324, Test IOU: 0.7358\n"
     ]
    },
    {
     "name": "stderr",
     "output_type": "stream",
     "text": [
      "100%|██████████| 246/246 [01:08<00:00,  3.59it/s]\n"
     ]
    },
    {
     "name": "stdout",
     "output_type": "stream",
     "text": [
      "Epoch 179/250: Train Loss: 0.3453, Train Accuracy: 84.4657, Train IOU: 0.7086, Test Loss: 0.2982, Test Accuracy: 87.0967, Test IOU: 0.7468\n"
     ]
    },
    {
     "name": "stderr",
     "output_type": "stream",
     "text": [
      "100%|██████████| 246/246 [01:26<00:00,  2.86it/s]\n"
     ]
    },
    {
     "name": "stdout",
     "output_type": "stream",
     "text": [
      "Epoch 180/250: Train Loss: 0.3343, Train Accuracy: 84.8416, Train IOU: 0.7147, Test Loss: 0.2994, Test Accuracy: 85.7108, Test IOU: 0.7099\n"
     ]
    },
    {
     "name": "stderr",
     "output_type": "stream",
     "text": [
      "100%|██████████| 246/246 [01:08<00:00,  3.57it/s]\n"
     ]
    },
    {
     "name": "stdout",
     "output_type": "stream",
     "text": [
      "Epoch 181/250: Train Loss: 0.3407, Train Accuracy: 84.5777, Train IOU: 0.7098, Test Loss: 0.2933, Test Accuracy: 86.3971, Test IOU: 0.7271\n"
     ]
    },
    {
     "name": "stderr",
     "output_type": "stream",
     "text": [
      "100%|██████████| 246/246 [01:06<00:00,  3.69it/s]\n"
     ]
    },
    {
     "name": "stdout",
     "output_type": "stream",
     "text": [
      "Epoch 182/250: Train Loss: 0.3361, Train Accuracy: 84.9078, Train IOU: 0.7160, Test Loss: 0.2945, Test Accuracy: 86.5770, Test IOU: 0.7319\n"
     ]
    },
    {
     "name": "stderr",
     "output_type": "stream",
     "text": [
      "100%|██████████| 246/246 [01:43<00:00,  2.37it/s]\n"
     ]
    },
    {
     "name": "stdout",
     "output_type": "stream",
     "text": [
      "Epoch 183/250: Train Loss: 0.3410, Train Accuracy: 84.5247, Train IOU: 0.7076, Test Loss: 0.2944, Test Accuracy: 86.6460, Test IOU: 0.7338\n"
     ]
    },
    {
     "name": "stderr",
     "output_type": "stream",
     "text": [
      "100%|██████████| 246/246 [01:07<00:00,  3.67it/s]\n"
     ]
    },
    {
     "name": "stdout",
     "output_type": "stream",
     "text": [
      "Epoch 184/250: Train Loss: 0.3364, Train Accuracy: 84.9477, Train IOU: 0.7161, Test Loss: 0.2924, Test Accuracy: 87.0177, Test IOU: 0.7435\n"
     ]
    },
    {
     "name": "stderr",
     "output_type": "stream",
     "text": [
      "100%|██████████| 246/246 [01:14<00:00,  3.30it/s]\n"
     ]
    },
    {
     "name": "stdout",
     "output_type": "stream",
     "text": [
      "Epoch 185/250: Train Loss: 0.3355, Train Accuracy: 84.8906, Train IOU: 0.7158, Test Loss: 0.2913, Test Accuracy: 86.5008, Test IOU: 0.7291\n"
     ]
    },
    {
     "name": "stderr",
     "output_type": "stream",
     "text": [
      "100%|██████████| 246/246 [01:08<00:00,  3.59it/s]\n"
     ]
    },
    {
     "name": "stdout",
     "output_type": "stream",
     "text": [
      "Epoch 186/250: Train Loss: 0.3375, Train Accuracy: 84.6005, Train IOU: 0.7102, Test Loss: 0.2925, Test Accuracy: 87.0360, Test IOU: 0.7439\n"
     ]
    },
    {
     "name": "stderr",
     "output_type": "stream",
     "text": [
      "100%|██████████| 246/246 [01:11<00:00,  3.42it/s]\n"
     ]
    },
    {
     "name": "stdout",
     "output_type": "stream",
     "text": [
      "Epoch 187/250: Train Loss: 0.3341, Train Accuracy: 84.9934, Train IOU: 0.7175, Test Loss: 0.2897, Test Accuracy: 87.1046, Test IOU: 0.7447\n"
     ]
    },
    {
     "name": "stderr",
     "output_type": "stream",
     "text": [
      "100%|██████████| 246/246 [01:10<00:00,  3.47it/s]\n"
     ]
    },
    {
     "name": "stdout",
     "output_type": "stream",
     "text": [
      "Epoch 188/250: Train Loss: 0.3370, Train Accuracy: 84.7630, Train IOU: 0.7130, Test Loss: 0.2901, Test Accuracy: 87.3100, Test IOU: 0.7508\n"
     ]
    },
    {
     "name": "stderr",
     "output_type": "stream",
     "text": [
      "100%|██████████| 246/246 [01:10<00:00,  3.47it/s]\n"
     ]
    },
    {
     "name": "stdout",
     "output_type": "stream",
     "text": [
      "Epoch 189/250: Train Loss: 0.3397, Train Accuracy: 84.7723, Train IOU: 0.7131, Test Loss: 0.2985, Test Accuracy: 87.3636, Test IOU: 0.7556\n"
     ]
    },
    {
     "name": "stderr",
     "output_type": "stream",
     "text": [
      "100%|██████████| 246/246 [01:09<00:00,  3.55it/s]\n"
     ]
    },
    {
     "name": "stdout",
     "output_type": "stream",
     "text": [
      "Epoch 190/250: Train Loss: 0.3284, Train Accuracy: 85.1978, Train IOU: 0.7205, Test Loss: 0.2931, Test Accuracy: 87.2108, Test IOU: 0.7491\n"
     ]
    },
    {
     "name": "stderr",
     "output_type": "stream",
     "text": [
      "100%|██████████| 246/246 [01:04<00:00,  3.81it/s]\n"
     ]
    },
    {
     "name": "stdout",
     "output_type": "stream",
     "text": [
      "Epoch 191/250: Train Loss: 0.3297, Train Accuracy: 85.1691, Train IOU: 0.7199, Test Loss: 0.2896, Test Accuracy: 87.1759, Test IOU: 0.7462\n"
     ]
    },
    {
     "name": "stderr",
     "output_type": "stream",
     "text": [
      "100%|██████████| 246/246 [01:18<00:00,  3.12it/s]\n"
     ]
    },
    {
     "name": "stdout",
     "output_type": "stream",
     "text": [
      "Epoch 192/250: Train Loss: 0.3365, Train Accuracy: 84.8779, Train IOU: 0.7152, Test Loss: 0.2907, Test Accuracy: 87.1458, Test IOU: 0.7451\n"
     ]
    },
    {
     "name": "stderr",
     "output_type": "stream",
     "text": [
      "100%|██████████| 246/246 [01:07<00:00,  3.67it/s]\n"
     ]
    },
    {
     "name": "stdout",
     "output_type": "stream",
     "text": [
      "Epoch 193/250: Train Loss: 0.3330, Train Accuracy: 84.9792, Train IOU: 0.7170, Test Loss: 0.2937, Test Accuracy: 87.3845, Test IOU: 0.7523\n"
     ]
    },
    {
     "name": "stderr",
     "output_type": "stream",
     "text": [
      "100%|██████████| 246/246 [01:12<00:00,  3.39it/s]\n"
     ]
    },
    {
     "name": "stdout",
     "output_type": "stream",
     "text": [
      "Epoch 194/250: Train Loss: 0.3342, Train Accuracy: 84.9416, Train IOU: 0.7158, Test Loss: 0.2910, Test Accuracy: 87.0674, Test IOU: 0.7436\n"
     ]
    },
    {
     "name": "stderr",
     "output_type": "stream",
     "text": [
      "100%|██████████| 246/246 [01:04<00:00,  3.80it/s]\n"
     ]
    },
    {
     "name": "stdout",
     "output_type": "stream",
     "text": [
      "Epoch 195/250: Train Loss: 0.3383, Train Accuracy: 84.7148, Train IOU: 0.7120, Test Loss: 0.2891, Test Accuracy: 87.3519, Test IOU: 0.7509\n"
     ]
    },
    {
     "name": "stderr",
     "output_type": "stream",
     "text": [
      "100%|██████████| 246/246 [01:10<00:00,  3.49it/s]\n"
     ]
    },
    {
     "name": "stdout",
     "output_type": "stream",
     "text": [
      "Epoch 196/250: Train Loss: 0.3318, Train Accuracy: 85.1700, Train IOU: 0.7203, Test Loss: 0.2895, Test Accuracy: 87.2295, Test IOU: 0.7478\n"
     ]
    },
    {
     "name": "stderr",
     "output_type": "stream",
     "text": [
      "100%|██████████| 246/246 [01:09<00:00,  3.54it/s]\n"
     ]
    },
    {
     "name": "stdout",
     "output_type": "stream",
     "text": [
      "Epoch 197/250: Train Loss: 0.3326, Train Accuracy: 84.9503, Train IOU: 0.7158, Test Loss: 0.2896, Test Accuracy: 87.1851, Test IOU: 0.7457\n"
     ]
    },
    {
     "name": "stderr",
     "output_type": "stream",
     "text": [
      "100%|██████████| 246/246 [01:25<00:00,  2.87it/s]\n"
     ]
    },
    {
     "name": "stdout",
     "output_type": "stream",
     "text": [
      "Epoch 198/250: Train Loss: 0.3326, Train Accuracy: 85.0364, Train IOU: 0.7174, Test Loss: 0.2909, Test Accuracy: 87.3782, Test IOU: 0.7520\n"
     ]
    },
    {
     "name": "stderr",
     "output_type": "stream",
     "text": [
      "100%|██████████| 246/246 [01:06<00:00,  3.67it/s]\n"
     ]
    },
    {
     "name": "stdout",
     "output_type": "stream",
     "text": [
      "Epoch 199/250: Train Loss: 0.3311, Train Accuracy: 85.1134, Train IOU: 0.7198, Test Loss: 0.2946, Test Accuracy: 87.0940, Test IOU: 0.7469\n"
     ]
    },
    {
     "name": "stderr",
     "output_type": "stream",
     "text": [
      "100%|██████████| 246/246 [01:06<00:00,  3.69it/s]\n"
     ]
    },
    {
     "name": "stdout",
     "output_type": "stream",
     "text": [
      "Epoch 200/250: Train Loss: 0.3320, Train Accuracy: 85.0101, Train IOU: 0.7177, Test Loss: 0.2876, Test Accuracy: 87.2920, Test IOU: 0.7483\n"
     ]
    },
    {
     "name": "stderr",
     "output_type": "stream",
     "text": [
      "100%|██████████| 246/246 [01:10<00:00,  3.49it/s]\n"
     ]
    },
    {
     "name": "stdout",
     "output_type": "stream",
     "text": [
      "Epoch 201/250: Train Loss: 0.3408, Train Accuracy: 84.6167, Train IOU: 0.7107, Test Loss: 0.2882, Test Accuracy: 87.4027, Test IOU: 0.7522\n"
     ]
    },
    {
     "name": "stderr",
     "output_type": "stream",
     "text": [
      "100%|██████████| 246/246 [01:10<00:00,  3.51it/s]\n"
     ]
    },
    {
     "name": "stdout",
     "output_type": "stream",
     "text": [
      "Epoch 202/250: Train Loss: 0.3341, Train Accuracy: 84.9364, Train IOU: 0.7160, Test Loss: 0.2872, Test Accuracy: 87.1527, Test IOU: 0.7444\n"
     ]
    },
    {
     "name": "stderr",
     "output_type": "stream",
     "text": [
      "100%|██████████| 246/246 [01:08<00:00,  3.60it/s]\n"
     ]
    },
    {
     "name": "stdout",
     "output_type": "stream",
     "text": [
      "Epoch 203/250: Train Loss: 0.3233, Train Accuracy: 85.5291, Train IOU: 0.7264, Test Loss: 0.2880, Test Accuracy: 87.4595, Test IOU: 0.7540\n"
     ]
    },
    {
     "name": "stderr",
     "output_type": "stream",
     "text": [
      "100%|██████████| 246/246 [01:03<00:00,  3.90it/s]\n"
     ]
    },
    {
     "name": "stdout",
     "output_type": "stream",
     "text": [
      "Epoch 204/250: Train Loss: 0.3285, Train Accuracy: 85.2465, Train IOU: 0.7213, Test Loss: 0.2903, Test Accuracy: 87.5798, Test IOU: 0.7584\n"
     ]
    },
    {
     "name": "stderr",
     "output_type": "stream",
     "text": [
      "100%|██████████| 246/246 [01:22<00:00,  2.99it/s]\n"
     ]
    },
    {
     "name": "stdout",
     "output_type": "stream",
     "text": [
      "Epoch 205/250: Train Loss: 0.3305, Train Accuracy: 85.0376, Train IOU: 0.7177, Test Loss: 0.2869, Test Accuracy: 87.1177, Test IOU: 0.7430\n"
     ]
    },
    {
     "name": "stderr",
     "output_type": "stream",
     "text": [
      "100%|██████████| 246/246 [00:55<00:00,  4.46it/s]\n"
     ]
    },
    {
     "name": "stdout",
     "output_type": "stream",
     "text": [
      "Epoch 206/250: Train Loss: 0.3258, Train Accuracy: 85.3155, Train IOU: 0.7226, Test Loss: 0.2876, Test Accuracy: 87.4179, Test IOU: 0.7516\n"
     ]
    },
    {
     "name": "stderr",
     "output_type": "stream",
     "text": [
      "100%|██████████| 246/246 [00:54<00:00,  4.55it/s]\n"
     ]
    },
    {
     "name": "stdout",
     "output_type": "stream",
     "text": [
      "Epoch 207/250: Train Loss: 0.3244, Train Accuracy: 85.4490, Train IOU: 0.7249, Test Loss: 0.2844, Test Accuracy: 87.3774, Test IOU: 0.7495\n"
     ]
    },
    {
     "name": "stderr",
     "output_type": "stream",
     "text": [
      "100%|██████████| 246/246 [00:53<00:00,  4.57it/s]\n"
     ]
    },
    {
     "name": "stdout",
     "output_type": "stream",
     "text": [
      "Epoch 208/250: Train Loss: 0.3367, Train Accuracy: 85.0072, Train IOU: 0.7172, Test Loss: 0.2869, Test Accuracy: 87.4655, Test IOU: 0.7537\n"
     ]
    },
    {
     "name": "stderr",
     "output_type": "stream",
     "text": [
      "100%|██████████| 246/246 [00:54<00:00,  4.54it/s]\n"
     ]
    },
    {
     "name": "stdout",
     "output_type": "stream",
     "text": [
      "Epoch 209/250: Train Loss: 0.3331, Train Accuracy: 85.1758, Train IOU: 0.7202, Test Loss: 0.2854, Test Accuracy: 87.4068, Test IOU: 0.7499\n"
     ]
    },
    {
     "name": "stderr",
     "output_type": "stream",
     "text": [
      "100%|██████████| 246/246 [00:54<00:00,  4.51it/s]\n"
     ]
    },
    {
     "name": "stdout",
     "output_type": "stream",
     "text": [
      "Epoch 210/250: Train Loss: 0.3275, Train Accuracy: 85.2894, Train IOU: 0.7216, Test Loss: 0.2847, Test Accuracy: 87.4295, Test IOU: 0.7511\n"
     ]
    },
    {
     "name": "stderr",
     "output_type": "stream",
     "text": [
      "100%|██████████| 246/246 [00:54<00:00,  4.53it/s]\n"
     ]
    },
    {
     "name": "stdout",
     "output_type": "stream",
     "text": [
      "Epoch 211/250: Train Loss: 0.3287, Train Accuracy: 85.1609, Train IOU: 0.7194, Test Loss: 0.2855, Test Accuracy: 87.2170, Test IOU: 0.7451\n"
     ]
    },
    {
     "name": "stderr",
     "output_type": "stream",
     "text": [
      "100%|██████████| 246/246 [00:54<00:00,  4.53it/s]\n"
     ]
    },
    {
     "name": "stdout",
     "output_type": "stream",
     "text": [
      "Epoch 212/250: Train Loss: 0.3311, Train Accuracy: 85.1396, Train IOU: 0.7195, Test Loss: 0.2857, Test Accuracy: 87.3242, Test IOU: 0.7476\n"
     ]
    },
    {
     "name": "stderr",
     "output_type": "stream",
     "text": [
      "100%|██████████| 246/246 [00:54<00:00,  4.54it/s]\n"
     ]
    },
    {
     "name": "stdout",
     "output_type": "stream",
     "text": [
      "Epoch 213/250: Train Loss: 0.3298, Train Accuracy: 85.0367, Train IOU: 0.7177, Test Loss: 0.2852, Test Accuracy: 87.3623, Test IOU: 0.7484\n"
     ]
    },
    {
     "name": "stderr",
     "output_type": "stream",
     "text": [
      "100%|██████████| 246/246 [00:54<00:00,  4.53it/s]\n"
     ]
    },
    {
     "name": "stdout",
     "output_type": "stream",
     "text": [
      "Epoch 214/250: Train Loss: 0.3279, Train Accuracy: 85.2790, Train IOU: 0.7214, Test Loss: 0.2844, Test Accuracy: 87.4702, Test IOU: 0.7511\n"
     ]
    },
    {
     "name": "stderr",
     "output_type": "stream",
     "text": [
      "100%|██████████| 246/246 [00:54<00:00,  4.52it/s]\n"
     ]
    },
    {
     "name": "stdout",
     "output_type": "stream",
     "text": [
      "Epoch 215/250: Train Loss: 0.3297, Train Accuracy: 85.2343, Train IOU: 0.7214, Test Loss: 0.2835, Test Accuracy: 87.2823, Test IOU: 0.7458\n"
     ]
    },
    {
     "name": "stderr",
     "output_type": "stream",
     "text": [
      "100%|██████████| 246/246 [00:54<00:00,  4.53it/s]\n"
     ]
    },
    {
     "name": "stdout",
     "output_type": "stream",
     "text": [
      "Epoch 216/250: Train Loss: 0.3285, Train Accuracy: 85.2959, Train IOU: 0.7217, Test Loss: 0.2865, Test Accuracy: 87.5188, Test IOU: 0.7549\n"
     ]
    },
    {
     "name": "stderr",
     "output_type": "stream",
     "text": [
      "100%|██████████| 246/246 [00:54<00:00,  4.50it/s]\n"
     ]
    },
    {
     "name": "stdout",
     "output_type": "stream",
     "text": [
      "Epoch 217/250: Train Loss: 0.3383, Train Accuracy: 84.9072, Train IOU: 0.7155, Test Loss: 0.2844, Test Accuracy: 86.9173, Test IOU: 0.7367\n"
     ]
    },
    {
     "name": "stderr",
     "output_type": "stream",
     "text": [
      "100%|██████████| 246/246 [00:54<00:00,  4.53it/s]\n"
     ]
    },
    {
     "name": "stdout",
     "output_type": "stream",
     "text": [
      "Epoch 218/250: Train Loss: 0.3273, Train Accuracy: 85.2354, Train IOU: 0.7211, Test Loss: 0.2838, Test Accuracy: 87.5346, Test IOU: 0.7528\n"
     ]
    },
    {
     "name": "stderr",
     "output_type": "stream",
     "text": [
      "100%|██████████| 246/246 [00:54<00:00,  4.54it/s]\n"
     ]
    },
    {
     "name": "stdout",
     "output_type": "stream",
     "text": [
      "Epoch 219/250: Train Loss: 0.3301, Train Accuracy: 85.1521, Train IOU: 0.7198, Test Loss: 0.2831, Test Accuracy: 87.5861, Test IOU: 0.7544\n"
     ]
    },
    {
     "name": "stderr",
     "output_type": "stream",
     "text": [
      "100%|██████████| 246/246 [00:54<00:00,  4.51it/s]\n"
     ]
    },
    {
     "name": "stdout",
     "output_type": "stream",
     "text": [
      "Epoch 220/250: Train Loss: 0.3302, Train Accuracy: 85.1238, Train IOU: 0.7186, Test Loss: 0.2831, Test Accuracy: 87.4015, Test IOU: 0.7495\n"
     ]
    },
    {
     "name": "stderr",
     "output_type": "stream",
     "text": [
      "100%|██████████| 246/246 [00:51<00:00,  4.78it/s]\n"
     ]
    },
    {
     "name": "stdout",
     "output_type": "stream",
     "text": [
      "Epoch 221/250: Train Loss: 0.3275, Train Accuracy: 85.2199, Train IOU: 0.7209, Test Loss: 0.2864, Test Accuracy: 87.7146, Test IOU: 0.7585\n"
     ]
    },
    {
     "name": "stderr",
     "output_type": "stream",
     "text": [
      "100%|██████████| 246/246 [00:50<00:00,  4.86it/s]\n"
     ]
    },
    {
     "name": "stdout",
     "output_type": "stream",
     "text": [
      "Epoch 222/250: Train Loss: 0.3256, Train Accuracy: 85.2844, Train IOU: 0.7219, Test Loss: 0.2833, Test Accuracy: 87.5578, Test IOU: 0.7538\n"
     ]
    },
    {
     "name": "stderr",
     "output_type": "stream",
     "text": [
      "100%|██████████| 246/246 [00:50<00:00,  4.90it/s]\n"
     ]
    },
    {
     "name": "stdout",
     "output_type": "stream",
     "text": [
      "Epoch 223/250: Train Loss: 0.3259, Train Accuracy: 85.3427, Train IOU: 0.7226, Test Loss: 0.2809, Test Accuracy: 87.6973, Test IOU: 0.7568\n"
     ]
    },
    {
     "name": "stderr",
     "output_type": "stream",
     "text": [
      "100%|██████████| 246/246 [00:51<00:00,  4.79it/s]\n"
     ]
    },
    {
     "name": "stdout",
     "output_type": "stream",
     "text": [
      "Epoch 224/250: Train Loss: 0.3220, Train Accuracy: 85.6494, Train IOU: 0.7286, Test Loss: 0.2867, Test Accuracy: 87.7121, Test IOU: 0.7601\n"
     ]
    },
    {
     "name": "stderr",
     "output_type": "stream",
     "text": [
      "100%|██████████| 246/246 [00:51<00:00,  4.82it/s]\n"
     ]
    },
    {
     "name": "stdout",
     "output_type": "stream",
     "text": [
      "Epoch 225/250: Train Loss: 0.3270, Train Accuracy: 85.3038, Train IOU: 0.7219, Test Loss: 0.2805, Test Accuracy: 87.6530, Test IOU: 0.7561\n"
     ]
    },
    {
     "name": "stderr",
     "output_type": "stream",
     "text": [
      "100%|██████████| 246/246 [00:50<00:00,  4.88it/s]\n"
     ]
    },
    {
     "name": "stdout",
     "output_type": "stream",
     "text": [
      "Epoch 226/250: Train Loss: 0.3228, Train Accuracy: 85.4973, Train IOU: 0.7251, Test Loss: 0.2868, Test Accuracy: 87.5830, Test IOU: 0.7556\n"
     ]
    },
    {
     "name": "stderr",
     "output_type": "stream",
     "text": [
      "100%|██████████| 246/246 [00:50<00:00,  4.89it/s]\n"
     ]
    },
    {
     "name": "stdout",
     "output_type": "stream",
     "text": [
      "Epoch 227/250: Train Loss: 0.3283, Train Accuracy: 85.1662, Train IOU: 0.7200, Test Loss: 0.2824, Test Accuracy: 87.6382, Test IOU: 0.7554\n"
     ]
    },
    {
     "name": "stderr",
     "output_type": "stream",
     "text": [
      "100%|██████████| 246/246 [00:50<00:00,  4.86it/s]\n"
     ]
    },
    {
     "name": "stdout",
     "output_type": "stream",
     "text": [
      "Epoch 228/250: Train Loss: 0.3230, Train Accuracy: 85.7426, Train IOU: 0.7297, Test Loss: 0.2809, Test Accuracy: 87.8350, Test IOU: 0.7614\n"
     ]
    },
    {
     "name": "stderr",
     "output_type": "stream",
     "text": [
      "100%|██████████| 246/246 [00:50<00:00,  4.84it/s]\n"
     ]
    },
    {
     "name": "stdout",
     "output_type": "stream",
     "text": [
      "Epoch 229/250: Train Loss: 0.3271, Train Accuracy: 85.5049, Train IOU: 0.7261, Test Loss: 0.2813, Test Accuracy: 87.8394, Test IOU: 0.7608\n"
     ]
    },
    {
     "name": "stderr",
     "output_type": "stream",
     "text": [
      "100%|██████████| 246/246 [00:50<00:00,  4.85it/s]\n"
     ]
    },
    {
     "name": "stdout",
     "output_type": "stream",
     "text": [
      "Epoch 230/250: Train Loss: 0.3244, Train Accuracy: 85.5217, Train IOU: 0.7262, Test Loss: 0.2820, Test Accuracy: 87.7436, Test IOU: 0.7578\n"
     ]
    },
    {
     "name": "stderr",
     "output_type": "stream",
     "text": [
      "100%|██████████| 246/246 [00:50<00:00,  4.91it/s]\n"
     ]
    },
    {
     "name": "stdout",
     "output_type": "stream",
     "text": [
      "Epoch 231/250: Train Loss: 0.3162, Train Accuracy: 85.8781, Train IOU: 0.7320, Test Loss: 0.2810, Test Accuracy: 87.8119, Test IOU: 0.7592\n"
     ]
    },
    {
     "name": "stderr",
     "output_type": "stream",
     "text": [
      "100%|██████████| 246/246 [00:50<00:00,  4.87it/s]\n"
     ]
    },
    {
     "name": "stdout",
     "output_type": "stream",
     "text": [
      "Epoch 232/250: Train Loss: 0.3143, Train Accuracy: 85.8019, Train IOU: 0.7310, Test Loss: 0.2827, Test Accuracy: 87.6868, Test IOU: 0.7567\n"
     ]
    },
    {
     "name": "stderr",
     "output_type": "stream",
     "text": [
      "100%|██████████| 246/246 [00:50<00:00,  4.89it/s]\n"
     ]
    },
    {
     "name": "stdout",
     "output_type": "stream",
     "text": [
      "Epoch 233/250: Train Loss: 0.3228, Train Accuracy: 85.6429, Train IOU: 0.7281, Test Loss: 0.2824, Test Accuracy: 87.7570, Test IOU: 0.7592\n"
     ]
    },
    {
     "name": "stderr",
     "output_type": "stream",
     "text": [
      "100%|██████████| 246/246 [00:50<00:00,  4.85it/s]\n"
     ]
    },
    {
     "name": "stdout",
     "output_type": "stream",
     "text": [
      "Epoch 234/250: Train Loss: 0.3263, Train Accuracy: 85.4311, Train IOU: 0.7247, Test Loss: 0.2795, Test Accuracy: 87.5989, Test IOU: 0.7532\n"
     ]
    },
    {
     "name": "stderr",
     "output_type": "stream",
     "text": [
      "100%|██████████| 246/246 [00:50<00:00,  4.91it/s]\n"
     ]
    },
    {
     "name": "stdout",
     "output_type": "stream",
     "text": [
      "Epoch 235/250: Train Loss: 0.3222, Train Accuracy: 85.6083, Train IOU: 0.7277, Test Loss: 0.2804, Test Accuracy: 87.7460, Test IOU: 0.7586\n"
     ]
    },
    {
     "name": "stderr",
     "output_type": "stream",
     "text": [
      "100%|██████████| 246/246 [00:50<00:00,  4.85it/s]\n"
     ]
    },
    {
     "name": "stdout",
     "output_type": "stream",
     "text": [
      "Epoch 236/250: Train Loss: 0.3263, Train Accuracy: 85.4721, Train IOU: 0.7255, Test Loss: 0.2778, Test Accuracy: 87.6126, Test IOU: 0.7532\n"
     ]
    },
    {
     "name": "stderr",
     "output_type": "stream",
     "text": [
      "100%|██████████| 246/246 [00:50<00:00,  4.87it/s]\n"
     ]
    },
    {
     "name": "stdout",
     "output_type": "stream",
     "text": [
      "Epoch 237/250: Train Loss: 0.3203, Train Accuracy: 85.3658, Train IOU: 0.7223, Test Loss: 0.2837, Test Accuracy: 87.6840, Test IOU: 0.7571\n"
     ]
    },
    {
     "name": "stderr",
     "output_type": "stream",
     "text": [
      "100%|██████████| 246/246 [00:50<00:00,  4.86it/s]\n"
     ]
    },
    {
     "name": "stdout",
     "output_type": "stream",
     "text": [
      "Epoch 238/250: Train Loss: 0.3243, Train Accuracy: 85.4038, Train IOU: 0.7240, Test Loss: 0.2817, Test Accuracy: 87.8156, Test IOU: 0.7601\n"
     ]
    },
    {
     "name": "stderr",
     "output_type": "stream",
     "text": [
      "100%|██████████| 246/246 [00:50<00:00,  4.88it/s]\n"
     ]
    },
    {
     "name": "stdout",
     "output_type": "stream",
     "text": [
      "Epoch 239/250: Train Loss: 0.3187, Train Accuracy: 85.6775, Train IOU: 0.7286, Test Loss: 0.2794, Test Accuracy: 87.6248, Test IOU: 0.7543\n"
     ]
    },
    {
     "name": "stderr",
     "output_type": "stream",
     "text": [
      "100%|██████████| 246/246 [00:50<00:00,  4.85it/s]\n"
     ]
    },
    {
     "name": "stdout",
     "output_type": "stream",
     "text": [
      "Epoch 240/250: Train Loss: 0.3207, Train Accuracy: 85.6788, Train IOU: 0.7293, Test Loss: 0.2785, Test Accuracy: 87.7327, Test IOU: 0.7573\n"
     ]
    },
    {
     "name": "stderr",
     "output_type": "stream",
     "text": [
      "100%|██████████| 246/246 [01:07<00:00,  3.64it/s]\n"
     ]
    },
    {
     "name": "stdout",
     "output_type": "stream",
     "text": [
      "Epoch 241/250: Train Loss: 0.3205, Train Accuracy: 85.7078, Train IOU: 0.7294, Test Loss: 0.2776, Test Accuracy: 87.5604, Test IOU: 0.7512\n"
     ]
    },
    {
     "name": "stderr",
     "output_type": "stream",
     "text": [
      "100%|██████████| 246/246 [01:01<00:00,  4.02it/s]\n"
     ]
    },
    {
     "name": "stdout",
     "output_type": "stream",
     "text": [
      "Epoch 242/250: Train Loss: 0.3130, Train Accuracy: 86.0666, Train IOU: 0.7353, Test Loss: 0.2801, Test Accuracy: 87.8385, Test IOU: 0.7599\n"
     ]
    },
    {
     "name": "stderr",
     "output_type": "stream",
     "text": [
      "100%|██████████| 246/246 [01:06<00:00,  3.72it/s]\n"
     ]
    },
    {
     "name": "stdout",
     "output_type": "stream",
     "text": [
      "Epoch 243/250: Train Loss: 0.3179, Train Accuracy: 85.8320, Train IOU: 0.7314, Test Loss: 0.2788, Test Accuracy: 87.5287, Test IOU: 0.7504\n"
     ]
    },
    {
     "name": "stderr",
     "output_type": "stream",
     "text": [
      "100%|██████████| 246/246 [00:58<00:00,  4.23it/s]\n"
     ]
    },
    {
     "name": "stdout",
     "output_type": "stream",
     "text": [
      "Epoch 244/250: Train Loss: 0.3189, Train Accuracy: 85.8093, Train IOU: 0.7308, Test Loss: 0.2817, Test Accuracy: 87.2411, Test IOU: 0.7435\n"
     ]
    },
    {
     "name": "stderr",
     "output_type": "stream",
     "text": [
      "100%|██████████| 246/246 [00:58<00:00,  4.21it/s]\n"
     ]
    },
    {
     "name": "stdout",
     "output_type": "stream",
     "text": [
      "Epoch 245/250: Train Loss: 0.3183, Train Accuracy: 85.8483, Train IOU: 0.7317, Test Loss: 0.2760, Test Accuracy: 87.9810, Test IOU: 0.7628\n"
     ]
    },
    {
     "name": "stderr",
     "output_type": "stream",
     "text": [
      "100%|██████████| 246/246 [02:33<00:00,  1.60it/s]\n"
     ]
    },
    {
     "name": "stdout",
     "output_type": "stream",
     "text": [
      "Epoch 246/250: Train Loss: 0.3156, Train Accuracy: 85.8444, Train IOU: 0.7316, Test Loss: 0.2784, Test Accuracy: 87.9192, Test IOU: 0.7620\n"
     ]
    },
    {
     "name": "stderr",
     "output_type": "stream",
     "text": [
      "100%|██████████| 246/246 [01:06<00:00,  3.70it/s]\n"
     ]
    },
    {
     "name": "stdout",
     "output_type": "stream",
     "text": [
      "Epoch 247/250: Train Loss: 0.3148, Train Accuracy: 85.8823, Train IOU: 0.7318, Test Loss: 0.2786, Test Accuracy: 87.6912, Test IOU: 0.7556\n"
     ]
    },
    {
     "name": "stderr",
     "output_type": "stream",
     "text": [
      "100%|██████████| 246/246 [00:59<00:00,  4.12it/s]\n"
     ]
    },
    {
     "name": "stdout",
     "output_type": "stream",
     "text": [
      "Epoch 248/250: Train Loss: 0.3145, Train Accuracy: 86.0104, Train IOU: 0.7349, Test Loss: 0.2770, Test Accuracy: 87.5914, Test IOU: 0.7521\n"
     ]
    },
    {
     "name": "stderr",
     "output_type": "stream",
     "text": [
      "100%|██████████| 246/246 [01:06<00:00,  3.71it/s]\n"
     ]
    },
    {
     "name": "stdout",
     "output_type": "stream",
     "text": [
      "Epoch 249/250: Train Loss: 0.3182, Train Accuracy: 85.6854, Train IOU: 0.7287, Test Loss: 0.2783, Test Accuracy: 87.3969, Test IOU: 0.7471\n"
     ]
    },
    {
     "name": "stderr",
     "output_type": "stream",
     "text": [
      "100%|██████████| 246/246 [00:57<00:00,  4.24it/s]\n"
     ]
    },
    {
     "name": "stdout",
     "output_type": "stream",
     "text": [
      "Epoch 250/250: Train Loss: 0.3193, Train Accuracy: 85.7618, Train IOU: 0.7299, Test Loss: 0.2801, Test Accuracy: 87.9682, Test IOU: 0.7648\n"
     ]
    }
   ],
   "source": [
    "epochs = 250\n",
    "patience = 10  # Set patience for early stopping\n",
    "for model_name, model in model_list.items():\n",
    "    print(f'Training {model_name}')\n",
    "    model.to(DEVICE)\n",
    "    optimizer = torch.optim.SGD(model.parameters(), lr=1e-4)  # Define optimizer for each model\n",
    "\n",
    "    trained_model, metrics = train_and_evaluate(model, trainloader, testloader, optimizer, lossfn, epochs, DEVICE, patience)\n",
    "\n",
    "    # Save the model weights\n",
    "    torch.save(trained_model, f'{model_name}_efficientnet_best_model_v3_effb4.pth')\n",
    "\n",
    "    # Save the metrics to a CSV file\n",
    "    df = pd.DataFrame(metrics)\n",
    "    df.to_csv(f'performance_metrics_{model_name}_v3_effb4.csv', index=False)"
   ]
  },
  {
   "cell_type": "code",
   "execution_count": null,
   "metadata": {},
   "outputs": [],
   "source": [
    "import rasterio\n",
    "from rasterio.transform import from_origin\n",
    "from PIL import Image\n",
    "import numpy as np\n",
    "\n",
    "out_folder_img = './Data/Test_Results/Image'\n",
    "out_folder_label = './Data/Test_Results/Label'\n",
    "\n",
    "def save_image_rasterio(image, filepath):\n",
    "    # image is expected to be of shape (channels, height, width)\n",
    "    if image.ndim == 4 and image.shape[0] == 1:\n",
    "        image = image[0]  # Remove the channel dimension if it's single channel\n",
    "\n",
    "    height, width = image.shape[-2], image.shape[-1]\n",
    "    transform = from_origin(0, 0, 1, 1)  # Modify as per your coordinate reference system\n",
    "\n",
    "    with rasterio.open(\n",
    "        filepath,\n",
    "        'w',\n",
    "        driver='GTiff',\n",
    "        height=height,\n",
    "        width=width,\n",
    "        count=1 if image.ndim == 2 else image.shape[0],  # Set the count to number of channels\n",
    "        dtype=image.dtype,\n",
    "        crs='+proj=latlong',\n",
    "        transform=transform,\n",
    "    ) as dst:\n",
    "        if image.ndim == 2:\n",
    "            dst.write(image, 1)  # Assuming the image is single channel (grayscale)\n",
    "        else:\n",
    "            for band in range(image.shape[0]):\n",
    "                dst.write(image[band], band + 1)  # Write each channel separately\n",
    "\n",
    "def make(model, testloader, device):\n",
    "    model.eval()\n",
    "    predicted_images = []  # List to store predicted images\n",
    "    input_images = []  # List to store input images\n",
    "\n",
    "    with torch.no_grad():\n",
    "        for batch_idx, (x_batch, y_batch) in enumerate(testloader):\n",
    "            x_batch = x_batch.float().to(device)\n",
    "            y_batch = y_batch.float().to(device)\n",
    "\n",
    "            # Forward pass and loss calculation\n",
    "            yhat = model(x_batch)\n",
    "  \n",
    "            # Predictions\n",
    "            predicted_classes = (yhat > 0.5).float() # Round to get binary predictions\n",
    "            \n",
    "            # Saving predicted images\n",
    "            for i in range(predicted_classes.size(0)):  # Iterate over the batch dimension\n",
    "                predicted_image = predicted_classes[i].cpu().numpy()\n",
    "                input_image = x_batch[i].cpu().numpy()\n",
    "                save_image_rasterio(predicted_image, f\"{out_folder_label}/prediction_{batch_idx}_{i}.tif\")\n",
    "                save_image_rasterio(input_image, f\"{out_folder_img}/input_{batch_idx}_{i}.tif\")\n",
    "                #save_image_png(predicted_image, f\"{out_folder_img}/prediction_{batch_idx}_{i}.png\")\n",
    "                #save_image_png(input_image, f\"{out_folder_label}/input_{batch_idx}_{i}.png\")\n",
    "                predicted_images.append(predicted_image)  # Store the predicted image in the list\n",
    "                input_images.append(input_image)  # Store the input image in the list\n",
    "\n",
    "    return input_images, predicted_image\n",
    "\n",
    "\n",
    "def save_image_png(image, filepath):\n",
    "    # image is expected to be of shape (channels, height, width)\n",
    "    if image.ndim == 3 and image.shape[0] == 1:\n",
    "        image = image[0]  # Remove the channel dimension if it's single channel\n",
    "\n",
    "    if image.ndim == 2:  # Single channel image\n",
    "        image = (image * 255).astype(np.uint8)  # Convert to uint8\n",
    "        Image.fromarray(image).save(filepath)\n",
    "    else:  # Multi-channel image\n",
    "        if image.shape[0] == 4:  # Drop the fourth channel if present\n",
    "            image = image[:3, :, :]\n",
    "        image = np.transpose(image, (1, 2, 0))  # Convert from (channels, height, width) to (height, width, channels)\n",
    "        image = (image * 65535).astype(np.uint8)  # Convert to uint8\n",
    "        Image.fromarray(image).save(filepath)"
   ]
  },
  {
   "cell_type": "code",
   "execution_count": null,
   "metadata": {},
   "outputs": [],
   "source": [
    "import torch\n",
    "import rasterio\n",
    "modelunetplusplus = torch.load('modelunetplusplus_dynamicearthnet.pth')\n",
    "\n",
    "inference_test = make(modelunetplusplus, testloader, DEVICE)"
   ]
  }
 ],
 "metadata": {
  "kernelspec": {
   "display_name": "marzuki",
   "language": "python",
   "name": "python3"
  },
  "language_info": {
   "codemirror_mode": {
    "name": "ipython",
    "version": 3
   },
   "file_extension": ".py",
   "mimetype": "text/x-python",
   "name": "python",
   "nbconvert_exporter": "python",
   "pygments_lexer": "ipython3",
   "version": "3.10.11"
  }
 },
 "nbformat": 4,
 "nbformat_minor": 2
}
