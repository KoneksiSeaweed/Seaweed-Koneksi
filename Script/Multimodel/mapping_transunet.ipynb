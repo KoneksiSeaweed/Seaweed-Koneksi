{
 "cells": [
  {
   "cell_type": "code",
   "execution_count": 1,
   "metadata": {},
   "outputs": [
    {
     "name": "stdout",
     "output_type": "stream",
     "text": [
      "[INFO] training using cuda ...\n"
     ]
    }
   ],
   "source": [
    "import torch\n",
    "import torch.nn as nn\n",
    "import torch.optim as optim\n",
    "import torchvision\n",
    "from torchvision import datasets, transforms\n",
    "from torch.nn.modules.loss import BCEWithLogitsLoss, BCELoss\n",
    "import rasterio\n",
    "import numpy as np\n",
    "import matplotlib\n",
    "import os\n",
    "import glob\n",
    "import matplotlib.pyplot as plt\n",
    "import cv2\n",
    "from IPython.core.pylabtools import figsize\n",
    "from Model.load_data import CustomGeoDataset\n",
    "from Model.unet import unet\n",
    "from Model.TransUnet import TransUNet\n",
    "import segmentation_models_pytorch as smp\n",
    "\n",
    "DEVICE = 'cuda' if torch.cuda.is_available() else 'cpu'\n",
    "#DEVICE = 'cpu'\n",
    "print(\"[INFO] training using {} ...\".format(DEVICE))"
   ]
  },
  {
   "cell_type": "code",
   "execution_count": 2,
   "metadata": {},
   "outputs": [
    {
     "name": "stdout",
     "output_type": "stream",
     "text": [
      "2457\n",
      "2457\n"
     ]
    }
   ],
   "source": [
    "Image_Drive = \"./Data/train/images\"\n",
    "Label_Drive = \"./Data/train/labels\"\n",
    "\n",
    "#augmented data\n",
    "#Image_aug = \"./Data/Transformed_images\"\n",
    "#Label_aug = \"./Data/Transformed_labels\"\n",
    "\n",
    "image_path = glob.glob(os.path.join(Image_Drive, \"*.tif\"))\n",
    "label_path = glob.glob(os.path.join(Label_Drive, \"*.tif\"))\n",
    "\n",
    "\n",
    "image_size = len(image_path)\n",
    "label_size = len(label_path)\n",
    "\n",
    "print(image_size)\n",
    "print(label_size)"
   ]
  },
  {
   "cell_type": "markdown",
   "metadata": {},
   "source": [
    "aug_image_path = glob.glob(os.path.join(Image_aug, \"*.tif\"))\n",
    "aug_label_path = glob.glob(os.path.join(Label_aug, \"*.tif\"))\n",
    "\n",
    "image_path = image_path + aug_image_path\n",
    "label_path = label_path + aug_label_path\n",
    "\n",
    "image_size = len(image_path)\n",
    "label_size = len(label_path)\n",
    "\n",
    "print(image_size)\n",
    "print(label_size)"
   ]
  },
  {
   "cell_type": "code",
   "execution_count": 8,
   "metadata": {},
   "outputs": [
    {
     "name": "stdout",
     "output_type": "stream",
     "text": [
      "2457\n",
      "246\n",
      "62\n"
     ]
    }
   ],
   "source": [
    "# Instantiate the custom dataset with transformations\n",
    "train_data = CustomGeoDataset(image_path, label_path)\n",
    "print(len(train_data))\n",
    "\n",
    "split_size = 0.80\n",
    "train_size = int(split_size * len(train_data))\n",
    "test_size = len(train_data) - train_size\n",
    "train_data, test_data = torch.utils.data.random_split(train_data, [train_size, test_size])\n",
    "\n",
    "#dataloader\n",
    "trainloader = torch.utils.data.DataLoader(train_data, shuffle = True, batch_size=8)\n",
    "testloader = torch.utils.data.DataLoader(test_data, shuffle = True, batch_size=8)\n",
    "\n",
    "print(len(trainloader))\n",
    "print(len(testloader))"
   ]
  },
  {
   "cell_type": "code",
   "execution_count": 4,
   "metadata": {},
   "outputs": [],
   "source": [
    "def make_train_step(model, optimizer, loss_fn):\n",
    "    def train_step(x, y):\n",
    "        # Ensure x has the correct shape\n",
    "        if x.dim() == 3:\n",
    "            x = x.unsqueeze(1)  # Add channel dimension\n",
    "        \n",
    "        # Make prediction\n",
    "        yhat = model(x)\n",
    "        # Enter train mode\n",
    "        model.train()\n",
    "        # Compute loss\n",
    "        loss = loss_fn(yhat, y)\n",
    "\n",
    "        loss.backward()\n",
    "        optimizer.step()\n",
    "        optimizer.zero_grad()\n",
    "\n",
    "        return loss\n",
    "    return train_step"
   ]
  },
  {
   "cell_type": "markdown",
   "metadata": {},
   "source": [
    "# model unetransformer\n",
    "#modelunetplusplus = smp.UnetPlusPlus(in_channels=4, encoder_depth=5, classes=1,\n",
    "#    activation=None,\n",
    "#    encoder_weights=\"imagenet\",\n",
    "#    encoder_name=\"efficientnet-b4\",\n",
    "#    decoder_attention_type=\"scse\")\n",
    "\n",
    "modelunetplusplus = smp.UnetPlusPlus(in_channels=4, encoder_depth=5, classes=1, encoder_name=\"efficientnet-b4\", decoder_attention_type=\"scse\")\n",
    "\n",
    "\n",
    "# Define the U-Net model\n",
    "model_unet = smp.Unet(\n",
    "    encoder_name=\"efficientnet-b4\",     # Choose the encoder, e.g., efficientnet-b4\n",
    "    encoder_depth=5,                    # Choose depth for encoder\n",
    "    in_channels=4,                      # Model input channels (1 for grayscale, 3 for RGB, etc.)\n",
    "    classes=1,                          # Model output channels (number of classes)\n",
    "    decoder_attention_type=\"scse\"       # Optional, add SCSE attention module to decoder\n",
    ")\n",
    "\n",
    "# Define the DeepLabV3+ model\n",
    "model_deeplabv3plus = smp.DeepLabV3Plus(\n",
    "    encoder_name=\"efficientnet-b4\",     # Choose the encoder, e.g., efficientnet-b4\n",
    "    encoder_depth=5,                    # Choose depth for encoder\n",
    "    in_channels=4,                      # Model input channels (1 for grayscale, 3 for RGB, etc.)\n",
    "    classes=1                           # Model output channels (number of classes)\n",
    ")\n",
    "\n",
    "# Define the FPN model\n",
    "model_fpn = smp.FPN(\n",
    "    encoder_name=\"efficientnet-b4\",  # Choose the encoder, e.g., efficientnet-b4\n",
    "    encoder_depth=5,                 # Choose depth for encoder\n",
    "    in_channels=4,                   # Model input channels (1 for grayscale, 3 for RGB, etc.)\n",
    "    classes=1                        # Model output channels (number of classes)\n",
    ")\n",
    "\n",
    "# Define the PSPNet model\n",
    "model_pspnet = smp.PSPNet(\n",
    "    encoder_name=\"efficientnet-b4\",  # Choose the encoder, e.g., efficientnet-b4\n",
    "    encoder_depth=5,                 # Choose depth for encoder\n",
    "    in_channels=4,                   # Model input channels (1 for grayscale, 3 for RGB, etc.)\n",
    "    classes=1                        # Model output channels (number of classes)\n",
    ")\n",
    "\n",
    "# Define the PAN model\n",
    "model_pan = smp.PAN(\n",
    "    encoder_name=\"efficientnet-b4\",  # Choose the encoder, e.g., efficientnet-b4\n",
    "    in_channels=4,                   # Model input channels (1 for grayscale, 3 for RGB, etc.)\n",
    "    classes=1                       # Model output channels (number of classes)\n",
    ")\n",
    "\n",
    "# Define the PAN model\n",
    "model_manet = smp.MAnet(\n",
    "    encoder_name=\"efficientnet-b4\",  # Choose the encoder, e.g., efficientnet-b4\n",
    "    encoder_depth=5,                 # Choose depth for encoder\n",
    "    in_channels=4,                   # Model input channels (1 for grayscale, 3 for RGB, etc.)\n",
    "    classes=1                        # Model output channels (number of classes)\n",
    ")\n",
    "\n",
    "print(modelunetplusplus)\n",
    "\n",
    "modelunetplusplus = modelunetplusplus.to(DEVICE)\n",
    "model_unet = model_unet.to(DEVICE)\n",
    "model_pan = model_pan.to(DEVICE)\n",
    "model_pspnet = model_pspnet.to(DEVICE)\n",
    "model_fpn = model_fpn.to(DEVICE)\n",
    "model_deeplabv3plus = model_deeplabv3plus.to(DEVICE)\n",
    "model_manet = model_manet.to(DEVICE)"
   ]
  },
  {
   "cell_type": "code",
   "execution_count": null,
   "metadata": {},
   "outputs": [
    {
     "name": "stdout",
     "output_type": "stream",
     "text": [
      "<function make_train_step.<locals>.train_step at 0x0000025429E29300>\n"
     ]
    }
   ],
   "source": [
    "from torch.optim import SGD\n",
    "\n",
    "model_transunet = TransUNet(img_dim=128,\n",
    "                          in_channels=4,\n",
    "                          out_channels=128,\n",
    "                          head_num=4,\n",
    "                          mlp_dim=512,\n",
    "                          block_num=8,\n",
    "                          patch_dim=16,\n",
    "                          class_num=1).to(DEVICE)\n",
    "\n",
    "model_list = {'model_transunet': model_transunet}\n",
    "\n",
    "# define training hyperparameters\n",
    "INIT_LR = 1e-4\n",
    "epochs = 250\n",
    "\n",
    "# initialize our optimizer and loss function\n",
    "optimizer = SGD(model_transunet.parameters(), lr=INIT_LR)\n",
    "lossfn = BCEWithLogitsLoss()\n",
    "\n",
    "#train step\n",
    "train_step = make_train_step(model_transunet, optimizer, lossfn)\n",
    "print(train_step)"
   ]
  },
  {
   "cell_type": "code",
   "execution_count": 10,
   "metadata": {},
   "outputs": [],
   "source": [
    "from tqdm import tqdm\n",
    "from torchmetrics import JaccardIndex\n",
    "\n",
    "def train(model, trainloader, optimizer, loss_fn, device):\n",
    "    model.train()\n",
    "    train_step = make_train_step(model, optimizer, loss_fn)\n",
    "    epoch_loss = 0.0\n",
    "    correct_predictions = 0\n",
    "    total_predictions = 0\n",
    "    jaccard = JaccardIndex(task='binary').to(DEVICE)\n",
    "\n",
    "    for i, data in tqdm(enumerate(trainloader), total=len(trainloader)):\n",
    "        x_batch, y_batch = data\n",
    "        x_batch = x_batch.float().to(device)  # Ensure correct type\n",
    "        y_batch = y_batch.float().to(device)\n",
    "\n",
    "        # Forward pass and loss calculation\n",
    "        loss = train_step(x_batch, y_batch)\n",
    "        epoch_loss += loss.item()\n",
    "\n",
    "        # Predictions\n",
    "        predictions = (model(x_batch) > 0.5).float()  # Binary thresholding at 0.5\n",
    "\n",
    "        # Accuracy calculation\n",
    "        correct_predictions += torch.sum(predictions == y_batch).item()\n",
    "        total_predictions += (y_batch.size(0) * y_batch.size(1) * y_batch.size(2) * y_batch.size(3))\n",
    "\n",
    "        # jaccard index (IoU) calculation\n",
    "        jaccard.update(predictions, y_batch)\n",
    "\n",
    "    accuracy = (correct_predictions/total_predictions) * 100  # Convert to percentage\n",
    "    average_loss = epoch_loss / len(trainloader)\n",
    "    iou = jaccard.compute()\n",
    "\n",
    "    return average_loss, accuracy, iou\n",
    "\n",
    "def evaluate(model, testloader, loss_fn, device):\n",
    "    model.eval()\n",
    "    epoch_loss = 0.0\n",
    "    correct_predictions = 0\n",
    "    total_predictions = 0\n",
    "    jaccard = JaccardIndex(task='binary').to(DEVICE)\n",
    "\n",
    "    with torch.no_grad():\n",
    "        for x_batch, y_batch in testloader:\n",
    "            x_batch = x_batch.float().to(device)\n",
    "            y_batch = y_batch.float().to(device)\n",
    "\n",
    "            # Forward pass and loss calculation\n",
    "            yhat = model(x_batch)\n",
    "            loss = loss_fn(yhat, y_batch)\n",
    "            epoch_loss += loss.item()\n",
    "\n",
    "            # Predictions\n",
    "            predicted_classes = (yhat > 0.5).float() # Round to get binary predictions\n",
    "            correct_predictions += torch.sum(predicted_classes == y_batch).item()\n",
    "            total_predictions += (y_batch.size(0) * y_batch.size(1) * y_batch.size(2) * y_batch.size(3))\n",
    "\n",
    "            #jaccard calculation\n",
    "            jaccard.update(predicted_classes, y_batch)\n",
    "\n",
    "    accuracy = (correct_predictions / total_predictions) * 100  # Convert to percentage\n",
    "    average_loss = epoch_loss / len(testloader)\n",
    "    iou = jaccard.compute()\n",
    "\n",
    "    return average_loss, accuracy, iou\n"
   ]
  },
  {
   "cell_type": "code",
   "execution_count": null,
   "metadata": {},
   "outputs": [],
   "source": [
    "class EarlyStopping:\n",
    "    def __init__(self, patience=10, delta=0):\n",
    "        \"\"\"\n",
    "        Args:\n",
    "            patience (int): Berapa banyak epoch untuk menunggu sebelum berhenti ketika tidak ada peningkatan.\n",
    "            delta (float): Minimum perubahan pada monitored metric untuk dianggap peningkatan.\n",
    "        \"\"\"\n",
    "        self.patience = patience\n",
    "        self.delta = delta\n",
    "        self.best_loss = None\n",
    "        self.counter = 0\n",
    "        self.best_model_wts = None\n",
    "        self.early_stop = False\n",
    "\n",
    "    def __call__(self, val_loss, model):\n",
    "        if self.best_loss is None or val_loss < self.best_loss - self.delta:\n",
    "            self.best_loss = val_loss\n",
    "            self.counter = 0\n",
    "            self.best_model_wts = model.state_dict()\n",
    "        else:\n",
    "            self.counter += 1\n",
    "            if self.counter >= self.patience:\n",
    "                self.early_stop = True"
   ]
  },
  {
   "cell_type": "code",
   "execution_count": null,
   "metadata": {},
   "outputs": [
    {
     "name": "stderr",
     "output_type": "stream",
     "text": [
      "  0%|          | 0/246 [00:00<?, ?it/s]c:\\Users\\sanji\\anaconda3\\Lib\\site-packages\\rasterio\\__init__.py:317: NotGeoreferencedWarning: Dataset has no geotransform, gcps, or rpcs. The identity matrix will be returned.\n",
      "  dataset = DatasetReader(path, driver=driver, sharing=sharing, **kwargs)\n",
      "100%|██████████| 246/246 [01:34<00:00,  2.61it/s]\n"
     ]
    },
    {
     "name": "stdout",
     "output_type": "stream",
     "text": [
      "Epoch 1/250: Train Loss: 0.6446, Train Accuracy: 58.0831, Train IOU: 0.1778, Test Loss: 0.5715, Test Accuracy: 65.4166, Test IOU: 0.3530\n"
     ]
    },
    {
     "name": "stderr",
     "output_type": "stream",
     "text": [
      "100%|██████████| 246/246 [01:40<00:00,  2.44it/s]\n"
     ]
    },
    {
     "name": "stdout",
     "output_type": "stream",
     "text": [
      "Epoch 2/250: Train Loss: 0.5971, Train Accuracy: 63.7264, Train IOU: 0.2899, Test Loss: 0.5547, Test Accuracy: 67.1409, Test IOU: 0.3841\n"
     ]
    },
    {
     "name": "stderr",
     "output_type": "stream",
     "text": [
      "100%|██████████| 246/246 [01:39<00:00,  2.48it/s]\n"
     ]
    },
    {
     "name": "stdout",
     "output_type": "stream",
     "text": [
      "Epoch 3/250: Train Loss: 0.5840, Train Accuracy: 65.1864, Train IOU: 0.3225, Test Loss: 0.5448, Test Accuracy: 67.0816, Test IOU: 0.3916\n"
     ]
    },
    {
     "name": "stderr",
     "output_type": "stream",
     "text": [
      "100%|██████████| 246/246 [01:08<00:00,  3.60it/s]\n"
     ]
    },
    {
     "name": "stdout",
     "output_type": "stream",
     "text": [
      "Epoch 4/250: Train Loss: 0.5772, Train Accuracy: 65.8263, Train IOU: 0.3369, Test Loss: 0.5384, Test Accuracy: 68.2279, Test IOU: 0.3949\n"
     ]
    },
    {
     "name": "stderr",
     "output_type": "stream",
     "text": [
      "100%|██████████| 246/246 [01:16<00:00,  3.21it/s]\n"
     ]
    },
    {
     "name": "stdout",
     "output_type": "stream",
     "text": [
      "Epoch 5/250: Train Loss: 0.5684, Train Accuracy: 66.3160, Train IOU: 0.3505, Test Loss: 0.5475, Test Accuracy: 69.1903, Test IOU: 0.4370\n"
     ]
    },
    {
     "name": "stderr",
     "output_type": "stream",
     "text": [
      "100%|██████████| 246/246 [01:42<00:00,  2.40it/s]\n"
     ]
    },
    {
     "name": "stdout",
     "output_type": "stream",
     "text": [
      "Epoch 6/250: Train Loss: 0.5665, Train Accuracy: 66.8863, Train IOU: 0.3633, Test Loss: 0.5269, Test Accuracy: 70.2218, Test IOU: 0.4534\n"
     ]
    },
    {
     "name": "stderr",
     "output_type": "stream",
     "text": [
      "100%|██████████| 246/246 [01:38<00:00,  2.49it/s]\n"
     ]
    },
    {
     "name": "stdout",
     "output_type": "stream",
     "text": [
      "Epoch 7/250: Train Loss: 0.5628, Train Accuracy: 67.0201, Train IOU: 0.3666, Test Loss: 0.5351, Test Accuracy: 70.1115, Test IOU: 0.4620\n"
     ]
    },
    {
     "name": "stderr",
     "output_type": "stream",
     "text": [
      "100%|██████████| 246/246 [01:11<00:00,  3.43it/s]\n"
     ]
    },
    {
     "name": "stdout",
     "output_type": "stream",
     "text": [
      "Epoch 8/250: Train Loss: 0.5548, Train Accuracy: 67.9873, Train IOU: 0.3865, Test Loss: 0.5256, Test Accuracy: 68.4776, Test IOU: 0.4003\n"
     ]
    },
    {
     "name": "stderr",
     "output_type": "stream",
     "text": [
      "100%|██████████| 246/246 [01:06<00:00,  3.73it/s]\n"
     ]
    },
    {
     "name": "stdout",
     "output_type": "stream",
     "text": [
      "Epoch 9/250: Train Loss: 0.5536, Train Accuracy: 67.8906, Train IOU: 0.3862, Test Loss: 0.5219, Test Accuracy: 69.4832, Test IOU: 0.4362\n"
     ]
    },
    {
     "name": "stderr",
     "output_type": "stream",
     "text": [
      "100%|██████████| 246/246 [01:39<00:00,  2.47it/s]\n"
     ]
    },
    {
     "name": "stdout",
     "output_type": "stream",
     "text": [
      "Epoch 10/250: Train Loss: 0.5499, Train Accuracy: 68.2935, Train IOU: 0.3932, Test Loss: 0.5131, Test Accuracy: 69.9892, Test IOU: 0.4343\n"
     ]
    },
    {
     "name": "stderr",
     "output_type": "stream",
     "text": [
      "100%|██████████| 246/246 [01:44<00:00,  2.36it/s]\n"
     ]
    },
    {
     "name": "stdout",
     "output_type": "stream",
     "text": [
      "Epoch 11/250: Train Loss: 0.5474, Train Accuracy: 68.4594, Train IOU: 0.3983, Test Loss: 0.5137, Test Accuracy: 69.0517, Test IOU: 0.4079\n"
     ]
    },
    {
     "name": "stderr",
     "output_type": "stream",
     "text": [
      "100%|██████████| 246/246 [01:26<00:00,  2.85it/s]\n"
     ]
    },
    {
     "name": "stdout",
     "output_type": "stream",
     "text": [
      "Epoch 12/250: Train Loss: 0.5510, Train Accuracy: 68.0003, Train IOU: 0.3931, Test Loss: 0.5263, Test Accuracy: 70.5687, Test IOU: 0.4681\n"
     ]
    },
    {
     "name": "stderr",
     "output_type": "stream",
     "text": [
      "100%|██████████| 246/246 [01:04<00:00,  3.81it/s]\n"
     ]
    },
    {
     "name": "stdout",
     "output_type": "stream",
     "text": [
      "Epoch 13/250: Train Loss: 0.5456, Train Accuracy: 68.5825, Train IOU: 0.4026, Test Loss: 0.5148, Test Accuracy: 70.5250, Test IOU: 0.4485\n"
     ]
    },
    {
     "name": "stderr",
     "output_type": "stream",
     "text": [
      "100%|██████████| 246/246 [01:17<00:00,  3.16it/s]\n"
     ]
    },
    {
     "name": "stdout",
     "output_type": "stream",
     "text": [
      "Epoch 14/250: Train Loss: 0.5458, Train Accuracy: 68.8044, Train IOU: 0.4062, Test Loss: 0.5102, Test Accuracy: 70.8419, Test IOU: 0.4526\n"
     ]
    },
    {
     "name": "stderr",
     "output_type": "stream",
     "text": [
      "100%|██████████| 246/246 [01:42<00:00,  2.40it/s]\n"
     ]
    },
    {
     "name": "stdout",
     "output_type": "stream",
     "text": [
      "Epoch 15/250: Train Loss: 0.5367, Train Accuracy: 69.1764, Train IOU: 0.4100, Test Loss: 0.5050, Test Accuracy: 70.1351, Test IOU: 0.4294\n"
     ]
    },
    {
     "name": "stderr",
     "output_type": "stream",
     "text": [
      "100%|██████████| 246/246 [01:42<00:00,  2.39it/s]\n"
     ]
    },
    {
     "name": "stdout",
     "output_type": "stream",
     "text": [
      "Epoch 16/250: Train Loss: 0.5382, Train Accuracy: 68.5024, Train IOU: 0.4004, Test Loss: 0.5097, Test Accuracy: 72.2575, Test IOU: 0.4930\n"
     ]
    },
    {
     "name": "stderr",
     "output_type": "stream",
     "text": [
      "100%|██████████| 246/246 [01:10<00:00,  3.49it/s]\n"
     ]
    },
    {
     "name": "stdout",
     "output_type": "stream",
     "text": [
      "Epoch 17/250: Train Loss: 0.5325, Train Accuracy: 69.2757, Train IOU: 0.4150, Test Loss: 0.5072, Test Accuracy: 68.0658, Test IOU: 0.3785\n"
     ]
    },
    {
     "name": "stderr",
     "output_type": "stream",
     "text": [
      "100%|██████████| 246/246 [01:08<00:00,  3.62it/s]\n"
     ]
    },
    {
     "name": "stdout",
     "output_type": "stream",
     "text": [
      "Epoch 18/250: Train Loss: 0.5364, Train Accuracy: 68.8064, Train IOU: 0.4087, Test Loss: 0.4903, Test Accuracy: 71.4570, Test IOU: 0.4622\n"
     ]
    },
    {
     "name": "stderr",
     "output_type": "stream",
     "text": [
      "100%|██████████| 246/246 [01:41<00:00,  2.43it/s]\n"
     ]
    },
    {
     "name": "stdout",
     "output_type": "stream",
     "text": [
      "Epoch 19/250: Train Loss: 0.5288, Train Accuracy: 69.4834, Train IOU: 0.4183, Test Loss: 0.4898, Test Accuracy: 70.9807, Test IOU: 0.4489\n"
     ]
    },
    {
     "name": "stderr",
     "output_type": "stream",
     "text": [
      "100%|██████████| 246/246 [01:37<00:00,  2.51it/s]\n"
     ]
    },
    {
     "name": "stdout",
     "output_type": "stream",
     "text": [
      "Epoch 20/250: Train Loss: 0.5285, Train Accuracy: 69.4378, Train IOU: 0.4191, Test Loss: 0.4867, Test Accuracy: 70.7510, Test IOU: 0.4430\n"
     ]
    },
    {
     "name": "stderr",
     "output_type": "stream",
     "text": [
      "100%|██████████| 246/246 [01:19<00:00,  3.08it/s]\n"
     ]
    },
    {
     "name": "stdout",
     "output_type": "stream",
     "text": [
      "Epoch 21/250: Train Loss: 0.5276, Train Accuracy: 69.6366, Train IOU: 0.4249, Test Loss: 0.4839, Test Accuracy: 72.2001, Test IOU: 0.4702\n"
     ]
    },
    {
     "name": "stderr",
     "output_type": "stream",
     "text": [
      "100%|██████████| 246/246 [01:04<00:00,  3.80it/s]\n"
     ]
    },
    {
     "name": "stdout",
     "output_type": "stream",
     "text": [
      "Epoch 22/250: Train Loss: 0.5243, Train Accuracy: 70.1168, Train IOU: 0.4339, Test Loss: 0.4849, Test Accuracy: 72.0351, Test IOU: 0.4639\n"
     ]
    },
    {
     "name": "stderr",
     "output_type": "stream",
     "text": [
      "100%|██████████| 246/246 [01:22<00:00,  2.97it/s]\n"
     ]
    },
    {
     "name": "stdout",
     "output_type": "stream",
     "text": [
      "Epoch 23/250: Train Loss: 0.5163, Train Accuracy: 70.9078, Train IOU: 0.4479, Test Loss: 0.4798, Test Accuracy: 71.4383, Test IOU: 0.4487\n"
     ]
    },
    {
     "name": "stderr",
     "output_type": "stream",
     "text": [
      "100%|██████████| 246/246 [01:38<00:00,  2.49it/s]\n"
     ]
    },
    {
     "name": "stdout",
     "output_type": "stream",
     "text": [
      "Epoch 24/250: Train Loss: 0.5161, Train Accuracy: 70.8633, Train IOU: 0.4471, Test Loss: 0.4797, Test Accuracy: 73.4074, Test IOU: 0.4980\n"
     ]
    },
    {
     "name": "stderr",
     "output_type": "stream",
     "text": [
      "100%|██████████| 246/246 [01:36<00:00,  2.55it/s]\n"
     ]
    },
    {
     "name": "stdout",
     "output_type": "stream",
     "text": [
      "Epoch 25/250: Train Loss: 0.5087, Train Accuracy: 72.0955, Train IOU: 0.4714, Test Loss: 0.4725, Test Accuracy: 73.7113, Test IOU: 0.5034\n"
     ]
    },
    {
     "name": "stderr",
     "output_type": "stream",
     "text": [
      "100%|██████████| 246/246 [01:04<00:00,  3.80it/s]\n"
     ]
    },
    {
     "name": "stdout",
     "output_type": "stream",
     "text": [
      "Epoch 26/250: Train Loss: 0.5227, Train Accuracy: 71.0904, Train IOU: 0.4580, Test Loss: 0.4633, Test Accuracy: 75.4939, Test IOU: 0.5408\n"
     ]
    },
    {
     "name": "stderr",
     "output_type": "stream",
     "text": [
      "100%|██████████| 246/246 [01:04<00:00,  3.81it/s]\n"
     ]
    },
    {
     "name": "stdout",
     "output_type": "stream",
     "text": [
      "Epoch 27/250: Train Loss: 0.5089, Train Accuracy: 72.3177, Train IOU: 0.4779, Test Loss: 0.4717, Test Accuracy: 72.4109, Test IOU: 0.4682\n"
     ]
    },
    {
     "name": "stderr",
     "output_type": "stream",
     "text": [
      "100%|██████████| 246/246 [01:35<00:00,  2.58it/s]\n"
     ]
    },
    {
     "name": "stdout",
     "output_type": "stream",
     "text": [
      "Epoch 28/250: Train Loss: 0.5102, Train Accuracy: 72.0872, Train IOU: 0.4767, Test Loss: 0.4647, Test Accuracy: 76.8344, Test IOU: 0.5739\n"
     ]
    },
    {
     "name": "stderr",
     "output_type": "stream",
     "text": [
      "100%|██████████| 246/246 [01:39<00:00,  2.48it/s]\n"
     ]
    },
    {
     "name": "stdout",
     "output_type": "stream",
     "text": [
      "Epoch 29/250: Train Loss: 0.5050, Train Accuracy: 72.8931, Train IOU: 0.4930, Test Loss: 0.4644, Test Accuracy: 73.3296, Test IOU: 0.4839\n"
     ]
    },
    {
     "name": "stderr",
     "output_type": "stream",
     "text": [
      "100%|██████████| 246/246 [01:20<00:00,  3.05it/s]\n"
     ]
    },
    {
     "name": "stdout",
     "output_type": "stream",
     "text": [
      "Epoch 30/250: Train Loss: 0.5047, Train Accuracy: 72.9223, Train IOU: 0.4954, Test Loss: 0.4561, Test Accuracy: 74.7352, Test IOU: 0.5207\n"
     ]
    },
    {
     "name": "stderr",
     "output_type": "stream",
     "text": [
      "100%|██████████| 246/246 [01:05<00:00,  3.76it/s]\n"
     ]
    },
    {
     "name": "stdout",
     "output_type": "stream",
     "text": [
      "Epoch 31/250: Train Loss: 0.5044, Train Accuracy: 72.9700, Train IOU: 0.4974, Test Loss: 0.4561, Test Accuracy: 75.2938, Test IOU: 0.5284\n"
     ]
    },
    {
     "name": "stderr",
     "output_type": "stream",
     "text": [
      "100%|██████████| 246/246 [01:24<00:00,  2.92it/s]\n"
     ]
    },
    {
     "name": "stdout",
     "output_type": "stream",
     "text": [
      "Epoch 32/250: Train Loss: 0.5006, Train Accuracy: 73.5312, Train IOU: 0.5064, Test Loss: 0.4485, Test Accuracy: 75.5271, Test IOU: 0.5356\n"
     ]
    },
    {
     "name": "stderr",
     "output_type": "stream",
     "text": [
      "100%|██████████| 246/246 [01:39<00:00,  2.47it/s]\n"
     ]
    },
    {
     "name": "stdout",
     "output_type": "stream",
     "text": [
      "Epoch 33/250: Train Loss: 0.5016, Train Accuracy: 73.2027, Train IOU: 0.5029, Test Loss: 0.4591, Test Accuracy: 73.8477, Test IOU: 0.4990\n"
     ]
    },
    {
     "name": "stderr",
     "output_type": "stream",
     "text": [
      "100%|██████████| 246/246 [01:38<00:00,  2.51it/s]\n"
     ]
    },
    {
     "name": "stdout",
     "output_type": "stream",
     "text": [
      "Epoch 34/250: Train Loss: 0.4987, Train Accuracy: 73.5251, Train IOU: 0.5099, Test Loss: 0.4498, Test Accuracy: 76.1126, Test IOU: 0.5498\n"
     ]
    },
    {
     "name": "stderr",
     "output_type": "stream",
     "text": [
      "100%|██████████| 246/246 [01:07<00:00,  3.63it/s]\n"
     ]
    },
    {
     "name": "stdout",
     "output_type": "stream",
     "text": [
      "Epoch 35/250: Train Loss: 0.4982, Train Accuracy: 73.8432, Train IOU: 0.5139, Test Loss: 0.4432, Test Accuracy: 76.9875, Test IOU: 0.5785\n"
     ]
    },
    {
     "name": "stderr",
     "output_type": "stream",
     "text": [
      "100%|██████████| 246/246 [01:04<00:00,  3.84it/s]\n"
     ]
    },
    {
     "name": "stdout",
     "output_type": "stream",
     "text": [
      "Epoch 36/250: Train Loss: 0.4973, Train Accuracy: 73.9184, Train IOU: 0.5157, Test Loss: 0.4586, Test Accuracy: 72.7331, Test IOU: 0.4704\n"
     ]
    },
    {
     "name": "stderr",
     "output_type": "stream",
     "text": [
      "100%|██████████| 246/246 [01:43<00:00,  2.37it/s]\n"
     ]
    },
    {
     "name": "stdout",
     "output_type": "stream",
     "text": [
      "Epoch 37/250: Train Loss: 0.4942, Train Accuracy: 74.1282, Train IOU: 0.5205, Test Loss: 0.4454, Test Accuracy: 76.3494, Test IOU: 0.5574\n"
     ]
    },
    {
     "name": "stderr",
     "output_type": "stream",
     "text": [
      "100%|██████████| 246/246 [01:43<00:00,  2.38it/s]\n"
     ]
    },
    {
     "name": "stdout",
     "output_type": "stream",
     "text": [
      "Epoch 38/250: Train Loss: 0.4914, Train Accuracy: 74.1387, Train IOU: 0.5199, Test Loss: 0.4434, Test Accuracy: 75.1922, Test IOU: 0.5259\n"
     ]
    },
    {
     "name": "stderr",
     "output_type": "stream",
     "text": [
      "100%|██████████| 246/246 [01:24<00:00,  2.91it/s]\n"
     ]
    },
    {
     "name": "stdout",
     "output_type": "stream",
     "text": [
      "Epoch 39/250: Train Loss: 0.4914, Train Accuracy: 74.2198, Train IOU: 0.5232, Test Loss: 0.4383, Test Accuracy: 77.3207, Test IOU: 0.5763\n"
     ]
    },
    {
     "name": "stderr",
     "output_type": "stream",
     "text": [
      "100%|██████████| 246/246 [01:00<00:00,  4.06it/s]\n"
     ]
    },
    {
     "name": "stdout",
     "output_type": "stream",
     "text": [
      "Epoch 40/250: Train Loss: 0.4872, Train Accuracy: 74.6322, Train IOU: 0.5316, Test Loss: 0.4433, Test Accuracy: 76.4567, Test IOU: 0.5568\n"
     ]
    },
    {
     "name": "stderr",
     "output_type": "stream",
     "text": [
      "100%|██████████| 246/246 [01:12<00:00,  3.38it/s]\n"
     ]
    },
    {
     "name": "stdout",
     "output_type": "stream",
     "text": [
      "Epoch 41/250: Train Loss: 0.4920, Train Accuracy: 74.4561, Train IOU: 0.5284, Test Loss: 0.4403, Test Accuracy: 76.6487, Test IOU: 0.5582\n"
     ]
    },
    {
     "name": "stderr",
     "output_type": "stream",
     "text": [
      "100%|██████████| 246/246 [01:37<00:00,  2.53it/s]\n"
     ]
    },
    {
     "name": "stdout",
     "output_type": "stream",
     "text": [
      "Epoch 42/250: Train Loss: 0.4889, Train Accuracy: 74.9935, Train IOU: 0.5374, Test Loss: 0.4469, Test Accuracy: 75.1966, Test IOU: 0.5215\n"
     ]
    },
    {
     "name": "stderr",
     "output_type": "stream",
     "text": [
      "100%|██████████| 246/246 [01:37<00:00,  2.51it/s]\n"
     ]
    },
    {
     "name": "stdout",
     "output_type": "stream",
     "text": [
      "Epoch 43/250: Train Loss: 0.4863, Train Accuracy: 74.8867, Train IOU: 0.5352, Test Loss: 0.4389, Test Accuracy: 76.4744, Test IOU: 0.5557\n"
     ]
    },
    {
     "name": "stderr",
     "output_type": "stream",
     "text": [
      "100%|██████████| 246/246 [01:12<00:00,  3.38it/s]\n"
     ]
    },
    {
     "name": "stdout",
     "output_type": "stream",
     "text": [
      "Epoch 44/250: Train Loss: 0.4878, Train Accuracy: 74.7027, Train IOU: 0.5332, Test Loss: 0.4408, Test Accuracy: 76.5633, Test IOU: 0.5595\n"
     ]
    },
    {
     "name": "stderr",
     "output_type": "stream",
     "text": [
      "100%|██████████| 246/246 [01:02<00:00,  3.95it/s]\n"
     ]
    },
    {
     "name": "stdout",
     "output_type": "stream",
     "text": [
      "Epoch 45/250: Train Loss: 0.4909, Train Accuracy: 74.4947, Train IOU: 0.5298, Test Loss: 0.4373, Test Accuracy: 76.0451, Test IOU: 0.5446\n"
     ]
    },
    {
     "name": "stderr",
     "output_type": "stream",
     "text": [
      "100%|██████████| 246/246 [01:29<00:00,  2.76it/s]\n"
     ]
    },
    {
     "name": "stdout",
     "output_type": "stream",
     "text": [
      "Epoch 46/250: Train Loss: 0.4831, Train Accuracy: 75.2798, Train IOU: 0.5418, Test Loss: 0.4421, Test Accuracy: 78.6816, Test IOU: 0.6117\n"
     ]
    },
    {
     "name": "stderr",
     "output_type": "stream",
     "text": [
      "100%|██████████| 246/246 [01:39<00:00,  2.46it/s]\n"
     ]
    },
    {
     "name": "stdout",
     "output_type": "stream",
     "text": [
      "Epoch 47/250: Train Loss: 0.4836, Train Accuracy: 74.8631, Train IOU: 0.5379, Test Loss: 0.4360, Test Accuracy: 76.9936, Test IOU: 0.5671\n"
     ]
    },
    {
     "name": "stderr",
     "output_type": "stream",
     "text": [
      "100%|██████████| 246/246 [01:32<00:00,  2.65it/s]\n"
     ]
    },
    {
     "name": "stdout",
     "output_type": "stream",
     "text": [
      "Epoch 48/250: Train Loss: 0.4834, Train Accuracy: 74.8456, Train IOU: 0.5369, Test Loss: 0.4271, Test Accuracy: 78.9999, Test IOU: 0.6117\n"
     ]
    },
    {
     "name": "stderr",
     "output_type": "stream",
     "text": [
      "100%|██████████| 246/246 [01:08<00:00,  3.57it/s]\n"
     ]
    },
    {
     "name": "stdout",
     "output_type": "stream",
     "text": [
      "Epoch 49/250: Train Loss: 0.4843, Train Accuracy: 74.7310, Train IOU: 0.5335, Test Loss: 0.4292, Test Accuracy: 78.6706, Test IOU: 0.6032\n"
     ]
    },
    {
     "name": "stderr",
     "output_type": "stream",
     "text": [
      "100%|██████████| 246/246 [01:11<00:00,  3.42it/s]\n"
     ]
    },
    {
     "name": "stdout",
     "output_type": "stream",
     "text": [
      "Epoch 50/250: Train Loss: 0.4811, Train Accuracy: 75.2008, Train IOU: 0.5403, Test Loss: 0.4256, Test Accuracy: 78.0593, Test IOU: 0.5880\n"
     ]
    },
    {
     "name": "stderr",
     "output_type": "stream",
     "text": [
      "100%|██████████| 246/246 [01:39<00:00,  2.47it/s]\n"
     ]
    },
    {
     "name": "stdout",
     "output_type": "stream",
     "text": [
      "Epoch 51/250: Train Loss: 0.4818, Train Accuracy: 75.1314, Train IOU: 0.5415, Test Loss: 0.4624, Test Accuracy: 73.7260, Test IOU: 0.4997\n"
     ]
    },
    {
     "name": "stderr",
     "output_type": "stream",
     "text": [
      "100%|██████████| 246/246 [01:40<00:00,  2.46it/s]\n"
     ]
    },
    {
     "name": "stdout",
     "output_type": "stream",
     "text": [
      "Epoch 52/250: Train Loss: 0.4901, Train Accuracy: 74.3191, Train IOU: 0.5306, Test Loss: 0.4419, Test Accuracy: 76.7034, Test IOU: 0.5641\n"
     ]
    },
    {
     "name": "stderr",
     "output_type": "stream",
     "text": [
      "100%|██████████| 246/246 [01:15<00:00,  3.26it/s]\n"
     ]
    },
    {
     "name": "stdout",
     "output_type": "stream",
     "text": [
      "Epoch 53/250: Train Loss: 0.4922, Train Accuracy: 74.3263, Train IOU: 0.5315, Test Loss: 0.4472, Test Accuracy: 77.2777, Test IOU: 0.5909\n"
     ]
    },
    {
     "name": "stderr",
     "output_type": "stream",
     "text": [
      "100%|██████████| 246/246 [01:06<00:00,  3.73it/s]\n"
     ]
    },
    {
     "name": "stdout",
     "output_type": "stream",
     "text": [
      "Epoch 54/250: Train Loss: 0.4958, Train Accuracy: 74.2506, Train IOU: 0.5284, Test Loss: 0.4501, Test Accuracy: 76.2113, Test IOU: 0.5619\n"
     ]
    },
    {
     "name": "stderr",
     "output_type": "stream",
     "text": [
      "100%|██████████| 246/246 [01:36<00:00,  2.56it/s]\n"
     ]
    },
    {
     "name": "stdout",
     "output_type": "stream",
     "text": [
      "Epoch 55/250: Train Loss: 0.5027, Train Accuracy: 73.8820, Train IOU: 0.5222, Test Loss: 0.4513, Test Accuracy: 75.9381, Test IOU: 0.5583\n"
     ]
    },
    {
     "name": "stderr",
     "output_type": "stream",
     "text": [
      "100%|██████████| 246/246 [01:39<00:00,  2.46it/s]\n"
     ]
    },
    {
     "name": "stdout",
     "output_type": "stream",
     "text": [
      "Epoch 56/250: Train Loss: 0.5015, Train Accuracy: 73.6981, Train IOU: 0.5182, Test Loss: 0.4252, Test Accuracy: 79.5472, Test IOU: 0.6240\n"
     ]
    },
    {
     "name": "stderr",
     "output_type": "stream",
     "text": [
      "100%|██████████| 246/246 [01:32<00:00,  2.67it/s]\n"
     ]
    },
    {
     "name": "stdout",
     "output_type": "stream",
     "text": [
      "Epoch 57/250: Train Loss: 0.4951, Train Accuracy: 74.0149, Train IOU: 0.5208, Test Loss: 0.4161, Test Accuracy: 79.3417, Test IOU: 0.6131\n"
     ]
    },
    {
     "name": "stderr",
     "output_type": "stream",
     "text": [
      "100%|██████████| 246/246 [01:08<00:00,  3.61it/s]\n"
     ]
    },
    {
     "name": "stdout",
     "output_type": "stream",
     "text": [
      "Epoch 58/250: Train Loss: 0.4910, Train Accuracy: 74.3067, Train IOU: 0.5253, Test Loss: 0.4364, Test Accuracy: 77.2436, Test IOU: 0.5721\n"
     ]
    },
    {
     "name": "stderr",
     "output_type": "stream",
     "text": [
      "100%|██████████| 246/246 [01:14<00:00,  3.32it/s]\n"
     ]
    },
    {
     "name": "stdout",
     "output_type": "stream",
     "text": [
      "Epoch 59/250: Train Loss: 0.4893, Train Accuracy: 74.4154, Train IOU: 0.5274, Test Loss: 0.4367, Test Accuracy: 77.4963, Test IOU: 0.5781\n"
     ]
    },
    {
     "name": "stderr",
     "output_type": "stream",
     "text": [
      "100%|██████████| 246/246 [01:39<00:00,  2.46it/s]\n"
     ]
    },
    {
     "name": "stdout",
     "output_type": "stream",
     "text": [
      "Epoch 60/250: Train Loss: 0.4935, Train Accuracy: 73.8704, Train IOU: 0.5198, Test Loss: 0.4512, Test Accuracy: 73.4596, Test IOU: 0.4857\n"
     ]
    },
    {
     "name": "stderr",
     "output_type": "stream",
     "text": [
      "100%|██████████| 246/246 [01:39<00:00,  2.46it/s]\n"
     ]
    },
    {
     "name": "stdout",
     "output_type": "stream",
     "text": [
      "Epoch 61/250: Train Loss: 0.4888, Train Accuracy: 74.4887, Train IOU: 0.5305, Test Loss: 0.4402, Test Accuracy: 79.0627, Test IOU: 0.6216\n"
     ]
    },
    {
     "name": "stderr",
     "output_type": "stream",
     "text": [
      "100%|██████████| 246/246 [01:13<00:00,  3.35it/s]\n"
     ]
    },
    {
     "name": "stdout",
     "output_type": "stream",
     "text": [
      "Epoch 62/250: Train Loss: 0.4995, Train Accuracy: 73.3383, Train IOU: 0.5102, Test Loss: 0.4513, Test Accuracy: 75.0324, Test IOU: 0.5301\n"
     ]
    },
    {
     "name": "stderr",
     "output_type": "stream",
     "text": [
      "100%|██████████| 246/246 [01:06<00:00,  3.72it/s]\n"
     ]
    },
    {
     "name": "stdout",
     "output_type": "stream",
     "text": [
      "Epoch 63/250: Train Loss: 0.4963, Train Accuracy: 73.5853, Train IOU: 0.5135, Test Loss: 0.4560, Test Accuracy: 74.2464, Test IOU: 0.5228\n"
     ]
    },
    {
     "name": "stderr",
     "output_type": "stream",
     "text": [
      "100%|██████████| 246/246 [01:32<00:00,  2.66it/s]\n"
     ]
    },
    {
     "name": "stdout",
     "output_type": "stream",
     "text": [
      "Epoch 64/250: Train Loss: 0.4970, Train Accuracy: 73.5858, Train IOU: 0.5126, Test Loss: 0.4604, Test Accuracy: 77.0781, Test IOU: 0.5905\n"
     ]
    },
    {
     "name": "stderr",
     "output_type": "stream",
     "text": [
      "100%|██████████| 246/246 [01:42<00:00,  2.41it/s]\n"
     ]
    },
    {
     "name": "stdout",
     "output_type": "stream",
     "text": [
      "Epoch 65/250: Train Loss: 0.4926, Train Accuracy: 73.4706, Train IOU: 0.5112, Test Loss: 0.4663, Test Accuracy: 73.7020, Test IOU: 0.5178\n"
     ]
    },
    {
     "name": "stderr",
     "output_type": "stream",
     "text": [
      "100%|██████████| 246/246 [01:38<00:00,  2.50it/s]\n"
     ]
    },
    {
     "name": "stdout",
     "output_type": "stream",
     "text": [
      "Epoch 66/250: Train Loss: 0.4940, Train Accuracy: 73.6131, Train IOU: 0.5156, Test Loss: 0.4510, Test Accuracy: 76.8713, Test IOU: 0.5847\n"
     ]
    },
    {
     "name": "stderr",
     "output_type": "stream",
     "text": [
      "100%|██████████| 246/246 [01:10<00:00,  3.50it/s]\n"
     ]
    },
    {
     "name": "stdout",
     "output_type": "stream",
     "text": [
      "Epoch 67/250: Train Loss: 0.4904, Train Accuracy: 74.0770, Train IOU: 0.5253, Test Loss: 0.4521, Test Accuracy: 77.0408, Test IOU: 0.5878\n"
     ]
    },
    {
     "name": "stderr",
     "output_type": "stream",
     "text": [
      "100%|██████████| 246/246 [01:00<00:00,  4.07it/s]\n"
     ]
    },
    {
     "name": "stdout",
     "output_type": "stream",
     "text": [
      "Epoch 68/250: Train Loss: 0.4961, Train Accuracy: 73.9646, Train IOU: 0.5239, Test Loss: 0.4561, Test Accuracy: 76.2228, Test IOU: 0.5641\n"
     ]
    },
    {
     "name": "stderr",
     "output_type": "stream",
     "text": [
      "100%|██████████| 246/246 [01:00<00:00,  4.09it/s]\n"
     ]
    },
    {
     "name": "stdout",
     "output_type": "stream",
     "text": [
      "Epoch 69/250: Train Loss: 0.4885, Train Accuracy: 74.6866, Train IOU: 0.5359, Test Loss: 0.4472, Test Accuracy: 76.4620, Test IOU: 0.5663\n"
     ]
    },
    {
     "name": "stderr",
     "output_type": "stream",
     "text": [
      "100%|██████████| 246/246 [01:01<00:00,  4.00it/s]\n"
     ]
    },
    {
     "name": "stdout",
     "output_type": "stream",
     "text": [
      "Epoch 70/250: Train Loss: 0.4885, Train Accuracy: 74.9432, Train IOU: 0.5415, Test Loss: 0.4444, Test Accuracy: 76.8923, Test IOU: 0.5821\n"
     ]
    },
    {
     "name": "stderr",
     "output_type": "stream",
     "text": [
      "100%|██████████| 246/246 [01:01<00:00,  4.03it/s]\n"
     ]
    },
    {
     "name": "stdout",
     "output_type": "stream",
     "text": [
      "Epoch 71/250: Train Loss: 0.4846, Train Accuracy: 75.0805, Train IOU: 0.5424, Test Loss: 0.4366, Test Accuracy: 77.0651, Test IOU: 0.5718\n"
     ]
    },
    {
     "name": "stderr",
     "output_type": "stream",
     "text": [
      "100%|██████████| 246/246 [01:32<00:00,  2.66it/s]\n"
     ]
    },
    {
     "name": "stdout",
     "output_type": "stream",
     "text": [
      "Epoch 72/250: Train Loss: 0.4838, Train Accuracy: 75.1011, Train IOU: 0.5440, Test Loss: 0.4406, Test Accuracy: 76.8683, Test IOU: 0.5738\n"
     ]
    },
    {
     "name": "stderr",
     "output_type": "stream",
     "text": [
      "100%|██████████| 246/246 [01:40<00:00,  2.46it/s]\n"
     ]
    },
    {
     "name": "stdout",
     "output_type": "stream",
     "text": [
      "Epoch 73/250: Train Loss: 0.4843, Train Accuracy: 75.0614, Train IOU: 0.5446, Test Loss: 0.4395, Test Accuracy: 79.7407, Test IOU: 0.6509\n"
     ]
    },
    {
     "name": "stderr",
     "output_type": "stream",
     "text": [
      "100%|██████████| 246/246 [01:28<00:00,  2.78it/s]\n"
     ]
    },
    {
     "name": "stdout",
     "output_type": "stream",
     "text": [
      "Epoch 74/250: Train Loss: 0.4809, Train Accuracy: 75.4346, Train IOU: 0.5501, Test Loss: 0.4328, Test Accuracy: 79.3734, Test IOU: 0.6301\n"
     ]
    },
    {
     "name": "stderr",
     "output_type": "stream",
     "text": [
      "100%|██████████| 246/246 [01:02<00:00,  3.94it/s]\n"
     ]
    },
    {
     "name": "stdout",
     "output_type": "stream",
     "text": [
      "Epoch 75/250: Train Loss: 0.4785, Train Accuracy: 75.4432, Train IOU: 0.5531, Test Loss: 0.4247, Test Accuracy: 78.7664, Test IOU: 0.6056\n"
     ]
    },
    {
     "name": "stderr",
     "output_type": "stream",
     "text": [
      "100%|██████████| 246/246 [01:08<00:00,  3.61it/s]\n"
     ]
    },
    {
     "name": "stdout",
     "output_type": "stream",
     "text": [
      "Epoch 76/250: Train Loss: 0.4867, Train Accuracy: 74.8079, Train IOU: 0.5403, Test Loss: 0.4668, Test Accuracy: 74.7446, Test IOU: 0.5320\n"
     ]
    },
    {
     "name": "stderr",
     "output_type": "stream",
     "text": [
      "100%|██████████| 246/246 [01:38<00:00,  2.49it/s]\n"
     ]
    },
    {
     "name": "stdout",
     "output_type": "stream",
     "text": [
      "Epoch 77/250: Train Loss: 0.4959, Train Accuracy: 74.2234, Train IOU: 0.5332, Test Loss: 0.4422, Test Accuracy: 78.5198, Test IOU: 0.6136\n"
     ]
    },
    {
     "name": "stderr",
     "output_type": "stream",
     "text": [
      "100%|██████████| 246/246 [01:38<00:00,  2.51it/s]\n"
     ]
    },
    {
     "name": "stdout",
     "output_type": "stream",
     "text": [
      "Epoch 78/250: Train Loss: 0.4995, Train Accuracy: 73.7979, Train IOU: 0.5260, Test Loss: 0.4351, Test Accuracy: 78.3891, Test IOU: 0.6036\n"
     ]
    },
    {
     "name": "stderr",
     "output_type": "stream",
     "text": [
      "100%|██████████| 246/246 [01:10<00:00,  3.48it/s]\n"
     ]
    },
    {
     "name": "stdout",
     "output_type": "stream",
     "text": [
      "Epoch 79/250: Train Loss: 0.4885, Train Accuracy: 74.9034, Train IOU: 0.5414, Test Loss: 0.4437, Test Accuracy: 76.3385, Test IOU: 0.5620\n"
     ]
    },
    {
     "name": "stderr",
     "output_type": "stream",
     "text": [
      "100%|██████████| 246/246 [01:03<00:00,  3.89it/s]\n"
     ]
    },
    {
     "name": "stdout",
     "output_type": "stream",
     "text": [
      "Epoch 80/250: Train Loss: 0.4854, Train Accuracy: 74.7320, Train IOU: 0.5400, Test Loss: 0.4346, Test Accuracy: 77.7156, Test IOU: 0.5899\n"
     ]
    },
    {
     "name": "stderr",
     "output_type": "stream",
     "text": [
      "100%|██████████| 246/246 [01:23<00:00,  2.94it/s]\n"
     ]
    },
    {
     "name": "stdout",
     "output_type": "stream",
     "text": [
      "Epoch 81/250: Train Loss: 0.4801, Train Accuracy: 75.5400, Train IOU: 0.5524, Test Loss: 0.4422, Test Accuracy: 78.0569, Test IOU: 0.6061\n"
     ]
    },
    {
     "name": "stderr",
     "output_type": "stream",
     "text": [
      "100%|██████████| 246/246 [01:36<00:00,  2.54it/s]\n"
     ]
    },
    {
     "name": "stdout",
     "output_type": "stream",
     "text": [
      "Epoch 82/250: Train Loss: 0.4774, Train Accuracy: 75.5199, Train IOU: 0.5533, Test Loss: 0.4085, Test Accuracy: 80.5137, Test IOU: 0.6440\n"
     ]
    },
    {
     "name": "stderr",
     "output_type": "stream",
     "text": [
      "100%|██████████| 246/246 [01:31<00:00,  2.67it/s]\n"
     ]
    },
    {
     "name": "stdout",
     "output_type": "stream",
     "text": [
      "Epoch 83/250: Train Loss: 0.4691, Train Accuracy: 76.5275, Train IOU: 0.5702, Test Loss: 0.4246, Test Accuracy: 79.6835, Test IOU: 0.6314\n"
     ]
    },
    {
     "name": "stderr",
     "output_type": "stream",
     "text": [
      "100%|██████████| 246/246 [01:01<00:00,  4.03it/s]\n"
     ]
    },
    {
     "name": "stdout",
     "output_type": "stream",
     "text": [
      "Epoch 84/250: Train Loss: 0.4673, Train Accuracy: 76.6498, Train IOU: 0.5719, Test Loss: 0.4148, Test Accuracy: 79.4915, Test IOU: 0.6142\n"
     ]
    },
    {
     "name": "stderr",
     "output_type": "stream",
     "text": [
      "100%|██████████| 246/246 [01:03<00:00,  3.86it/s]\n"
     ]
    },
    {
     "name": "stdout",
     "output_type": "stream",
     "text": [
      "Epoch 85/250: Train Loss: 0.4659, Train Accuracy: 76.4592, Train IOU: 0.5675, Test Loss: 0.4148, Test Accuracy: 80.5082, Test IOU: 0.6432\n"
     ]
    },
    {
     "name": "stderr",
     "output_type": "stream",
     "text": [
      "100%|██████████| 246/246 [01:39<00:00,  2.48it/s]\n"
     ]
    },
    {
     "name": "stdout",
     "output_type": "stream",
     "text": [
      "Epoch 86/250: Train Loss: 0.4672, Train Accuracy: 76.2690, Train IOU: 0.5626, Test Loss: 0.4212, Test Accuracy: 79.7037, Test IOU: 0.6287\n"
     ]
    },
    {
     "name": "stderr",
     "output_type": "stream",
     "text": [
      "100%|██████████| 246/246 [01:38<00:00,  2.49it/s]\n"
     ]
    },
    {
     "name": "stdout",
     "output_type": "stream",
     "text": [
      "Epoch 87/250: Train Loss: 0.4724, Train Accuracy: 75.8736, Train IOU: 0.5570, Test Loss: 0.4203, Test Accuracy: 80.0603, Test IOU: 0.6353\n"
     ]
    },
    {
     "name": "stderr",
     "output_type": "stream",
     "text": [
      "100%|██████████| 246/246 [01:17<00:00,  3.17it/s]\n"
     ]
    },
    {
     "name": "stdout",
     "output_type": "stream",
     "text": [
      "Epoch 88/250: Train Loss: 0.4699, Train Accuracy: 76.2375, Train IOU: 0.5634, Test Loss: 0.4206, Test Accuracy: 78.9092, Test IOU: 0.6124\n"
     ]
    },
    {
     "name": "stderr",
     "output_type": "stream",
     "text": [
      "100%|██████████| 246/246 [01:02<00:00,  3.91it/s]\n"
     ]
    },
    {
     "name": "stdout",
     "output_type": "stream",
     "text": [
      "Epoch 89/250: Train Loss: 0.4634, Train Accuracy: 76.6752, Train IOU: 0.5713, Test Loss: 0.4210, Test Accuracy: 79.8270, Test IOU: 0.6363\n"
     ]
    },
    {
     "name": "stderr",
     "output_type": "stream",
     "text": [
      "100%|██████████| 246/246 [01:19<00:00,  3.10it/s]\n"
     ]
    },
    {
     "name": "stdout",
     "output_type": "stream",
     "text": [
      "Epoch 90/250: Train Loss: 0.4640, Train Accuracy: 76.5895, Train IOU: 0.5713, Test Loss: 0.4153, Test Accuracy: 81.1293, Test IOU: 0.6684\n"
     ]
    },
    {
     "name": "stderr",
     "output_type": "stream",
     "text": [
      "100%|██████████| 246/246 [01:37<00:00,  2.51it/s]\n"
     ]
    },
    {
     "name": "stdout",
     "output_type": "stream",
     "text": [
      "Epoch 91/250: Train Loss: 0.4636, Train Accuracy: 76.7382, Train IOU: 0.5742, Test Loss: 0.4073, Test Accuracy: 80.1191, Test IOU: 0.6282\n"
     ]
    },
    {
     "name": "stderr",
     "output_type": "stream",
     "text": [
      "100%|██████████| 246/246 [01:37<00:00,  2.53it/s]\n"
     ]
    },
    {
     "name": "stdout",
     "output_type": "stream",
     "text": [
      "Epoch 92/250: Train Loss: 0.4609, Train Accuracy: 77.0613, Train IOU: 0.5776, Test Loss: 0.4217, Test Accuracy: 81.5502, Test IOU: 0.6757\n"
     ]
    },
    {
     "name": "stderr",
     "output_type": "stream",
     "text": [
      "100%|██████████| 246/246 [01:03<00:00,  3.86it/s]\n"
     ]
    },
    {
     "name": "stdout",
     "output_type": "stream",
     "text": [
      "Epoch 93/250: Train Loss: 0.4577, Train Accuracy: 76.7608, Train IOU: 0.5716, Test Loss: 0.4159, Test Accuracy: 80.6113, Test IOU: 0.6463\n"
     ]
    },
    {
     "name": "stderr",
     "output_type": "stream",
     "text": [
      "100%|██████████| 246/246 [01:01<00:00,  3.98it/s]\n"
     ]
    },
    {
     "name": "stdout",
     "output_type": "stream",
     "text": [
      "Epoch 94/250: Train Loss: 0.4660, Train Accuracy: 76.3638, Train IOU: 0.5679, Test Loss: 0.4113, Test Accuracy: 79.4879, Test IOU: 0.6197\n"
     ]
    },
    {
     "name": "stderr",
     "output_type": "stream",
     "text": [
      "100%|██████████| 246/246 [01:36<00:00,  2.55it/s]\n"
     ]
    },
    {
     "name": "stdout",
     "output_type": "stream",
     "text": [
      "Epoch 95/250: Train Loss: 0.4683, Train Accuracy: 76.1891, Train IOU: 0.5641, Test Loss: 0.4240, Test Accuracy: 81.1823, Test IOU: 0.6686\n"
     ]
    },
    {
     "name": "stderr",
     "output_type": "stream",
     "text": [
      "100%|██████████| 246/246 [01:37<00:00,  2.52it/s]\n"
     ]
    },
    {
     "name": "stdout",
     "output_type": "stream",
     "text": [
      "Epoch 96/250: Train Loss: 0.4649, Train Accuracy: 76.1435, Train IOU: 0.5630, Test Loss: 0.4055, Test Accuracy: 80.7118, Test IOU: 0.6451\n"
     ]
    },
    {
     "name": "stderr",
     "output_type": "stream",
     "text": [
      "100%|██████████| 246/246 [01:24<00:00,  2.93it/s]\n"
     ]
    },
    {
     "name": "stdout",
     "output_type": "stream",
     "text": [
      "Epoch 97/250: Train Loss: 0.4657, Train Accuracy: 76.3794, Train IOU: 0.5668, Test Loss: 0.4138, Test Accuracy: 81.2960, Test IOU: 0.6620\n"
     ]
    },
    {
     "name": "stderr",
     "output_type": "stream",
     "text": [
      "100%|██████████| 246/246 [01:04<00:00,  3.81it/s]\n"
     ]
    },
    {
     "name": "stdout",
     "output_type": "stream",
     "text": [
      "Epoch 98/250: Train Loss: 0.4622, Train Accuracy: 76.4446, Train IOU: 0.5689, Test Loss: 0.4047, Test Accuracy: 80.5543, Test IOU: 0.6407\n"
     ]
    },
    {
     "name": "stderr",
     "output_type": "stream",
     "text": [
      "100%|██████████| 246/246 [01:15<00:00,  3.28it/s]\n"
     ]
    },
    {
     "name": "stdout",
     "output_type": "stream",
     "text": [
      "Epoch 99/250: Train Loss: 0.4767, Train Accuracy: 75.2437, Train IOU: 0.5454, Test Loss: 0.4399, Test Accuracy: 78.8394, Test IOU: 0.6180\n"
     ]
    },
    {
     "name": "stderr",
     "output_type": "stream",
     "text": [
      "100%|██████████| 246/246 [01:37<00:00,  2.51it/s]\n"
     ]
    },
    {
     "name": "stdout",
     "output_type": "stream",
     "text": [
      "Epoch 100/250: Train Loss: 0.4757, Train Accuracy: 75.3383, Train IOU: 0.5494, Test Loss: 0.4224, Test Accuracy: 79.3354, Test IOU: 0.6181\n"
     ]
    },
    {
     "name": "stderr",
     "output_type": "stream",
     "text": [
      "100%|██████████| 246/246 [01:37<00:00,  2.52it/s]\n"
     ]
    },
    {
     "name": "stdout",
     "output_type": "stream",
     "text": [
      "Epoch 101/250: Train Loss: 0.4728, Train Accuracy: 75.6745, Train IOU: 0.5553, Test Loss: 0.4233, Test Accuracy: 79.6555, Test IOU: 0.6294\n"
     ]
    },
    {
     "name": "stderr",
     "output_type": "stream",
     "text": [
      "100%|██████████| 246/246 [01:05<00:00,  3.74it/s]\n"
     ]
    },
    {
     "name": "stdout",
     "output_type": "stream",
     "text": [
      "Epoch 102/250: Train Loss: 0.4750, Train Accuracy: 75.5259, Train IOU: 0.5521, Test Loss: 0.4199, Test Accuracy: 80.0828, Test IOU: 0.6405\n"
     ]
    },
    {
     "name": "stderr",
     "output_type": "stream",
     "text": [
      "100%|██████████| 246/246 [01:01<00:00,  3.99it/s]\n"
     ]
    },
    {
     "name": "stdout",
     "output_type": "stream",
     "text": [
      "Epoch 103/250: Train Loss: 0.4695, Train Accuracy: 75.9181, Train IOU: 0.5601, Test Loss: 0.4215, Test Accuracy: 79.0278, Test IOU: 0.6139\n"
     ]
    },
    {
     "name": "stderr",
     "output_type": "stream",
     "text": [
      "100%|██████████| 246/246 [01:30<00:00,  2.71it/s]\n"
     ]
    },
    {
     "name": "stdout",
     "output_type": "stream",
     "text": [
      "Epoch 104/250: Train Loss: 0.4664, Train Accuracy: 76.3229, Train IOU: 0.5661, Test Loss: 0.4443, Test Accuracy: 78.8283, Test IOU: 0.6212\n"
     ]
    },
    {
     "name": "stderr",
     "output_type": "stream",
     "text": [
      "100%|██████████| 246/246 [01:38<00:00,  2.50it/s]\n"
     ]
    },
    {
     "name": "stdout",
     "output_type": "stream",
     "text": [
      "Epoch 105/250: Train Loss: 0.4688, Train Accuracy: 75.9781, Train IOU: 0.5608, Test Loss: 0.4259, Test Accuracy: 78.0384, Test IOU: 0.5918\n"
     ]
    },
    {
     "name": "stderr",
     "output_type": "stream",
     "text": [
      "100%|██████████| 246/246 [01:25<00:00,  2.87it/s]\n"
     ]
    },
    {
     "name": "stdout",
     "output_type": "stream",
     "text": [
      "Epoch 106/250: Train Loss: 0.4604, Train Accuracy: 76.7038, Train IOU: 0.5726, Test Loss: 0.4098, Test Accuracy: 80.5371, Test IOU: 0.6376\n"
     ]
    },
    {
     "name": "stderr",
     "output_type": "stream",
     "text": [
      "100%|██████████| 246/246 [01:00<00:00,  4.06it/s]\n"
     ]
    },
    {
     "name": "stdout",
     "output_type": "stream",
     "text": [
      "Epoch 107/250: Train Loss: 0.4628, Train Accuracy: 76.5451, Train IOU: 0.5707, Test Loss: 0.4160, Test Accuracy: 79.9591, Test IOU: 0.6295\n"
     ]
    },
    {
     "name": "stderr",
     "output_type": "stream",
     "text": [
      "100%|██████████| 246/246 [01:05<00:00,  3.78it/s]\n"
     ]
    },
    {
     "name": "stdout",
     "output_type": "stream",
     "text": [
      "Epoch 108/250: Train Loss: 0.4580, Train Accuracy: 77.1653, Train IOU: 0.5811, Test Loss: 0.4112, Test Accuracy: 78.6063, Test IOU: 0.5913\n"
     ]
    },
    {
     "name": "stderr",
     "output_type": "stream",
     "text": [
      "100%|██████████| 246/246 [01:37<00:00,  2.51it/s]\n"
     ]
    },
    {
     "name": "stdout",
     "output_type": "stream",
     "text": [
      "Epoch 109/250: Train Loss: 0.4627, Train Accuracy: 76.5246, Train IOU: 0.5692, Test Loss: 0.4124, Test Accuracy: 79.3810, Test IOU: 0.6132\n"
     ]
    },
    {
     "name": "stderr",
     "output_type": "stream",
     "text": [
      "100%|██████████| 246/246 [01:36<00:00,  2.55it/s]\n"
     ]
    },
    {
     "name": "stdout",
     "output_type": "stream",
     "text": [
      "Epoch 110/250: Train Loss: 0.4594, Train Accuracy: 76.8364, Train IOU: 0.5741, Test Loss: 0.4109, Test Accuracy: 79.5403, Test IOU: 0.6148\n"
     ]
    },
    {
     "name": "stderr",
     "output_type": "stream",
     "text": [
      "100%|██████████| 246/246 [01:11<00:00,  3.44it/s]\n"
     ]
    },
    {
     "name": "stdout",
     "output_type": "stream",
     "text": [
      "Epoch 111/250: Train Loss: 0.4610, Train Accuracy: 76.6605, Train IOU: 0.5729, Test Loss: 0.4069, Test Accuracy: 80.4567, Test IOU: 0.6378\n"
     ]
    },
    {
     "name": "stderr",
     "output_type": "stream",
     "text": [
      "100%|██████████| 246/246 [00:59<00:00,  4.13it/s]\n"
     ]
    },
    {
     "name": "stdout",
     "output_type": "stream",
     "text": [
      "Epoch 112/250: Train Loss: 0.4594, Train Accuracy: 76.9359, Train IOU: 0.5775, Test Loss: 0.4137, Test Accuracy: 78.8179, Test IOU: 0.6025\n"
     ]
    },
    {
     "name": "stderr",
     "output_type": "stream",
     "text": [
      "100%|██████████| 246/246 [01:15<00:00,  3.24it/s]\n"
     ]
    },
    {
     "name": "stdout",
     "output_type": "stream",
     "text": [
      "Epoch 113/250: Train Loss: 0.4604, Train Accuracy: 76.6662, Train IOU: 0.5727, Test Loss: 0.4248, Test Accuracy: 78.9784, Test IOU: 0.6262\n"
     ]
    },
    {
     "name": "stderr",
     "output_type": "stream",
     "text": [
      "100%|██████████| 246/246 [01:35<00:00,  2.58it/s]\n"
     ]
    },
    {
     "name": "stdout",
     "output_type": "stream",
     "text": [
      "Epoch 114/250: Train Loss: 0.4597, Train Accuracy: 76.8539, Train IOU: 0.5761, Test Loss: 0.4259, Test Accuracy: 80.8850, Test IOU: 0.6661\n"
     ]
    },
    {
     "name": "stderr",
     "output_type": "stream",
     "text": [
      "100%|██████████| 246/246 [01:35<00:00,  2.58it/s]\n"
     ]
    },
    {
     "name": "stdout",
     "output_type": "stream",
     "text": [
      "Epoch 115/250: Train Loss: 0.4590, Train Accuracy: 76.9584, Train IOU: 0.5759, Test Loss: 0.4172, Test Accuracy: 80.0932, Test IOU: 0.6368\n"
     ]
    },
    {
     "name": "stderr",
     "output_type": "stream",
     "text": [
      "100%|██████████| 246/246 [01:00<00:00,  4.04it/s]\n"
     ]
    },
    {
     "name": "stdout",
     "output_type": "stream",
     "text": [
      "Epoch 116/250: Train Loss: 0.4568, Train Accuracy: 77.3414, Train IOU: 0.5856, Test Loss: 0.4153, Test Accuracy: 80.5372, Test IOU: 0.6528\n"
     ]
    },
    {
     "name": "stderr",
     "output_type": "stream",
     "text": [
      "100%|██████████| 246/246 [00:59<00:00,  4.15it/s]\n"
     ]
    },
    {
     "name": "stdout",
     "output_type": "stream",
     "text": [
      "Epoch 117/250: Train Loss: 0.4561, Train Accuracy: 77.1521, Train IOU: 0.5816, Test Loss: 0.4429, Test Accuracy: 80.4511, Test IOU: 0.6664\n"
     ]
    },
    {
     "name": "stderr",
     "output_type": "stream",
     "text": [
      "100%|██████████| 246/246 [01:27<00:00,  2.80it/s]\n"
     ]
    },
    {
     "name": "stdout",
     "output_type": "stream",
     "text": [
      "Epoch 118/250: Train Loss: 0.4526, Train Accuracy: 77.5404, Train IOU: 0.5886, Test Loss: 0.4116, Test Accuracy: 80.2166, Test IOU: 0.6352\n"
     ]
    },
    {
     "name": "stderr",
     "output_type": "stream",
     "text": [
      "100%|██████████| 246/246 [01:37<00:00,  2.52it/s]\n"
     ]
    },
    {
     "name": "stdout",
     "output_type": "stream",
     "text": [
      "Epoch 119/250: Train Loss: 0.4552, Train Accuracy: 77.5270, Train IOU: 0.5878, Test Loss: 0.4076, Test Accuracy: 81.6749, Test IOU: 0.6716\n"
     ]
    },
    {
     "name": "stderr",
     "output_type": "stream",
     "text": [
      "100%|██████████| 246/246 [01:26<00:00,  2.83it/s]\n"
     ]
    },
    {
     "name": "stdout",
     "output_type": "stream",
     "text": [
      "Epoch 120/250: Train Loss: 0.4619, Train Accuracy: 76.7854, Train IOU: 0.5754, Test Loss: 0.4007, Test Accuracy: 80.7710, Test IOU: 0.6442\n"
     ]
    },
    {
     "name": "stderr",
     "output_type": "stream",
     "text": [
      "100%|██████████| 246/246 [01:01<00:00,  3.97it/s]\n"
     ]
    },
    {
     "name": "stdout",
     "output_type": "stream",
     "text": [
      "Epoch 121/250: Train Loss: 0.4500, Train Accuracy: 77.5043, Train IOU: 0.5870, Test Loss: 0.4104, Test Accuracy: 80.2367, Test IOU: 0.6380\n"
     ]
    },
    {
     "name": "stderr",
     "output_type": "stream",
     "text": [
      "100%|██████████| 246/246 [01:02<00:00,  3.96it/s]\n"
     ]
    },
    {
     "name": "stdout",
     "output_type": "stream",
     "text": [
      "Epoch 122/250: Train Loss: 0.4536, Train Accuracy: 77.4757, Train IOU: 0.5862, Test Loss: 0.4019, Test Accuracy: 79.4794, Test IOU: 0.6112\n"
     ]
    },
    {
     "name": "stderr",
     "output_type": "stream",
     "text": [
      "100%|██████████| 246/246 [01:37<00:00,  2.52it/s]\n"
     ]
    },
    {
     "name": "stdout",
     "output_type": "stream",
     "text": [
      "Epoch 123/250: Train Loss: 0.4473, Train Accuracy: 77.9720, Train IOU: 0.5935, Test Loss: 0.4125, Test Accuracy: 81.1356, Test IOU: 0.6630\n"
     ]
    },
    {
     "name": "stderr",
     "output_type": "stream",
     "text": [
      "100%|██████████| 246/246 [01:38<00:00,  2.50it/s]\n"
     ]
    },
    {
     "name": "stdout",
     "output_type": "stream",
     "text": [
      "Epoch 124/250: Train Loss: 0.4524, Train Accuracy: 77.4038, Train IOU: 0.5834, Test Loss: 0.4021, Test Accuracy: 80.9413, Test IOU: 0.6535\n"
     ]
    },
    {
     "name": "stderr",
     "output_type": "stream",
     "text": [
      "100%|██████████| 246/246 [01:14<00:00,  3.28it/s]\n"
     ]
    },
    {
     "name": "stdout",
     "output_type": "stream",
     "text": [
      "Epoch 125/250: Train Loss: 0.4485, Train Accuracy: 77.7894, Train IOU: 0.5898, Test Loss: 0.4119, Test Accuracy: 79.1198, Test IOU: 0.6112\n"
     ]
    },
    {
     "name": "stderr",
     "output_type": "stream",
     "text": [
      "100%|██████████| 246/246 [00:59<00:00,  4.11it/s]\n"
     ]
    },
    {
     "name": "stdout",
     "output_type": "stream",
     "text": [
      "Epoch 126/250: Train Loss: 0.4485, Train Accuracy: 77.6526, Train IOU: 0.5883, Test Loss: 0.4189, Test Accuracy: 80.6929, Test IOU: 0.6599\n"
     ]
    },
    {
     "name": "stderr",
     "output_type": "stream",
     "text": [
      "100%|██████████| 246/246 [01:10<00:00,  3.49it/s]\n"
     ]
    },
    {
     "name": "stdout",
     "output_type": "stream",
     "text": [
      "Epoch 127/250: Train Loss: 0.4585, Train Accuracy: 77.1065, Train IOU: 0.5812, Test Loss: 0.4139, Test Accuracy: 80.7148, Test IOU: 0.6541\n"
     ]
    },
    {
     "name": "stderr",
     "output_type": "stream",
     "text": [
      "100%|██████████| 246/246 [01:35<00:00,  2.59it/s]\n"
     ]
    },
    {
     "name": "stdout",
     "output_type": "stream",
     "text": [
      "Epoch 128/250: Train Loss: 0.4465, Train Accuracy: 78.1052, Train IOU: 0.5958, Test Loss: 0.4033, Test Accuracy: 79.9448, Test IOU: 0.6271\n"
     ]
    },
    {
     "name": "stderr",
     "output_type": "stream",
     "text": [
      "100%|██████████| 246/246 [01:37<00:00,  2.52it/s]\n"
     ]
    },
    {
     "name": "stdout",
     "output_type": "stream",
     "text": [
      "Epoch 129/250: Train Loss: 0.4503, Train Accuracy: 77.4748, Train IOU: 0.5855, Test Loss: 0.4073, Test Accuracy: 80.6737, Test IOU: 0.6484\n"
     ]
    },
    {
     "name": "stderr",
     "output_type": "stream",
     "text": [
      "100%|██████████| 246/246 [01:02<00:00,  3.92it/s]\n"
     ]
    },
    {
     "name": "stdout",
     "output_type": "stream",
     "text": [
      "Epoch 130/250: Train Loss: 0.4498, Train Accuracy: 77.6150, Train IOU: 0.5870, Test Loss: 0.4108, Test Accuracy: 79.9872, Test IOU: 0.6267\n"
     ]
    },
    {
     "name": "stderr",
     "output_type": "stream",
     "text": [
      "100%|██████████| 246/246 [01:00<00:00,  4.09it/s]\n"
     ]
    },
    {
     "name": "stdout",
     "output_type": "stream",
     "text": [
      "Epoch 131/250: Train Loss: 0.4534, Train Accuracy: 77.5667, Train IOU: 0.5868, Test Loss: 0.4050, Test Accuracy: 81.0108, Test IOU: 0.6590\n"
     ]
    },
    {
     "name": "stderr",
     "output_type": "stream",
     "text": [
      "100%|██████████| 246/246 [01:05<00:00,  3.73it/s]\n"
     ]
    },
    {
     "name": "stdout",
     "output_type": "stream",
     "text": [
      "Epoch 132/250: Train Loss: 0.4437, Train Accuracy: 78.4044, Train IOU: 0.6020, Test Loss: 0.3975, Test Accuracy: 80.9062, Test IOU: 0.6425\n"
     ]
    },
    {
     "name": "stderr",
     "output_type": "stream",
     "text": [
      "100%|██████████| 246/246 [01:16<00:00,  3.22it/s]\n"
     ]
    },
    {
     "name": "stdout",
     "output_type": "stream",
     "text": [
      "Epoch 133/250: Train Loss: 0.4417, Train Accuracy: 78.2993, Train IOU: 0.5996, Test Loss: 0.4077, Test Accuracy: 80.6571, Test IOU: 0.6511\n"
     ]
    },
    {
     "name": "stderr",
     "output_type": "stream",
     "text": [
      "100%|██████████| 246/246 [01:38<00:00,  2.51it/s]\n"
     ]
    },
    {
     "name": "stdout",
     "output_type": "stream",
     "text": [
      "Epoch 134/250: Train Loss: 0.4477, Train Accuracy: 77.7939, Train IOU: 0.5913, Test Loss: 0.4115, Test Accuracy: 81.7610, Test IOU: 0.6761\n"
     ]
    },
    {
     "name": "stderr",
     "output_type": "stream",
     "text": [
      "100%|██████████| 246/246 [01:41<00:00,  2.42it/s]\n"
     ]
    },
    {
     "name": "stdout",
     "output_type": "stream",
     "text": [
      "Epoch 135/250: Train Loss: 0.4395, Train Accuracy: 78.2939, Train IOU: 0.5993, Test Loss: 0.4151, Test Accuracy: 78.7027, Test IOU: 0.5940\n"
     ]
    },
    {
     "name": "stderr",
     "output_type": "stream",
     "text": [
      "100%|██████████| 246/246 [01:10<00:00,  3.49it/s]\n"
     ]
    },
    {
     "name": "stdout",
     "output_type": "stream",
     "text": [
      "Epoch 136/250: Train Loss: 0.4437, Train Accuracy: 78.1122, Train IOU: 0.5975, Test Loss: 0.4095, Test Accuracy: 81.6383, Test IOU: 0.6658\n"
     ]
    },
    {
     "name": "stderr",
     "output_type": "stream",
     "text": [
      "100%|██████████| 246/246 [00:59<00:00,  4.16it/s]\n"
     ]
    },
    {
     "name": "stdout",
     "output_type": "stream",
     "text": [
      "Epoch 137/250: Train Loss: 0.4404, Train Accuracy: 78.3492, Train IOU: 0.6013, Test Loss: 0.4019, Test Accuracy: 80.1267, Test IOU: 0.6243\n"
     ]
    },
    {
     "name": "stderr",
     "output_type": "stream",
     "text": [
      "100%|██████████| 246/246 [01:16<00:00,  3.22it/s]\n"
     ]
    },
    {
     "name": "stdout",
     "output_type": "stream",
     "text": [
      "Epoch 138/250: Train Loss: 0.4368, Train Accuracy: 78.8800, Train IOU: 0.6092, Test Loss: 0.4114, Test Accuracy: 80.7034, Test IOU: 0.6436\n"
     ]
    },
    {
     "name": "stderr",
     "output_type": "stream",
     "text": [
      "100%|██████████| 246/246 [01:38<00:00,  2.51it/s]\n"
     ]
    },
    {
     "name": "stdout",
     "output_type": "stream",
     "text": [
      "Epoch 139/250: Train Loss: 0.4402, Train Accuracy: 78.2041, Train IOU: 0.5972, Test Loss: 0.4122, Test Accuracy: 79.3295, Test IOU: 0.6222\n"
     ]
    },
    {
     "name": "stderr",
     "output_type": "stream",
     "text": [
      "100%|██████████| 246/246 [01:21<00:00,  3.03it/s]\n"
     ]
    },
    {
     "name": "stdout",
     "output_type": "stream",
     "text": [
      "Epoch 140/250: Train Loss: 0.4364, Train Accuracy: 78.5328, Train IOU: 0.6037, Test Loss: 0.4116, Test Accuracy: 80.5377, Test IOU: 0.6399\n"
     ]
    },
    {
     "name": "stderr",
     "output_type": "stream",
     "text": [
      "100%|██████████| 246/246 [01:19<00:00,  3.09it/s]\n"
     ]
    },
    {
     "name": "stdout",
     "output_type": "stream",
     "text": [
      "Epoch 141/250: Train Loss: 0.4393, Train Accuracy: 78.4592, Train IOU: 0.6017, Test Loss: 0.4219, Test Accuracy: 79.0815, Test IOU: 0.6134\n"
     ]
    },
    {
     "name": "stderr",
     "output_type": "stream",
     "text": [
      "100%|██████████| 246/246 [01:08<00:00,  3.61it/s]\n"
     ]
    },
    {
     "name": "stdout",
     "output_type": "stream",
     "text": [
      "Epoch 142/250: Train Loss: 0.4343, Train Accuracy: 78.9379, Train IOU: 0.6095, Test Loss: 0.3972, Test Accuracy: 80.5146, Test IOU: 0.6390\n"
     ]
    },
    {
     "name": "stderr",
     "output_type": "stream",
     "text": [
      "100%|██████████| 246/246 [01:04<00:00,  3.82it/s]\n"
     ]
    },
    {
     "name": "stdout",
     "output_type": "stream",
     "text": [
      "Epoch 143/250: Train Loss: 0.4396, Train Accuracy: 78.4149, Train IOU: 0.6025, Test Loss: 0.3939, Test Accuracy: 81.4199, Test IOU: 0.6545\n"
     ]
    },
    {
     "name": "stderr",
     "output_type": "stream",
     "text": [
      "100%|██████████| 246/246 [01:04<00:00,  3.81it/s]\n"
     ]
    },
    {
     "name": "stdout",
     "output_type": "stream",
     "text": [
      "Epoch 144/250: Train Loss: 0.4361, Train Accuracy: 78.8030, Train IOU: 0.6090, Test Loss: 0.4017, Test Accuracy: 79.7943, Test IOU: 0.6192\n"
     ]
    },
    {
     "name": "stderr",
     "output_type": "stream",
     "text": [
      "100%|██████████| 246/246 [01:03<00:00,  3.90it/s]\n"
     ]
    },
    {
     "name": "stdout",
     "output_type": "stream",
     "text": [
      "Epoch 145/250: Train Loss: 0.4318, Train Accuracy: 79.0515, Train IOU: 0.6127, Test Loss: 0.4216, Test Accuracy: 80.7817, Test IOU: 0.6594\n"
     ]
    },
    {
     "name": "stderr",
     "output_type": "stream",
     "text": [
      "100%|██████████| 246/246 [01:04<00:00,  3.82it/s]\n"
     ]
    },
    {
     "name": "stdout",
     "output_type": "stream",
     "text": [
      "Epoch 146/250: Train Loss: 0.4318, Train Accuracy: 79.1553, Train IOU: 0.6139, Test Loss: 0.4030, Test Accuracy: 79.9335, Test IOU: 0.6221\n"
     ]
    },
    {
     "name": "stderr",
     "output_type": "stream",
     "text": [
      "100%|██████████| 246/246 [01:01<00:00,  4.01it/s]\n"
     ]
    },
    {
     "name": "stdout",
     "output_type": "stream",
     "text": [
      "Epoch 147/250: Train Loss: 0.4335, Train Accuracy: 78.9854, Train IOU: 0.6121, Test Loss: 0.4100, Test Accuracy: 79.9590, Test IOU: 0.6259\n"
     ]
    },
    {
     "name": "stderr",
     "output_type": "stream",
     "text": [
      "100%|██████████| 246/246 [01:03<00:00,  3.88it/s]\n"
     ]
    },
    {
     "name": "stdout",
     "output_type": "stream",
     "text": [
      "Epoch 148/250: Train Loss: 0.4383, Train Accuracy: 78.7220, Train IOU: 0.6076, Test Loss: 0.4071, Test Accuracy: 77.7737, Test IOU: 0.5733\n"
     ]
    },
    {
     "name": "stderr",
     "output_type": "stream",
     "text": [
      "100%|██████████| 246/246 [01:31<00:00,  2.68it/s]\n"
     ]
    },
    {
     "name": "stdout",
     "output_type": "stream",
     "text": [
      "Epoch 149/250: Train Loss: 0.4370, Train Accuracy: 78.8806, Train IOU: 0.6098, Test Loss: 0.4121, Test Accuracy: 80.5047, Test IOU: 0.6402\n"
     ]
    },
    {
     "name": "stderr",
     "output_type": "stream",
     "text": [
      "100%|██████████| 246/246 [01:36<00:00,  2.56it/s]\n"
     ]
    },
    {
     "name": "stdout",
     "output_type": "stream",
     "text": [
      "Epoch 150/250: Train Loss: 0.4322, Train Accuracy: 78.9533, Train IOU: 0.6113, Test Loss: 0.4029, Test Accuracy: 80.1966, Test IOU: 0.6307\n"
     ]
    },
    {
     "name": "stderr",
     "output_type": "stream",
     "text": [
      "100%|██████████| 246/246 [01:24<00:00,  2.90it/s]\n"
     ]
    },
    {
     "name": "stdout",
     "output_type": "stream",
     "text": [
      "Epoch 151/250: Train Loss: 0.4324, Train Accuracy: 79.0308, Train IOU: 0.6125, Test Loss: 0.3979, Test Accuracy: 80.4553, Test IOU: 0.6376\n"
     ]
    },
    {
     "name": "stderr",
     "output_type": "stream",
     "text": [
      "100%|██████████| 246/246 [01:01<00:00,  3.99it/s]\n"
     ]
    },
    {
     "name": "stdout",
     "output_type": "stream",
     "text": [
      "Epoch 152/250: Train Loss: 0.4299, Train Accuracy: 79.1289, Train IOU: 0.6123, Test Loss: 0.4057, Test Accuracy: 80.0361, Test IOU: 0.6327\n"
     ]
    },
    {
     "name": "stderr",
     "output_type": "stream",
     "text": [
      "100%|██████████| 246/246 [01:02<00:00,  3.91it/s]\n"
     ]
    },
    {
     "name": "stdout",
     "output_type": "stream",
     "text": [
      "Epoch 153/250: Train Loss: 0.4295, Train Accuracy: 79.1513, Train IOU: 0.6141, Test Loss: 0.4087, Test Accuracy: 79.5782, Test IOU: 0.6178\n"
     ]
    },
    {
     "name": "stderr",
     "output_type": "stream",
     "text": [
      "100%|██████████| 246/246 [01:34<00:00,  2.62it/s]\n"
     ]
    },
    {
     "name": "stdout",
     "output_type": "stream",
     "text": [
      "Epoch 154/250: Train Loss: 0.4313, Train Accuracy: 79.2457, Train IOU: 0.6147, Test Loss: 0.4056, Test Accuracy: 79.1689, Test IOU: 0.6042\n"
     ]
    },
    {
     "name": "stderr",
     "output_type": "stream",
     "text": [
      "100%|██████████| 246/246 [01:35<00:00,  2.58it/s]\n"
     ]
    },
    {
     "name": "stdout",
     "output_type": "stream",
     "text": [
      "Epoch 155/250: Train Loss: 0.4300, Train Accuracy: 79.2088, Train IOU: 0.6153, Test Loss: 0.3973, Test Accuracy: 81.0709, Test IOU: 0.6484\n"
     ]
    },
    {
     "name": "stderr",
     "output_type": "stream",
     "text": [
      "100%|██████████| 246/246 [01:25<00:00,  2.86it/s]\n"
     ]
    },
    {
     "name": "stdout",
     "output_type": "stream",
     "text": [
      "Epoch 156/250: Train Loss: 0.4258, Train Accuracy: 79.3547, Train IOU: 0.6167, Test Loss: 0.4060, Test Accuracy: 79.7812, Test IOU: 0.6221\n"
     ]
    },
    {
     "name": "stderr",
     "output_type": "stream",
     "text": [
      "100%|██████████| 246/246 [01:04<00:00,  3.83it/s]\n"
     ]
    },
    {
     "name": "stdout",
     "output_type": "stream",
     "text": [
      "Epoch 157/250: Train Loss: 0.4295, Train Accuracy: 79.3401, Train IOU: 0.6178, Test Loss: 0.4013, Test Accuracy: 81.1473, Test IOU: 0.6497\n"
     ]
    },
    {
     "name": "stderr",
     "output_type": "stream",
     "text": [
      "100%|██████████| 246/246 [01:05<00:00,  3.74it/s]\n"
     ]
    },
    {
     "name": "stdout",
     "output_type": "stream",
     "text": [
      "Epoch 158/250: Train Loss: 0.4258, Train Accuracy: 79.3464, Train IOU: 0.6171, Test Loss: 0.3982, Test Accuracy: 81.1689, Test IOU: 0.6520\n"
     ]
    },
    {
     "name": "stderr",
     "output_type": "stream",
     "text": [
      "100%|██████████| 246/246 [01:31<00:00,  2.69it/s]\n"
     ]
    },
    {
     "name": "stdout",
     "output_type": "stream",
     "text": [
      "Epoch 159/250: Train Loss: 0.4295, Train Accuracy: 79.1085, Train IOU: 0.6138, Test Loss: 0.3990, Test Accuracy: 80.9504, Test IOU: 0.6468\n"
     ]
    },
    {
     "name": "stderr",
     "output_type": "stream",
     "text": [
      "100%|██████████| 246/246 [01:38<00:00,  2.50it/s]\n"
     ]
    },
    {
     "name": "stdout",
     "output_type": "stream",
     "text": [
      "Epoch 160/250: Train Loss: 0.4297, Train Accuracy: 79.1194, Train IOU: 0.6154, Test Loss: 0.3972, Test Accuracy: 81.9103, Test IOU: 0.6722\n"
     ]
    },
    {
     "name": "stderr",
     "output_type": "stream",
     "text": [
      "100%|██████████| 246/246 [01:32<00:00,  2.67it/s]\n"
     ]
    },
    {
     "name": "stdout",
     "output_type": "stream",
     "text": [
      "Epoch 161/250: Train Loss: 0.4244, Train Accuracy: 79.5907, Train IOU: 0.6224, Test Loss: 0.3941, Test Accuracy: 81.3306, Test IOU: 0.6572\n"
     ]
    },
    {
     "name": "stderr",
     "output_type": "stream",
     "text": [
      "100%|██████████| 246/246 [01:09<00:00,  3.52it/s]\n"
     ]
    },
    {
     "name": "stdout",
     "output_type": "stream",
     "text": [
      "Epoch 162/250: Train Loss: 0.4271, Train Accuracy: 79.2639, Train IOU: 0.6154, Test Loss: 0.3902, Test Accuracy: 80.7452, Test IOU: 0.6368\n"
     ]
    },
    {
     "name": "stderr",
     "output_type": "stream",
     "text": [
      "100%|██████████| 246/246 [01:05<00:00,  3.73it/s]\n"
     ]
    },
    {
     "name": "stdout",
     "output_type": "stream",
     "text": [
      "Epoch 163/250: Train Loss: 0.4268, Train Accuracy: 79.3780, Train IOU: 0.6181, Test Loss: 0.3976, Test Accuracy: 80.8314, Test IOU: 0.6373\n"
     ]
    },
    {
     "name": "stderr",
     "output_type": "stream",
     "text": [
      "100%|██████████| 246/246 [01:31<00:00,  2.68it/s]\n"
     ]
    },
    {
     "name": "stdout",
     "output_type": "stream",
     "text": [
      "Epoch 164/250: Train Loss: 0.4242, Train Accuracy: 79.8182, Train IOU: 0.6236, Test Loss: 0.3884, Test Accuracy: 81.8444, Test IOU: 0.6648\n"
     ]
    },
    {
     "name": "stderr",
     "output_type": "stream",
     "text": [
      "100%|██████████| 246/246 [01:30<00:00,  2.73it/s]\n"
     ]
    },
    {
     "name": "stdout",
     "output_type": "stream",
     "text": [
      "Epoch 165/250: Train Loss: 0.4197, Train Accuracy: 79.8116, Train IOU: 0.6233, Test Loss: 0.4115, Test Accuracy: 80.1117, Test IOU: 0.6319\n"
     ]
    },
    {
     "name": "stderr",
     "output_type": "stream",
     "text": [
      "100%|██████████| 246/246 [01:26<00:00,  2.86it/s]\n"
     ]
    },
    {
     "name": "stdout",
     "output_type": "stream",
     "text": [
      "Epoch 166/250: Train Loss: 0.4300, Train Accuracy: 79.1786, Train IOU: 0.6151, Test Loss: 0.3929, Test Accuracy: 81.7209, Test IOU: 0.6659\n"
     ]
    },
    {
     "name": "stderr",
     "output_type": "stream",
     "text": [
      "100%|██████████| 246/246 [01:11<00:00,  3.45it/s]\n"
     ]
    },
    {
     "name": "stdout",
     "output_type": "stream",
     "text": [
      "Epoch 167/250: Train Loss: 0.4273, Train Accuracy: 79.1998, Train IOU: 0.6137, Test Loss: 0.3900, Test Accuracy: 81.4300, Test IOU: 0.6583\n"
     ]
    },
    {
     "name": "stderr",
     "output_type": "stream",
     "text": [
      "100%|██████████| 246/246 [01:06<00:00,  3.70it/s]\n"
     ]
    },
    {
     "name": "stdout",
     "output_type": "stream",
     "text": [
      "Epoch 168/250: Train Loss: 0.4197, Train Accuracy: 79.8990, Train IOU: 0.6253, Test Loss: 0.3872, Test Accuracy: 81.6453, Test IOU: 0.6534\n"
     ]
    },
    {
     "name": "stderr",
     "output_type": "stream",
     "text": [
      "100%|██████████| 246/246 [01:14<00:00,  3.29it/s]\n"
     ]
    },
    {
     "name": "stdout",
     "output_type": "stream",
     "text": [
      "Epoch 169/250: Train Loss: 0.4242, Train Accuracy: 79.4438, Train IOU: 0.6177, Test Loss: 0.3818, Test Accuracy: 81.6855, Test IOU: 0.6550\n"
     ]
    },
    {
     "name": "stderr",
     "output_type": "stream",
     "text": [
      "100%|██████████| 246/246 [01:21<00:00,  3.02it/s]\n"
     ]
    },
    {
     "name": "stdout",
     "output_type": "stream",
     "text": [
      "Epoch 170/250: Train Loss: 0.4232, Train Accuracy: 79.5630, Train IOU: 0.6195, Test Loss: 0.3991, Test Accuracy: 80.7816, Test IOU: 0.6432\n"
     ]
    },
    {
     "name": "stderr",
     "output_type": "stream",
     "text": [
      "100%|██████████| 246/246 [01:21<00:00,  3.00it/s]\n"
     ]
    },
    {
     "name": "stdout",
     "output_type": "stream",
     "text": [
      "Epoch 171/250: Train Loss: 0.4192, Train Accuracy: 79.5552, Train IOU: 0.6190, Test Loss: 0.3962, Test Accuracy: 80.1845, Test IOU: 0.6273\n"
     ]
    },
    {
     "name": "stderr",
     "output_type": "stream",
     "text": [
      "100%|██████████| 246/246 [01:24<00:00,  2.90it/s]\n"
     ]
    },
    {
     "name": "stdout",
     "output_type": "stream",
     "text": [
      "Epoch 172/250: Train Loss: 0.4216, Train Accuracy: 79.6730, Train IOU: 0.6214, Test Loss: 0.3924, Test Accuracy: 81.4092, Test IOU: 0.6547\n"
     ]
    },
    {
     "name": "stderr",
     "output_type": "stream",
     "text": [
      "100%|██████████| 246/246 [01:23<00:00,  2.95it/s]\n"
     ]
    },
    {
     "name": "stdout",
     "output_type": "stream",
     "text": [
      "Epoch 173/250: Train Loss: 0.4206, Train Accuracy: 79.8486, Train IOU: 0.6244, Test Loss: 0.3885, Test Accuracy: 80.8142, Test IOU: 0.6354\n"
     ]
    },
    {
     "name": "stderr",
     "output_type": "stream",
     "text": [
      "100%|██████████| 246/246 [01:09<00:00,  3.53it/s]\n"
     ]
    },
    {
     "name": "stdout",
     "output_type": "stream",
     "text": [
      "Epoch 174/250: Train Loss: 0.4292, Train Accuracy: 79.0563, Train IOU: 0.6118, Test Loss: 0.3756, Test Accuracy: 81.9759, Test IOU: 0.6646\n"
     ]
    },
    {
     "name": "stderr",
     "output_type": "stream",
     "text": [
      "100%|██████████| 246/246 [01:02<00:00,  3.95it/s]\n"
     ]
    },
    {
     "name": "stdout",
     "output_type": "stream",
     "text": [
      "Epoch 175/250: Train Loss: 0.4239, Train Accuracy: 79.5396, Train IOU: 0.6200, Test Loss: 0.3906, Test Accuracy: 80.7744, Test IOU: 0.6355\n"
     ]
    },
    {
     "name": "stderr",
     "output_type": "stream",
     "text": [
      "100%|██████████| 246/246 [01:01<00:00,  4.03it/s]\n"
     ]
    },
    {
     "name": "stdout",
     "output_type": "stream",
     "text": [
      "Epoch 176/250: Train Loss: 0.4209, Train Accuracy: 79.6228, Train IOU: 0.6209, Test Loss: 0.3845, Test Accuracy: 81.5027, Test IOU: 0.6584\n"
     ]
    },
    {
     "name": "stderr",
     "output_type": "stream",
     "text": [
      "100%|██████████| 246/246 [01:29<00:00,  2.75it/s]\n"
     ]
    },
    {
     "name": "stdout",
     "output_type": "stream",
     "text": [
      "Epoch 177/250: Train Loss: 0.4219, Train Accuracy: 79.8104, Train IOU: 0.6244, Test Loss: 0.3930, Test Accuracy: 81.9604, Test IOU: 0.6648\n"
     ]
    },
    {
     "name": "stderr",
     "output_type": "stream",
     "text": [
      "100%|██████████| 246/246 [01:34<00:00,  2.61it/s]\n"
     ]
    },
    {
     "name": "stdout",
     "output_type": "stream",
     "text": [
      "Epoch 178/250: Train Loss: 0.4196, Train Accuracy: 79.7035, Train IOU: 0.6220, Test Loss: 0.3953, Test Accuracy: 79.6493, Test IOU: 0.6102\n"
     ]
    },
    {
     "name": "stderr",
     "output_type": "stream",
     "text": [
      "100%|██████████| 246/246 [01:25<00:00,  2.89it/s]\n"
     ]
    },
    {
     "name": "stdout",
     "output_type": "stream",
     "text": [
      "Epoch 179/250: Train Loss: 0.4219, Train Accuracy: 79.6592, Train IOU: 0.6231, Test Loss: 0.3929, Test Accuracy: 81.3311, Test IOU: 0.6495\n"
     ]
    },
    {
     "name": "stderr",
     "output_type": "stream",
     "text": [
      "100%|██████████| 246/246 [01:01<00:00,  3.98it/s]\n"
     ]
    },
    {
     "name": "stdout",
     "output_type": "stream",
     "text": [
      "Epoch 180/250: Train Loss: 0.4130, Train Accuracy: 80.3253, Train IOU: 0.6324, Test Loss: 0.3969, Test Accuracy: 79.6933, Test IOU: 0.6129\n"
     ]
    },
    {
     "name": "stderr",
     "output_type": "stream",
     "text": [
      "100%|██████████| 246/246 [01:01<00:00,  4.01it/s]\n"
     ]
    },
    {
     "name": "stdout",
     "output_type": "stream",
     "text": [
      "Epoch 181/250: Train Loss: 0.4160, Train Accuracy: 80.2067, Train IOU: 0.6302, Test Loss: 0.3995, Test Accuracy: 79.5166, Test IOU: 0.6072\n"
     ]
    },
    {
     "name": "stderr",
     "output_type": "stream",
     "text": [
      "100%|██████████| 246/246 [01:33<00:00,  2.63it/s]\n"
     ]
    },
    {
     "name": "stdout",
     "output_type": "stream",
     "text": [
      "Epoch 182/250: Train Loss: 0.4192, Train Accuracy: 79.9735, Train IOU: 0.6277, Test Loss: 0.4035, Test Accuracy: 77.4280, Test IOU: 0.5608\n"
     ]
    },
    {
     "name": "stderr",
     "output_type": "stream",
     "text": [
      "100%|██████████| 246/246 [01:36<00:00,  2.56it/s]\n"
     ]
    },
    {
     "name": "stdout",
     "output_type": "stream",
     "text": [
      "Epoch 183/250: Train Loss: 0.4194, Train Accuracy: 79.7351, Train IOU: 0.6229, Test Loss: 0.3892, Test Accuracy: 81.3359, Test IOU: 0.6503\n"
     ]
    },
    {
     "name": "stderr",
     "output_type": "stream",
     "text": [
      "100%|██████████| 246/246 [01:21<00:00,  3.03it/s]\n"
     ]
    },
    {
     "name": "stdout",
     "output_type": "stream",
     "text": [
      "Epoch 184/250: Train Loss: 0.4203, Train Accuracy: 79.8596, Train IOU: 0.6252, Test Loss: 0.3793, Test Accuracy: 82.5116, Test IOU: 0.6766\n"
     ]
    },
    {
     "name": "stderr",
     "output_type": "stream",
     "text": [
      "100%|██████████| 246/246 [01:01<00:00,  4.03it/s]\n"
     ]
    },
    {
     "name": "stdout",
     "output_type": "stream",
     "text": [
      "Epoch 185/250: Train Loss: 0.4209, Train Accuracy: 79.7950, Train IOU: 0.6246, Test Loss: 0.3869, Test Accuracy: 82.0093, Test IOU: 0.6644\n"
     ]
    },
    {
     "name": "stderr",
     "output_type": "stream",
     "text": [
      "100%|██████████| 246/246 [01:02<00:00,  3.96it/s]\n"
     ]
    },
    {
     "name": "stdout",
     "output_type": "stream",
     "text": [
      "Epoch 186/250: Train Loss: 0.4236, Train Accuracy: 79.6895, Train IOU: 0.6227, Test Loss: 0.3772, Test Accuracy: 81.4148, Test IOU: 0.6515\n"
     ]
    },
    {
     "name": "stderr",
     "output_type": "stream",
     "text": [
      "100%|██████████| 246/246 [01:35<00:00,  2.58it/s]\n"
     ]
    },
    {
     "name": "stdout",
     "output_type": "stream",
     "text": [
      "Epoch 187/250: Train Loss: 0.4192, Train Accuracy: 80.1384, Train IOU: 0.6310, Test Loss: 0.3857, Test Accuracy: 81.2526, Test IOU: 0.6476\n"
     ]
    },
    {
     "name": "stderr",
     "output_type": "stream",
     "text": [
      "100%|██████████| 246/246 [01:36<00:00,  2.56it/s]\n"
     ]
    },
    {
     "name": "stdout",
     "output_type": "stream",
     "text": [
      "Epoch 188/250: Train Loss: 0.4149, Train Accuracy: 80.0081, Train IOU: 0.6277, Test Loss: 0.3995, Test Accuracy: 82.3874, Test IOU: 0.6799\n"
     ]
    },
    {
     "name": "stderr",
     "output_type": "stream",
     "text": [
      "100%|██████████| 246/246 [01:19<00:00,  3.10it/s]\n"
     ]
    },
    {
     "name": "stdout",
     "output_type": "stream",
     "text": [
      "Epoch 189/250: Train Loss: 0.4171, Train Accuracy: 79.9165, Train IOU: 0.6246, Test Loss: 0.3954, Test Accuracy: 81.3875, Test IOU: 0.6538\n"
     ]
    },
    {
     "name": "stderr",
     "output_type": "stream",
     "text": [
      "100%|██████████| 246/246 [01:01<00:00,  4.00it/s]\n"
     ]
    },
    {
     "name": "stdout",
     "output_type": "stream",
     "text": [
      "Epoch 190/250: Train Loss: 0.4148, Train Accuracy: 79.9421, Train IOU: 0.6255, Test Loss: 0.3927, Test Accuracy: 81.0013, Test IOU: 0.6467\n"
     ]
    },
    {
     "name": "stderr",
     "output_type": "stream",
     "text": [
      "100%|██████████| 246/246 [01:03<00:00,  3.89it/s]\n"
     ]
    },
    {
     "name": "stdout",
     "output_type": "stream",
     "text": [
      "Epoch 191/250: Train Loss: 0.4154, Train Accuracy: 80.0522, Train IOU: 0.6275, Test Loss: 0.3794, Test Accuracy: 82.1518, Test IOU: 0.6643\n"
     ]
    },
    {
     "name": "stderr",
     "output_type": "stream",
     "text": [
      "100%|██████████| 246/246 [01:35<00:00,  2.59it/s]\n"
     ]
    },
    {
     "name": "stdout",
     "output_type": "stream",
     "text": [
      "Epoch 192/250: Train Loss: 0.4144, Train Accuracy: 80.3325, Train IOU: 0.6323, Test Loss: 0.3893, Test Accuracy: 81.5043, Test IOU: 0.6517\n"
     ]
    },
    {
     "name": "stderr",
     "output_type": "stream",
     "text": [
      "100%|██████████| 246/246 [01:35<00:00,  2.57it/s]\n"
     ]
    },
    {
     "name": "stdout",
     "output_type": "stream",
     "text": [
      "Epoch 193/250: Train Loss: 0.4174, Train Accuracy: 79.8954, Train IOU: 0.6245, Test Loss: 0.3833, Test Accuracy: 81.0312, Test IOU: 0.6384\n"
     ]
    },
    {
     "name": "stderr",
     "output_type": "stream",
     "text": [
      "100%|██████████| 246/246 [01:16<00:00,  3.23it/s]\n"
     ]
    },
    {
     "name": "stdout",
     "output_type": "stream",
     "text": [
      "Epoch 194/250: Train Loss: 0.4117, Train Accuracy: 80.3458, Train IOU: 0.6321, Test Loss: 0.3753, Test Accuracy: 81.8574, Test IOU: 0.6579\n"
     ]
    },
    {
     "name": "stderr",
     "output_type": "stream",
     "text": [
      "100%|██████████| 246/246 [01:00<00:00,  4.07it/s]\n"
     ]
    },
    {
     "name": "stdout",
     "output_type": "stream",
     "text": [
      "Epoch 195/250: Train Loss: 0.4125, Train Accuracy: 80.3738, Train IOU: 0.6321, Test Loss: 0.3907, Test Accuracy: 82.1259, Test IOU: 0.6694\n"
     ]
    },
    {
     "name": "stderr",
     "output_type": "stream",
     "text": [
      "100%|██████████| 246/246 [01:04<00:00,  3.81it/s]\n"
     ]
    },
    {
     "name": "stdout",
     "output_type": "stream",
     "text": [
      "Epoch 196/250: Train Loss: 0.4107, Train Accuracy: 80.3123, Train IOU: 0.6312, Test Loss: 0.3733, Test Accuracy: 83.0448, Test IOU: 0.6820\n"
     ]
    },
    {
     "name": "stderr",
     "output_type": "stream",
     "text": [
      "100%|██████████| 246/246 [02:09<00:00,  1.90it/s]\n"
     ]
    },
    {
     "name": "stdout",
     "output_type": "stream",
     "text": [
      "Epoch 197/250: Train Loss: 0.4094, Train Accuracy: 80.5453, Train IOU: 0.6356, Test Loss: 0.3830, Test Accuracy: 82.7543, Test IOU: 0.6790\n"
     ]
    },
    {
     "name": "stderr",
     "output_type": "stream",
     "text": [
      "100%|██████████| 246/246 [02:30<00:00,  1.64it/s]\n"
     ]
    },
    {
     "name": "stdout",
     "output_type": "stream",
     "text": [
      "Epoch 198/250: Train Loss: 0.4118, Train Accuracy: 80.4294, Train IOU: 0.6329, Test Loss: 0.3773, Test Accuracy: 81.4585, Test IOU: 0.6454\n"
     ]
    },
    {
     "name": "stderr",
     "output_type": "stream",
     "text": [
      "100%|██████████| 246/246 [01:59<00:00,  2.06it/s]\n"
     ]
    },
    {
     "name": "stdout",
     "output_type": "stream",
     "text": [
      "Epoch 199/250: Train Loss: 0.4118, Train Accuracy: 80.0992, Train IOU: 0.6273, Test Loss: 0.3780, Test Accuracy: 82.8874, Test IOU: 0.6815\n"
     ]
    },
    {
     "name": "stderr",
     "output_type": "stream",
     "text": [
      "100%|██████████| 246/246 [01:59<00:00,  2.05it/s]\n"
     ]
    },
    {
     "name": "stdout",
     "output_type": "stream",
     "text": [
      "Epoch 200/250: Train Loss: 0.4080, Train Accuracy: 80.7695, Train IOU: 0.6387, Test Loss: 0.3668, Test Accuracy: 82.9115, Test IOU: 0.6809\n"
     ]
    },
    {
     "name": "stderr",
     "output_type": "stream",
     "text": [
      "100%|██████████| 246/246 [02:19<00:00,  1.77it/s]\n"
     ]
    },
    {
     "name": "stdout",
     "output_type": "stream",
     "text": [
      "Epoch 201/250: Train Loss: 0.4029, Train Accuracy: 80.8029, Train IOU: 0.6386, Test Loss: 0.3989, Test Accuracy: 80.3924, Test IOU: 0.6374\n"
     ]
    },
    {
     "name": "stderr",
     "output_type": "stream",
     "text": [
      "100%|██████████| 246/246 [02:07<00:00,  1.92it/s]\n"
     ]
    },
    {
     "name": "stdout",
     "output_type": "stream",
     "text": [
      "Epoch 202/250: Train Loss: 0.4142, Train Accuracy: 80.2324, Train IOU: 0.6296, Test Loss: 0.3763, Test Accuracy: 82.1388, Test IOU: 0.6629\n"
     ]
    },
    {
     "name": "stderr",
     "output_type": "stream",
     "text": [
      "100%|██████████| 246/246 [01:38<00:00,  2.49it/s]\n"
     ]
    },
    {
     "name": "stdout",
     "output_type": "stream",
     "text": [
      "Epoch 203/250: Train Loss: 0.4119, Train Accuracy: 80.3603, Train IOU: 0.6335, Test Loss: 0.3853, Test Accuracy: 82.6582, Test IOU: 0.6897\n"
     ]
    },
    {
     "name": "stderr",
     "output_type": "stream",
     "text": [
      "100%|██████████| 246/246 [01:32<00:00,  2.66it/s]\n"
     ]
    },
    {
     "name": "stdout",
     "output_type": "stream",
     "text": [
      "Epoch 204/250: Train Loss: 0.4140, Train Accuracy: 80.3453, Train IOU: 0.6333, Test Loss: 0.3755, Test Accuracy: 82.7989, Test IOU: 0.6803\n"
     ]
    },
    {
     "name": "stderr",
     "output_type": "stream",
     "text": [
      "100%|██████████| 246/246 [02:04<00:00,  1.98it/s]\n"
     ]
    },
    {
     "name": "stdout",
     "output_type": "stream",
     "text": [
      "Epoch 205/250: Train Loss: 0.4102, Train Accuracy: 80.4819, Train IOU: 0.6345, Test Loss: 0.3754, Test Accuracy: 83.1017, Test IOU: 0.6868\n"
     ]
    },
    {
     "name": "stderr",
     "output_type": "stream",
     "text": [
      "100%|██████████| 246/246 [02:04<00:00,  1.98it/s]\n"
     ]
    },
    {
     "name": "stdout",
     "output_type": "stream",
     "text": [
      "Epoch 206/250: Train Loss: 0.4040, Train Accuracy: 80.9797, Train IOU: 0.6427, Test Loss: 0.3791, Test Accuracy: 81.9225, Test IOU: 0.6622\n"
     ]
    },
    {
     "name": "stderr",
     "output_type": "stream",
     "text": [
      "100%|██████████| 246/246 [01:46<00:00,  2.32it/s]\n"
     ]
    },
    {
     "name": "stdout",
     "output_type": "stream",
     "text": [
      "Epoch 207/250: Train Loss: 0.4076, Train Accuracy: 80.5007, Train IOU: 0.6344, Test Loss: 0.3905, Test Accuracy: 79.4430, Test IOU: 0.6055\n"
     ]
    },
    {
     "name": "stderr",
     "output_type": "stream",
     "text": [
      "100%|██████████| 246/246 [01:28<00:00,  2.78it/s]\n"
     ]
    },
    {
     "name": "stdout",
     "output_type": "stream",
     "text": [
      "Epoch 208/250: Train Loss: 0.4113, Train Accuracy: 80.4934, Train IOU: 0.6351, Test Loss: 0.3805, Test Accuracy: 81.2445, Test IOU: 0.6463\n"
     ]
    },
    {
     "name": "stderr",
     "output_type": "stream",
     "text": [
      "100%|██████████| 246/246 [02:01<00:00,  2.03it/s]\n"
     ]
    },
    {
     "name": "stdout",
     "output_type": "stream",
     "text": [
      "Epoch 209/250: Train Loss: 0.4052, Train Accuracy: 80.4768, Train IOU: 0.6349, Test Loss: 0.3789, Test Accuracy: 81.4893, Test IOU: 0.6505\n"
     ]
    },
    {
     "name": "stderr",
     "output_type": "stream",
     "text": [
      "100%|██████████| 246/246 [02:02<00:00,  2.01it/s]\n"
     ]
    },
    {
     "name": "stdout",
     "output_type": "stream",
     "text": [
      "Epoch 210/250: Train Loss: 0.4089, Train Accuracy: 80.6370, Train IOU: 0.6373, Test Loss: 0.3801, Test Accuracy: 81.5985, Test IOU: 0.6540\n"
     ]
    },
    {
     "name": "stderr",
     "output_type": "stream",
     "text": [
      "100%|██████████| 246/246 [01:57<00:00,  2.10it/s]\n"
     ]
    },
    {
     "name": "stdout",
     "output_type": "stream",
     "text": [
      "Epoch 211/250: Train Loss: 0.4081, Train Accuracy: 80.4115, Train IOU: 0.6318, Test Loss: 0.3756, Test Accuracy: 81.8649, Test IOU: 0.6583\n"
     ]
    },
    {
     "name": "stderr",
     "output_type": "stream",
     "text": [
      "100%|██████████| 246/246 [01:00<00:00,  4.03it/s]\n"
     ]
    },
    {
     "name": "stdout",
     "output_type": "stream",
     "text": [
      "Epoch 212/250: Train Loss: 0.4074, Train Accuracy: 80.6623, Train IOU: 0.6376, Test Loss: 0.3876, Test Accuracy: 80.2555, Test IOU: 0.6236\n"
     ]
    },
    {
     "name": "stderr",
     "output_type": "stream",
     "text": [
      "100%|██████████| 246/246 [00:58<00:00,  4.17it/s]\n"
     ]
    },
    {
     "name": "stdout",
     "output_type": "stream",
     "text": [
      "Epoch 213/250: Train Loss: 0.4073, Train Accuracy: 80.7649, Train IOU: 0.6392, Test Loss: 0.3729, Test Accuracy: 82.4510, Test IOU: 0.6712\n"
     ]
    },
    {
     "name": "stderr",
     "output_type": "stream",
     "text": [
      "100%|██████████| 246/246 [01:29<00:00,  2.75it/s]\n"
     ]
    },
    {
     "name": "stdout",
     "output_type": "stream",
     "text": [
      "Epoch 214/250: Train Loss: 0.4061, Train Accuracy: 81.1612, Train IOU: 0.6456, Test Loss: 0.3757, Test Accuracy: 81.2722, Test IOU: 0.6494\n"
     ]
    },
    {
     "name": "stderr",
     "output_type": "stream",
     "text": [
      "100%|██████████| 246/246 [01:25<00:00,  2.88it/s]\n"
     ]
    },
    {
     "name": "stdout",
     "output_type": "stream",
     "text": [
      "Epoch 215/250: Train Loss: 0.4071, Train Accuracy: 80.5348, Train IOU: 0.6357, Test Loss: 0.3738, Test Accuracy: 81.9724, Test IOU: 0.6601\n"
     ]
    },
    {
     "name": "stderr",
     "output_type": "stream",
     "text": [
      "100%|██████████| 246/246 [01:34<00:00,  2.59it/s]\n"
     ]
    },
    {
     "name": "stdout",
     "output_type": "stream",
     "text": [
      "Epoch 216/250: Train Loss: 0.4026, Train Accuracy: 80.9655, Train IOU: 0.6431, Test Loss: 0.3889, Test Accuracy: 82.3058, Test IOU: 0.6733\n"
     ]
    },
    {
     "name": "stderr",
     "output_type": "stream",
     "text": [
      "100%|██████████| 246/246 [01:08<00:00,  3.57it/s]\n"
     ]
    },
    {
     "name": "stdout",
     "output_type": "stream",
     "text": [
      "Epoch 217/250: Train Loss: 0.4013, Train Accuracy: 81.1634, Train IOU: 0.6454, Test Loss: 0.3757, Test Accuracy: 82.5431, Test IOU: 0.6750\n"
     ]
    },
    {
     "name": "stderr",
     "output_type": "stream",
     "text": [
      "100%|██████████| 246/246 [01:02<00:00,  3.93it/s]\n"
     ]
    },
    {
     "name": "stdout",
     "output_type": "stream",
     "text": [
      "Epoch 218/250: Train Loss: 0.3979, Train Accuracy: 81.1557, Train IOU: 0.6452, Test Loss: 0.3915, Test Accuracy: 82.5825, Test IOU: 0.6809\n"
     ]
    },
    {
     "name": "stderr",
     "output_type": "stream",
     "text": [
      "100%|██████████| 246/246 [01:15<00:00,  3.24it/s]\n"
     ]
    },
    {
     "name": "stdout",
     "output_type": "stream",
     "text": [
      "Epoch 219/250: Train Loss: 0.4024, Train Accuracy: 80.9545, Train IOU: 0.6426, Test Loss: 0.3812, Test Accuracy: 82.4779, Test IOU: 0.6712\n"
     ]
    },
    {
     "name": "stderr",
     "output_type": "stream",
     "text": [
      "100%|██████████| 246/246 [01:35<00:00,  2.58it/s]\n"
     ]
    },
    {
     "name": "stdout",
     "output_type": "stream",
     "text": [
      "Epoch 220/250: Train Loss: 0.4094, Train Accuracy: 80.5033, Train IOU: 0.6353, Test Loss: 0.3972, Test Accuracy: 81.4000, Test IOU: 0.6604\n"
     ]
    },
    {
     "name": "stderr",
     "output_type": "stream",
     "text": [
      "100%|██████████| 246/246 [01:35<00:00,  2.56it/s]\n"
     ]
    },
    {
     "name": "stdout",
     "output_type": "stream",
     "text": [
      "Epoch 221/250: Train Loss: 0.4040, Train Accuracy: 80.8492, Train IOU: 0.6416, Test Loss: 0.3768, Test Accuracy: 81.3798, Test IOU: 0.6478\n"
     ]
    },
    {
     "name": "stderr",
     "output_type": "stream",
     "text": [
      "100%|██████████| 246/246 [01:05<00:00,  3.73it/s]\n"
     ]
    },
    {
     "name": "stdout",
     "output_type": "stream",
     "text": [
      "Epoch 222/250: Train Loss: 0.4082, Train Accuracy: 80.7138, Train IOU: 0.6391, Test Loss: 0.3797, Test Accuracy: 81.8727, Test IOU: 0.6573\n"
     ]
    },
    {
     "name": "stderr",
     "output_type": "stream",
     "text": [
      "100%|██████████| 246/246 [01:01<00:00,  4.00it/s]\n"
     ]
    },
    {
     "name": "stdout",
     "output_type": "stream",
     "text": [
      "Epoch 223/250: Train Loss: 0.4064, Train Accuracy: 80.5893, Train IOU: 0.6375, Test Loss: 0.3747, Test Accuracy: 82.1124, Test IOU: 0.6631\n"
     ]
    },
    {
     "name": "stderr",
     "output_type": "stream",
     "text": [
      "100%|██████████| 246/246 [01:02<00:00,  3.92it/s]\n"
     ]
    },
    {
     "name": "stdout",
     "output_type": "stream",
     "text": [
      "Epoch 224/250: Train Loss: 0.4184, Train Accuracy: 79.9875, Train IOU: 0.6245, Test Loss: 0.3780, Test Accuracy: 80.8820, Test IOU: 0.6378\n"
     ]
    },
    {
     "name": "stderr",
     "output_type": "stream",
     "text": [
      "100%|██████████| 246/246 [01:14<00:00,  3.32it/s]\n"
     ]
    },
    {
     "name": "stdout",
     "output_type": "stream",
     "text": [
      "Epoch 225/250: Train Loss: 0.4109, Train Accuracy: 80.0486, Train IOU: 0.6271, Test Loss: 0.3763, Test Accuracy: 81.6929, Test IOU: 0.6566\n"
     ]
    },
    {
     "name": "stderr",
     "output_type": "stream",
     "text": [
      "100%|██████████| 246/246 [01:18<00:00,  3.12it/s]\n"
     ]
    },
    {
     "name": "stdout",
     "output_type": "stream",
     "text": [
      "Epoch 226/250: Train Loss: 0.4098, Train Accuracy: 80.3502, Train IOU: 0.6322, Test Loss: 0.3861, Test Accuracy: 81.7670, Test IOU: 0.6625\n"
     ]
    },
    {
     "name": "stderr",
     "output_type": "stream",
     "text": [
      "100%|██████████| 246/246 [01:20<00:00,  3.04it/s]\n"
     ]
    },
    {
     "name": "stdout",
     "output_type": "stream",
     "text": [
      "Epoch 227/250: Train Loss: 0.4062, Train Accuracy: 80.8123, Train IOU: 0.6406, Test Loss: 0.3678, Test Accuracy: 82.7007, Test IOU: 0.6809\n"
     ]
    },
    {
     "name": "stderr",
     "output_type": "stream",
     "text": [
      "100%|██████████| 246/246 [01:18<00:00,  3.11it/s]\n"
     ]
    },
    {
     "name": "stdout",
     "output_type": "stream",
     "text": [
      "Epoch 228/250: Train Loss: 0.4143, Train Accuracy: 80.2746, Train IOU: 0.6312, Test Loss: 0.3778, Test Accuracy: 81.0639, Test IOU: 0.6416\n"
     ]
    },
    {
     "name": "stderr",
     "output_type": "stream",
     "text": [
      "100%|██████████| 246/246 [01:18<00:00,  3.13it/s]\n"
     ]
    },
    {
     "name": "stdout",
     "output_type": "stream",
     "text": [
      "Epoch 229/250: Train Loss: 0.4101, Train Accuracy: 80.1622, Train IOU: 0.6298, Test Loss: 0.3599, Test Accuracy: 83.1483, Test IOU: 0.6872\n"
     ]
    },
    {
     "name": "stderr",
     "output_type": "stream",
     "text": [
      "100%|██████████| 246/246 [01:06<00:00,  3.72it/s]\n"
     ]
    },
    {
     "name": "stdout",
     "output_type": "stream",
     "text": [
      "Epoch 230/250: Train Loss: 0.4068, Train Accuracy: 80.6513, Train IOU: 0.6361, Test Loss: 0.3848, Test Accuracy: 81.6974, Test IOU: 0.6583\n"
     ]
    },
    {
     "name": "stderr",
     "output_type": "stream",
     "text": [
      "100%|██████████| 246/246 [01:03<00:00,  3.85it/s]\n"
     ]
    },
    {
     "name": "stdout",
     "output_type": "stream",
     "text": [
      "Epoch 231/250: Train Loss: 0.4060, Train Accuracy: 80.6040, Train IOU: 0.6370, Test Loss: 0.3803, Test Accuracy: 80.3295, Test IOU: 0.6231\n"
     ]
    },
    {
     "name": "stderr",
     "output_type": "stream",
     "text": [
      "100%|██████████| 246/246 [01:01<00:00,  3.99it/s]\n"
     ]
    },
    {
     "name": "stdout",
     "output_type": "stream",
     "text": [
      "Epoch 232/250: Train Loss: 0.4103, Train Accuracy: 80.4521, Train IOU: 0.6341, Test Loss: 0.4019, Test Accuracy: 80.3297, Test IOU: 0.6364\n"
     ]
    },
    {
     "name": "stderr",
     "output_type": "stream",
     "text": [
      "100%|██████████| 246/246 [01:04<00:00,  3.84it/s]\n"
     ]
    },
    {
     "name": "stdout",
     "output_type": "stream",
     "text": [
      "Epoch 233/250: Train Loss: 0.4055, Train Accuracy: 80.4442, Train IOU: 0.6347, Test Loss: 0.4074, Test Accuracy: 80.1885, Test IOU: 0.6364\n"
     ]
    },
    {
     "name": "stderr",
     "output_type": "stream",
     "text": [
      "100%|██████████| 246/246 [01:14<00:00,  3.28it/s]\n"
     ]
    },
    {
     "name": "stdout",
     "output_type": "stream",
     "text": [
      "Epoch 234/250: Train Loss: 0.4083, Train Accuracy: 80.5585, Train IOU: 0.6369, Test Loss: 0.3792, Test Accuracy: 81.4818, Test IOU: 0.6552\n"
     ]
    },
    {
     "name": "stderr",
     "output_type": "stream",
     "text": [
      "100%|██████████| 246/246 [01:16<00:00,  3.22it/s]\n"
     ]
    },
    {
     "name": "stdout",
     "output_type": "stream",
     "text": [
      "Epoch 235/250: Train Loss: 0.4040, Train Accuracy: 80.8377, Train IOU: 0.6408, Test Loss: 0.3698, Test Accuracy: 83.2540, Test IOU: 0.6918\n"
     ]
    },
    {
     "name": "stderr",
     "output_type": "stream",
     "text": [
      "100%|██████████| 246/246 [01:18<00:00,  3.12it/s]\n"
     ]
    },
    {
     "name": "stdout",
     "output_type": "stream",
     "text": [
      "Epoch 236/250: Train Loss: 0.4056, Train Accuracy: 80.5875, Train IOU: 0.6378, Test Loss: 0.3709, Test Accuracy: 83.3856, Test IOU: 0.6937\n"
     ]
    },
    {
     "name": "stderr",
     "output_type": "stream",
     "text": [
      "100%|██████████| 246/246 [01:18<00:00,  3.14it/s]\n"
     ]
    },
    {
     "name": "stdout",
     "output_type": "stream",
     "text": [
      "Epoch 237/250: Train Loss: 0.4016, Train Accuracy: 80.8691, Train IOU: 0.6412, Test Loss: 0.3810, Test Accuracy: 81.6897, Test IOU: 0.6555\n"
     ]
    },
    {
     "name": "stderr",
     "output_type": "stream",
     "text": [
      "100%|██████████| 246/246 [01:13<00:00,  3.33it/s]\n"
     ]
    },
    {
     "name": "stdout",
     "output_type": "stream",
     "text": [
      "Epoch 238/250: Train Loss: 0.4138, Train Accuracy: 80.1690, Train IOU: 0.6294, Test Loss: 0.3800, Test Accuracy: 80.4101, Test IOU: 0.6282\n"
     ]
    },
    {
     "name": "stderr",
     "output_type": "stream",
     "text": [
      "100%|██████████| 246/246 [01:01<00:00,  3.99it/s]\n"
     ]
    },
    {
     "name": "stdout",
     "output_type": "stream",
     "text": [
      "Epoch 239/250: Train Loss: 0.4155, Train Accuracy: 79.9778, Train IOU: 0.6263, Test Loss: 0.3849, Test Accuracy: 81.0366, Test IOU: 0.6446\n"
     ]
    },
    {
     "name": "stderr",
     "output_type": "stream",
     "text": [
      "100%|██████████| 246/246 [01:54<00:00,  2.15it/s]\n"
     ]
    },
    {
     "name": "stdout",
     "output_type": "stream",
     "text": [
      "Epoch 240/250: Train Loss: 0.4153, Train Accuracy: 79.7234, Train IOU: 0.6224, Test Loss: 0.3877, Test Accuracy: 82.4328, Test IOU: 0.6792\n"
     ]
    },
    {
     "name": "stderr",
     "output_type": "stream",
     "text": [
      "100%|██████████| 246/246 [10:49<00:00,  2.64s/it]   \n"
     ]
    },
    {
     "name": "stdout",
     "output_type": "stream",
     "text": [
      "Epoch 241/250: Train Loss: 0.4065, Train Accuracy: 80.5904, Train IOU: 0.6376, Test Loss: 0.3856, Test Accuracy: 81.1929, Test IOU: 0.6453\n"
     ]
    },
    {
     "name": "stderr",
     "output_type": "stream",
     "text": [
      "100%|██████████| 246/246 [01:36<00:00,  2.55it/s]\n"
     ]
    },
    {
     "name": "stdout",
     "output_type": "stream",
     "text": [
      "Epoch 242/250: Train Loss: 0.4038, Train Accuracy: 81.1129, Train IOU: 0.6458, Test Loss: 0.3855, Test Accuracy: 82.0502, Test IOU: 0.6648\n"
     ]
    },
    {
     "name": "stderr",
     "output_type": "stream",
     "text": [
      "100%|██████████| 246/246 [01:30<00:00,  2.70it/s]\n"
     ]
    },
    {
     "name": "stdout",
     "output_type": "stream",
     "text": [
      "Epoch 243/250: Train Loss: 0.4022, Train Accuracy: 80.7987, Train IOU: 0.6407, Test Loss: 0.3694, Test Accuracy: 81.3998, Test IOU: 0.6430\n"
     ]
    },
    {
     "name": "stderr",
     "output_type": "stream",
     "text": [
      "100%|██████████| 246/246 [01:04<00:00,  3.80it/s]\n"
     ]
    },
    {
     "name": "stdout",
     "output_type": "stream",
     "text": [
      "Epoch 244/250: Train Loss: 0.4072, Train Accuracy: 80.4112, Train IOU: 0.6350, Test Loss: 0.3542, Test Accuracy: 83.7140, Test IOU: 0.6989\n"
     ]
    },
    {
     "name": "stderr",
     "output_type": "stream",
     "text": [
      "100%|██████████| 246/246 [01:04<00:00,  3.82it/s]\n"
     ]
    },
    {
     "name": "stdout",
     "output_type": "stream",
     "text": [
      "Epoch 245/250: Train Loss: 0.4094, Train Accuracy: 80.3598, Train IOU: 0.6324, Test Loss: 0.3868, Test Accuracy: 80.0802, Test IOU: 0.6186\n"
     ]
    },
    {
     "name": "stderr",
     "output_type": "stream",
     "text": [
      "100%|██████████| 246/246 [01:39<00:00,  2.47it/s]\n"
     ]
    },
    {
     "name": "stdout",
     "output_type": "stream",
     "text": [
      "Epoch 246/250: Train Loss: 0.4059, Train Accuracy: 80.9075, Train IOU: 0.6426, Test Loss: 0.3805, Test Accuracy: 80.7066, Test IOU: 0.6336\n"
     ]
    },
    {
     "name": "stderr",
     "output_type": "stream",
     "text": [
      "100%|██████████| 246/246 [01:41<00:00,  2.43it/s]\n"
     ]
    },
    {
     "name": "stdout",
     "output_type": "stream",
     "text": [
      "Epoch 247/250: Train Loss: 0.4034, Train Accuracy: 80.5659, Train IOU: 0.6358, Test Loss: 0.3692, Test Accuracy: 82.6914, Test IOU: 0.6783\n"
     ]
    },
    {
     "name": "stderr",
     "output_type": "stream",
     "text": [
      "100%|██████████| 246/246 [01:26<00:00,  2.85it/s]\n"
     ]
    },
    {
     "name": "stdout",
     "output_type": "stream",
     "text": [
      "Epoch 248/250: Train Loss: 0.4147, Train Accuracy: 80.1024, Train IOU: 0.6303, Test Loss: 0.3657, Test Accuracy: 82.6824, Test IOU: 0.6749\n"
     ]
    },
    {
     "name": "stderr",
     "output_type": "stream",
     "text": [
      "100%|██████████| 246/246 [01:02<00:00,  3.91it/s]\n"
     ]
    },
    {
     "name": "stdout",
     "output_type": "stream",
     "text": [
      "Epoch 249/250: Train Loss: 0.4074, Train Accuracy: 80.4254, Train IOU: 0.6346, Test Loss: 0.3708, Test Accuracy: 82.1361, Test IOU: 0.6656\n"
     ]
    },
    {
     "name": "stderr",
     "output_type": "stream",
     "text": [
      "100%|██████████| 246/246 [01:32<00:00,  2.65it/s]\n"
     ]
    },
    {
     "name": "stdout",
     "output_type": "stream",
     "text": [
      "Epoch 250/250: Train Loss: 0.4117, Train Accuracy: 80.2158, Train IOU: 0.6320, Test Loss: 0.3974, Test Accuracy: 80.4900, Test IOU: 0.6365\n"
     ]
    },
    {
     "data": {
      "text/plain": [
       "<All keys matched successfully>"
      ]
     },
     "execution_count": 11,
     "metadata": {},
     "output_type": "execute_result"
    }
   ],
   "source": [
    "best_loss3 = float('inf')\n",
    "best_model_wts3 = None\n",
    "\n",
    "train_losses3 = []\n",
    "train_accuracies3 = []\n",
    "test_losses3 = []\n",
    "test_accuracies3 = []\n",
    "train_ious3 = []\n",
    "test_ious3 = []\n",
    "\n",
    "patience = 10\n",
    "# Initialize EarlyStopping\n",
    "early_stopping = EarlyStopping(patience=patience)\n",
    "\n",
    "for epoch in range(epochs):\n",
    "    train_loss, train_accuracy, train_iou = train(model_transunet, trainloader, optimizer, lossfn, DEVICE)\n",
    "    test_loss, test_accuracy, test_iou = evaluate(model_transunet, testloader, lossfn, DEVICE)\n",
    "\n",
    "    train_losses3.append(train_loss)\n",
    "    train_accuracies3.append(train_accuracy)\n",
    "    test_losses3.append(test_loss)\n",
    "    test_accuracies3.append(test_accuracy)\n",
    "    train_ious3.append(train_iou)\n",
    "    test_ious3.append(test_iou)\n",
    "\n",
    "    print(f'Epoch {epoch + 1}/{epochs}: Train Loss: {train_loss:.4f}, Train Accuracy: {train_accuracy:.4f}, Train IOU: {train_iou:.4f}, Test Loss: {test_loss:.4f}, Test Accuracy: {test_accuracy:.4f}, Test IOU: {test_iou:.4f}')\n",
    "\n",
    "    # Early stopping check\n",
    "    early_stopping(test_loss, model_transunet)\n",
    "    if early_stopping.early_stop:\n",
    "        print(\"Early stopping triggered\")\n",
    "        break\n",
    "\n",
    "    # Save the best model\n",
    "    if test_loss < best_loss3:\n",
    "        best_loss3 = test_loss\n",
    "\n",
    "        best_model_wts3 = model_transunet.state_dict()\n",
    "\n",
    "model_transunet.load_state_dict(best_model_wts3)\n"
   ]
  },
  {
   "cell_type": "code",
   "execution_count": 12,
   "metadata": {},
   "outputs": [],
   "source": [
    "torch.save(model_transunet, 'umodel_transunet_data_dne.pth')\n",
    "#load model\n",
    "#modelunet = torch.load('modelunet.pth')"
   ]
  },
  {
   "cell_type": "code",
   "execution_count": 13,
   "metadata": {},
   "outputs": [
    {
     "name": "stdout",
     "output_type": "stream",
     "text": [
      "[0.6446468922180858, 0.5971033699144193, 0.5839592535805896, 0.5771672795943128, 0.5684436761993703, 0.5664674373177009, 0.5628182602122547, 0.5547764962766228, 0.5535727269281217, 0.5499348805202702, 0.547441281802286, 0.5510017974832193, 0.5455704828103384, 0.5457512057893644, 0.5367391831506558, 0.5382124375763947, 0.5325114220623078, 0.5363763517480555, 0.5287909076465824, 0.5284787427361418, 0.5275722439211559, 0.524252770514023, 0.5163003750206009, 0.5160919934268889, 0.5086610388707339, 0.5227021024963721, 0.5089108403620681, 0.5102320908288646, 0.5049764406148011, 0.5046620521603561, 0.5043712781696785, 0.5006334722284379, 0.5015924782530079, 0.4987028465280688, 0.4981575776648715, 0.4973074538194067, 0.494161102103024, 0.491422487225959, 0.49139066246466906, 0.487242775113602, 0.4919679710050909, 0.4889398713906606, 0.48632539905668276, 0.4877616965431508, 0.49091873481506254, 0.48307446202611537, 0.4836291065060995, 0.48342766267497367, 0.4843429217978222, 0.4810816329426882, 0.48180824845302395, 0.4900553689254978, 0.49216103590116267, 0.4958399774097815, 0.502706884853239, 0.5015331656952214, 0.4950904904342279, 0.49095650550311176, 0.48927997985506444, 0.49354138982489826, 0.48879046822951094, 0.49946618068024395, 0.49629083857303713, 0.49698647917286165, 0.4925528048742108, 0.4939521783735694, 0.4904247077742243, 0.49610894833638414, 0.4884535679972269, 0.48854510740536017, 0.4846442191581416, 0.483768765519305, 0.4842599716370668, 0.4808799750436612, 0.4784836904789374, 0.48665958146254223, 0.49593198129801247, 0.49948507971395323, 0.4884763374561217, 0.48536037041888974, 0.48014419955935905, 0.47744961252542045, 0.4691468259183372, 0.467263584335645, 0.46590432585254915, 0.4672443691065641, 0.4724443165994272, 0.469932958483696, 0.46342038126980384, 0.4640334260657551, 0.4636167581003856, 0.46088684029210875, 0.45770744107118466, 0.4660359348465757, 0.4682912472786942, 0.4649455544909811, 0.46565776191106656, 0.46224620708120545, 0.47669296245264814, 0.4756619535325988, 0.47282773159383756, 0.47498235009550077, 0.469508143217583, 0.4663942461091328, 0.46875570060276406, 0.46043501697420103, 0.4627507888689274, 0.45797347768050867, 0.4626588169636765, 0.4594114096910973, 0.4609872919272601, 0.45942506727164356, 0.4604312721791306, 0.4596793912048262, 0.4589844811253431, 0.4568258015120902, 0.4561456294079137, 0.4526479753052316, 0.4552456058137785, 0.4618672575892472, 0.44999286471828215, 0.45361239929509356, 0.4472612922753745, 0.4523561050494512, 0.4484532320402502, 0.448478616834656, 0.45853951537027593, 0.44654249090973924, 0.45025491375264115, 0.4498052714559121, 0.4533513149594873, 0.44367143317935914, 0.44173588040398387, 0.4477073608375177, 0.43951442244091654, 0.44366843683448265, 0.44036083444347224, 0.43681142715419213, 0.4402478923642538, 0.4363649432978979, 0.43929012059196226, 0.4342984862443877, 0.43956219205042213, 0.43605554612671454, 0.43179125138899177, 0.4318314749535506, 0.4335453784078117, 0.43831750326524904, 0.4370301598455848, 0.43220456380669664, 0.43242346792201686, 0.42985268555036404, 0.42952517619947106, 0.4312685982483189, 0.43001303670367574, 0.4258333925551515, 0.42947663245646933, 0.4258218991562603, 0.4294839945992803, 0.42968396612299165, 0.42439519983481583, 0.42714568197242614, 0.4268039183888009, 0.42420178324711033, 0.41973238359621867, 0.4299723356962204, 0.4273279825361764, 0.41974910076071575, 0.4241584345577209, 0.4232315754260474, 0.4191627452770869, 0.42156195555760606, 0.42057117989392784, 0.4291503764991838, 0.4239031500448056, 0.42093093475190607, 0.42192745959855676, 0.4195638590954184, 0.42194428397872585, 0.4129649893782003, 0.4160167568825125, 0.41923594595940133, 0.419369049309715, 0.42034150829644706, 0.4208960552525714, 0.42358447853627246, 0.4191845484623095, 0.4148583257101416, 0.4171303393152671, 0.4148347898712003, 0.41541798582406547, 0.41436515033729676, 0.4173864025652893, 0.4117337749983237, 0.41249746774754875, 0.41066815431525067, 0.40938173500987574, 0.4118408617692265, 0.4117667223137569, 0.40797739433563823, 0.402878600770865, 0.41419266394483367, 0.41187053506936483, 0.4139902039272029, 0.4101763997620683, 0.40403848825916044, 0.40759614861108423, 0.41128795805985363, 0.40515796064845916, 0.40887303008296627, 0.4080721957654488, 0.4073518542497139, 0.40733372777458127, 0.40606627255920474, 0.40709857388240533, 0.4025854943244438, 0.401271248614885, 0.3978777260072832, 0.4024494462381534, 0.4094033197658818, 0.40401876336190756, 0.4081759664828215, 0.4063587815054064, 0.41842962837800746, 0.410860107197025, 0.40977764832295055, 0.40621717577058125, 0.41433307661758206, 0.410071745757165, 0.4067996760936287, 0.40596143440987037, 0.4103103203744423, 0.40551293489894247, 0.40828188732872167, 0.40398506541562273, 0.4055744630049884, 0.40157600159082957, 0.4137723489505489, 0.41550812076746935, 0.4152848235959929, 0.4064576584633773, 0.40375677490137457, 0.4022495758727314, 0.407173857214005, 0.4094231375833837, 0.4058740439453745, 0.40336579641675563, 0.41466133017850115, 0.4074273150626237, 0.41166715408728377]\n",
      "[58.083131901787134, 63.72636168967677, 65.18641037492048, 65.82628478227377, 66.3159746553455, 66.88631014059519, 67.0200951651459, 67.98734165026637, 67.89055666547392, 68.29351449437421, 68.45936549528865, 68.00030812659033, 68.58248101542621, 68.80437021037095, 69.17640744274809, 68.50235723053832, 69.27567266022582, 68.80640238599315, 69.48343912760416, 69.43781728962905, 69.63659155459806, 70.11681010704915, 70.90782806163526, 70.8633057883071, 72.09550619732029, 71.09042645714058, 72.3176594120249, 72.08715152497814, 72.89311532755845, 72.92228640490815, 72.96995827866571, 73.53123866268089, 73.20273052341763, 73.52508311963263, 73.8432409077807, 73.91835375293218, 74.12824635590609, 74.1387093036836, 74.2198006433385, 74.63219329601026, 74.45609444576972, 74.99350666696485, 74.88671455674499, 74.70272850444299, 74.49474383249841, 75.27979338745428, 74.86312283814408, 74.84556552411338, 74.73095144024332, 75.20075130705311, 75.13136924374801, 74.31913419534231, 74.32630155529381, 74.25060864319934, 73.88202541050414, 73.69810924578563, 74.01491043828523, 74.30667401573433, 74.41535852640942, 73.87043106040275, 74.48866516579199, 73.33826817325661, 73.58527651876591, 73.58579135729762, 73.47063913903466, 73.61314380441914, 74.07700245010336, 73.96458050676884, 74.68657049513955, 74.94320158436705, 75.0805236971712, 75.10112966289957, 75.06144361034907, 75.43458739613152, 75.44318123931497, 74.80785961976186, 74.22342858545046, 73.79785358147464, 74.90342856060154, 74.73203858043098, 75.53997476592319, 75.51986733162373, 76.52754456032324, 76.64983152433206, 76.45920615159828, 76.26895972487277, 75.87356839167859, 76.23754214997814, 76.67519683449626, 76.5894548644243, 76.7382090328304, 77.06134902915275, 76.76080291204477, 76.36380261137286, 76.18911626684756, 76.14352316043455, 76.3793525986999, 76.44460119970579, 75.24368247306377, 75.33830171929668, 75.67451069373212, 75.5258528148855, 75.9180549446863, 76.3229160454437, 75.97814817161657, 76.7038181295225, 76.5450545061029, 77.16529127902353, 76.52460384611561, 76.83636614384542, 76.66048627469982, 76.93591091165712, 76.66622792794807, 76.85394675373728, 76.95838442892216, 77.34140565983819, 77.15207941962866, 77.54035852640942, 77.52699446738828, 76.78541809547949, 77.50426780176527, 77.47571639432252, 77.97203782253897, 77.40379508215052, 77.78937575167978, 77.65260031508429, 77.10650106726106, 78.10519230578086, 77.47482882201217, 77.61503884507196, 77.5667263351324, 78.4044284189627, 78.2992887618281, 77.79392620989385, 78.29387092105001, 78.11220513651996, 78.34923198204913, 78.87996838596334, 78.2040762476642, 78.5328421944577, 78.45919543550215, 78.9379455721712, 78.4148758361661, 78.80304001669847, 79.05147406891102, 79.15534953731313, 78.98537128632913, 78.72195877191675, 78.880602033387, 78.9533309354127, 79.03083082980478, 79.1289001930761, 79.15130848192987, 79.24570874706782, 79.20879101935235, 79.35472638855757, 79.34005698478252, 79.34642840281091, 79.10851398497137, 79.11935277264234, 79.59065599902593, 79.26386554125915, 79.37799973038923, 79.81820919434837, 79.81158074531847, 79.17864462194856, 79.19984929130884, 79.89895031955709, 79.44376084034073, 79.56298828125, 79.55522066460917, 79.67300220906887, 79.84859942176567, 79.056283111184, 79.53964194572002, 79.62282913635099, 79.81038411458333, 79.70349959744752, 79.65916757365218, 80.32528476860688, 80.20667777413327, 79.9735133823851, 79.73511674021947, 79.85959662129254, 79.79497778506679, 79.68952363380646, 80.13837353267135, 80.00807123936467, 79.91649287954237, 79.94206008717, 80.05223708601702, 80.3325010498668, 79.89538993544251, 80.34575095916826, 80.3737758801487, 80.31229577295046, 80.54526137335003, 80.42936912323076, 80.0991603861025, 80.76948636664082, 80.80292213964098, 80.23237077941118, 80.36034503965888, 80.34527106442827, 80.48191293808642, 80.97967948622376, 80.50071192151718, 80.49339624458294, 80.47677154152751, 80.63698339098282, 80.41148489061506, 80.66226561257554, 80.76487300960163, 81.16120860170165, 80.53480308474475, 80.96552181486561, 81.1633883177779, 81.15567505814647, 80.95451219087946, 80.50332804672591, 80.84916209446565, 80.71376654937977, 80.5893309304429, 79.98751186535861, 80.04859749597448, 80.35017251361721, 80.81226300343909, 80.27462558891936, 80.1621966568265, 80.65129636808206, 80.60397004959844, 80.45210588372694, 80.4442078102636, 80.55853613157005, 80.83772149704794, 80.5874563901479, 80.86911655261014, 80.16902156761888, 79.97777574844943, 79.7234128995706, 80.59038933906847, 81.11291628150843, 80.79867297456464, 80.41122553002744, 80.35977662064647, 80.90754152254294, 80.56588054006639, 80.10243423112476, 80.42536301163923, 80.2157802436188]\n",
      "[0.5714560977874263, 0.5547157900948678, 0.5448481594362566, 0.5384112187931615, 0.5475068145221279, 0.5269475103385987, 0.5350712648322505, 0.5256217468169427, 0.5219086403808286, 0.513113746239293, 0.5136586220995072, 0.5262695824907672, 0.5147900177586463, 0.5101635821403996, 0.5049675707855532, 0.5096590369939804, 0.5071811224183729, 0.49034496901496766, 0.48978804148012595, 0.4866601747851218, 0.48390336911524495, 0.48485298214420197, 0.4798300987289798, 0.47973329597903835, 0.47250823532381364, 0.46330878330815223, 0.47173087395006613, 0.46465282190230583, 0.4644275697008256, 0.4560783447757844, 0.4561071237248759, 0.4484544934764985, 0.45908805824095206, 0.44975416939104756, 0.4432225357140264, 0.4585769748495471, 0.44536101770016456, 0.4433959121665647, 0.43827479164446553, 0.4433431029319763, 0.44030465041437455, 0.4469114782348756, 0.43892869978181775, 0.44081609912457004, 0.43725889921188354, 0.44214580472438564, 0.4359805535885595, 0.4270939601044501, 0.42921644160824435, 0.42561089752181885, 0.46237656954796086, 0.4418817648003178, 0.44723531507676645, 0.4501078580656359, 0.45134417039732777, 0.42518858803856757, 0.41611448170677307, 0.4364140451915802, 0.43672379370658626, 0.45124989892205886, 0.4401722545585325, 0.45129145729926323, 0.45595047454680165, 0.46038781827495945, 0.4663472588985197, 0.45099164833945615, 0.45206434640192217, 0.45609356414887214, 0.4472058891288696, 0.4443889721747368, 0.43661816850785284, 0.4406448867051832, 0.43945678443677966, 0.4327934771295517, 0.4247185477325993, 0.4668328204462605, 0.4421777480071591, 0.4351481511708229, 0.44372043830733143, 0.4345627230021261, 0.4421821270258196, 0.4084708520000981, 0.424560617535345, 0.41475984117677134, 0.41483928503528716, 0.42118791130281263, 0.42028764899699916, 0.420590476162972, 0.4210091089048693, 0.41528236914065575, 0.4073141279720491, 0.42166605687910513, 0.415914416793854, 0.4112818471847042, 0.42404774408186635, 0.4054630201670431, 0.4137861702230669, 0.4046862538783781, 0.4399145034051711, 0.4224041784482618, 0.4233301560724935, 0.4198869635020533, 0.42148088495577535, 0.44434660865414527, 0.4258572973551289, 0.4098327347347813, 0.4160061041193624, 0.41124033735644433, 0.4123684735067429, 0.41086542269875925, 0.4069381995547202, 0.4137023990192721, 0.42482299333618534, 0.4258680185002665, 0.417165536553629, 0.41531385289084527, 0.4429215803261726, 0.41157306009723293, 0.407615918786295, 0.40074526158071333, 0.4104083473643949, 0.40194339473401347, 0.41248180597059186, 0.4020979683245382, 0.4119364422175192, 0.41892306602770285, 0.41388971334503544, 0.4033305803614278, 0.4073401266528714, 0.41076465287516195, 0.4049539796767696, 0.3974621449747393, 0.40774578673224293, 0.4114557485426626, 0.4151474059589447, 0.4095304069980498, 0.40186047554016113, 0.4114097568296617, 0.41218366209537755, 0.41156857148293524, 0.42185681673788256, 0.39720531336722836, 0.3939073907752191, 0.4016702449129474, 0.42164219723593804, 0.4030370452711659, 0.40995788670355277, 0.4070755565358746, 0.4121449157114952, 0.40294641688946753, 0.39790062846675994, 0.40566492321029785, 0.4087104162862224, 0.4056107699871063, 0.3973231022396395, 0.4059641096861132, 0.4012720863665304, 0.3981609123368417, 0.3989655702344833, 0.3971850525948309, 0.3941045518844358, 0.39018972746787534, 0.3976196406349059, 0.38844725249275086, 0.41153884847317973, 0.3929204479340584, 0.38998639823928954, 0.3872491092451157, 0.38176188762149504, 0.39912878121099166, 0.3962388754852356, 0.3923787479439089, 0.3885214266277129, 0.3755541734637753, 0.3906391738883911, 0.3845443562153847, 0.39301864370223016, 0.3953365933510565, 0.39293809908051647, 0.3968500615127625, 0.3994585165093022, 0.4034691034786163, 0.3891637397389258, 0.37934938025090004, 0.38687582554355743, 0.37715053269940035, 0.3857157124627021, 0.3994843695432909, 0.39541616891660997, 0.3926816034701563, 0.3793558382218884, 0.38926984706232626, 0.38326116867603793, 0.37533727816997037, 0.39068030061260345, 0.3732767177204932, 0.3830097159070353, 0.3773145757375225, 0.37795699267618116, 0.3668045988005976, 0.39885478250442014, 0.3762561558715759, 0.38530542244834287, 0.3755370008368646, 0.3754378206306888, 0.3790912753151309, 0.39045980861110074, 0.3805271872589665, 0.3789211249639911, 0.380131836379728, 0.3756066214653753, 0.3876156879048194, 0.37287880047675104, 0.37570080113026405, 0.3738377666281116, 0.388895929100052, 0.3757224200714019, 0.39145295562282684, 0.38118183877198925, 0.3972040304253178, 0.3768449339174455, 0.3797371478811387, 0.3746680151070318, 0.37804506647010006, 0.37626179187528547, 0.3861209966482655, 0.3677648606319581, 0.3777524720757238, 0.35985077268654303, 0.3848462623934592, 0.38030741003251844, 0.40187021224729474, 0.4074276495845087, 0.37921320815240184, 0.3697847178386104, 0.3708886081172574, 0.38095261589173346, 0.3800316289547951, 0.3848503770366792, 0.38765483037117987, 0.3856163279664132, 0.38545333041298774, 0.3693663727852606, 0.3541687260712347, 0.3868115294364191, 0.38051591501120596, 0.36916864663362503, 0.365666453876803, 0.37080869367045743, 0.3973737878184165]\n",
      "[65.41658106858168, 67.14088315886211, 67.08163439742918, 68.22788579677179, 69.19031530860963, 70.22177223267593, 70.11154298859883, 68.47760270281536, 69.48320652411236, 69.98919665328856, 69.05172704681148, 70.56869258725547, 70.52500034735455, 70.84193656115028, 70.13514448956745, 72.25749008054656, 68.06583249472021, 71.45701152522389, 70.98068609470273, 70.75104442069201, 72.2000618291095, 72.03509012858072, 71.43830710310277, 73.40739800678035, 73.71134254021374, 75.49389474760227, 72.41085331614424, 76.83442898882113, 73.32962470325998, 74.73515766422923, 75.2937751087716, 75.52705160001429, 73.84766369331174, 76.11264794822631, 76.9874975933292, 72.73313320749175, 76.3493793766673, 75.19216770079078, 77.32066953085302, 76.45673674296557, 76.64870595544335, 75.19659957265466, 76.4744022028233, 76.5632691422129, 76.04508748868616, 78.6815922434737, 76.99358250067486, 78.99987445614202, 78.6705575338224, 78.0592693545954, 73.72602137123665, 76.70342670223577, 77.27765649314819, 76.21132765359026, 75.93812399763402, 79.54719977650217, 79.34169924356104, 77.24361884884718, 77.49632858648533, 73.45957562206237, 79.06271771686833, 75.03242182537792, 74.24636158516736, 77.07810440683753, 73.70196706880398, 76.87133230814119, 77.04075759019308, 76.22280896194582, 76.4619904805005, 76.89230694034235, 77.06507240853658, 76.86826504342925, 79.74068556374651, 79.37335502810595, 78.76643359176512, 74.74464478531505, 78.51978395043349, 78.38910730873665, 76.33845321531219, 77.71558373924194, 78.056924711398, 80.5137231097958, 79.68348681442137, 79.4914834867648, 80.50815923427179, 79.70371711544874, 80.06027035596894, 78.909202513656, 79.82698145920668, 81.12933151121062, 80.11907872145738, 81.55023528308402, 80.61132043357787, 79.48785177091273, 81.18233719492346, 80.71179273651867, 81.29595004446138, 80.55428915876684, 78.83938735093527, 79.33542205066215, 79.65553097608613, 80.08279257673559, 79.02782409171748, 78.82830301920572, 78.03841877758988, 80.53710441279217, 79.95909714117283, 78.60633105766482, 79.3809844226372, 79.54025888830665, 80.45673215292334, 78.81790099105214, 78.97840050177845, 80.8849954992775, 80.09316669247015, 80.53719435280901, 80.45108143876239, 80.2165954093623, 81.67486733537379, 80.77099807863313, 80.23667374277503, 79.47943152450934, 81.13558389307038, 80.9413010511941, 79.11978620823807, 80.69290223160411, 80.71483829157138, 79.94477807021723, 80.67367057490155, 79.98717703470369, 81.01084639386433, 80.90623374876938, 80.65706268558658, 81.76103607425846, 78.70270023501016, 81.63834548578029, 80.12674533254732, 80.703437619093, 79.32948290817137, 80.53766886393228, 79.08154309280519, 80.5145945975451, 81.4199246042143, 79.79433633447663, 80.78167612959699, 79.93346733775564, 79.9589699845973, 77.77370049701473, 80.50467328327458, 80.19655429250825, 80.4553334305926, 80.03612921489933, 79.57822598092925, 79.168899660188, 81.07089841268896, 79.7812299030583, 81.1472512842194, 81.16885549653836, 80.9503942970338, 81.91027137322155, 81.33056144404217, 80.74518219242252, 80.83143156718432, 81.84444148366045, 80.11167262627826, 81.72089181295256, 81.43002889989837, 81.64528637397581, 81.68550816977897, 80.78155517578125, 80.184468215074, 81.409231046351, 80.81417859085207, 81.97587176067073, 80.77437237995427, 81.50266941969957, 81.96039897639577, 79.64934682458397, 81.33107937448393, 79.69332749281473, 79.5166387790587, 77.42795556541381, 81.33593613539286, 82.51157621058022, 82.00933254831206, 81.41476080669621, 81.25263307152724, 82.38735354043604, 81.3874655622777, 81.00126933276168, 82.15180373773342, 81.5043348607009, 81.03120695284711, 81.85737423780488, 82.12593822944456, 83.0448367731358, 82.7543181132495, 81.45851197281505, 82.88741383126111, 82.91152395853182, 80.39239092570979, 82.13880585461129, 82.65819084353564, 82.79886633400025, 83.1017408913713, 81.92247840447155, 79.44299651355277, 81.24445783413523, 81.48933038478945, 81.59845863900533, 81.86492919921875, 80.25551462561134, 82.45099695717415, 81.27217486621888, 81.97244163451157, 82.30583377000762, 82.54307692613058, 82.58247065350292, 82.47789832634655, 81.40001684669556, 81.37975863324918, 81.87267644618585, 82.11241001036109, 80.88196855250412, 81.69285223736027, 81.76702483882748, 82.7007262687373, 81.06388619275597, 83.14830190767117, 81.69743297545891, 80.32946392772644, 80.32973064639704, 80.18853102273088, 81.4818002344147, 83.25403725228658, 83.3856225982914, 81.6896857284918, 80.41009360212621, 81.036575441438, 82.43276084341655, 81.19287568379224, 82.05015601181402, 81.39977493906409, 83.71402151216336, 80.08020912728658, 80.70660722934133, 82.69141592630525, 82.68239711358295, 82.13609834996666, 80.4899758439723]\n",
      "[array(0.17780785, dtype=float32), array(0.2899061, dtype=float32), array(0.32247078, dtype=float32), array(0.3368927, dtype=float32), array(0.35051277, dtype=float32), array(0.36329263, dtype=float32), array(0.3666481, dtype=float32), array(0.38654247, dtype=float32), array(0.38615412, dtype=float32), array(0.39315614, dtype=float32), array(0.39830703, dtype=float32), array(0.3931131, dtype=float32), array(0.40263706, dtype=float32), array(0.40617603, dtype=float32), array(0.40995932, dtype=float32), array(0.40035215, dtype=float32), array(0.41499373, dtype=float32), array(0.40874544, dtype=float32), array(0.4182709, dtype=float32), array(0.4191326, dtype=float32), array(0.4249179, dtype=float32), array(0.43387192, dtype=float32), array(0.44790488, dtype=float32), array(0.44713953, dtype=float32), array(0.47135487, dtype=float32), array(0.4579864, dtype=float32), array(0.47791323, dtype=float32), array(0.47669804, dtype=float32), array(0.4929744, dtype=float32), array(0.4954426, dtype=float32), array(0.49735445, dtype=float32), array(0.5064123, dtype=float32), array(0.50286514, dtype=float32), array(0.50987273, dtype=float32), array(0.5139451, dtype=float32), array(0.5157362, dtype=float32), array(0.52053756, dtype=float32), array(0.5199303, dtype=float32), array(0.5232011, dtype=float32), array(0.53157485, dtype=float32), array(0.5284445, dtype=float32), array(0.53741485, dtype=float32), array(0.5351679, dtype=float32), array(0.53321785, dtype=float32), array(0.5298075, dtype=float32), array(0.54183644, dtype=float32), array(0.53788286, dtype=float32), array(0.5369014, dtype=float32), array(0.53353953, dtype=float32), array(0.54031307, dtype=float32), array(0.541496, dtype=float32), array(0.53063357, dtype=float32), array(0.53154826, dtype=float32), array(0.5283759, dtype=float32), array(0.5221504, dtype=float32), array(0.5182371, dtype=float32), array(0.52081496, dtype=float32), array(0.52526224, dtype=float32), array(0.52742285, dtype=float32), array(0.51976347, dtype=float32), array(0.53051335, dtype=float32), array(0.5102213, dtype=float32), array(0.5135012, dtype=float32), array(0.51258725, dtype=float32), array(0.511174, dtype=float32), array(0.5155706, dtype=float32), array(0.52526325, dtype=float32), array(0.5239392, dtype=float32), array(0.53593224, dtype=float32), array(0.5415029, dtype=float32), array(0.542415, dtype=float32), array(0.5439541, dtype=float32), array(0.54464215, dtype=float32), array(0.5500973, dtype=float32), array(0.5531415, dtype=float32), array(0.5402942, dtype=float32), array(0.53324544, dtype=float32), array(0.52602446, dtype=float32), array(0.54137266, dtype=float32), array(0.5400451, dtype=float32), array(0.55236816, dtype=float32), array(0.5532964, dtype=float32), array(0.5702151, dtype=float32), array(0.5718716, dtype=float32), array(0.5674896, dtype=float32), array(0.56264484, dtype=float32), array(0.55703276, dtype=float32), array(0.56341124, dtype=float32), array(0.57127035, dtype=float32), array(0.5713009, dtype=float32), array(0.5741672, dtype=float32), array(0.57755166, dtype=float32), array(0.5716291, dtype=float32), array(0.5678722, dtype=float32), array(0.5641005, dtype=float32), array(0.5630443, dtype=float32), array(0.56681544, dtype=float32), array(0.56885785, dtype=float32), array(0.5453502, dtype=float32), array(0.54944086, dtype=float32), array(0.5552684, dtype=float32), array(0.5520608, dtype=float32), array(0.5601169, dtype=float32), array(0.5660773, dtype=float32), array(0.5607756, dtype=float32), array(0.5726052, dtype=float32), array(0.57068455, dtype=float32), array(0.5810751, dtype=float32), array(0.5692376, dtype=float32), array(0.5741039, dtype=float32), array(0.57289976, dtype=float32), array(0.57746243, dtype=float32), array(0.5727042, dtype=float32), array(0.5760927, dtype=float32), array(0.5759328, dtype=float32), array(0.5855855, dtype=float32), array(0.5815833, dtype=float32), array(0.58862907, dtype=float32), array(0.58775884, dtype=float32), array(0.5753564, dtype=float32), array(0.5869769, dtype=float32), array(0.5861934, dtype=float32), array(0.5935211, dtype=float32), array(0.583371, dtype=float32), array(0.58984435, dtype=float32), array(0.5882637, dtype=float32), array(0.58121324, dtype=float32), array(0.59583104, dtype=float32), array(0.5854987, dtype=float32), array(0.5870391, dtype=float32), array(0.5868093, dtype=float32), array(0.6019643, dtype=float32), array(0.5996235, dtype=float32), array(0.59133077, dtype=float32), array(0.59934896, dtype=float32), array(0.5975477, dtype=float32), array(0.6012582, dtype=float32), array(0.60924774, dtype=float32), array(0.597224, dtype=float32), array(0.60374844, dtype=float32), array(0.60171247, dtype=float32), array(0.60946536, dtype=float32), array(0.60254616, dtype=float32), array(0.60904557, dtype=float32), array(0.6126887, dtype=float32), array(0.6138781, dtype=float32), array(0.612053, dtype=float32), array(0.6076434, dtype=float32), array(0.60980994, dtype=float32), array(0.61125106, dtype=float32), array(0.6125282, dtype=float32), array(0.6123097, dtype=float32), array(0.6141022, dtype=float32), array(0.6147162, dtype=float32), array(0.61527115, dtype=float32), array(0.61669666, dtype=float32), array(0.6177503, dtype=float32), array(0.61708134, dtype=float32), array(0.61381525, dtype=float32), array(0.61535925, dtype=float32), array(0.62240416, dtype=float32), array(0.6153598, dtype=float32), array(0.61806244, dtype=float32), array(0.6236236, dtype=float32), array(0.6233081, dtype=float32), array(0.6151138, dtype=float32), array(0.61368245, dtype=float32), array(0.6253481, dtype=float32), array(0.61765194, dtype=float32), array(0.61952454, dtype=float32), array(0.61901313, dtype=float32), array(0.62139785, dtype=float32), array(0.62439513, dtype=float32), array(0.6117598, dtype=float32), array(0.61998254, dtype=float32), array(0.6208992, dtype=float32), array(0.62441176, dtype=float32), array(0.6219929, dtype=float32), array(0.62307084, dtype=float32), array(0.63235694, dtype=float32), array(0.63020784, dtype=float32), array(0.6276586, dtype=float32), array(0.62290025, dtype=float32), array(0.62515485, dtype=float32), array(0.6246177, dtype=float32), array(0.62270844, dtype=float32), array(0.6309577, dtype=float32), array(0.62765634, dtype=float32), array(0.6246055, dtype=float32), array(0.62552243, dtype=float32), array(0.62748957, dtype=float32), array(0.63232994, dtype=float32), array(0.62450135, dtype=float32), array(0.63209057, dtype=float32), array(0.632107, dtype=float32), array(0.63121355, dtype=float32), array(0.635649, dtype=float32), array(0.6329354, dtype=float32), array(0.6273297, dtype=float32), array(0.63874304, dtype=float32), array(0.63856804, dtype=float32), array(0.6296072, dtype=float32), array(0.6335443, dtype=float32), array(0.6332635, dtype=float32), array(0.6344525, dtype=float32), array(0.64268506, dtype=float32), array(0.6343907, dtype=float32), array(0.6350903, dtype=float32), array(0.6349421, dtype=float32), array(0.6372608, dtype=float32), array(0.63183475, dtype=float32), array(0.637566, dtype=float32), array(0.63922024, dtype=float32), array(0.64563024, dtype=float32), array(0.6356904, dtype=float32), array(0.64310306, dtype=float32), array(0.6454142, dtype=float32), array(0.645187, dtype=float32), array(0.6426101, dtype=float32), array(0.63526964, dtype=float32), array(0.64155763, dtype=float32), array(0.63907206, dtype=float32), array(0.63754433, dtype=float32), array(0.62451404, dtype=float32), array(0.62714845, dtype=float32), array(0.63221014, dtype=float32), array(0.64059114, dtype=float32), array(0.6311783, dtype=float32), array(0.629772, dtype=float32), array(0.63609034, dtype=float32), array(0.6369572, dtype=float32), array(0.6340881, dtype=float32), array(0.63468057, dtype=float32), array(0.63693285, dtype=float32), array(0.6407576, dtype=float32), array(0.6378231, dtype=float32), array(0.6412264, dtype=float32), array(0.6294444, dtype=float32), array(0.62625307, dtype=float32), array(0.622429, dtype=float32), array(0.6375943, dtype=float32), array(0.6457557, dtype=float32), array(0.6406733, dtype=float32), array(0.635028, dtype=float32), array(0.63239104, dtype=float32), array(0.64264745, dtype=float32), array(0.63582176, dtype=float32), array(0.63025504, dtype=float32), array(0.63455045, dtype=float32), array(0.6319894, dtype=float32)]\n",
      "[array(0.3529909, dtype=float32), array(0.38411018, dtype=float32), array(0.39157006, dtype=float32), array(0.39491713, dtype=float32), array(0.43698007, dtype=float32), array(0.45344138, dtype=float32), array(0.46204168, dtype=float32), array(0.40033263, dtype=float32), array(0.43616244, dtype=float32), array(0.4343114, dtype=float32), array(0.40786803, dtype=float32), array(0.4681403, dtype=float32), array(0.4485062, dtype=float32), array(0.45262128, dtype=float32), array(0.429367, dtype=float32), array(0.49302804, dtype=float32), array(0.37848037, dtype=float32), array(0.46224472, dtype=float32), array(0.44889197, dtype=float32), array(0.4429748, dtype=float32), array(0.4701889, dtype=float32), array(0.46394852, dtype=float32), array(0.44865975, dtype=float32), array(0.49801376, dtype=float32), array(0.50340706, dtype=float32), array(0.5407749, dtype=float32), array(0.4682254, dtype=float32), array(0.5738819, dtype=float32), array(0.48386613, dtype=float32), array(0.5206544, dtype=float32), array(0.52837825, dtype=float32), array(0.5356225, dtype=float32), array(0.49895954, dtype=float32), array(0.54980236, dtype=float32), array(0.57849914, dtype=float32), array(0.4704295, dtype=float32), array(0.5573513, dtype=float32), array(0.52591306, dtype=float32), array(0.57633084, dtype=float32), array(0.5568279, dtype=float32), array(0.55821884, dtype=float32), array(0.52151984, dtype=float32), array(0.5557272, dtype=float32), array(0.55953985, dtype=float32), array(0.5446133, dtype=float32), array(0.61171687, dtype=float32), array(0.56710094, dtype=float32), array(0.61166656, dtype=float32), array(0.60319865, dtype=float32), array(0.5880228, dtype=float32), array(0.49967927, dtype=float32), array(0.56413376, dtype=float32), array(0.5909057, dtype=float32), array(0.56191313, dtype=float32), array(0.5582864, dtype=float32), array(0.6240036, dtype=float32), array(0.6130764, dtype=float32), array(0.5721116, dtype=float32), array(0.57806987, dtype=float32), array(0.4857443, dtype=float32), array(0.6215971, dtype=float32), array(0.530092, dtype=float32), array(0.52279747, dtype=float32), array(0.5905498, dtype=float32), array(0.51775086, dtype=float32), array(0.5847172, dtype=float32), array(0.58777493, dtype=float32), array(0.5641091, dtype=float32), array(0.56627774, dtype=float32), array(0.5820649, dtype=float32), array(0.57178736, dtype=float32), array(0.57384616, dtype=float32), array(0.6508908, dtype=float32), array(0.6300647, dtype=float32), array(0.60561436, dtype=float32), array(0.53195745, dtype=float32), array(0.6135554, dtype=float32), array(0.6036339, dtype=float32), array(0.56195, dtype=float32), array(0.5898919, dtype=float32), array(0.6060927, dtype=float32), array(0.64396614, dtype=float32), array(0.6313782, dtype=float32), array(0.6141753, dtype=float32), array(0.6432161, dtype=float32), array(0.6286612, dtype=float32), array(0.6352725, dtype=float32), array(0.6123996, dtype=float32), array(0.6362589, dtype=float32), array(0.66835684, dtype=float32), array(0.62821037, dtype=float32), array(0.67569786, dtype=float32), array(0.64626217, dtype=float32), array(0.6197291, dtype=float32), array(0.66860646, dtype=float32), array(0.64507324, dtype=float32), array(0.66196716, dtype=float32), array(0.6406902, dtype=float32), array(0.61804366, dtype=float32), array(0.6181482, dtype=float32), array(0.6293712, dtype=float32), array(0.6405484, dtype=float32), array(0.61394954, dtype=float32), array(0.6211562, dtype=float32), array(0.5917969, dtype=float32), array(0.63758254, dtype=float32), array(0.6295196, dtype=float32), array(0.59130853, dtype=float32), array(0.61318624, dtype=float32), array(0.6147995, dtype=float32), array(0.6378258, dtype=float32), array(0.6024799, dtype=float32), array(0.6261929, dtype=float32), array(0.6661336, dtype=float32), array(0.63676685, dtype=float32), array(0.6528412, dtype=float32), array(0.666365, dtype=float32), array(0.6351966, dtype=float32), array(0.67162234, dtype=float32), array(0.6442237, dtype=float32), array(0.6379966, dtype=float32), array(0.611171, dtype=float32), array(0.6630248, dtype=float32), array(0.65346396, dtype=float32), array(0.61120945, dtype=float32), array(0.6599107, dtype=float32), array(0.6541259, dtype=float32), array(0.62708944, dtype=float32), array(0.64838266, dtype=float32), array(0.6267079, dtype=float32), array(0.65904605, dtype=float32), array(0.6424769, dtype=float32), array(0.6510747, dtype=float32), array(0.6761038, dtype=float32), array(0.59399605, dtype=float32), array(0.6657696, dtype=float32), array(0.62426627, dtype=float32), array(0.64357114, dtype=float32), array(0.6222321, dtype=float32), array(0.6398981, dtype=float32), array(0.613356, dtype=float32), array(0.6389503, dtype=float32), array(0.6545317, dtype=float32), array(0.6191992, dtype=float32), array(0.6594377, dtype=float32), array(0.6221166, dtype=float32), array(0.62594825, dtype=float32), array(0.5733317, dtype=float32), array(0.64017, dtype=float32), array(0.6306832, dtype=float32), array(0.6376438, dtype=float32), array(0.6327203, dtype=float32), array(0.61776024, dtype=float32), array(0.60424584, dtype=float32), array(0.64837253, dtype=float32), array(0.6221072, dtype=float32), array(0.64974606, dtype=float32), array(0.6520004, dtype=float32), array(0.64679, dtype=float32), array(0.6721963, dtype=float32), array(0.65719426, dtype=float32), array(0.63679516, dtype=float32), array(0.6372691, dtype=float32), array(0.6648066, dtype=float32), array(0.6318563, dtype=float32), array(0.6658501, dtype=float32), array(0.6582977, dtype=float32), array(0.6534265, dtype=float32), array(0.6550248, dtype=float32), array(0.64320064, dtype=float32), array(0.62731457, dtype=float32), array(0.65472907, dtype=float32), array(0.635387, dtype=float32), array(0.66457546, dtype=float32), array(0.63545966, dtype=float32), array(0.6583604, dtype=float32), array(0.664766, dtype=float32), array(0.6102071, dtype=float32), array(0.6494586, dtype=float32), array(0.61286086, dtype=float32), array(0.60724455, dtype=float32), array(0.5608482, dtype=float32), array(0.65030575, dtype=float32), array(0.6765514, dtype=float32), array(0.6644077, dtype=float32), array(0.65146846, dtype=float32), array(0.6476089, dtype=float32), array(0.6798606, dtype=float32), array(0.6538177, dtype=float32), array(0.6466968, dtype=float32), array(0.6642846, dtype=float32), array(0.65169036, dtype=float32), array(0.63837457, dtype=float32), array(0.65792334, dtype=float32), array(0.6694093, dtype=float32), array(0.6820388, dtype=float32), array(0.6789764, dtype=float32), array(0.64538413, dtype=float32), array(0.68154204, dtype=float32), array(0.6808762, dtype=float32), array(0.63740104, dtype=float32), array(0.66289556, dtype=float32), array(0.68973356, dtype=float32), array(0.6802751, dtype=float32), array(0.6868405, dtype=float32), array(0.6622345, dtype=float32), array(0.60546136, dtype=float32), array(0.6463461, dtype=float32), array(0.6504513, dtype=float32), array(0.65401334, dtype=float32), array(0.6582735, dtype=float32), array(0.62363315, dtype=float32), array(0.6711933, dtype=float32), array(0.6493745, dtype=float32), array(0.6601219, dtype=float32), array(0.67325616, dtype=float32), array(0.67501, dtype=float32), array(0.6809143, dtype=float32), array(0.67117023, dtype=float32), array(0.66042864, dtype=float32), array(0.6477695, dtype=float32), array(0.65729994, dtype=float32), array(0.66309917, dtype=float32), array(0.6377726, dtype=float32), array(0.65656435, dtype=float32), array(0.6624991, dtype=float32), array(0.6809004, dtype=float32), array(0.64161736, dtype=float32), array(0.68715054, dtype=float32), array(0.6583042, dtype=float32), array(0.62307984, dtype=float32), array(0.6363559, dtype=float32), array(0.63643044, dtype=float32), array(0.65522593, dtype=float32), array(0.6918226, dtype=float32), array(0.69370675, dtype=float32), array(0.65545195, dtype=float32), array(0.628219, dtype=float32), array(0.6445616, dtype=float32), array(0.67916375, dtype=float32), array(0.64528686, dtype=float32), array(0.6647991, dtype=float32), array(0.64303786, dtype=float32), array(0.69891655, dtype=float32), array(0.61857146, dtype=float32), array(0.63364464, dtype=float32), array(0.678273, dtype=float32), array(0.67490005, dtype=float32), array(0.66555446, dtype=float32), array(0.63650936, dtype=float32)]\n",
      "     train_losses  train_accuracies  test_losses  test_accuracies  train_ious  \\\n",
      "0        0.644647         58.083132     0.571456        65.416581  0.17780785   \n",
      "1        0.597103         63.726362     0.554716        67.140883   0.2899061   \n",
      "2        0.583959         65.186410     0.544848        67.081634  0.32247078   \n",
      "3        0.577167         65.826285     0.538411        68.227886   0.3368927   \n",
      "4        0.568444         66.315975     0.547507        69.190315  0.35051277   \n",
      "..            ...               ...          ...              ...         ...   \n",
      "245      0.405874         80.907542     0.380516        80.706607  0.64264745   \n",
      "246      0.403366         80.565881     0.369169        82.691416  0.63582176   \n",
      "247      0.414661         80.102434     0.365666        82.682397  0.63025504   \n",
      "248      0.407427         80.425363     0.370809        82.136098  0.63455045   \n",
      "249      0.411667         80.215780     0.397374        80.489976   0.6319894   \n",
      "\n",
      "      test_ious  \n",
      "0     0.3529909  \n",
      "1    0.38411018  \n",
      "2    0.39157006  \n",
      "3    0.39491713  \n",
      "4    0.43698007  \n",
      "..          ...  \n",
      "245  0.63364464  \n",
      "246    0.678273  \n",
      "247  0.67490005  \n",
      "248  0.66555446  \n",
      "249  0.63650936  \n",
      "\n",
      "[250 rows x 6 columns]\n"
     ]
    }
   ],
   "source": [
    "import pandas as pd\n",
    "\n",
    "trls = train_losses3\n",
    "print(trls)\n",
    "tracc = train_accuracies3\n",
    "print(tracc)\n",
    "tsls = test_losses3\n",
    "print(tsls)\n",
    "tsacc = test_accuracies3\n",
    "print(tsacc)\n",
    "triou = [t1.cpu().numpy() for t1 in train_ious3]\n",
    "print(triou)\n",
    "tsiou = [t2.cpu().numpy() for t2 in test_ious3]\n",
    "print(tsiou)\n",
    "\n",
    "# Create a dictionary to form the DataFrame\n",
    "data = {\n",
    "    'train_losses': trls,\n",
    "    'train_accuracies': tracc,\n",
    "    'test_losses': tsls,\n",
    "    'test_accuracies': tsacc,\n",
    "    'train_ious': triou,\n",
    "    'test_ious': tsiou\n",
    "}\n",
    "\n",
    "# Create the DataFrame\n",
    "df = pd.DataFrame(data)\n",
    "\n",
    "# Print the DataFrame\n",
    "print(df)\n",
    "\n",
    "# Save the DataFrame to a CSV file\n",
    "df.to_csv('performance_metrics_transunet_data_dne.csv', index=False)"
   ]
  },
  {
   "cell_type": "code",
   "execution_count": null,
   "metadata": {},
   "outputs": [],
   "source": [
    "import rasterio\n",
    "from rasterio.transform import from_origin\n",
    "from PIL import Image\n",
    "import numpy as np\n",
    "\n",
    "out_folder_img = './Data/Test_Results/Image'\n",
    "out_folder_label = './Data/Test_Results/Label'\n",
    "\n",
    "def save_image_rasterio(image, filepath):\n",
    "    # image is expected to be of shape (channels, height, width)\n",
    "    if image.ndim == 4 and image.shape[0] == 1:\n",
    "        image = image[0]  # Remove the channel dimension if it's single channel\n",
    "\n",
    "    height, width = image.shape[-2], image.shape[-1]\n",
    "    transform = from_origin(0, 0, 1, 1)  # Modify as per your coordinate reference system\n",
    "\n",
    "    with rasterio.open(\n",
    "        filepath,\n",
    "        'w',\n",
    "        driver='GTiff',\n",
    "        height=height,\n",
    "        width=width,\n",
    "        count=1 if image.ndim == 2 else image.shape[0],  # Set the count to number of channels\n",
    "        dtype=image.dtype,\n",
    "        crs='+proj=latlong',\n",
    "        transform=transform,\n",
    "    ) as dst:\n",
    "        if image.ndim == 2:\n",
    "            dst.write(image, 1)  # Assuming the image is single channel (grayscale)\n",
    "        else:\n",
    "            for band in range(image.shape[0]):\n",
    "                dst.write(image[band], band + 1)  # Write each channel separately\n",
    "\n",
    "def make(model, testloader, device):\n",
    "    model.eval()\n",
    "    predicted_images = []  # List to store predicted images\n",
    "    input_images = []  # List to store input images\n",
    "\n",
    "    with torch.no_grad():\n",
    "        for batch_idx, (x_batch, y_batch) in enumerate(testloader):\n",
    "            x_batch = x_batch.float().to(device)\n",
    "            y_batch = y_batch.float().to(device)\n",
    "\n",
    "            # Forward pass and loss calculation\n",
    "            yhat = model(x_batch)\n",
    "  \n",
    "            # Predictions\n",
    "            predicted_classes = (yhat > 0.5).float() # Round to get binary predictions\n",
    "            \n",
    "            # Saving predicted images\n",
    "            for i in range(predicted_classes.size(0)):  # Iterate over the batch dimension\n",
    "                predicted_image = predicted_classes[i].cpu().numpy()\n",
    "                input_image = x_batch[i].cpu().numpy()\n",
    "                save_image_rasterio(predicted_image, f\"{out_folder_label}/prediction_{batch_idx}_{i}.tif\")\n",
    "                save_image_rasterio(input_image, f\"{out_folder_img}/input_{batch_idx}_{i}.tif\")\n",
    "                #save_image_png(predicted_image, f\"{out_folder_img}/prediction_{batch_idx}_{i}.png\")\n",
    "                #save_image_png(input_image, f\"{out_folder_label}/input_{batch_idx}_{i}.png\")\n",
    "                predicted_images.append(predicted_image)  # Store the predicted image in the list\n",
    "                input_images.append(input_image)  # Store the input image in the list\n",
    "\n",
    "    return input_images, predicted_image\n",
    "\n",
    "\n",
    "def save_image_png(image, filepath):\n",
    "    # image is expected to be of shape (channels, height, width)\n",
    "    if image.ndim == 3 and image.shape[0] == 1:\n",
    "        image = image[0]  # Remove the channel dimension if it's single channel\n",
    "\n",
    "    if image.ndim == 2:  # Single channel image\n",
    "        image = (image * 255).astype(np.uint8)  # Convert to uint8\n",
    "        Image.fromarray(image).save(filepath)\n",
    "    else:  # Multi-channel image\n",
    "        if image.shape[0] == 4:  # Drop the fourth channel if present\n",
    "            image = image[:3, :, :]\n",
    "        image = np.transpose(image, (1, 2, 0))  # Convert from (channels, height, width) to (height, width, channels)\n",
    "        image = (image * 65535).astype(np.uint8)  # Convert to uint8\n",
    "        Image.fromarray(image).save(filepath)"
   ]
  }
 ],
 "metadata": {
  "kernelspec": {
   "display_name": "base",
   "language": "python",
   "name": "python3"
  },
  "language_info": {
   "codemirror_mode": {
    "name": "ipython",
    "version": 3
   },
   "file_extension": ".py",
   "mimetype": "text/x-python",
   "name": "python",
   "nbconvert_exporter": "python",
   "pygments_lexer": "ipython3",
   "version": "3.11.7"
  }
 },
 "nbformat": 4,
 "nbformat_minor": 2
}
